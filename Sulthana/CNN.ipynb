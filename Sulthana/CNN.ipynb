{
  "cells": [
    {
      "cell_type": "code",
      "execution_count": 30,
      "metadata": {
        "id": "GSpOdQflnOEl"
      },
      "outputs": [],
      "source": [
        "import numpy as np\n",
        "import pandas as pd\n",
        "import tensorflow as tf\n",
        "from sklearn.model_selection import train_test_split\n",
        "from sklearn.preprocessing import LabelEncoder\n",
        "from tensorflow.keras.preprocessing.text import Tokenizer\n",
        "from tensorflow.keras.preprocessing.sequence import pad_sequences\n",
        "from tensorflow.keras.models import Sequential\n",
        "from tensorflow.keras.layers import Embedding, Conv1D, GlobalMaxPooling1D, Dense, Dropout"
      ]
    },
    {
      "cell_type": "code",
      "execution_count": 2,
      "metadata": {
        "id": "oDnsCVWPndaL",
        "colab": {
          "base_uri": "https://localhost:8080/"
        },
        "outputId": "7a5dcdd3-48ab-4988-ca0c-d4a1f126623c"
      },
      "outputs": [
        {
          "output_type": "stream",
          "name": "stdout",
          "text": [
            "Mounted at /content/drive\n"
          ]
        }
      ],
      "source": [
        "from google.colab import drive\n",
        "drive.mount('/content/drive')"
      ]
    },
    {
      "cell_type": "code",
      "execution_count": 3,
      "metadata": {
        "id": "cqoC5yj9nXce"
      },
      "outputs": [],
      "source": [
        "df = pd.read_csv('/content/drive/MyDrive/Truth_Seeker/revised_cleaned_master_data.csv')"
      ]
    },
    {
      "cell_type": "code",
      "execution_count": 15,
      "metadata": {
        "id": "VlSJNscpnU9o"
      },
      "outputs": [],
      "source": [
        "X= df['lemmatized_text'].astype(str)\n",
        "y= df['label']"
      ]
    },
    {
      "cell_type": "code",
      "execution_count": 16,
      "metadata": {
        "id": "bE0rqEyClG2e"
      },
      "outputs": [],
      "source": [
        "label_encoder = LabelEncoder()\n",
        "encoded_labels = label_encoder.fit_transform(y)"
      ]
    },
    {
      "cell_type": "code",
      "execution_count": 17,
      "metadata": {
        "id": "EdfvSII8oCUV"
      },
      "outputs": [],
      "source": [
        "X_train, X_test, y_train, y_test = train_test_split(X, encoded_labels, test_size=0.2, random_state=42)"
      ]
    },
    {
      "cell_type": "code",
      "execution_count": 40,
      "metadata": {
        "id": "u30u0lyvoFD3"
      },
      "outputs": [],
      "source": [
        "max_len = 200\n",
        "\n",
        "tokenizer = Tokenizer(num_words=1000, oov_token=\"<OOV>\")\n",
        "tokenizer.fit_on_texts(X_train)\n",
        "X_train_seq = tokenizer.texts_to_sequences(X_train)\n",
        "X_test_seq = tokenizer.texts_to_sequences(X_test)"
      ]
    },
    {
      "cell_type": "code",
      "execution_count": 23,
      "metadata": {
        "id": "KADDruwooJRz"
      },
      "outputs": [],
      "source": [
        "X_train_pad = pad_sequences(X_train_seq, maxlen=max_len, padding='post', truncating='post')\n",
        "X_test_pad = pad_sequences(X_test_seq, maxlen=max_len, padding='post', truncating='post')"
      ]
    },
    {
      "cell_type": "code",
      "execution_count": 28,
      "metadata": {
        "id": "2aiRPPQ4oM3y"
      },
      "outputs": [],
      "source": [
        "model = Sequential([\n",
        "    Embedding(input_dim=1000, output_dim=128, input_length=max_len),\n",
        "    Conv1D(filters=128, kernel_size=5, activation='relu'),\n",
        "    GlobalMaxPooling1D(),\n",
        "    Dense(64, activation='relu'),\n",
        "    Dropout(0.5),\n",
        "    Dense(len(X), activation='softmax')\n",
        "])"
      ]
    },
    {
      "cell_type": "code",
      "execution_count": 39,
      "metadata": {
        "id": "oZlUtI7joOk_"
      },
      "outputs": [],
      "source": [
        "model.compile(optimizer='adam', loss='sparse_categorical_crossentropy', metrics=['accuracy'])"
      ]
    },
    {
      "cell_type": "code",
      "execution_count": 37,
      "metadata": {
        "colab": {
          "base_uri": "https://localhost:8080/"
        },
        "id": "nZHXpj6AotTQ",
        "outputId": "0383208d-17df-4387-d5be-08c21e5d71dd"
      },
      "outputs": [
        {
          "output_type": "stream",
          "name": "stdout",
          "text": [
            "Epoch 1/5\n",
            "956/956 - 13s - 13ms/step - accuracy: 0.7390 - loss: 0.7177 - val_accuracy: 0.8898 - val_loss: 0.2646\n",
            "Epoch 2/5\n",
            "956/956 - 6s - 6ms/step - accuracy: 0.9041 - loss: 0.2478 - val_accuracy: 0.9026 - val_loss: 0.2455\n",
            "Epoch 3/5\n",
            "956/956 - 10s - 11ms/step - accuracy: 0.9319 - loss: 0.1842 - val_accuracy: 0.9008 - val_loss: 0.2435\n",
            "Epoch 4/5\n",
            "956/956 - 6s - 6ms/step - accuracy: 0.9593 - loss: 0.1198 - val_accuracy: 0.8918 - val_loss: 0.3233\n",
            "Epoch 5/5\n",
            "956/956 - 6s - 6ms/step - accuracy: 0.9812 - loss: 0.0622 - val_accuracy: 0.8989 - val_loss: 0.3200\n"
          ]
        }
      ],
      "source": [
        "history = model.fit(X_train_pad, y_train,validation_data=(X_test_pad, y_test),epochs=5,batch_size=64,verbose=2)"
      ]
    },
    {
      "cell_type": "code",
      "execution_count": 38,
      "metadata": {
        "colab": {
          "base_uri": "https://localhost:8080/"
        },
        "id": "xDys5TZ4ouyB",
        "outputId": "7ffcd3c8-297f-4a56-882f-3c8e80fe90dc"
      },
      "outputs": [
        {
          "output_type": "stream",
          "name": "stdout",
          "text": [
            "Test Accuracy: 89.8908019065857\n"
          ]
        }
      ],
      "source": [
        "loss, accuracy = model.evaluate(X_test_pad, y_test, verbose=0)\n",
        "print(f\"Test Accuracy: {accuracy*100}\")"
      ]
    }
  ],
  "metadata": {
    "accelerator": "GPU",
    "colab": {
      "gpuType": "T4",
      "provenance": []
    },
    "kernelspec": {
      "display_name": "Python 3",
      "name": "python3"
    },
    "language_info": {
      "name": "python"
    }
  },
  "nbformat": 4,
  "nbformat_minor": 0
}