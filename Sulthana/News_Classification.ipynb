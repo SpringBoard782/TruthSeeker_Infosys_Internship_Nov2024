{
  "cells": [
    {
      "cell_type": "markdown",
      "source": [
        "#Data Collection"
      ],
      "metadata": {
        "id": "fTa4smIlrGwN"
      }
    },
    {
      "cell_type": "code",
      "execution_count": null,
      "metadata": {
        "id": "eV3eMYEnkINi"
      },
      "outputs": [],
      "source": [
        "import csv\n",
        "import pandas as pd"
      ]
    },
    {
      "cell_type": "code",
      "execution_count": null,
      "metadata": {
        "id": "DgVc0OXclszE"
      },
      "outputs": [],
      "source": [
        "df1 = pd.read_csv(\"/content/drive/MyDrive/Truth_Seeker/Fake.csv\")\n",
        "df2 = pd.read_csv(\"/content/drive/MyDrive/Truth_Seeker/True.csv\")\n",
        "df3 = pd.read_csv(\"/content/drive/MyDrive/Truth_Seeker/indian_news.csv\")\n",
        "df4 = pd.read_csv(\"/content/drive/MyDrive/Truth_Seeker/train.csv\")\n",
        "df5 = pd.read_csv(\"/content/drive/MyDrive/Truth_Seeker/test.csv\")\n",
        "df6 = pd.read_csv(\"/content/drive/MyDrive/Truth_Seeker/submit.csv\")\n",
        "df7 = pd.read_csv(\"/content/drive/MyDrive/Truth_Seeker/fake_ieee.csv\")\n",
        "df8 = pd.read_csv(\"/content/drive/MyDrive/Truth_Seeker/true_ieee.csv\")\n",
        "df9 = pd.read_csv(\"/content/drive/MyDrive/Truth_Seeker/news.csv\")"
      ]
    },
    {
      "cell_type": "code",
      "execution_count": null,
      "metadata": {
        "id": "n6EVsLe_2rdv"
      },
      "outputs": [],
      "source": [
        "df1['label']= 0\n",
        "df2['label'] = 1\n",
        "df10 = pd.concat([df1,df2])"
      ]
    },
    {
      "cell_type": "code",
      "execution_count": null,
      "metadata": {
        "colab": {
          "base_uri": "https://localhost:8080/"
        },
        "id": "Joa-UJjEvisB",
        "outputId": "5a41e373-339a-4bd6-b25f-1170f5b5881c"
      },
      "outputs": [
        {
          "output_type": "stream",
          "name": "stdout",
          "text": [
            "<class 'pandas.core.frame.DataFrame'>\n",
            "Index: 44898 entries, 0 to 21416\n",
            "Data columns (total 5 columns):\n",
            " #   Column   Non-Null Count  Dtype \n",
            "---  ------   --------------  ----- \n",
            " 0   title    44898 non-null  object\n",
            " 1   text     44898 non-null  object\n",
            " 2   subject  44898 non-null  object\n",
            " 3   date     44898 non-null  object\n",
            " 4   label    44898 non-null  int64 \n",
            "dtypes: int64(1), object(4)\n",
            "memory usage: 2.1+ MB\n"
          ]
        }
      ],
      "source": [
        "df10.head()\n",
        "df10.info()"
      ]
    },
    {
      "cell_type": "markdown",
      "metadata": {
        "id": "l37sNXyfYetU"
      },
      "source": [
        "**Combining df5 and df6 into df11**"
      ]
    },
    {
      "cell_type": "code",
      "execution_count": null,
      "metadata": {
        "colab": {
          "base_uri": "https://localhost:8080/"
        },
        "id": "FkmyLI2ovkzG",
        "outputId": "8094e635-4312-462d-b28b-e785fa0917dd"
      },
      "outputs": [
        {
          "name": "stdout",
          "output_type": "stream",
          "text": [
            "<class 'pandas.core.frame.DataFrame'>\n",
            "RangeIndex: 5200 entries, 0 to 5199\n",
            "Data columns (total 4 columns):\n",
            " #   Column  Non-Null Count  Dtype \n",
            "---  ------  --------------  ----- \n",
            " 0   id      5200 non-null   int64 \n",
            " 1   title   5078 non-null   object\n",
            " 2   author  4697 non-null   object\n",
            " 3   text    5193 non-null   object\n",
            "dtypes: int64(1), object(3)\n",
            "memory usage: 162.6+ KB\n"
          ]
        }
      ],
      "source": [
        "df5.info()"
      ]
    },
    {
      "cell_type": "code",
      "execution_count": null,
      "metadata": {
        "colab": {
          "base_uri": "https://localhost:8080/"
        },
        "id": "vxHEsYJSwpLU",
        "outputId": "887cedb0-d5fd-4dd9-9572-bd56322f2749"
      },
      "outputs": [
        {
          "name": "stdout",
          "output_type": "stream",
          "text": [
            "<class 'pandas.core.frame.DataFrame'>\n",
            "RangeIndex: 5200 entries, 0 to 5199\n",
            "Data columns (total 2 columns):\n",
            " #   Column  Non-Null Count  Dtype\n",
            "---  ------  --------------  -----\n",
            " 0   id      5200 non-null   int64\n",
            " 1   label   5200 non-null   int64\n",
            "dtypes: int64(2)\n",
            "memory usage: 81.4 KB\n"
          ]
        }
      ],
      "source": [
        "df6.info()"
      ]
    },
    {
      "cell_type": "code",
      "execution_count": null,
      "metadata": {
        "id": "pRnQw1f_w55a"
      },
      "outputs": [],
      "source": [
        "df11 = pd.merge(df5, df6, on='id', how='inner')"
      ]
    },
    {
      "cell_type": "code",
      "execution_count": null,
      "metadata": {
        "colab": {
          "base_uri": "https://localhost:8080/"
        },
        "id": "fmkyURf605Cm",
        "outputId": "83793820-a3e3-4885-d3ec-591110c9a168"
      },
      "outputs": [
        {
          "name": "stdout",
          "output_type": "stream",
          "text": [
            "<class 'pandas.core.frame.DataFrame'>\n",
            "RangeIndex: 5200 entries, 0 to 5199\n",
            "Data columns (total 5 columns):\n",
            " #   Column  Non-Null Count  Dtype \n",
            "---  ------  --------------  ----- \n",
            " 0   id      5200 non-null   int64 \n",
            " 1   title   5078 non-null   object\n",
            " 2   author  4697 non-null   object\n",
            " 3   text    5193 non-null   object\n",
            " 4   label   5200 non-null   int64 \n",
            "dtypes: int64(2), object(3)\n",
            "memory usage: 203.2+ KB\n"
          ]
        }
      ],
      "source": [
        "df11.info()"
      ]
    },
    {
      "cell_type": "code",
      "execution_count": null,
      "metadata": {
        "colab": {
          "base_uri": "https://localhost:8080/",
          "height": 226
        },
        "id": "zpH3WElJ2HXX",
        "outputId": "9d6bcc08-cd8b-49fa-ff18-241939dc79ad"
      },
      "outputs": [
        {
          "output_type": "execute_result",
          "data": {
            "text/plain": [
              "      id                                              title  \\\n",
              "0  20800  Specter of Trump Loosens Tongues, if Not Purse...   \n",
              "1  20801  Russian warships ready to strike terrorists ne...   \n",
              "2  20802  #NoDAPL: Native American Leaders Vow to Stay A...   \n",
              "3  20803  Tim Tebow Will Attempt Another Comeback, This ...   \n",
              "4  20804                    Keiser Report: Meme Wars (E995)   \n",
              "\n",
              "                    author                                               text  \\\n",
              "0         David Streitfeld  PALO ALTO, Calif.  —   After years of scorning...   \n",
              "1                      NaN  Russian warships ready to strike terrorists ne...   \n",
              "2            Common Dreams  Videos #NoDAPL: Native American Leaders Vow to...   \n",
              "3            Daniel Victor  If at first you don’t succeed, try a different...   \n",
              "4  Truth Broadcast Network  42 mins ago 1 Views 0 Comments 0 Likes 'For th...   \n",
              "\n",
              "   label  \n",
              "0      0  \n",
              "1      1  \n",
              "2      0  \n",
              "3      1  \n",
              "4      1  "
            ],
            "text/html": [
              "\n",
              "  <div id=\"df-9199a2a2-a000-4e06-b033-c9da825f12f9\" class=\"colab-df-container\">\n",
              "    <div>\n",
              "<style scoped>\n",
              "    .dataframe tbody tr th:only-of-type {\n",
              "        vertical-align: middle;\n",
              "    }\n",
              "\n",
              "    .dataframe tbody tr th {\n",
              "        vertical-align: top;\n",
              "    }\n",
              "\n",
              "    .dataframe thead th {\n",
              "        text-align: right;\n",
              "    }\n",
              "</style>\n",
              "<table border=\"1\" class=\"dataframe\">\n",
              "  <thead>\n",
              "    <tr style=\"text-align: right;\">\n",
              "      <th></th>\n",
              "      <th>id</th>\n",
              "      <th>title</th>\n",
              "      <th>author</th>\n",
              "      <th>text</th>\n",
              "      <th>label</th>\n",
              "    </tr>\n",
              "  </thead>\n",
              "  <tbody>\n",
              "    <tr>\n",
              "      <th>0</th>\n",
              "      <td>20800</td>\n",
              "      <td>Specter of Trump Loosens Tongues, if Not Purse...</td>\n",
              "      <td>David Streitfeld</td>\n",
              "      <td>PALO ALTO, Calif.  —   After years of scorning...</td>\n",
              "      <td>0</td>\n",
              "    </tr>\n",
              "    <tr>\n",
              "      <th>1</th>\n",
              "      <td>20801</td>\n",
              "      <td>Russian warships ready to strike terrorists ne...</td>\n",
              "      <td>NaN</td>\n",
              "      <td>Russian warships ready to strike terrorists ne...</td>\n",
              "      <td>1</td>\n",
              "    </tr>\n",
              "    <tr>\n",
              "      <th>2</th>\n",
              "      <td>20802</td>\n",
              "      <td>#NoDAPL: Native American Leaders Vow to Stay A...</td>\n",
              "      <td>Common Dreams</td>\n",
              "      <td>Videos #NoDAPL: Native American Leaders Vow to...</td>\n",
              "      <td>0</td>\n",
              "    </tr>\n",
              "    <tr>\n",
              "      <th>3</th>\n",
              "      <td>20803</td>\n",
              "      <td>Tim Tebow Will Attempt Another Comeback, This ...</td>\n",
              "      <td>Daniel Victor</td>\n",
              "      <td>If at first you don’t succeed, try a different...</td>\n",
              "      <td>1</td>\n",
              "    </tr>\n",
              "    <tr>\n",
              "      <th>4</th>\n",
              "      <td>20804</td>\n",
              "      <td>Keiser Report: Meme Wars (E995)</td>\n",
              "      <td>Truth Broadcast Network</td>\n",
              "      <td>42 mins ago 1 Views 0 Comments 0 Likes 'For th...</td>\n",
              "      <td>1</td>\n",
              "    </tr>\n",
              "  </tbody>\n",
              "</table>\n",
              "</div>\n",
              "    <div class=\"colab-df-buttons\">\n",
              "\n",
              "  <div class=\"colab-df-container\">\n",
              "    <button class=\"colab-df-convert\" onclick=\"convertToInteractive('df-9199a2a2-a000-4e06-b033-c9da825f12f9')\"\n",
              "            title=\"Convert this dataframe to an interactive table.\"\n",
              "            style=\"display:none;\">\n",
              "\n",
              "  <svg xmlns=\"http://www.w3.org/2000/svg\" height=\"24px\" viewBox=\"0 -960 960 960\">\n",
              "    <path d=\"M120-120v-720h720v720H120Zm60-500h600v-160H180v160Zm220 220h160v-160H400v160Zm0 220h160v-160H400v160ZM180-400h160v-160H180v160Zm440 0h160v-160H620v160ZM180-180h160v-160H180v160Zm440 0h160v-160H620v160Z\"/>\n",
              "  </svg>\n",
              "    </button>\n",
              "\n",
              "  <style>\n",
              "    .colab-df-container {\n",
              "      display:flex;\n",
              "      gap: 12px;\n",
              "    }\n",
              "\n",
              "    .colab-df-convert {\n",
              "      background-color: #E8F0FE;\n",
              "      border: none;\n",
              "      border-radius: 50%;\n",
              "      cursor: pointer;\n",
              "      display: none;\n",
              "      fill: #1967D2;\n",
              "      height: 32px;\n",
              "      padding: 0 0 0 0;\n",
              "      width: 32px;\n",
              "    }\n",
              "\n",
              "    .colab-df-convert:hover {\n",
              "      background-color: #E2EBFA;\n",
              "      box-shadow: 0px 1px 2px rgba(60, 64, 67, 0.3), 0px 1px 3px 1px rgba(60, 64, 67, 0.15);\n",
              "      fill: #174EA6;\n",
              "    }\n",
              "\n",
              "    .colab-df-buttons div {\n",
              "      margin-bottom: 4px;\n",
              "    }\n",
              "\n",
              "    [theme=dark] .colab-df-convert {\n",
              "      background-color: #3B4455;\n",
              "      fill: #D2E3FC;\n",
              "    }\n",
              "\n",
              "    [theme=dark] .colab-df-convert:hover {\n",
              "      background-color: #434B5C;\n",
              "      box-shadow: 0px 1px 3px 1px rgba(0, 0, 0, 0.15);\n",
              "      filter: drop-shadow(0px 1px 2px rgba(0, 0, 0, 0.3));\n",
              "      fill: #FFFFFF;\n",
              "    }\n",
              "  </style>\n",
              "\n",
              "    <script>\n",
              "      const buttonEl =\n",
              "        document.querySelector('#df-9199a2a2-a000-4e06-b033-c9da825f12f9 button.colab-df-convert');\n",
              "      buttonEl.style.display =\n",
              "        google.colab.kernel.accessAllowed ? 'block' : 'none';\n",
              "\n",
              "      async function convertToInteractive(key) {\n",
              "        const element = document.querySelector('#df-9199a2a2-a000-4e06-b033-c9da825f12f9');\n",
              "        const dataTable =\n",
              "          await google.colab.kernel.invokeFunction('convertToInteractive',\n",
              "                                                    [key], {});\n",
              "        if (!dataTable) return;\n",
              "\n",
              "        const docLinkHtml = 'Like what you see? Visit the ' +\n",
              "          '<a target=\"_blank\" href=https://colab.research.google.com/notebooks/data_table.ipynb>data table notebook</a>'\n",
              "          + ' to learn more about interactive tables.';\n",
              "        element.innerHTML = '';\n",
              "        dataTable['output_type'] = 'display_data';\n",
              "        await google.colab.output.renderOutput(dataTable, element);\n",
              "        const docLink = document.createElement('div');\n",
              "        docLink.innerHTML = docLinkHtml;\n",
              "        element.appendChild(docLink);\n",
              "      }\n",
              "    </script>\n",
              "  </div>\n",
              "\n",
              "\n",
              "<div id=\"df-961e1b06-4088-4ba8-ae77-bc784c6816fd\">\n",
              "  <button class=\"colab-df-quickchart\" onclick=\"quickchart('df-961e1b06-4088-4ba8-ae77-bc784c6816fd')\"\n",
              "            title=\"Suggest charts\"\n",
              "            style=\"display:none;\">\n",
              "\n",
              "<svg xmlns=\"http://www.w3.org/2000/svg\" height=\"24px\"viewBox=\"0 0 24 24\"\n",
              "     width=\"24px\">\n",
              "    <g>\n",
              "        <path d=\"M19 3H5c-1.1 0-2 .9-2 2v14c0 1.1.9 2 2 2h14c1.1 0 2-.9 2-2V5c0-1.1-.9-2-2-2zM9 17H7v-7h2v7zm4 0h-2V7h2v10zm4 0h-2v-4h2v4z\"/>\n",
              "    </g>\n",
              "</svg>\n",
              "  </button>\n",
              "\n",
              "<style>\n",
              "  .colab-df-quickchart {\n",
              "      --bg-color: #E8F0FE;\n",
              "      --fill-color: #1967D2;\n",
              "      --hover-bg-color: #E2EBFA;\n",
              "      --hover-fill-color: #174EA6;\n",
              "      --disabled-fill-color: #AAA;\n",
              "      --disabled-bg-color: #DDD;\n",
              "  }\n",
              "\n",
              "  [theme=dark] .colab-df-quickchart {\n",
              "      --bg-color: #3B4455;\n",
              "      --fill-color: #D2E3FC;\n",
              "      --hover-bg-color: #434B5C;\n",
              "      --hover-fill-color: #FFFFFF;\n",
              "      --disabled-bg-color: #3B4455;\n",
              "      --disabled-fill-color: #666;\n",
              "  }\n",
              "\n",
              "  .colab-df-quickchart {\n",
              "    background-color: var(--bg-color);\n",
              "    border: none;\n",
              "    border-radius: 50%;\n",
              "    cursor: pointer;\n",
              "    display: none;\n",
              "    fill: var(--fill-color);\n",
              "    height: 32px;\n",
              "    padding: 0;\n",
              "    width: 32px;\n",
              "  }\n",
              "\n",
              "  .colab-df-quickchart:hover {\n",
              "    background-color: var(--hover-bg-color);\n",
              "    box-shadow: 0 1px 2px rgba(60, 64, 67, 0.3), 0 1px 3px 1px rgba(60, 64, 67, 0.15);\n",
              "    fill: var(--button-hover-fill-color);\n",
              "  }\n",
              "\n",
              "  .colab-df-quickchart-complete:disabled,\n",
              "  .colab-df-quickchart-complete:disabled:hover {\n",
              "    background-color: var(--disabled-bg-color);\n",
              "    fill: var(--disabled-fill-color);\n",
              "    box-shadow: none;\n",
              "  }\n",
              "\n",
              "  .colab-df-spinner {\n",
              "    border: 2px solid var(--fill-color);\n",
              "    border-color: transparent;\n",
              "    border-bottom-color: var(--fill-color);\n",
              "    animation:\n",
              "      spin 1s steps(1) infinite;\n",
              "  }\n",
              "\n",
              "  @keyframes spin {\n",
              "    0% {\n",
              "      border-color: transparent;\n",
              "      border-bottom-color: var(--fill-color);\n",
              "      border-left-color: var(--fill-color);\n",
              "    }\n",
              "    20% {\n",
              "      border-color: transparent;\n",
              "      border-left-color: var(--fill-color);\n",
              "      border-top-color: var(--fill-color);\n",
              "    }\n",
              "    30% {\n",
              "      border-color: transparent;\n",
              "      border-left-color: var(--fill-color);\n",
              "      border-top-color: var(--fill-color);\n",
              "      border-right-color: var(--fill-color);\n",
              "    }\n",
              "    40% {\n",
              "      border-color: transparent;\n",
              "      border-right-color: var(--fill-color);\n",
              "      border-top-color: var(--fill-color);\n",
              "    }\n",
              "    60% {\n",
              "      border-color: transparent;\n",
              "      border-right-color: var(--fill-color);\n",
              "    }\n",
              "    80% {\n",
              "      border-color: transparent;\n",
              "      border-right-color: var(--fill-color);\n",
              "      border-bottom-color: var(--fill-color);\n",
              "    }\n",
              "    90% {\n",
              "      border-color: transparent;\n",
              "      border-bottom-color: var(--fill-color);\n",
              "    }\n",
              "  }\n",
              "</style>\n",
              "\n",
              "  <script>\n",
              "    async function quickchart(key) {\n",
              "      const quickchartButtonEl =\n",
              "        document.querySelector('#' + key + ' button');\n",
              "      quickchartButtonEl.disabled = true;  // To prevent multiple clicks.\n",
              "      quickchartButtonEl.classList.add('colab-df-spinner');\n",
              "      try {\n",
              "        const charts = await google.colab.kernel.invokeFunction(\n",
              "            'suggestCharts', [key], {});\n",
              "      } catch (error) {\n",
              "        console.error('Error during call to suggestCharts:', error);\n",
              "      }\n",
              "      quickchartButtonEl.classList.remove('colab-df-spinner');\n",
              "      quickchartButtonEl.classList.add('colab-df-quickchart-complete');\n",
              "    }\n",
              "    (() => {\n",
              "      let quickchartButtonEl =\n",
              "        document.querySelector('#df-961e1b06-4088-4ba8-ae77-bc784c6816fd button');\n",
              "      quickchartButtonEl.style.display =\n",
              "        google.colab.kernel.accessAllowed ? 'block' : 'none';\n",
              "    })();\n",
              "  </script>\n",
              "</div>\n",
              "\n",
              "    </div>\n",
              "  </div>\n"
            ],
            "application/vnd.google.colaboratory.intrinsic+json": {
              "type": "dataframe",
              "variable_name": "df11",
              "summary": "{\n  \"name\": \"df11\",\n  \"rows\": 5200,\n  \"fields\": [\n    {\n      \"column\": \"id\",\n      \"properties\": {\n        \"dtype\": \"number\",\n        \"std\": 1501,\n        \"min\": 20800,\n        \"max\": 25999,\n        \"num_unique_values\": 5200,\n        \"samples\": [\n          21926,\n          20879,\n          24060\n        ],\n        \"semantic_type\": \"\",\n        \"description\": \"\"\n      }\n    },\n    {\n      \"column\": \"title\",\n      \"properties\": {\n        \"dtype\": \"string\",\n        \"num_unique_values\": 5056,\n        \"samples\": [\n          \"Paula Jones Calls Megyn Kelly A \\u2018Nasty Heifer\\u2019 After Contentious Interview With Gingrich [VIDEO]\",\n          \"How Grey are the White Helmets and Their Backers?\",\n          \"The Hidden Influence of Clinton and Trump\\u2019s Religion - The New York Times\"\n        ],\n        \"semantic_type\": \"\",\n        \"description\": \"\"\n      }\n    },\n    {\n      \"column\": \"author\",\n      \"properties\": {\n        \"dtype\": \"category\",\n        \"num_unique_values\": 1732,\n        \"samples\": [\n          \"Dave Philipps\",\n          \"Charly Wilder\",\n          \"Ivan the Stakhanovets\"\n        ],\n        \"semantic_type\": \"\",\n        \"description\": \"\"\n      }\n    },\n    {\n      \"column\": \"text\",\n      \"properties\": {\n        \"dtype\": \"string\",\n        \"num_unique_values\": 5126,\n        \"samples\": [\n          \"By Daily News Bin | November 3, 2016 | 2 947 SHARES \\nMost Americans know Jason Chaffetz as the rogue Republican Congressman who can get away with being as dishonest and duplicitous as he wants because his conservative district in Utah keeps reelecting him no matter what he does. He was caught using private email for work purposes while he was trying to take down Hillary Clinton for doing the same. And last week he flat out lied about an FBI letter in clear violation of federal law under the Hatch Act. But just when you think Chaffetz can\\u2019t be dirtier, it turns out his campaign is literally being funded by a criminal enterprise controlled by overseas investors. \\nThe single biggest campaign donor Jason Chaffetz is a company called Nu Skin Enterprises. Research done by Reverb Press has revealed that it adds up to nearly six figures in total, a surreal dollar amount for a fairly obscure company to give to a single Congressmen. But despite the lack of name recognition, Nu Skin is a billion dollar pyramid scheme which pushes questionable anti-aging miracle cures. And it\\u2019s been busted by the Feds for criminal behavior resulting in tens of millions of dollars in penalties. \\nBizarrely, Nu Skin Enterprises is now being bought up by overseas Chinese investors to the tune of hundreds of millions of dollars, placing the company largely under overseas control even as it\\u2019s begun its illegal business practices into China. Included in the investors list: family members of former Chinese Premier Wen Jiabao. So what does this all have to do with Congressman Jason Chaffetz? In short, a busted criminal pyramid scheme now controlled by Chinese political figures has been funding its very own member of Congress from the very start of his political career. In fact, before entering politics, Chaffetz used to be an employee of the company. With each new turn, the story grows stranger. If you enjoy Daily News Bin, consider making a contribution: Contributed by Daily News Bin staff 947 \",\n          \"Turkey\\u2019s Islamist president, Recep Tayyip Erdo\\u011fan, has stepped up his war of words against Europe, accusing Germany of \\u201cemploying Nazi measures\\u201d against Turks in Germany. [The Justice and Development Party (AKP) leader levelled the accusation at Chancellor Angela Merkel personally, according to EU Observer, while addressing a rally in Istanbul.  \\u201cYou are right now employing Nazi measures,\\u201d he declared. \\u201cAgainst who? My Turkish brother citizens in Germany and brother ministers. \\u201d The   \\u201cModerate Islamist\\u201d was referring to the Merkel administration refusing to allow the AKP to organise political rallies in Germany ahead of a Turkish referendum on 16 April. Germany is home to around three million Turks, and Erdo\\u011fan has been keen to court them, as well as other European diaspora communities, in support of his bid to increase executive powers. Chancellor Merkel said the slurs broke \\u201cevery taboo\\u201d and disrespected genuine victims of the Nazis. She said she would consider revoking permissions for AKP campaign events which have already been granted if the insults continued. Erdo\\u011fan has shown no signs of deescalating his rhetoric, accusing the Germans of \\u201charbouring terrorists\\u201d from Turkey\\u2019s embattled Kurdish minority. Turkey\\u2019s Erdogan accuses Germany of \\u2019harbouring terrorists\\u2019 https:  .  pic. twitter.   \\u2014   FRANCE 24 (@FRANCE24) November 3, 2016,  The Kurds have faced brutal oppression at the hands of the Erdo\\u011fan regime, with the United Nations criticising the Turkish authorities for using summary execution, rape, and torture as tools of suppression, and liquidating Kurdish population centres in the country\\u2019s  . SOURCE:   via Associated Press, In recent days, Turkish authorities have also attacked Kurds celebrating Newroz, a traditional New Year celebration which predates Islam. This is how #Turkey\\u2019s dictator Erdogan treats Kurds who want to celebrate their old tradition #Newroz in Kurdistan pic. twitter.   \\u2014   NieuwsBlog (@nieuwsblog) March 18, 2017, Germany has not been alone in opposing political activities by the AKP in Europe, with Turkish migrants and dual nationals sympathetic to Erdo\\u011fan rioting in the streets after the Dutch government refused to allow Turkish ministers to attend a rally in Rotterdam. Dutch police used water canons to break up a crowd of more than 1, 000  #Erdogan protesters outside the Turkish consulate in #Rotterdam. pic. twitter.   \\u2014   dwnews (@dwnews) March 12, 2017,  Not every European country is holding the line, however. Sweden and France have both succumbed to Turkish pressure and allowed the AKP to hold rallies in their territories. \\u201dWhy should we tolerate speeches on our soil that other democracies refuse? No #Turkish electoral campaign in #France !\\u201d #AKP #METZ #Marine https:  .   \\u2014   Marine in English (@Marine2017_EN) March 12, 2017,  Erdo\\u011fan has responded to the unexpected resistance by urging Turks in Europe to colonise the continent. \\u201cHave not just three but five children,\\u201d he told supporters, echoing the former Algerian leader Houari Boumediene\\u2019s infamous speech to the United Nations in 1974. \\u201cOne day, millions of men will leave the Southern Hemisphere to go to the Northern Hemisphere,\\u201d Boumediene said. \\u201cAnd they will not go there as friends. Because they will go there to conquer it. And they will conquer it with their sons. The wombs of our women will give us victory. \\u201d Erdo\\u011fan was less explicit, saying: \\u201cThe place in which you are living and working is now your homeland and new motherland. Stake a claim to it. \\u201d Turkish Interior Minister S\\u00fcleyman Soylu has also threatened to terminate its migrant deal with the European Union, open its borders, and \\u201csend the 15, 000 refugees to [Europe] that we don\\u2019t send each month and blow your mind\\u201d. The President of the European Commission,   Juncker, attempted to downplay the threat, saying \\u201cit is not in Turkey\\u2019s interests to have smuggling rings and bandits in charge along its coast\\u201d. He added that many Turks in Europe are not interested in undermining their host nations, asserting: \\u201cNot all Turks are little Erdo\\u011fans. \\u201d Germany\\u2019s   population, infuriated by the Islamist president, organised a   rally opposing any increase in his powers on 18 March. #Turkey furious as 30, 000 Kurds rally in Frankfurt with PKK insignia, urging \\u201dno\\u201d to referendum on Erdogan\\u2019s powers https:  .   \\u2014   AFP news agency (@AFP) March 18, 2017, \",\n          \"\\nWikiLeaks has released the 34th batch of emails from the hacked account of Hillary Clinton\\u2019s campaign chair, John Podesta, on the eve of the election. This latest tranche includes 888 communications.\\nMuch of the latest emails\\u2019 content repeats from previous WikiLeaks releases, because entire email threads are not always released at once.\\n\\u2018Needy Latinos\\u2019 considered for VP \\nIn one leaked email, dated August 21, 2015 with the subject line \\u2018Needy Latinos and 1 easy call,\\u2019 Podesta writes to Clinton, \\u201cA few calls you might consider making,\\u201d apparently in relation to potential vice president choices.\\nPodesta then names Federico Pena, Bill Richardson and South Carolina Governor Jim Hodges. The first two are presumably the \\u201cneedy Latinos.\\u201d\\nPena, former secretary of the US Department of Transportation under President Bill Clinton, endorsed Barack Obama over Clinton for the 2008 election and served as his campaign chair. He is covered extensively in the email.\\nPodesta goes on to say that Pena\\u2019s \\u201cCabinet stints ripped up his family,\\u201d and that Pena \\u201cgave everything to the cause and no time to his family, he went through a messy divorce in the late 90\\u2019s and was left really down and felt like no-one reached out to him then so he felt pretty cut off from Clinton World.\\u201d\\nPodesta, passing along all of this information after speaking with former Secretary of the Interior Ken Salazar, gives Clinton four steps in completing a call with Pena, writing: \\u201c1) you really enjoyed seeing Cindy at the Chambers event and appreciate her support. 2) ask him how he\\u2019s been doing 3) ask about his views on the race and what she should be doing in Colorado 4) ask that he consider publicly supporting you.\\u201d\\nAn email reply from Hillary Clinton herself reads: \\u201cAgree about calls. Just a few additional points: several Latinos have asked that I consider Pena for VP.\\u201d\\nOn Richardson, a former governor of New Mexico and US ambassador to the UN under President Clinton, Podesta writes that a recent phone call between Bill Clinton and Richardson went well, \\u201cnot withstanding the fact that [Richardson] can be a dick.\\u201d\\n\\u201cHe had a good conversation with the President and has been good in his interviews since,\\u201d Podesta says of Richardson, telling Hillary that a call to Richardson ahead of his upcoming appearance on NBC\\u2019s \\u2018Meet the Press\\u2019 might seal an endorsement.\\nDonna Brazile \\nThe extent of the cozy relationship between the Clinton campaign and CNN was revealed in an email from the former head of the Democratic National Committee, Donna Brazile, which contained, almost verbatim, the wording of a question Clinton was to be asked at a town hall in Ohio.\\nSent the day before the televised event, which aired on March 13, 2016, Clinton is given the wording for a question she will be asked regarding discrimination amongst trade unions.\\nAlso included is the wording of a question her opponent Bernie Sanders is to be asked on income inequality.\\nSource \\n\"\n        ],\n        \"semantic_type\": \"\",\n        \"description\": \"\"\n      }\n    },\n    {\n      \"column\": \"label\",\n      \"properties\": {\n        \"dtype\": \"number\",\n        \"std\": 0,\n        \"min\": 0,\n        \"max\": 1,\n        \"num_unique_values\": 2,\n        \"samples\": [\n          1,\n          0\n        ],\n        \"semantic_type\": \"\",\n        \"description\": \"\"\n      }\n    }\n  ]\n}"
            }
          },
          "metadata": {},
          "execution_count": 6
        }
      ],
      "source": [
        "df11.head()"
      ]
    },
    {
      "cell_type": "markdown",
      "metadata": {
        "id": "AID_qb0zBxe0"
      },
      "source": [
        "**Merging df5,df6,df1,df2 datasets as df12**\n"
      ]
    },
    {
      "cell_type": "code",
      "execution_count": null,
      "metadata": {
        "colab": {
          "base_uri": "https://localhost:8080/"
        },
        "id": "l2O_O-hS09nU",
        "outputId": "06f2dd92-8964-4982-9f17-9e769f0a3d59"
      },
      "outputs": [
        {
          "output_type": "stream",
          "name": "stdout",
          "text": [
            "<class 'pandas.core.frame.DataFrame'>\n",
            "RangeIndex: 50098 entries, 0 to 50097\n",
            "Data columns (total 7 columns):\n",
            " #   Column   Non-Null Count  Dtype  \n",
            "---  ------   --------------  -----  \n",
            " 0   title    49976 non-null  object \n",
            " 1   text     50091 non-null  object \n",
            " 2   subject  44898 non-null  object \n",
            " 3   date     44898 non-null  object \n",
            " 4   label    50098 non-null  int64  \n",
            " 5   id       5200 non-null   float64\n",
            " 6   author   4697 non-null   object \n",
            "dtypes: float64(1), int64(1), object(5)\n",
            "memory usage: 2.7+ MB\n"
          ]
        }
      ],
      "source": [
        "df12 = pd.merge(df10, df11, on=['title', 'text','label'], how='outer')\n",
        "df12.info()"
      ]
    },
    {
      "cell_type": "code",
      "execution_count": null,
      "metadata": {
        "colab": {
          "base_uri": "https://localhost:8080/",
          "height": 226
        },
        "id": "2yDiWl_O6KcN",
        "outputId": "aa823e9c-07b8-4da7-e5b8-79a5a407fbaa"
      },
      "outputs": [
        {
          "output_type": "execute_result",
          "data": {
            "text/plain": [
              "                                               title  \\\n",
              "0  \\r\\r\\r\\r\\r\\r\\r\\nDonald Trump Gets His A** Hand...   \n",
              "1  \\r\\r\\r\\r\\r\\r\\r\\nEx-GOP Congressman Shreds Fell...   \n",
              "2  \\r\\r\\r\\r\\r\\r\\r\\nTrump Gets STOMPED For Whining...   \n",
              "3  \\r\\r\\r\\r\\r\\r\\r\\nWATCH: Democratic Rep Delivers...   \n",
              "4   #AfterTrumpImplodes Hashtag Hilariously Imagi...   \n",
              "\n",
              "                                                text subject  \\\n",
              "0  A 10-year-old girl smacked down Donald Trump, ...    News   \n",
              "1  At this point, every Republican who refuses to...    News   \n",
              "2  Donald Trump has been attacking President Obam...    News   \n",
              "3  Massachusetts Rep. Jim McGovern brought the Ho...    News   \n",
              "4  What will the world be like post-Donald Trump?...    News   \n",
              "\n",
              "                date  label  id author  \n",
              "0  February 29, 2016      0 NaN    NaN  \n",
              "1      June 22, 2017      0 NaN    NaN  \n",
              "2   November 5, 2016      0 NaN    NaN  \n",
              "3        May 4, 2017      0 NaN    NaN  \n",
              "4     August 5, 2016      0 NaN    NaN  "
            ],
            "text/html": [
              "\n",
              "  <div id=\"df-1dd2afa8-c01d-4e98-9ff4-94a92e7d4555\" class=\"colab-df-container\">\n",
              "    <div>\n",
              "<style scoped>\n",
              "    .dataframe tbody tr th:only-of-type {\n",
              "        vertical-align: middle;\n",
              "    }\n",
              "\n",
              "    .dataframe tbody tr th {\n",
              "        vertical-align: top;\n",
              "    }\n",
              "\n",
              "    .dataframe thead th {\n",
              "        text-align: right;\n",
              "    }\n",
              "</style>\n",
              "<table border=\"1\" class=\"dataframe\">\n",
              "  <thead>\n",
              "    <tr style=\"text-align: right;\">\n",
              "      <th></th>\n",
              "      <th>title</th>\n",
              "      <th>text</th>\n",
              "      <th>subject</th>\n",
              "      <th>date</th>\n",
              "      <th>label</th>\n",
              "      <th>id</th>\n",
              "      <th>author</th>\n",
              "    </tr>\n",
              "  </thead>\n",
              "  <tbody>\n",
              "    <tr>\n",
              "      <th>0</th>\n",
              "      <td>\\r\\r\\r\\r\\r\\r\\r\\nDonald Trump Gets His A** Hand...</td>\n",
              "      <td>A 10-year-old girl smacked down Donald Trump, ...</td>\n",
              "      <td>News</td>\n",
              "      <td>February 29, 2016</td>\n",
              "      <td>0</td>\n",
              "      <td>NaN</td>\n",
              "      <td>NaN</td>\n",
              "    </tr>\n",
              "    <tr>\n",
              "      <th>1</th>\n",
              "      <td>\\r\\r\\r\\r\\r\\r\\r\\nEx-GOP Congressman Shreds Fell...</td>\n",
              "      <td>At this point, every Republican who refuses to...</td>\n",
              "      <td>News</td>\n",
              "      <td>June 22, 2017</td>\n",
              "      <td>0</td>\n",
              "      <td>NaN</td>\n",
              "      <td>NaN</td>\n",
              "    </tr>\n",
              "    <tr>\n",
              "      <th>2</th>\n",
              "      <td>\\r\\r\\r\\r\\r\\r\\r\\nTrump Gets STOMPED For Whining...</td>\n",
              "      <td>Donald Trump has been attacking President Obam...</td>\n",
              "      <td>News</td>\n",
              "      <td>November 5, 2016</td>\n",
              "      <td>0</td>\n",
              "      <td>NaN</td>\n",
              "      <td>NaN</td>\n",
              "    </tr>\n",
              "    <tr>\n",
              "      <th>3</th>\n",
              "      <td>\\r\\r\\r\\r\\r\\r\\r\\nWATCH: Democratic Rep Delivers...</td>\n",
              "      <td>Massachusetts Rep. Jim McGovern brought the Ho...</td>\n",
              "      <td>News</td>\n",
              "      <td>May 4, 2017</td>\n",
              "      <td>0</td>\n",
              "      <td>NaN</td>\n",
              "      <td>NaN</td>\n",
              "    </tr>\n",
              "    <tr>\n",
              "      <th>4</th>\n",
              "      <td>#AfterTrumpImplodes Hashtag Hilariously Imagi...</td>\n",
              "      <td>What will the world be like post-Donald Trump?...</td>\n",
              "      <td>News</td>\n",
              "      <td>August 5, 2016</td>\n",
              "      <td>0</td>\n",
              "      <td>NaN</td>\n",
              "      <td>NaN</td>\n",
              "    </tr>\n",
              "  </tbody>\n",
              "</table>\n",
              "</div>\n",
              "    <div class=\"colab-df-buttons\">\n",
              "\n",
              "  <div class=\"colab-df-container\">\n",
              "    <button class=\"colab-df-convert\" onclick=\"convertToInteractive('df-1dd2afa8-c01d-4e98-9ff4-94a92e7d4555')\"\n",
              "            title=\"Convert this dataframe to an interactive table.\"\n",
              "            style=\"display:none;\">\n",
              "\n",
              "  <svg xmlns=\"http://www.w3.org/2000/svg\" height=\"24px\" viewBox=\"0 -960 960 960\">\n",
              "    <path d=\"M120-120v-720h720v720H120Zm60-500h600v-160H180v160Zm220 220h160v-160H400v160Zm0 220h160v-160H400v160ZM180-400h160v-160H180v160Zm440 0h160v-160H620v160ZM180-180h160v-160H180v160Zm440 0h160v-160H620v160Z\"/>\n",
              "  </svg>\n",
              "    </button>\n",
              "\n",
              "  <style>\n",
              "    .colab-df-container {\n",
              "      display:flex;\n",
              "      gap: 12px;\n",
              "    }\n",
              "\n",
              "    .colab-df-convert {\n",
              "      background-color: #E8F0FE;\n",
              "      border: none;\n",
              "      border-radius: 50%;\n",
              "      cursor: pointer;\n",
              "      display: none;\n",
              "      fill: #1967D2;\n",
              "      height: 32px;\n",
              "      padding: 0 0 0 0;\n",
              "      width: 32px;\n",
              "    }\n",
              "\n",
              "    .colab-df-convert:hover {\n",
              "      background-color: #E2EBFA;\n",
              "      box-shadow: 0px 1px 2px rgba(60, 64, 67, 0.3), 0px 1px 3px 1px rgba(60, 64, 67, 0.15);\n",
              "      fill: #174EA6;\n",
              "    }\n",
              "\n",
              "    .colab-df-buttons div {\n",
              "      margin-bottom: 4px;\n",
              "    }\n",
              "\n",
              "    [theme=dark] .colab-df-convert {\n",
              "      background-color: #3B4455;\n",
              "      fill: #D2E3FC;\n",
              "    }\n",
              "\n",
              "    [theme=dark] .colab-df-convert:hover {\n",
              "      background-color: #434B5C;\n",
              "      box-shadow: 0px 1px 3px 1px rgba(0, 0, 0, 0.15);\n",
              "      filter: drop-shadow(0px 1px 2px rgba(0, 0, 0, 0.3));\n",
              "      fill: #FFFFFF;\n",
              "    }\n",
              "  </style>\n",
              "\n",
              "    <script>\n",
              "      const buttonEl =\n",
              "        document.querySelector('#df-1dd2afa8-c01d-4e98-9ff4-94a92e7d4555 button.colab-df-convert');\n",
              "      buttonEl.style.display =\n",
              "        google.colab.kernel.accessAllowed ? 'block' : 'none';\n",
              "\n",
              "      async function convertToInteractive(key) {\n",
              "        const element = document.querySelector('#df-1dd2afa8-c01d-4e98-9ff4-94a92e7d4555');\n",
              "        const dataTable =\n",
              "          await google.colab.kernel.invokeFunction('convertToInteractive',\n",
              "                                                    [key], {});\n",
              "        if (!dataTable) return;\n",
              "\n",
              "        const docLinkHtml = 'Like what you see? Visit the ' +\n",
              "          '<a target=\"_blank\" href=https://colab.research.google.com/notebooks/data_table.ipynb>data table notebook</a>'\n",
              "          + ' to learn more about interactive tables.';\n",
              "        element.innerHTML = '';\n",
              "        dataTable['output_type'] = 'display_data';\n",
              "        await google.colab.output.renderOutput(dataTable, element);\n",
              "        const docLink = document.createElement('div');\n",
              "        docLink.innerHTML = docLinkHtml;\n",
              "        element.appendChild(docLink);\n",
              "      }\n",
              "    </script>\n",
              "  </div>\n",
              "\n",
              "\n",
              "<div id=\"df-02e1b699-c63e-43f7-8f7a-05ddeb03c950\">\n",
              "  <button class=\"colab-df-quickchart\" onclick=\"quickchart('df-02e1b699-c63e-43f7-8f7a-05ddeb03c950')\"\n",
              "            title=\"Suggest charts\"\n",
              "            style=\"display:none;\">\n",
              "\n",
              "<svg xmlns=\"http://www.w3.org/2000/svg\" height=\"24px\"viewBox=\"0 0 24 24\"\n",
              "     width=\"24px\">\n",
              "    <g>\n",
              "        <path d=\"M19 3H5c-1.1 0-2 .9-2 2v14c0 1.1.9 2 2 2h14c1.1 0 2-.9 2-2V5c0-1.1-.9-2-2-2zM9 17H7v-7h2v7zm4 0h-2V7h2v10zm4 0h-2v-4h2v4z\"/>\n",
              "    </g>\n",
              "</svg>\n",
              "  </button>\n",
              "\n",
              "<style>\n",
              "  .colab-df-quickchart {\n",
              "      --bg-color: #E8F0FE;\n",
              "      --fill-color: #1967D2;\n",
              "      --hover-bg-color: #E2EBFA;\n",
              "      --hover-fill-color: #174EA6;\n",
              "      --disabled-fill-color: #AAA;\n",
              "      --disabled-bg-color: #DDD;\n",
              "  }\n",
              "\n",
              "  [theme=dark] .colab-df-quickchart {\n",
              "      --bg-color: #3B4455;\n",
              "      --fill-color: #D2E3FC;\n",
              "      --hover-bg-color: #434B5C;\n",
              "      --hover-fill-color: #FFFFFF;\n",
              "      --disabled-bg-color: #3B4455;\n",
              "      --disabled-fill-color: #666;\n",
              "  }\n",
              "\n",
              "  .colab-df-quickchart {\n",
              "    background-color: var(--bg-color);\n",
              "    border: none;\n",
              "    border-radius: 50%;\n",
              "    cursor: pointer;\n",
              "    display: none;\n",
              "    fill: var(--fill-color);\n",
              "    height: 32px;\n",
              "    padding: 0;\n",
              "    width: 32px;\n",
              "  }\n",
              "\n",
              "  .colab-df-quickchart:hover {\n",
              "    background-color: var(--hover-bg-color);\n",
              "    box-shadow: 0 1px 2px rgba(60, 64, 67, 0.3), 0 1px 3px 1px rgba(60, 64, 67, 0.15);\n",
              "    fill: var(--button-hover-fill-color);\n",
              "  }\n",
              "\n",
              "  .colab-df-quickchart-complete:disabled,\n",
              "  .colab-df-quickchart-complete:disabled:hover {\n",
              "    background-color: var(--disabled-bg-color);\n",
              "    fill: var(--disabled-fill-color);\n",
              "    box-shadow: none;\n",
              "  }\n",
              "\n",
              "  .colab-df-spinner {\n",
              "    border: 2px solid var(--fill-color);\n",
              "    border-color: transparent;\n",
              "    border-bottom-color: var(--fill-color);\n",
              "    animation:\n",
              "      spin 1s steps(1) infinite;\n",
              "  }\n",
              "\n",
              "  @keyframes spin {\n",
              "    0% {\n",
              "      border-color: transparent;\n",
              "      border-bottom-color: var(--fill-color);\n",
              "      border-left-color: var(--fill-color);\n",
              "    }\n",
              "    20% {\n",
              "      border-color: transparent;\n",
              "      border-left-color: var(--fill-color);\n",
              "      border-top-color: var(--fill-color);\n",
              "    }\n",
              "    30% {\n",
              "      border-color: transparent;\n",
              "      border-left-color: var(--fill-color);\n",
              "      border-top-color: var(--fill-color);\n",
              "      border-right-color: var(--fill-color);\n",
              "    }\n",
              "    40% {\n",
              "      border-color: transparent;\n",
              "      border-right-color: var(--fill-color);\n",
              "      border-top-color: var(--fill-color);\n",
              "    }\n",
              "    60% {\n",
              "      border-color: transparent;\n",
              "      border-right-color: var(--fill-color);\n",
              "    }\n",
              "    80% {\n",
              "      border-color: transparent;\n",
              "      border-right-color: var(--fill-color);\n",
              "      border-bottom-color: var(--fill-color);\n",
              "    }\n",
              "    90% {\n",
              "      border-color: transparent;\n",
              "      border-bottom-color: var(--fill-color);\n",
              "    }\n",
              "  }\n",
              "</style>\n",
              "\n",
              "  <script>\n",
              "    async function quickchart(key) {\n",
              "      const quickchartButtonEl =\n",
              "        document.querySelector('#' + key + ' button');\n",
              "      quickchartButtonEl.disabled = true;  // To prevent multiple clicks.\n",
              "      quickchartButtonEl.classList.add('colab-df-spinner');\n",
              "      try {\n",
              "        const charts = await google.colab.kernel.invokeFunction(\n",
              "            'suggestCharts', [key], {});\n",
              "      } catch (error) {\n",
              "        console.error('Error during call to suggestCharts:', error);\n",
              "      }\n",
              "      quickchartButtonEl.classList.remove('colab-df-spinner');\n",
              "      quickchartButtonEl.classList.add('colab-df-quickchart-complete');\n",
              "    }\n",
              "    (() => {\n",
              "      let quickchartButtonEl =\n",
              "        document.querySelector('#df-02e1b699-c63e-43f7-8f7a-05ddeb03c950 button');\n",
              "      quickchartButtonEl.style.display =\n",
              "        google.colab.kernel.accessAllowed ? 'block' : 'none';\n",
              "    })();\n",
              "  </script>\n",
              "</div>\n",
              "\n",
              "    </div>\n",
              "  </div>\n"
            ],
            "application/vnd.google.colaboratory.intrinsic+json": {
              "type": "dataframe",
              "variable_name": "df12",
              "summary": "{\n  \"name\": \"df12\",\n  \"rows\": 50098,\n  \"fields\": [\n    {\n      \"column\": \"title\",\n      \"properties\": {\n        \"dtype\": \"string\",\n        \"num_unique_values\": 43777,\n        \"samples\": [\n          \"Aid agencies say Yemen blockade remains, Egeland calls it 'collective punishment'\",\n          \"Final Trump-Clinton debate draws nearly 72 million viewers, third largest ever\",\n          \" Ex-White House Press Secretary Just Dropped An AWESOME Obama Truthbomb That Will Make Trump PISSED\"\n        ],\n        \"semantic_type\": \"\",\n        \"description\": \"\"\n      }\n    },\n    {\n      \"column\": \"text\",\n      \"properties\": {\n        \"dtype\": \"string\",\n        \"num_unique_values\": 43771,\n        \"samples\": [\n          \"WASHINGTON (Reuters) - U.S. President Donald Trump\\u2019s strategy on North Korea aims to pressure Pyongyang to dismantle its nuclear and ballistic missile programs by tightening sanctions and Washington is open to negotiations, the Trump administration said on Wednesday. The U.S. stance, which appeared to signal a willingness to exhaust non-military options, was put forward in a statement following an unusual White House-hosted briefing for the entire Senate. It described North Korea as \\u201can urgent national security threat and top foreign policy priority.\\u201d \\u201cThe United States seeks stability and the peaceful denuclearization of the Korean peninsula. We remain open to negotiations towards that goal,\\u201d it said in a joint statement by Secretary of State Rex Tillerson, Defense Secretary Jim Mattis and Director of National Intelligence Dan Coats. \\u201cHowever, we remain prepared to defend ourselves and our allies.\\u201d Although the statement emphasized diplomacy, Democratic Senator Christopher Coons told reporters after the White House briefing that military options were discussed. \\u201cIt was a sobering briefing in which it was clear just how much thought and planning was going into preparing military options, if called for, and a diplomatic strategy that strikes me as clear-eyed and well proportioned,\\u201d Coons said. \",\n          \"ANKARA (Reuters) - Iran s Revolutionary Guards are ready to help rebuild Syria and bring about a lasting  ceasefire  there, chief commander Mohammad Ali Jafari said, adding that disarming Lebanon s Hezbollah is out of the question, state TV reported on Thursday. Regional tensions have risen in recent weeks between Sunni Muslim monarchy Saudi Arabia and Shi ite Iran, whose rivalry has wrought upheaval in Syria, Iraq, Yemen and Bahrain. Saudi Arabia has accused the heavily armed Iran-backed Hezbollah of helping Houthi forces in Yemen and playing a role in a ballistic missile attack on the kingdom earlier this month. Iran and Hezbollah both denied the claims. Iranian state television quoted Jafari as saying:  Hezbollah must be armed to fight against the enemy of the Lebanese nation which is Israel. Naturally they should have the best weapons to protect Lebanon s security. This issue is non-negotiable.  Iran denies giving financial and military support to the Houthis in the struggle for Yemen, blaming the deepening crisis on Riyadh.  Iran only provides advisory and spiritual assistances to Yemen ... and this help will continue,  he said. Jafari also praised the success of Iranian allies across the region, hailing a  resistance front  from Tehran to Beirut and calling on Riyadh to avoid confronting this grouping.  We directly deal with global arrogance and Israel not with their emissaries... That is why we do not want to have direct confrontation with Saudi Arabia,  he said. The term global arrogance refers to the United States. Leaders of Russia, Turkey and Iran agreed on Wednesday to help support a full-scale political process in Syria and announced an agreement to sponsor a conference in the Russian Black Sea resort of Sochi to try to end Syria s civil war.   The guards are ready to play an active role in  establishing a lasting ceasefire in Syria ... and reconstruction of the country,  Jafari said.  Iran has signed large economic contracts with Syria, reaping what appear to be lucrative rewards for helping Tehran s main regional ally President Bashar al-Assad in his fight against rebel groups and Islamic State militants.   In meetings with the (Iran) government, it was agreed that the Guards were in a better position to help Syria s reconstruction ... the preliminary talks already have been held with the Syrian government over the issue,  Jafari said Jafari repeated Iran s stance on its disputed ballistic missile work, saying the Islamic Republic s missile program is for defensive purposes and not up for negotiation.  The program was not part of the 2015 nuclear deal with Western powers under which Iran agreed to curb its nuclear program in exchange for the lifting of some sanctions.  Iran will not negotiate its defensive program ... there will be no talks about it,  he said.  (French president Emmanuel) Macron s remarks over our missile work is because he is young and inexperienced.  Macron said earlier this month that Tehran should be less aggressive in the region and should clarify the strategy around its ballistic missile program. \",\n          \"FBI insiders are spreading the word, Hillary Clinton deliberately broke the law and charges are warranted. However, there is little confidence the Obama administration will actually indict her.Hillary Clinton broke the law, knowingly sending and receiving classified information on a private server, according to FBI insiders. However, this isn t the right question. Instead, the right question is, why are FBI insiders spreading rumors?The answer is because they do not think the political establishment will play its role in any case, leaving Hillary Clinton to get away with thumbing her nose at the law. Via: Catholic OnlineAccording to the Daily Mail   Any evidence that the FBI uncovered has still not been made public.The government says no final decision has been made, however the case is clearly progressing as Clinton aide Bryan Pagliano, who worked on her private server, was granted immunity by the Justice Department earlier this month. You don t start granting people close to Clinton immunity unless you are seriously looking at charges against your target,  one of Gasparino s sources said.Clinton has publicly said that using a private email account attached to a homebrew server was a  mistake.  Mainly  because it s caused all this uproar and commotion. As FBI director, however, Comey can only recommend charges to the Justice Department, led by Obama appointee, Attorney General Loretta Lynch.Insiders told the New York Post that evidence would have to be  overwhelming  for Comey to make such recommendations and for Obama s Justice Department to pursue them.But agents also suggest that the investigation is solid enough for Comey to quit if the Justice Department doesn t listen to him on the matter of Clinton.Barack Obama s decision to publicly ask donors to support Hillary speaks volumes about his decision to back her as the Democrat Party s Presidential candidate. Barack s former AG, Eric Holder s endorsement of Hillary Clinton is further proof that Hillary has the full backing of this corrupt administration:Eric Holder    I think what people have to understand is that what we have to do is protect the Obama legacy. We ve made really substantial progress in the last eight years   it ll be eight years at the end of 2016   and the question is who is best situated to protect that legacy and not let the progress that we have made get rolled back. And there is no question that there are going to be attempts to roll back the Affordable Care Act, they sent [President Obama] a bill the week before last that he had to veto. There will certainly be efforts to counter the executive actions that he s taken on immigration issues, when it comes to gun safety issues and his foreign policy. You need somebody who s got a record on those issues that s consistent with the positions that the president took, and Hillary Clinton is that person, there s no question. They are in lockstep when it comes to gun safety issues. Sen. [Bernie] Sanders, quite frankly, is not. So to the extent that people are a bit of a nostalgic, wistful feeling, I think that ought to be converted into a concern for the future and for the preservation of all the great work that President Obama and his administration did. Here s the only clear record that Hillary has to show for her decades of  public service : \"\n        ],\n        \"semantic_type\": \"\",\n        \"description\": \"\"\n      }\n    },\n    {\n      \"column\": \"subject\",\n      \"properties\": {\n        \"dtype\": \"category\",\n        \"num_unique_values\": 8,\n        \"samples\": [\n          \"politicsNews\",\n          \"US_News\",\n          \"News\"\n        ],\n        \"semantic_type\": \"\",\n        \"description\": \"\"\n      }\n    },\n    {\n      \"column\": \"date\",\n      \"properties\": {\n        \"dtype\": \"category\",\n        \"num_unique_values\": 2397,\n        \"samples\": [\n          \"July 31, 2016\",\n          \"January 4, 2017\",\n          \"Feb 3, 2016\"\n        ],\n        \"semantic_type\": \"\",\n        \"description\": \"\"\n      }\n    },\n    {\n      \"column\": \"label\",\n      \"properties\": {\n        \"dtype\": \"number\",\n        \"std\": 0,\n        \"min\": 0,\n        \"max\": 1,\n        \"num_unique_values\": 2,\n        \"samples\": [\n          1,\n          0\n        ],\n        \"semantic_type\": \"\",\n        \"description\": \"\"\n      }\n    },\n    {\n      \"column\": \"id\",\n      \"properties\": {\n        \"dtype\": \"number\",\n        \"std\": 1501.2550305216853,\n        \"min\": 20800.0,\n        \"max\": 25999.0,\n        \"num_unique_values\": 5200,\n        \"samples\": [\n          24173.0,\n          23338.0\n        ],\n        \"semantic_type\": \"\",\n        \"description\": \"\"\n      }\n    },\n    {\n      \"column\": \"author\",\n      \"properties\": {\n        \"dtype\": \"category\",\n        \"num_unique_values\": 1732,\n        \"samples\": [\n          \"John Derbyshire\",\n          \"I am a Man I am...\"\n        ],\n        \"semantic_type\": \"\",\n        \"description\": \"\"\n      }\n    }\n  ]\n}"
            }
          },
          "metadata": {},
          "execution_count": 8
        }
      ],
      "source": [
        "df12.head()"
      ]
    },
    {
      "cell_type": "code",
      "execution_count": null,
      "metadata": {
        "colab": {
          "base_uri": "https://localhost:8080/",
          "height": 198
        },
        "id": "qSYfFnBm944U",
        "outputId": "025c0d05-94e5-40cd-f6b0-845f91e44403"
      },
      "outputs": [
        {
          "data": {
            "text/html": [
              "<div>\n",
              "<style scoped>\n",
              "    .dataframe tbody tr th:only-of-type {\n",
              "        vertical-align: middle;\n",
              "    }\n",
              "\n",
              "    .dataframe tbody tr th {\n",
              "        vertical-align: top;\n",
              "    }\n",
              "\n",
              "    .dataframe thead th {\n",
              "        text-align: right;\n",
              "    }\n",
              "</style>\n",
              "<table border=\"1\" class=\"dataframe\">\n",
              "  <thead>\n",
              "    <tr style=\"text-align: right;\">\n",
              "      <th></th>\n",
              "      <th>count</th>\n",
              "    </tr>\n",
              "    <tr>\n",
              "      <th>label</th>\n",
              "      <th></th>\n",
              "    </tr>\n",
              "  </thead>\n",
              "  <tbody>\n",
              "    <tr>\n",
              "      <th>0</th>\n",
              "      <td>25820</td>\n",
              "    </tr>\n",
              "    <tr>\n",
              "      <th>1</th>\n",
              "      <td>24278</td>\n",
              "    </tr>\n",
              "  </tbody>\n",
              "</table>\n",
              "</div><br><label><b>dtype:</b> int64</label>"
            ],
            "text/plain": [
              "label\n",
              "0    25820\n",
              "1    24278\n",
              "Name: count, dtype: int64"
            ]
          },
          "execution_count": 57,
          "metadata": {},
          "output_type": "execute_result"
        }
      ],
      "source": [
        "df12['label'].value_counts()"
      ]
    },
    {
      "cell_type": "markdown",
      "metadata": {
        "id": "aD9c_nt1B1iH"
      },
      "source": [
        "**Merging df7 and df8 as df13**"
      ]
    },
    {
      "cell_type": "code",
      "execution_count": null,
      "metadata": {
        "id": "qaT1BPBg_Ct1"
      },
      "outputs": [],
      "source": [
        "df7['label'] = 0  #fake news data\n",
        "df8['label'] = 1  #real news data"
      ]
    },
    {
      "cell_type": "code",
      "execution_count": null,
      "metadata": {
        "id": "vFpuC65K_TwA"
      },
      "outputs": [],
      "source": [
        "df7.rename(columns={'Unnamed: 0':'id','Title':'title','Content':'text','Publishing Date':'date'}, inplace=True)\n",
        "df8.rename(columns={'Unnamed: 0':'id','Title':'title','Content':'text','Publishing Date':'date'},inplace=True)"
      ]
    },
    {
      "cell_type": "code",
      "execution_count": null,
      "metadata": {
        "colab": {
          "base_uri": "https://localhost:8080/"
        },
        "id": "xgRsphlWFvIU",
        "outputId": "6a721e02-c92a-4267-da2a-22f1f670546d"
      },
      "outputs": [
        {
          "output_type": "stream",
          "name": "stdout",
          "text": [
            "<class 'pandas.core.frame.DataFrame'>\n",
            "RangeIndex: 2422 entries, 0 to 2421\n",
            "Data columns (total 7 columns):\n",
            " #   Column  Non-Null Count  Dtype \n",
            "---  ------  --------------  ----- \n",
            " 0   id      2422 non-null   int64 \n",
            " 1   title   2422 non-null   object\n",
            " 2   Len     2422 non-null   int64 \n",
            " 3   text    2384 non-null   object\n",
            " 4   Source  2422 non-null   object\n",
            " 5   date    2422 non-null   object\n",
            " 6   label   2422 non-null   int64 \n",
            "dtypes: int64(3), object(4)\n",
            "memory usage: 132.6+ KB\n"
          ]
        }
      ],
      "source": [
        "df7.info()"
      ]
    },
    {
      "cell_type": "code",
      "execution_count": null,
      "metadata": {
        "colab": {
          "base_uri": "https://localhost:8080/"
        },
        "id": "nA55zNHJCKzF",
        "outputId": "ef13bb57-0484-4c55-c206-5c79440acfdc"
      },
      "outputs": [
        {
          "output_type": "stream",
          "name": "stdout",
          "text": [
            "<class 'pandas.core.frame.DataFrame'>\n",
            "RangeIndex: 10254 entries, 0 to 10253\n",
            "Data columns (total 8 columns):\n",
            " #   Column  Non-Null Count  Dtype  \n",
            "---  ------  --------------  -----  \n",
            " 0   id_x    2422 non-null   float64\n",
            " 1   title   10254 non-null  object \n",
            " 2   Len     10254 non-null  int64  \n",
            " 3   text    10179 non-null  object \n",
            " 4   Source  10254 non-null  object \n",
            " 5   date    10254 non-null  object \n",
            " 6   label   10254 non-null  int64  \n",
            " 7   id_y    7832 non-null   float64\n",
            "dtypes: float64(2), int64(2), object(4)\n",
            "memory usage: 641.0+ KB\n"
          ]
        }
      ],
      "source": [
        "df13 = pd.merge(df7, df8, on=['title','label','Len','date','Source','text'], how='outer')\n",
        "df13.info()"
      ]
    },
    {
      "cell_type": "markdown",
      "metadata": {
        "id": "FEUlo8mpGejK"
      },
      "source": [
        "**Mergin df12 and df13 as df 14**"
      ]
    },
    {
      "cell_type": "code",
      "execution_count": null,
      "metadata": {
        "colab": {
          "base_uri": "https://localhost:8080/",
          "height": 226
        },
        "id": "88DQE7MxGEbY",
        "outputId": "f2e3c253-a352-49ca-a5c0-34500f2dd634"
      },
      "outputs": [
        {
          "data": {
            "application/vnd.google.colaboratory.intrinsic+json": {
              "summary": "{\n  \"name\": \"df12\",\n  \"rows\": 50098,\n  \"fields\": [\n    {\n      \"column\": \"title\",\n      \"properties\": {\n        \"dtype\": \"string\",\n        \"num_unique_values\": 43777,\n        \"samples\": [\n          \"UNREAL! THREE REPUBLICAN SENATORS Kill Republican Healthcare Bill in Midnight Vote [Video]\",\n          \"Trump starts paying his own legal bills on Russia probe: attorneys\",\n          \" Trump Has Brain Fart In Middle Of Executive Order Signing Leaving Pence To Frantically Cover (VIDEO)\"\n        ],\n        \"semantic_type\": \"\",\n        \"description\": \"\"\n      }\n    },\n    {\n      \"column\": \"text\",\n      \"properties\": {\n        \"dtype\": \"string\",\n        \"num_unique_values\": 43771,\n        \"samples\": [\n          \"\\u00abEl arte de la guerra\\u00bb\\nPactos claros, larga sujeci\\u00f3n por Manlio Dinucci El presidente estadounidense Barack Obama se felicit\\u00f3, con toda raz\\u00f3n, por los \\u00ab pactos claros [y la] larga amistad \\u00bb entre su pa\\u00eds e Italia. En efecto, ese Estado soberano europeo est\\u00e1 de hecho atado de pies y manos, por una serie de tratados y su comportamiento constante en la pr\\u00e1ctica, a su amo estadounidense.\\nRed Voltaire | Roma (Italia) | 28 de octubre de 2016 fran\\u00e7ais italiano English Despu\\u00e9s de llamar a los italianos a votar \\u00ab S\\u00ed \\u00bb en el refer\\u00e9ndum, inmiscuy\\u00e9ndose as\\u00ed en nuestros asuntos internos sin que la oposici\\u00f3n parlamentaria italiana emitiera la menor protesta, el presidente estadounidense Barack Obama confirm\\u00f3 a su \\u00ab buen amigo Matteo \\u00bb [Renzi] que Estados Unidos tiene con Italia \\u00ab pactos claros, una larga amistad \\u00bb.\\nNo cabe duda de que los pactos son claros, sobre todo el Pacto Atl\\u00e1ntico, con el que Italia se subordina a Estados Unidos. El Comandante Supremo de las fuerzas aliadas en Europa es siempre un militar estadounidense nombrado por el presidente de Estados Unidos, y todos los mandos claves de la alianza est\\u00e1n en manos de Estados Unidos.\\nAl t\\u00e9rmino de la guerra fr\\u00eda, luego de la desintegraci\\u00f3n de la URSS, Washington proclamaba la\\n\\u00abimportancia fundamental de preservar la OTAN como canal de la influencia y de la participaci\\u00f3n estadounidenses en los asuntos europeos, impidiendo la creaci\\u00f3n de dispositivos \\u00fanicamente europeos que minar\\u00edan la estructura de mando de la Alianza\\u00bb.\\nPor supuesto, donde Washington habla de \\u00ab la estructura de mando de la Alianza \\u00bb, hay que entender que en realidad se refiere a la posici\\u00f3n de mando de Estados Unidos en el seno de la OTAN. Ese concepto fue reafirmado por el secretario general de la alianza atl\\u00e1ntica, Jens Stoltenberg, en la reciente mesa redonda sobre la \\u00ab gran idea de Europa \\u00bb, cuando afirm\\u00f3:\\n\\u00abTenemos que garantizar que el fortalecimiento de la defensa europea no se convierta en una OTAN bis, que no se convierta en una alternativa a la OTAN.\\u00bb\\nPara garantizar que eso no suceda est\\u00e1 el hecho que 22 de los 28 pa\\u00edses de la Uni\\u00f3n Europea (21 de los 27, despu\\u00e9s de la salida del Reino Unido) son miembros de la OTAN, que est\\u00e1 a su vez bajo el mando de Estados Unidos, alianza que la Uni\\u00f3n Europea reconoce como \\u00ab cimiento de la defensa colectiva \\u00bb.\\nLa pol\\u00edtica exterior y militar de la Uni\\u00f3n Europea est\\u00e1 as\\u00ed fundamentalmente subordinada a la estrategia estadounidense, sobre la que convergen las potencias europeas cuyos conflictos de intereses pasan a un segundo plano cuando entra en juego su inter\\u00e9s fundamental: mantener la dominaci\\u00f3n de Occidente \\u2013cada vez m\\u00e1s tambaleante ante el surgimiento de nuevos actores estatales y sociales. Basta con detenerse a pensar que la Organizaci\\u00f3n de Cooperaci\\u00f3n de Shanghai (OCS), fruto del entendimiento estrat\\u00e9gico entre China y Rusia, dispone de recursos capaces de convertirla en el \\u00e1rea de integraci\\u00f3n econ\\u00f3mica m\\u00e1s grande del mundo.\\nEn el marco de la estrategia de Estados Unidos y la OTAN \\u2013seg\\u00fan documenta la propia Casa Blanca\\u2013, Italia se destaca como \\u00ab aliado s\\u00f3lido y activo de Estados Unidos \\u00bb. As\\u00ed lo demuestra el hecho que \\u00ab Italia alberga m\\u00e1s de 30 000 militares y funcionarios civiles del Departamento estadounidense de Defensa en diferentes instalaciones existentes por todo el pa\\u00eds \\u00bb.\\nItalia es, al mismo tiempo, \\u00ab socio de Estados Unidos para la seguridad mundial \\u00bb, ya que proporciona fuerzas militares y financiamiento para una amplia gama de \\u00ab desaf\\u00edos \\u00bb: en Kosovo, Afganist\\u00e1n, Irak, Libia, Siria, as\\u00ed como en el Mar B\\u00e1ltico y en otras \\u00e1reas, donde quiera que haya estado o que se encuentre implicada la maquinaria de guerra EEUU/OTAN.\\nHay otro ejemplo que confirma la naturaleza de la relaci\\u00f3n entre Estados Unidos e Italia: probablemente el pr\\u00f3ximo 8 de noviembre, van a llegar a la base de Amendola, en la regi\\u00f3n italiana de Apulia, los 2 primeros ejemplares de los 90 aviones de guerra F-35 , fabricados por la compa\\u00f1\\u00eda estadounidense Lockheed Martin, que Italia se comprometi\\u00f3 a comprar.\\nEl costo de la participaci\\u00f3n italiana en el programa F-35 , s\\u00f3lo como socio de segundo nivel, aparece oficialmente cuantificado en la Ley de Estabilidad de 2016 : 12 356 millones de euros provenientes de los fondos p\\u00fablicos, m\\u00e1s otros gastos que habr\\u00e1 que destinar a las continuas modificaciones que necesitar\\u00e1 este avi\\u00f3n de guerra, que ni siquiera es todav\\u00eda plenamente operativo y necesitar\\u00e1 constantes actualizaciones.\\nA pesar de ello, confirma el sitio web especializado Analisi Difesa , Italia tendr\\u00e1 una \\u00ab soberan\\u00eda limitada \\u00bb sobre los F-35 de su propia fuerza aerea. Una ley estadounidense proh\\u00edbe que los programas inform\\u00e1ticos de gesti\\u00f3n de los sistemas de combate de esos aviones se transfieran a otras partes. Eso significa que Estados Unidos tendr\\u00e1 bajo su control los F-35 de la fuerza a\\u00e9rea italiana, aeronaves concebidas para el uso de las nuevas bombas nucleares B61-12 que el Pent\\u00e1gono planea desplegar contra Rusia, para sustituir las actuales B-61 , en nuestro territorio \\u00ab nacional \\u00bb.\\nManlio Dinucci Fuente\\nIl Manifesto (Italia)\",\n          \"WASHINGTON (Reuters) - U.S. House of Representatives Democratic leader Nancy Pelosi on Monday urged House Speaker Paul Ryan to insist that Intelligence Committee Chairman Devin Nunes recuse himself from the panel\\u2019s investigation of alleged ties between President Donald Trump\\u2019s associates and Russia. \\u201cChairman Nunes\\u2019 discredited behavior has tarnished that office,\\u201d Pelosi said in a statement. \\u201cSpeaker Ryan must insist that Chairman Nunes at least recuse himself from the Trump-Russia investigation immediately. That leadership is long overdue.\\u201d \",\n          \"WASHINGTON (Reuters) - President Donald Trump complained on Thursday that the United States was being unfairly treated in the Paris Climate Agreement and told Reuters he would announce a decision in about two weeks on whether Washington would remain in the accord. The Republican Trump, elected in November, had vowed during his campaign to withdraw from the Paris accord within 100 days of becoming president, part of a broader plan to sweep away Obama administration environmental protections he said were hobbling the economy. He has since said he is open to staying in the pact if Washington gets better terms, and scores of large U.S. companies and several Republican lawmakers have urged him to stay in the deal as a way to protect American industry interests overseas. Trump, who will mark the 100th day of his presidency on Saturday, told Reuters in an interview he would announce his decision \\u201cin about two weeks,\\u201d but complained that China, India, Russia and other countries were paying too little to help poorer countries battle climate change under the agreement\\u2019s Green Climate Fund. \\u201cIt\\u2019s not a fair situation because they are paying virtually nothing and we are paying massive amounts of money,\\u201d he said.  Asked for a hint of what his decision might be, he said: \\u201cI can say this, we want to be treated fairly.\\u201d An administration source told Reuters earlier that Trump administration officials would likely meet in May to decide whether to keep the United States in the climate deal, having had an initial meeting on Thursday at the White House. The group of advisers, which includes Secretary of State Rex Tillerson, Energy Secretary Rick Perry and national security adviser H.R. McMaster, was on track to make the decision before a Group of Seven summit on May 26, the source said. Tillerson, the former head of Exxon Mobil Corp, and Perry have said the country should remain in the agreement. McMaster shares that view, a source outside the administration said. Opponents of the pact include Environmental Protection Agency chief Scott Pruitt, the former attorney general of oil-producing state Oklahoma, and White House chief strategist Steve Bannon. Nearly 200 countries struck the Paris agreement to limit climate change by cutting carbon dioxide emissions and making investments in clean energy. Many companies such as BP Plc and Microsoft Corp have urged the United States to stay in the agreement to protect their competitiveness. A group of nine Republican lawmakers on Thursday urged Trump to stick to the pact, but to weaken the U.S. pledge to cut greenhouse gas emissions. Congressman Kevin Cramer of oil-producing state North Dakota and eight other Republicans in the House of Representatives sent a letter to Trump urging him to use the country\\u2019s \\u201cseat at the Paris table to defend and promote our commercial interest, including our manufacturing and fossil fuel sectors.\\u201d If the United States is to stay in the 2015 agreement, Washington should present a new emissions cutting pledge that \\u201cdoes no harm to our economy,\\u201d said the letter from Cramer, who advised Trump on energy and climate during his 2016 presidential campaign. Trump\\u2019s Democratic predecessor, former President Barack Obama, had pledged a 26 percent to 28 percent cut in U.S. greenhouse gas emissions from 2005 levels, by 2025. Most scientists say the world needs to curb greenhouse gas emissions to limit the effects of climate change, including rising seas, deadly heatwaves, and severe storms and droughts. The Republican lawmakers also said Washington should retain its seat on the Green Climate Fund but not make additional transfers to it. Obama pledged $3 billion to the fund in 2014, and gave $1 billion to it, with the last $500 million payment coming in his last days as president. \"\n        ],\n        \"semantic_type\": \"\",\n        \"description\": \"\"\n      }\n    },\n    {\n      \"column\": \"subject\",\n      \"properties\": {\n        \"dtype\": \"category\",\n        \"num_unique_values\": 8,\n        \"samples\": [\n          \"politics\",\n          \"Middle-east\",\n          \"News\"\n        ],\n        \"semantic_type\": \"\",\n        \"description\": \"\"\n      }\n    },\n    {\n      \"column\": \"date\",\n      \"properties\": {\n        \"dtype\": \"category\",\n        \"num_unique_values\": 2397,\n        \"samples\": [\n          \"October 6, 2016\",\n          \"June 10, 2017\",\n          \"Sep 13, 2015\"\n        ],\n        \"semantic_type\": \"\",\n        \"description\": \"\"\n      }\n    },\n    {\n      \"column\": \"label\",\n      \"properties\": {\n        \"dtype\": \"number\",\n        \"std\": 0,\n        \"min\": 0,\n        \"max\": 1,\n        \"num_unique_values\": 2,\n        \"samples\": [\n          1,\n          0\n        ],\n        \"semantic_type\": \"\",\n        \"description\": \"\"\n      }\n    },\n    {\n      \"column\": \"id\",\n      \"properties\": {\n        \"dtype\": \"number\",\n        \"std\": 14462,\n        \"min\": 1,\n        \"max\": 50098,\n        \"num_unique_values\": 50098,\n        \"samples\": [\n          49391,\n          3987\n        ],\n        \"semantic_type\": \"\",\n        \"description\": \"\"\n      }\n    },\n    {\n      \"column\": \"author\",\n      \"properties\": {\n        \"dtype\": \"category\",\n        \"num_unique_values\": 1732,\n        \"samples\": [\n          \"Dave Philipps\",\n          \"Charly Wilder\"\n        ],\n        \"semantic_type\": \"\",\n        \"description\": \"\"\n      }\n    }\n  ]\n}",
              "type": "dataframe",
              "variable_name": "df12"
            },
            "text/html": [
              "\n",
              "  <div id=\"df-102fe5d3-6255-4078-8669-1a4d5313d5e6\" class=\"colab-df-container\">\n",
              "    <div>\n",
              "<style scoped>\n",
              "    .dataframe tbody tr th:only-of-type {\n",
              "        vertical-align: middle;\n",
              "    }\n",
              "\n",
              "    .dataframe tbody tr th {\n",
              "        vertical-align: top;\n",
              "    }\n",
              "\n",
              "    .dataframe thead th {\n",
              "        text-align: right;\n",
              "    }\n",
              "</style>\n",
              "<table border=\"1\" class=\"dataframe\">\n",
              "  <thead>\n",
              "    <tr style=\"text-align: right;\">\n",
              "      <th></th>\n",
              "      <th>title</th>\n",
              "      <th>text</th>\n",
              "      <th>subject</th>\n",
              "      <th>date</th>\n",
              "      <th>label</th>\n",
              "      <th>id</th>\n",
              "      <th>author</th>\n",
              "    </tr>\n",
              "  </thead>\n",
              "  <tbody>\n",
              "    <tr>\n",
              "      <th>0</th>\n",
              "      <td>Donald Trump Sends Out Embarrassing New Year’...</td>\n",
              "      <td>Donald Trump just couldn t wish all Americans ...</td>\n",
              "      <td>News</td>\n",
              "      <td>December 31, 2017</td>\n",
              "      <td>0</td>\n",
              "      <td>1</td>\n",
              "      <td>NaN</td>\n",
              "    </tr>\n",
              "    <tr>\n",
              "      <th>1</th>\n",
              "      <td>Drunk Bragging Trump Staffer Started Russian ...</td>\n",
              "      <td>House Intelligence Committee Chairman Devin Nu...</td>\n",
              "      <td>News</td>\n",
              "      <td>December 31, 2017</td>\n",
              "      <td>0</td>\n",
              "      <td>2</td>\n",
              "      <td>NaN</td>\n",
              "    </tr>\n",
              "    <tr>\n",
              "      <th>2</th>\n",
              "      <td>Sheriff David Clarke Becomes An Internet Joke...</td>\n",
              "      <td>On Friday, it was revealed that former Milwauk...</td>\n",
              "      <td>News</td>\n",
              "      <td>December 30, 2017</td>\n",
              "      <td>0</td>\n",
              "      <td>3</td>\n",
              "      <td>NaN</td>\n",
              "    </tr>\n",
              "    <tr>\n",
              "      <th>3</th>\n",
              "      <td>Trump Is So Obsessed He Even Has Obama’s Name...</td>\n",
              "      <td>On Christmas day, Donald Trump announced that ...</td>\n",
              "      <td>News</td>\n",
              "      <td>December 29, 2017</td>\n",
              "      <td>0</td>\n",
              "      <td>4</td>\n",
              "      <td>NaN</td>\n",
              "    </tr>\n",
              "    <tr>\n",
              "      <th>4</th>\n",
              "      <td>Pope Francis Just Called Out Donald Trump Dur...</td>\n",
              "      <td>Pope Francis used his annual Christmas Day mes...</td>\n",
              "      <td>News</td>\n",
              "      <td>December 25, 2017</td>\n",
              "      <td>0</td>\n",
              "      <td>5</td>\n",
              "      <td>NaN</td>\n",
              "    </tr>\n",
              "  </tbody>\n",
              "</table>\n",
              "</div>\n",
              "    <div class=\"colab-df-buttons\">\n",
              "\n",
              "  <div class=\"colab-df-container\">\n",
              "    <button class=\"colab-df-convert\" onclick=\"convertToInteractive('df-102fe5d3-6255-4078-8669-1a4d5313d5e6')\"\n",
              "            title=\"Convert this dataframe to an interactive table.\"\n",
              "            style=\"display:none;\">\n",
              "\n",
              "  <svg xmlns=\"http://www.w3.org/2000/svg\" height=\"24px\" viewBox=\"0 -960 960 960\">\n",
              "    <path d=\"M120-120v-720h720v720H120Zm60-500h600v-160H180v160Zm220 220h160v-160H400v160Zm0 220h160v-160H400v160ZM180-400h160v-160H180v160Zm440 0h160v-160H620v160ZM180-180h160v-160H180v160Zm440 0h160v-160H620v160Z\"/>\n",
              "  </svg>\n",
              "    </button>\n",
              "\n",
              "  <style>\n",
              "    .colab-df-container {\n",
              "      display:flex;\n",
              "      gap: 12px;\n",
              "    }\n",
              "\n",
              "    .colab-df-convert {\n",
              "      background-color: #E8F0FE;\n",
              "      border: none;\n",
              "      border-radius: 50%;\n",
              "      cursor: pointer;\n",
              "      display: none;\n",
              "      fill: #1967D2;\n",
              "      height: 32px;\n",
              "      padding: 0 0 0 0;\n",
              "      width: 32px;\n",
              "    }\n",
              "\n",
              "    .colab-df-convert:hover {\n",
              "      background-color: #E2EBFA;\n",
              "      box-shadow: 0px 1px 2px rgba(60, 64, 67, 0.3), 0px 1px 3px 1px rgba(60, 64, 67, 0.15);\n",
              "      fill: #174EA6;\n",
              "    }\n",
              "\n",
              "    .colab-df-buttons div {\n",
              "      margin-bottom: 4px;\n",
              "    }\n",
              "\n",
              "    [theme=dark] .colab-df-convert {\n",
              "      background-color: #3B4455;\n",
              "      fill: #D2E3FC;\n",
              "    }\n",
              "\n",
              "    [theme=dark] .colab-df-convert:hover {\n",
              "      background-color: #434B5C;\n",
              "      box-shadow: 0px 1px 3px 1px rgba(0, 0, 0, 0.15);\n",
              "      filter: drop-shadow(0px 1px 2px rgba(0, 0, 0, 0.3));\n",
              "      fill: #FFFFFF;\n",
              "    }\n",
              "  </style>\n",
              "\n",
              "    <script>\n",
              "      const buttonEl =\n",
              "        document.querySelector('#df-102fe5d3-6255-4078-8669-1a4d5313d5e6 button.colab-df-convert');\n",
              "      buttonEl.style.display =\n",
              "        google.colab.kernel.accessAllowed ? 'block' : 'none';\n",
              "\n",
              "      async function convertToInteractive(key) {\n",
              "        const element = document.querySelector('#df-102fe5d3-6255-4078-8669-1a4d5313d5e6');\n",
              "        const dataTable =\n",
              "          await google.colab.kernel.invokeFunction('convertToInteractive',\n",
              "                                                    [key], {});\n",
              "        if (!dataTable) return;\n",
              "\n",
              "        const docLinkHtml = 'Like what you see? Visit the ' +\n",
              "          '<a target=\"_blank\" href=https://colab.research.google.com/notebooks/data_table.ipynb>data table notebook</a>'\n",
              "          + ' to learn more about interactive tables.';\n",
              "        element.innerHTML = '';\n",
              "        dataTable['output_type'] = 'display_data';\n",
              "        await google.colab.output.renderOutput(dataTable, element);\n",
              "        const docLink = document.createElement('div');\n",
              "        docLink.innerHTML = docLinkHtml;\n",
              "        element.appendChild(docLink);\n",
              "      }\n",
              "    </script>\n",
              "  </div>\n",
              "\n",
              "\n",
              "<div id=\"df-d08676c1-a614-4c79-bea3-d1f91670ca5f\">\n",
              "  <button class=\"colab-df-quickchart\" onclick=\"quickchart('df-d08676c1-a614-4c79-bea3-d1f91670ca5f')\"\n",
              "            title=\"Suggest charts\"\n",
              "            style=\"display:none;\">\n",
              "\n",
              "<svg xmlns=\"http://www.w3.org/2000/svg\" height=\"24px\"viewBox=\"0 0 24 24\"\n",
              "     width=\"24px\">\n",
              "    <g>\n",
              "        <path d=\"M19 3H5c-1.1 0-2 .9-2 2v14c0 1.1.9 2 2 2h14c1.1 0 2-.9 2-2V5c0-1.1-.9-2-2-2zM9 17H7v-7h2v7zm4 0h-2V7h2v10zm4 0h-2v-4h2v4z\"/>\n",
              "    </g>\n",
              "</svg>\n",
              "  </button>\n",
              "\n",
              "<style>\n",
              "  .colab-df-quickchart {\n",
              "      --bg-color: #E8F0FE;\n",
              "      --fill-color: #1967D2;\n",
              "      --hover-bg-color: #E2EBFA;\n",
              "      --hover-fill-color: #174EA6;\n",
              "      --disabled-fill-color: #AAA;\n",
              "      --disabled-bg-color: #DDD;\n",
              "  }\n",
              "\n",
              "  [theme=dark] .colab-df-quickchart {\n",
              "      --bg-color: #3B4455;\n",
              "      --fill-color: #D2E3FC;\n",
              "      --hover-bg-color: #434B5C;\n",
              "      --hover-fill-color: #FFFFFF;\n",
              "      --disabled-bg-color: #3B4455;\n",
              "      --disabled-fill-color: #666;\n",
              "  }\n",
              "\n",
              "  .colab-df-quickchart {\n",
              "    background-color: var(--bg-color);\n",
              "    border: none;\n",
              "    border-radius: 50%;\n",
              "    cursor: pointer;\n",
              "    display: none;\n",
              "    fill: var(--fill-color);\n",
              "    height: 32px;\n",
              "    padding: 0;\n",
              "    width: 32px;\n",
              "  }\n",
              "\n",
              "  .colab-df-quickchart:hover {\n",
              "    background-color: var(--hover-bg-color);\n",
              "    box-shadow: 0 1px 2px rgba(60, 64, 67, 0.3), 0 1px 3px 1px rgba(60, 64, 67, 0.15);\n",
              "    fill: var(--button-hover-fill-color);\n",
              "  }\n",
              "\n",
              "  .colab-df-quickchart-complete:disabled,\n",
              "  .colab-df-quickchart-complete:disabled:hover {\n",
              "    background-color: var(--disabled-bg-color);\n",
              "    fill: var(--disabled-fill-color);\n",
              "    box-shadow: none;\n",
              "  }\n",
              "\n",
              "  .colab-df-spinner {\n",
              "    border: 2px solid var(--fill-color);\n",
              "    border-color: transparent;\n",
              "    border-bottom-color: var(--fill-color);\n",
              "    animation:\n",
              "      spin 1s steps(1) infinite;\n",
              "  }\n",
              "\n",
              "  @keyframes spin {\n",
              "    0% {\n",
              "      border-color: transparent;\n",
              "      border-bottom-color: var(--fill-color);\n",
              "      border-left-color: var(--fill-color);\n",
              "    }\n",
              "    20% {\n",
              "      border-color: transparent;\n",
              "      border-left-color: var(--fill-color);\n",
              "      border-top-color: var(--fill-color);\n",
              "    }\n",
              "    30% {\n",
              "      border-color: transparent;\n",
              "      border-left-color: var(--fill-color);\n",
              "      border-top-color: var(--fill-color);\n",
              "      border-right-color: var(--fill-color);\n",
              "    }\n",
              "    40% {\n",
              "      border-color: transparent;\n",
              "      border-right-color: var(--fill-color);\n",
              "      border-top-color: var(--fill-color);\n",
              "    }\n",
              "    60% {\n",
              "      border-color: transparent;\n",
              "      border-right-color: var(--fill-color);\n",
              "    }\n",
              "    80% {\n",
              "      border-color: transparent;\n",
              "      border-right-color: var(--fill-color);\n",
              "      border-bottom-color: var(--fill-color);\n",
              "    }\n",
              "    90% {\n",
              "      border-color: transparent;\n",
              "      border-bottom-color: var(--fill-color);\n",
              "    }\n",
              "  }\n",
              "</style>\n",
              "\n",
              "  <script>\n",
              "    async function quickchart(key) {\n",
              "      const quickchartButtonEl =\n",
              "        document.querySelector('#' + key + ' button');\n",
              "      quickchartButtonEl.disabled = true;  // To prevent multiple clicks.\n",
              "      quickchartButtonEl.classList.add('colab-df-spinner');\n",
              "      try {\n",
              "        const charts = await google.colab.kernel.invokeFunction(\n",
              "            'suggestCharts', [key], {});\n",
              "      } catch (error) {\n",
              "        console.error('Error during call to suggestCharts:', error);\n",
              "      }\n",
              "      quickchartButtonEl.classList.remove('colab-df-spinner');\n",
              "      quickchartButtonEl.classList.add('colab-df-quickchart-complete');\n",
              "    }\n",
              "    (() => {\n",
              "      let quickchartButtonEl =\n",
              "        document.querySelector('#df-d08676c1-a614-4c79-bea3-d1f91670ca5f button');\n",
              "      quickchartButtonEl.style.display =\n",
              "        google.colab.kernel.accessAllowed ? 'block' : 'none';\n",
              "    })();\n",
              "  </script>\n",
              "</div>\n",
              "\n",
              "    </div>\n",
              "  </div>\n"
            ],
            "text/plain": [
              "                                               title  \\\n",
              "0   Donald Trump Sends Out Embarrassing New Year’...   \n",
              "1   Drunk Bragging Trump Staffer Started Russian ...   \n",
              "2   Sheriff David Clarke Becomes An Internet Joke...   \n",
              "3   Trump Is So Obsessed He Even Has Obama’s Name...   \n",
              "4   Pope Francis Just Called Out Donald Trump Dur...   \n",
              "\n",
              "                                                text subject  \\\n",
              "0  Donald Trump just couldn t wish all Americans ...    News   \n",
              "1  House Intelligence Committee Chairman Devin Nu...    News   \n",
              "2  On Friday, it was revealed that former Milwauk...    News   \n",
              "3  On Christmas day, Donald Trump announced that ...    News   \n",
              "4  Pope Francis used his annual Christmas Day mes...    News   \n",
              "\n",
              "                date  label  id author  \n",
              "0  December 31, 2017      0   1    NaN  \n",
              "1  December 31, 2017      0   2    NaN  \n",
              "2  December 30, 2017      0   3    NaN  \n",
              "3  December 29, 2017      0   4    NaN  \n",
              "4  December 25, 2017      0   5    NaN  "
            ]
          },
          "execution_count": 104,
          "metadata": {},
          "output_type": "execute_result"
        }
      ],
      "source": [
        "df12.head()"
      ]
    },
    {
      "cell_type": "code",
      "execution_count": null,
      "metadata": {
        "colab": {
          "base_uri": "https://localhost:8080/"
        },
        "id": "DMRZztgLGO7P",
        "outputId": "105af873-a751-4a6e-9a4b-2928cc297bb0"
      },
      "outputs": [
        {
          "output_type": "stream",
          "name": "stdout",
          "text": [
            "<class 'pandas.core.frame.DataFrame'>\n",
            "RangeIndex: 60352 entries, 0 to 60351\n",
            "Data columns (total 11 columns):\n",
            " #   Column   Non-Null Count  Dtype  \n",
            "---  ------   --------------  -----  \n",
            " 0   id_x     2422 non-null   float64\n",
            " 1   title    60230 non-null  object \n",
            " 2   Len      10254 non-null  float64\n",
            " 3   text     60270 non-null  object \n",
            " 4   Source   10254 non-null  object \n",
            " 5   date     55152 non-null  object \n",
            " 6   label    60352 non-null  int64  \n",
            " 7   id_y     7832 non-null   float64\n",
            " 8   subject  44898 non-null  object \n",
            " 9   id       5200 non-null   float64\n",
            " 10  author   4697 non-null   object \n",
            "dtypes: float64(4), int64(1), object(6)\n",
            "memory usage: 5.1+ MB\n"
          ]
        }
      ],
      "source": [
        "df14 = pd.merge(df13, df12, on=['title', 'text','label','date'], how='outer')\n",
        "df14.info()"
      ]
    },
    {
      "cell_type": "code",
      "execution_count": null,
      "metadata": {
        "id": "AFOZdOV9HzX5"
      },
      "outputs": [],
      "source": [
        "df14.drop(columns=['Len'],inplace=True)"
      ]
    },
    {
      "cell_type": "markdown",
      "metadata": {
        "id": "9CCLMU3_HobZ"
      },
      "source": [
        "**Combining df4 and df9 as df 15**"
      ]
    },
    {
      "cell_type": "code",
      "execution_count": null,
      "metadata": {
        "colab": {
          "base_uri": "https://localhost:8080/"
        },
        "id": "5jgaCpw8GxI3",
        "outputId": "9fff4276-6db3-4be8-8de4-648a733ba353"
      },
      "outputs": [
        {
          "output_type": "stream",
          "name": "stdout",
          "text": [
            "<class 'pandas.core.frame.DataFrame'>\n",
            "RangeIndex: 20800 entries, 0 to 20799\n",
            "Data columns (total 5 columns):\n",
            " #   Column  Non-Null Count  Dtype \n",
            "---  ------  --------------  ----- \n",
            " 0   id      20800 non-null  int64 \n",
            " 1   title   20242 non-null  object\n",
            " 2   author  18843 non-null  object\n",
            " 3   text    20761 non-null  object\n",
            " 4   label   20800 non-null  int64 \n",
            "dtypes: int64(2), object(3)\n",
            "memory usage: 812.6+ KB\n"
          ]
        }
      ],
      "source": [
        "df4.info()"
      ]
    },
    {
      "cell_type": "code",
      "execution_count": null,
      "metadata": {
        "colab": {
          "base_uri": "https://localhost:8080/"
        },
        "id": "Jf9GiPqqHtNX",
        "outputId": "fc8b68d5-a1d5-415e-ee23-ed1a31113e26"
      },
      "outputs": [
        {
          "name": "stdout",
          "output_type": "stream",
          "text": [
            "<class 'pandas.core.frame.DataFrame'>\n",
            "RangeIndex: 6335 entries, 0 to 6334\n",
            "Data columns (total 4 columns):\n",
            " #   Column      Non-Null Count  Dtype \n",
            "---  ------      --------------  ----- \n",
            " 0   Unnamed: 0  6335 non-null   int64 \n",
            " 1   title       6335 non-null   object\n",
            " 2   text        6335 non-null   object\n",
            " 3   label       6335 non-null   object\n",
            "dtypes: int64(1), object(3)\n",
            "memory usage: 198.1+ KB\n"
          ]
        }
      ],
      "source": [
        "df9.info()"
      ]
    },
    {
      "cell_type": "code",
      "execution_count": null,
      "metadata": {
        "colab": {
          "base_uri": "https://localhost:8080/",
          "height": 444
        },
        "id": "0e_EKxhJOaSj",
        "outputId": "746b4962-3224-467c-c1eb-92b880de2b04"
      },
      "outputs": [
        {
          "output_type": "execute_result",
          "data": {
            "text/plain": [
              "                                                  title  \\\n",
              "0                          You Can Smell Hillary’s Fear   \n",
              "1     Watch The Exact Moment Paul Ryan Committed Pol...   \n",
              "2           Kerry to go to Paris in gesture of sympathy   \n",
              "3     Bernie supporters on Twitter erupt in anger ag...   \n",
              "4      The Battle of New York: Why This Primary Matters   \n",
              "...                                                 ...   \n",
              "6330  State Department says it can't find emails fro...   \n",
              "6331  The ‘P’ in PBS Should Stand for ‘Plutocratic’ ...   \n",
              "6332  Anti-Trump Protesters Are Tools of the Oligarc...   \n",
              "6333  In Ethiopia, Obama seeks progress on peace, se...   \n",
              "6334  Jeb Bush Is Suddenly Attacking Trump. Here's W...   \n",
              "\n",
              "                                                   text label  \n",
              "0     Daniel Greenfield, a Shillman Journalism Fello...  FAKE  \n",
              "1     Google Pinterest Digg Linkedin Reddit Stumbleu...  FAKE  \n",
              "2     U.S. Secretary of State John F. Kerry said Mon...  REAL  \n",
              "3     — Kaydee King (@KaydeeKing) November 9, 2016 T...  FAKE  \n",
              "4     It's primary day in New York and front-runners...  REAL  \n",
              "...                                                 ...   ...  \n",
              "6330  The State Department told the Republican Natio...  REAL  \n",
              "6331  The ‘P’ in PBS Should Stand for ‘Plutocratic’ ...  FAKE  \n",
              "6332   Anti-Trump Protesters Are Tools of the Oligar...  FAKE  \n",
              "6333  ADDIS ABABA, Ethiopia —President Obama convene...  REAL  \n",
              "6334  Jeb Bush Is Suddenly Attacking Trump. Here's W...  REAL  \n",
              "\n",
              "[6335 rows x 3 columns]"
            ],
            "text/html": [
              "\n",
              "  <div id=\"df-eeb6728b-fe18-47e9-afb0-247f46a12c8f\" class=\"colab-df-container\">\n",
              "    <div>\n",
              "<style scoped>\n",
              "    .dataframe tbody tr th:only-of-type {\n",
              "        vertical-align: middle;\n",
              "    }\n",
              "\n",
              "    .dataframe tbody tr th {\n",
              "        vertical-align: top;\n",
              "    }\n",
              "\n",
              "    .dataframe thead th {\n",
              "        text-align: right;\n",
              "    }\n",
              "</style>\n",
              "<table border=\"1\" class=\"dataframe\">\n",
              "  <thead>\n",
              "    <tr style=\"text-align: right;\">\n",
              "      <th></th>\n",
              "      <th>title</th>\n",
              "      <th>text</th>\n",
              "      <th>label</th>\n",
              "    </tr>\n",
              "  </thead>\n",
              "  <tbody>\n",
              "    <tr>\n",
              "      <th>0</th>\n",
              "      <td>You Can Smell Hillary’s Fear</td>\n",
              "      <td>Daniel Greenfield, a Shillman Journalism Fello...</td>\n",
              "      <td>FAKE</td>\n",
              "    </tr>\n",
              "    <tr>\n",
              "      <th>1</th>\n",
              "      <td>Watch The Exact Moment Paul Ryan Committed Pol...</td>\n",
              "      <td>Google Pinterest Digg Linkedin Reddit Stumbleu...</td>\n",
              "      <td>FAKE</td>\n",
              "    </tr>\n",
              "    <tr>\n",
              "      <th>2</th>\n",
              "      <td>Kerry to go to Paris in gesture of sympathy</td>\n",
              "      <td>U.S. Secretary of State John F. Kerry said Mon...</td>\n",
              "      <td>REAL</td>\n",
              "    </tr>\n",
              "    <tr>\n",
              "      <th>3</th>\n",
              "      <td>Bernie supporters on Twitter erupt in anger ag...</td>\n",
              "      <td>— Kaydee King (@KaydeeKing) November 9, 2016 T...</td>\n",
              "      <td>FAKE</td>\n",
              "    </tr>\n",
              "    <tr>\n",
              "      <th>4</th>\n",
              "      <td>The Battle of New York: Why This Primary Matters</td>\n",
              "      <td>It's primary day in New York and front-runners...</td>\n",
              "      <td>REAL</td>\n",
              "    </tr>\n",
              "    <tr>\n",
              "      <th>...</th>\n",
              "      <td>...</td>\n",
              "      <td>...</td>\n",
              "      <td>...</td>\n",
              "    </tr>\n",
              "    <tr>\n",
              "      <th>6330</th>\n",
              "      <td>State Department says it can't find emails fro...</td>\n",
              "      <td>The State Department told the Republican Natio...</td>\n",
              "      <td>REAL</td>\n",
              "    </tr>\n",
              "    <tr>\n",
              "      <th>6331</th>\n",
              "      <td>The ‘P’ in PBS Should Stand for ‘Plutocratic’ ...</td>\n",
              "      <td>The ‘P’ in PBS Should Stand for ‘Plutocratic’ ...</td>\n",
              "      <td>FAKE</td>\n",
              "    </tr>\n",
              "    <tr>\n",
              "      <th>6332</th>\n",
              "      <td>Anti-Trump Protesters Are Tools of the Oligarc...</td>\n",
              "      <td>Anti-Trump Protesters Are Tools of the Oligar...</td>\n",
              "      <td>FAKE</td>\n",
              "    </tr>\n",
              "    <tr>\n",
              "      <th>6333</th>\n",
              "      <td>In Ethiopia, Obama seeks progress on peace, se...</td>\n",
              "      <td>ADDIS ABABA, Ethiopia —President Obama convene...</td>\n",
              "      <td>REAL</td>\n",
              "    </tr>\n",
              "    <tr>\n",
              "      <th>6334</th>\n",
              "      <td>Jeb Bush Is Suddenly Attacking Trump. Here's W...</td>\n",
              "      <td>Jeb Bush Is Suddenly Attacking Trump. Here's W...</td>\n",
              "      <td>REAL</td>\n",
              "    </tr>\n",
              "  </tbody>\n",
              "</table>\n",
              "<p>6335 rows × 3 columns</p>\n",
              "</div>\n",
              "    <div class=\"colab-df-buttons\">\n",
              "\n",
              "  <div class=\"colab-df-container\">\n",
              "    <button class=\"colab-df-convert\" onclick=\"convertToInteractive('df-eeb6728b-fe18-47e9-afb0-247f46a12c8f')\"\n",
              "            title=\"Convert this dataframe to an interactive table.\"\n",
              "            style=\"display:none;\">\n",
              "\n",
              "  <svg xmlns=\"http://www.w3.org/2000/svg\" height=\"24px\" viewBox=\"0 -960 960 960\">\n",
              "    <path d=\"M120-120v-720h720v720H120Zm60-500h600v-160H180v160Zm220 220h160v-160H400v160Zm0 220h160v-160H400v160ZM180-400h160v-160H180v160Zm440 0h160v-160H620v160ZM180-180h160v-160H180v160Zm440 0h160v-160H620v160Z\"/>\n",
              "  </svg>\n",
              "    </button>\n",
              "\n",
              "  <style>\n",
              "    .colab-df-container {\n",
              "      display:flex;\n",
              "      gap: 12px;\n",
              "    }\n",
              "\n",
              "    .colab-df-convert {\n",
              "      background-color: #E8F0FE;\n",
              "      border: none;\n",
              "      border-radius: 50%;\n",
              "      cursor: pointer;\n",
              "      display: none;\n",
              "      fill: #1967D2;\n",
              "      height: 32px;\n",
              "      padding: 0 0 0 0;\n",
              "      width: 32px;\n",
              "    }\n",
              "\n",
              "    .colab-df-convert:hover {\n",
              "      background-color: #E2EBFA;\n",
              "      box-shadow: 0px 1px 2px rgba(60, 64, 67, 0.3), 0px 1px 3px 1px rgba(60, 64, 67, 0.15);\n",
              "      fill: #174EA6;\n",
              "    }\n",
              "\n",
              "    .colab-df-buttons div {\n",
              "      margin-bottom: 4px;\n",
              "    }\n",
              "\n",
              "    [theme=dark] .colab-df-convert {\n",
              "      background-color: #3B4455;\n",
              "      fill: #D2E3FC;\n",
              "    }\n",
              "\n",
              "    [theme=dark] .colab-df-convert:hover {\n",
              "      background-color: #434B5C;\n",
              "      box-shadow: 0px 1px 3px 1px rgba(0, 0, 0, 0.15);\n",
              "      filter: drop-shadow(0px 1px 2px rgba(0, 0, 0, 0.3));\n",
              "      fill: #FFFFFF;\n",
              "    }\n",
              "  </style>\n",
              "\n",
              "    <script>\n",
              "      const buttonEl =\n",
              "        document.querySelector('#df-eeb6728b-fe18-47e9-afb0-247f46a12c8f button.colab-df-convert');\n",
              "      buttonEl.style.display =\n",
              "        google.colab.kernel.accessAllowed ? 'block' : 'none';\n",
              "\n",
              "      async function convertToInteractive(key) {\n",
              "        const element = document.querySelector('#df-eeb6728b-fe18-47e9-afb0-247f46a12c8f');\n",
              "        const dataTable =\n",
              "          await google.colab.kernel.invokeFunction('convertToInteractive',\n",
              "                                                    [key], {});\n",
              "        if (!dataTable) return;\n",
              "\n",
              "        const docLinkHtml = 'Like what you see? Visit the ' +\n",
              "          '<a target=\"_blank\" href=https://colab.research.google.com/notebooks/data_table.ipynb>data table notebook</a>'\n",
              "          + ' to learn more about interactive tables.';\n",
              "        element.innerHTML = '';\n",
              "        dataTable['output_type'] = 'display_data';\n",
              "        await google.colab.output.renderOutput(dataTable, element);\n",
              "        const docLink = document.createElement('div');\n",
              "        docLink.innerHTML = docLinkHtml;\n",
              "        element.appendChild(docLink);\n",
              "      }\n",
              "    </script>\n",
              "  </div>\n",
              "\n",
              "\n",
              "<div id=\"df-f154ece8-cce9-4954-9435-6bec2a74456d\">\n",
              "  <button class=\"colab-df-quickchart\" onclick=\"quickchart('df-f154ece8-cce9-4954-9435-6bec2a74456d')\"\n",
              "            title=\"Suggest charts\"\n",
              "            style=\"display:none;\">\n",
              "\n",
              "<svg xmlns=\"http://www.w3.org/2000/svg\" height=\"24px\"viewBox=\"0 0 24 24\"\n",
              "     width=\"24px\">\n",
              "    <g>\n",
              "        <path d=\"M19 3H5c-1.1 0-2 .9-2 2v14c0 1.1.9 2 2 2h14c1.1 0 2-.9 2-2V5c0-1.1-.9-2-2-2zM9 17H7v-7h2v7zm4 0h-2V7h2v10zm4 0h-2v-4h2v4z\"/>\n",
              "    </g>\n",
              "</svg>\n",
              "  </button>\n",
              "\n",
              "<style>\n",
              "  .colab-df-quickchart {\n",
              "      --bg-color: #E8F0FE;\n",
              "      --fill-color: #1967D2;\n",
              "      --hover-bg-color: #E2EBFA;\n",
              "      --hover-fill-color: #174EA6;\n",
              "      --disabled-fill-color: #AAA;\n",
              "      --disabled-bg-color: #DDD;\n",
              "  }\n",
              "\n",
              "  [theme=dark] .colab-df-quickchart {\n",
              "      --bg-color: #3B4455;\n",
              "      --fill-color: #D2E3FC;\n",
              "      --hover-bg-color: #434B5C;\n",
              "      --hover-fill-color: #FFFFFF;\n",
              "      --disabled-bg-color: #3B4455;\n",
              "      --disabled-fill-color: #666;\n",
              "  }\n",
              "\n",
              "  .colab-df-quickchart {\n",
              "    background-color: var(--bg-color);\n",
              "    border: none;\n",
              "    border-radius: 50%;\n",
              "    cursor: pointer;\n",
              "    display: none;\n",
              "    fill: var(--fill-color);\n",
              "    height: 32px;\n",
              "    padding: 0;\n",
              "    width: 32px;\n",
              "  }\n",
              "\n",
              "  .colab-df-quickchart:hover {\n",
              "    background-color: var(--hover-bg-color);\n",
              "    box-shadow: 0 1px 2px rgba(60, 64, 67, 0.3), 0 1px 3px 1px rgba(60, 64, 67, 0.15);\n",
              "    fill: var(--button-hover-fill-color);\n",
              "  }\n",
              "\n",
              "  .colab-df-quickchart-complete:disabled,\n",
              "  .colab-df-quickchart-complete:disabled:hover {\n",
              "    background-color: var(--disabled-bg-color);\n",
              "    fill: var(--disabled-fill-color);\n",
              "    box-shadow: none;\n",
              "  }\n",
              "\n",
              "  .colab-df-spinner {\n",
              "    border: 2px solid var(--fill-color);\n",
              "    border-color: transparent;\n",
              "    border-bottom-color: var(--fill-color);\n",
              "    animation:\n",
              "      spin 1s steps(1) infinite;\n",
              "  }\n",
              "\n",
              "  @keyframes spin {\n",
              "    0% {\n",
              "      border-color: transparent;\n",
              "      border-bottom-color: var(--fill-color);\n",
              "      border-left-color: var(--fill-color);\n",
              "    }\n",
              "    20% {\n",
              "      border-color: transparent;\n",
              "      border-left-color: var(--fill-color);\n",
              "      border-top-color: var(--fill-color);\n",
              "    }\n",
              "    30% {\n",
              "      border-color: transparent;\n",
              "      border-left-color: var(--fill-color);\n",
              "      border-top-color: var(--fill-color);\n",
              "      border-right-color: var(--fill-color);\n",
              "    }\n",
              "    40% {\n",
              "      border-color: transparent;\n",
              "      border-right-color: var(--fill-color);\n",
              "      border-top-color: var(--fill-color);\n",
              "    }\n",
              "    60% {\n",
              "      border-color: transparent;\n",
              "      border-right-color: var(--fill-color);\n",
              "    }\n",
              "    80% {\n",
              "      border-color: transparent;\n",
              "      border-right-color: var(--fill-color);\n",
              "      border-bottom-color: var(--fill-color);\n",
              "    }\n",
              "    90% {\n",
              "      border-color: transparent;\n",
              "      border-bottom-color: var(--fill-color);\n",
              "    }\n",
              "  }\n",
              "</style>\n",
              "\n",
              "  <script>\n",
              "    async function quickchart(key) {\n",
              "      const quickchartButtonEl =\n",
              "        document.querySelector('#' + key + ' button');\n",
              "      quickchartButtonEl.disabled = true;  // To prevent multiple clicks.\n",
              "      quickchartButtonEl.classList.add('colab-df-spinner');\n",
              "      try {\n",
              "        const charts = await google.colab.kernel.invokeFunction(\n",
              "            'suggestCharts', [key], {});\n",
              "      } catch (error) {\n",
              "        console.error('Error during call to suggestCharts:', error);\n",
              "      }\n",
              "      quickchartButtonEl.classList.remove('colab-df-spinner');\n",
              "      quickchartButtonEl.classList.add('colab-df-quickchart-complete');\n",
              "    }\n",
              "    (() => {\n",
              "      let quickchartButtonEl =\n",
              "        document.querySelector('#df-f154ece8-cce9-4954-9435-6bec2a74456d button');\n",
              "      quickchartButtonEl.style.display =\n",
              "        google.colab.kernel.accessAllowed ? 'block' : 'none';\n",
              "    })();\n",
              "  </script>\n",
              "</div>\n",
              "\n",
              "    </div>\n",
              "  </div>\n"
            ],
            "application/vnd.google.colaboratory.intrinsic+json": {
              "type": "dataframe",
              "summary": "{\n  \"name\": \"df9\",\n  \"rows\": 6335,\n  \"fields\": [\n    {\n      \"column\": \"title\",\n      \"properties\": {\n        \"dtype\": \"string\",\n        \"num_unique_values\": 6256,\n        \"samples\": [\n          \"Elizabeth Warren's speech attacking Donald Trump made a bigger argument about Republicans\",\n          \"Assange: Clinton And ISIS Are Funded By Same People, \\u201cTrump Not Permitted To Win\\u201d\",\n          \"Reporters Stunned to Learn Trump Fans Lining Up 12 Hours Before Rally Starts\"\n        ],\n        \"semantic_type\": \"\",\n        \"description\": \"\"\n      }\n    },\n    {\n      \"column\": \"text\",\n      \"properties\": {\n        \"dtype\": \"string\",\n        \"num_unique_values\": 6060,\n        \"samples\": [\n          \"Republicans taking control of Congress this coming week will try to overcome their reputation as a divided party hobbled by infighting by working to reshape policy in ways that Americans will feel in corporate boardrooms, on factory floors and at the gas pump.\\n\\nIncoming committee chairmen are preparing fresh oversight of federal agencies while rank-and-file members will be encouraged to use a new budget plan and government spending bills to chip away at President Obama\\u2019s environmental regulations, health-care reform and outreach to Cuba and Iran.\\n\\nAfter years of sparring with the White House, Republicans are eager to demonstrate productivity and some level of bipartisan \\u00adcooperation with Obama and the Democrats. Public disgust with Washington gridlock remains high, and with the 2016 presidential campaign beginning in earnest, broader voter interest \\u2014 especially among independents and Democrats \\u2014 could put recent GOP gains at risk in less than two years.\\n\\n\\u201cOn the things where we agree, the goal will be to make a law, not just put something on [Obama\\u2019s] desk,\\u201d incoming Senate Majority Leader Mitch McConnell (R-Ky.) said in an interview, adding later: \\u201cI want to make it clear: Desire for a signature is not going to dictate everything that we do.\\u201d\\n\\nSecuring final passage of bills will require McConnell and House Speaker John A. Boehner (R-Ohio) to compromise with Democrats while holding together their own ranks, which have clashed repeatedly over issues such as spending and immigration. Many GOP leaders hope that their differences can be set aside in favor of legislative wins.\\n\\nThe House and Senate formally reconvene Tuesday. New members will be sworn in and top leaders and committee chairmen formally installed on a day steeped in tradition and ceremony.\\n\\nBoehner and McConnell will be backed by larger GOP majorities: 246 Republicans in the House \\u2014 the party\\u2019s largest majority since just after World War II \\u2014 and 54 GOP senators, an impressive gain but short of the 60 votes required to overcome most procedural hurdles that Democrats will have at their disposal.\\n\\nIn the Senate, the rebranding effort will begin with energy policy.\\n\\nMcConnell plans to start his tenure as Senate majority leader with a \\u201cfull-throated\\u201d debate on national energy policy, ranging from a new oil pipeline to additional oil exploration. He has also promised consideration of liberal alternatives.\\n\\nMcConnell wants to use the controversial proposal to authorize construction of the Keystone XL pipeline as the gen\\u00adesis for a free-wheeling Senate debate about the United States\\u2019 energy future, in which both sides will have the opportunity to offer and debate more expansive energy issues than the narrow pipeline proposal.\\n\\n\\u201cWe can treat this like a serious and significant energy debate,\\u201d McConnell said in an interview before Christmas in his Capitol office.\\n\\nObama has resisted GOP efforts to authorize the pipeline, but dozens of moderate congressional Democrats support the bill and a broader energy debate.\\n\\nOther Democrats are skeptical of McConnell\\u2019s plans.\\n\\n\\u201cThe $64,000 question as to whether the Congress can get anything done is which way the Republican leadership goes,\\u201d Sen. Charles E. Schumer (D-N.Y.) said in an interview Saturday. \\u201cIf they let the tea party pull them to the right into the path of negativity and obstruction, we\\u2019ll get nothing done.\\u201d\\n\\nSen. John Hoeven (R-N.D.), a lead author of the Keystone bill, said that Republicans plan to consider proposals allowing the export of liquefied natural gas; to give state governments greater power to oversee hydraulic fracturing; and to restrict the federal government\\u2019s role in the construction of cross-border gas pipelines.\\n\\n\\u201cI don\\u2019t think we have an energy bill that doesn\\u2019t have a Democratic co-sponsor on it,\\u201d he said. \\u201cBecause at the end of the day you\\u2019ve got to get at least 60 votes\\u201d to clear procedural hurdles.\\n\\nThe open process is part of McConnell\\u2019s effort to live up to his pledge to restore the Senate\\u2019s grand tradition of free and full debate, while also advancing conservative causes. A skilled practitioner in the use of the Senate\\u2019s arcane procedural rules to move or block legislation, McConnell has pledged to use those rules to score conservative wins. He has been coaching GOP senators that their most likely path to wins will come on the annual spending bills for the federal government \\u2014 which Republicans have routinely opposed on the grounds that they spend too much taxpayer money.\\n\\nOther party leaders echo those sentiments. \\u201cI think a majority [of Republicans] recognize that we have to govern responsibly,\\u201d said Sen. John McCain (R-Ariz.), who will become chairman of the Armed Services Committee. \\u201cWe have to show that we can be a productive party, and that, I think, will have a direct effect on whether we\\u2019re able to elect a Republican as president in 2016.\\u201d\\n\\nBut now, with control of the House and Senate, Republicans have more leeway to attach policy riders to spending bills that will restrict federal agencies in their oversight of environmental, labor and other regulations. These still may draw presidential vetoes, but McConnell believes that Republicans will have leverage to get some restrictions included, just as the mammoth spending measure approved last month included language sought by Wall Street firms making risky trades.\\n\\nIn the House, most of the early weeks will seem like a do-over of the past two years \\u2014 except that many of the bills passed will get swifter Senate consideration.\\n\\nUp first is a veterans employment bill that passed last year with bipartisan support, according to senior leadership aides. There is also a bill to loosen work requirements set by the Affordable Care Act and a similar bill to authorize the Keystone pipeline.\\n\\nThe second week of January will be devoted to a new spending plan for the Department of Homeland Security. The spending bill funds DHS only until the end of February, a move designed to give Republicans more time to craft a legislative response to Obama\\u2019s decision to change immigration policy through executive actions. But no specific proposals have emerged, the aides said.\\n\\nThen there are the investigations into alleged wrongdoing at agencies including the Internal Revenue Service, the Justice Department and the Environmental Protection Agency.\\n\\n\\u201cThere are issues that haven\\u2019t been resolved,\\u201d said Rep. Jason Chaffetz (R-Utah), the new chairman of the House Oversight and Government Reform Committee.\\n\\nHe is launching subcommittees to closely track Obama\\u2019s energy and environmental policies and created \\u201cadministrative rules,\\u201d a panel that will \\u201ctry to figure out what the administration is doing next with its rule-making authority. We\\u2019re going to jump on those as fast as we possibly can,\\u201d he said.\\n\\nBefore the work begins, Boehner is expected to face another leadership challenge. After he survived a close call two years ago, conservative blogs and radio shows are actively supporting another effort to unseat him.\\n\\nPresuming that the 434 currently seated House members show up to vote Tuesday and that all Democrats vote against him, at least 28 of the 246 Republicans also would need to vote against Boehner to deny him the gavel. (The 435th House seat is held by Rep. Michael G. Grimm (R-N.Y.), who plans to resign Monday after recently pleading guilty to tax evasion charges.)\\n\\nRep. Walter B. Jones (R-N.C.), who opposed Boehner two years ago, said in a recent radio interview that he\\u2019ll do it again, adding that at least 16 to 18 Republican members might vote against the speaker. Among them is Rep. Jim Bridenstine (R-Okla.), who said Friday that he will vote against the speaker because the spending bill passed last month didn\\u2019t fully strip DHS of its funding.\\n\\nRep. Tom Cole (R-Okla.), a Boehner ally, said in an interview that \\u201cI expect a few scattered \\u2018no\\u2019 votes. But because Boehner has been strengthened by the gains in the election, the speaker election should mostly be an uneventful coronation.\\u201d\\n\\nThe opening weeks of the new Congress are also expected to include the confirmation of Ashton Carter, Obama\\u2019s pick to lead the Pentagon, and Loretta Lynch to be the next attorney general. Concerns with Iran are also expected to be an early focus. The Obama administration persuaded Senate Democrats last year to hold off debating a bipartisan proposal authorizing stronger sanctions against the Iranian regime.\\n\\nBut Sen. Bob Corker (R-Tenn.), the incoming chairman of the Foreign Relations Committee, said, \\u201cMy guess is fairly early on in some form or fashion the Senate\\u2019s going to want to weigh in on Iran.\\u201d\\n\\nCorker also plans to launch \\u201ca rigorous hearing process\\u201d on Obama\\u2019s decision to restore diplomatic relations with Cuba. Republicans have threatened to block funding for a new embassy in Havana and confirmation of a new ambassador to Cuba. But Obama could veto spending bills that include such restrictions, sparking a showdown over whether the GOP is willing to shutter parts of the government over a new Cuba policy.\\n\\nIn 2016, Republicans will be defending at least 24 Senate seats and about a dozen first-term House members from swing districts around the country. Party leaders have a political imperative to govern and avoid short-term fights with Obama.\\n\\n\\u201cWe will see if there is an opportunity for a fourth quarter for President Obama that actually moves the country in the direction we\\u2019d like to go,\\u201d said Sen. Roger Wicker (R-Miss.), who also will be responsible for helping reelect GOP senators in 2016.\\n\\n\\u201cReagan did it a generation ago working with Democrats. Clinton did it almost two decades ago with welfare reform and deficit reduction,\\u201d he said. \\u201cSo it can be done \\u2014 if the president is disposed to move in that direction.\\u201d\",\n          \"Reps. Kevin McCarthy, R-California, Jason Chaffetz, R-Utah, and Daniel Webster, R-Florida, are the three candidates vying for the post, and the winner becomes the favorite to become second in line to succeed the President of the United States.\\n\\nBut Thursday's vote inside the House GOP conference is just the first step. The candidate who gets the Republican party's internal nod still has to be approved by the full House of Representatives on October 29. And that's where things can get tricky.\\n\\nIf the Republican nominee can't garner 218 votes on the House floor, then Boehner will remain the speaker. And the potential for multiple rounds of votes on the House floor could open up the election to other candidates beyond the three that are in the race now. It would also prolong the deeply divisive and public process for House Republicans, who are hoping to chart a new path forward and prove they can make the dysfunctional Capitol work.\\n\\nThe three candidates will make their pitch to GOP colleagues at a \\\"candidate forum\\\" on Thursday morning in a conference room in the basement of the Capitol. Each gets three minutes to make a speech before answering questions from members. At noon, the 247 members of the House Republican conference gather in the ornate Ways and Means Committee room to vote. Under the House GOP conference rules, the three candidates are not allowed to make their own speeches. Instead each can designate one supporter to make a three-minute address nominating them for the post. Then up to two additional supporters can speak for another minute each on the candidate's behalf. To win the GOP nomination, a candidate needs a simple majority of all House Republicans -- or 125 votes. (That number could change if any House Republicans are absent or opts not to vote in the election.) Boehner plans to vote for McCarthy before heading to New York to tape an appearance on \\\"The Tonight Show,\\\" according to a spokesman. The delegate from American Samoa, Amata Radewagen, who doesn't get a vote on the House floor, does get to cast a vote for speaker inside the conference meeting. RELATED: John Boehner to appear on 'The Tonight Show' Three members serve as \\\"tally clerks\\\" and collect the ballots and count how many votes each candidate receives. Once all the ballots are counted, a representative of the conference will announce the results, along with the vote totals. If no candidate gets a majority of the conference on the first vote, a second ballot circulates with the names of the top two vote-getters, and a winner is announced after those ballots are counted. The new speaker can't take the gavel from Boehner until the full House of Representatives votes. Unlike the private contest on Thursday, the floor vote is covered live by C-SPAN's television cameras inside the House chamber. Each member of Congress is called on in alphabetical order to stand and announce their choice for speaker. The winner must win the votes of a majority -- 218, if everyone in the House is present -- in order to win. The vast majority of House Democrats are expected for to vote for former Speaker and current Minority Leader Nancy Pelosi. House Republican conference rules require that GOP members support their party's nominee on the floor, but many conservatives have ignored that rule in recent elections. That's where any drama will occur. If the GOP nominee fails to get a majority, the contest on the House floor could go to multiple ballots. Boehner will remain the speaker until a majority of the House votes to elect a new candidate. The last time it took more than one ballot to elect a speaker was in 1923 when it took nine ballots over the course of three days. And you don't need to be in the House to get the job. The Constitution does not require that the speaker be someone currently serving in Congress, but all who have been elected to the post have been House members. Former Secretary of State Colin Powell, Sen. Rand Paul and Sen. Jeff Sessions received votes in the January 2015 election . And two years earlier, David Walker, the former head of the General Accounting Office, received one vote\",\n          \"Over the last six years, the Obama administration has been trying to address global warming\\u00a0with a flurry of rules aimed at reducing US carbon-dioxide emissions. First there were stricter fuel-economy standards for cars and trucks. More recently, the EPA\\u00a0proposed sweeping carbon regulations for coal-fired power plants (known as the \\\"Clean Power Plan\\\").\\n\\nThe overarching goal was to cut US greenhouse-gas emissions 17 percent below 2005 levels by 2020. That, the administration believed, would help advance global climate talks.\\n\\nBut all of Obama's moves so far\\u00a0have been insufficient to get to that 17 percent cut by 2020. As recent analyses from the Rhodium Group and the Clean Air Task Force\\u00a0have argued, the US also needs to reduce methane emissions dramatically to get there:\\n\\nCarbon-dioxide is the biggest greenhouse gas responsible for global warming. But it's not the only one. There's also\\u00a0methane.\\u00a0The US burns a lot of methane \\u2014 known as \\\"natural gas\\\" \\u2014 for energy. But when methane leaks out of oil and gas wells or pipelines and into the atmosphere, it acts as a potent greenhouse gas. (The White House says it's 25 times as effective at trapping heat as carbon dioxide. Other scientists say 34 times.)\\n\\nIn 2012, the EPA estimated that methane accounted for roughly\\u00a08.7 percent of US greenhouse-gas emissions (though this may be an\\u00a0underestimate). But experts have warned that methane leaks could be poised to grow in the coming years.\\n\\nThanks to the\\u00a0fracking boom, US energy companies have been extracting more and more natural gas from shale formations. On one level, that's good news for climate change: utilities are now burning more natural gas for electricity instead of coal, which means lower carbon-dioxide emissions from power plants.\\n\\nThe problem is that all this new drilling increases the risk of methane leaking into the air \\u2014 and those leaks\\u00a0are undermining the climate benefits of the gas boom.\\n\\nIn theory, it should be doable to plug these methane emissions,\\u00a0which can come from leaky pipelines or faulty drilling operations. Many companies already\\u00a0use infrared cameras to detect leaks and plug them. And they have financial incentives to do so \\u2014 after all, these companies would rather capture that methane and sell it for money than just have it float off into the air.\\n\\nMany oil and gas companies are already taking steps to detect and plug leaks\\n\\nStill, the White House wants to make sure these leaks really get plugged. So, on Wednesday, it\\u00a0announced a goal of cutting methane emissions from oil and gas operations 45 percent below 2012 levels by 2025.\\n\\nThis would be done through a combination of guidelines for voluntary actions by the industry and a hodgepodge of new regulations\\u00a0crafted by the EPA and other agencies. Some rules would focus on methane leaks from new oil and gas wells. Others would focus on pipelines used to transport the natural gas. The Interior Department is updating standards for drilling on public lands.\\n\\nThe White House noted that the oil and gas industry has already managed to cut methane emissions 16 percent since 1990 through voluntary measures. \\\"Nevertheless,\\\" it added, \\\"emissions from the oil and gas sector are projected to rise more than 25 percent by 2025 without additional steps to lower them.\\\"\\n\\nSome environmental groups said the White House's plan didn't go far enough. For example, the EPA is currently only working on rules to reduce emissions at new oil and gas wells \\u2014 and only much later will they work on rules for\\u00a0existing wells, which are by far the biggest source of emissions.\\n\\n\\\"While setting methane standards for the first time is an important step, failing to immediately regulate existing oil and gas equipment nationwide misses 90% of the methane pollution from the industry,\\\" Conrad Schneider of the Clean Air Task Force said in a statement.\\n\\nJayni Hein, policy director at the Institute for Policy Integrity at NYU School of Law, agreed: \\\"EPA's steps announced today would trim the sector's methane releases by about a third. We can and should go farther by regulating existing oil and natural gas sources.\\\"\\n\\nBy contrast, many oil and gas companies don't want new regulations at all \\u2014 they argue that the industry is already curbing methane leaks as is.\\u00a0\\\"Emissions will continue to fall as operators innovate and find new ways to capture and deliver more methane to consumers,\\\" said Jack Gerard, head of the American Petroleum Institute, in a statement. \\\"Existing EPA and state regulations are working. Another layer of burdensome requirements could actually slow down industry progress to reduce methane emissions.\\\"\\n\\nMeanwhile, it's worth noting that there are other sources of methane besides oil and gas. In 2012,\\u00a0according to the EPA, roughly 30 percent of methane in the United States came from natural-gas and petroleum operations (though, again, that may be an undercount).\\n\\nObama is relying on voluntary measures for methane in agriculture\\n\\n-- By contrast,\\u00a036 percent of US.methane emissions came from agriculture. The beef and dairy industry is a major contributor here: when cows belch, they produce methane (known as \\\"enteric fermentation\\\"). Other sources include decomposing cow manure, as well as methane from rice cultivation.\\n\\n-- Another\\u00a018 percent came from landfills. When food and other trash decays in a landfill, the organisms that feed on that trash emit methane into the atmosphere.\\n\\nThe Obama administration\\u00a0has been working on steps to cut methane in these areas, too. Back in March, the EPA announced it would come up with standards to reduce methane from all future landfills. It will then solicit public comments on whether to regulate landfills that have already been built.\\n\\nAs for cow burps, however, the administration is relying on purely voluntary measures for now. In June 2014, the EPA unveiled a \\\"partnership\\\" with the dairy industry to speed up the adoption of methane digesters that turn cow dung into energy. The hope is to reduce methane emissions from the dairy sector 25 percent by 2020.\\n\\nFurther reading: Obama has promised to cut US emissions 17% by 2020. Is that still possible?\"\n        ],\n        \"semantic_type\": \"\",\n        \"description\": \"\"\n      }\n    },\n    {\n      \"column\": \"label\",\n      \"properties\": {\n        \"dtype\": \"category\",\n        \"num_unique_values\": 2,\n        \"samples\": [\n          \"REAL\",\n          \"FAKE\"\n        ],\n        \"semantic_type\": \"\",\n        \"description\": \"\"\n      }\n    }\n  ]\n}"
            }
          },
          "metadata": {},
          "execution_count": 18
        }
      ],
      "source": [
        "df9.drop(columns=\"Unnamed: 0\")"
      ]
    },
    {
      "cell_type": "code",
      "execution_count": null,
      "metadata": {
        "id": "sjNLoe7HPBT4"
      },
      "outputs": [],
      "source": [
        "df9['label'] = df9['label'].map({'FAKE': 0, 'REAL': 1})"
      ]
    },
    {
      "cell_type": "code",
      "execution_count": null,
      "metadata": {
        "id": "k1eJcP1XOjVK"
      },
      "outputs": [],
      "source": [
        "df15 = pd.merge(df9,df4,on=['title','text','label'],how=\"outer\")"
      ]
    },
    {
      "cell_type": "code",
      "execution_count": null,
      "metadata": {
        "id": "nI3rlNKEO76W"
      },
      "outputs": [],
      "source": [
        "df15.drop(columns='Unnamed: 0',inplace=True)"
      ]
    },
    {
      "cell_type": "code",
      "execution_count": null,
      "metadata": {
        "colab": {
          "base_uri": "https://localhost:8080/",
          "height": 424
        },
        "id": "kUg3wlEaQWeU",
        "outputId": "942b7046-a12c-4d05-a342-5d136ac8b063"
      },
      "outputs": [
        {
          "output_type": "execute_result",
          "data": {
            "text/plain": [
              "                                                   title  \\\n",
              "0      \"Allahu Akbar, the Russians are here!\": Aleppo...   \n",
              "1      \"America has a simple ideology\": how one of Ru...   \n",
              "2      \"Authoritarianism\": How the West demonizes str...   \n",
              "3      \"Blue Alerts\" to be used to keep the 'War on C...   \n",
              "4      \"Democracy Is Coming to the USA\" - Russia News...   \n",
              "...                                                  ...   \n",
              "27130                                                NaN   \n",
              "27131                                                NaN   \n",
              "27132                                                NaN   \n",
              "27133                                                NaN   \n",
              "27134                                                NaN   \n",
              "\n",
              "                                                    text  label       id  \\\n",
              "0      November 7, 2016 - Fort Russ News -  RusVesna ...      1  13212.0   \n",
              "1      The United States comes up constantly when you...      1      NaN   \n",
              "2      November 22, 2016 -  Deena Stryker, Katehon - ...      1    590.0   \n",
              "3      \"Blue Alerts\" to be used to keep the 'War on C...      1   1602.0   \n",
              "4      This post was originally published on this sit...      1  14703.0   \n",
              "...                                                  ...    ...      ...   \n",
              "27130  “Do I know the risk involved in reporting on s...      1   1152.0   \n",
              "27131  “If conservative ‘Christians’ are about Jesus ...      1  18617.0   \n",
              "27132  “Jesus” will save his soul not his body, Ignor...      1  19158.0   \n",
              "27133                               “Leach” Say no more.      1   2712.0   \n",
              "27134                                                  🙂      1  13892.0   \n",
              "\n",
              "                                     author  \n",
              "0      Jafe Arnoldski (noreply@blogger.com)  \n",
              "1                                       NaN  \n",
              "2      Jafe Arnoldski (noreply@blogger.com)  \n",
              "3                                       NaN  \n",
              "4                                       NaN  \n",
              "...                                     ...  \n",
              "27130                            Miskondukt  \n",
              "27131                                Neil D  \n",
              "27132                   WakeUpAmericaPlease  \n",
              "27133                        Phonics Monkey  \n",
              "27134                             Jeannette  \n",
              "\n",
              "[27135 rows x 5 columns]"
            ],
            "text/html": [
              "\n",
              "  <div id=\"df-bdddfd49-d7fe-410d-ba7f-82c318f0248d\" class=\"colab-df-container\">\n",
              "    <div>\n",
              "<style scoped>\n",
              "    .dataframe tbody tr th:only-of-type {\n",
              "        vertical-align: middle;\n",
              "    }\n",
              "\n",
              "    .dataframe tbody tr th {\n",
              "        vertical-align: top;\n",
              "    }\n",
              "\n",
              "    .dataframe thead th {\n",
              "        text-align: right;\n",
              "    }\n",
              "</style>\n",
              "<table border=\"1\" class=\"dataframe\">\n",
              "  <thead>\n",
              "    <tr style=\"text-align: right;\">\n",
              "      <th></th>\n",
              "      <th>title</th>\n",
              "      <th>text</th>\n",
              "      <th>label</th>\n",
              "      <th>id</th>\n",
              "      <th>author</th>\n",
              "    </tr>\n",
              "  </thead>\n",
              "  <tbody>\n",
              "    <tr>\n",
              "      <th>0</th>\n",
              "      <td>\"Allahu Akbar, the Russians are here!\": Aleppo...</td>\n",
              "      <td>November 7, 2016 - Fort Russ News -  RusVesna ...</td>\n",
              "      <td>1</td>\n",
              "      <td>13212.0</td>\n",
              "      <td>Jafe Arnoldski (noreply@blogger.com)</td>\n",
              "    </tr>\n",
              "    <tr>\n",
              "      <th>1</th>\n",
              "      <td>\"America has a simple ideology\": how one of Ru...</td>\n",
              "      <td>The United States comes up constantly when you...</td>\n",
              "      <td>1</td>\n",
              "      <td>NaN</td>\n",
              "      <td>NaN</td>\n",
              "    </tr>\n",
              "    <tr>\n",
              "      <th>2</th>\n",
              "      <td>\"Authoritarianism\": How the West demonizes str...</td>\n",
              "      <td>November 22, 2016 -  Deena Stryker, Katehon - ...</td>\n",
              "      <td>1</td>\n",
              "      <td>590.0</td>\n",
              "      <td>Jafe Arnoldski (noreply@blogger.com)</td>\n",
              "    </tr>\n",
              "    <tr>\n",
              "      <th>3</th>\n",
              "      <td>\"Blue Alerts\" to be used to keep the 'War on C...</td>\n",
              "      <td>\"Blue Alerts\" to be used to keep the 'War on C...</td>\n",
              "      <td>1</td>\n",
              "      <td>1602.0</td>\n",
              "      <td>NaN</td>\n",
              "    </tr>\n",
              "    <tr>\n",
              "      <th>4</th>\n",
              "      <td>\"Democracy Is Coming to the USA\" - Russia News...</td>\n",
              "      <td>This post was originally published on this sit...</td>\n",
              "      <td>1</td>\n",
              "      <td>14703.0</td>\n",
              "      <td>NaN</td>\n",
              "    </tr>\n",
              "    <tr>\n",
              "      <th>...</th>\n",
              "      <td>...</td>\n",
              "      <td>...</td>\n",
              "      <td>...</td>\n",
              "      <td>...</td>\n",
              "      <td>...</td>\n",
              "    </tr>\n",
              "    <tr>\n",
              "      <th>27130</th>\n",
              "      <td>NaN</td>\n",
              "      <td>“Do I know the risk involved in reporting on s...</td>\n",
              "      <td>1</td>\n",
              "      <td>1152.0</td>\n",
              "      <td>Miskondukt</td>\n",
              "    </tr>\n",
              "    <tr>\n",
              "      <th>27131</th>\n",
              "      <td>NaN</td>\n",
              "      <td>“If conservative ‘Christians’ are about Jesus ...</td>\n",
              "      <td>1</td>\n",
              "      <td>18617.0</td>\n",
              "      <td>Neil D</td>\n",
              "    </tr>\n",
              "    <tr>\n",
              "      <th>27132</th>\n",
              "      <td>NaN</td>\n",
              "      <td>“Jesus” will save his soul not his body, Ignor...</td>\n",
              "      <td>1</td>\n",
              "      <td>19158.0</td>\n",
              "      <td>WakeUpAmericaPlease</td>\n",
              "    </tr>\n",
              "    <tr>\n",
              "      <th>27133</th>\n",
              "      <td>NaN</td>\n",
              "      <td>“Leach” Say no more.</td>\n",
              "      <td>1</td>\n",
              "      <td>2712.0</td>\n",
              "      <td>Phonics Monkey</td>\n",
              "    </tr>\n",
              "    <tr>\n",
              "      <th>27134</th>\n",
              "      <td>NaN</td>\n",
              "      <td>🙂</td>\n",
              "      <td>1</td>\n",
              "      <td>13892.0</td>\n",
              "      <td>Jeannette</td>\n",
              "    </tr>\n",
              "  </tbody>\n",
              "</table>\n",
              "<p>27135 rows × 5 columns</p>\n",
              "</div>\n",
              "    <div class=\"colab-df-buttons\">\n",
              "\n",
              "  <div class=\"colab-df-container\">\n",
              "    <button class=\"colab-df-convert\" onclick=\"convertToInteractive('df-bdddfd49-d7fe-410d-ba7f-82c318f0248d')\"\n",
              "            title=\"Convert this dataframe to an interactive table.\"\n",
              "            style=\"display:none;\">\n",
              "\n",
              "  <svg xmlns=\"http://www.w3.org/2000/svg\" height=\"24px\" viewBox=\"0 -960 960 960\">\n",
              "    <path d=\"M120-120v-720h720v720H120Zm60-500h600v-160H180v160Zm220 220h160v-160H400v160Zm0 220h160v-160H400v160ZM180-400h160v-160H180v160Zm440 0h160v-160H620v160ZM180-180h160v-160H180v160Zm440 0h160v-160H620v160Z\"/>\n",
              "  </svg>\n",
              "    </button>\n",
              "\n",
              "  <style>\n",
              "    .colab-df-container {\n",
              "      display:flex;\n",
              "      gap: 12px;\n",
              "    }\n",
              "\n",
              "    .colab-df-convert {\n",
              "      background-color: #E8F0FE;\n",
              "      border: none;\n",
              "      border-radius: 50%;\n",
              "      cursor: pointer;\n",
              "      display: none;\n",
              "      fill: #1967D2;\n",
              "      height: 32px;\n",
              "      padding: 0 0 0 0;\n",
              "      width: 32px;\n",
              "    }\n",
              "\n",
              "    .colab-df-convert:hover {\n",
              "      background-color: #E2EBFA;\n",
              "      box-shadow: 0px 1px 2px rgba(60, 64, 67, 0.3), 0px 1px 3px 1px rgba(60, 64, 67, 0.15);\n",
              "      fill: #174EA6;\n",
              "    }\n",
              "\n",
              "    .colab-df-buttons div {\n",
              "      margin-bottom: 4px;\n",
              "    }\n",
              "\n",
              "    [theme=dark] .colab-df-convert {\n",
              "      background-color: #3B4455;\n",
              "      fill: #D2E3FC;\n",
              "    }\n",
              "\n",
              "    [theme=dark] .colab-df-convert:hover {\n",
              "      background-color: #434B5C;\n",
              "      box-shadow: 0px 1px 3px 1px rgba(0, 0, 0, 0.15);\n",
              "      filter: drop-shadow(0px 1px 2px rgba(0, 0, 0, 0.3));\n",
              "      fill: #FFFFFF;\n",
              "    }\n",
              "  </style>\n",
              "\n",
              "    <script>\n",
              "      const buttonEl =\n",
              "        document.querySelector('#df-bdddfd49-d7fe-410d-ba7f-82c318f0248d button.colab-df-convert');\n",
              "      buttonEl.style.display =\n",
              "        google.colab.kernel.accessAllowed ? 'block' : 'none';\n",
              "\n",
              "      async function convertToInteractive(key) {\n",
              "        const element = document.querySelector('#df-bdddfd49-d7fe-410d-ba7f-82c318f0248d');\n",
              "        const dataTable =\n",
              "          await google.colab.kernel.invokeFunction('convertToInteractive',\n",
              "                                                    [key], {});\n",
              "        if (!dataTable) return;\n",
              "\n",
              "        const docLinkHtml = 'Like what you see? Visit the ' +\n",
              "          '<a target=\"_blank\" href=https://colab.research.google.com/notebooks/data_table.ipynb>data table notebook</a>'\n",
              "          + ' to learn more about interactive tables.';\n",
              "        element.innerHTML = '';\n",
              "        dataTable['output_type'] = 'display_data';\n",
              "        await google.colab.output.renderOutput(dataTable, element);\n",
              "        const docLink = document.createElement('div');\n",
              "        docLink.innerHTML = docLinkHtml;\n",
              "        element.appendChild(docLink);\n",
              "      }\n",
              "    </script>\n",
              "  </div>\n",
              "\n",
              "\n",
              "<div id=\"df-8c26dab9-c5d4-48bf-858a-a852e14ca56e\">\n",
              "  <button class=\"colab-df-quickchart\" onclick=\"quickchart('df-8c26dab9-c5d4-48bf-858a-a852e14ca56e')\"\n",
              "            title=\"Suggest charts\"\n",
              "            style=\"display:none;\">\n",
              "\n",
              "<svg xmlns=\"http://www.w3.org/2000/svg\" height=\"24px\"viewBox=\"0 0 24 24\"\n",
              "     width=\"24px\">\n",
              "    <g>\n",
              "        <path d=\"M19 3H5c-1.1 0-2 .9-2 2v14c0 1.1.9 2 2 2h14c1.1 0 2-.9 2-2V5c0-1.1-.9-2-2-2zM9 17H7v-7h2v7zm4 0h-2V7h2v10zm4 0h-2v-4h2v4z\"/>\n",
              "    </g>\n",
              "</svg>\n",
              "  </button>\n",
              "\n",
              "<style>\n",
              "  .colab-df-quickchart {\n",
              "      --bg-color: #E8F0FE;\n",
              "      --fill-color: #1967D2;\n",
              "      --hover-bg-color: #E2EBFA;\n",
              "      --hover-fill-color: #174EA6;\n",
              "      --disabled-fill-color: #AAA;\n",
              "      --disabled-bg-color: #DDD;\n",
              "  }\n",
              "\n",
              "  [theme=dark] .colab-df-quickchart {\n",
              "      --bg-color: #3B4455;\n",
              "      --fill-color: #D2E3FC;\n",
              "      --hover-bg-color: #434B5C;\n",
              "      --hover-fill-color: #FFFFFF;\n",
              "      --disabled-bg-color: #3B4455;\n",
              "      --disabled-fill-color: #666;\n",
              "  }\n",
              "\n",
              "  .colab-df-quickchart {\n",
              "    background-color: var(--bg-color);\n",
              "    border: none;\n",
              "    border-radius: 50%;\n",
              "    cursor: pointer;\n",
              "    display: none;\n",
              "    fill: var(--fill-color);\n",
              "    height: 32px;\n",
              "    padding: 0;\n",
              "    width: 32px;\n",
              "  }\n",
              "\n",
              "  .colab-df-quickchart:hover {\n",
              "    background-color: var(--hover-bg-color);\n",
              "    box-shadow: 0 1px 2px rgba(60, 64, 67, 0.3), 0 1px 3px 1px rgba(60, 64, 67, 0.15);\n",
              "    fill: var(--button-hover-fill-color);\n",
              "  }\n",
              "\n",
              "  .colab-df-quickchart-complete:disabled,\n",
              "  .colab-df-quickchart-complete:disabled:hover {\n",
              "    background-color: var(--disabled-bg-color);\n",
              "    fill: var(--disabled-fill-color);\n",
              "    box-shadow: none;\n",
              "  }\n",
              "\n",
              "  .colab-df-spinner {\n",
              "    border: 2px solid var(--fill-color);\n",
              "    border-color: transparent;\n",
              "    border-bottom-color: var(--fill-color);\n",
              "    animation:\n",
              "      spin 1s steps(1) infinite;\n",
              "  }\n",
              "\n",
              "  @keyframes spin {\n",
              "    0% {\n",
              "      border-color: transparent;\n",
              "      border-bottom-color: var(--fill-color);\n",
              "      border-left-color: var(--fill-color);\n",
              "    }\n",
              "    20% {\n",
              "      border-color: transparent;\n",
              "      border-left-color: var(--fill-color);\n",
              "      border-top-color: var(--fill-color);\n",
              "    }\n",
              "    30% {\n",
              "      border-color: transparent;\n",
              "      border-left-color: var(--fill-color);\n",
              "      border-top-color: var(--fill-color);\n",
              "      border-right-color: var(--fill-color);\n",
              "    }\n",
              "    40% {\n",
              "      border-color: transparent;\n",
              "      border-right-color: var(--fill-color);\n",
              "      border-top-color: var(--fill-color);\n",
              "    }\n",
              "    60% {\n",
              "      border-color: transparent;\n",
              "      border-right-color: var(--fill-color);\n",
              "    }\n",
              "    80% {\n",
              "      border-color: transparent;\n",
              "      border-right-color: var(--fill-color);\n",
              "      border-bottom-color: var(--fill-color);\n",
              "    }\n",
              "    90% {\n",
              "      border-color: transparent;\n",
              "      border-bottom-color: var(--fill-color);\n",
              "    }\n",
              "  }\n",
              "</style>\n",
              "\n",
              "  <script>\n",
              "    async function quickchart(key) {\n",
              "      const quickchartButtonEl =\n",
              "        document.querySelector('#' + key + ' button');\n",
              "      quickchartButtonEl.disabled = true;  // To prevent multiple clicks.\n",
              "      quickchartButtonEl.classList.add('colab-df-spinner');\n",
              "      try {\n",
              "        const charts = await google.colab.kernel.invokeFunction(\n",
              "            'suggestCharts', [key], {});\n",
              "      } catch (error) {\n",
              "        console.error('Error during call to suggestCharts:', error);\n",
              "      }\n",
              "      quickchartButtonEl.classList.remove('colab-df-spinner');\n",
              "      quickchartButtonEl.classList.add('colab-df-quickchart-complete');\n",
              "    }\n",
              "    (() => {\n",
              "      let quickchartButtonEl =\n",
              "        document.querySelector('#df-8c26dab9-c5d4-48bf-858a-a852e14ca56e button');\n",
              "      quickchartButtonEl.style.display =\n",
              "        google.colab.kernel.accessAllowed ? 'block' : 'none';\n",
              "    })();\n",
              "  </script>\n",
              "</div>\n",
              "\n",
              "  <div id=\"id_e4c37f5d-1c90-4b76-bcfb-7c638a79880a\">\n",
              "    <style>\n",
              "      .colab-df-generate {\n",
              "        background-color: #E8F0FE;\n",
              "        border: none;\n",
              "        border-radius: 50%;\n",
              "        cursor: pointer;\n",
              "        display: none;\n",
              "        fill: #1967D2;\n",
              "        height: 32px;\n",
              "        padding: 0 0 0 0;\n",
              "        width: 32px;\n",
              "      }\n",
              "\n",
              "      .colab-df-generate:hover {\n",
              "        background-color: #E2EBFA;\n",
              "        box-shadow: 0px 1px 2px rgba(60, 64, 67, 0.3), 0px 1px 3px 1px rgba(60, 64, 67, 0.15);\n",
              "        fill: #174EA6;\n",
              "      }\n",
              "\n",
              "      [theme=dark] .colab-df-generate {\n",
              "        background-color: #3B4455;\n",
              "        fill: #D2E3FC;\n",
              "      }\n",
              "\n",
              "      [theme=dark] .colab-df-generate:hover {\n",
              "        background-color: #434B5C;\n",
              "        box-shadow: 0px 1px 3px 1px rgba(0, 0, 0, 0.15);\n",
              "        filter: drop-shadow(0px 1px 2px rgba(0, 0, 0, 0.3));\n",
              "        fill: #FFFFFF;\n",
              "      }\n",
              "    </style>\n",
              "    <button class=\"colab-df-generate\" onclick=\"generateWithVariable('df15')\"\n",
              "            title=\"Generate code using this dataframe.\"\n",
              "            style=\"display:none;\">\n",
              "\n",
              "  <svg xmlns=\"http://www.w3.org/2000/svg\" height=\"24px\"viewBox=\"0 0 24 24\"\n",
              "       width=\"24px\">\n",
              "    <path d=\"M7,19H8.4L18.45,9,17,7.55,7,17.6ZM5,21V16.75L18.45,3.32a2,2,0,0,1,2.83,0l1.4,1.43a1.91,1.91,0,0,1,.58,1.4,1.91,1.91,0,0,1-.58,1.4L9.25,21ZM18.45,9,17,7.55Zm-12,3A5.31,5.31,0,0,0,4.9,8.1,5.31,5.31,0,0,0,1,6.5,5.31,5.31,0,0,0,4.9,4.9,5.31,5.31,0,0,0,6.5,1,5.31,5.31,0,0,0,8.1,4.9,5.31,5.31,0,0,0,12,6.5,5.46,5.46,0,0,0,6.5,12Z\"/>\n",
              "  </svg>\n",
              "    </button>\n",
              "    <script>\n",
              "      (() => {\n",
              "      const buttonEl =\n",
              "        document.querySelector('#id_e4c37f5d-1c90-4b76-bcfb-7c638a79880a button.colab-df-generate');\n",
              "      buttonEl.style.display =\n",
              "        google.colab.kernel.accessAllowed ? 'block' : 'none';\n",
              "\n",
              "      buttonEl.onclick = () => {\n",
              "        google.colab.notebook.generateWithVariable('df15');\n",
              "      }\n",
              "      })();\n",
              "    </script>\n",
              "  </div>\n",
              "\n",
              "    </div>\n",
              "  </div>\n"
            ],
            "application/vnd.google.colaboratory.intrinsic+json": {
              "type": "dataframe",
              "variable_name": "df15",
              "summary": "{\n  \"name\": \"df15\",\n  \"rows\": 27135,\n  \"fields\": [\n    {\n      \"column\": \"title\",\n      \"properties\": {\n        \"dtype\": \"string\",\n        \"num_unique_values\": 23544,\n        \"samples\": [\n          \"In 1178, Five Monks at Canterbury Saw Part Of The MOON Explode\",\n          \"Defiant Charlie Hebdo to print 3M copies of latest edition with Muhammad on cover\",\n          \"Will Lame-duck Obama Implement More Radical Agenda Items Before End of Term?\"\n        ],\n        \"semantic_type\": \"\",\n        \"description\": \"\"\n      }\n    },\n    {\n      \"column\": \"text\",\n      \"properties\": {\n        \"dtype\": \"string\",\n        \"num_unique_values\": 23973,\n        \"samples\": [\n          \"By Michael Maharrey Communications company AT&T spies on you at the behest of the federal government and rakes in millions of taxpayer dollars in the... \",\n          \"  Edmondo Burr in News , US // 0 Comments Adam Schwartz, a senior lawyer at the Electronic Frontier Foundation (EFF). explains how the government spies on people using a powerful phone surveillance tool built by AT&T called Hemisphere. \\nEvery day AT&T stores billions of call records and sells the information to Sheriff\\u2019s and police departments around the country who each pay upward of $1 million a year for the communications metadata. \\nIn his article AT&T Requires Police to Hide Hemisphere Phone Spying Schwartz says law enforcement officials kept Hemisphere \\u201c under the radar \\u201d for many years\\u2014hidden from courts, legislators, and the general public\\u2014until the New York Times exposed the program in 2013. \\nDemocracy Now interviews Adam Schwartz: \\nNew details are emerging about how AT&T has been spying on Americans for profit with a secret plan called Project Hemisphere. \\nThe Daily Beast reports AT&T is keeping private call records and selling the information to authorities investigating everything from the war on drugs to Medicaid fraud. \\nAT&T reportedly has been retaining every call, text message, Skype chat or other communication that has passed through its infrastructure. Some of the records date back to 1987. \\nSheriff\\u2019s and police departments each pay upward of $1 million a year for access to the call records. \\nNo warrants are needed, and AT&T requires governmental agencies to keep secret the source of the information. \\nJUAN GONZ\\u00c1LEZ : Well, all of this comes as new details are emerging about how AT&T has been spying on Americans for profit. The secret plan is called Project Hemisphere. The Daily Beast reports AT&T is keeping private call records and selling the information to authorities investigating everything from the war on drugs to Medicaid fraud. AT&T reportedly has been retaining every call, text message, Skype chat or other communications that passed through its infrastructure. Some of the records date back to 1987. Sheriff and police departments across the country each pay upwards of a million dollars a year for access to the call records. No warrants are needed, and AT&T requires governmental agencies to keep secret the source of information. \\nAMY GOODMAN : A 2014 statement of work from AT&T to the city of Atlanta published by The Daily Beast outlines the secrecy AT&T demanded. It reads, quote, \\u201c[T]he Government agency agrees not to use the data as evidence in any judicial or administrative proceedings unless there is no other available and admissible probative evidence. The Government Agency shall make every effort to insure that information provided by the Contractor is non-attributable to AT&T if the data is provided to a third-party.\\u201d \\nWell, for more, we want to bring in Adam Schwartz to this conversation, senior lawyer at the Electronic Frontier Foundation. His latest article , \\u201cAT&T requires police to hide Hemisphere phone spying.\\u201d \\nSo, explain. What is this Project Hemisphere? \\nADAM SCHWARTZ : [inaudible] the largest known, possibly the biggest, database of telephone metadata that the government is using to spy on us. Every day, the database grows by literally 4 billion records. As you said, it has records going back to the 1980s. And police are using powerful algorithms to scrutinize this database of everyone that we are having telephone and other digital communications with, to discover our personal relationships, whether we\\u2019re talking to a psychiatrist or a criminal defense lawyer or a union organizer on the telephone. We view this as a menace to our privacy. And one of the most disturbing features of it is how it has been kept a secret, so that the public and the courts and Congress cannot scrutinize this program and decide whether we even want it. \\nJUAN GONZ\\u00c1LEZ : Well, and how are they able to do this? Why are they not\\u2014why are the law enforcement agencies not required to have court-ordered subpoenas to obtain these records? \\nADAM SCHWARTZ : Well, that\\u2019s a great question. Under federal statutes that protect our privacy, ordinarily, the police do have to go to a judge and get some kind of approval before they get this metadata of who we\\u2019re talking to. What AT&T has required the police to do, through the provision of the contract that you just read, is what the police call \\u201cparallel construction\\u201d and what the EFF calls \\u201cevidence laundering.\\u201d And what this means is, after the police find evidence against someone in the Hemisphere database, they \\u201cwall it off,\\u201d quote-unquote from their training manual, and then they use a traditional subpoena to recreate the exact same evidence trail. And when it comes time to put the person on trial, they present the second set of cleaner evidence, and no one is the wiser that they were using this massive, disturbing digital database to spy on all Americans, including the criminal suspect. \\nJUAN GONZ\\u00c1LEZ : But wouldn\\u2019t there be a requirement for the company to at least notify their consumers that they\\u2019re participating in something like this? \\nADAM SCHWARTZ : Yeah, unfortunately, there isn\\u2019t. You know, AT&T, in its public comments about Hemisphere, has suggested they are merely responding to government requests for information, the same way that all kinds of providers of consumer services have to respond. In fact, as we see through the contract that AT&T wrote, which came to light earlier this week in The Daily Beast, it is AT&T who was demanding of government that the program be kept a secret. We don\\u2019t know what AT&T\\u2019s motive is to demand the secrecy. Perhaps it\\u2019s because AT&T is literally making millions of dollars a year from government agencies in exchange for providing this unique database of telephone records to the police for their scrutiny. \\nAMY GOODMAN : So the police might pay up to\\u2014one police department somewhere might pay like a million dollars to get this information? \\nADAM SCHWARTZ : Yeah, just to be clear, there is a task force of federal, state and local officials called the HIDTAs, the High Intensity Drug Trafficking Areas, and it is funded by the White House Office of National Drug Control Policy. And the HIDTAs have three regional centers across the country, where AT&T employees are posted along with DEA agents and other law enforcement. And that is the entry point for law enforcement to the AT&T Hemisphere database. And the funding is a little bit shadowy, but it is clear that at one of these three HIDTA centers, White House funds, to the tune of a million dollars a year, are going to the HIDTA, in turn, going to AT&T. So it\\u2019s not a million dollars from each agency, but it is millions of dollars in total. \\nJUAN GONZ\\u00c1LEZ : And, Adam Schwartz, am I correct on this, that AT&T is not\\u2014does not only provide information on their own customers, but on other carriers who possibly may be going through the AT&T infrastructure, as well? \\nADAM SCHWARTZ : That\\u2019s exactly correct. Any consumer, whether they are not\\u2014whether or not they are with AT&T, when a call goes through an AT&T switch, it goes into the Hemisphere database. So, for example, if you\\u2019re using roaming, away from your own carrier\\u2019s network, and you\\u2019re using AT&T\\u2019s network, then your call goes into the Hemisphere database\\u2014again, 4 billion records per day from American consumers and for international calls into the Hemisphere database. \\nAMY GOODMAN : And the significance of broadband internet providers having to ask permission if they want to sell customers\\u2019 private data to third parties, the ruling that was just adopted Thursday by the FCC? \\nADAM SCHWARTZ : You know, I think that the critical principle here is that consumers should have control over their data, and corporations should not be diverting that data for their own profit reasons. We think that a program like\\u2014 \\nAMY GOODMAN : That they could sell it to other companies, you\\u2019re saying. They could\\u2014not only to police agencies, but to corporations, they could sell your\\u2014you know, our texts to each other. \\nADAM SCHWARTZ : Right. The ruling yesterday from the FCC, which the Electronic Frontier Foundation was strongly in support of and lobbied for, says that they have to get each individual consumer\\u2019s permission before they divert their private information to anything other than providing the standard broadband service. So there\\u2019s a parallel between that issue and the Hemisphere issue, which is that, you know, consumers have a right to privacy. And AT&T should not be undermining that privacy, in the case of Hemisphere, by creating the world\\u2019s biggest, if\\u2014or one of the world\\u2019s biggest databases to allow the government to scrutinize our private relationships based on who we are having digital correspondence with. \\nJUAN GONZ\\u00c1LEZ : And, Craig Aaron of Free Press, your sense of how this information on the Hemisphere program\\u2014whether this is going to become now part of the overall discussions on AT&T\\u2019s increased market power if it has this merger? \\nCRAIG AARON : I think it has to be. You know, this is just yet another example of why we can\\u2019t trust AT&T and its promises. And, you know, I think it\\u2019s very concerning that AT&T is literally, you know, putting employees right alongside sitting law enforcement to willingly mine their data, to help them out and then sell it. So they\\u2019re taking their own customers\\u2019 private information, selling it back to the government for a hefty profit, while violating their privacy. So, this is the kind of company AT&T is. You know, EFF has exposed for years and years and years, through their legal work, everything AT&T has been up to supporting the DEA, the NSA, etc. I think this is something to be concerned about, when a company gets even bigger and when a company is about to take over a major news network. Who\\u2019s going to hold AT&T accountable when these kind of stories are out there? Are we going to even hear about them? \\nAMY GOODMAN : We want to thank you both for being with us, Craig Aaron, president and CEO of Free Press, and Adam Schwartz of the Electronic Frontier Foundation. Of course, we\\u2019ll continue to follow this. The decision is not finally made. In fact, Craig Aaron, just what\\u2019s the timetable on this? \\nCRAIG AARON : I think this merger, we\\u2019re probably talking about a year, which means this is a decision that\\u2019s going to be made by the next presidential administration, by the Justice Department, which gives us time to organize, but it\\u2019s very, very important that we get started now, because this is going to be a fight that will be going well into next year. \\nAMY GOODMAN : Well, thanks so much to both of you. This is Democracy Now! When we come back, we head to North Dakota to the standoff at Standing Rock. Well over a hundred people were once again arrested yesterday, as Native Americans and their allies faced off against a heavy\\u2014a heavily militarized police department. Stay with us.\",\n          \"By Gilad Atzmon on November 2, 2016 Jews see in Trump\\u2019s popularity a symptom of a fatigue of their own power By Gilad Atzmon \\nIn her recent Washington Post Article , Jewish academic Cheryl Greenberg makes one valid observation. Trump\\u2019s criticism of the Jews is far more subtle than his disapproval of other groups and identities (Mexicans, Muslims, Women etc). Though Trump is not known for pulling his punches, when it comes to the Jews, Trump chooses his words very carefully. Trump, according to Greenberg, is so careful \\u201cthat it\\u2019s not clear that Trump himself fully understands the implications of what he\\u2019s saying.\\u201d I guess that the Jewish academic couldn\\u2019t restrain herself from looking down at the Goy candidate. \\nGreenberg sees Trump as a puppet-master who controls his audience by means of \\u2018dog whistling\\u2019. \\u201cTrump\\u2019s references to money, bankers and international conspiracies appear to be deliberate anti-Semitic dog whistles, and his alt-right supporters recognize (and celebrate) that.\\u201d \\nGreenberg elaborates on her observation, \\u201cfirst of all, dog whistles serve when overt expressions are not an option; they communicate to those who are familiar with the conspiracy theories but maintain plausible deniability.\\u201d According to Greenberg, when Trump wants to communicate a message about the Jews, he uses an indecipherable code intelligible only to half of the Americans\\u2026 Greenberg and the ADL. \\nIf Greenberg is correct, if Trump says \\u2018international Bankers\\u2019 but really means Jews, then both the Republican candidate and half of the American people are fearful of the Jews. They must very well understand what a confrontation with Jewish institutions may entail. They know that, in America, criticism of Mexicans, Women, and Muslims is a kosher territory but even a subtle criticism of Jews may cost them dearly. One may wonder, how did this happen? What is the substance of that magical power that empowers half of Americans to speak in codes when they think about Jews? \\nGreenberg seems to raise the right question just to come up with the wrong answer. \\u201cWhy would anti-Semitism not be an overt option, while racism, sexism, and xenophobia are?\\u201d \\n\\u201cAmericans are less willing to accept blatant anti-Semitism than racism,\\u201d Greenberg\\u2019s answers. \\nWhat Greenberg really wants to say is that Americans can be racists and can say whatever they like about whoever they want. But when it comes to Jews, they refrain. Americans do know very well the geography of the boundaries of correctness. Jewish power is for them a taboo, at least momentarily. America and Americans are fully aware of the enormous power that is bestowed in the hands of just a few Jewish oligarchs within the ubiquitous industries of media, finance, politics, and culture. \\nAmerica would have loved to dissolve the situation peacefully but it can\\u2019t. Jewish power can\\u2019t be contained or suppressed because we are not even allowed to allude to it, let alone point it out. \\nJewish power is defined as the power to silence criticism of Jewish power. Jewish power, as such, is a ticking timebomb. It is a unique form of self-destructiveness. The history of the Jews proves this point. Time after time it is Jewish power that sets the path towards a glamorous Jewish golden age that leads to the most severe tragic consequences. \\nThe Jewish phobia of anti semitism is not driven by fear of the gentile. It is actually the other way around. The Jewish fear of antisemitism is the result of Jews being fearful of their own might. Jews tend to recognise that there is something in themselves that evokes animosity from others. This is the true meaning of the Jewish \\u201cPre Traumatic Stress Syndrome\\u201d. It is the acceptance that from here forward, things can only get worse. Many Jews see in Trump\\u2019s popularity a symptom of a fatigue of their own power. They interpret the nostalgic yearning for \\u2018America being great\\u2019 as a pining for a Christian past. Something that predates Goldman Sachs\\u2019 and Soros\\u2019 dominion. The Jewish aggression towards Trump can be realised as an expression of Jewish guilt. Yet, Trump himself has very little to do with it. He married his daughter to a Jew. He trades with Jews, he loves Israel. He is almost as Jewish as the Clintons. \\nGreenberg is optimistic. For her, Trump\\u2019s popularity is \\u201cthe final gasping of white supremacy\\u201d. His voters \\u2013 pretty much half of the American people \\u2013 are dogs reacting to a man with a whistle. I am not as optimistic as Greenberg. I think that exploring such contempt towards half of the American people in the name of a vague progressive mantra is a very dangerous game. It suggests to me that progressives have reached a state of complete detachment. Related Posts:\"\n        ],\n        \"semantic_type\": \"\",\n        \"description\": \"\"\n      }\n    },\n    {\n      \"column\": \"label\",\n      \"properties\": {\n        \"dtype\": \"number\",\n        \"std\": 0,\n        \"min\": 0,\n        \"max\": 1,\n        \"num_unique_values\": 2,\n        \"samples\": [\n          0,\n          1\n        ],\n        \"semantic_type\": \"\",\n        \"description\": \"\"\n      }\n    },\n    {\n      \"column\": \"id\",\n      \"properties\": {\n        \"dtype\": \"number\",\n        \"std\": 6004.58713540462,\n        \"min\": 0.0,\n        \"max\": 20799.0,\n        \"num_unique_values\": 20800,\n        \"samples\": [\n          3341.0,\n          264.0\n        ],\n        \"semantic_type\": \"\",\n        \"description\": \"\"\n      }\n    },\n    {\n      \"column\": \"author\",\n      \"properties\": {\n        \"dtype\": \"category\",\n        \"num_unique_values\": 4201,\n        \"samples\": [\n          \"Michael Shnayerson\",\n          \"Neil Gough and Carolyn Zhang\"\n        ],\n        \"semantic_type\": \"\",\n        \"description\": \"\"\n      }\n    }\n  ]\n}"
            }
          },
          "metadata": {},
          "execution_count": 30
        }
      ],
      "source": [
        "df15"
      ]
    },
    {
      "cell_type": "code",
      "execution_count": null,
      "metadata": {
        "id": "rbo0GIxcQaeS"
      },
      "outputs": [],
      "source": [
        "df16 = pd.merge(df14,df15,on=['title','text','id','label','author'],how='outer')"
      ]
    },
    {
      "cell_type": "code",
      "execution_count": null,
      "metadata": {
        "colab": {
          "base_uri": "https://localhost:8080/"
        },
        "id": "d-xlfP9pRRZm",
        "outputId": "ba505dff-442f-4b35-d26e-576c3f178719"
      },
      "outputs": [
        {
          "output_type": "stream",
          "name": "stdout",
          "text": [
            "<class 'pandas.core.frame.DataFrame'>\n",
            "RangeIndex: 87487 entries, 0 to 87486\n",
            "Data columns (total 10 columns):\n",
            " #   Column   Non-Null Count  Dtype  \n",
            "---  ------   --------------  -----  \n",
            " 0   id_x     2422 non-null   float64\n",
            " 1   title    86807 non-null  object \n",
            " 2   text     87366 non-null  object \n",
            " 3   Source   10254 non-null  object \n",
            " 4   date     55152 non-null  object \n",
            " 5   label    87487 non-null  int64  \n",
            " 6   id_y     7832 non-null   float64\n",
            " 7   subject  44898 non-null  object \n",
            " 8   id       26000 non-null  float64\n",
            " 9   author   23540 non-null  object \n",
            "dtypes: float64(3), int64(1), object(6)\n",
            "memory usage: 6.7+ MB\n"
          ]
        }
      ],
      "source": [
        "df16.info()"
      ]
    },
    {
      "cell_type": "code",
      "source": [
        "df16.drop(columns=['id_x','id_y','id'],inplace=True)"
      ],
      "metadata": {
        "id": "cxyw2DMAFY4a"
      },
      "execution_count": null,
      "outputs": []
    },
    {
      "cell_type": "code",
      "source": [
        "df16"
      ],
      "metadata": {
        "colab": {
          "base_uri": "https://localhost:8080/",
          "height": 444
        },
        "id": "j7CXGyGFwT-m",
        "outputId": "e43d5693-b990-4a36-8508-9d0b8b59f23b"
      },
      "execution_count": null,
      "outputs": [
        {
          "output_type": "execute_result",
          "data": {
            "text/plain": [
              "                                                   title  \\\n",
              "0      \\r\\r\\r\\r\\r\\r\\r\\nDonald Trump Gets His A** Hand...   \n",
              "1      \\r\\r\\r\\r\\r\\r\\r\\nEx-GOP Congressman Shreds Fell...   \n",
              "2      \\r\\r\\r\\r\\r\\r\\r\\nTrump Gets STOMPED For Whining...   \n",
              "3      \\r\\r\\r\\r\\r\\r\\r\\nWATCH: Democratic Rep Delivers...   \n",
              "4       #AfterTrumpImplodes Hashtag Hilariously Imagi...   \n",
              "...                                                  ...   \n",
              "87482                                                NaN   \n",
              "87483                                                NaN   \n",
              "87484                                                NaN   \n",
              "87485                                                NaN   \n",
              "87486                                                NaN   \n",
              "\n",
              "                                                    text Source  \\\n",
              "0      A 10-year-old girl smacked down Donald Trump, ...    NaN   \n",
              "1      At this point, every Republican who refuses to...    NaN   \n",
              "2      Donald Trump has been attacking President Obam...    NaN   \n",
              "3      Massachusetts Rep. Jim McGovern brought the Ho...    NaN   \n",
              "4      What will the world be like post-Donald Trump?...    NaN   \n",
              "...                                                  ...    ...   \n",
              "87482  “Do I know the risk involved in reporting on s...    NaN   \n",
              "87483  “If conservative ‘Christians’ are about Jesus ...    NaN   \n",
              "87484  “Jesus” will save his soul not his body, Ignor...    NaN   \n",
              "87485                               “Leach” Say no more.    NaN   \n",
              "87486                                                  🙂    NaN   \n",
              "\n",
              "                    date  label subject               author  \n",
              "0      February 29, 2016      0    News                  NaN  \n",
              "1          June 22, 2017      0    News                  NaN  \n",
              "2       November 5, 2016      0    News                  NaN  \n",
              "3            May 4, 2017      0    News                  NaN  \n",
              "4         August 5, 2016      0    News                  NaN  \n",
              "...                  ...    ...     ...                  ...  \n",
              "87482                NaN      1     NaN           Miskondukt  \n",
              "87483                NaN      1     NaN               Neil D  \n",
              "87484                NaN      1     NaN  WakeUpAmericaPlease  \n",
              "87485                NaN      1     NaN       Phonics Monkey  \n",
              "87486                NaN      1     NaN            Jeannette  \n",
              "\n",
              "[87487 rows x 7 columns]"
            ],
            "text/html": [
              "\n",
              "  <div id=\"df-fb38989b-267d-41cc-aa34-8ff29bf8fcff\" class=\"colab-df-container\">\n",
              "    <div>\n",
              "<style scoped>\n",
              "    .dataframe tbody tr th:only-of-type {\n",
              "        vertical-align: middle;\n",
              "    }\n",
              "\n",
              "    .dataframe tbody tr th {\n",
              "        vertical-align: top;\n",
              "    }\n",
              "\n",
              "    .dataframe thead th {\n",
              "        text-align: right;\n",
              "    }\n",
              "</style>\n",
              "<table border=\"1\" class=\"dataframe\">\n",
              "  <thead>\n",
              "    <tr style=\"text-align: right;\">\n",
              "      <th></th>\n",
              "      <th>title</th>\n",
              "      <th>text</th>\n",
              "      <th>Source</th>\n",
              "      <th>date</th>\n",
              "      <th>label</th>\n",
              "      <th>subject</th>\n",
              "      <th>author</th>\n",
              "    </tr>\n",
              "  </thead>\n",
              "  <tbody>\n",
              "    <tr>\n",
              "      <th>0</th>\n",
              "      <td>\\r\\r\\r\\r\\r\\r\\r\\nDonald Trump Gets His A** Hand...</td>\n",
              "      <td>A 10-year-old girl smacked down Donald Trump, ...</td>\n",
              "      <td>NaN</td>\n",
              "      <td>February 29, 2016</td>\n",
              "      <td>0</td>\n",
              "      <td>News</td>\n",
              "      <td>NaN</td>\n",
              "    </tr>\n",
              "    <tr>\n",
              "      <th>1</th>\n",
              "      <td>\\r\\r\\r\\r\\r\\r\\r\\nEx-GOP Congressman Shreds Fell...</td>\n",
              "      <td>At this point, every Republican who refuses to...</td>\n",
              "      <td>NaN</td>\n",
              "      <td>June 22, 2017</td>\n",
              "      <td>0</td>\n",
              "      <td>News</td>\n",
              "      <td>NaN</td>\n",
              "    </tr>\n",
              "    <tr>\n",
              "      <th>2</th>\n",
              "      <td>\\r\\r\\r\\r\\r\\r\\r\\nTrump Gets STOMPED For Whining...</td>\n",
              "      <td>Donald Trump has been attacking President Obam...</td>\n",
              "      <td>NaN</td>\n",
              "      <td>November 5, 2016</td>\n",
              "      <td>0</td>\n",
              "      <td>News</td>\n",
              "      <td>NaN</td>\n",
              "    </tr>\n",
              "    <tr>\n",
              "      <th>3</th>\n",
              "      <td>\\r\\r\\r\\r\\r\\r\\r\\nWATCH: Democratic Rep Delivers...</td>\n",
              "      <td>Massachusetts Rep. Jim McGovern brought the Ho...</td>\n",
              "      <td>NaN</td>\n",
              "      <td>May 4, 2017</td>\n",
              "      <td>0</td>\n",
              "      <td>News</td>\n",
              "      <td>NaN</td>\n",
              "    </tr>\n",
              "    <tr>\n",
              "      <th>4</th>\n",
              "      <td>#AfterTrumpImplodes Hashtag Hilariously Imagi...</td>\n",
              "      <td>What will the world be like post-Donald Trump?...</td>\n",
              "      <td>NaN</td>\n",
              "      <td>August 5, 2016</td>\n",
              "      <td>0</td>\n",
              "      <td>News</td>\n",
              "      <td>NaN</td>\n",
              "    </tr>\n",
              "    <tr>\n",
              "      <th>...</th>\n",
              "      <td>...</td>\n",
              "      <td>...</td>\n",
              "      <td>...</td>\n",
              "      <td>...</td>\n",
              "      <td>...</td>\n",
              "      <td>...</td>\n",
              "      <td>...</td>\n",
              "    </tr>\n",
              "    <tr>\n",
              "      <th>87482</th>\n",
              "      <td>NaN</td>\n",
              "      <td>“Do I know the risk involved in reporting on s...</td>\n",
              "      <td>NaN</td>\n",
              "      <td>NaN</td>\n",
              "      <td>1</td>\n",
              "      <td>NaN</td>\n",
              "      <td>Miskondukt</td>\n",
              "    </tr>\n",
              "    <tr>\n",
              "      <th>87483</th>\n",
              "      <td>NaN</td>\n",
              "      <td>“If conservative ‘Christians’ are about Jesus ...</td>\n",
              "      <td>NaN</td>\n",
              "      <td>NaN</td>\n",
              "      <td>1</td>\n",
              "      <td>NaN</td>\n",
              "      <td>Neil D</td>\n",
              "    </tr>\n",
              "    <tr>\n",
              "      <th>87484</th>\n",
              "      <td>NaN</td>\n",
              "      <td>“Jesus” will save his soul not his body, Ignor...</td>\n",
              "      <td>NaN</td>\n",
              "      <td>NaN</td>\n",
              "      <td>1</td>\n",
              "      <td>NaN</td>\n",
              "      <td>WakeUpAmericaPlease</td>\n",
              "    </tr>\n",
              "    <tr>\n",
              "      <th>87485</th>\n",
              "      <td>NaN</td>\n",
              "      <td>“Leach” Say no more.</td>\n",
              "      <td>NaN</td>\n",
              "      <td>NaN</td>\n",
              "      <td>1</td>\n",
              "      <td>NaN</td>\n",
              "      <td>Phonics Monkey</td>\n",
              "    </tr>\n",
              "    <tr>\n",
              "      <th>87486</th>\n",
              "      <td>NaN</td>\n",
              "      <td>🙂</td>\n",
              "      <td>NaN</td>\n",
              "      <td>NaN</td>\n",
              "      <td>1</td>\n",
              "      <td>NaN</td>\n",
              "      <td>Jeannette</td>\n",
              "    </tr>\n",
              "  </tbody>\n",
              "</table>\n",
              "<p>87487 rows × 7 columns</p>\n",
              "</div>\n",
              "    <div class=\"colab-df-buttons\">\n",
              "\n",
              "  <div class=\"colab-df-container\">\n",
              "    <button class=\"colab-df-convert\" onclick=\"convertToInteractive('df-fb38989b-267d-41cc-aa34-8ff29bf8fcff')\"\n",
              "            title=\"Convert this dataframe to an interactive table.\"\n",
              "            style=\"display:none;\">\n",
              "\n",
              "  <svg xmlns=\"http://www.w3.org/2000/svg\" height=\"24px\" viewBox=\"0 -960 960 960\">\n",
              "    <path d=\"M120-120v-720h720v720H120Zm60-500h600v-160H180v160Zm220 220h160v-160H400v160Zm0 220h160v-160H400v160ZM180-400h160v-160H180v160Zm440 0h160v-160H620v160ZM180-180h160v-160H180v160Zm440 0h160v-160H620v160Z\"/>\n",
              "  </svg>\n",
              "    </button>\n",
              "\n",
              "  <style>\n",
              "    .colab-df-container {\n",
              "      display:flex;\n",
              "      gap: 12px;\n",
              "    }\n",
              "\n",
              "    .colab-df-convert {\n",
              "      background-color: #E8F0FE;\n",
              "      border: none;\n",
              "      border-radius: 50%;\n",
              "      cursor: pointer;\n",
              "      display: none;\n",
              "      fill: #1967D2;\n",
              "      height: 32px;\n",
              "      padding: 0 0 0 0;\n",
              "      width: 32px;\n",
              "    }\n",
              "\n",
              "    .colab-df-convert:hover {\n",
              "      background-color: #E2EBFA;\n",
              "      box-shadow: 0px 1px 2px rgba(60, 64, 67, 0.3), 0px 1px 3px 1px rgba(60, 64, 67, 0.15);\n",
              "      fill: #174EA6;\n",
              "    }\n",
              "\n",
              "    .colab-df-buttons div {\n",
              "      margin-bottom: 4px;\n",
              "    }\n",
              "\n",
              "    [theme=dark] .colab-df-convert {\n",
              "      background-color: #3B4455;\n",
              "      fill: #D2E3FC;\n",
              "    }\n",
              "\n",
              "    [theme=dark] .colab-df-convert:hover {\n",
              "      background-color: #434B5C;\n",
              "      box-shadow: 0px 1px 3px 1px rgba(0, 0, 0, 0.15);\n",
              "      filter: drop-shadow(0px 1px 2px rgba(0, 0, 0, 0.3));\n",
              "      fill: #FFFFFF;\n",
              "    }\n",
              "  </style>\n",
              "\n",
              "    <script>\n",
              "      const buttonEl =\n",
              "        document.querySelector('#df-fb38989b-267d-41cc-aa34-8ff29bf8fcff button.colab-df-convert');\n",
              "      buttonEl.style.display =\n",
              "        google.colab.kernel.accessAllowed ? 'block' : 'none';\n",
              "\n",
              "      async function convertToInteractive(key) {\n",
              "        const element = document.querySelector('#df-fb38989b-267d-41cc-aa34-8ff29bf8fcff');\n",
              "        const dataTable =\n",
              "          await google.colab.kernel.invokeFunction('convertToInteractive',\n",
              "                                                    [key], {});\n",
              "        if (!dataTable) return;\n",
              "\n",
              "        const docLinkHtml = 'Like what you see? Visit the ' +\n",
              "          '<a target=\"_blank\" href=https://colab.research.google.com/notebooks/data_table.ipynb>data table notebook</a>'\n",
              "          + ' to learn more about interactive tables.';\n",
              "        element.innerHTML = '';\n",
              "        dataTable['output_type'] = 'display_data';\n",
              "        await google.colab.output.renderOutput(dataTable, element);\n",
              "        const docLink = document.createElement('div');\n",
              "        docLink.innerHTML = docLinkHtml;\n",
              "        element.appendChild(docLink);\n",
              "      }\n",
              "    </script>\n",
              "  </div>\n",
              "\n",
              "\n",
              "<div id=\"df-4c055814-3f5f-41c7-a3c0-8962063f6e22\">\n",
              "  <button class=\"colab-df-quickchart\" onclick=\"quickchart('df-4c055814-3f5f-41c7-a3c0-8962063f6e22')\"\n",
              "            title=\"Suggest charts\"\n",
              "            style=\"display:none;\">\n",
              "\n",
              "<svg xmlns=\"http://www.w3.org/2000/svg\" height=\"24px\"viewBox=\"0 0 24 24\"\n",
              "     width=\"24px\">\n",
              "    <g>\n",
              "        <path d=\"M19 3H5c-1.1 0-2 .9-2 2v14c0 1.1.9 2 2 2h14c1.1 0 2-.9 2-2V5c0-1.1-.9-2-2-2zM9 17H7v-7h2v7zm4 0h-2V7h2v10zm4 0h-2v-4h2v4z\"/>\n",
              "    </g>\n",
              "</svg>\n",
              "  </button>\n",
              "\n",
              "<style>\n",
              "  .colab-df-quickchart {\n",
              "      --bg-color: #E8F0FE;\n",
              "      --fill-color: #1967D2;\n",
              "      --hover-bg-color: #E2EBFA;\n",
              "      --hover-fill-color: #174EA6;\n",
              "      --disabled-fill-color: #AAA;\n",
              "      --disabled-bg-color: #DDD;\n",
              "  }\n",
              "\n",
              "  [theme=dark] .colab-df-quickchart {\n",
              "      --bg-color: #3B4455;\n",
              "      --fill-color: #D2E3FC;\n",
              "      --hover-bg-color: #434B5C;\n",
              "      --hover-fill-color: #FFFFFF;\n",
              "      --disabled-bg-color: #3B4455;\n",
              "      --disabled-fill-color: #666;\n",
              "  }\n",
              "\n",
              "  .colab-df-quickchart {\n",
              "    background-color: var(--bg-color);\n",
              "    border: none;\n",
              "    border-radius: 50%;\n",
              "    cursor: pointer;\n",
              "    display: none;\n",
              "    fill: var(--fill-color);\n",
              "    height: 32px;\n",
              "    padding: 0;\n",
              "    width: 32px;\n",
              "  }\n",
              "\n",
              "  .colab-df-quickchart:hover {\n",
              "    background-color: var(--hover-bg-color);\n",
              "    box-shadow: 0 1px 2px rgba(60, 64, 67, 0.3), 0 1px 3px 1px rgba(60, 64, 67, 0.15);\n",
              "    fill: var(--button-hover-fill-color);\n",
              "  }\n",
              "\n",
              "  .colab-df-quickchart-complete:disabled,\n",
              "  .colab-df-quickchart-complete:disabled:hover {\n",
              "    background-color: var(--disabled-bg-color);\n",
              "    fill: var(--disabled-fill-color);\n",
              "    box-shadow: none;\n",
              "  }\n",
              "\n",
              "  .colab-df-spinner {\n",
              "    border: 2px solid var(--fill-color);\n",
              "    border-color: transparent;\n",
              "    border-bottom-color: var(--fill-color);\n",
              "    animation:\n",
              "      spin 1s steps(1) infinite;\n",
              "  }\n",
              "\n",
              "  @keyframes spin {\n",
              "    0% {\n",
              "      border-color: transparent;\n",
              "      border-bottom-color: var(--fill-color);\n",
              "      border-left-color: var(--fill-color);\n",
              "    }\n",
              "    20% {\n",
              "      border-color: transparent;\n",
              "      border-left-color: var(--fill-color);\n",
              "      border-top-color: var(--fill-color);\n",
              "    }\n",
              "    30% {\n",
              "      border-color: transparent;\n",
              "      border-left-color: var(--fill-color);\n",
              "      border-top-color: var(--fill-color);\n",
              "      border-right-color: var(--fill-color);\n",
              "    }\n",
              "    40% {\n",
              "      border-color: transparent;\n",
              "      border-right-color: var(--fill-color);\n",
              "      border-top-color: var(--fill-color);\n",
              "    }\n",
              "    60% {\n",
              "      border-color: transparent;\n",
              "      border-right-color: var(--fill-color);\n",
              "    }\n",
              "    80% {\n",
              "      border-color: transparent;\n",
              "      border-right-color: var(--fill-color);\n",
              "      border-bottom-color: var(--fill-color);\n",
              "    }\n",
              "    90% {\n",
              "      border-color: transparent;\n",
              "      border-bottom-color: var(--fill-color);\n",
              "    }\n",
              "  }\n",
              "</style>\n",
              "\n",
              "  <script>\n",
              "    async function quickchart(key) {\n",
              "      const quickchartButtonEl =\n",
              "        document.querySelector('#' + key + ' button');\n",
              "      quickchartButtonEl.disabled = true;  // To prevent multiple clicks.\n",
              "      quickchartButtonEl.classList.add('colab-df-spinner');\n",
              "      try {\n",
              "        const charts = await google.colab.kernel.invokeFunction(\n",
              "            'suggestCharts', [key], {});\n",
              "      } catch (error) {\n",
              "        console.error('Error during call to suggestCharts:', error);\n",
              "      }\n",
              "      quickchartButtonEl.classList.remove('colab-df-spinner');\n",
              "      quickchartButtonEl.classList.add('colab-df-quickchart-complete');\n",
              "    }\n",
              "    (() => {\n",
              "      let quickchartButtonEl =\n",
              "        document.querySelector('#df-4c055814-3f5f-41c7-a3c0-8962063f6e22 button');\n",
              "      quickchartButtonEl.style.display =\n",
              "        google.colab.kernel.accessAllowed ? 'block' : 'none';\n",
              "    })();\n",
              "  </script>\n",
              "</div>\n",
              "\n",
              "  <div id=\"id_bf65e88e-aaab-4f5b-a508-ee71eeccbb80\">\n",
              "    <style>\n",
              "      .colab-df-generate {\n",
              "        background-color: #E8F0FE;\n",
              "        border: none;\n",
              "        border-radius: 50%;\n",
              "        cursor: pointer;\n",
              "        display: none;\n",
              "        fill: #1967D2;\n",
              "        height: 32px;\n",
              "        padding: 0 0 0 0;\n",
              "        width: 32px;\n",
              "      }\n",
              "\n",
              "      .colab-df-generate:hover {\n",
              "        background-color: #E2EBFA;\n",
              "        box-shadow: 0px 1px 2px rgba(60, 64, 67, 0.3), 0px 1px 3px 1px rgba(60, 64, 67, 0.15);\n",
              "        fill: #174EA6;\n",
              "      }\n",
              "\n",
              "      [theme=dark] .colab-df-generate {\n",
              "        background-color: #3B4455;\n",
              "        fill: #D2E3FC;\n",
              "      }\n",
              "\n",
              "      [theme=dark] .colab-df-generate:hover {\n",
              "        background-color: #434B5C;\n",
              "        box-shadow: 0px 1px 3px 1px rgba(0, 0, 0, 0.15);\n",
              "        filter: drop-shadow(0px 1px 2px rgba(0, 0, 0, 0.3));\n",
              "        fill: #FFFFFF;\n",
              "      }\n",
              "    </style>\n",
              "    <button class=\"colab-df-generate\" onclick=\"generateWithVariable('df16')\"\n",
              "            title=\"Generate code using this dataframe.\"\n",
              "            style=\"display:none;\">\n",
              "\n",
              "  <svg xmlns=\"http://www.w3.org/2000/svg\" height=\"24px\"viewBox=\"0 0 24 24\"\n",
              "       width=\"24px\">\n",
              "    <path d=\"M7,19H8.4L18.45,9,17,7.55,7,17.6ZM5,21V16.75L18.45,3.32a2,2,0,0,1,2.83,0l1.4,1.43a1.91,1.91,0,0,1,.58,1.4,1.91,1.91,0,0,1-.58,1.4L9.25,21ZM18.45,9,17,7.55Zm-12,3A5.31,5.31,0,0,0,4.9,8.1,5.31,5.31,0,0,0,1,6.5,5.31,5.31,0,0,0,4.9,4.9,5.31,5.31,0,0,0,6.5,1,5.31,5.31,0,0,0,8.1,4.9,5.31,5.31,0,0,0,12,6.5,5.46,5.46,0,0,0,6.5,12Z\"/>\n",
              "  </svg>\n",
              "    </button>\n",
              "    <script>\n",
              "      (() => {\n",
              "      const buttonEl =\n",
              "        document.querySelector('#id_bf65e88e-aaab-4f5b-a508-ee71eeccbb80 button.colab-df-generate');\n",
              "      buttonEl.style.display =\n",
              "        google.colab.kernel.accessAllowed ? 'block' : 'none';\n",
              "\n",
              "      buttonEl.onclick = () => {\n",
              "        google.colab.notebook.generateWithVariable('df16');\n",
              "      }\n",
              "      })();\n",
              "    </script>\n",
              "  </div>\n",
              "\n",
              "    </div>\n",
              "  </div>\n"
            ],
            "application/vnd.google.colaboratory.intrinsic+json": {
              "type": "dataframe",
              "variable_name": "df16",
              "summary": "{\n  \"name\": \"df16\",\n  \"rows\": 87487,\n  \"fields\": [\n    {\n      \"column\": \"title\",\n      \"properties\": {\n        \"dtype\": \"string\",\n        \"num_unique_values\": 76761,\n        \"samples\": [\n          \"Clinton to resume campaigning on Thursday, 'details to come'\",\n          \"Seeking Common Ground With Trump, Cuomo and de Blasio Focus on New York Ties - The New York Times\",\n          \"Politico playbook: c-span interview: obama is 'night owl,' stays up till midnight; has talked to george w. bush \\u2013 wants 'common touch \\u2026 not just ivory tower learning' in court pick\"\n        ],\n        \"semantic_type\": \"\",\n        \"description\": \"\"\n      }\n    },\n    {\n      \"column\": \"text\",\n      \"properties\": {\n        \"dtype\": \"string\",\n        \"num_unique_values\": 77176,\n        \"samples\": [\n          \"Since Donald Trump has to rely on make-believe to think he s actually winning in this presidential election, after the first debate he relied upon random internet polls to say that he won. Newsflash   he really, really didn t.However, that didn t stop Trump from trying to pretend that he won, so not letting him get away with it was none other that John Oliver on HBO s Last Week Tonight.Oliver went through point by point explaining that random online polls are not representative of actual polling, but rather just the opinions of whoever or whatever decided to take the poll. He then used the hilarious example of how an online poll even ended up naming a boat the ever clever name of  Boaty McBoatface. Oliver also slammed Fox News  Sean Hannity for humoring Trump and also declaring him the winner of the debate with the use of the same random internet polls. Also bringing up the fact that Fox News itself had to issue a memo that those polls aren t scientific and are not to be used as fact, stating they  do not meet our editorial standards. Who knew Fox News had standards, and how badly do you have to f*ck up to get called out for not following them?All in all, it s quite nice to see these blowhards get called out for being, well, blowhards.Watch the clip here: Featured image via video screen capture   HT HBO\",\n          \"Despite all the evidence otherwise, Donald Trump is still claiming that he doesn t believe Russia actually hacked our election. A report in the Wall Street Journal reveals that even though 17 intelligence agencies agree that Russia was behind the hacking of the Democratic National Committee during the 2016 election, Trump still isn t convinced.According to the WSJ, sources say that there is a memo of conversations between Trump and NSA Director Adm. Rogers which detail Trump s refusal to acknowledge that Russia meddled in the presidential election. This memo reveals that the president questioned the veracity of the intelligence community s judgment that Russia had interfered with the election and also tried to persuade Adm. Rogers to say there was no evidence of collusion between the campaign and Russian officials. But On June 7, just one day before fired FBI Director James Comey told the Senate Intelligence Committee all about how Trump tried to obstruct justice in every way he could, Adm. Rogers said he felt zero pressure from Trump  to push back against allegations of possible collusion between the Trump campaign and Russia. Trump refuses to say that Russia interfered with our election for obvious reasons. Admitting that Russia did all they could to rig the election in his favor is the very last thing he wants to do.There hasn t been any doubt that Russia meddled in the election for months now. Way back in January, the Office of the Director of National Intelligence released a report that  pins responsibility for the election attack directly on President Vladimir V. Putin of Russia, ruling out the possibility that it was ordered by intelligence officials or simply carried out by Kremlin supporters.  A whopping 17 intelligence agencies agree on this matter. It isn t up for debate anymore. Russia. Hacked. Our. Election.However, Trump just can t bring himself to say that. I guess it s too close to a confession.Featured image via Alex Wong/Getty Images\",\n          \"ANKARA (Reuters) - Turkish President Tayyip Erdogan will meet Iraqi Prime Minister Haider al-Abadi this week to discuss their concerns about an independence referendum in Iraq s Kurdish region. Turkey, the United States and other Western powers have advised authorities in the semi-autonomous region to cancel the vote, worrying that tensions it would generate might act as an unwelcome distraction from the war on Islamic State in Iraq and Syria. With the largest Kurdish population in the region, Turkey also fears that a  Yes  vote would fuel separatism in its southeast, where militants of the outlawed Kurdistan Workers Party (PKK) have waged an insurgency for three decades. Kurdish leader Massoud Barzani said on Friday the referendum would go ahead as planned on Sept. 25. Speaking to reporters on Sunday before departing for New York to attend the U.N. General Assembly, Erdogan said Ankara and Baghdad had the same view regarding the referendum.  We will have a meeting with Mr Abadi in the United States, and from what we can see our goal is the same. Our goal is not dividing Iraq,  said Erdogan, who earlier said that Barzani s decision to not postpone the vote was  very wrong . Late on Saturday Turkish Prime Minister Binali Yildirim said the referendum was an issue of national security and Turkey would take any necessary steps in response. In Istanbul, close to a thousand people gathered to protest the inclusion of Kirkuk in the referendum, at an event organized by the nationalist opposition MHP party. Kirkuk, an oil-rich province claimed by authorities in both Baghdad and the Kurdish region, was included after its governor, Najmaddin Kareem, voted in favor of taking part. Iraq s parliament voted on Thursday to remove the governor from office following a request from Abadi, according to several lawmakers present, a move Barzani condemned. Last month, MHP leader Devlet Bahceli said the referendum should be viewed by Ankara as a reason for war  if necessary , but the prime minister dismissed the comments. Bahceli s ideas reflect those of a segment of Turkish society fiercely opposed to the idea of an independent Kurdistan and supportive of Iraq s Turkmen ethnic minority, which has historical and cultural ties to Turkey. With Barzani pressing on with the referendum, Erdogan said the Turkish government had brought forward planned national security council and cabinet meetings to Sept. 22 and that Turkey would announce its position on the referendum afterwards. Turkey has, however, built good relations with Barzani s administration, founded on strong economic links and shared suspicions of other Kurdish groups and Iraq s central government. The Kurdish Regional Government, led by Barzani s KDP party, exports hundreds of thousands of barrels of oil every day to world markets via Turkey. Iraqi President Fuad Masum on Sunday called on the country s leading politicians to start urgent dialogue to defuse tensions linked to the referendum plans. Masum, a Kurd, holds a largely ceremonial position under the Iraqi federal power-sharing regime, which concentrates executive powers in the hands of the prime minister, a Shi ite.  \"\n        ],\n        \"semantic_type\": \"\",\n        \"description\": \"\"\n      }\n    },\n    {\n      \"column\": \"Source\",\n      \"properties\": {\n        \"dtype\": \"category\",\n        \"num_unique_values\": 10229,\n        \"samples\": [\n          \"https://www.cnn.com/2021/04/28/health/la-county-reopening/index.html\",\n          \"https://www.politico.com/news/2020/05/19/trumps-new-coronavirus-battle-timing-of-the-post-mortem-268232\",\n          \"https://www.cnn.com/2020/08/26/health/coronavirus-blood-thinners-mortality/index.html\"\n        ],\n        \"semantic_type\": \"\",\n        \"description\": \"\"\n      }\n    },\n    {\n      \"column\": \"date\",\n      \"properties\": {\n        \"dtype\": \"category\",\n        \"num_unique_values\": 4731,\n        \"samples\": [\n          \"Aug 15, 2016\",\n          \"October 7, 2016 \",\n          \"April 13, 2016\"\n        ],\n        \"semantic_type\": \"\",\n        \"description\": \"\"\n      }\n    },\n    {\n      \"column\": \"label\",\n      \"properties\": {\n        \"dtype\": \"number\",\n        \"std\": 0,\n        \"min\": 0,\n        \"max\": 1,\n        \"num_unique_values\": 2,\n        \"samples\": [\n          1,\n          0\n        ],\n        \"semantic_type\": \"\",\n        \"description\": \"\"\n      }\n    },\n    {\n      \"column\": \"subject\",\n      \"properties\": {\n        \"dtype\": \"category\",\n        \"num_unique_values\": 8,\n        \"samples\": [\n          \"politicsNews\",\n          \"US_News\"\n        ],\n        \"semantic_type\": \"\",\n        \"description\": \"\"\n      }\n    },\n    {\n      \"column\": \"author\",\n      \"properties\": {\n        \"dtype\": \"category\",\n        \"num_unique_values\": 4845,\n        \"samples\": [\n          \"Tim Arango and Hwaida Saad\",\n          \"Foppe\"\n        ],\n        \"semantic_type\": \"\",\n        \"description\": \"\"\n      }\n    }\n  ]\n}"
            }
          },
          "metadata": {},
          "execution_count": 25
        }
      ]
    },
    {
      "cell_type": "markdown",
      "source": [
        "#Final merged dataset"
      ],
      "metadata": {
        "id": "vm8YvM23rRna"
      }
    },
    {
      "cell_type": "code",
      "execution_count": null,
      "metadata": {
        "id": "oLy4sMPrRTNb"
      },
      "outputs": [],
      "source": [
        "df16.to_csv(\"/content/drive/MyDrive/Truth_Seeker/master_news_data.csv\")"
      ]
    },
    {
      "cell_type": "code",
      "source": [
        "df16 = pd.read_csv(\"/content/drive/MyDrive/Truth_Seeker/master_news_data.csv\")"
      ],
      "metadata": {
        "id": "Odh5jB-MdRlE"
      },
      "execution_count": null,
      "outputs": []
    },
    {
      "cell_type": "code",
      "source": [
        "df16.info()"
      ],
      "metadata": {
        "colab": {
          "base_uri": "https://localhost:8080/"
        },
        "id": "KGw-sKl9Chi2",
        "outputId": "e4e9a8fa-75af-4c33-e64d-63b1fa50d1cf"
      },
      "execution_count": null,
      "outputs": [
        {
          "output_type": "stream",
          "name": "stdout",
          "text": [
            "<class 'pandas.core.frame.DataFrame'>\n",
            "RangeIndex: 87487 entries, 0 to 87486\n",
            "Data columns (total 8 columns):\n",
            " #   Column      Non-Null Count  Dtype \n",
            "---  ------      --------------  ----- \n",
            " 0   Unnamed: 0  87487 non-null  int64 \n",
            " 1   title       86807 non-null  object\n",
            " 2   text        87366 non-null  object\n",
            " 3   Source      10254 non-null  object\n",
            " 4   date        55152 non-null  object\n",
            " 5   label       87487 non-null  int64 \n",
            " 6   subject     44898 non-null  object\n",
            " 7   author      23540 non-null  object\n",
            "dtypes: int64(2), object(6)\n",
            "memory usage: 5.3+ MB\n"
          ]
        }
      ]
    },
    {
      "cell_type": "markdown",
      "metadata": {
        "id": "eNqzxpxcf-KG"
      },
      "source": [
        "# **Data Cleaning**"
      ]
    },
    {
      "cell_type": "code",
      "source": [
        "#dropping source,author since there are so many null values\n",
        "df16.drop(columns=['Source','author','Unnamed: 0'],inplace=True)"
      ],
      "metadata": {
        "id": "zd-qiiAbxAot"
      },
      "execution_count": null,
      "outputs": []
    },
    {
      "cell_type": "code",
      "execution_count": null,
      "metadata": {
        "id": "3m5IB9dYRmnJ"
      },
      "outputs": [],
      "source": [
        "#filing missing values in subject\n",
        "df16['subject'] = df16['subject'].fillna(\"Unknown\")"
      ]
    },
    {
      "cell_type": "code",
      "execution_count": null,
      "metadata": {
        "colab": {
          "base_uri": "https://localhost:8080/"
        },
        "id": "7CFlBoCGgVav",
        "outputId": "94690366-20f5-42d3-b229-1ccca720190a"
      },
      "outputs": [
        {
          "output_type": "stream",
          "name": "stdout",
          "text": [
            "<class 'pandas.core.frame.DataFrame'>\n",
            "RangeIndex: 87487 entries, 0 to 87486\n",
            "Data columns (total 5 columns):\n",
            " #   Column   Non-Null Count  Dtype \n",
            "---  ------   --------------  ----- \n",
            " 0   title    86807 non-null  object\n",
            " 1   text     87366 non-null  object\n",
            " 2   date     55152 non-null  object\n",
            " 3   label    87487 non-null  int64 \n",
            " 4   subject  87487 non-null  object\n",
            "dtypes: int64(1), object(4)\n",
            "memory usage: 3.3+ MB\n"
          ]
        }
      ],
      "source": [
        "df16.info()"
      ]
    },
    {
      "cell_type": "code",
      "source": [
        "df16['text'].duplicated().sum()"
      ],
      "metadata": {
        "colab": {
          "base_uri": "https://localhost:8080/"
        },
        "id": "5TXrSVwx255j",
        "outputId": "13264ddb-d857-4570-fcad-8121286e2ea1"
      },
      "execution_count": null,
      "outputs": [
        {
          "output_type": "execute_result",
          "data": {
            "text/plain": [
              "10310"
            ]
          },
          "metadata": {},
          "execution_count": 55
        }
      ]
    },
    {
      "cell_type": "code",
      "execution_count": null,
      "metadata": {
        "id": "9jFBKsy5STdZ"
      },
      "outputs": [],
      "source": [
        "#dropping dupes of text\n",
        "df16 = df16.drop_duplicates(subset='text')"
      ]
    },
    {
      "cell_type": "code",
      "source": [
        "df16.info()"
      ],
      "metadata": {
        "colab": {
          "base_uri": "https://localhost:8080/"
        },
        "id": "HjkBj5N63Okm",
        "outputId": "9dcd2927-cbe1-48de-e5bb-2fa580ffac1a"
      },
      "execution_count": null,
      "outputs": [
        {
          "output_type": "stream",
          "name": "stdout",
          "text": [
            "<class 'pandas.core.frame.DataFrame'>\n",
            "Index: 77177 entries, 0 to 87486\n",
            "Data columns (total 5 columns):\n",
            " #   Column   Non-Null Count  Dtype \n",
            "---  ------   --------------  ----- \n",
            " 0   title    76547 non-null  object\n",
            " 1   text     77176 non-null  object\n",
            " 2   date     48756 non-null  object\n",
            " 3   label    77177 non-null  int64 \n",
            " 4   subject  77177 non-null  object\n",
            "dtypes: int64(1), object(4)\n",
            "memory usage: 3.5+ MB\n"
          ]
        }
      ]
    },
    {
      "cell_type": "code",
      "source": [
        "df16['date'] = pd.to_datetime(df16['date'],errors='coerce')\n",
        "month = df16['date'].dt.to_period(\"M\")\n",
        "df16.groupby([month, 'label']).size().unstack().plot(kind='line', marker='o')\n",
        "plt.title(\"Trend of Fake vs Real News Over Time\")\n",
        "plt.ylabel(\"Number of Articles\")\n",
        "plt.xlabel(\"Month\")\n",
        "plt.show()"
      ],
      "metadata": {
        "colab": {
          "base_uri": "https://localhost:8080/",
          "height": 492
        },
        "id": "G4mPG1An7oGM",
        "outputId": "29102e51-31be-42ac-b363-8b8685ba7dc8"
      },
      "execution_count": null,
      "outputs": [
        {
          "output_type": "display_data",
          "data": {
            "text/plain": [
              "<Figure size 640x480 with 1 Axes>"
            ],
            "image/png": "[encoded data removed]"
          },
          "metadata": {}
        }
      ]
    },
    {
      "cell_type": "code",
      "source": [
        "df16.info()"
      ],
      "metadata": {
        "colab": {
          "base_uri": "https://localhost:8080/"
        },
        "id": "_HnTZEQN7_Mp",
        "outputId": "3bd193dc-f6ba-45f7-a5df-a1d16fc57437"
      },
      "execution_count": null,
      "outputs": [
        {
          "output_type": "stream",
          "name": "stdout",
          "text": [
            "<class 'pandas.core.frame.DataFrame'>\n",
            "Index: 77177 entries, 0 to 87486\n",
            "Data columns (total 5 columns):\n",
            " #   Column   Non-Null Count  Dtype         \n",
            "---  ------   --------------  -----         \n",
            " 0   title    76547 non-null  object        \n",
            " 1   text     77176 non-null  object        \n",
            " 2   date     11389 non-null  datetime64[ns]\n",
            " 3   label    77177 non-null  int64         \n",
            " 4   subject  77177 non-null  object        \n",
            "dtypes: datetime64[ns](1), int64(1), object(3)\n",
            "memory usage: 3.5+ MB\n"
          ]
        }
      ]
    },
    {
      "cell_type": "code",
      "source": [
        "#drop date\n",
        "df16.drop(columns=['date'],inplace=True)"
      ],
      "metadata": {
        "id": "_zuNVnaX83ih"
      },
      "execution_count": null,
      "outputs": []
    },
    {
      "cell_type": "code",
      "source": [
        "df16['text'] = df16['text'].fillna('').astype(str)"
      ],
      "metadata": {
        "id": "GG1KZoSU9TMp"
      },
      "execution_count": null,
      "outputs": []
    },
    {
      "cell_type": "code",
      "source": [
        "df16['title'].fillna('Unknown', inplace=True)"
      ],
      "metadata": {
        "colab": {
          "base_uri": "https://localhost:8080/"
        },
        "id": "JaoSivX_-X-S",
        "outputId": "cd5360eb-d37c-426a-bc06-70492a1c67e0"
      },
      "execution_count": null,
      "outputs": [
        {
          "output_type": "stream",
          "name": "stderr",
          "text": [
            "<ipython-input-4-d95499f0b1aa>:1: FutureWarning: A value is trying to be set on a copy of a DataFrame or Series through chained assignment using an inplace method.\n",
            "The behavior will change in pandas 3.0. This inplace method will never work because the intermediate object on which we are setting values always behaves as a copy.\n",
            "\n",
            "For example, when doing 'df[col].method(value, inplace=True)', try using 'df.method({col: value}, inplace=True)' or df[col] = df[col].method(value) instead, to perform the operation inplace on the original object.\n",
            "\n",
            "\n",
            "  df16['title'].fillna('Unknown', inplace=True)\n"
          ]
        }
      ]
    },
    {
      "cell_type": "code",
      "source": [
        "#Removing punctutations\n",
        "import re\n",
        "df16['text'] = df16['text'].apply(lambda x: re.sub(r'[^\\w\\s]', '', x))\n",
        "df16['title'] = df16['title'].apply(lambda x: re.sub(r'[^\\w\\s]', '', x))"
      ],
      "metadata": {
        "id": "E-hCrAWj0UYK"
      },
      "execution_count": null,
      "outputs": []
    },
    {
      "cell_type": "code",
      "source": [
        "df16.to_csv('/content/drive/MyDrive/Truth_Seeker/master_news_data_cleaned_almost.csv')"
      ],
      "metadata": {
        "id": "cMmcTtNA-3LM"
      },
      "execution_count": null,
      "outputs": []
    },
    {
      "cell_type": "code",
      "source": [
        "df16 = pd.read_csv('/content/drive/MyDrive/Truth_Seeker/master_news_data_cleaned_almost.csv')"
      ],
      "metadata": {
        "id": "kml7rPBhNO8S"
      },
      "execution_count": 12,
      "outputs": []
    },
    {
      "cell_type": "code",
      "source": [
        "df16[df16['text'].isnull()]\n",
        "df16 = df16.dropna(subset=['text'])"
      ],
      "metadata": {
        "id": "Ca7ixRIWP_Bu"
      },
      "execution_count": 14,
      "outputs": []
    },
    {
      "cell_type": "code",
      "source": [
        "df16['text_length'] = df16['text'].apply(len)"
      ],
      "metadata": {
        "id": "05vjYz0PU_Ik"
      },
      "execution_count": 15,
      "outputs": []
    },
    {
      "cell_type": "code",
      "source": [
        "df16.info()"
      ],
      "metadata": {
        "colab": {
          "base_uri": "https://localhost:8080/"
        },
        "id": "Zb4SeHf8NZkd",
        "outputId": "cc69c838-e349-4c48-d1de-7413a43f56cb"
      },
      "execution_count": 16,
      "outputs": [
        {
          "output_type": "stream",
          "name": "stdout",
          "text": [
            "<class 'pandas.core.frame.DataFrame'>\n",
            "Index: 77174 entries, 0 to 77175\n",
            "Data columns (total 6 columns):\n",
            " #   Column       Non-Null Count  Dtype \n",
            "---  ------       --------------  ----- \n",
            " 0   Unnamed: 0   77174 non-null  int64 \n",
            " 1   title        76544 non-null  object\n",
            " 2   text         77174 non-null  object\n",
            " 3   label        77174 non-null  int64 \n",
            " 4   subject      77174 non-null  object\n",
            " 5   text_length  77174 non-null  int64 \n",
            "dtypes: int64(3), object(3)\n",
            "memory usage: 4.1+ MB\n"
          ]
        }
      ]
    },
    {
      "cell_type": "code",
      "source": [
        "#Saving file\n",
        "df16.to_csv(\"/content/drive/MyDrive/Truth_Seeker/cleaned_master_data.csv\")"
      ],
      "metadata": {
        "id": "h6uc520CVrKA"
      },
      "execution_count": 17,
      "outputs": []
    },
    {
      "cell_type": "markdown",
      "metadata": {
        "id": "11WsKXaBhRfU"
      },
      "source": [
        "# EDA"
      ]
    },
    {
      "cell_type": "code",
      "execution_count": null,
      "metadata": {
        "id": "qoo81o567MUr"
      },
      "outputs": [],
      "source": [
        "import seaborn as sns\n",
        "import matplotlib.pyplot as plt"
      ]
    },
    {
      "cell_type": "code",
      "execution_count": null,
      "metadata": {
        "colab": {
          "base_uri": "https://localhost:8080/",
          "height": 492
        },
        "id": "qk15ClwmhWFV",
        "outputId": "196f8e38-133e-404c-da43-9f8876e0de80"
      },
      "outputs": [
        {
          "output_type": "display_data",
          "data": {
            "text/plain": [
              "<Figure size 640x480 with 1 Axes>"
            ],
            "image/png": "[encoded data removed]"
          },
          "metadata": {}
        }
      ],
      "source": [
        "sns.countplot(x='label', data=df16,color='c')\n",
        "plt.title(\"Real vs Fake\")\n",
        "plt.show()"
      ]
    },
    {
      "cell_type": "code",
      "execution_count": null,
      "metadata": {
        "colab": {
          "base_uri": "https://localhost:8080/",
          "height": 492
        },
        "id": "EMl25Y5vhpGo",
        "outputId": "d14b35f2-a06a-4a36-a14c-35ff5269800c"
      },
      "outputs": [
        {
          "output_type": "display_data",
          "data": {
            "text/plain": [
              "<Figure size 640x480 with 1 Axes>"
            ],
            "image/png": "[encoded data removed]"
          },
          "metadata": {}
        }
      ],
      "source": [
        "sns.histplot(df16['text_length'], bins=50,color = 'c')\n",
        "plt.title(\"Distribution of Text Length\")\n",
        "plt.xlabel(\"Text Length\")\n",
        "plt.ylabel(\"Frequency\")\n",
        "plt.xlim(0, 35000)\n",
        "plt.ylim(0, 50000)\n",
        "plt.show()"
      ]
    },
    {
      "cell_type": "code",
      "execution_count": null,
      "metadata": {
        "colab": {
          "base_uri": "https://localhost:8080/",
          "height": 492
        },
        "id": "UAHHm4IdhyIK",
        "outputId": "cb829982-1ca4-44ad-9d9a-5f9556fd5eae"
      },
      "outputs": [
        {
          "output_type": "display_data",
          "data": {
            "text/plain": [
              "<Figure size 640x480 with 1 Axes>"
            ],
            "image/png": "[encoded data removed]"
          },
          "metadata": {}
        }
      ],
      "source": [
        "sns.countplot(y='subject', hue='label', data=df16, order=df16['subject'].value_counts().index)\n",
        "plt.title(\"Distribution of Subjects\")\n",
        "plt.show()"
      ]
    },
    {
      "cell_type": "code",
      "execution_count": null,
      "metadata": {
        "colab": {
          "base_uri": "https://localhost:8080/"
        },
        "id": "QFRpc5DRh-J7",
        "outputId": "4341e88c-e969-4614-e7bf-6f91ab74b444"
      },
      "outputs": [
        {
          "output_type": "stream",
          "name": "stdout",
          "text": [
            "subject          label\n",
            "Government News  0          514\n",
            "News             0         9050\n",
            "US_News          0          783\n",
            "Unknown          1        23478\n",
            "                 0        15054\n",
            "left-news        0          683\n",
            "politics         0         6424\n",
            "politicsNews     1        11213\n",
            "worldnews        1         9978\n",
            "Name: count, dtype: int64\n"
          ]
        }
      ],
      "source": [
        "grouped = df16.groupby(\"subject\")[\"label\"].value_counts()\n",
        "print(grouped)"
      ]
    },
    {
      "source": [
        "from matplotlib import pyplot as plt\n",
        "df16['text_length'].plot(kind='line', figsize=(8, 4), title='text_length')\n",
        "plt.gca().spines[['top', 'right']].set_visible(False)"
      ],
      "cell_type": "code",
      "execution_count": null,
      "outputs": [
        {
          "output_type": "display_data",
          "data": {
            "text/plain": [
              "<Figure size 800x400 with 1 Axes>"
            ],
            "image/png": "[encoded data removed]"
          },
          "metadata": {}
        }
      ],
      "metadata": {
        "colab": {
          "base_uri": "https://localhost:8080/",
          "height": 411
        },
        "id": "QOCBcBuuvYI2",
        "outputId": "77e3614d-b43a-4e3b-a65f-30a64ebfd873"
      }
    },
    {
      "cell_type": "markdown",
      "source": [
        "Text Length by Subject: Shows how the length of text varies by subject."
      ],
      "metadata": {
        "id": "tVp5FuFha5_A"
      }
    },
    {
      "cell_type": "code",
      "source": [
        "# distribution of text_length by subject\n",
        "plt.figure(figsize=(8, 6))\n",
        "sns.boxplot(x='subject', y='text_length', data=df16, palette='Set3')\n",
        "plt.title(\"Text Length Distribution by Subject\")\n",
        "plt.xlabel(\"Subject\")\n",
        "plt.ylabel(\"Text Length\")\n",
        "plt.show()"
      ],
      "metadata": {
        "colab": {
          "base_uri": "https://localhost:8080/",
          "height": 671
        },
        "id": "l1ujMZSfac84",
        "outputId": "80181088-1b3b-4baa-deb0-32542213b689"
      },
      "execution_count": null,
      "outputs": [
        {
          "output_type": "stream",
          "name": "stderr",
          "text": [
            "<ipython-input-30-007c9140e47c>:3: FutureWarning: \n",
            "\n",
            "Passing `palette` without assigning `hue` is deprecated and will be removed in v0.14.0. Assign the `x` variable to `hue` and set `legend=False` for the same effect.\n",
            "\n",
            "  sns.boxplot(x='subject', y='text_length', data=df16, palette='Set3')\n"
          ]
        },
        {
          "output_type": "display_data",
          "data": {
            "text/plain": [
              "<Figure size 800x600 with 1 Axes>"
            ],
            "image/png": "[encoded data removed]"
          },
          "metadata": {}
        }
      ]
    },
    {
      "cell_type": "markdown",
      "source": [
        "Text Length by Label: Shows whether fake and real news have different lengths."
      ],
      "metadata": {
        "id": "anKVfXD4atDV"
      }
    },
    {
      "cell_type": "code",
      "source": [
        "plt.figure(figsize=(8, 6))\n",
        "sns.boxplot(x='label', y='text_length', data=df16, palette='Set3')\n",
        "plt.title(\"Text Length Distribution by Label\")\n",
        "plt.xlabel(\"Label\")\n",
        "plt.ylabel(\"Text Length\")\n",
        "plt.show()"
      ],
      "metadata": {
        "colab": {
          "base_uri": "https://localhost:8080/",
          "height": 671
        },
        "id": "McIY_sjLak4U",
        "outputId": "fd504c7e-6cd7-453c-fb04-c8ce10e1fa1e"
      },
      "execution_count": null,
      "outputs": [
        {
          "output_type": "stream",
          "name": "stderr",
          "text": [
            "<ipython-input-31-fb9a98278647>:2: FutureWarning: \n",
            "\n",
            "Passing `palette` without assigning `hue` is deprecated and will be removed in v0.14.0. Assign the `x` variable to `hue` and set `legend=False` for the same effect.\n",
            "\n",
            "  sns.boxplot(x='label', y='text_length', data=df16, palette='Set3')\n"
          ]
        },
        {
          "output_type": "display_data",
          "data": {
            "text/plain": [
              "<Figure size 800x600 with 1 Axes>"
            ],
            "image/png": "[encoded data removed]"
          },
          "metadata": {}
        }
      ]
    },
    {
      "cell_type": "code",
      "source": [
        "plt.figure(figsize=(8, 6))\n",
        "sns.boxplot(x=df16['text_length'], color='purple')\n",
        "plt.title(\"Boxplot for Text Length for outlier dtection\")\n",
        "plt.show()\n",
        "# There are numerous outliers with very high text lengths"
      ],
      "metadata": {
        "colab": {
          "base_uri": "https://localhost:8080/",
          "height": 584
        },
        "id": "QwC-dsMcbQfg",
        "outputId": "e777a076-4c82-48a7-857a-da337ade46be"
      },
      "execution_count": null,
      "outputs": [
        {
          "output_type": "display_data",
          "data": {
            "text/plain": [
              "<Figure size 800x600 with 1 Axes>"
            ],
            "image/png": "[encoded data removed]"
          },
          "metadata": {}
        }
      ]
    },
    {
      "cell_type": "markdown",
      "source": [
        "Correlation"
      ],
      "metadata": {
        "id": "UYNbyJssfCAa"
      }
    },
    {
      "cell_type": "code",
      "source": [
        "# Correlation Heatmap\n",
        "plt.figure(figsize=(8, 6))\n",
        "correlation_matrix = df16[['text_length', 'label']].corr()\n",
        "sns.heatmap(correlation_matrix, annot=True, cmap='Blues', linewidths=0.5)\n",
        "plt.title(\"Correlation Heatmap\")\n",
        "plt.show()\n",
        "#there is almost no linear relationship between the length of the text and the label"
      ],
      "metadata": {
        "colab": {
          "base_uri": "https://localhost:8080/",
          "height": 565
        },
        "id": "np-Dja7jdOW7",
        "outputId": "31ca24c3-6a29-4e78-974e-cd3967ce738e"
      },
      "execution_count": null,
      "outputs": [
        {
          "output_type": "display_data",
          "data": {
            "text/plain": [
              "<Figure size 800x600 with 2 Axes>"
            ],
            "image/png": "[encoded data removed]"
          },
          "metadata": {}
        }
      ]
    },
    {
      "cell_type": "code",
      "source": [
        "# VIF\n",
        "from statsmodels.stats.outliers_influence import variance_inflation_factor\n",
        "from statsmodels.tools.tools import add_constant\n",
        "\n",
        "X = df16[['text_length', 'label']]\n",
        "X = add_constant(X)\n",
        "\n",
        "vif_data = pd.DataFrame()\n",
        "vif_data[\"Variable\"] = X.columns\n",
        "vif_data[\"VIF\"] = [variance_inflation_factor(X.values, i) for i in range(X.shape[1])]\n",
        "\n",
        "print(\"VIF:\\n\", vif_data)\n",
        "#not multicollinear"
      ],
      "metadata": {
        "colab": {
          "base_uri": "https://localhost:8080/"
        },
        "id": "-dD8ktfxeakK",
        "outputId": "dd893022-aed5-4a52-ec60-5d9c557f8f42"
      },
      "execution_count": null,
      "outputs": [
        {
          "output_type": "stream",
          "name": "stdout",
          "text": [
            "VIF:\n",
            "       Variable       VIF\n",
            "0        const  3.268183\n",
            "1  text_length  1.002209\n",
            "2        label  1.002209\n"
          ]
        }
      ]
    },
    {
      "cell_type": "markdown",
      "source": [
        "#Data Transformation"
      ],
      "metadata": {
        "id": "LgihIyFpghmN"
      }
    },
    {
      "cell_type": "code",
      "source": [
        "#transforiming subject into 3 categories bcuz they are similar\n",
        "subject_mapping = {\n",
        "    'Government News': 'Politics',\n",
        "    'US_News': 'Politics',\n",
        "    'politics': 'Politics',\n",
        "    'politicsNews': 'Politics',\n",
        "    'News': 'General News',\n",
        "    'worldnews': 'General News',\n",
        "    'left-news': 'General News',\n",
        "    'Unknown': 'Unknown'\n",
        "}\n",
        "\n",
        "df16['subject_'] = df16['subject'].replace(subject_mapping)"
      ],
      "metadata": {
        "id": "Vuu79146wUPL"
      },
      "execution_count": 18,
      "outputs": []
    },
    {
      "cell_type": "code",
      "source": [
        "grouped = df16.groupby(\"subject_\")[\"label\"].value_counts()\n",
        "print(grouped)"
      ],
      "metadata": {
        "colab": {
          "base_uri": "https://localhost:8080/"
        },
        "id": "G0InIKUpzyoq",
        "outputId": "28f178f3-1e78-43d9-a6c3-73ed0deb59d4"
      },
      "execution_count": 19,
      "outputs": [
        {
          "output_type": "stream",
          "name": "stdout",
          "text": [
            "subject_      label\n",
            "General News  1         9978\n",
            "              0         9733\n",
            "Politics      1        11213\n",
            "              0         7721\n",
            "Unknown       1        23490\n",
            "              0        15039\n",
            "Name: count, dtype: int64\n"
          ]
        }
      ]
    },
    {
      "cell_type": "code",
      "source": [
        "import matplotlib.pyplot as plt\n",
        "import seaborn as sns\n",
        "plt.figure(figsize=(8, 6))\n",
        "sns.countplot(x='subject_', hue='label', data=df16,palette = 'Set3')\n",
        "plt.title('Subject Distribution')\n",
        "plt.xlabel('Subject')\n",
        "plt.ylabel('Count of labels')\n",
        "plt.show()"
      ],
      "metadata": {
        "colab": {
          "base_uri": "https://localhost:8080/",
          "height": 584
        },
        "id": "wtqEf6xDhHLS",
        "outputId": "82d35f55-9cfb-4f37-e5aa-088f4495bc91"
      },
      "execution_count": 21,
      "outputs": [
        {
          "output_type": "display_data",
          "data": {
            "text/plain": [
              "<Figure size 800x600 with 1 Axes>"
            ],
            "image/png": "[encoded data removed]"
          },
          "metadata": {}
        }
      ]
    },
    {
      "cell_type": "code",
      "source": [
        "subjects = df16['subject_'].unique()\n",
        "for subject in subjects:\n",
        "    subject_data = df16[df16['subject_'] == subject]\n",
        "    label_counts = subject_data['label'].value_counts()\n",
        "    plt.figure(figsize=(5, 5))\n",
        "    label_counts.plot(kind='pie', autopct='%1.1f%%', startangle=90, colors=['#66b3ff', '#99ff99'])\n",
        "    plt.title(f'Label Distribution for {subject}')\n",
        "    plt.show()"
      ],
      "metadata": {
        "colab": {
          "base_uri": "https://localhost:8080/",
          "height": 1000
        },
        "id": "nfWCr-jWhdkw",
        "outputId": "3b3c3e99-418c-421d-9e23-7451cf84f40b"
      },
      "execution_count": null,
      "outputs": [
        {
          "output_type": "display_data",
          "data": {
            "text/plain": [
              "<Figure size 500x500 with 1 Axes>"
            ],
            "image/png": "[encoded data removed]"
          },
          "metadata": {}
        },
        {
          "output_type": "display_data",
          "data": {
            "text/plain": [
              "<Figure size 500x500 with 1 Axes>"
            ],
            "image/png": "[encoded data removed]"
          },
          "metadata": {}
        },
        {
          "output_type": "display_data",
          "data": {
            "text/plain": [
              "<Figure size 500x500 with 1 Axes>"
            ],
            "image/png": "[encoded data removed]"
          },
          "metadata": {}
        }
      ]
    },
    {
      "cell_type": "markdown",
      "source": [
        "ENcoding"
      ],
      "metadata": {
        "id": "TIQC1ZufiTBR"
      }
    },
    {
      "cell_type": "code",
      "source": [
        "df16['subject_encoded'] = df16['subject_'].astype('category').cat.codes\n",
        "correlation_matrix = df16[['subject_encoded', 'label']].corr()\n",
        "\n",
        "sns.heatmap(correlation_matrix, annot=True, cmap='coolwarm', vmin=-1, vmax=1)\n",
        "plt.title('Correlation between Subject and Label')\n",
        "plt.show()\n",
        "#Uncorrelated"
      ],
      "metadata": {
        "colab": {
          "base_uri": "https://localhost:8080/",
          "height": 472
        },
        "id": "3BMiIOnwh_U7",
        "outputId": "978da2c5-5db4-4d9d-b581-421272155a0f"
      },
      "execution_count": null,
      "outputs": [
        {
          "output_type": "display_data",
          "data": {
            "text/plain": [
              "<Figure size 640x480 with 2 Axes>"
            ],
            "image/png": "[encoded data removed]"
          },
          "metadata": {}
        }
      ]
    },
    {
      "cell_type": "code",
      "source": [
        "df16.info()"
      ],
      "metadata": {
        "colab": {
          "base_uri": "https://localhost:8080/"
        },
        "id": "BDdBW2knjXVQ",
        "outputId": "2b07d0df-48a0-465c-e294-b78f85517103"
      },
      "execution_count": null,
      "outputs": [
        {
          "output_type": "stream",
          "name": "stdout",
          "text": [
            "<class 'pandas.core.frame.DataFrame'>\n",
            "Index: 77174 entries, 0 to 77175\n",
            "Data columns (total 6 columns):\n",
            " #   Column           Non-Null Count  Dtype \n",
            "---  ------           --------------  ----- \n",
            " 0   title            77174 non-null  object\n",
            " 1   text             77174 non-null  object\n",
            " 2   label            77174 non-null  int64 \n",
            " 3   text_length      77174 non-null  int64 \n",
            " 4   subject_         77174 non-null  object\n",
            " 5   subject_encoded  77174 non-null  int8  \n",
            "dtypes: int64(2), int8(1), object(3)\n",
            "memory usage: 3.6+ MB\n"
          ]
        }
      ]
    },
    {
      "cell_type": "markdown",
      "source": [
        "# Data Preprocessing\n"
      ],
      "metadata": {
        "id": "xlbSJoXY1YwY"
      }
    },
    {
      "cell_type": "code",
      "source": [
        "import nltk\n",
        "nltk.download('stopwords')\n",
        "nltk.download('wordnet')"
      ],
      "metadata": {
        "colab": {
          "base_uri": "https://localhost:8080/"
        },
        "id": "TWYZcb_f5Esl",
        "outputId": "db912c8f-b819-40d6-eaf6-e0de5b5a2724"
      },
      "execution_count": 22,
      "outputs": [
        {
          "output_type": "stream",
          "name": "stderr",
          "text": [
            "[nltk_data] Downloading package stopwords to /root/nltk_data...\n",
            "[nltk_data]   Package stopwords is already up-to-date!\n",
            "[nltk_data] Downloading package wordnet to /root/nltk_data...\n",
            "[nltk_data]   Package wordnet is already up-to-date!\n"
          ]
        },
        {
          "output_type": "execute_result",
          "data": {
            "text/plain": [
              "True"
            ]
          },
          "metadata": {},
          "execution_count": 22
        }
      ]
    },
    {
      "cell_type": "code",
      "source": [
        "df16.info()"
      ],
      "metadata": {
        "colab": {
          "base_uri": "https://localhost:8080/"
        },
        "id": "N6EWqzYUYN2I",
        "outputId": "9fa9321b-ce10-4ed2-809d-e7c99f57fc19"
      },
      "execution_count": 24,
      "outputs": [
        {
          "output_type": "stream",
          "name": "stdout",
          "text": [
            "<class 'pandas.core.frame.DataFrame'>\n",
            "Index: 77174 entries, 0 to 77175\n",
            "Data columns (total 7 columns):\n",
            " #   Column       Non-Null Count  Dtype \n",
            "---  ------       --------------  ----- \n",
            " 0   Unnamed: 0   77174 non-null  int64 \n",
            " 1   title        76544 non-null  object\n",
            " 2   text         77174 non-null  object\n",
            " 3   label        77174 non-null  int64 \n",
            " 4   subject      77174 non-null  object\n",
            " 5   text_length  77174 non-null  int64 \n",
            " 6   subject_     77174 non-null  object\n",
            "dtypes: int64(3), object(4)\n",
            "memory usage: 4.7+ MB\n"
          ]
        }
      ]
    },
    {
      "cell_type": "markdown",
      "source": [
        "Lemmatization and Stop word removal"
      ],
      "metadata": {
        "id": "Gnnjz2rukY_L"
      }
    },
    {
      "cell_type": "code",
      "source": [
        "import re\n",
        "from nltk.corpus import stopwords\n",
        "from nltk.stem import WordNetLemmatizer\n",
        "\n",
        "stop_words = set(stopwords.words('english'))\n",
        "lemmatizer = WordNetLemmatizer()\n",
        "\n",
        "def preprocess_text(text):\n",
        "    text = text.lower()\n",
        "    text = re.sub(r'[^a-zA-Z\\s]', '', text)\n",
        "    words = [lemmatizer.lemmatize(word) for word in text.split() if word not in stop_words]\n",
        "    return ' '.join(words)\n",
        "\n",
        "df16['clean_text'] = df16['text'].apply(preprocess_text)\n",
        "df16['clean_title'] = df16['title'].apply(preprocess_text)"
      ],
      "metadata": {
        "id": "kY-lxnAuz9fz"
      },
      "execution_count": null,
      "outputs": []
    },
    {
      "cell_type": "markdown",
      "source": [
        "Named Entity recognition"
      ],
      "metadata": {
        "id": "ftdS6SthmdjD"
      }
    },
    {
      "cell_type": "code",
      "source": [
        "#Using spacy for NER bcuz nltk throws error\n",
        "import spacy\n",
        "nlp = spacy.load(\"en_core_web_sm\")\n",
        "\n",
        "def get_named_entities(text):\n",
        "    doc = nlp(text)\n",
        "    return [(entity.text, entity.label_) for entity in doc.ents]\n",
        "\n",
        "df16['named_entities'] = df16['clean_text'].apply(get_named_entities)\n",
        "print(df16[['clean_text', 'named_entities']].head())"
      ],
      "metadata": {
        "colab": {
          "base_uri": "https://localhost:8080/"
        },
        "id": "FdD7Ay924-u_",
        "outputId": "1bfc27e6-9f7f-4ebd-9719-29cc259e11f3"
      },
      "execution_count": null,
      "outputs": [
        {
          "output_type": "stream",
          "name": "stdout",
          "text": [
            "                                          clean_text  \\\n",
            "0  yearold girl smacked donald trump amazingon sa...   \n",
            "1  point every republican refuse spine stand dona...   \n",
            "2  donald trump attacking president obama campaig...   \n",
            "3  massachusetts rep jim mcgovern brought house s...   \n",
            "4  world like postdonald trump new hashtag aftert...   \n",
            "\n",
            "                                      named_entities  \n",
            "0  [(donald trump, PERSON), (saturday, DATE), (hu...  \n",
            "1  [(republican, NORP), (america, GPE), (one, CAR...  \n",
            "2  [(donald trump, PERSON), (hillary clinton, PER...  \n",
            "3  [(massachusetts, GPE), (rep jim mcgovern broug...  \n",
            "4  [(gop, ORG), (gop, ORG), (august aftertrumpimp...  \n"
          ]
        }
      ]
    },
    {
      "cell_type": "code",
      "source": [
        "df16.head(3)"
      ],
      "metadata": {
        "colab": {
          "base_uri": "https://localhost:8080/",
          "height": 233
        },
        "id": "D2xGv3U_3jfn",
        "outputId": "eeb7628f-60b8-44e7-cdcc-682520c6ba4c"
      },
      "execution_count": null,
      "outputs": [
        {
          "output_type": "execute_result",
          "data": {
            "text/plain": [
              "                                               title  \\\n",
              "0  \\r\\r\\r\\r\\r\\r\\r\\nDonald Trump Gets His A Handed...   \n",
              "1  \\r\\r\\r\\r\\r\\r\\r\\nExGOP Congressman Shreds Fello...   \n",
              "2  \\r\\r\\r\\r\\r\\r\\r\\nTrump Gets STOMPED For Whining...   \n",
              "\n",
              "                                                text  label  text_length  \\\n",
              "0  A 10yearold girl smacked down Donald Trump and...      0         2566   \n",
              "1  At this point every Republican who refuses to ...      0         1925   \n",
              "2  Donald Trump has been attacking President Obam...      0         3389   \n",
              "\n",
              "       subject_  subject_encoded  \\\n",
              "0  General News                0   \n",
              "1  General News                0   \n",
              "2  General News                0   \n",
              "\n",
              "                                          clean_text  \\\n",
              "0  yearold girl smacked donald trump amazingon sa...   \n",
              "1  point every republican refuse spine stand dona...   \n",
              "2  donald trump attacking president obama campaig...   \n",
              "\n",
              "                                         clean_title  \\\n",
              "0         donald trump get handed yearold girl video   \n",
              "1  exgop congressman shred fellow republican howl...   \n",
              "2  trump get stomped whining president obama usin...   \n",
              "\n",
              "                                      named_entities  \n",
              "0  [(donald trump, PERSON), (saturday, DATE), (hu...  \n",
              "1  [(republican, NORP), (america, GPE), (one, CAR...  \n",
              "2  [(donald trump, PERSON), (hillary clinton, PER...  "
            ],
            "text/html": [
              "\n",
              "  <div id=\"df-447bc905-b71a-473b-82aa-106965d2f380\" class=\"colab-df-container\">\n",
              "    <div>\n",
              "<style scoped>\n",
              "    .dataframe tbody tr th:only-of-type {\n",
              "        vertical-align: middle;\n",
              "    }\n",
              "\n",
              "    .dataframe tbody tr th {\n",
              "        vertical-align: top;\n",
              "    }\n",
              "\n",
              "    .dataframe thead th {\n",
              "        text-align: right;\n",
              "    }\n",
              "</style>\n",
              "<table border=\"1\" class=\"dataframe\">\n",
              "  <thead>\n",
              "    <tr style=\"text-align: right;\">\n",
              "      <th></th>\n",
              "      <th>title</th>\n",
              "      <th>text</th>\n",
              "      <th>label</th>\n",
              "      <th>text_length</th>\n",
              "      <th>subject_</th>\n",
              "      <th>subject_encoded</th>\n",
              "      <th>clean_text</th>\n",
              "      <th>clean_title</th>\n",
              "      <th>named_entities</th>\n",
              "    </tr>\n",
              "  </thead>\n",
              "  <tbody>\n",
              "    <tr>\n",
              "      <th>0</th>\n",
              "      <td>\\r\\r\\r\\r\\r\\r\\r\\nDonald Trump Gets His A Handed...</td>\n",
              "      <td>A 10yearold girl smacked down Donald Trump and...</td>\n",
              "      <td>0</td>\n",
              "      <td>2566</td>\n",
              "      <td>General News</td>\n",
              "      <td>0</td>\n",
              "      <td>yearold girl smacked donald trump amazingon sa...</td>\n",
              "      <td>donald trump get handed yearold girl video</td>\n",
              "      <td>[(donald trump, PERSON), (saturday, DATE), (hu...</td>\n",
              "    </tr>\n",
              "    <tr>\n",
              "      <th>1</th>\n",
              "      <td>\\r\\r\\r\\r\\r\\r\\r\\nExGOP Congressman Shreds Fello...</td>\n",
              "      <td>At this point every Republican who refuses to ...</td>\n",
              "      <td>0</td>\n",
              "      <td>1925</td>\n",
              "      <td>General News</td>\n",
              "      <td>0</td>\n",
              "      <td>point every republican refuse spine stand dona...</td>\n",
              "      <td>exgop congressman shred fellow republican howl...</td>\n",
              "      <td>[(republican, NORP), (america, GPE), (one, CAR...</td>\n",
              "    </tr>\n",
              "    <tr>\n",
              "      <th>2</th>\n",
              "      <td>\\r\\r\\r\\r\\r\\r\\r\\nTrump Gets STOMPED For Whining...</td>\n",
              "      <td>Donald Trump has been attacking President Obam...</td>\n",
              "      <td>0</td>\n",
              "      <td>3389</td>\n",
              "      <td>General News</td>\n",
              "      <td>0</td>\n",
              "      <td>donald trump attacking president obama campaig...</td>\n",
              "      <td>trump get stomped whining president obama usin...</td>\n",
              "      <td>[(donald trump, PERSON), (hillary clinton, PER...</td>\n",
              "    </tr>\n",
              "  </tbody>\n",
              "</table>\n",
              "</div>\n",
              "    <div class=\"colab-df-buttons\">\n",
              "\n",
              "  <div class=\"colab-df-container\">\n",
              "    <button class=\"colab-df-convert\" onclick=\"convertToInteractive('df-447bc905-b71a-473b-82aa-106965d2f380')\"\n",
              "            title=\"Convert this dataframe to an interactive table.\"\n",
              "            style=\"display:none;\">\n",
              "\n",
              "  <svg xmlns=\"http://www.w3.org/2000/svg\" height=\"24px\" viewBox=\"0 -960 960 960\">\n",
              "    <path d=\"M120-120v-720h720v720H120Zm60-500h600v-160H180v160Zm220 220h160v-160H400v160Zm0 220h160v-160H400v160ZM180-400h160v-160H180v160Zm440 0h160v-160H620v160ZM180-180h160v-160H180v160Zm440 0h160v-160H620v160Z\"/>\n",
              "  </svg>\n",
              "    </button>\n",
              "\n",
              "  <style>\n",
              "    .colab-df-container {\n",
              "      display:flex;\n",
              "      gap: 12px;\n",
              "    }\n",
              "\n",
              "    .colab-df-convert {\n",
              "      background-color: #E8F0FE;\n",
              "      border: none;\n",
              "      border-radius: 50%;\n",
              "      cursor: pointer;\n",
              "      display: none;\n",
              "      fill: #1967D2;\n",
              "      height: 32px;\n",
              "      padding: 0 0 0 0;\n",
              "      width: 32px;\n",
              "    }\n",
              "\n",
              "    .colab-df-convert:hover {\n",
              "      background-color: #E2EBFA;\n",
              "      box-shadow: 0px 1px 2px rgba(60, 64, 67, 0.3), 0px 1px 3px 1px rgba(60, 64, 67, 0.15);\n",
              "      fill: #174EA6;\n",
              "    }\n",
              "\n",
              "    .colab-df-buttons div {\n",
              "      margin-bottom: 4px;\n",
              "    }\n",
              "\n",
              "    [theme=dark] .colab-df-convert {\n",
              "      background-color: #3B4455;\n",
              "      fill: #D2E3FC;\n",
              "    }\n",
              "\n",
              "    [theme=dark] .colab-df-convert:hover {\n",
              "      background-color: #434B5C;\n",
              "      box-shadow: 0px 1px 3px 1px rgba(0, 0, 0, 0.15);\n",
              "      filter: drop-shadow(0px 1px 2px rgba(0, 0, 0, 0.3));\n",
              "      fill: #FFFFFF;\n",
              "    }\n",
              "  </style>\n",
              "\n",
              "    <script>\n",
              "      const buttonEl =\n",
              "        document.querySelector('#df-447bc905-b71a-473b-82aa-106965d2f380 button.colab-df-convert');\n",
              "      buttonEl.style.display =\n",
              "        google.colab.kernel.accessAllowed ? 'block' : 'none';\n",
              "\n",
              "      async function convertToInteractive(key) {\n",
              "        const element = document.querySelector('#df-447bc905-b71a-473b-82aa-106965d2f380');\n",
              "        const dataTable =\n",
              "          await google.colab.kernel.invokeFunction('convertToInteractive',\n",
              "                                                    [key], {});\n",
              "        if (!dataTable) return;\n",
              "\n",
              "        const docLinkHtml = 'Like what you see? Visit the ' +\n",
              "          '<a target=\"_blank\" href=https://colab.research.google.com/notebooks/data_table.ipynb>data table notebook</a>'\n",
              "          + ' to learn more about interactive tables.';\n",
              "        element.innerHTML = '';\n",
              "        dataTable['output_type'] = 'display_data';\n",
              "        await google.colab.output.renderOutput(dataTable, element);\n",
              "        const docLink = document.createElement('div');\n",
              "        docLink.innerHTML = docLinkHtml;\n",
              "        element.appendChild(docLink);\n",
              "      }\n",
              "    </script>\n",
              "  </div>\n",
              "\n",
              "\n",
              "<div id=\"df-36795e19-a122-4b61-8af2-a87f69880719\">\n",
              "  <button class=\"colab-df-quickchart\" onclick=\"quickchart('df-36795e19-a122-4b61-8af2-a87f69880719')\"\n",
              "            title=\"Suggest charts\"\n",
              "            style=\"display:none;\">\n",
              "\n",
              "<svg xmlns=\"http://www.w3.org/2000/svg\" height=\"24px\"viewBox=\"0 0 24 24\"\n",
              "     width=\"24px\">\n",
              "    <g>\n",
              "        <path d=\"M19 3H5c-1.1 0-2 .9-2 2v14c0 1.1.9 2 2 2h14c1.1 0 2-.9 2-2V5c0-1.1-.9-2-2-2zM9 17H7v-7h2v7zm4 0h-2V7h2v10zm4 0h-2v-4h2v4z\"/>\n",
              "    </g>\n",
              "</svg>\n",
              "  </button>\n",
              "\n",
              "<style>\n",
              "  .colab-df-quickchart {\n",
              "      --bg-color: #E8F0FE;\n",
              "      --fill-color: #1967D2;\n",
              "      --hover-bg-color: #E2EBFA;\n",
              "      --hover-fill-color: #174EA6;\n",
              "      --disabled-fill-color: #AAA;\n",
              "      --disabled-bg-color: #DDD;\n",
              "  }\n",
              "\n",
              "  [theme=dark] .colab-df-quickchart {\n",
              "      --bg-color: #3B4455;\n",
              "      --fill-color: #D2E3FC;\n",
              "      --hover-bg-color: #434B5C;\n",
              "      --hover-fill-color: #FFFFFF;\n",
              "      --disabled-bg-color: #3B4455;\n",
              "      --disabled-fill-color: #666;\n",
              "  }\n",
              "\n",
              "  .colab-df-quickchart {\n",
              "    background-color: var(--bg-color);\n",
              "    border: none;\n",
              "    border-radius: 50%;\n",
              "    cursor: pointer;\n",
              "    display: none;\n",
              "    fill: var(--fill-color);\n",
              "    height: 32px;\n",
              "    padding: 0;\n",
              "    width: 32px;\n",
              "  }\n",
              "\n",
              "  .colab-df-quickchart:hover {\n",
              "    background-color: var(--hover-bg-color);\n",
              "    box-shadow: 0 1px 2px rgba(60, 64, 67, 0.3), 0 1px 3px 1px rgba(60, 64, 67, 0.15);\n",
              "    fill: var(--button-hover-fill-color);\n",
              "  }\n",
              "\n",
              "  .colab-df-quickchart-complete:disabled,\n",
              "  .colab-df-quickchart-complete:disabled:hover {\n",
              "    background-color: var(--disabled-bg-color);\n",
              "    fill: var(--disabled-fill-color);\n",
              "    box-shadow: none;\n",
              "  }\n",
              "\n",
              "  .colab-df-spinner {\n",
              "    border: 2px solid var(--fill-color);\n",
              "    border-color: transparent;\n",
              "    border-bottom-color: var(--fill-color);\n",
              "    animation:\n",
              "      spin 1s steps(1) infinite;\n",
              "  }\n",
              "\n",
              "  @keyframes spin {\n",
              "    0% {\n",
              "      border-color: transparent;\n",
              "      border-bottom-color: var(--fill-color);\n",
              "      border-left-color: var(--fill-color);\n",
              "    }\n",
              "    20% {\n",
              "      border-color: transparent;\n",
              "      border-left-color: var(--fill-color);\n",
              "      border-top-color: var(--fill-color);\n",
              "    }\n",
              "    30% {\n",
              "      border-color: transparent;\n",
              "      border-left-color: var(--fill-color);\n",
              "      border-top-color: var(--fill-color);\n",
              "      border-right-color: var(--fill-color);\n",
              "    }\n",
              "    40% {\n",
              "      border-color: transparent;\n",
              "      border-right-color: var(--fill-color);\n",
              "      border-top-color: var(--fill-color);\n",
              "    }\n",
              "    60% {\n",
              "      border-color: transparent;\n",
              "      border-right-color: var(--fill-color);\n",
              "    }\n",
              "    80% {\n",
              "      border-color: transparent;\n",
              "      border-right-color: var(--fill-color);\n",
              "      border-bottom-color: var(--fill-color);\n",
              "    }\n",
              "    90% {\n",
              "      border-color: transparent;\n",
              "      border-bottom-color: var(--fill-color);\n",
              "    }\n",
              "  }\n",
              "</style>\n",
              "\n",
              "  <script>\n",
              "    async function quickchart(key) {\n",
              "      const quickchartButtonEl =\n",
              "        document.querySelector('#' + key + ' button');\n",
              "      quickchartButtonEl.disabled = true;  // To prevent multiple clicks.\n",
              "      quickchartButtonEl.classList.add('colab-df-spinner');\n",
              "      try {\n",
              "        const charts = await google.colab.kernel.invokeFunction(\n",
              "            'suggestCharts', [key], {});\n",
              "      } catch (error) {\n",
              "        console.error('Error during call to suggestCharts:', error);\n",
              "      }\n",
              "      quickchartButtonEl.classList.remove('colab-df-spinner');\n",
              "      quickchartButtonEl.classList.add('colab-df-quickchart-complete');\n",
              "    }\n",
              "    (() => {\n",
              "      let quickchartButtonEl =\n",
              "        document.querySelector('#df-36795e19-a122-4b61-8af2-a87f69880719 button');\n",
              "      quickchartButtonEl.style.display =\n",
              "        google.colab.kernel.accessAllowed ? 'block' : 'none';\n",
              "    })();\n",
              "  </script>\n",
              "</div>\n",
              "\n",
              "    </div>\n",
              "  </div>\n"
            ],
            "application/vnd.google.colaboratory.intrinsic+json": {
              "type": "dataframe",
              "variable_name": "df16",
              "summary": "{\n  \"name\": \"df16\",\n  \"rows\": 77174,\n  \"fields\": [\n    {\n      \"column\": \"title\",\n      \"properties\": {\n        \"dtype\": \"string\",\n        \"num_unique_values\": 75559,\n        \"samples\": [\n          \"BOOM LEADERS Of 34000 Black Churches Tell Members To Turn Backs On RaceBaiterForHire Al Sharptons DC March Against Trump\",\n          \"Zika sex research begins despite US Congress funding impasse\",\n          \"Exclusive Majority of Americans want Congress to move on from healthcare reform  ReutersIpsos poll\"\n        ],\n        \"semantic_type\": \"\",\n        \"description\": \"\"\n      }\n    },\n    {\n      \"column\": \"text\",\n      \"properties\": {\n        \"dtype\": \"string\",\n        \"num_unique_values\": 77173,\n        \"samples\": [\n          \"Its not that Americans wont elect wealthy presidents but political experts say a candidate needs to use empathetic language and offer policies that show relatability to voters Sen Marco Rubio tried to do this Monday\\n\\nFlorida Sen Marco Rubio officially announced his intention to run for president of the United States at an event in Miamis Freedom Tower Monday evening\\n\\nCall him the unMitt In announcing his presidential candidacy on Monday Sen Marco Rubio R of Florida highlighted his everyman credentials the son of Cuban immigrants  his father was a bartender and his mother a maid  who was able to achieve an American dream that he wants to make sure is operative for future generations\\n\\nOn Monday there were no Mitt Romney insensitivities about a wifes couple of Cadillacs or about immigrants deporting themselves As Senator Rubio commented after Mr Romneys defeat in 2012 Its hard to make an economic argument to people who think you want to deport their grandmother\\n\\nWhat Rubio was getting at back then was the Republican nominees apparent lack of empathy for voters Pollsters measure that with questions such as Does the candidate understand or care about people like you\\n\\nIn 2012 Romney failed the empathy test big time losing the care about question 81 to 18 percent against President Obama in national exit polling  even though he led in every other category that voters said mattered most in making their decision leadership vision and values\\n\\nThe empathy question is very very important and probably in the end is the ultimate criteria says Democratic pollster Celinda Lake\\n\\nThe question is particularly important right now because voters think politicians are out of touch with their lives They think this economy is not working for average people says Ms Lake known for the Battleground poll she does with GOP pollster Ed Goeas\\n\\nIts not that Americans wont elect wealthy presidents  think FDR JFK and the Bushes One does not need to come from humble roots to be president says Margie Omero a Democratic strategist with the bipartisan polling firm Purple Strategies But she says a candidate needs to strike the right tone use empathetic language and offer policies that show relatability to voters\\n\\nClearly one of Marco Rubios strengths is his ability to put himself in the shoes of voters or at least use the language thats familiar to voters Ms Omero says He has a skill at using that everyman everyperson tone Ultimately people want to see policies as well\\n\\nOn Monday evening Rubio\\u00a0poured on the empathy and optimism even as he warned about a diminished America and endangered opportunity for all He touched only briefly on policy points  citing a need for tax and immigration reform the repeal of the Affordable Care Act and a robust foreign policy that does not cave on Iran or ignore human rights abuses in places like Cuba\\n\\nThe youngest candidate to enter the race jabbed his older opponents saying the country needs leadership that breaks free from ideas stuck in the 20th century an indirect dig at Hillary Rodham Clinton and Republican Jeb Bush\\n\\nBut Rubios main focus before supporters at Miamis Freedom Tower which is a former US point of entry for Cuban refugees was his familys story of opportunity in America and its universal message\\n\\nAfter telling of his dads long nights behind a bar and of his fathers words to him  quoted in Spanish  that the son could achieve all the things the parents never could Rubio went on to speak of the dreams of other Americans  of single moms students landscape workers and yes bartenders\\n\\nIf their American dreams become impossible we will have just become another country But if they succeed this 21st century will also be an American century he said describing that as the message of his campaign\\n\\nDemocrats typically have an advantage on the empathy question say strategists from both parties But demographic changes in the electorate make it a necessity that Republicans improve that performance\\n\\nThe GOP white voter base is shrinking  a point driven home during presidential election years when more minorities come out to vote Romney won only 27 percent of the Hispanic vote in 2012 The 2016 GOP nominee will have to perform in the mid40s with Latinos says GOP pollster  and Rubio adviser  Whit Ayres\\n\\nIts important for Republicans to do better on cares about people like me because youre going to have an electorate thats going to be around 31 percent nonwhite said Mr Ayres at a Monitor breakfast last month\\n\\nOf course the electorate is big and diverse and people like me can be well everyone women Evangelicals AfricanAmericans young people seniors business owners the middle class\\n\\nIts certainly a lot to ask of any one candidate to be able to understand everybody strategist Omero says People dont expect presidential candidates to agree with them on every single issue but that that person has an open mind and that they love the voter  they want to hear about the voters problems\\n\\nAt this early stage in the campaign candidates  and those preparing to jump in  have room to grow in their messaging and identification with voters Omero says noting that none of the candidates are really popular right now\\n\\nSen Ted Cruz R of Texas in reaching out to conservative Evangelicals likes to share his faith and tell the story of how his boyhood family was preserved by his fathers turning to Jesus Christ His father  who fled Cuba when he was 18 years old  eventually became a Baptist preacher\\n\\nSen Rand Paul R of Kentucky who has a strong libertarian streak is reaching out to Millennials and minorities through casualness in his dress and manner some unorthodox policy positions and a message that bashes both Democrats and Republicans\\n\\nWisconsins Republican Gov Scott Walker who has not yet formally announced his candidacy talks of his concerns as a parent and as someone who grew up in a kind of poor household supported by his preacher father and a mother who was a parttime secretary He flipped burgers to help pay for college  which he never finished\\n\\nTheyre positioning themselves against Jeb Bush pollster Lake says\\n\\nMeanwhile Mrs Clinton too needs to connect with voters in an empathetic way  not so much on policy but in her manner and personal story\\n\\nHer comment last year that she and Bill were dead broke when they left the White House was a turnoff to many In the video announcing her campaign Sunday she vowed to serve as a champion of everyday Americans\\n\\nI think people feel that she is fighting for them  that she has the policies in place and experience and dedication of service to fight for the middle class says Omero But she like the Republican field is going to need to continue to connect to individual voters\",\n          \"President donald trump on tuesday declared that republicans should let obamacare fail saying the collapse would force democrats to work with the gop as it regroups after support for the senates healthcare bill fell apart monday night for seven years ive been hearing repeal and replace from congress Ive been hearing it loud and strong and when we finally get a chance to repeal and replace they dont take advantage of it So thats disappointing trump told reporters tuesday afternoon in the white house let obamacare fail he continued itll be a lot easier and i think were probably in that position where well just let obamacare fail Were not going to own it Im not going to own it I can tell you the republicans are not going to own it  republicans have said obamacare is in a death spiral and will collapse soon if left alone though experts say the situation is not so dire The presidents tuesday proposal to let obamacare collapse marked a shift from monday night when trump wrote on twitter that republicans should quickly fulfill a sevenyear promise to repeal his predecessors signature healthcare legislation even without a ready replacement Whether they repeal obamacare immediately or not trump has said democrats would be forced to come to the table to negotiate with republicans on a path forward for the nations healthcare system as i have always said let obamacare fail and then come together and do a great healthcare plan Stay tuned trump tweeted on tuesday morning after having written monday night that republicans should just repeal failing obamacare now  work on a new healthcare plan that will start from a clean slate Dems will join in the president has been applying pressure to republicans to move quickly on getting rid of obamacare so that he can move on to other priorities such as a tax reform package and an infrastructure plan But senate majority leader mitch mcconnell has struggled to find a health care bill that will satisfy enough conservatives and moderates to secure the 50 votes needed for passage In his remarks to reporters on tuesday trump expressed frustration that no democrats had joined the gop repealandreplace effort telling the press that the republican bill should have had some support from the minority party The president also suggested that republicans must work to grow their majority in the 2018 midterms and that even in falling short the gop had put forth an impressive effort at making good on their promise to undo obamacare we had no democrat support We had 52 people we had 4 nos trump said recalling the senate whip count that emerged monday night now we might have had another one somewhere in there but essentially the vote would have been pretty close to if you look at it 48 to 4 Thats a pretty impressive vote by any standard and yet you have a vote of 48 to 4 or something like that and you need more thats pretty tough  on monday night as trump was hosting a handful of republican senators at the white house news emerged that sens Mike lee of utah and jerry moran of kansas were no votes joining maine sen Susan collins and kentucky sen Rand paul in opposition and sinking the current bills chances Of the four republican lawmakers who sank the senates repealandreplace proposal trump said they were not disloyal and that they had their own reasons for opposing the healthcare measure He said he had been surprised by the defections of lee and moran because we thought they were in fairly good shape  in the wake of the monday night announcements from lee and moran mcconnell said that the senate will vote on a socalled clean repeal that undoes obamacare without immediately putting into place legislation to replace it On tuesday morning trump spread the blame while still complimenting many members of his party we were let down by all of the democrats and a few republicans Most republicans were loyal terrific  worked really hard We will return he tweeted Trump also expressed his frustration with the legislative process with only a very small majority the republicans in the house  senate need more victories next year since dems totally obstruct no votes he tweeted adding the senate must go to a 51 vote majority instead of current 60 votes Even parts of full repeal need 60 8 dems control senate Crazy as the realities of how difficult a simultaneous repealandreplace could be for republicans trump has at times vacillated between the two backup strategies sometimes pushing for a clean repeal and at other times suggesting that obamacare would collapse on its own leaving a vacuum for lawmakers to fill The president has previously suggested that the latter option could force democrats to the negotiating table creating a window for a bipartisan solution But democrats have been largely unified in their opposition to any healthcare reform package that repeals obamacare insisting instead that the current law be amended and changed instead of thrown out entirely The prospect of a repeal now replace later approach began to surface in recent weeks as prospects for a compromise in the senate grew increasingly dim Republicans in both the house and senate easily passed a clean repeal bill in 2015 that was vetoed by thenpresident barack obama and a return to a similar bill has been suggested as a way for the gop to make good on its longheld campaign promise to do away with obamacare Such an approach has been advocated by sen Rand paul  said he remained optimistic that he and his gop colleagues would be able to move forward in one way or another on healthcare legislation although he predicted that the senate would wind up with a skinnied down version of what we couldnt vote on this time  the next legislation the oklahoma senator forecasted will do away with whatever republicans can compromise on while a larger strategy is formulated im still optimistic that we can and because we must This is kind of a no fail moment that you have to be able to resolve all these issues he said\",\n          \"Donald Trump was in Rhode Island yesterday for a rally and his arrival sent grown men and women into a frenzy The supporters started chasing his bus to get an up close and personal view When have you ever seen grown men and women running towards a politician This is unreal \"\n        ],\n        \"semantic_type\": \"\",\n        \"description\": \"\"\n      }\n    },\n    {\n      \"column\": \"label\",\n      \"properties\": {\n        \"dtype\": \"number\",\n        \"std\": 0,\n        \"min\": 0,\n        \"max\": 1,\n        \"num_unique_values\": 2,\n        \"samples\": [\n          1,\n          0\n        ],\n        \"semantic_type\": \"\",\n        \"description\": \"\"\n      }\n    },\n    {\n      \"column\": \"text_length\",\n      \"properties\": {\n        \"dtype\": \"number\",\n        \"std\": 3873,\n        \"min\": 1,\n        \"max\": 138053,\n        \"num_unique_values\": 11864,\n        \"samples\": [\n          16182,\n          11290\n        ],\n        \"semantic_type\": \"\",\n        \"description\": \"\"\n      }\n    },\n    {\n      \"column\": \"subject_\",\n      \"properties\": {\n        \"dtype\": \"category\",\n        \"num_unique_values\": 3,\n        \"samples\": [\n          \"General News\",\n          \"Unknown\"\n        ],\n        \"semantic_type\": \"\",\n        \"description\": \"\"\n      }\n    },\n    {\n      \"column\": \"subject_encoded\",\n      \"properties\": {\n        \"dtype\": \"int8\",\n        \"num_unique_values\": 3,\n        \"samples\": [\n          0,\n          2\n        ],\n        \"semantic_type\": \"\",\n        \"description\": \"\"\n      }\n    },\n    {\n      \"column\": \"clean_text\",\n      \"properties\": {\n        \"dtype\": \"string\",\n        \"num_unique_values\": 76867,\n        \"samples\": [\n          \"burning fall leaf extremely toxic body planet nov time autumn northern hemisphere leaf begun fall color begun change common practice raking leaf burning pile information spreading practice actually harmful people planet burning leaf harmful health person according wisconsin department natural resource burning leaf creates large amount dust soot airborne particulate result often slow process burning leaf take toxic particle ability reach deep lung cause longterm respiratory issue well short term issue like coughing wheezing accentuation asthma issue specifically burning leaf creates smoke contains carbon monoxide deadly bind hemoglobin bloodstream drastically reduces amount oxygen circulating body bit well look supplement person take exposed leaf smoke smoke leaf also contains benzo pyrene known carcinogen bind mutates dna thought major factor cancer cigarette smoke additionally according u environmental protection agency concentration pollutant coming leaf smoke higher form air pollution combined including factory vehicle garden lawn equipment instead burning leaf one consider composting looking whether town city offer pickup service leaf ensure though leaf burned larger collection site consider composting fall leaf composting leaf creates wonderful aftereffect helping create nutrient rich soil used potting plant growing garden ensuring leaf shredded help speed decomposition process well including source nitrogen could freshly cut green grass animal manure product local home garden store help catalyze process one product would beneficial microbe supplement exposed leaf smoke first obviously thing person get far away possible smoke second would get place air clean begin deep breath replenish body oxygen person exposed lengthy period time smoke eating plenty green vegetable salad green great way detoxify body harmful pollutant also give body plenty chlorophyll help carry oxygen throughout bloodstream cell supplement one consider include chlorella spirulina algae contains almost known nutrient needed human body well rich supply chlorophyll person also look fulvic acid potent antioxidant known excellent removing toxin metabolic waste body someone neighborhood could benefit information someone family let u create healthier body cleaner atmosphere lance schuttler graduated university iowa degree health science practice health coaching website orgonlight health follow orgonlight health facebook page visit website information receive health coaching family member friend well view inspiring article\",\n          \"usually carry one skinny friend bathroom vomit even feel buzzed able drive perfectly shotgunning four keystone drink entire bottle jagermeister want fight someone friend unable lift keg stand game beer pong leave breath drunk answered yes question talk doctor weightloss program\"\n        ],\n        \"semantic_type\": \"\",\n        \"description\": \"\"\n      }\n    },\n    {\n      \"column\": \"clean_title\",\n      \"properties\": {\n        \"dtype\": \"string\",\n        \"num_unique_values\": 74980,\n        \"samples\": [\n          \"global warming worsened california drought scientist say\",\n          \"five migrant die boat sink libyan coast guard german ngo blame\"\n        ],\n        \"semantic_type\": \"\",\n        \"description\": \"\"\n      }\n    },\n    {\n      \"column\": \"named_entities\",\n      \"properties\": {\n        \"dtype\": \"object\",\n        \"semantic_type\": \"\",\n        \"description\": \"\"\n      }\n    }\n  ]\n}"
            }
          },
          "metadata": {},
          "execution_count": 68
        }
      ]
    },
    {
      "cell_type": "code",
      "source": [
        "df16.to_csv(\"/content/drive/MyDrive/Truth_Seeker/nlp_df.csv\")"
      ],
      "metadata": {
        "id": "W0MXhPZa6jHN"
      },
      "execution_count": 78,
      "outputs": []
    },
    {
      "cell_type": "code",
      "source": [
        "df16 = pd.read_csv(\"/content/drive/MyDrive/Truth_Seeker/nlp_df.csv\")"
      ],
      "metadata": {
        "id": "MRDijQjyBYie"
      },
      "execution_count": 88,
      "outputs": []
    },
    {
      "cell_type": "code",
      "source": [
        "df16.info()"
      ],
      "metadata": {
        "colab": {
          "base_uri": "https://localhost:8080/"
        },
        "id": "yL2uuElLBYUl",
        "outputId": "b1f1b944-cc9b-4483-8301-d5075e58d695"
      },
      "execution_count": 11,
      "outputs": [
        {
          "output_type": "stream",
          "name": "stdout",
          "text": [
            "<class 'pandas.core.frame.DataFrame'>\n",
            "RangeIndex: 76464 entries, 0 to 76463\n",
            "Columns: 5012 entries, Unnamed: 0.1 to zone\n",
            "dtypes: float64(5001), int64(5), object(6)\n",
            "memory usage: 2.9+ GB\n"
          ]
        }
      ]
    },
    {
      "cell_type": "code",
      "execution_count": null,
      "metadata": {
        "colab": {
          "base_uri": "https://localhost:8080/"
        },
        "id": "POBv11jNsrjS",
        "outputId": "667231ce-66fd-4e40-a1bd-ac1b9e9aa931"
      },
      "outputs": [
        {
          "output_type": "stream",
          "name": "stdout",
          "text": [
            "language\n",
            "en         76400\n",
            "ru           203\n",
            "es           176\n",
            "de           134\n",
            "unknown       61\n",
            "fr            47\n",
            "ar            22\n",
            "pt            16\n",
            "it            13\n",
            "tr            11\n",
            "sw             9\n",
            "nl             8\n",
            "so             8\n",
            "no             6\n",
            "ro             6\n",
            "cy             6\n",
            "ca             5\n",
            "hr             5\n",
            "pl             5\n",
            "sv             4\n",
            "tl             4\n",
            "vi             4\n",
            "el             4\n",
            "et             3\n",
            "sl             3\n",
            "id             3\n",
            "fi             3\n",
            "da             2\n",
            "hu             1\n",
            "zh-cn          1\n",
            "sk             1\n",
            "cs             1\n",
            "af             1\n",
            "lt             1\n",
            "Name: count, dtype: int64\n"
          ]
        }
      ],
      "source": [
        "import langdetect\n",
        "def detect_language(text):\n",
        "    try:\n",
        "        return langdetect.detect(text)\n",
        "    except:\n",
        "        return 'unknown'\n",
        "\n",
        "df16['language'] = df16['text'].apply(detect_language)\n",
        "print(df16['language'].value_counts())"
      ]
    },
    {
      "cell_type": "code",
      "source": [
        "pip install langdetect"
      ],
      "metadata": {
        "colab": {
          "base_uri": "https://localhost:8080/"
        },
        "id": "j0vqdEpHEz3w",
        "outputId": "ab16cb82-5cc2-42ec-91dd-1ef6c3603f19"
      },
      "execution_count": 86,
      "outputs": [
        {
          "output_type": "stream",
          "name": "stdout",
          "text": [
            "Collecting langdetect\n",
            "  Downloading langdetect-1.0.9.tar.gz (981 kB)\n",
            "\u001b[?25l     \u001b[90m━━━━━━━━━━━━━━━━━━━━━━━━━━━━━━━━━━━━━━━━\u001b[0m \u001b[32m0.0/981.5 kB\u001b[0m \u001b[31m?\u001b[0m eta \u001b[36m-:--:--\u001b[0m\r\u001b[2K     \u001b[91m━━━━━━━━━━━━━━━━━━━━━━━━━━━━━━━━━━━━━━━\u001b[0m\u001b[91m╸\u001b[0m \u001b[32m972.8/981.5 kB\u001b[0m \u001b[31m30.9 MB/s\u001b[0m eta \u001b[36m0:00:01\u001b[0m\r\u001b[2K     \u001b[90m━━━━━━━━━━━━━━━━━━━━━━━━━━━━━━━━━━━━━━━━\u001b[0m \u001b[32m981.5/981.5 kB\u001b[0m \u001b[31m20.7 MB/s\u001b[0m eta \u001b[36m0:00:00\u001b[0m\n",
            "\u001b[?25h  Preparing metadata (setup.py) ... \u001b[?25l\u001b[?25hdone\n",
            "Requirement already satisfied: six in /usr/local/lib/python3.10/dist-packages (from langdetect) (1.16.0)\n",
            "Building wheels for collected packages: langdetect\n",
            "  Building wheel for langdetect (setup.py) ... \u001b[?25l\u001b[?25hdone\n",
            "  Created wheel for langdetect: filename=langdetect-1.0.9-py3-none-any.whl size=993222 sha256=60e07279925b9a23a67400e8aa527f713762e8cb98bae2f9a8ede87c86fa6bca\n",
            "  Stored in directory: /root/.cache/pip/wheels/95/03/7d/59ea870c70ce4e5a370638b5462a7711ab78fba2f655d05106\n",
            "Successfully built langdetect\n",
            "Installing collected packages: langdetect\n",
            "Successfully installed langdetect-1.0.9\n"
          ]
        }
      ]
    },
    {
      "cell_type": "code",
      "source": [
        "from langdetect import detect\n",
        "target_language = 'en'\n",
        "\n",
        "def filter_by_language(text, target_language):\n",
        "    try:\n",
        "        return detect(text) == target_language\n",
        "    except:\n",
        "        return False\n",
        "\n",
        "df16 = df16[df16['text'].apply(lambda x: filter_by_language(x, target_language))]"
      ],
      "metadata": {
        "id": "N8QY_mR91qd1"
      },
      "execution_count": 90,
      "outputs": []
    },
    {
      "cell_type": "code",
      "source": [
        "df16.info()"
      ],
      "metadata": {
        "colab": {
          "base_uri": "https://localhost:8080/"
        },
        "id": "v36D60YC9Oto",
        "outputId": "13d0200c-3a41-4808-9a95-f8ef0ee5be1a"
      },
      "execution_count": 91,
      "outputs": [
        {
          "output_type": "stream",
          "name": "stdout",
          "text": [
            "<class 'pandas.core.frame.DataFrame'>\n",
            "Index: 76464 entries, 0 to 77173\n",
            "Data columns (total 10 columns):\n",
            " #   Column           Non-Null Count  Dtype \n",
            "---  ------           --------------  ----- \n",
            " 0   Unnamed: 0       76464 non-null  int64 \n",
            " 1   title            76464 non-null  object\n",
            " 2   text             76464 non-null  object\n",
            " 3   label            76464 non-null  int64 \n",
            " 4   text_length      76464 non-null  int64 \n",
            " 5   subject_         76464 non-null  object\n",
            " 6   subject_encoded  76464 non-null  int64 \n",
            " 7   clean_text       76462 non-null  object\n",
            " 8   clean_title      76458 non-null  object\n",
            " 9   named_entities   76464 non-null  object\n",
            "dtypes: int64(4), object(6)\n",
            "memory usage: 6.4+ MB\n"
          ]
        }
      ]
    },
    {
      "cell_type": "code",
      "source": [
        "df16['clean_text'].fillna('', inplace=True)"
      ],
      "metadata": {
        "id": "gAkol_xfRPkT"
      },
      "execution_count": 4,
      "outputs": []
    },
    {
      "cell_type": "code",
      "source": [
        "from wordcloud import WordCloud\n",
        "import matplotlib.pyplot as plt\n",
        "\n",
        "all_text = ' '.join(df16['clean_text'])\n",
        "wordcloud = WordCloud(width=800, height=400, background_color='white').generate(all_text)\n",
        "plt.figure(figsize=(10, 5))\n",
        "plt.imshow(wordcloud, interpolation='bilinear')\n",
        "plt.axis('off')\n",
        "plt.show()"
      ],
      "metadata": {
        "id": "BqiDaGlEPWis"
      },
      "execution_count": null,
      "outputs": []
    },
    {
      "cell_type": "code",
      "source": [
        "#sentiment analysis\n",
        "from textblob import TextBlob\n",
        "\n",
        "def get_sentiment(text):\n",
        "    blob = TextBlob(text)\n",
        "    return blob.sentiment.polarity\n",
        "\n",
        "df16['sentiment'] = df16['clean_text'].apply(get_sentiment)"
      ],
      "metadata": {
        "id": "l5rH6kR3PF1O"
      },
      "execution_count": 5,
      "outputs": []
    },
    {
      "cell_type": "code",
      "source": [
        "#POS tagging\n",
        "import nltk\n",
        "nltk.download('averaged_perceptron_tagger')\n",
        "\n",
        "def get_pos_tags(text):\n",
        "    return nltk.pos_tag(text.split())\n",
        "\n",
        "df16['pos_tags'] = df16['clean_text'].apply(get_pos_tags)"
      ],
      "metadata": {
        "id": "CpN84Q6fPS2T"
      },
      "execution_count": null,
      "outputs": []
    },
    {
      "cell_type": "code",
      "source": [
        "#Tfidf\n",
        "from sklearn.feature_extraction.text import TfidfVectorizer\n",
        "\n",
        "tfidf_vectorizer = TfidfVectorizer(max_features=5000, stop_words='english')\n",
        "X_tfidf = tfidf_vectorizer.fit_transform(df16['clean_text'])\n",
        "tfidf_df = pd.DataFrame(X_tfidf.toarray(), columns=tfidf_vectorizer.get_feature_names_out())\n",
        "df16 = pd.concat([df16, tfidf_df], axis=1)\n",
        "tfidf_df.to_csv(\"/content/drive/MyDrive/Truth_Seeker/nlp_df.csv\")\n",
        "print(tfidf_df.head())"
      ],
      "metadata": {
        "colab": {
          "base_uri": "https://localhost:8080/"
        },
        "id": "VDTUkIv3BPt2",
        "outputId": "bdc43a14-55a8-4d35-805f-f126199a3bf4"
      },
      "execution_count": 8,
      "outputs": [
        {
          "output_type": "stream",
          "name": "stdout",
          "text": [
            "      aaron  abandon  abandoned  abbott  abc  abe  abedin  ability     able  \\\n",
            "0  0.000000      0.0        0.0     0.0  0.0  0.0     0.0      0.0  0.00000   \n",
            "1  0.000000      0.0        0.0     0.0  0.0  0.0     0.0      0.0  0.00000   \n",
            "2  0.061215      0.0        0.0     0.0  0.0  0.0     0.0      0.0  0.00000   \n",
            "3  0.000000      0.0        0.0     0.0  0.0  0.0     0.0      0.0  0.00000   \n",
            "4  0.000000      0.0        0.0     0.0  0.0  0.0     0.0      0.0  0.04052   \n",
            "\n",
            "   abortion  ...  younger  youre  youth   youtube  youve  zealand      zero  \\\n",
            "0       0.0  ...      0.0    0.0    0.0  0.073874    0.0      0.0  0.071584   \n",
            "1       0.0  ...      0.0    0.0    0.0  0.000000    0.0      0.0  0.000000   \n",
            "2       0.0  ...      0.0    0.0    0.0  0.000000    0.0      0.0  0.000000   \n",
            "3       0.0  ...      0.0    0.0    0.0  0.000000    0.0      0.0  0.000000   \n",
            "4       0.0  ...      0.0    0.0    0.0  0.000000    0.0      0.0  0.000000   \n",
            "\n",
            "   zika  zimbabwe  zone  \n",
            "0   0.0       0.0   0.0  \n",
            "1   0.0       0.0   0.0  \n",
            "2   0.0       0.0   0.0  \n",
            "3   0.0       0.0   0.0  \n",
            "4   0.0       0.0   0.0  \n",
            "\n",
            "[5 rows x 5000 columns]\n"
          ]
        }
      ]
    }
  ],
  "metadata": {
    "colab": {
      "provenance": []
    },
    "kernelspec": {
      "display_name": "Python 3",
      "name": "python3"
    },
    "language_info": {
      "name": "python"
    }
  },
  "nbformat": 4,
  "nbformat_minor": 0
}