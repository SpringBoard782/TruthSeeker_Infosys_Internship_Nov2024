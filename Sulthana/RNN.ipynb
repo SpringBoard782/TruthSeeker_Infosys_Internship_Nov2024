{
  "cells": [
    {
      "cell_type": "markdown",
      "metadata": {
        "id": "bOBkMMrpNYH0"
      },
      "source": [
        "#Data Preprocessing"
      ]
    },
    {
      "cell_type": "code",
      "execution_count": null,
      "metadata": {
        "id": "lA93PuC2q0QP"
      },
      "outputs": [],
      "source": [
        "import pandas as pd"
      ]
    },
    {
      "cell_type": "code",
      "execution_count": null,
      "metadata": {
        "colab": {
          "base_uri": "https://localhost:8080/",
          "height": 444
        },
        "id": "kNmMBkMMyXAa",
        "outputId": "fb3f0b88-983a-4241-9d47-c6ee2835ef6a"
      },
      "outputs": [
        {
          "data": {
            "application/vnd.google.colaboratory.intrinsic+json": {
              "summary": "{\n  \"name\": \"df\",\n  \"rows\": 76461,\n  \"fields\": [\n    {\n      \"column\": \"title\",\n      \"properties\": {\n        \"dtype\": \"string\",\n        \"num_unique_values\": 74894,\n        \"samples\": [\n          \"India eyes airport in Sri Lanka near Chinese Belt and Road outpost\",\n          \"A peek behind the nrcc fundraising curtain\",\n          \" Trump HUMILIATED As WH Walks Back His Attack After Soldiers Mom Confirms His Insensitive Phone Call\"\n        ],\n        \"semantic_type\": \"\",\n        \"description\": \"\"\n      }\n    },\n    {\n      \"column\": \"text\",\n      \"properties\": {\n        \"dtype\": \"string\",\n        \"num_unique_values\": 76460,\n        \"samples\": [\n          \"If the way Donald Trump reportedly ran the MaraLago resort in Palm Beach is any indication if he wins he will be taking full advantage of every spy agency in his charge just for his own agendaAccording to six former employees at the resort Trump had a telephone console in his room that allowed him to tap into every single phone in the place He often listened in on staff calls but he could also listen in on guest calls although the GOP frontrunner s spokeswoman denies itAccording to Buzzfeed who spoke to six former employees four of whom spoke under the condition of anonymity because of nondisclosure agreements this is indeed true Those four said he listened in from the private room he keeps during the mid2000sThey said he listened in on calls between club employees or in some cases between staff and guests None of them knew of Trump eavesdropping on guests or members talking on private calls with people who were not employees of MaraLago They also said that Trump could eavesdrop only on calls made on the club s landlines and not on calls made from guests  cell phonesEach of these four sources said they personally saw the telephone console which some referred to as a switchboard in Trump s bedroomNone of the four supports Trump s bid for president All said they enjoyed their time working at MaraLagoThe two other employees did not wish to remain anonymous They are Trump s former butler the one who wants Obama killed and Trump s former security director both of whom support Trump s run for president said that the console was only to make phone callsTrump the presumptive Republican nominee is running at a time when Americans are increasingly concerned about surveillance   both by the government and by their employers Some of his own campaign staff feared that their offices in Trump Tower in New York might be bugged the New York Times reported last month Trump has backed the NSA s bulk collection of metadata telling conservative radio host Hugh Hewitt that  I tend to err on the side of security  Trump added  I assume when I pick up my telephone people are listening to my conversations anyway if you want to know the truth If Trump was listening in on guests  calls that was certainly a violation of Florida law The law is less clear on calls involving employees but since both parties in Florida need to be notified if the second party is not an employee that is legally murky at bestThis accusation is frightening I have always been of the opinion that Trump is running for the job of dictator hence his admiration of Putin and Kim Jong Un This does not bode well All I can say is I hope Hillary Clinton s offices are locked down tight or we ll have another Watergate on our handsFeatured image via John Moore at Getty Images\",\n          \"Cbc toronto  november 20 2020 this is not going to end These lockdowns are going to go on forever until these tyrants imposing these measures are held accountable for their crimes What they are doing is criminal I find it impossible to believe that these people cant look at the available data and understand that the coronavirus is no more deadly than the flu All of these socalled health ministers and officials who have been pushing these lockdowns and other freedomdestroying measures need to be arrested put on trial and executed They are guilty of massive crimes against the people of the world\",\n          \"WASHINGTON Reuters  US President Donald Trump said on Friday he wants to see action to fix the flaws he sees in the Iran nuclear deal in a short period of time adding that he could end the deal instantaneously  We ll see what happens over the next short period of time and I can do that instantaneously  Trump told reporters when asked why he did not choose to scrap the deal now  I like a twostep process much better  said Trump who was speaking shortly after he announced he would not certify the 2015 deal aimed at preventing Iran from developing a nuclear bomb in a major shift in US policy \"\n        ],\n        \"semantic_type\": \"\",\n        \"description\": \"\"\n      }\n    },\n    {\n      \"column\": \"label\",\n      \"properties\": {\n        \"dtype\": \"number\",\n        \"std\": 0,\n        \"min\": 0,\n        \"max\": 1,\n        \"num_unique_values\": 2,\n        \"samples\": [\n          1,\n          0\n        ],\n        \"semantic_type\": \"\",\n        \"description\": \"\"\n      }\n    },\n    {\n      \"column\": \"subject\",\n      \"properties\": {\n        \"dtype\": \"category\",\n        \"num_unique_values\": 8,\n        \"samples\": [\n          \"Unknown\",\n          \"left-news\"\n        ],\n        \"semantic_type\": \"\",\n        \"description\": \"\"\n      }\n    },\n    {\n      \"column\": \"text_length\",\n      \"properties\": {\n        \"dtype\": \"number\",\n        \"std\": 3843,\n        \"min\": 2,\n        \"max\": 130309,\n        \"num_unique_values\": 11842,\n        \"samples\": [\n          4603,\n          2804\n        ],\n        \"semantic_type\": \"\",\n        \"description\": \"\"\n      }\n    },\n    {\n      \"column\": \"lemmatized_text\",\n      \"properties\": {\n        \"dtype\": \"string\",\n        \"num_unique_values\": 76246,\n        \"samples\": [\n          \"diplomatic recognition muchneeded infrastructure economic assistance said brahma chellaney professor strategic study centre policy research new delhi opportunistic china certain exploit new opening make strategic inroad mineralrich afghanistan deepen penetration pakistan iran central asia said bitter memory much cheering pakistan india discomfiture turn event said raza ahmad rumi political commentator teach ithaca college new york two country fought three war since became independent nation subcontinent divided jubilation pakistan witnessed social medium tv screen largely linked undoing indian influence conventional policy circle viewed ghanis close link india threat rumi said india bitter memory previous taliban stint power group link pakistan indian airline plane hijacked ultimately landed kandahar southern afghanistan new delhi freed three senior pakistani militant jail exchange return passenger taliban allowed hijacker released prisoner go pakistan position today one adjusting reality play long game afghanistan dont contiguous border stake said jayant prasad former indian ambassador kabul past year taliban emerged dominant force u brokered negotiation began doha indian diplomat opened line group diplomatic source new delhi said talking stakeholder one said want get specific discussion criticism home india put egg basket ghani government united state begun talk taliban new delhi left late rerun still india major economic player attractive taliban looking avoid overdependence china source said india development project every one afghanistan province small big including parliament building kabul built overrun guntoting taliban men sweeping city last week myra macdonald author three book south asia former reuters journalist said taliban takeover setback india game new delhi rerun past everyone going much careful time letting islamist terrorism afghanistan explode pre day plus relative term india much economically stronger pakistan time around senior member taliban told reuters impoverished afghanistan need help country region including iran well united state russia expect help u support people especially health sector especially business sector mining sector said waheedullah hashimi access group decisionmaking job convince accept u\",\n          \"philadelphia cnn grill democratic convention unofficial clubhouse striving medium type see seen nobody expecting see megyn kelly midnight cameo wednesday m kelly star fox news anchor center harassment scandal roiling network caught even jaded journalist nobody spotted m kelly outside secure fox compound week made clear open changing network contract run next year conspicuous sight m kelly hobnobbing cnn honcho like anderson cooper jeff zucker network president seemed calculated set certain class tongue wagging twitter m kelly accompanied burly bodyguard laughed donlemon dared u fox newsers swing cnn grill wrote posting selfie mr lemon cnn anchor thx way appearance m kelly joined fellow fox host dana perino signaled much changed fox since chairman roger ailes deposed fox personality rarely fraternized rival network greta van susteren spotted grill week perhaps new era hand know mr zucker chatting m kelly passed group reporter pretending notice get rumor started mr zucker said laughing walked\"\n        ],\n        \"semantic_type\": \"\",\n        \"description\": \"\"\n      }\n    }\n  ]\n}",
              "type": "dataframe",
              "variable_name": "df"
            },
            "text/html": [
              "\n",
              "  <div id=\"df-519599ae-6082-4a64-aa7c-bb5a80be9aa5\" class=\"colab-df-container\">\n",
              "    <div>\n",
              "<style scoped>\n",
              "    .dataframe tbody tr th:only-of-type {\n",
              "        vertical-align: middle;\n",
              "    }\n",
              "\n",
              "    .dataframe tbody tr th {\n",
              "        vertical-align: top;\n",
              "    }\n",
              "\n",
              "    .dataframe thead th {\n",
              "        text-align: right;\n",
              "    }\n",
              "</style>\n",
              "<table border=\"1\" class=\"dataframe\">\n",
              "  <thead>\n",
              "    <tr style=\"text-align: right;\">\n",
              "      <th></th>\n",
              "      <th>title</th>\n",
              "      <th>text</th>\n",
              "      <th>label</th>\n",
              "      <th>subject</th>\n",
              "      <th>text_length</th>\n",
              "      <th>lemmatized_text</th>\n",
              "    </tr>\n",
              "  </thead>\n",
              "  <tbody>\n",
              "    <tr>\n",
              "      <th>0</th>\n",
              "      <td>\\r\\r\\r\\r\\r\\r\\r\\nDonald Trump Gets His A Handed...</td>\n",
              "      <td>A 10yearold girl smacked down Donald Trump and...</td>\n",
              "      <td>0</td>\n",
              "      <td>News</td>\n",
              "      <td>2566</td>\n",
              "      <td>yearold girl smacked donald trump amazingon sa...</td>\n",
              "    </tr>\n",
              "    <tr>\n",
              "      <th>1</th>\n",
              "      <td>\\r\\r\\r\\r\\r\\r\\r\\nExGOP Congressman Shreds Fello...</td>\n",
              "      <td>At this point every Republican who refuses to ...</td>\n",
              "      <td>0</td>\n",
              "      <td>News</td>\n",
              "      <td>1925</td>\n",
              "      <td>point every republican refuse spine stand dona...</td>\n",
              "    </tr>\n",
              "    <tr>\n",
              "      <th>2</th>\n",
              "      <td>\\r\\r\\r\\r\\r\\r\\r\\nTrump Gets STOMPED For Whining...</td>\n",
              "      <td>Donald Trump has been attacking President Obam...</td>\n",
              "      <td>0</td>\n",
              "      <td>News</td>\n",
              "      <td>3389</td>\n",
              "      <td>donald trump attacking president obama campaig...</td>\n",
              "    </tr>\n",
              "    <tr>\n",
              "      <th>3</th>\n",
              "      <td>\\r\\r\\r\\r\\r\\r\\r\\nWATCH Democratic Rep Delivers ...</td>\n",
              "      <td>Massachusetts Rep Jim McGovern brought the Hou...</td>\n",
              "      <td>0</td>\n",
              "      <td>News</td>\n",
              "      <td>3358</td>\n",
              "      <td>massachusetts rep jim mcgovern brought house s...</td>\n",
              "    </tr>\n",
              "    <tr>\n",
              "      <th>4</th>\n",
              "      <td>AfterTrumpImplodes Hashtag Hilariously Imagin...</td>\n",
              "      <td>What will the world be like postDonald Trump A...</td>\n",
              "      <td>0</td>\n",
              "      <td>News</td>\n",
              "      <td>3092</td>\n",
              "      <td>world like postdonald trump new hashtag aftert...</td>\n",
              "    </tr>\n",
              "    <tr>\n",
              "      <th>...</th>\n",
              "      <td>...</td>\n",
              "      <td>...</td>\n",
              "      <td>...</td>\n",
              "      <td>...</td>\n",
              "      <td>...</td>\n",
              "      <td>...</td>\n",
              "    </tr>\n",
              "    <tr>\n",
              "      <th>76456</th>\n",
              "      <td>Unknown</td>\n",
              "      <td>you shouldve been swallowed you inbred swine</td>\n",
              "      <td>0</td>\n",
              "      <td>Unknown</td>\n",
              "      <td>44</td>\n",
              "      <td>shouldve swallowed inbred swine</td>\n",
              "    </tr>\n",
              "    <tr>\n",
              "      <th>76457</th>\n",
              "      <td>Unknown</td>\n",
              "      <td>Do I know the risk involved in reporting on su...</td>\n",
              "      <td>0</td>\n",
              "      <td>Unknown</td>\n",
              "      <td>127</td>\n",
              "      <td>know risk involved reporting thing reporting t...</td>\n",
              "    </tr>\n",
              "    <tr>\n",
              "      <th>76458</th>\n",
              "      <td>Unknown</td>\n",
              "      <td>If conservative Christians are about Jesus Chr...</td>\n",
              "      <td>0</td>\n",
              "      <td>Unknown</td>\n",
              "      <td>2556</td>\n",
              "      <td>conservative christian jesus christ always see...</td>\n",
              "    </tr>\n",
              "    <tr>\n",
              "      <th>76459</th>\n",
              "      <td>Unknown</td>\n",
              "      <td>Jesus will save his soul not his body Ignorant...</td>\n",
              "      <td>0</td>\n",
              "      <td>Unknown</td>\n",
              "      <td>60</td>\n",
              "      <td>jesus save soul body ignorant piece shit</td>\n",
              "    </tr>\n",
              "    <tr>\n",
              "      <th>76460</th>\n",
              "      <td>Unknown</td>\n",
              "      <td>Leach Say no more</td>\n",
              "      <td>0</td>\n",
              "      <td>Unknown</td>\n",
              "      <td>17</td>\n",
              "      <td>leach say</td>\n",
              "    </tr>\n",
              "  </tbody>\n",
              "</table>\n",
              "<p>76461 rows × 6 columns</p>\n",
              "</div>\n",
              "    <div class=\"colab-df-buttons\">\n",
              "\n",
              "  <div class=\"colab-df-container\">\n",
              "    <button class=\"colab-df-convert\" onclick=\"convertToInteractive('df-519599ae-6082-4a64-aa7c-bb5a80be9aa5')\"\n",
              "            title=\"Convert this dataframe to an interactive table.\"\n",
              "            style=\"display:none;\">\n",
              "\n",
              "  <svg xmlns=\"http://www.w3.org/2000/svg\" height=\"24px\" viewBox=\"0 -960 960 960\">\n",
              "    <path d=\"M120-120v-720h720v720H120Zm60-500h600v-160H180v160Zm220 220h160v-160H400v160Zm0 220h160v-160H400v160ZM180-400h160v-160H180v160Zm440 0h160v-160H620v160ZM180-180h160v-160H180v160Zm440 0h160v-160H620v160Z\"/>\n",
              "  </svg>\n",
              "    </button>\n",
              "\n",
              "  <style>\n",
              "    .colab-df-container {\n",
              "      display:flex;\n",
              "      gap: 12px;\n",
              "    }\n",
              "\n",
              "    .colab-df-convert {\n",
              "      background-color: #E8F0FE;\n",
              "      border: none;\n",
              "      border-radius: 50%;\n",
              "      cursor: pointer;\n",
              "      display: none;\n",
              "      fill: #1967D2;\n",
              "      height: 32px;\n",
              "      padding: 0 0 0 0;\n",
              "      width: 32px;\n",
              "    }\n",
              "\n",
              "    .colab-df-convert:hover {\n",
              "      background-color: #E2EBFA;\n",
              "      box-shadow: 0px 1px 2px rgba(60, 64, 67, 0.3), 0px 1px 3px 1px rgba(60, 64, 67, 0.15);\n",
              "      fill: #174EA6;\n",
              "    }\n",
              "\n",
              "    .colab-df-buttons div {\n",
              "      margin-bottom: 4px;\n",
              "    }\n",
              "\n",
              "    [theme=dark] .colab-df-convert {\n",
              "      background-color: #3B4455;\n",
              "      fill: #D2E3FC;\n",
              "    }\n",
              "\n",
              "    [theme=dark] .colab-df-convert:hover {\n",
              "      background-color: #434B5C;\n",
              "      box-shadow: 0px 1px 3px 1px rgba(0, 0, 0, 0.15);\n",
              "      filter: drop-shadow(0px 1px 2px rgba(0, 0, 0, 0.3));\n",
              "      fill: #FFFFFF;\n",
              "    }\n",
              "  </style>\n",
              "\n",
              "    <script>\n",
              "      const buttonEl =\n",
              "        document.querySelector('#df-519599ae-6082-4a64-aa7c-bb5a80be9aa5 button.colab-df-convert');\n",
              "      buttonEl.style.display =\n",
              "        google.colab.kernel.accessAllowed ? 'block' : 'none';\n",
              "\n",
              "      async function convertToInteractive(key) {\n",
              "        const element = document.querySelector('#df-519599ae-6082-4a64-aa7c-bb5a80be9aa5');\n",
              "        const dataTable =\n",
              "          await google.colab.kernel.invokeFunction('convertToInteractive',\n",
              "                                                    [key], {});\n",
              "        if (!dataTable) return;\n",
              "\n",
              "        const docLinkHtml = 'Like what you see? Visit the ' +\n",
              "          '<a target=\"_blank\" href=https://colab.research.google.com/notebooks/data_table.ipynb>data table notebook</a>'\n",
              "          + ' to learn more about interactive tables.';\n",
              "        element.innerHTML = '';\n",
              "        dataTable['output_type'] = 'display_data';\n",
              "        await google.colab.output.renderOutput(dataTable, element);\n",
              "        const docLink = document.createElement('div');\n",
              "        docLink.innerHTML = docLinkHtml;\n",
              "        element.appendChild(docLink);\n",
              "      }\n",
              "    </script>\n",
              "  </div>\n",
              "\n",
              "\n",
              "<div id=\"df-b638c4db-3a15-4831-94b4-513746c0fabb\">\n",
              "  <button class=\"colab-df-quickchart\" onclick=\"quickchart('df-b638c4db-3a15-4831-94b4-513746c0fabb')\"\n",
              "            title=\"Suggest charts\"\n",
              "            style=\"display:none;\">\n",
              "\n",
              "<svg xmlns=\"http://www.w3.org/2000/svg\" height=\"24px\"viewBox=\"0 0 24 24\"\n",
              "     width=\"24px\">\n",
              "    <g>\n",
              "        <path d=\"M19 3H5c-1.1 0-2 .9-2 2v14c0 1.1.9 2 2 2h14c1.1 0 2-.9 2-2V5c0-1.1-.9-2-2-2zM9 17H7v-7h2v7zm4 0h-2V7h2v10zm4 0h-2v-4h2v4z\"/>\n",
              "    </g>\n",
              "</svg>\n",
              "  </button>\n",
              "\n",
              "<style>\n",
              "  .colab-df-quickchart {\n",
              "      --bg-color: #E8F0FE;\n",
              "      --fill-color: #1967D2;\n",
              "      --hover-bg-color: #E2EBFA;\n",
              "      --hover-fill-color: #174EA6;\n",
              "      --disabled-fill-color: #AAA;\n",
              "      --disabled-bg-color: #DDD;\n",
              "  }\n",
              "\n",
              "  [theme=dark] .colab-df-quickchart {\n",
              "      --bg-color: #3B4455;\n",
              "      --fill-color: #D2E3FC;\n",
              "      --hover-bg-color: #434B5C;\n",
              "      --hover-fill-color: #FFFFFF;\n",
              "      --disabled-bg-color: #3B4455;\n",
              "      --disabled-fill-color: #666;\n",
              "  }\n",
              "\n",
              "  .colab-df-quickchart {\n",
              "    background-color: var(--bg-color);\n",
              "    border: none;\n",
              "    border-radius: 50%;\n",
              "    cursor: pointer;\n",
              "    display: none;\n",
              "    fill: var(--fill-color);\n",
              "    height: 32px;\n",
              "    padding: 0;\n",
              "    width: 32px;\n",
              "  }\n",
              "\n",
              "  .colab-df-quickchart:hover {\n",
              "    background-color: var(--hover-bg-color);\n",
              "    box-shadow: 0 1px 2px rgba(60, 64, 67, 0.3), 0 1px 3px 1px rgba(60, 64, 67, 0.15);\n",
              "    fill: var(--button-hover-fill-color);\n",
              "  }\n",
              "\n",
              "  .colab-df-quickchart-complete:disabled,\n",
              "  .colab-df-quickchart-complete:disabled:hover {\n",
              "    background-color: var(--disabled-bg-color);\n",
              "    fill: var(--disabled-fill-color);\n",
              "    box-shadow: none;\n",
              "  }\n",
              "\n",
              "  .colab-df-spinner {\n",
              "    border: 2px solid var(--fill-color);\n",
              "    border-color: transparent;\n",
              "    border-bottom-color: var(--fill-color);\n",
              "    animation:\n",
              "      spin 1s steps(1) infinite;\n",
              "  }\n",
              "\n",
              "  @keyframes spin {\n",
              "    0% {\n",
              "      border-color: transparent;\n",
              "      border-bottom-color: var(--fill-color);\n",
              "      border-left-color: var(--fill-color);\n",
              "    }\n",
              "    20% {\n",
              "      border-color: transparent;\n",
              "      border-left-color: var(--fill-color);\n",
              "      border-top-color: var(--fill-color);\n",
              "    }\n",
              "    30% {\n",
              "      border-color: transparent;\n",
              "      border-left-color: var(--fill-color);\n",
              "      border-top-color: var(--fill-color);\n",
              "      border-right-color: var(--fill-color);\n",
              "    }\n",
              "    40% {\n",
              "      border-color: transparent;\n",
              "      border-right-color: var(--fill-color);\n",
              "      border-top-color: var(--fill-color);\n",
              "    }\n",
              "    60% {\n",
              "      border-color: transparent;\n",
              "      border-right-color: var(--fill-color);\n",
              "    }\n",
              "    80% {\n",
              "      border-color: transparent;\n",
              "      border-right-color: var(--fill-color);\n",
              "      border-bottom-color: var(--fill-color);\n",
              "    }\n",
              "    90% {\n",
              "      border-color: transparent;\n",
              "      border-bottom-color: var(--fill-color);\n",
              "    }\n",
              "  }\n",
              "</style>\n",
              "\n",
              "  <script>\n",
              "    async function quickchart(key) {\n",
              "      const quickchartButtonEl =\n",
              "        document.querySelector('#' + key + ' button');\n",
              "      quickchartButtonEl.disabled = true;  // To prevent multiple clicks.\n",
              "      quickchartButtonEl.classList.add('colab-df-spinner');\n",
              "      try {\n",
              "        const charts = await google.colab.kernel.invokeFunction(\n",
              "            'suggestCharts', [key], {});\n",
              "      } catch (error) {\n",
              "        console.error('Error during call to suggestCharts:', error);\n",
              "      }\n",
              "      quickchartButtonEl.classList.remove('colab-df-spinner');\n",
              "      quickchartButtonEl.classList.add('colab-df-quickchart-complete');\n",
              "    }\n",
              "    (() => {\n",
              "      let quickchartButtonEl =\n",
              "        document.querySelector('#df-b638c4db-3a15-4831-94b4-513746c0fabb button');\n",
              "      quickchartButtonEl.style.display =\n",
              "        google.colab.kernel.accessAllowed ? 'block' : 'none';\n",
              "    })();\n",
              "  </script>\n",
              "</div>\n",
              "\n",
              "  <div id=\"id_86219bd3-93fd-4285-8f07-ad9899653a63\">\n",
              "    <style>\n",
              "      .colab-df-generate {\n",
              "        background-color: #E8F0FE;\n",
              "        border: none;\n",
              "        border-radius: 50%;\n",
              "        cursor: pointer;\n",
              "        display: none;\n",
              "        fill: #1967D2;\n",
              "        height: 32px;\n",
              "        padding: 0 0 0 0;\n",
              "        width: 32px;\n",
              "      }\n",
              "\n",
              "      .colab-df-generate:hover {\n",
              "        background-color: #E2EBFA;\n",
              "        box-shadow: 0px 1px 2px rgba(60, 64, 67, 0.3), 0px 1px 3px 1px rgba(60, 64, 67, 0.15);\n",
              "        fill: #174EA6;\n",
              "      }\n",
              "\n",
              "      [theme=dark] .colab-df-generate {\n",
              "        background-color: #3B4455;\n",
              "        fill: #D2E3FC;\n",
              "      }\n",
              "\n",
              "      [theme=dark] .colab-df-generate:hover {\n",
              "        background-color: #434B5C;\n",
              "        box-shadow: 0px 1px 3px 1px rgba(0, 0, 0, 0.15);\n",
              "        filter: drop-shadow(0px 1px 2px rgba(0, 0, 0, 0.3));\n",
              "        fill: #FFFFFF;\n",
              "      }\n",
              "    </style>\n",
              "    <button class=\"colab-df-generate\" onclick=\"generateWithVariable('df')\"\n",
              "            title=\"Generate code using this dataframe.\"\n",
              "            style=\"display:none;\">\n",
              "\n",
              "  <svg xmlns=\"http://www.w3.org/2000/svg\" height=\"24px\"viewBox=\"0 0 24 24\"\n",
              "       width=\"24px\">\n",
              "    <path d=\"M7,19H8.4L18.45,9,17,7.55,7,17.6ZM5,21V16.75L18.45,3.32a2,2,0,0,1,2.83,0l1.4,1.43a1.91,1.91,0,0,1,.58,1.4,1.91,1.91,0,0,1-.58,1.4L9.25,21ZM18.45,9,17,7.55Zm-12,3A5.31,5.31,0,0,0,4.9,8.1,5.31,5.31,0,0,0,1,6.5,5.31,5.31,0,0,0,4.9,4.9,5.31,5.31,0,0,0,6.5,1,5.31,5.31,0,0,0,8.1,4.9,5.31,5.31,0,0,0,12,6.5,5.46,5.46,0,0,0,6.5,12Z\"/>\n",
              "  </svg>\n",
              "    </button>\n",
              "    <script>\n",
              "      (() => {\n",
              "      const buttonEl =\n",
              "        document.querySelector('#id_86219bd3-93fd-4285-8f07-ad9899653a63 button.colab-df-generate');\n",
              "      buttonEl.style.display =\n",
              "        google.colab.kernel.accessAllowed ? 'block' : 'none';\n",
              "\n",
              "      buttonEl.onclick = () => {\n",
              "        google.colab.notebook.generateWithVariable('df');\n",
              "      }\n",
              "      })();\n",
              "    </script>\n",
              "  </div>\n",
              "\n",
              "    </div>\n",
              "  </div>\n"
            ],
            "text/plain": [
              "                                                   title  \\\n",
              "0      \\r\\r\\r\\r\\r\\r\\r\\nDonald Trump Gets His A Handed...   \n",
              "1      \\r\\r\\r\\r\\r\\r\\r\\nExGOP Congressman Shreds Fello...   \n",
              "2      \\r\\r\\r\\r\\r\\r\\r\\nTrump Gets STOMPED For Whining...   \n",
              "3      \\r\\r\\r\\r\\r\\r\\r\\nWATCH Democratic Rep Delivers ...   \n",
              "4       AfterTrumpImplodes Hashtag Hilariously Imagin...   \n",
              "...                                                  ...   \n",
              "76456                                            Unknown   \n",
              "76457                                            Unknown   \n",
              "76458                                            Unknown   \n",
              "76459                                            Unknown   \n",
              "76460                                            Unknown   \n",
              "\n",
              "                                                    text  label  subject  \\\n",
              "0      A 10yearold girl smacked down Donald Trump and...      0     News   \n",
              "1      At this point every Republican who refuses to ...      0     News   \n",
              "2      Donald Trump has been attacking President Obam...      0     News   \n",
              "3      Massachusetts Rep Jim McGovern brought the Hou...      0     News   \n",
              "4      What will the world be like postDonald Trump A...      0     News   \n",
              "...                                                  ...    ...      ...   \n",
              "76456       you shouldve been swallowed you inbred swine      0  Unknown   \n",
              "76457  Do I know the risk involved in reporting on su...      0  Unknown   \n",
              "76458  If conservative Christians are about Jesus Chr...      0  Unknown   \n",
              "76459  Jesus will save his soul not his body Ignorant...      0  Unknown   \n",
              "76460                                  Leach Say no more      0  Unknown   \n",
              "\n",
              "       text_length                                    lemmatized_text  \n",
              "0             2566  yearold girl smacked donald trump amazingon sa...  \n",
              "1             1925  point every republican refuse spine stand dona...  \n",
              "2             3389  donald trump attacking president obama campaig...  \n",
              "3             3358  massachusetts rep jim mcgovern brought house s...  \n",
              "4             3092  world like postdonald trump new hashtag aftert...  \n",
              "...            ...                                                ...  \n",
              "76456           44                    shouldve swallowed inbred swine  \n",
              "76457          127  know risk involved reporting thing reporting t...  \n",
              "76458         2556  conservative christian jesus christ always see...  \n",
              "76459           60           jesus save soul body ignorant piece shit  \n",
              "76460           17                                          leach say  \n",
              "\n",
              "[76461 rows x 6 columns]"
            ]
          },
          "execution_count": 2,
          "metadata": {},
          "output_type": "execute_result"
        }
      ],
      "source": [
        "df = pd.read_csv('/content/drive/MyDrive/Truth_Seeker/cleaned_master_data.csv')\n",
        "df"
      ]
    },
    {
      "cell_type": "code",
      "execution_count": null,
      "metadata": {
        "colab": {
          "base_uri": "https://localhost:8080/"
        },
        "id": "VFSU3vo8yeSS",
        "outputId": "8fc66983-cbd1-47e6-f02d-c01c904837ac"
      },
      "outputs": [
        {
          "name": "stdout",
          "output_type": "stream",
          "text": [
            "<class 'pandas.core.frame.DataFrame'>\n",
            "RangeIndex: 76461 entries, 0 to 76460\n",
            "Data columns (total 6 columns):\n",
            " #   Column           Non-Null Count  Dtype \n",
            "---  ------           --------------  ----- \n",
            " 0   title            76460 non-null  object\n",
            " 1   text             76461 non-null  object\n",
            " 2   label            76461 non-null  int64 \n",
            " 3   subject          76461 non-null  object\n",
            " 4   text_length      76461 non-null  int64 \n",
            " 5   lemmatized_text  76459 non-null  object\n",
            "dtypes: int64(2), object(4)\n",
            "memory usage: 3.5+ MB\n"
          ]
        }
      ],
      "source": [
        "df.info()"
      ]
    },
    {
      "cell_type": "code",
      "execution_count": null,
      "metadata": {
        "id": "1_dsjswfyxdI"
      },
      "outputs": [],
      "source": [
        "import numpy as np\n",
        "import tensorflow as tf\n",
        "from tensorflow.keras.preprocessing.text import Tokenizer"
      ]
    },
    {
      "cell_type": "code",
      "execution_count": null,
      "metadata": {
        "id": "HPjfoehz6ZIc"
      },
      "outputs": [],
      "source": [
        "X = df['lemmatized_text'].astype(str)\n",
        "y = df['label']"
      ]
    },
    {
      "cell_type": "code",
      "execution_count": null,
      "metadata": {
        "id": "3CdQzOaFL-S0"
      },
      "outputs": [],
      "source": [
        "tokenizer = Tokenizer(num_words=10000)\n",
        "tokenizer.fit_on_texts(X)"
      ]
    },
    {
      "cell_type": "code",
      "execution_count": null,
      "metadata": {
        "id": "RONMtCBkMBB2"
      },
      "outputs": [],
      "source": [
        "X = tokenizer.texts_to_sequences(X)"
      ]
    },
    {
      "cell_type": "code",
      "execution_count": null,
      "metadata": {
        "id": "1CD8jbVimLAE"
      },
      "outputs": [],
      "source": [
        "from tensorflow.keras.preprocessing.sequence import pad_sequences\n",
        "max_sequence_length = 500\n",
        "truncated_sequences = [seq[:max_sequence_length] for seq in X]\n",
        "X = pad_sequences(truncated_sequences, maxlen=max_sequence_length)"
      ]
    },
    {
      "cell_type": "code",
      "execution_count": null,
      "metadata": {
        "id": "_eREMoNzM5yy"
      },
      "outputs": [],
      "source": [
        "y = np.array(y)"
      ]
    },
    {
      "cell_type": "code",
      "execution_count": null,
      "metadata": {
        "id": "8ZaIJ8ucM85a"
      },
      "outputs": [],
      "source": [
        "from sklearn.model_selection import train_test_split\n",
        "X_train, X_test, y_train, y_test = train_test_split(X, y, test_size=0.2, random_state=42)"
      ]
    },
    {
      "cell_type": "markdown",
      "metadata": {
        "id": "Hj3B_d-cNbN4"
      },
      "source": [
        "#Building RNN"
      ]
    },
    {
      "cell_type": "code",
      "execution_count": null,
      "metadata": {
        "id": "oc141OSoNdp7"
      },
      "outputs": [],
      "source": [
        "from tensorflow.keras.models import Sequential\n",
        "from tensorflow.keras.layers import Embedding, SimpleRNN, Dense"
      ]
    },
    {
      "cell_type": "code",
      "execution_count": null,
      "metadata": {
        "colab": {
          "base_uri": "https://localhost:8080/"
        },
        "id": "fWVNl9eoNRTF",
        "outputId": "cae25798-5af7-4fa8-ecbc-fbf23bd4ba24"
      },
      "outputs": [
        {
          "name": "stderr",
          "output_type": "stream",
          "text": [
            "/usr/local/lib/python3.10/dist-packages/keras/src/layers/core/embedding.py:90: UserWarning: Argument `input_length` is deprecated. Just remove it.\n",
            "  warnings.warn(\n"
          ]
        }
      ],
      "source": [
        "model = Sequential()\n",
        "model.add(Embedding(input_dim=10000, output_dim=128, input_length=X.shape[1]))"
      ]
    },
    {
      "cell_type": "code",
      "execution_count": null,
      "metadata": {
        "id": "BmCoeyspO96j"
      },
      "outputs": [],
      "source": [
        "model.add(SimpleRNN(units=64))\n",
        "model.add(Dense(1, activation='sigmoid'))"
      ]
    },
    {
      "cell_type": "code",
      "execution_count": null,
      "metadata": {
        "id": "jcowEcRZPDpP"
      },
      "outputs": [],
      "source": [
        "model.compile(optimizer='adam', loss='binary_crossentropy', metrics=['accuracy'])"
      ]
    },
    {
      "cell_type": "code",
      "execution_count": null,
      "metadata": {
        "colab": {
          "base_uri": "https://localhost:8080/"
        },
        "id": "Q3ektRN-PGPG",
        "outputId": "5a3daf39-22d5-4093-f859-c85f01928101"
      },
      "outputs": [
        {
          "name": "stdout",
          "output_type": "stream",
          "text": [
            "Epoch 1/10\n",
            "\u001b[1m956/956\u001b[0m \u001b[32m━━━━━━━━━━━━━━━━━━━━\u001b[0m\u001b[37m\u001b[0m \u001b[1m220s\u001b[0m 229ms/step - accuracy: 0.8385 - loss: 0.3633 - val_accuracy: 0.7902 - val_loss: 0.4600\n",
            "Epoch 2/10\n",
            "\u001b[1m956/956\u001b[0m \u001b[32m━━━━━━━━━━━━━━━━━━━━\u001b[0m\u001b[37m\u001b[0m \u001b[1m215s\u001b[0m 225ms/step - accuracy: 0.8374 - loss: 0.3651 - val_accuracy: 0.7904 - val_loss: 0.4590\n",
            "Epoch 3/10\n",
            "\u001b[1m956/956\u001b[0m \u001b[32m━━━━━━━━━━━━━━━━━━━━\u001b[0m\u001b[37m\u001b[0m \u001b[1m218s\u001b[0m 228ms/step - accuracy: 0.8386 - loss: 0.3603 - val_accuracy: 0.8173 - val_loss: 0.4208\n",
            "Epoch 4/10\n",
            "\u001b[1m956/956\u001b[0m \u001b[32m━━━━━━━━━━━━━━━━━━━━\u001b[0m\u001b[37m\u001b[0m \u001b[1m262s\u001b[0m 228ms/step - accuracy: 0.8642 - loss: 0.3170 - val_accuracy: 0.8176 - val_loss: 0.4155\n",
            "Epoch 5/10\n",
            "\u001b[1m956/956\u001b[0m \u001b[32m━━━━━━━━━━━━━━━━━━━━\u001b[0m\u001b[37m\u001b[0m \u001b[1m263s\u001b[0m 228ms/step - accuracy: 0.8827 - loss: 0.2848 - val_accuracy: 0.8346 - val_loss: 0.4001\n",
            "Epoch 6/10\n",
            "\u001b[1m956/956\u001b[0m \u001b[32m━━━━━━━━━━━━━━━━━━━━\u001b[0m\u001b[37m\u001b[0m \u001b[1m256s\u001b[0m 222ms/step - accuracy: 0.8937 - loss: 0.2635 - val_accuracy: 0.8333 - val_loss: 0.4029\n",
            "Epoch 7/10\n",
            "\u001b[1m956/956\u001b[0m \u001b[32m━━━━━━━━━━━━━━━━━━━━\u001b[0m\u001b[37m\u001b[0m \u001b[1m262s\u001b[0m 222ms/step - accuracy: 0.8946 - loss: 0.2624 - val_accuracy: 0.8433 - val_loss: 0.3911\n",
            "Epoch 8/10\n",
            "\u001b[1m956/956\u001b[0m \u001b[32m━━━━━━━━━━━━━━━━━━━━\u001b[0m\u001b[37m\u001b[0m \u001b[1m262s\u001b[0m 222ms/step - accuracy: 0.9081 - loss: 0.2355 - val_accuracy: 0.8499 - val_loss: 0.3831\n",
            "Epoch 9/10\n",
            "\u001b[1m956/956\u001b[0m \u001b[32m━━━━━━━━━━━━━━━━━━━━\u001b[0m\u001b[37m\u001b[0m \u001b[1m261s\u001b[0m 221ms/step - accuracy: 0.9151 - loss: 0.2195 - val_accuracy: 0.8455 - val_loss: 0.3889\n",
            "Epoch 10/10\n",
            "\u001b[1m956/956\u001b[0m \u001b[32m━━━━━━━━━━━━━━━━━━━━\u001b[0m\u001b[37m\u001b[0m \u001b[1m224s\u001b[0m 234ms/step - accuracy: 0.8749 - loss: 0.2957 - val_accuracy: 0.8077 - val_loss: 0.4418\n"
          ]
        },
        {
          "data": {
            "text/plain": [
              "<keras.src.callbacks.history.History at 0x7e9092c3ef80>"
            ]
          },
          "execution_count": 18,
          "metadata": {},
          "output_type": "execute_result"
        }
      ],
      "source": [
        "from keras.callbacks import EarlyStopping\n",
        "\n",
        "early_stop = EarlyStopping(monitor='val_loss', patience=3, restore_best_weights=True)\n",
        "model.fit(X_train, y_train, validation_data=(X_test, y_test), epochs=10, batch_size=64, callbacks=[early_stop])"
      ]
    },
    {
      "cell_type": "code",
      "execution_count": null,
      "metadata": {
        "colab": {
          "base_uri": "https://localhost:8080/"
        },
        "id": "dEHemf7WPIv1",
        "outputId": "4317a6bf-022b-4851-c18b-108821cd79de"
      },
      "outputs": [
        {
          "name": "stdout",
          "output_type": "stream",
          "text": [
            "\u001b[1m478/478\u001b[0m \u001b[32m━━━━━━━━━━━━━━━━━━━━\u001b[0m\u001b[37m\u001b[0m \u001b[1m24s\u001b[0m 50ms/step - accuracy: 0.8490 - loss: 0.3793\n",
            "Test Accuracy: 84.99%\n"
          ]
        }
      ],
      "source": [
        "loss, accuracy = model.evaluate(X_test, y_test)\n",
        "print(f\"Test Accuracy: {accuracy * 100:.2f}%\")"
      ]
    },
    {
      "cell_type": "code",
      "execution_count": null,
      "metadata": {
        "colab": {
          "base_uri": "https://localhost:8080/"
        },
        "id": "3B4eG2Dg97Mk",
        "outputId": "54413013-e65c-4418-a4b6-d03b8377a402"
      },
      "outputs": [
        {
          "name": "stderr",
          "output_type": "stream",
          "text": [
            "WARNING:absl:You are saving your model as an HDF5 file via `model.save()` or `keras.saving.save_model(model)`. This file format is considered legacy. We recommend using instead the native Keras format, e.g. `model.save('my_model.keras')` or `keras.saving.save_model(model, 'my_model.keras')`. \n"
          ]
        }
      ],
      "source": [
        "model.save(r\"/content/drive/MyDrive/Truth_Seeker/model1.h5\")"
      ]
    },
    {
      "cell_type": "markdown",
      "metadata": {
        "id": "o4PgOBeRhVso"
      },
      "source": [
        "# LSTM"
      ]
    },
    {
      "cell_type": "code",
      "execution_count": null,
      "metadata": {
        "id": "4PNMdSdpkPf_"
      },
      "outputs": [],
      "source": [
        "from tensorflow.keras.models import Sequential\n",
        "from tensorflow.keras.layers import Embedding, LSTM, Dense, BatchNormalization, Dropout\n",
        "from tensorflow.keras.preprocessing.text import Tokenizer\n",
        "import pandas as pd\n",
        "\n",
        "model = Sequential()"
      ]
    },
    {
      "cell_type": "code",
      "execution_count": 4,
      "metadata": {
        "colab": {
          "base_uri": "https://localhost:8080/"
        },
        "id": "OJ6c7SDUG1o3",
        "outputId": "ef90248c-ba85-41f0-a715-89583cbdc6eb"
      },
      "outputs": [
        {
          "output_type": "stream",
          "name": "stdout",
          "text": [
            "Mounted at /content/drive\n"
          ]
        }
      ],
      "source": [
        "from google.colab import drive\n",
        "drive.mount('/content/drive')"
      ]
    },
    {
      "cell_type": "code",
      "execution_count": null,
      "metadata": {
        "colab": {
          "base_uri": "https://localhost:8080/",
          "height": 444
        },
        "id": "3MjZ1DzSGf2N",
        "outputId": "1229b2fb-5268-4e94-8384-660cc3000a11"
      },
      "outputs": [
        {
          "data": {
            "application/vnd.google.colaboratory.intrinsic+json": {
              "summary": "{\n  \"name\": \"df\",\n  \"rows\": 75775,\n  \"fields\": [\n    {\n      \"column\": \"title\",\n      \"properties\": {\n        \"dtype\": \"string\",\n        \"num_unique_values\": 74799,\n        \"samples\": [\n          \"Over 100 Arrested In Brutal Police Crackdown On Standing Rock Water Protectors\",\n          \"Trump ally Christie calls criticisms of slain soldiers family inappropriate\",\n          \"Brief Overview US Military Sales to Lebanon\"\n        ],\n        \"semantic_type\": \"\",\n        \"description\": \"\"\n      }\n    },\n    {\n      \"column\": \"lemmatized_text\",\n      \"properties\": {\n        \"dtype\": \"string\",\n        \"num_unique_values\": 75565,\n        \"samples\": [\n          \"likely scenario people die virus august forecaster said u race vaccinate american transmissible variant send number overwhelming level million covid vaccine do administered u according data published saturday center disease control prevention million people received least one dose million people fully vaccinated though u adult already fully vaccinated expert warn vaccine hesitancy easing preventative measure could keep public reaching immunity level needed get ahead pandemic expert emphasized rare case adverse reaction covid vaccine far outweighed collective protection widespread vaccination vaccine saved thousand life already emory university executive associate dean medicine dr carlos del rio told cnn weve seen mortality u decline despite case going thats vaccinating people do making way arm distancing maskwearing still play important role fight coronavirus universal mask coverage attained next week model project fewer cumulative death ihme researcher said model instead foresees people dropping mask use trend toward mandate easing continues appears quite possible huge behavioral rebound said worstcase scenario people died august people stop wearing mask start moving around gathering according model u lead world coronavirus death three million covid death reported globally saturday morning according data compiled john hopkins university number stand several part u covid case rise least state recorded least rise daily average positive case covid according john hopkins data friday improvement state thursday underscoring fight pandemic far michigan hospital increasingly overwhelmed reaching full capacity part due influx new case dr joel fishbain medical director infection prevention beaumont hospital grosse pointe michigan said many patient hospital younger admitted last spring people worry nursing staff told cnn even though may open bed may staffing staff nurse support personnel really getting tired state local official attempting avoid similar situation pushing increase vaccination level among adult show continuing sign improvement knocked virus already three time knock fourth time washington gov jay inslee said thursday many state pushing harder increase vaccination rate know vaccine really responsible primarily reduction death weve seen first week dr clay marsh west virginia covid czar said thursday pennsylvania kentucky connecticut georgia highlighted increase vaccination number new york reported lowest number hospitalization since december half new york adult received least one dose vaccine according gov andrew cuomos office johnson johnson vaccine investigated vaccine distribution continues johnson johnson vaccine remains paused company wait guidance investigator severe form blood clot brain known cerebral venous sinus thrombosis may linked vaccine yet occurrence rate rare far six case reported u approximately million do administered date one person died another critical condition fda official said tuesday one six case involved yearold pennsylvania woman according state department health recovered receiving treatment hospital state pausing jj distribution april said federal oversight vaccine safety functioning intended safety procedure built vaccination process working instill confidence safety effectiveness available covid vaccine pennsylvania acting secretary health alison beam said urge individual appointment scheduled receive pfizer moderna vaccination keep appointment cdc u food drug administration recommended pause tuesday cdc advisory committee immunization practice met wednesday without voting taking action stating information needed vaccine adviser cdc scheduled meeting april determine whether additional intervention required hopefully well get decision quite soon whether get back track effective vaccine dr anthony fauci told congressional hearing thursday recipient vaccine develop severe headache abdominal pain leg pain shortness breath within three week vaccination contact health care provider cdc fda said received jj vaccine month ago risk low said cdc principal deputy director dr anne schuchat virtual briefing tuesday researcher look vaccinating child young many state vaccination available everyone older researcher begun testing pfizerbiontech covid vaccine child young two stanford medicine one five site nationwide participating phase trial pfizerbiontech covid vaccine child younger year age stanford medicine told cnn statement thursday stanford medicine spokesperson confirmed researcher began administering do participant year age group wednesday phase study enroll total participant across country test three do vaccine age group safety tolerability statement read safe tolerable vaccine dose established larger study vaccine efficacy launched age group phase study stanford fully enrolled researcher cincinnati childrens hospital also begun testing vaccine young child dr robert frenck principal investigator pfizer covid vaccine trial cincinnati childrens hospital said monday first dose given participant age range last week cincinnati childrens hospital said nearly child participating vaccine trial hospital enrolled soon cnns ben tinker maggie fox deidre mcphillips naomi thomas amanda sealy sandee lamotte jen christensen kristina sgueglia juliana battaglia rebekah riess andy rose jacqueline howard virginia langmaid melissa alonso lauren mascarenhas nadia kounang contributed report\",\n          \"paris reuters marine le pen acted reassert authority france farright national front forced departure deputy still face struggle persuade party base take win election exit florian philippot quit last week policy difference le pen since resounding defeat emmanuel macron may presidential election show yearold daughter party founder jeanmarie le pen tough required past flipflops policy lessthanassured performance tv debate macron presidential runoff raised doubt whether take national front major factor french politics party hold power le pen image seriously deteriorated said frederic dabi polling group ifop carried survey sept show percent voter think stature president seven percentage point since march problem term image authority seen firm competence stature said seen alternative emmanuel macron looking way le pen took lowerthanexpected percent vote presidential runoff party percent second round parliamentary election followed however support european farright may peaked despite setback netherlands austria weekend antiimmigrant alternative germany scored percent federal election becoming first farright party enter bundestag half century outcome le pen praisednlnm nlnmpj lawyer training le pen took party quickly managed build broader following succeeded detoxifying image distancing antisemitic label attracted father adopting prowelfare economic policy appealed wider range voter went father oneeyed former paratrooper reveled provocative comment expelled party came daughter softer image talk lowering retirement age protecting worker went tv talk love gardening lot image adjustment philippot graduate france elite ena administrative school joined party quickly rose top architect le pen campaign broken father philippot le pen must show get policy mix right another possible presidential bid dispute philippot came head party antieuro stance supporter le pen willingness sacrifice closest aide refused told underscore leadership credential show give priority good party personal consideration gaetan dussausaye head party youth group told reuters know want got strong belief whatever necessary defend said dussausaye member national front top political committee others worry flash aggression lack preparedness presidential debate followed election underperformance believe mean work persuade grassroots beyond big enough number voter winner survey odoxa pollster carried sept showed biggest danger le pen may come within inside family much party showed marion marechalle pen marine niece temporarily stepped away politics top official seen asset majority party member surveyed half saw marine le pen liability jerome riviere former conservative lawmaker joined le pen campaign team praised openness adjustment including softening antieuro stance good party chief need representative grassroots activist want said le pen handling break philippot led others conclude longer know stand rise influence people advise way true belief good party alain avello regional councillor told reuters avello described marineite one several national front member quit party philippot departure crucial question much le pen allows party policy evolve philippot long advocated tough antieuro prowelfare policy le pen backed others want party refocus antiimmigrant economically liberal root expected decide new strategy policy congress march letter national front member day philippot quit le pen said debate overhauling party would continue congress tour france meet supporter asked questionnaire want party change important national front member one decide le pen said\",\n          \"share facebook fundamental principle basic program life energy saving whatever whatever like whatever feel good psychological response show energy efficient life craves energy subconsciously youll always choose path least resistance thats high calorie food taste better thats whenever belief questioned naturally refuse argument thats people feel depressed sunshine outside default response energy saving reaction calorie mean energy changing structure belief requires energy efficient less lacking energy sun however momentary energy waste result sustainable energy consumption future requires higher level intelligence achieved must apply conscious effort right time place source energy gain energy raise consciousness increase intelligence nikola tesla perfectly concluded whats main fundamental source human energy increase energy evolve specie energy mean higher level operating power consciousness apply time equation mean longer sustain higher level energy consciousness intelligence download universe intelligence integrate whats source energy first let u ask whence come motive power spring drive see ocean rise fall river flow wind rain hail snow beat window train steamer come go rattling noise carriage voice street feel smell taste think movement surging mighty ocean subtle movement concerned thought one common cause energy emanates one single center one single source sun sun spring drive sun maintains human life supply human energy increase human energy following answer make understand almost everything nikola tesla lifestyle vegan obsessed free energy despised ignorance imbecile increase human energy actually step first step increasing human mass order increase energy think term speed let say train add one wagon thing happen either wagon velocity train case speed train slightly increase wagon smaller velocity case whole train decrease speed wagon higher velocity case whole train significantly increase speed think like family child degree enlightenment parent mass velocity energy simply increase proportionately number added less intelligent advanced mass smaller velocity slight gain energy advanced mass higher velocity new generation add considerably sum total human energy nikola tesla opinion growing muscle equivalent adding mass smaller velocity would commend moderate exercise insuring right balance mind body highest efficiency performance course prime requirement food one important element increasing mass consider food processed sunlight plant photosynthesis combine carbon hydrogen oxygen bind sunlight forming cho molecule fat consume food burn energy however actual energy come freeing photon light chemical bond thats produce heat thats give calorie stored photon eat sunlight energy fruit vegetable meat everything eat consumed cho molecule plant created energy consume food actually sunlight plant used forge element together eat meat consuming already consumed unused cho place cho come photosynthesis second hand cho way consuming cho directly plant fruit vegetable certainly equivalent adding mass higher velocity certainly preferable raise vegetable think therefore vegetarianism commendable departure established barbarous habit subsist plant food perform work even advantage theory welldemonstrated fact many race living almost exclusively vegetable superior physique strength doubt plant food oatmeal economical meat superior regard mechanical mental performance nikola tesla say consumption second hand food one main limit put evolving race intelligent kind less animal like specie free animal instinct appetite keep u begin root spring effect radical reform character food nikola tesla continues gambling business rush excitement particularly exchange cause much mass reduction whisky wine tea coffee tobacco stimulant responsible shortening life many ought used moderation think rigorous measure suppression habit followed many generation commendable wiser preach moderation abstinence conclude consume food thats closer sun avoid unnecessary enlargement body thatll use energy avoid energy wasting habit unhealthy addiction serve solely ego man practice advice add wagon higher velocity human train move second step reducing force thats retarding human mass force retard onward movement man partly frictional partly negative illustrate distinction may name example ignorance stupidity imbecility purely frictional force resistance devoid directive tendency hand visionariness insanity selfdestructive tendency religious fanaticism like force negative character acting definite direction reduce entirely overcome dissimilar retarding force radically different method must employed one know instance fanatic may one take preventive measure enlighten convince possibly direct turn vice virtue one know never know brute imbecile may one must deal mass inert without mind let loose mad element negative force always implies quality infrequently high one though badly directed possible turn good advantage directionless frictional force involves unavoidable loss evidently first general answer question turn negative force right direction reduce frictional force simply said frictional force ignorant directionless without quality unlike negative force carry high quality wrong direction frictional force time result energy loss matter directioned negative force lead significant increase human energy focused towards proper strategic directionthere doubt frictional resistance one retard human movement ignorance without reason said man wisdom buddha ignorance greatest evil world friction result ignorance greatly increased owing numerous language nationality reduced spread knowledge unification heterogeneous element humanity effort could better spent nikola tesla concludes individually explained maintaining constructive balance talent flaw establishing peace darkness light uniting towards mutual greater goal course need accompanied learning curiosity reducing individual ignorance universe around u cleansing chakras essential taking bath context reducing force thats retarding energy allowing energy flow freely body ensures reduction friction decrease waste energy fighting negative emotion clogging energy pool according nikola tesla war terminated suddenly result something worse war war negative force cannot turned positive direction without passing intermediate phase problem making wheel rotating one way turn opposite direction without slowing stopping speeding way shouldnt stop war redirect towards mutual goal humanity example instead fighting redirect energy towards exploration different part galaxy course gently gradually great maintenance doubtful whether men would ready fight high principle would good anything nikola tesla explains war frictional force one negative character view future war result reduction man power exchanged machine take hit see happen must see everything began started law strongest physically weaker men thrown completely mercy physically stronger men however weaker men developed intelligence due energy efficiency developed way use stone stick make weapon today war held men smoke cigar sitting room completely controlling physical force intelligence future make intelligence create machine control instead men war mainly intellectual physical factor completely irrelevant conclude use talent guide flaw find peace eliminate force friction reason within around third step increase force accelerating human mass three possible solution main problem increasing human energy far important consider intrinsic significance also intimate bearing many element condition determine movement humanity increase force thats moving human mass simply spend energy spend towards efficient possible direction world driven machinery system created motive power mass people moving chaotically systematically following order like clockwork decrease motive power well unintentionally imprisoned system alone created thats increasing motive power key increasing human energy constantly increasing motive power result constant increase human energy motive power mean work increase force accelerating human movement mean therefore perform work say nikola tesla one man increase energy constantly point man cannot work point work becomes harmful man even unhealthy secret man applies effort coming effect direction collective human movement effort becomes efficient less energy achieved mean people work towards mutual goal achieved less effort resulting increase mutual energy think like spinning wheel first fragment potential speed need lot effort energy even start moving wheel start moving wheel applying effort direction movement less effort demand faster keep spinning end less effort demanded move wheel inch spin countless time faster human energy secret energy eternal universe almost nothing energy matter spent forever stay spread directioned thats crucially important focus effort spend energy towards one direction time energy accumulate less effort energy youll need achieve lot true globally individually another answer found great question increase force accelerating human movement mean turn u man sun energy imagine accomplish focus effort toward creating sustainable way generating energy cleaning earth reducing hunger finding solution interstellar travel educating conclude focusing motive power effort one goal towards right direction movement accelerate velocity move closer goal time youll spend less effort achieve conclusion gain energy right source mean gain energy less reducing retarding factor mean less friction waste energy focusing motive power towards direction collective human movement mean use others energy boost energy gain energy waste less energy spend energy next time youll need less achieve increase human mass reduce retarding force increase force accelerating human mass follow process reason gain waste less spend efficiently learn thats secret formula increasing collective human energy according great mind nikola tesla thats raise intelligence evolve specie\"\n        ],\n        \"semantic_type\": \"\",\n        \"description\": \"\"\n      }\n    },\n    {\n      \"column\": \"label\",\n      \"properties\": {\n        \"dtype\": \"number\",\n        \"std\": 0,\n        \"min\": 0,\n        \"max\": 1,\n        \"num_unique_values\": 2,\n        \"samples\": [\n          1,\n          0\n        ],\n        \"semantic_type\": \"\",\n        \"description\": \"\"\n      }\n    },\n    {\n      \"column\": \"subject\",\n      \"properties\": {\n        \"dtype\": \"category\",\n        \"num_unique_values\": 3,\n        \"samples\": [\n          \"General News\",\n          \"Unknown\"\n        ],\n        \"semantic_type\": \"\",\n        \"description\": \"\"\n      }\n    },\n    {\n      \"column\": \"text_length\",\n      \"properties\": {\n        \"dtype\": \"number\",\n        \"std\": 3878,\n        \"min\": 4,\n        \"max\": 138053,\n        \"num_unique_values\": 11835,\n        \"samples\": [\n          7985,\n          2804\n        ],\n        \"semantic_type\": \"\",\n        \"description\": \"\"\n      }\n    },\n    {\n      \"column\": \"title_length\",\n      \"properties\": {\n        \"dtype\": \"number\",\n        \"std\": 23,\n        \"min\": 3,\n        \"max\": 443,\n        \"num_unique_values\": 240,\n        \"samples\": [\n          88,\n          82\n        ],\n        \"semantic_type\": \"\",\n        \"description\": \"\"\n      }\n    }\n  ]\n}",
              "type": "dataframe",
              "variable_name": "df"
            },
            "text/html": [
              "\n",
              "  <div id=\"df-3e0f4197-b5b5-4027-b8b3-206369db0ac6\" class=\"colab-df-container\">\n",
              "    <div>\n",
              "<style scoped>\n",
              "    .dataframe tbody tr th:only-of-type {\n",
              "        vertical-align: middle;\n",
              "    }\n",
              "\n",
              "    .dataframe tbody tr th {\n",
              "        vertical-align: top;\n",
              "    }\n",
              "\n",
              "    .dataframe thead th {\n",
              "        text-align: right;\n",
              "    }\n",
              "</style>\n",
              "<table border=\"1\" class=\"dataframe\">\n",
              "  <thead>\n",
              "    <tr style=\"text-align: right;\">\n",
              "      <th></th>\n",
              "      <th>title</th>\n",
              "      <th>lemmatized_text</th>\n",
              "      <th>label</th>\n",
              "      <th>subject</th>\n",
              "      <th>text_length</th>\n",
              "      <th>title_length</th>\n",
              "    </tr>\n",
              "  </thead>\n",
              "  <tbody>\n",
              "    <tr>\n",
              "      <th>0</th>\n",
              "      <td>\\r\\r\\r\\r\\r\\r\\r\\nDonald Trump Gets His A Handed...</td>\n",
              "      <td>yearold girl smacked donald trump amazingon sa...</td>\n",
              "      <td>0</td>\n",
              "      <td>General News</td>\n",
              "      <td>2566</td>\n",
              "      <td>79</td>\n",
              "    </tr>\n",
              "    <tr>\n",
              "      <th>1</th>\n",
              "      <td>\\r\\r\\r\\r\\r\\r\\r\\nExGOP Congressman Shreds Fello...</td>\n",
              "      <td>point every republican refuse spine stand dona...</td>\n",
              "      <td>0</td>\n",
              "      <td>General News</td>\n",
              "      <td>1925</td>\n",
              "      <td>104</td>\n",
              "    </tr>\n",
              "    <tr>\n",
              "      <th>2</th>\n",
              "      <td>\\r\\r\\r\\r\\r\\r\\r\\nTrump Gets STOMPED For Whining...</td>\n",
              "      <td>donald trump attacking president obama campaig...</td>\n",
              "      <td>0</td>\n",
              "      <td>General News</td>\n",
              "      <td>3389</td>\n",
              "      <td>106</td>\n",
              "    </tr>\n",
              "    <tr>\n",
              "      <th>3</th>\n",
              "      <td>\\r\\r\\r\\r\\r\\r\\r\\nWATCH Democratic Rep Delivers ...</td>\n",
              "      <td>massachusetts rep jim mcgovern brought house s...</td>\n",
              "      <td>0</td>\n",
              "      <td>General News</td>\n",
              "      <td>3358</td>\n",
              "      <td>117</td>\n",
              "    </tr>\n",
              "    <tr>\n",
              "      <th>4</th>\n",
              "      <td>AfterTrumpImplodes Hashtag Hilariously Imagin...</td>\n",
              "      <td>world like postdonald trump new hashtag aftert...</td>\n",
              "      <td>0</td>\n",
              "      <td>General News</td>\n",
              "      <td>3092</td>\n",
              "      <td>86</td>\n",
              "    </tr>\n",
              "    <tr>\n",
              "      <th>...</th>\n",
              "      <td>...</td>\n",
              "      <td>...</td>\n",
              "      <td>...</td>\n",
              "      <td>...</td>\n",
              "      <td>...</td>\n",
              "      <td>...</td>\n",
              "    </tr>\n",
              "    <tr>\n",
              "      <th>75770</th>\n",
              "      <td>white coat summit dr 99 8 percent of people ge...</td>\n",
              "      <td>percent people get little progressive signific...</td>\n",
              "      <td>0</td>\n",
              "      <td>Unknown</td>\n",
              "      <td>1812</td>\n",
              "      <td>90</td>\n",
              "    </tr>\n",
              "    <tr>\n",
              "      <th>75771</th>\n",
              "      <td>who the hel elected you dorsey admits theres n...</td>\n",
              "      <td>twitter facebook google running protection rac...</td>\n",
              "      <td>0</td>\n",
              "      <td>Unknown</td>\n",
              "      <td>8215</td>\n",
              "      <td>91</td>\n",
              "    </tr>\n",
              "    <tr>\n",
              "      <th>75772</th>\n",
              "      <td>woke business list still demanding masks in fr...</td>\n",
              "      <td>one new coowners privateequity firm engulfed c...</td>\n",
              "      <td>0</td>\n",
              "      <td>Unknown</td>\n",
              "      <td>2190</td>\n",
              "      <td>54</td>\n",
              "    </tr>\n",
              "    <tr>\n",
              "      <th>75773</th>\n",
              "      <td>you spent a fing week on pneumoniagate</td>\n",
              "      <td>people perceive womens health energy level cam...</td>\n",
              "      <td>1</td>\n",
              "      <td>Unknown</td>\n",
              "      <td>14102</td>\n",
              "      <td>38</td>\n",
              "    </tr>\n",
              "    <tr>\n",
              "      <th>75774</th>\n",
              "      <td>Bill Clinton and Hillary Lolita Express Pedoph...</td>\n",
              "      <td>bill clinton hillary lolita express pedophilia...</td>\n",
              "      <td>1</td>\n",
              "      <td>Unknown</td>\n",
              "      <td>902</td>\n",
              "      <td>55</td>\n",
              "    </tr>\n",
              "  </tbody>\n",
              "</table>\n",
              "<p>75775 rows × 6 columns</p>\n",
              "</div>\n",
              "    <div class=\"colab-df-buttons\">\n",
              "\n",
              "  <div class=\"colab-df-container\">\n",
              "    <button class=\"colab-df-convert\" onclick=\"convertToInteractive('df-3e0f4197-b5b5-4027-b8b3-206369db0ac6')\"\n",
              "            title=\"Convert this dataframe to an interactive table.\"\n",
              "            style=\"display:none;\">\n",
              "\n",
              "  <svg xmlns=\"http://www.w3.org/2000/svg\" height=\"24px\" viewBox=\"0 -960 960 960\">\n",
              "    <path d=\"M120-120v-720h720v720H120Zm60-500h600v-160H180v160Zm220 220h160v-160H400v160Zm0 220h160v-160H400v160ZM180-400h160v-160H180v160Zm440 0h160v-160H620v160ZM180-180h160v-160H180v160Zm440 0h160v-160H620v160Z\"/>\n",
              "  </svg>\n",
              "    </button>\n",
              "\n",
              "  <style>\n",
              "    .colab-df-container {\n",
              "      display:flex;\n",
              "      gap: 12px;\n",
              "    }\n",
              "\n",
              "    .colab-df-convert {\n",
              "      background-color: #E8F0FE;\n",
              "      border: none;\n",
              "      border-radius: 50%;\n",
              "      cursor: pointer;\n",
              "      display: none;\n",
              "      fill: #1967D2;\n",
              "      height: 32px;\n",
              "      padding: 0 0 0 0;\n",
              "      width: 32px;\n",
              "    }\n",
              "\n",
              "    .colab-df-convert:hover {\n",
              "      background-color: #E2EBFA;\n",
              "      box-shadow: 0px 1px 2px rgba(60, 64, 67, 0.3), 0px 1px 3px 1px rgba(60, 64, 67, 0.15);\n",
              "      fill: #174EA6;\n",
              "    }\n",
              "\n",
              "    .colab-df-buttons div {\n",
              "      margin-bottom: 4px;\n",
              "    }\n",
              "\n",
              "    [theme=dark] .colab-df-convert {\n",
              "      background-color: #3B4455;\n",
              "      fill: #D2E3FC;\n",
              "    }\n",
              "\n",
              "    [theme=dark] .colab-df-convert:hover {\n",
              "      background-color: #434B5C;\n",
              "      box-shadow: 0px 1px 3px 1px rgba(0, 0, 0, 0.15);\n",
              "      filter: drop-shadow(0px 1px 2px rgba(0, 0, 0, 0.3));\n",
              "      fill: #FFFFFF;\n",
              "    }\n",
              "  </style>\n",
              "\n",
              "    <script>\n",
              "      const buttonEl =\n",
              "        document.querySelector('#df-3e0f4197-b5b5-4027-b8b3-206369db0ac6 button.colab-df-convert');\n",
              "      buttonEl.style.display =\n",
              "        google.colab.kernel.accessAllowed ? 'block' : 'none';\n",
              "\n",
              "      async function convertToInteractive(key) {\n",
              "        const element = document.querySelector('#df-3e0f4197-b5b5-4027-b8b3-206369db0ac6');\n",
              "        const dataTable =\n",
              "          await google.colab.kernel.invokeFunction('convertToInteractive',\n",
              "                                                    [key], {});\n",
              "        if (!dataTable) return;\n",
              "\n",
              "        const docLinkHtml = 'Like what you see? Visit the ' +\n",
              "          '<a target=\"_blank\" href=https://colab.research.google.com/notebooks/data_table.ipynb>data table notebook</a>'\n",
              "          + ' to learn more about interactive tables.';\n",
              "        element.innerHTML = '';\n",
              "        dataTable['output_type'] = 'display_data';\n",
              "        await google.colab.output.renderOutput(dataTable, element);\n",
              "        const docLink = document.createElement('div');\n",
              "        docLink.innerHTML = docLinkHtml;\n",
              "        element.appendChild(docLink);\n",
              "      }\n",
              "    </script>\n",
              "  </div>\n",
              "\n",
              "\n",
              "<div id=\"df-7ae5ab8d-1f8d-4e9b-b311-ce7add88bce9\">\n",
              "  <button class=\"colab-df-quickchart\" onclick=\"quickchart('df-7ae5ab8d-1f8d-4e9b-b311-ce7add88bce9')\"\n",
              "            title=\"Suggest charts\"\n",
              "            style=\"display:none;\">\n",
              "\n",
              "<svg xmlns=\"http://www.w3.org/2000/svg\" height=\"24px\"viewBox=\"0 0 24 24\"\n",
              "     width=\"24px\">\n",
              "    <g>\n",
              "        <path d=\"M19 3H5c-1.1 0-2 .9-2 2v14c0 1.1.9 2 2 2h14c1.1 0 2-.9 2-2V5c0-1.1-.9-2-2-2zM9 17H7v-7h2v7zm4 0h-2V7h2v10zm4 0h-2v-4h2v4z\"/>\n",
              "    </g>\n",
              "</svg>\n",
              "  </button>\n",
              "\n",
              "<style>\n",
              "  .colab-df-quickchart {\n",
              "      --bg-color: #E8F0FE;\n",
              "      --fill-color: #1967D2;\n",
              "      --hover-bg-color: #E2EBFA;\n",
              "      --hover-fill-color: #174EA6;\n",
              "      --disabled-fill-color: #AAA;\n",
              "      --disabled-bg-color: #DDD;\n",
              "  }\n",
              "\n",
              "  [theme=dark] .colab-df-quickchart {\n",
              "      --bg-color: #3B4455;\n",
              "      --fill-color: #D2E3FC;\n",
              "      --hover-bg-color: #434B5C;\n",
              "      --hover-fill-color: #FFFFFF;\n",
              "      --disabled-bg-color: #3B4455;\n",
              "      --disabled-fill-color: #666;\n",
              "  }\n",
              "\n",
              "  .colab-df-quickchart {\n",
              "    background-color: var(--bg-color);\n",
              "    border: none;\n",
              "    border-radius: 50%;\n",
              "    cursor: pointer;\n",
              "    display: none;\n",
              "    fill: var(--fill-color);\n",
              "    height: 32px;\n",
              "    padding: 0;\n",
              "    width: 32px;\n",
              "  }\n",
              "\n",
              "  .colab-df-quickchart:hover {\n",
              "    background-color: var(--hover-bg-color);\n",
              "    box-shadow: 0 1px 2px rgba(60, 64, 67, 0.3), 0 1px 3px 1px rgba(60, 64, 67, 0.15);\n",
              "    fill: var(--button-hover-fill-color);\n",
              "  }\n",
              "\n",
              "  .colab-df-quickchart-complete:disabled,\n",
              "  .colab-df-quickchart-complete:disabled:hover {\n",
              "    background-color: var(--disabled-bg-color);\n",
              "    fill: var(--disabled-fill-color);\n",
              "    box-shadow: none;\n",
              "  }\n",
              "\n",
              "  .colab-df-spinner {\n",
              "    border: 2px solid var(--fill-color);\n",
              "    border-color: transparent;\n",
              "    border-bottom-color: var(--fill-color);\n",
              "    animation:\n",
              "      spin 1s steps(1) infinite;\n",
              "  }\n",
              "\n",
              "  @keyframes spin {\n",
              "    0% {\n",
              "      border-color: transparent;\n",
              "      border-bottom-color: var(--fill-color);\n",
              "      border-left-color: var(--fill-color);\n",
              "    }\n",
              "    20% {\n",
              "      border-color: transparent;\n",
              "      border-left-color: var(--fill-color);\n",
              "      border-top-color: var(--fill-color);\n",
              "    }\n",
              "    30% {\n",
              "      border-color: transparent;\n",
              "      border-left-color: var(--fill-color);\n",
              "      border-top-color: var(--fill-color);\n",
              "      border-right-color: var(--fill-color);\n",
              "    }\n",
              "    40% {\n",
              "      border-color: transparent;\n",
              "      border-right-color: var(--fill-color);\n",
              "      border-top-color: var(--fill-color);\n",
              "    }\n",
              "    60% {\n",
              "      border-color: transparent;\n",
              "      border-right-color: var(--fill-color);\n",
              "    }\n",
              "    80% {\n",
              "      border-color: transparent;\n",
              "      border-right-color: var(--fill-color);\n",
              "      border-bottom-color: var(--fill-color);\n",
              "    }\n",
              "    90% {\n",
              "      border-color: transparent;\n",
              "      border-bottom-color: var(--fill-color);\n",
              "    }\n",
              "  }\n",
              "</style>\n",
              "\n",
              "  <script>\n",
              "    async function quickchart(key) {\n",
              "      const quickchartButtonEl =\n",
              "        document.querySelector('#' + key + ' button');\n",
              "      quickchartButtonEl.disabled = true;  // To prevent multiple clicks.\n",
              "      quickchartButtonEl.classList.add('colab-df-spinner');\n",
              "      try {\n",
              "        const charts = await google.colab.kernel.invokeFunction(\n",
              "            'suggestCharts', [key], {});\n",
              "      } catch (error) {\n",
              "        console.error('Error during call to suggestCharts:', error);\n",
              "      }\n",
              "      quickchartButtonEl.classList.remove('colab-df-spinner');\n",
              "      quickchartButtonEl.classList.add('colab-df-quickchart-complete');\n",
              "    }\n",
              "    (() => {\n",
              "      let quickchartButtonEl =\n",
              "        document.querySelector('#df-7ae5ab8d-1f8d-4e9b-b311-ce7add88bce9 button');\n",
              "      quickchartButtonEl.style.display =\n",
              "        google.colab.kernel.accessAllowed ? 'block' : 'none';\n",
              "    })();\n",
              "  </script>\n",
              "</div>\n",
              "\n",
              "  <div id=\"id_843b4350-dd62-4bc0-a6cf-a38ecaa75e89\">\n",
              "    <style>\n",
              "      .colab-df-generate {\n",
              "        background-color: #E8F0FE;\n",
              "        border: none;\n",
              "        border-radius: 50%;\n",
              "        cursor: pointer;\n",
              "        display: none;\n",
              "        fill: #1967D2;\n",
              "        height: 32px;\n",
              "        padding: 0 0 0 0;\n",
              "        width: 32px;\n",
              "      }\n",
              "\n",
              "      .colab-df-generate:hover {\n",
              "        background-color: #E2EBFA;\n",
              "        box-shadow: 0px 1px 2px rgba(60, 64, 67, 0.3), 0px 1px 3px 1px rgba(60, 64, 67, 0.15);\n",
              "        fill: #174EA6;\n",
              "      }\n",
              "\n",
              "      [theme=dark] .colab-df-generate {\n",
              "        background-color: #3B4455;\n",
              "        fill: #D2E3FC;\n",
              "      }\n",
              "\n",
              "      [theme=dark] .colab-df-generate:hover {\n",
              "        background-color: #434B5C;\n",
              "        box-shadow: 0px 1px 3px 1px rgba(0, 0, 0, 0.15);\n",
              "        filter: drop-shadow(0px 1px 2px rgba(0, 0, 0, 0.3));\n",
              "        fill: #FFFFFF;\n",
              "      }\n",
              "    </style>\n",
              "    <button class=\"colab-df-generate\" onclick=\"generateWithVariable('df')\"\n",
              "            title=\"Generate code using this dataframe.\"\n",
              "            style=\"display:none;\">\n",
              "\n",
              "  <svg xmlns=\"http://www.w3.org/2000/svg\" height=\"24px\"viewBox=\"0 0 24 24\"\n",
              "       width=\"24px\">\n",
              "    <path d=\"M7,19H8.4L18.45,9,17,7.55,7,17.6ZM5,21V16.75L18.45,3.32a2,2,0,0,1,2.83,0l1.4,1.43a1.91,1.91,0,0,1,.58,1.4,1.91,1.91,0,0,1-.58,1.4L9.25,21ZM18.45,9,17,7.55Zm-12,3A5.31,5.31,0,0,0,4.9,8.1,5.31,5.31,0,0,0,1,6.5,5.31,5.31,0,0,0,4.9,4.9,5.31,5.31,0,0,0,6.5,1,5.31,5.31,0,0,0,8.1,4.9,5.31,5.31,0,0,0,12,6.5,5.46,5.46,0,0,0,6.5,12Z\"/>\n",
              "  </svg>\n",
              "    </button>\n",
              "    <script>\n",
              "      (() => {\n",
              "      const buttonEl =\n",
              "        document.querySelector('#id_843b4350-dd62-4bc0-a6cf-a38ecaa75e89 button.colab-df-generate');\n",
              "      buttonEl.style.display =\n",
              "        google.colab.kernel.accessAllowed ? 'block' : 'none';\n",
              "\n",
              "      buttonEl.onclick = () => {\n",
              "        google.colab.notebook.generateWithVariable('df');\n",
              "      }\n",
              "      })();\n",
              "    </script>\n",
              "  </div>\n",
              "\n",
              "    </div>\n",
              "  </div>\n"
            ],
            "text/plain": [
              "                                                   title  \\\n",
              "0      \\r\\r\\r\\r\\r\\r\\r\\nDonald Trump Gets His A Handed...   \n",
              "1      \\r\\r\\r\\r\\r\\r\\r\\nExGOP Congressman Shreds Fello...   \n",
              "2      \\r\\r\\r\\r\\r\\r\\r\\nTrump Gets STOMPED For Whining...   \n",
              "3      \\r\\r\\r\\r\\r\\r\\r\\nWATCH Democratic Rep Delivers ...   \n",
              "4       AfterTrumpImplodes Hashtag Hilariously Imagin...   \n",
              "...                                                  ...   \n",
              "75770  white coat summit dr 99 8 percent of people ge...   \n",
              "75771  who the hel elected you dorsey admits theres n...   \n",
              "75772  woke business list still demanding masks in fr...   \n",
              "75773             you spent a fing week on pneumoniagate   \n",
              "75774  Bill Clinton and Hillary Lolita Express Pedoph...   \n",
              "\n",
              "                                         lemmatized_text  label       subject  \\\n",
              "0      yearold girl smacked donald trump amazingon sa...      0  General News   \n",
              "1      point every republican refuse spine stand dona...      0  General News   \n",
              "2      donald trump attacking president obama campaig...      0  General News   \n",
              "3      massachusetts rep jim mcgovern brought house s...      0  General News   \n",
              "4      world like postdonald trump new hashtag aftert...      0  General News   \n",
              "...                                                  ...    ...           ...   \n",
              "75770  percent people get little progressive signific...      0       Unknown   \n",
              "75771  twitter facebook google running protection rac...      0       Unknown   \n",
              "75772  one new coowners privateequity firm engulfed c...      0       Unknown   \n",
              "75773  people perceive womens health energy level cam...      1       Unknown   \n",
              "75774  bill clinton hillary lolita express pedophilia...      1       Unknown   \n",
              "\n",
              "       text_length  title_length  \n",
              "0             2566            79  \n",
              "1             1925           104  \n",
              "2             3389           106  \n",
              "3             3358           117  \n",
              "4             3092            86  \n",
              "...            ...           ...  \n",
              "75770         1812            90  \n",
              "75771         8215            91  \n",
              "75772         2190            54  \n",
              "75773        14102            38  \n",
              "75774          902            55  \n",
              "\n",
              "[75775 rows x 6 columns]"
            ]
          },
          "execution_count": 4,
          "metadata": {},
          "output_type": "execute_result"
        }
      ],
      "source": [
        "df = pd.read_csv('/content/drive/MyDrive/Truth_Seeker/cleaned_master_data.csv')\n",
        "df"
      ]
    },
    {
      "cell_type": "code",
      "execution_count": null,
      "metadata": {
        "id": "SwPQC_m5GMrz"
      },
      "outputs": [],
      "source": [
        "X = df['lemmatized_text'].astype(str)\n",
        "y = df['label']"
      ]
    },
    {
      "cell_type": "code",
      "execution_count": null,
      "metadata": {
        "id": "2uATC5MsGTMG"
      },
      "outputs": [],
      "source": [
        "tokenizer = Tokenizer(num_words=10000)\n",
        "tokenizer.fit_on_texts(X)\n",
        "X = tokenizer.texts_to_sequences(X)"
      ]
    },
    {
      "cell_type": "code",
      "execution_count": null,
      "metadata": {
        "id": "azGaQ6_LGda2"
      },
      "outputs": [],
      "source": [
        "import numpy as np\n",
        "y = np.array(y)"
      ]
    },
    {
      "cell_type": "code",
      "execution_count": null,
      "metadata": {
        "id": "iPV6dFXEGYwE"
      },
      "outputs": [],
      "source": [
        "from tensorflow.keras.preprocessing.sequence import pad_sequences\n",
        "max_sequence_length = 500\n",
        "truncated_sequences = [seq[:max_sequence_length] for seq in X]\n",
        "X = pad_sequences(truncated_sequences, maxlen=max_sequence_length)"
      ]
    },
    {
      "cell_type": "code",
      "execution_count": null,
      "metadata": {
        "colab": {
          "base_uri": "https://localhost:8080/"
        },
        "id": "wInSSN1qFpLx",
        "outputId": "e42108b2-2d91-4f2f-bdd1-9f8060a3f10f"
      },
      "outputs": [
        {
          "name": "stderr",
          "output_type": "stream",
          "text": [
            "/usr/local/lib/python3.10/dist-packages/keras/src/layers/core/embedding.py:90: UserWarning: Argument `input_length` is deprecated. Just remove it.\n",
            "  warnings.warn(\n"
          ]
        }
      ],
      "source": [
        "model.add(Embedding(input_dim=10000, output_dim=128, input_length=X.shape[1]))"
      ]
    },
    {
      "cell_type": "code",
      "execution_count": null,
      "metadata": {
        "id": "ymeKNyQWLnfA"
      },
      "outputs": [],
      "source": [
        "model.add(LSTM(units=64, return_sequences=True))\n",
        "model.add(BatchNormalization())\n",
        "model.add(Dropout(0.3))"
      ]
    },
    {
      "cell_type": "code",
      "execution_count": null,
      "metadata": {
        "id": "NVuNT_6ALzsX"
      },
      "outputs": [],
      "source": [
        "model.add(LSTM(units=32))\n",
        "model.add(BatchNormalization())\n",
        "model.add(Dropout(0.3))"
      ]
    },
    {
      "cell_type": "code",
      "execution_count": null,
      "metadata": {
        "id": "Jp0lHgDgL3M3"
      },
      "outputs": [],
      "source": [
        "model.add(Dense(1, activation='sigmoid'))"
      ]
    },
    {
      "cell_type": "code",
      "execution_count": null,
      "metadata": {
        "id": "EWxAaMYTL6bv"
      },
      "outputs": [],
      "source": [
        "model.compile(optimizer='adam', loss='binary_crossentropy', metrics=['accuracy'])"
      ]
    },
    {
      "cell_type": "code",
      "execution_count": null,
      "metadata": {
        "id": "NZrQiJK9MPHI"
      },
      "outputs": [],
      "source": [
        "from sklearn.model_selection import train_test_split\n",
        "X_train, X_test, y_train, y_test = train_test_split(X, y, test_size=0.2, random_state=42)"
      ]
    },
    {
      "cell_type": "code",
      "execution_count": null,
      "metadata": {
        "id": "2HA5fQtVL81A"
      },
      "outputs": [],
      "source": [
        "from keras.callbacks import EarlyStopping\n",
        "early_stop = EarlyStopping(monitor='val_loss', patience=3, restore_best_weights=True)"
      ]
    },
    {
      "cell_type": "code",
      "execution_count": null,
      "metadata": {
        "colab": {
          "base_uri": "https://localhost:8080/"
        },
        "id": "628ofLUlL_O5",
        "outputId": "652d4522-e63e-434e-b743-304eb461db0a"
      },
      "outputs": [
        {
          "name": "stdout",
          "output_type": "stream",
          "text": [
            "Epoch 1/10\n",
            "\u001b[1m956/956\u001b[0m \u001b[32m━━━━━━━━━━━━━━━━━━━━\u001b[0m\u001b[37m\u001b[0m \u001b[1m1101s\u001b[0m 1s/step - accuracy: 0.8171 - loss: 0.4090 - val_accuracy: 0.8990 - val_loss: 0.2406\n",
            "Epoch 2/10\n",
            "\u001b[1m956/956\u001b[0m \u001b[32m━━━━━━━━━━━━━━━━━━━━\u001b[0m\u001b[37m\u001b[0m \u001b[1m1104s\u001b[0m 1s/step - accuracy: 0.9160 - loss: 0.2088 - val_accuracy: 0.9210 - val_loss: 0.1957\n",
            "Epoch 3/10\n",
            "\u001b[1m956/956\u001b[0m \u001b[32m━━━━━━━━━━━━━━━━━━━━\u001b[0m\u001b[37m\u001b[0m \u001b[1m1110s\u001b[0m 1s/step - accuracy: 0.9434 - loss: 0.1503 - val_accuracy: 0.9113 - val_loss: 0.2181\n",
            "Epoch 4/10\n",
            "\u001b[1m956/956\u001b[0m \u001b[32m━━━━━━━━━━━━━━━━━━━━\u001b[0m\u001b[37m\u001b[0m \u001b[1m1123s\u001b[0m 1s/step - accuracy: 0.9629 - loss: 0.1050 - val_accuracy: 0.9176 - val_loss: 0.2242\n",
            "Epoch 5/10\n",
            "\u001b[1m956/956\u001b[0m \u001b[32m━━━━━━━━━━━━━━━━━━━━\u001b[0m\u001b[37m\u001b[0m \u001b[1m1160s\u001b[0m 1s/step - accuracy: 0.9714 - loss: 0.0805 - val_accuracy: 0.9187 - val_loss: 0.2681\n"
          ]
        },
        {
          "data": {
            "text/plain": [
              "<keras.src.callbacks.history.History at 0x79f2cae5f190>"
            ]
          },
          "execution_count": 23,
          "metadata": {},
          "output_type": "execute_result"
        }
      ],
      "source": [
        "model.fit(X_train, y_train, validation_data=(X_test, y_test), epochs=10, batch_size=64, callbacks=[early_stop])"
      ]
    },
    {
      "cell_type": "code",
      "execution_count": null,
      "metadata": {
        "colab": {
          "base_uri": "https://localhost:8080/"
        },
        "id": "skshnyoaMA0s",
        "outputId": "d9842543-a953-4104-82b2-e0c94165ad88"
      },
      "outputs": [
        {
          "name": "stdout",
          "output_type": "stream",
          "text": [
            "\u001b[1m478/478\u001b[0m \u001b[32m━━━━━━━━━━━━━━━━━━━━\u001b[0m\u001b[37m\u001b[0m \u001b[1m71s\u001b[0m 149ms/step - accuracy: 0.9201 - loss: 0.1988\n",
            "Test Accuracy: 92.10%\n"
          ]
        }
      ],
      "source": [
        "loss, accuracy = model.evaluate(X_test, y_test)\n",
        "print(f\"Test Accuracy: {accuracy * 100:.2f}%\")"
      ]
    },
    {
      "cell_type": "code",
      "execution_count": null,
      "metadata": {
        "colab": {
          "base_uri": "https://localhost:8080/"
        },
        "id": "Wisq3o2GMCDp",
        "outputId": "db3fd1f4-9b3f-4a8c-802c-de30076612dc"
      },
      "outputs": [
        {
          "name": "stderr",
          "output_type": "stream",
          "text": [
            "WARNING:absl:You are saving your model as an HDF5 file via `model.save()` or `keras.saving.save_model(model)`. This file format is considered legacy. We recommend using instead the native Keras format, e.g. `model.save('my_model.keras')` or `keras.saving.save_model(model, 'my_model.keras')`. \n"
          ]
        }
      ],
      "source": [
        "model.save(r\"/content/drive/MyDrive/Truth_Seeker/lstm_model.h5\")"
      ]
    },
    {
      "cell_type": "markdown",
      "metadata": {
        "id": "I--7rv0MnN9s"
      },
      "source": [
        "#GRU"
      ]
    },
    {
      "cell_type": "code",
      "execution_count": 5,
      "metadata": {
        "id": "nl1O8Hcxthfv"
      },
      "outputs": [],
      "source": [
        "import numpy as np\n",
        "from sklearn.model_selection import train_test_split\n",
        "import pandas as pd\n",
        "\n",
        "df = pd.read_csv('/content/drive/MyDrive/Truth_Seeker/revised_cleaned_master_data.csv')"
      ]
    },
    {
      "cell_type": "code",
      "source": [
        "df.head()"
      ],
      "metadata": {
        "colab": {
          "base_uri": "https://localhost:8080/",
          "height": 226
        },
        "id": "iM2WDO4TzaEb",
        "outputId": "20ec86f3-c773-4517-d791-74abbacf3bea"
      },
      "execution_count": 3,
      "outputs": [
        {
          "output_type": "execute_result",
          "data": {
            "text/plain": [
              "                                               title  \\\n",
              "0  \\r\\r\\r\\r\\r\\r\\r\\nDonald Trump Gets His A Handed...   \n",
              "1  \\r\\r\\r\\r\\r\\r\\r\\nExGOP Congressman Shreds Fello...   \n",
              "2  \\r\\r\\r\\r\\r\\r\\r\\nTrump Gets STOMPED For Whining...   \n",
              "3  \\r\\r\\r\\r\\r\\r\\r\\nWATCH Democratic Rep Delivers ...   \n",
              "4   AfterTrumpImplodes Hashtag Hilariously Imagin...   \n",
              "\n",
              "                                                text  label subject  \\\n",
              "0  A 10yearold girl smacked down Donald Trump and...      0    News   \n",
              "1  At this point every Republican who refuses to ...      0    News   \n",
              "2  Donald Trump has been attacking President Obam...      0    News   \n",
              "3  Massachusetts Rep Jim McGovern brought the Hou...      0    News   \n",
              "4  What will the world be like postDonald Trump A...      0    News   \n",
              "\n",
              "   text_length                                    lemmatized_text  \n",
              "0         2566  yearold girl smacked donald trump amazingon sa...  \n",
              "1         1925  point every republican refuse spine stand dona...  \n",
              "2         3389  donald trump attacking president obama campaig...  \n",
              "3         3358  massachusetts rep jim mcgovern brought house s...  \n",
              "4         3092  world like postdonald trump new hashtag aftert...  "
            ],
            "text/html": [
              "\n",
              "  <div id=\"df-b7f7e6da-7a9e-4959-a422-5c2091ac63da\" class=\"colab-df-container\">\n",
              "    <div>\n",
              "<style scoped>\n",
              "    .dataframe tbody tr th:only-of-type {\n",
              "        vertical-align: middle;\n",
              "    }\n",
              "\n",
              "    .dataframe tbody tr th {\n",
              "        vertical-align: top;\n",
              "    }\n",
              "\n",
              "    .dataframe thead th {\n",
              "        text-align: right;\n",
              "    }\n",
              "</style>\n",
              "<table border=\"1\" class=\"dataframe\">\n",
              "  <thead>\n",
              "    <tr style=\"text-align: right;\">\n",
              "      <th></th>\n",
              "      <th>title</th>\n",
              "      <th>text</th>\n",
              "      <th>label</th>\n",
              "      <th>subject</th>\n",
              "      <th>text_length</th>\n",
              "      <th>lemmatized_text</th>\n",
              "    </tr>\n",
              "  </thead>\n",
              "  <tbody>\n",
              "    <tr>\n",
              "      <th>0</th>\n",
              "      <td>\\r\\r\\r\\r\\r\\r\\r\\nDonald Trump Gets His A Handed...</td>\n",
              "      <td>A 10yearold girl smacked down Donald Trump and...</td>\n",
              "      <td>0</td>\n",
              "      <td>News</td>\n",
              "      <td>2566</td>\n",
              "      <td>yearold girl smacked donald trump amazingon sa...</td>\n",
              "    </tr>\n",
              "    <tr>\n",
              "      <th>1</th>\n",
              "      <td>\\r\\r\\r\\r\\r\\r\\r\\nExGOP Congressman Shreds Fello...</td>\n",
              "      <td>At this point every Republican who refuses to ...</td>\n",
              "      <td>0</td>\n",
              "      <td>News</td>\n",
              "      <td>1925</td>\n",
              "      <td>point every republican refuse spine stand dona...</td>\n",
              "    </tr>\n",
              "    <tr>\n",
              "      <th>2</th>\n",
              "      <td>\\r\\r\\r\\r\\r\\r\\r\\nTrump Gets STOMPED For Whining...</td>\n",
              "      <td>Donald Trump has been attacking President Obam...</td>\n",
              "      <td>0</td>\n",
              "      <td>News</td>\n",
              "      <td>3389</td>\n",
              "      <td>donald trump attacking president obama campaig...</td>\n",
              "    </tr>\n",
              "    <tr>\n",
              "      <th>3</th>\n",
              "      <td>\\r\\r\\r\\r\\r\\r\\r\\nWATCH Democratic Rep Delivers ...</td>\n",
              "      <td>Massachusetts Rep Jim McGovern brought the Hou...</td>\n",
              "      <td>0</td>\n",
              "      <td>News</td>\n",
              "      <td>3358</td>\n",
              "      <td>massachusetts rep jim mcgovern brought house s...</td>\n",
              "    </tr>\n",
              "    <tr>\n",
              "      <th>4</th>\n",
              "      <td>AfterTrumpImplodes Hashtag Hilariously Imagin...</td>\n",
              "      <td>What will the world be like postDonald Trump A...</td>\n",
              "      <td>0</td>\n",
              "      <td>News</td>\n",
              "      <td>3092</td>\n",
              "      <td>world like postdonald trump new hashtag aftert...</td>\n",
              "    </tr>\n",
              "  </tbody>\n",
              "</table>\n",
              "</div>\n",
              "    <div class=\"colab-df-buttons\">\n",
              "\n",
              "  <div class=\"colab-df-container\">\n",
              "    <button class=\"colab-df-convert\" onclick=\"convertToInteractive('df-b7f7e6da-7a9e-4959-a422-5c2091ac63da')\"\n",
              "            title=\"Convert this dataframe to an interactive table.\"\n",
              "            style=\"display:none;\">\n",
              "\n",
              "  <svg xmlns=\"http://www.w3.org/2000/svg\" height=\"24px\" viewBox=\"0 -960 960 960\">\n",
              "    <path d=\"M120-120v-720h720v720H120Zm60-500h600v-160H180v160Zm220 220h160v-160H400v160Zm0 220h160v-160H400v160ZM180-400h160v-160H180v160Zm440 0h160v-160H620v160ZM180-180h160v-160H180v160Zm440 0h160v-160H620v160Z\"/>\n",
              "  </svg>\n",
              "    </button>\n",
              "\n",
              "  <style>\n",
              "    .colab-df-container {\n",
              "      display:flex;\n",
              "      gap: 12px;\n",
              "    }\n",
              "\n",
              "    .colab-df-convert {\n",
              "      background-color: #E8F0FE;\n",
              "      border: none;\n",
              "      border-radius: 50%;\n",
              "      cursor: pointer;\n",
              "      display: none;\n",
              "      fill: #1967D2;\n",
              "      height: 32px;\n",
              "      padding: 0 0 0 0;\n",
              "      width: 32px;\n",
              "    }\n",
              "\n",
              "    .colab-df-convert:hover {\n",
              "      background-color: #E2EBFA;\n",
              "      box-shadow: 0px 1px 2px rgba(60, 64, 67, 0.3), 0px 1px 3px 1px rgba(60, 64, 67, 0.15);\n",
              "      fill: #174EA6;\n",
              "    }\n",
              "\n",
              "    .colab-df-buttons div {\n",
              "      margin-bottom: 4px;\n",
              "    }\n",
              "\n",
              "    [theme=dark] .colab-df-convert {\n",
              "      background-color: #3B4455;\n",
              "      fill: #D2E3FC;\n",
              "    }\n",
              "\n",
              "    [theme=dark] .colab-df-convert:hover {\n",
              "      background-color: #434B5C;\n",
              "      box-shadow: 0px 1px 3px 1px rgba(0, 0, 0, 0.15);\n",
              "      filter: drop-shadow(0px 1px 2px rgba(0, 0, 0, 0.3));\n",
              "      fill: #FFFFFF;\n",
              "    }\n",
              "  </style>\n",
              "\n",
              "    <script>\n",
              "      const buttonEl =\n",
              "        document.querySelector('#df-b7f7e6da-7a9e-4959-a422-5c2091ac63da button.colab-df-convert');\n",
              "      buttonEl.style.display =\n",
              "        google.colab.kernel.accessAllowed ? 'block' : 'none';\n",
              "\n",
              "      async function convertToInteractive(key) {\n",
              "        const element = document.querySelector('#df-b7f7e6da-7a9e-4959-a422-5c2091ac63da');\n",
              "        const dataTable =\n",
              "          await google.colab.kernel.invokeFunction('convertToInteractive',\n",
              "                                                    [key], {});\n",
              "        if (!dataTable) return;\n",
              "\n",
              "        const docLinkHtml = 'Like what you see? Visit the ' +\n",
              "          '<a target=\"_blank\" href=https://colab.research.google.com/notebooks/data_table.ipynb>data table notebook</a>'\n",
              "          + ' to learn more about interactive tables.';\n",
              "        element.innerHTML = '';\n",
              "        dataTable['output_type'] = 'display_data';\n",
              "        await google.colab.output.renderOutput(dataTable, element);\n",
              "        const docLink = document.createElement('div');\n",
              "        docLink.innerHTML = docLinkHtml;\n",
              "        element.appendChild(docLink);\n",
              "      }\n",
              "    </script>\n",
              "  </div>\n",
              "\n",
              "\n",
              "<div id=\"df-8ec1250b-37cc-4431-8cf5-324a40334bf8\">\n",
              "  <button class=\"colab-df-quickchart\" onclick=\"quickchart('df-8ec1250b-37cc-4431-8cf5-324a40334bf8')\"\n",
              "            title=\"Suggest charts\"\n",
              "            style=\"display:none;\">\n",
              "\n",
              "<svg xmlns=\"http://www.w3.org/2000/svg\" height=\"24px\"viewBox=\"0 0 24 24\"\n",
              "     width=\"24px\">\n",
              "    <g>\n",
              "        <path d=\"M19 3H5c-1.1 0-2 .9-2 2v14c0 1.1.9 2 2 2h14c1.1 0 2-.9 2-2V5c0-1.1-.9-2-2-2zM9 17H7v-7h2v7zm4 0h-2V7h2v10zm4 0h-2v-4h2v4z\"/>\n",
              "    </g>\n",
              "</svg>\n",
              "  </button>\n",
              "\n",
              "<style>\n",
              "  .colab-df-quickchart {\n",
              "      --bg-color: #E8F0FE;\n",
              "      --fill-color: #1967D2;\n",
              "      --hover-bg-color: #E2EBFA;\n",
              "      --hover-fill-color: #174EA6;\n",
              "      --disabled-fill-color: #AAA;\n",
              "      --disabled-bg-color: #DDD;\n",
              "  }\n",
              "\n",
              "  [theme=dark] .colab-df-quickchart {\n",
              "      --bg-color: #3B4455;\n",
              "      --fill-color: #D2E3FC;\n",
              "      --hover-bg-color: #434B5C;\n",
              "      --hover-fill-color: #FFFFFF;\n",
              "      --disabled-bg-color: #3B4455;\n",
              "      --disabled-fill-color: #666;\n",
              "  }\n",
              "\n",
              "  .colab-df-quickchart {\n",
              "    background-color: var(--bg-color);\n",
              "    border: none;\n",
              "    border-radius: 50%;\n",
              "    cursor: pointer;\n",
              "    display: none;\n",
              "    fill: var(--fill-color);\n",
              "    height: 32px;\n",
              "    padding: 0;\n",
              "    width: 32px;\n",
              "  }\n",
              "\n",
              "  .colab-df-quickchart:hover {\n",
              "    background-color: var(--hover-bg-color);\n",
              "    box-shadow: 0 1px 2px rgba(60, 64, 67, 0.3), 0 1px 3px 1px rgba(60, 64, 67, 0.15);\n",
              "    fill: var(--button-hover-fill-color);\n",
              "  }\n",
              "\n",
              "  .colab-df-quickchart-complete:disabled,\n",
              "  .colab-df-quickchart-complete:disabled:hover {\n",
              "    background-color: var(--disabled-bg-color);\n",
              "    fill: var(--disabled-fill-color);\n",
              "    box-shadow: none;\n",
              "  }\n",
              "\n",
              "  .colab-df-spinner {\n",
              "    border: 2px solid var(--fill-color);\n",
              "    border-color: transparent;\n",
              "    border-bottom-color: var(--fill-color);\n",
              "    animation:\n",
              "      spin 1s steps(1) infinite;\n",
              "  }\n",
              "\n",
              "  @keyframes spin {\n",
              "    0% {\n",
              "      border-color: transparent;\n",
              "      border-bottom-color: var(--fill-color);\n",
              "      border-left-color: var(--fill-color);\n",
              "    }\n",
              "    20% {\n",
              "      border-color: transparent;\n",
              "      border-left-color: var(--fill-color);\n",
              "      border-top-color: var(--fill-color);\n",
              "    }\n",
              "    30% {\n",
              "      border-color: transparent;\n",
              "      border-left-color: var(--fill-color);\n",
              "      border-top-color: var(--fill-color);\n",
              "      border-right-color: var(--fill-color);\n",
              "    }\n",
              "    40% {\n",
              "      border-color: transparent;\n",
              "      border-right-color: var(--fill-color);\n",
              "      border-top-color: var(--fill-color);\n",
              "    }\n",
              "    60% {\n",
              "      border-color: transparent;\n",
              "      border-right-color: var(--fill-color);\n",
              "    }\n",
              "    80% {\n",
              "      border-color: transparent;\n",
              "      border-right-color: var(--fill-color);\n",
              "      border-bottom-color: var(--fill-color);\n",
              "    }\n",
              "    90% {\n",
              "      border-color: transparent;\n",
              "      border-bottom-color: var(--fill-color);\n",
              "    }\n",
              "  }\n",
              "</style>\n",
              "\n",
              "  <script>\n",
              "    async function quickchart(key) {\n",
              "      const quickchartButtonEl =\n",
              "        document.querySelector('#' + key + ' button');\n",
              "      quickchartButtonEl.disabled = true;  // To prevent multiple clicks.\n",
              "      quickchartButtonEl.classList.add('colab-df-spinner');\n",
              "      try {\n",
              "        const charts = await google.colab.kernel.invokeFunction(\n",
              "            'suggestCharts', [key], {});\n",
              "      } catch (error) {\n",
              "        console.error('Error during call to suggestCharts:', error);\n",
              "      }\n",
              "      quickchartButtonEl.classList.remove('colab-df-spinner');\n",
              "      quickchartButtonEl.classList.add('colab-df-quickchart-complete');\n",
              "    }\n",
              "    (() => {\n",
              "      let quickchartButtonEl =\n",
              "        document.querySelector('#df-8ec1250b-37cc-4431-8cf5-324a40334bf8 button');\n",
              "      quickchartButtonEl.style.display =\n",
              "        google.colab.kernel.accessAllowed ? 'block' : 'none';\n",
              "    })();\n",
              "  </script>\n",
              "</div>\n",
              "\n",
              "    </div>\n",
              "  </div>\n"
            ],
            "application/vnd.google.colaboratory.intrinsic+json": {
              "type": "dataframe",
              "variable_name": "df",
              "summary": "{\n  \"name\": \"df\",\n  \"rows\": 76461,\n  \"fields\": [\n    {\n      \"column\": \"title\",\n      \"properties\": {\n        \"dtype\": \"string\",\n        \"num_unique_values\": 74894,\n        \"samples\": [\n          \"India eyes airport in Sri Lanka near Chinese Belt and Road outpost\",\n          \"A peek behind the nrcc fundraising curtain\",\n          \" Trump HUMILIATED As WH Walks Back His Attack After Soldiers Mom Confirms His Insensitive Phone Call\"\n        ],\n        \"semantic_type\": \"\",\n        \"description\": \"\"\n      }\n    },\n    {\n      \"column\": \"text\",\n      \"properties\": {\n        \"dtype\": \"string\",\n        \"num_unique_values\": 76460,\n        \"samples\": [\n          \"If the way Donald Trump reportedly ran the MaraLago resort in Palm Beach is any indication if he wins he will be taking full advantage of every spy agency in his charge just for his own agendaAccording to six former employees at the resort Trump had a telephone console in his room that allowed him to tap into every single phone in the place He often listened in on staff calls but he could also listen in on guest calls although the GOP frontrunner s spokeswoman denies itAccording to Buzzfeed who spoke to six former employees four of whom spoke under the condition of anonymity because of nondisclosure agreements this is indeed true Those four said he listened in from the private room he keeps during the mid2000sThey said he listened in on calls between club employees or in some cases between staff and guests None of them knew of Trump eavesdropping on guests or members talking on private calls with people who were not employees of MaraLago They also said that Trump could eavesdrop only on calls made on the club s landlines and not on calls made from guests  cell phonesEach of these four sources said they personally saw the telephone console which some referred to as a switchboard in Trump s bedroomNone of the four supports Trump s bid for president All said they enjoyed their time working at MaraLagoThe two other employees did not wish to remain anonymous They are Trump s former butler the one who wants Obama killed and Trump s former security director both of whom support Trump s run for president said that the console was only to make phone callsTrump the presumptive Republican nominee is running at a time when Americans are increasingly concerned about surveillance   both by the government and by their employers Some of his own campaign staff feared that their offices in Trump Tower in New York might be bugged the New York Times reported last month Trump has backed the NSA s bulk collection of metadata telling conservative radio host Hugh Hewitt that  I tend to err on the side of security  Trump added  I assume when I pick up my telephone people are listening to my conversations anyway if you want to know the truth If Trump was listening in on guests  calls that was certainly a violation of Florida law The law is less clear on calls involving employees but since both parties in Florida need to be notified if the second party is not an employee that is legally murky at bestThis accusation is frightening I have always been of the opinion that Trump is running for the job of dictator hence his admiration of Putin and Kim Jong Un This does not bode well All I can say is I hope Hillary Clinton s offices are locked down tight or we ll have another Watergate on our handsFeatured image via John Moore at Getty Images\",\n          \"Cbc toronto  november 20 2020 this is not going to end These lockdowns are going to go on forever until these tyrants imposing these measures are held accountable for their crimes What they are doing is criminal I find it impossible to believe that these people cant look at the available data and understand that the coronavirus is no more deadly than the flu All of these socalled health ministers and officials who have been pushing these lockdowns and other freedomdestroying measures need to be arrested put on trial and executed They are guilty of massive crimes against the people of the world\",\n          \"WASHINGTON Reuters  US President Donald Trump said on Friday he wants to see action to fix the flaws he sees in the Iran nuclear deal in a short period of time adding that he could end the deal instantaneously  We ll see what happens over the next short period of time and I can do that instantaneously  Trump told reporters when asked why he did not choose to scrap the deal now  I like a twostep process much better  said Trump who was speaking shortly after he announced he would not certify the 2015 deal aimed at preventing Iran from developing a nuclear bomb in a major shift in US policy \"\n        ],\n        \"semantic_type\": \"\",\n        \"description\": \"\"\n      }\n    },\n    {\n      \"column\": \"label\",\n      \"properties\": {\n        \"dtype\": \"number\",\n        \"std\": 0,\n        \"min\": 0,\n        \"max\": 1,\n        \"num_unique_values\": 2,\n        \"samples\": [\n          1,\n          0\n        ],\n        \"semantic_type\": \"\",\n        \"description\": \"\"\n      }\n    },\n    {\n      \"column\": \"subject\",\n      \"properties\": {\n        \"dtype\": \"category\",\n        \"num_unique_values\": 8,\n        \"samples\": [\n          \"Unknown\",\n          \"left-news\"\n        ],\n        \"semantic_type\": \"\",\n        \"description\": \"\"\n      }\n    },\n    {\n      \"column\": \"text_length\",\n      \"properties\": {\n        \"dtype\": \"number\",\n        \"std\": 3843,\n        \"min\": 2,\n        \"max\": 130309,\n        \"num_unique_values\": 11842,\n        \"samples\": [\n          4603,\n          2804\n        ],\n        \"semantic_type\": \"\",\n        \"description\": \"\"\n      }\n    },\n    {\n      \"column\": \"lemmatized_text\",\n      \"properties\": {\n        \"dtype\": \"string\",\n        \"num_unique_values\": 76246,\n        \"samples\": [\n          \"diplomatic recognition muchneeded infrastructure economic assistance said brahma chellaney professor strategic study centre policy research new delhi opportunistic china certain exploit new opening make strategic inroad mineralrich afghanistan deepen penetration pakistan iran central asia said bitter memory much cheering pakistan india discomfiture turn event said raza ahmad rumi political commentator teach ithaca college new york two country fought three war since became independent nation subcontinent divided jubilation pakistan witnessed social medium tv screen largely linked undoing indian influence conventional policy circle viewed ghanis close link india threat rumi said india bitter memory previous taliban stint power group link pakistan indian airline plane hijacked ultimately landed kandahar southern afghanistan new delhi freed three senior pakistani militant jail exchange return passenger taliban allowed hijacker released prisoner go pakistan position today one adjusting reality play long game afghanistan dont contiguous border stake said jayant prasad former indian ambassador kabul past year taliban emerged dominant force u brokered negotiation began doha indian diplomat opened line group diplomatic source new delhi said talking stakeholder one said want get specific discussion criticism home india put egg basket ghani government united state begun talk taliban new delhi left late rerun still india major economic player attractive taliban looking avoid overdependence china source said india development project every one afghanistan province small big including parliament building kabul built overrun guntoting taliban men sweeping city last week myra macdonald author three book south asia former reuters journalist said taliban takeover setback india game new delhi rerun past everyone going much careful time letting islamist terrorism afghanistan explode pre day plus relative term india much economically stronger pakistan time around senior member taliban told reuters impoverished afghanistan need help country region including iran well united state russia expect help u support people especially health sector especially business sector mining sector said waheedullah hashimi access group decisionmaking job convince accept u\",\n          \"philadelphia cnn grill democratic convention unofficial clubhouse striving medium type see seen nobody expecting see megyn kelly midnight cameo wednesday m kelly star fox news anchor center harassment scandal roiling network caught even jaded journalist nobody spotted m kelly outside secure fox compound week made clear open changing network contract run next year conspicuous sight m kelly hobnobbing cnn honcho like anderson cooper jeff zucker network president seemed calculated set certain class tongue wagging twitter m kelly accompanied burly bodyguard laughed donlemon dared u fox newsers swing cnn grill wrote posting selfie mr lemon cnn anchor thx way appearance m kelly joined fellow fox host dana perino signaled much changed fox since chairman roger ailes deposed fox personality rarely fraternized rival network greta van susteren spotted grill week perhaps new era hand know mr zucker chatting m kelly passed group reporter pretending notice get rumor started mr zucker said laughing walked\"\n        ],\n        \"semantic_type\": \"\",\n        \"description\": \"\"\n      }\n    }\n  ]\n}"
            }
          },
          "metadata": {},
          "execution_count": 3
        }
      ]
    },
    {
      "cell_type": "code",
      "execution_count": 6,
      "metadata": {
        "id": "CfgHR8tku1ah"
      },
      "outputs": [],
      "source": [
        "X = df['lemmatized_text'].astype(str)\n",
        "y = df['label']"
      ]
    },
    {
      "cell_type": "code",
      "execution_count": 7,
      "metadata": {
        "id": "prl9pJcaunek"
      },
      "outputs": [],
      "source": [
        "import tensorflow as tf\n",
        "from tensorflow.keras.preprocessing.text import Tokenizer\n",
        "tokenizer = Tokenizer(num_words=10000)\n",
        "tokenizer.fit_on_texts(X)\n",
        "X = tokenizer.texts_to_sequences(X)"
      ]
    },
    {
      "cell_type": "code",
      "execution_count": 8,
      "metadata": {
        "id": "4vut0D4GupDK"
      },
      "outputs": [],
      "source": [
        "from tensorflow.keras.preprocessing.sequence import pad_sequences\n",
        "X = pad_sequences(X, maxlen=515)\n",
        "y = np.array(y)"
      ]
    },
    {
      "cell_type": "code",
      "execution_count": 9,
      "metadata": {
        "id": "vct69pUiuqzZ"
      },
      "outputs": [],
      "source": [
        "X_train, X_test, y_train, y_test = train_test_split(X, y, test_size=0.2, random_state=42)"
      ]
    },
    {
      "cell_type": "code",
      "source": [
        "#GRU model\n",
        "from tensorflow.keras.models import Sequential\n",
        "from tensorflow.keras.layers import Embedding, GRU, Dense\n",
        "model = Sequential([\n",
        "    Embedding(input_dim=10000, output_dim=128, input_length=515),\n",
        "    GRU(64, return_sequences=False),\n",
        "    Dense(64, activation='relu'),\n",
        "    Dense(1, activation='sigmoid')\n",
        "])"
      ],
      "metadata": {
        "colab": {
          "base_uri": "https://localhost:8080/"
        },
        "id": "Q2wh7Ht_xTmK",
        "outputId": "f17c8848-5bfa-43d1-e9b2-c642c034e911"
      },
      "execution_count": 13,
      "outputs": [
        {
          "output_type": "stream",
          "name": "stderr",
          "text": [
            "/usr/local/lib/python3.10/dist-packages/keras/src/layers/core/embedding.py:90: UserWarning: Argument `input_length` is deprecated. Just remove it.\n",
            "  warnings.warn(\n"
          ]
        }
      ]
    },
    {
      "cell_type": "code",
      "execution_count": 14,
      "metadata": {
        "id": "UuD0xvT5uRBf"
      },
      "outputs": [],
      "source": [
        "# Compile the model\n",
        "model.compile(optimizer='adam', loss='binary_crossentropy', metrics=['accuracy'])"
      ]
    },
    {
      "cell_type": "code",
      "execution_count": 16,
      "metadata": {
        "colab": {
          "base_uri": "https://localhost:8080/"
        },
        "id": "GsU2z7hWuKVz",
        "outputId": "e5f225d9-b9d1-4bcc-bf94-74ce0d3c43c3"
      },
      "outputs": [
        {
          "output_type": "stream",
          "name": "stdout",
          "text": [
            "Epoch 1/10\n",
            "\u001b[1m383/383\u001b[0m \u001b[32m━━━━━━━━━━━━━━━━━━━━\u001b[0m\u001b[37m\u001b[0m \u001b[1m598s\u001b[0m 1s/step - accuracy: 0.8182 - loss: 0.4063 - val_accuracy: 0.8919 - val_loss: 0.2716\n",
            "Epoch 2/10\n",
            "\u001b[1m383/383\u001b[0m \u001b[32m━━━━━━━━━━━━━━━━━━━━\u001b[0m\u001b[37m\u001b[0m \u001b[1m600s\u001b[0m 1s/step - accuracy: 0.9220 - loss: 0.2023 - val_accuracy: 0.9107 - val_loss: 0.2284\n",
            "Epoch 3/10\n",
            "\u001b[1m383/383\u001b[0m \u001b[32m━━━━━━━━━━━━━━━━━━━━\u001b[0m\u001b[37m\u001b[0m \u001b[1m545s\u001b[0m 1s/step - accuracy: 0.9484 - loss: 0.1420 - val_accuracy: 0.9144 - val_loss: 0.2316\n",
            "Epoch 4/10\n",
            "\u001b[1m383/383\u001b[0m \u001b[32m━━━━━━━━━━━━━━━━━━━━\u001b[0m\u001b[37m\u001b[0m \u001b[1m542s\u001b[0m 1s/step - accuracy: 0.9624 - loss: 0.1076 - val_accuracy: 0.9055 - val_loss: 0.2675\n",
            "Epoch 5/10\n",
            "\u001b[1m383/383\u001b[0m \u001b[32m━━━━━━━━━━━━━━━━━━━━\u001b[0m\u001b[37m\u001b[0m \u001b[1m551s\u001b[0m 1s/step - accuracy: 0.9690 - loss: 0.0889 - val_accuracy: 0.9027 - val_loss: 0.2881\n"
          ]
        },
        {
          "output_type": "execute_result",
          "data": {
            "text/plain": [
              "<keras.src.callbacks.history.History at 0x7857dc70dd20>"
            ]
          },
          "metadata": {},
          "execution_count": 16
        }
      ],
      "source": [
        "# Train the model\n",
        "from keras.callbacks import EarlyStopping\n",
        "early_stop = EarlyStopping(monitor='val_loss', patience=3, restore_best_weights=True)\n",
        "model.fit(X_train, y_train,batch_size=128,epochs=10,validation_split=0.2,verbose=1,callbacks= [early_stop])"
      ]
    },
    {
      "cell_type": "code",
      "execution_count": 17,
      "metadata": {
        "id": "kZ2-fQDxuHYc",
        "colab": {
          "base_uri": "https://localhost:8080/"
        },
        "outputId": "9cf761e7-956d-4dd4-a70b-c6d32f03348d"
      },
      "outputs": [
        {
          "output_type": "stream",
          "name": "stdout",
          "text": [
            "\u001b[1m478/478\u001b[0m \u001b[32m━━━━━━━━━━━━━━━━━━━━\u001b[0m\u001b[37m\u001b[0m \u001b[1m44s\u001b[0m 91ms/step - accuracy: 0.9109 - loss: 0.2224\n",
            "Accuracy: 91.10%\n"
          ]
        }
      ],
      "source": [
        "# Evaluate the model\n",
        "loss, accuracy = model.evaluate(X_test, y_test)\n",
        "print(f\"Accuracy: {accuracy * 100:.2f}%\")"
      ]
    },
    {
      "cell_type": "code",
      "source": [
        "model.save(\"/content/drive/MyDrive/Truth_Seeker/gru_model.h5\")"
      ],
      "metadata": {
        "colab": {
          "base_uri": "https://localhost:8080/"
        },
        "id": "z6hWW1H69j7g",
        "outputId": "8b63db1b-ce20-4360-ed48-b50e5ef9ed89"
      },
      "execution_count": 18,
      "outputs": [
        {
          "output_type": "stream",
          "name": "stderr",
          "text": [
            "WARNING:absl:You are saving your model as an HDF5 file via `model.save()` or `keras.saving.save_model(model)`. This file format is considered legacy. We recommend using instead the native Keras format, e.g. `model.save('my_model.keras')` or `keras.saving.save_model(model, 'my_model.keras')`. \n"
          ]
        }
      ]
    },
    {
      "cell_type": "markdown",
      "source": [
        "#Bidirectional GRU"
      ],
      "metadata": {
        "id": "EUKXFbYq1VIr"
      }
    },
    {
      "cell_type": "code",
      "source": [
        "import numpy as np\n",
        "from sklearn.model_selection import train_test_split\n",
        "import pandas as pd\n",
        "\n",
        "df = pd.read_csv('/content/drive/MyDrive/Truth_Seeker/revised_cleaned_master_data.csv')\n",
        "df"
      ],
      "metadata": {
        "colab": {
          "base_uri": "https://localhost:8080/",
          "height": 444
        },
        "id": "70rz6lY76KvL",
        "outputId": "6b2ebb45-9769-47ba-d68c-de09c56647c2"
      },
      "execution_count": 1,
      "outputs": [
        {
          "output_type": "execute_result",
          "data": {
            "text/plain": [
              "                                                   title  \\\n",
              "0      \\r\\r\\r\\r\\r\\r\\r\\nDonald Trump Gets His A Handed...   \n",
              "1      \\r\\r\\r\\r\\r\\r\\r\\nExGOP Congressman Shreds Fello...   \n",
              "2      \\r\\r\\r\\r\\r\\r\\r\\nTrump Gets STOMPED For Whining...   \n",
              "3      \\r\\r\\r\\r\\r\\r\\r\\nWATCH Democratic Rep Delivers ...   \n",
              "4       AfterTrumpImplodes Hashtag Hilariously Imagin...   \n",
              "...                                                  ...   \n",
              "76456                                            Unknown   \n",
              "76457                                            Unknown   \n",
              "76458                                            Unknown   \n",
              "76459                                            Unknown   \n",
              "76460                                            Unknown   \n",
              "\n",
              "                                                    text  label  subject  \\\n",
              "0      A 10yearold girl smacked down Donald Trump and...      0     News   \n",
              "1      At this point every Republican who refuses to ...      0     News   \n",
              "2      Donald Trump has been attacking President Obam...      0     News   \n",
              "3      Massachusetts Rep Jim McGovern brought the Hou...      0     News   \n",
              "4      What will the world be like postDonald Trump A...      0     News   \n",
              "...                                                  ...    ...      ...   \n",
              "76456       you shouldve been swallowed you inbred swine      0  Unknown   \n",
              "76457  Do I know the risk involved in reporting on su...      0  Unknown   \n",
              "76458  If conservative Christians are about Jesus Chr...      0  Unknown   \n",
              "76459  Jesus will save his soul not his body Ignorant...      0  Unknown   \n",
              "76460                                  Leach Say no more      0  Unknown   \n",
              "\n",
              "       text_length                                    lemmatized_text  \n",
              "0             2566  yearold girl smacked donald trump amazingon sa...  \n",
              "1             1925  point every republican refuse spine stand dona...  \n",
              "2             3389  donald trump attacking president obama campaig...  \n",
              "3             3358  massachusetts rep jim mcgovern brought house s...  \n",
              "4             3092  world like postdonald trump new hashtag aftert...  \n",
              "...            ...                                                ...  \n",
              "76456           44                    shouldve swallowed inbred swine  \n",
              "76457          127  know risk involved reporting thing reporting t...  \n",
              "76458         2556  conservative christian jesus christ always see...  \n",
              "76459           60           jesus save soul body ignorant piece shit  \n",
              "76460           17                                          leach say  \n",
              "\n",
              "[76461 rows x 6 columns]"
            ],
            "text/html": [
              "\n",
              "  <div id=\"df-c73eaf14-b24c-4132-b1eb-bbc297be32ae\" class=\"colab-df-container\">\n",
              "    <div>\n",
              "<style scoped>\n",
              "    .dataframe tbody tr th:only-of-type {\n",
              "        vertical-align: middle;\n",
              "    }\n",
              "\n",
              "    .dataframe tbody tr th {\n",
              "        vertical-align: top;\n",
              "    }\n",
              "\n",
              "    .dataframe thead th {\n",
              "        text-align: right;\n",
              "    }\n",
              "</style>\n",
              "<table border=\"1\" class=\"dataframe\">\n",
              "  <thead>\n",
              "    <tr style=\"text-align: right;\">\n",
              "      <th></th>\n",
              "      <th>title</th>\n",
              "      <th>text</th>\n",
              "      <th>label</th>\n",
              "      <th>subject</th>\n",
              "      <th>text_length</th>\n",
              "      <th>lemmatized_text</th>\n",
              "    </tr>\n",
              "  </thead>\n",
              "  <tbody>\n",
              "    <tr>\n",
              "      <th>0</th>\n",
              "      <td>\\r\\r\\r\\r\\r\\r\\r\\nDonald Trump Gets His A Handed...</td>\n",
              "      <td>A 10yearold girl smacked down Donald Trump and...</td>\n",
              "      <td>0</td>\n",
              "      <td>News</td>\n",
              "      <td>2566</td>\n",
              "      <td>yearold girl smacked donald trump amazingon sa...</td>\n",
              "    </tr>\n",
              "    <tr>\n",
              "      <th>1</th>\n",
              "      <td>\\r\\r\\r\\r\\r\\r\\r\\nExGOP Congressman Shreds Fello...</td>\n",
              "      <td>At this point every Republican who refuses to ...</td>\n",
              "      <td>0</td>\n",
              "      <td>News</td>\n",
              "      <td>1925</td>\n",
              "      <td>point every republican refuse spine stand dona...</td>\n",
              "    </tr>\n",
              "    <tr>\n",
              "      <th>2</th>\n",
              "      <td>\\r\\r\\r\\r\\r\\r\\r\\nTrump Gets STOMPED For Whining...</td>\n",
              "      <td>Donald Trump has been attacking President Obam...</td>\n",
              "      <td>0</td>\n",
              "      <td>News</td>\n",
              "      <td>3389</td>\n",
              "      <td>donald trump attacking president obama campaig...</td>\n",
              "    </tr>\n",
              "    <tr>\n",
              "      <th>3</th>\n",
              "      <td>\\r\\r\\r\\r\\r\\r\\r\\nWATCH Democratic Rep Delivers ...</td>\n",
              "      <td>Massachusetts Rep Jim McGovern brought the Hou...</td>\n",
              "      <td>0</td>\n",
              "      <td>News</td>\n",
              "      <td>3358</td>\n",
              "      <td>massachusetts rep jim mcgovern brought house s...</td>\n",
              "    </tr>\n",
              "    <tr>\n",
              "      <th>4</th>\n",
              "      <td>AfterTrumpImplodes Hashtag Hilariously Imagin...</td>\n",
              "      <td>What will the world be like postDonald Trump A...</td>\n",
              "      <td>0</td>\n",
              "      <td>News</td>\n",
              "      <td>3092</td>\n",
              "      <td>world like postdonald trump new hashtag aftert...</td>\n",
              "    </tr>\n",
              "    <tr>\n",
              "      <th>...</th>\n",
              "      <td>...</td>\n",
              "      <td>...</td>\n",
              "      <td>...</td>\n",
              "      <td>...</td>\n",
              "      <td>...</td>\n",
              "      <td>...</td>\n",
              "    </tr>\n",
              "    <tr>\n",
              "      <th>76456</th>\n",
              "      <td>Unknown</td>\n",
              "      <td>you shouldve been swallowed you inbred swine</td>\n",
              "      <td>0</td>\n",
              "      <td>Unknown</td>\n",
              "      <td>44</td>\n",
              "      <td>shouldve swallowed inbred swine</td>\n",
              "    </tr>\n",
              "    <tr>\n",
              "      <th>76457</th>\n",
              "      <td>Unknown</td>\n",
              "      <td>Do I know the risk involved in reporting on su...</td>\n",
              "      <td>0</td>\n",
              "      <td>Unknown</td>\n",
              "      <td>127</td>\n",
              "      <td>know risk involved reporting thing reporting t...</td>\n",
              "    </tr>\n",
              "    <tr>\n",
              "      <th>76458</th>\n",
              "      <td>Unknown</td>\n",
              "      <td>If conservative Christians are about Jesus Chr...</td>\n",
              "      <td>0</td>\n",
              "      <td>Unknown</td>\n",
              "      <td>2556</td>\n",
              "      <td>conservative christian jesus christ always see...</td>\n",
              "    </tr>\n",
              "    <tr>\n",
              "      <th>76459</th>\n",
              "      <td>Unknown</td>\n",
              "      <td>Jesus will save his soul not his body Ignorant...</td>\n",
              "      <td>0</td>\n",
              "      <td>Unknown</td>\n",
              "      <td>60</td>\n",
              "      <td>jesus save soul body ignorant piece shit</td>\n",
              "    </tr>\n",
              "    <tr>\n",
              "      <th>76460</th>\n",
              "      <td>Unknown</td>\n",
              "      <td>Leach Say no more</td>\n",
              "      <td>0</td>\n",
              "      <td>Unknown</td>\n",
              "      <td>17</td>\n",
              "      <td>leach say</td>\n",
              "    </tr>\n",
              "  </tbody>\n",
              "</table>\n",
              "<p>76461 rows × 6 columns</p>\n",
              "</div>\n",
              "    <div class=\"colab-df-buttons\">\n",
              "\n",
              "  <div class=\"colab-df-container\">\n",
              "    <button class=\"colab-df-convert\" onclick=\"convertToInteractive('df-c73eaf14-b24c-4132-b1eb-bbc297be32ae')\"\n",
              "            title=\"Convert this dataframe to an interactive table.\"\n",
              "            style=\"display:none;\">\n",
              "\n",
              "  <svg xmlns=\"http://www.w3.org/2000/svg\" height=\"24px\" viewBox=\"0 -960 960 960\">\n",
              "    <path d=\"M120-120v-720h720v720H120Zm60-500h600v-160H180v160Zm220 220h160v-160H400v160Zm0 220h160v-160H400v160ZM180-400h160v-160H180v160Zm440 0h160v-160H620v160ZM180-180h160v-160H180v160Zm440 0h160v-160H620v160Z\"/>\n",
              "  </svg>\n",
              "    </button>\n",
              "\n",
              "  <style>\n",
              "    .colab-df-container {\n",
              "      display:flex;\n",
              "      gap: 12px;\n",
              "    }\n",
              "\n",
              "    .colab-df-convert {\n",
              "      background-color: #E8F0FE;\n",
              "      border: none;\n",
              "      border-radius: 50%;\n",
              "      cursor: pointer;\n",
              "      display: none;\n",
              "      fill: #1967D2;\n",
              "      height: 32px;\n",
              "      padding: 0 0 0 0;\n",
              "      width: 32px;\n",
              "    }\n",
              "\n",
              "    .colab-df-convert:hover {\n",
              "      background-color: #E2EBFA;\n",
              "      box-shadow: 0px 1px 2px rgba(60, 64, 67, 0.3), 0px 1px 3px 1px rgba(60, 64, 67, 0.15);\n",
              "      fill: #174EA6;\n",
              "    }\n",
              "\n",
              "    .colab-df-buttons div {\n",
              "      margin-bottom: 4px;\n",
              "    }\n",
              "\n",
              "    [theme=dark] .colab-df-convert {\n",
              "      background-color: #3B4455;\n",
              "      fill: #D2E3FC;\n",
              "    }\n",
              "\n",
              "    [theme=dark] .colab-df-convert:hover {\n",
              "      background-color: #434B5C;\n",
              "      box-shadow: 0px 1px 3px 1px rgba(0, 0, 0, 0.15);\n",
              "      filter: drop-shadow(0px 1px 2px rgba(0, 0, 0, 0.3));\n",
              "      fill: #FFFFFF;\n",
              "    }\n",
              "  </style>\n",
              "\n",
              "    <script>\n",
              "      const buttonEl =\n",
              "        document.querySelector('#df-c73eaf14-b24c-4132-b1eb-bbc297be32ae button.colab-df-convert');\n",
              "      buttonEl.style.display =\n",
              "        google.colab.kernel.accessAllowed ? 'block' : 'none';\n",
              "\n",
              "      async function convertToInteractive(key) {\n",
              "        const element = document.querySelector('#df-c73eaf14-b24c-4132-b1eb-bbc297be32ae');\n",
              "        const dataTable =\n",
              "          await google.colab.kernel.invokeFunction('convertToInteractive',\n",
              "                                                    [key], {});\n",
              "        if (!dataTable) return;\n",
              "\n",
              "        const docLinkHtml = 'Like what you see? Visit the ' +\n",
              "          '<a target=\"_blank\" href=https://colab.research.google.com/notebooks/data_table.ipynb>data table notebook</a>'\n",
              "          + ' to learn more about interactive tables.';\n",
              "        element.innerHTML = '';\n",
              "        dataTable['output_type'] = 'display_data';\n",
              "        await google.colab.output.renderOutput(dataTable, element);\n",
              "        const docLink = document.createElement('div');\n",
              "        docLink.innerHTML = docLinkHtml;\n",
              "        element.appendChild(docLink);\n",
              "      }\n",
              "    </script>\n",
              "  </div>\n",
              "\n",
              "\n",
              "<div id=\"df-b279bd7c-403d-4005-a7b7-f8d47d64a743\">\n",
              "  <button class=\"colab-df-quickchart\" onclick=\"quickchart('df-b279bd7c-403d-4005-a7b7-f8d47d64a743')\"\n",
              "            title=\"Suggest charts\"\n",
              "            style=\"display:none;\">\n",
              "\n",
              "<svg xmlns=\"http://www.w3.org/2000/svg\" height=\"24px\"viewBox=\"0 0 24 24\"\n",
              "     width=\"24px\">\n",
              "    <g>\n",
              "        <path d=\"M19 3H5c-1.1 0-2 .9-2 2v14c0 1.1.9 2 2 2h14c1.1 0 2-.9 2-2V5c0-1.1-.9-2-2-2zM9 17H7v-7h2v7zm4 0h-2V7h2v10zm4 0h-2v-4h2v4z\"/>\n",
              "    </g>\n",
              "</svg>\n",
              "  </button>\n",
              "\n",
              "<style>\n",
              "  .colab-df-quickchart {\n",
              "      --bg-color: #E8F0FE;\n",
              "      --fill-color: #1967D2;\n",
              "      --hover-bg-color: #E2EBFA;\n",
              "      --hover-fill-color: #174EA6;\n",
              "      --disabled-fill-color: #AAA;\n",
              "      --disabled-bg-color: #DDD;\n",
              "  }\n",
              "\n",
              "  [theme=dark] .colab-df-quickchart {\n",
              "      --bg-color: #3B4455;\n",
              "      --fill-color: #D2E3FC;\n",
              "      --hover-bg-color: #434B5C;\n",
              "      --hover-fill-color: #FFFFFF;\n",
              "      --disabled-bg-color: #3B4455;\n",
              "      --disabled-fill-color: #666;\n",
              "  }\n",
              "\n",
              "  .colab-df-quickchart {\n",
              "    background-color: var(--bg-color);\n",
              "    border: none;\n",
              "    border-radius: 50%;\n",
              "    cursor: pointer;\n",
              "    display: none;\n",
              "    fill: var(--fill-color);\n",
              "    height: 32px;\n",
              "    padding: 0;\n",
              "    width: 32px;\n",
              "  }\n",
              "\n",
              "  .colab-df-quickchart:hover {\n",
              "    background-color: var(--hover-bg-color);\n",
              "    box-shadow: 0 1px 2px rgba(60, 64, 67, 0.3), 0 1px 3px 1px rgba(60, 64, 67, 0.15);\n",
              "    fill: var(--button-hover-fill-color);\n",
              "  }\n",
              "\n",
              "  .colab-df-quickchart-complete:disabled,\n",
              "  .colab-df-quickchart-complete:disabled:hover {\n",
              "    background-color: var(--disabled-bg-color);\n",
              "    fill: var(--disabled-fill-color);\n",
              "    box-shadow: none;\n",
              "  }\n",
              "\n",
              "  .colab-df-spinner {\n",
              "    border: 2px solid var(--fill-color);\n",
              "    border-color: transparent;\n",
              "    border-bottom-color: var(--fill-color);\n",
              "    animation:\n",
              "      spin 1s steps(1) infinite;\n",
              "  }\n",
              "\n",
              "  @keyframes spin {\n",
              "    0% {\n",
              "      border-color: transparent;\n",
              "      border-bottom-color: var(--fill-color);\n",
              "      border-left-color: var(--fill-color);\n",
              "    }\n",
              "    20% {\n",
              "      border-color: transparent;\n",
              "      border-left-color: var(--fill-color);\n",
              "      border-top-color: var(--fill-color);\n",
              "    }\n",
              "    30% {\n",
              "      border-color: transparent;\n",
              "      border-left-color: var(--fill-color);\n",
              "      border-top-color: var(--fill-color);\n",
              "      border-right-color: var(--fill-color);\n",
              "    }\n",
              "    40% {\n",
              "      border-color: transparent;\n",
              "      border-right-color: var(--fill-color);\n",
              "      border-top-color: var(--fill-color);\n",
              "    }\n",
              "    60% {\n",
              "      border-color: transparent;\n",
              "      border-right-color: var(--fill-color);\n",
              "    }\n",
              "    80% {\n",
              "      border-color: transparent;\n",
              "      border-right-color: var(--fill-color);\n",
              "      border-bottom-color: var(--fill-color);\n",
              "    }\n",
              "    90% {\n",
              "      border-color: transparent;\n",
              "      border-bottom-color: var(--fill-color);\n",
              "    }\n",
              "  }\n",
              "</style>\n",
              "\n",
              "  <script>\n",
              "    async function quickchart(key) {\n",
              "      const quickchartButtonEl =\n",
              "        document.querySelector('#' + key + ' button');\n",
              "      quickchartButtonEl.disabled = true;  // To prevent multiple clicks.\n",
              "      quickchartButtonEl.classList.add('colab-df-spinner');\n",
              "      try {\n",
              "        const charts = await google.colab.kernel.invokeFunction(\n",
              "            'suggestCharts', [key], {});\n",
              "      } catch (error) {\n",
              "        console.error('Error during call to suggestCharts:', error);\n",
              "      }\n",
              "      quickchartButtonEl.classList.remove('colab-df-spinner');\n",
              "      quickchartButtonEl.classList.add('colab-df-quickchart-complete');\n",
              "    }\n",
              "    (() => {\n",
              "      let quickchartButtonEl =\n",
              "        document.querySelector('#df-b279bd7c-403d-4005-a7b7-f8d47d64a743 button');\n",
              "      quickchartButtonEl.style.display =\n",
              "        google.colab.kernel.accessAllowed ? 'block' : 'none';\n",
              "    })();\n",
              "  </script>\n",
              "</div>\n",
              "\n",
              "  <div id=\"id_4009f854-906b-4a89-95d3-e021db411494\">\n",
              "    <style>\n",
              "      .colab-df-generate {\n",
              "        background-color: #E8F0FE;\n",
              "        border: none;\n",
              "        border-radius: 50%;\n",
              "        cursor: pointer;\n",
              "        display: none;\n",
              "        fill: #1967D2;\n",
              "        height: 32px;\n",
              "        padding: 0 0 0 0;\n",
              "        width: 32px;\n",
              "      }\n",
              "\n",
              "      .colab-df-generate:hover {\n",
              "        background-color: #E2EBFA;\n",
              "        box-shadow: 0px 1px 2px rgba(60, 64, 67, 0.3), 0px 1px 3px 1px rgba(60, 64, 67, 0.15);\n",
              "        fill: #174EA6;\n",
              "      }\n",
              "\n",
              "      [theme=dark] .colab-df-generate {\n",
              "        background-color: #3B4455;\n",
              "        fill: #D2E3FC;\n",
              "      }\n",
              "\n",
              "      [theme=dark] .colab-df-generate:hover {\n",
              "        background-color: #434B5C;\n",
              "        box-shadow: 0px 1px 3px 1px rgba(0, 0, 0, 0.15);\n",
              "        filter: drop-shadow(0px 1px 2px rgba(0, 0, 0, 0.3));\n",
              "        fill: #FFFFFF;\n",
              "      }\n",
              "    </style>\n",
              "    <button class=\"colab-df-generate\" onclick=\"generateWithVariable('df')\"\n",
              "            title=\"Generate code using this dataframe.\"\n",
              "            style=\"display:none;\">\n",
              "\n",
              "  <svg xmlns=\"http://www.w3.org/2000/svg\" height=\"24px\"viewBox=\"0 0 24 24\"\n",
              "       width=\"24px\">\n",
              "    <path d=\"M7,19H8.4L18.45,9,17,7.55,7,17.6ZM5,21V16.75L18.45,3.32a2,2,0,0,1,2.83,0l1.4,1.43a1.91,1.91,0,0,1,.58,1.4,1.91,1.91,0,0,1-.58,1.4L9.25,21ZM18.45,9,17,7.55Zm-12,3A5.31,5.31,0,0,0,4.9,8.1,5.31,5.31,0,0,0,1,6.5,5.31,5.31,0,0,0,4.9,4.9,5.31,5.31,0,0,0,6.5,1,5.31,5.31,0,0,0,8.1,4.9,5.31,5.31,0,0,0,12,6.5,5.46,5.46,0,0,0,6.5,12Z\"/>\n",
              "  </svg>\n",
              "    </button>\n",
              "    <script>\n",
              "      (() => {\n",
              "      const buttonEl =\n",
              "        document.querySelector('#id_4009f854-906b-4a89-95d3-e021db411494 button.colab-df-generate');\n",
              "      buttonEl.style.display =\n",
              "        google.colab.kernel.accessAllowed ? 'block' : 'none';\n",
              "\n",
              "      buttonEl.onclick = () => {\n",
              "        google.colab.notebook.generateWithVariable('df');\n",
              "      }\n",
              "      })();\n",
              "    </script>\n",
              "  </div>\n",
              "\n",
              "    </div>\n",
              "  </div>\n"
            ],
            "application/vnd.google.colaboratory.intrinsic+json": {
              "type": "dataframe",
              "variable_name": "df",
              "summary": "{\n  \"name\": \"df\",\n  \"rows\": 76461,\n  \"fields\": [\n    {\n      \"column\": \"title\",\n      \"properties\": {\n        \"dtype\": \"string\",\n        \"num_unique_values\": 74894,\n        \"samples\": [\n          \"India eyes airport in Sri Lanka near Chinese Belt and Road outpost\",\n          \"A peek behind the nrcc fundraising curtain\",\n          \" Trump HUMILIATED As WH Walks Back His Attack After Soldiers Mom Confirms His Insensitive Phone Call\"\n        ],\n        \"semantic_type\": \"\",\n        \"description\": \"\"\n      }\n    },\n    {\n      \"column\": \"text\",\n      \"properties\": {\n        \"dtype\": \"string\",\n        \"num_unique_values\": 76460,\n        \"samples\": [\n          \"If the way Donald Trump reportedly ran the MaraLago resort in Palm Beach is any indication if he wins he will be taking full advantage of every spy agency in his charge just for his own agendaAccording to six former employees at the resort Trump had a telephone console in his room that allowed him to tap into every single phone in the place He often listened in on staff calls but he could also listen in on guest calls although the GOP frontrunner s spokeswoman denies itAccording to Buzzfeed who spoke to six former employees four of whom spoke under the condition of anonymity because of nondisclosure agreements this is indeed true Those four said he listened in from the private room he keeps during the mid2000sThey said he listened in on calls between club employees or in some cases between staff and guests None of them knew of Trump eavesdropping on guests or members talking on private calls with people who were not employees of MaraLago They also said that Trump could eavesdrop only on calls made on the club s landlines and not on calls made from guests  cell phonesEach of these four sources said they personally saw the telephone console which some referred to as a switchboard in Trump s bedroomNone of the four supports Trump s bid for president All said they enjoyed their time working at MaraLagoThe two other employees did not wish to remain anonymous They are Trump s former butler the one who wants Obama killed and Trump s former security director both of whom support Trump s run for president said that the console was only to make phone callsTrump the presumptive Republican nominee is running at a time when Americans are increasingly concerned about surveillance   both by the government and by their employers Some of his own campaign staff feared that their offices in Trump Tower in New York might be bugged the New York Times reported last month Trump has backed the NSA s bulk collection of metadata telling conservative radio host Hugh Hewitt that  I tend to err on the side of security  Trump added  I assume when I pick up my telephone people are listening to my conversations anyway if you want to know the truth If Trump was listening in on guests  calls that was certainly a violation of Florida law The law is less clear on calls involving employees but since both parties in Florida need to be notified if the second party is not an employee that is legally murky at bestThis accusation is frightening I have always been of the opinion that Trump is running for the job of dictator hence his admiration of Putin and Kim Jong Un This does not bode well All I can say is I hope Hillary Clinton s offices are locked down tight or we ll have another Watergate on our handsFeatured image via John Moore at Getty Images\",\n          \"Cbc toronto  november 20 2020 this is not going to end These lockdowns are going to go on forever until these tyrants imposing these measures are held accountable for their crimes What they are doing is criminal I find it impossible to believe that these people cant look at the available data and understand that the coronavirus is no more deadly than the flu All of these socalled health ministers and officials who have been pushing these lockdowns and other freedomdestroying measures need to be arrested put on trial and executed They are guilty of massive crimes against the people of the world\",\n          \"WASHINGTON Reuters  US President Donald Trump said on Friday he wants to see action to fix the flaws he sees in the Iran nuclear deal in a short period of time adding that he could end the deal instantaneously  We ll see what happens over the next short period of time and I can do that instantaneously  Trump told reporters when asked why he did not choose to scrap the deal now  I like a twostep process much better  said Trump who was speaking shortly after he announced he would not certify the 2015 deal aimed at preventing Iran from developing a nuclear bomb in a major shift in US policy \"\n        ],\n        \"semantic_type\": \"\",\n        \"description\": \"\"\n      }\n    },\n    {\n      \"column\": \"label\",\n      \"properties\": {\n        \"dtype\": \"number\",\n        \"std\": 0,\n        \"min\": 0,\n        \"max\": 1,\n        \"num_unique_values\": 2,\n        \"samples\": [\n          1,\n          0\n        ],\n        \"semantic_type\": \"\",\n        \"description\": \"\"\n      }\n    },\n    {\n      \"column\": \"subject\",\n      \"properties\": {\n        \"dtype\": \"category\",\n        \"num_unique_values\": 8,\n        \"samples\": [\n          \"Unknown\",\n          \"left-news\"\n        ],\n        \"semantic_type\": \"\",\n        \"description\": \"\"\n      }\n    },\n    {\n      \"column\": \"text_length\",\n      \"properties\": {\n        \"dtype\": \"number\",\n        \"std\": 3843,\n        \"min\": 2,\n        \"max\": 130309,\n        \"num_unique_values\": 11842,\n        \"samples\": [\n          4603,\n          2804\n        ],\n        \"semantic_type\": \"\",\n        \"description\": \"\"\n      }\n    },\n    {\n      \"column\": \"lemmatized_text\",\n      \"properties\": {\n        \"dtype\": \"string\",\n        \"num_unique_values\": 76246,\n        \"samples\": [\n          \"diplomatic recognition muchneeded infrastructure economic assistance said brahma chellaney professor strategic study centre policy research new delhi opportunistic china certain exploit new opening make strategic inroad mineralrich afghanistan deepen penetration pakistan iran central asia said bitter memory much cheering pakistan india discomfiture turn event said raza ahmad rumi political commentator teach ithaca college new york two country fought three war since became independent nation subcontinent divided jubilation pakistan witnessed social medium tv screen largely linked undoing indian influence conventional policy circle viewed ghanis close link india threat rumi said india bitter memory previous taliban stint power group link pakistan indian airline plane hijacked ultimately landed kandahar southern afghanistan new delhi freed three senior pakistani militant jail exchange return passenger taliban allowed hijacker released prisoner go pakistan position today one adjusting reality play long game afghanistan dont contiguous border stake said jayant prasad former indian ambassador kabul past year taliban emerged dominant force u brokered negotiation began doha indian diplomat opened line group diplomatic source new delhi said talking stakeholder one said want get specific discussion criticism home india put egg basket ghani government united state begun talk taliban new delhi left late rerun still india major economic player attractive taliban looking avoid overdependence china source said india development project every one afghanistan province small big including parliament building kabul built overrun guntoting taliban men sweeping city last week myra macdonald author three book south asia former reuters journalist said taliban takeover setback india game new delhi rerun past everyone going much careful time letting islamist terrorism afghanistan explode pre day plus relative term india much economically stronger pakistan time around senior member taliban told reuters impoverished afghanistan need help country region including iran well united state russia expect help u support people especially health sector especially business sector mining sector said waheedullah hashimi access group decisionmaking job convince accept u\",\n          \"philadelphia cnn grill democratic convention unofficial clubhouse striving medium type see seen nobody expecting see megyn kelly midnight cameo wednesday m kelly star fox news anchor center harassment scandal roiling network caught even jaded journalist nobody spotted m kelly outside secure fox compound week made clear open changing network contract run next year conspicuous sight m kelly hobnobbing cnn honcho like anderson cooper jeff zucker network president seemed calculated set certain class tongue wagging twitter m kelly accompanied burly bodyguard laughed donlemon dared u fox newsers swing cnn grill wrote posting selfie mr lemon cnn anchor thx way appearance m kelly joined fellow fox host dana perino signaled much changed fox since chairman roger ailes deposed fox personality rarely fraternized rival network greta van susteren spotted grill week perhaps new era hand know mr zucker chatting m kelly passed group reporter pretending notice get rumor started mr zucker said laughing walked\"\n        ],\n        \"semantic_type\": \"\",\n        \"description\": \"\"\n      }\n    }\n  ]\n}"
            }
          },
          "metadata": {},
          "execution_count": 1
        }
      ]
    },
    {
      "cell_type": "code",
      "source": [
        "X = df['lemmatized_text'].astype(str)\n",
        "y = df['label']"
      ],
      "metadata": {
        "id": "n8Tifeqo6HnP"
      },
      "execution_count": 2,
      "outputs": []
    },
    {
      "cell_type": "code",
      "source": [
        "import tensorflow as tf\n",
        "from tensorflow.keras.preprocessing.text import Tokenizer\n",
        "tokenizer = Tokenizer(num_words=10000)\n",
        "tokenizer.fit_on_texts(X)\n",
        "X = tokenizer.texts_to_sequences(X)"
      ],
      "metadata": {
        "id": "0tPD2wlF6SRA"
      },
      "execution_count": 3,
      "outputs": []
    },
    {
      "cell_type": "code",
      "source": [
        "seq_length = [len(seq) for seq in df['lemmatized_text'].astype(str)]\n",
        "sequence_length = np.percentile(seq_length, 95)"
      ],
      "metadata": {
        "id": "9FhNw0TX-3SN"
      },
      "execution_count": 4,
      "outputs": []
    },
    {
      "cell_type": "code",
      "source": [
        "# Padding\n",
        "from tensorflow.keras.preprocessing.sequence import pad_sequences\n",
        "X = pad_sequences(X, maxlen=6395)\n",
        "y = np.array(y)"
      ],
      "metadata": {
        "id": "kpXDd5tg2cP8"
      },
      "execution_count": 5,
      "outputs": []
    },
    {
      "cell_type": "code",
      "source": [
        "from sklearn.model_selection import train_test_split\n",
        "X_train, X_test, y_train, y_test = train_test_split(X, y, test_size=0.2, random_state=42)"
      ],
      "metadata": {
        "id": "CuvWOOGg6lfU"
      },
      "execution_count": 6,
      "outputs": []
    },
    {
      "cell_type": "code",
      "source": [
        "from tensorflow.keras.models import Sequential\n",
        "from tensorflow.keras.layers import Embedding, GRU, Dense, Bidirectional\n",
        "model2 =Sequential([\n",
        "    Embedding(input_dim=input_dim, output_dim=embedding_dim, input_length=6395),  # Embedding layer\n",
        "    Bidirectional(GRU(64, return_sequences=False)),  # Bidirectional GRU layer\n",
        "    Dense(64, activation='relu'),  # Fully connected layer\n",
        "    Dense(1, activation='sigmoid')  # Output layer for binary classification\n",
        "])"
      ],
      "metadata": {
        "colab": {
          "base_uri": "https://localhost:8080/"
        },
        "id": "Fga7_-yg6pXW",
        "outputId": "14628fa3-7cc2-4dcc-9e6d-6a4b95c86b83"
      },
      "execution_count": 19,
      "outputs": [
        {
          "output_type": "stream",
          "name": "stderr",
          "text": [
            "/usr/local/lib/python3.10/dist-packages/keras/src/layers/core/embedding.py:90: UserWarning: Argument `input_length` is deprecated. Just remove it.\n",
            "  warnings.warn(\n"
          ]
        }
      ]
    },
    {
      "cell_type": "code",
      "source": [
        "model2.compile(optimizer='adam', loss='binary_crossentropy', metrics=['accuracy'])"
      ],
      "metadata": {
        "id": "TYz816Ui7OgQ"
      },
      "execution_count": 8,
      "outputs": []
    },
    {
      "cell_type": "code",
      "source": [
        "from keras.callbacks import EarlyStopping\n",
        "early_stop = EarlyStopping(monitor='val_loss', patience=3, restore_best_weights=True)"
      ],
      "metadata": {
        "id": "2_QV21nN9AyY"
      },
      "execution_count": 9,
      "outputs": []
    },
    {
      "cell_type": "code",
      "source": [
        "model2.fit(X_train, y_train, validation_data=(X_test, y_test), epochs=10, batch_size=64, callbacks=[early_stop])"
      ],
      "metadata": {
        "colab": {
          "base_uri": "https://localhost:8080/",
          "height": 480
        },
        "id": "wtPt_B4E9_I8",
        "outputId": "be4f3df3-d0a5-47f4-8e38-a777d737c159"
      },
      "execution_count": 11,
      "outputs": [
        {
          "output_type": "stream",
          "name": "stdout",
          "text": [
            "Epoch 1/10\n",
            "\u001b[1m956/956\u001b[0m \u001b[32m━━━━━━━━━━━━━━━━━━━━\u001b[0m\u001b[37m\u001b[0m \u001b[1m415s\u001b[0m 427ms/step - accuracy: 0.8242 - loss: 0.3784 - val_accuracy: 0.9104 - val_loss: 0.2136\n",
            "Epoch 2/10\n",
            "\u001b[1m956/956\u001b[0m \u001b[32m━━━━━━━━━━━━━━━━━━━━\u001b[0m\u001b[37m\u001b[0m \u001b[1m434s\u001b[0m 423ms/step - accuracy: 0.9292 - loss: 0.1819 - val_accuracy: 0.9214 - val_loss: 0.1952\n",
            "Epoch 3/10\n",
            "\u001b[1m956/956\u001b[0m \u001b[32m━━━━━━━━━━━━━━━━━━━━\u001b[0m\u001b[37m\u001b[0m \u001b[1m408s\u001b[0m 427ms/step - accuracy: 0.9488 - loss: 0.1390 - val_accuracy: 0.9203 - val_loss: 0.1948\n",
            "Epoch 4/10\n",
            "\u001b[1m956/956\u001b[0m \u001b[32m━━━━━━━━━━━━━━━━━━━━\u001b[0m\u001b[37m\u001b[0m \u001b[1m438s\u001b[0m 423ms/step - accuracy: 0.9592 - loss: 0.1157 - val_accuracy: 0.9149 - val_loss: 0.2185\n",
            "Epoch 5/10\n",
            "\u001b[1m 73/956\u001b[0m \u001b[32m━\u001b[0m\u001b[37m━━━━━━━━━━━━━━━━━━━\u001b[0m \u001b[1m5:40\u001b[0m 385ms/step - accuracy: 0.9748 - loss: 0.0826"
          ]
        },
        {
          "output_type": "error",
          "ename": "KeyboardInterrupt",
          "evalue": "",
          "traceback": [
            "\u001b[0;31m---------------------------------------------------------------------------\u001b[0m",
            "\u001b[0;31mKeyboardInterrupt\u001b[0m                         Traceback (most recent call last)",
            "\u001b[0;32m<ipython-input-11-742b9ac55e37>\u001b[0m in \u001b[0;36m<cell line: 1>\u001b[0;34m()\u001b[0m\n\u001b[0;32m----> 1\u001b[0;31m \u001b[0mmodel2\u001b[0m\u001b[0;34m.\u001b[0m\u001b[0mfit\u001b[0m\u001b[0;34m(\u001b[0m\u001b[0mX_train\u001b[0m\u001b[0;34m,\u001b[0m \u001b[0my_train\u001b[0m\u001b[0;34m,\u001b[0m \u001b[0mvalidation_data\u001b[0m\u001b[0;34m=\u001b[0m\u001b[0;34m(\u001b[0m\u001b[0mX_test\u001b[0m\u001b[0;34m,\u001b[0m \u001b[0my_test\u001b[0m\u001b[0;34m)\u001b[0m\u001b[0;34m,\u001b[0m \u001b[0mepochs\u001b[0m\u001b[0;34m=\u001b[0m\u001b[0;36m10\u001b[0m\u001b[0;34m,\u001b[0m \u001b[0mbatch_size\u001b[0m\u001b[0;34m=\u001b[0m\u001b[0;36m64\u001b[0m\u001b[0;34m,\u001b[0m \u001b[0mcallbacks\u001b[0m\u001b[0;34m=\u001b[0m\u001b[0;34m[\u001b[0m\u001b[0mearly_stop\u001b[0m\u001b[0;34m]\u001b[0m\u001b[0;34m)\u001b[0m\u001b[0;34m\u001b[0m\u001b[0;34m\u001b[0m\u001b[0m\n\u001b[0m",
            "\u001b[0;32m/usr/local/lib/python3.10/dist-packages/keras/src/utils/traceback_utils.py\u001b[0m in \u001b[0;36merror_handler\u001b[0;34m(*args, **kwargs)\u001b[0m\n\u001b[1;32m    115\u001b[0m         \u001b[0mfiltered_tb\u001b[0m \u001b[0;34m=\u001b[0m \u001b[0;32mNone\u001b[0m\u001b[0;34m\u001b[0m\u001b[0;34m\u001b[0m\u001b[0m\n\u001b[1;32m    116\u001b[0m         \u001b[0;32mtry\u001b[0m\u001b[0;34m:\u001b[0m\u001b[0;34m\u001b[0m\u001b[0;34m\u001b[0m\u001b[0m\n\u001b[0;32m--> 117\u001b[0;31m             \u001b[0;32mreturn\u001b[0m \u001b[0mfn\u001b[0m\u001b[0;34m(\u001b[0m\u001b[0;34m*\u001b[0m\u001b[0margs\u001b[0m\u001b[0;34m,\u001b[0m \u001b[0;34m**\u001b[0m\u001b[0mkwargs\u001b[0m\u001b[0;34m)\u001b[0m\u001b[0;34m\u001b[0m\u001b[0;34m\u001b[0m\u001b[0m\n\u001b[0m\u001b[1;32m    118\u001b[0m         \u001b[0;32mexcept\u001b[0m \u001b[0mException\u001b[0m \u001b[0;32mas\u001b[0m \u001b[0me\u001b[0m\u001b[0;34m:\u001b[0m\u001b[0;34m\u001b[0m\u001b[0;34m\u001b[0m\u001b[0m\n\u001b[1;32m    119\u001b[0m             \u001b[0mfiltered_tb\u001b[0m \u001b[0;34m=\u001b[0m \u001b[0m_process_traceback_frames\u001b[0m\u001b[0;34m(\u001b[0m\u001b[0me\u001b[0m\u001b[0;34m.\u001b[0m\u001b[0m__traceback__\u001b[0m\u001b[0;34m)\u001b[0m\u001b[0;34m\u001b[0m\u001b[0;34m\u001b[0m\u001b[0m\n",
            "\u001b[0;32m/usr/local/lib/python3.10/dist-packages/keras/src/backend/tensorflow/trainer.py\u001b[0m in \u001b[0;36mfit\u001b[0;34m(self, x, y, batch_size, epochs, verbose, callbacks, validation_split, validation_data, shuffle, class_weight, sample_weight, initial_epoch, steps_per_epoch, validation_steps, validation_batch_size, validation_freq)\u001b[0m\n\u001b[1;32m    318\u001b[0m                 \u001b[0;32mfor\u001b[0m \u001b[0mstep\u001b[0m\u001b[0;34m,\u001b[0m \u001b[0miterator\u001b[0m \u001b[0;32min\u001b[0m \u001b[0mepoch_iterator\u001b[0m\u001b[0;34m.\u001b[0m\u001b[0menumerate_epoch\u001b[0m\u001b[0;34m(\u001b[0m\u001b[0;34m)\u001b[0m\u001b[0;34m:\u001b[0m\u001b[0;34m\u001b[0m\u001b[0;34m\u001b[0m\u001b[0m\n\u001b[1;32m    319\u001b[0m                     \u001b[0mcallbacks\u001b[0m\u001b[0;34m.\u001b[0m\u001b[0mon_train_batch_begin\u001b[0m\u001b[0;34m(\u001b[0m\u001b[0mstep\u001b[0m\u001b[0;34m)\u001b[0m\u001b[0;34m\u001b[0m\u001b[0;34m\u001b[0m\u001b[0m\n\u001b[0;32m--> 320\u001b[0;31m                     \u001b[0mlogs\u001b[0m \u001b[0;34m=\u001b[0m \u001b[0mself\u001b[0m\u001b[0;34m.\u001b[0m\u001b[0mtrain_function\u001b[0m\u001b[0;34m(\u001b[0m\u001b[0miterator\u001b[0m\u001b[0;34m)\u001b[0m\u001b[0;34m\u001b[0m\u001b[0;34m\u001b[0m\u001b[0m\n\u001b[0m\u001b[1;32m    321\u001b[0m                     \u001b[0mlogs\u001b[0m \u001b[0;34m=\u001b[0m \u001b[0mself\u001b[0m\u001b[0;34m.\u001b[0m\u001b[0m_pythonify_logs\u001b[0m\u001b[0;34m(\u001b[0m\u001b[0mlogs\u001b[0m\u001b[0;34m)\u001b[0m\u001b[0;34m\u001b[0m\u001b[0;34m\u001b[0m\u001b[0m\n\u001b[1;32m    322\u001b[0m                     \u001b[0mcallbacks\u001b[0m\u001b[0;34m.\u001b[0m\u001b[0mon_train_batch_end\u001b[0m\u001b[0;34m(\u001b[0m\u001b[0mstep\u001b[0m\u001b[0;34m,\u001b[0m \u001b[0mlogs\u001b[0m\u001b[0;34m)\u001b[0m\u001b[0;34m\u001b[0m\u001b[0;34m\u001b[0m\u001b[0m\n",
            "\u001b[0;32m/usr/local/lib/python3.10/dist-packages/tensorflow/python/util/traceback_utils.py\u001b[0m in \u001b[0;36merror_handler\u001b[0;34m(*args, **kwargs)\u001b[0m\n\u001b[1;32m    148\u001b[0m     \u001b[0mfiltered_tb\u001b[0m \u001b[0;34m=\u001b[0m \u001b[0;32mNone\u001b[0m\u001b[0;34m\u001b[0m\u001b[0;34m\u001b[0m\u001b[0m\n\u001b[1;32m    149\u001b[0m     \u001b[0;32mtry\u001b[0m\u001b[0;34m:\u001b[0m\u001b[0;34m\u001b[0m\u001b[0;34m\u001b[0m\u001b[0m\n\u001b[0;32m--> 150\u001b[0;31m       \u001b[0;32mreturn\u001b[0m \u001b[0mfn\u001b[0m\u001b[0;34m(\u001b[0m\u001b[0;34m*\u001b[0m\u001b[0margs\u001b[0m\u001b[0;34m,\u001b[0m \u001b[0;34m**\u001b[0m\u001b[0mkwargs\u001b[0m\u001b[0;34m)\u001b[0m\u001b[0;34m\u001b[0m\u001b[0;34m\u001b[0m\u001b[0m\n\u001b[0m\u001b[1;32m    151\u001b[0m     \u001b[0;32mexcept\u001b[0m \u001b[0mException\u001b[0m \u001b[0;32mas\u001b[0m \u001b[0me\u001b[0m\u001b[0;34m:\u001b[0m\u001b[0;34m\u001b[0m\u001b[0;34m\u001b[0m\u001b[0m\n\u001b[1;32m    152\u001b[0m       \u001b[0mfiltered_tb\u001b[0m \u001b[0;34m=\u001b[0m \u001b[0m_process_traceback_frames\u001b[0m\u001b[0;34m(\u001b[0m\u001b[0me\u001b[0m\u001b[0;34m.\u001b[0m\u001b[0m__traceback__\u001b[0m\u001b[0;34m)\u001b[0m\u001b[0;34m\u001b[0m\u001b[0;34m\u001b[0m\u001b[0m\n",
            "\u001b[0;32m/usr/local/lib/python3.10/dist-packages/tensorflow/python/eager/polymorphic_function/polymorphic_function.py\u001b[0m in \u001b[0;36m__call__\u001b[0;34m(self, *args, **kwds)\u001b[0m\n\u001b[1;32m    831\u001b[0m \u001b[0;34m\u001b[0m\u001b[0m\n\u001b[1;32m    832\u001b[0m       \u001b[0;32mwith\u001b[0m \u001b[0mOptionalXlaContext\u001b[0m\u001b[0;34m(\u001b[0m\u001b[0mself\u001b[0m\u001b[0;34m.\u001b[0m\u001b[0m_jit_compile\u001b[0m\u001b[0;34m)\u001b[0m\u001b[0;34m:\u001b[0m\u001b[0;34m\u001b[0m\u001b[0;34m\u001b[0m\u001b[0m\n\u001b[0;32m--> 833\u001b[0;31m         \u001b[0mresult\u001b[0m \u001b[0;34m=\u001b[0m \u001b[0mself\u001b[0m\u001b[0;34m.\u001b[0m\u001b[0m_call\u001b[0m\u001b[0;34m(\u001b[0m\u001b[0;34m*\u001b[0m\u001b[0margs\u001b[0m\u001b[0;34m,\u001b[0m \u001b[0;34m**\u001b[0m\u001b[0mkwds\u001b[0m\u001b[0;34m)\u001b[0m\u001b[0;34m\u001b[0m\u001b[0;34m\u001b[0m\u001b[0m\n\u001b[0m\u001b[1;32m    834\u001b[0m \u001b[0;34m\u001b[0m\u001b[0m\n\u001b[1;32m    835\u001b[0m       \u001b[0mnew_tracing_count\u001b[0m \u001b[0;34m=\u001b[0m \u001b[0mself\u001b[0m\u001b[0;34m.\u001b[0m\u001b[0mexperimental_get_tracing_count\u001b[0m\u001b[0;34m(\u001b[0m\u001b[0;34m)\u001b[0m\u001b[0;34m\u001b[0m\u001b[0;34m\u001b[0m\u001b[0m\n",
            "\u001b[0;32m/usr/local/lib/python3.10/dist-packages/tensorflow/python/eager/polymorphic_function/polymorphic_function.py\u001b[0m in \u001b[0;36m_call\u001b[0;34m(self, *args, **kwds)\u001b[0m\n\u001b[1;32m    876\u001b[0m       \u001b[0;31m# In this case we have not created variables on the first call. So we can\u001b[0m\u001b[0;34m\u001b[0m\u001b[0;34m\u001b[0m\u001b[0m\n\u001b[1;32m    877\u001b[0m       \u001b[0;31m# run the first trace but we should fail if variables are created.\u001b[0m\u001b[0;34m\u001b[0m\u001b[0;34m\u001b[0m\u001b[0m\n\u001b[0;32m--> 878\u001b[0;31m       results = tracing_compilation.call_function(\n\u001b[0m\u001b[1;32m    879\u001b[0m           \u001b[0margs\u001b[0m\u001b[0;34m,\u001b[0m \u001b[0mkwds\u001b[0m\u001b[0;34m,\u001b[0m \u001b[0mself\u001b[0m\u001b[0;34m.\u001b[0m\u001b[0m_variable_creation_config\u001b[0m\u001b[0;34m\u001b[0m\u001b[0;34m\u001b[0m\u001b[0m\n\u001b[1;32m    880\u001b[0m       )\n",
            "\u001b[0;32m/usr/local/lib/python3.10/dist-packages/tensorflow/python/eager/polymorphic_function/tracing_compilation.py\u001b[0m in \u001b[0;36mcall_function\u001b[0;34m(args, kwargs, tracing_options)\u001b[0m\n\u001b[1;32m    137\u001b[0m   \u001b[0mbound_args\u001b[0m \u001b[0;34m=\u001b[0m \u001b[0mfunction\u001b[0m\u001b[0;34m.\u001b[0m\u001b[0mfunction_type\u001b[0m\u001b[0;34m.\u001b[0m\u001b[0mbind\u001b[0m\u001b[0;34m(\u001b[0m\u001b[0;34m*\u001b[0m\u001b[0margs\u001b[0m\u001b[0;34m,\u001b[0m \u001b[0;34m**\u001b[0m\u001b[0mkwargs\u001b[0m\u001b[0;34m)\u001b[0m\u001b[0;34m\u001b[0m\u001b[0;34m\u001b[0m\u001b[0m\n\u001b[1;32m    138\u001b[0m   \u001b[0mflat_inputs\u001b[0m \u001b[0;34m=\u001b[0m \u001b[0mfunction\u001b[0m\u001b[0;34m.\u001b[0m\u001b[0mfunction_type\u001b[0m\u001b[0;34m.\u001b[0m\u001b[0munpack_inputs\u001b[0m\u001b[0;34m(\u001b[0m\u001b[0mbound_args\u001b[0m\u001b[0;34m)\u001b[0m\u001b[0;34m\u001b[0m\u001b[0;34m\u001b[0m\u001b[0m\n\u001b[0;32m--> 139\u001b[0;31m   return function._call_flat(  # pylint: disable=protected-access\n\u001b[0m\u001b[1;32m    140\u001b[0m       \u001b[0mflat_inputs\u001b[0m\u001b[0;34m,\u001b[0m \u001b[0mcaptured_inputs\u001b[0m\u001b[0;34m=\u001b[0m\u001b[0mfunction\u001b[0m\u001b[0;34m.\u001b[0m\u001b[0mcaptured_inputs\u001b[0m\u001b[0;34m\u001b[0m\u001b[0;34m\u001b[0m\u001b[0m\n\u001b[1;32m    141\u001b[0m   )\n",
            "\u001b[0;32m/usr/local/lib/python3.10/dist-packages/tensorflow/python/eager/polymorphic_function/concrete_function.py\u001b[0m in \u001b[0;36m_call_flat\u001b[0;34m(self, tensor_inputs, captured_inputs)\u001b[0m\n\u001b[1;32m   1320\u001b[0m         and executing_eagerly):\n\u001b[1;32m   1321\u001b[0m       \u001b[0;31m# No tape is watching; skip to running the function.\u001b[0m\u001b[0;34m\u001b[0m\u001b[0;34m\u001b[0m\u001b[0m\n\u001b[0;32m-> 1322\u001b[0;31m       \u001b[0;32mreturn\u001b[0m \u001b[0mself\u001b[0m\u001b[0;34m.\u001b[0m\u001b[0m_inference_function\u001b[0m\u001b[0;34m.\u001b[0m\u001b[0mcall_preflattened\u001b[0m\u001b[0;34m(\u001b[0m\u001b[0margs\u001b[0m\u001b[0;34m)\u001b[0m\u001b[0;34m\u001b[0m\u001b[0;34m\u001b[0m\u001b[0m\n\u001b[0m\u001b[1;32m   1323\u001b[0m     forward_backward = self._select_forward_and_backward_functions(\n\u001b[1;32m   1324\u001b[0m         \u001b[0margs\u001b[0m\u001b[0;34m,\u001b[0m\u001b[0;34m\u001b[0m\u001b[0;34m\u001b[0m\u001b[0m\n",
            "\u001b[0;32m/usr/local/lib/python3.10/dist-packages/tensorflow/python/eager/polymorphic_function/atomic_function.py\u001b[0m in \u001b[0;36mcall_preflattened\u001b[0;34m(self, args)\u001b[0m\n\u001b[1;32m    214\u001b[0m   \u001b[0;32mdef\u001b[0m \u001b[0mcall_preflattened\u001b[0m\u001b[0;34m(\u001b[0m\u001b[0mself\u001b[0m\u001b[0;34m,\u001b[0m \u001b[0margs\u001b[0m\u001b[0;34m:\u001b[0m \u001b[0mSequence\u001b[0m\u001b[0;34m[\u001b[0m\u001b[0mcore\u001b[0m\u001b[0;34m.\u001b[0m\u001b[0mTensor\u001b[0m\u001b[0;34m]\u001b[0m\u001b[0;34m)\u001b[0m \u001b[0;34m->\u001b[0m \u001b[0mAny\u001b[0m\u001b[0;34m:\u001b[0m\u001b[0;34m\u001b[0m\u001b[0;34m\u001b[0m\u001b[0m\n\u001b[1;32m    215\u001b[0m     \u001b[0;34m\"\"\"Calls with flattened tensor inputs and returns the structured output.\"\"\"\u001b[0m\u001b[0;34m\u001b[0m\u001b[0;34m\u001b[0m\u001b[0m\n\u001b[0;32m--> 216\u001b[0;31m     \u001b[0mflat_outputs\u001b[0m \u001b[0;34m=\u001b[0m \u001b[0mself\u001b[0m\u001b[0;34m.\u001b[0m\u001b[0mcall_flat\u001b[0m\u001b[0;34m(\u001b[0m\u001b[0;34m*\u001b[0m\u001b[0margs\u001b[0m\u001b[0;34m)\u001b[0m\u001b[0;34m\u001b[0m\u001b[0;34m\u001b[0m\u001b[0m\n\u001b[0m\u001b[1;32m    217\u001b[0m     \u001b[0;32mreturn\u001b[0m \u001b[0mself\u001b[0m\u001b[0;34m.\u001b[0m\u001b[0mfunction_type\u001b[0m\u001b[0;34m.\u001b[0m\u001b[0mpack_output\u001b[0m\u001b[0;34m(\u001b[0m\u001b[0mflat_outputs\u001b[0m\u001b[0;34m)\u001b[0m\u001b[0;34m\u001b[0m\u001b[0;34m\u001b[0m\u001b[0m\n\u001b[1;32m    218\u001b[0m \u001b[0;34m\u001b[0m\u001b[0m\n",
            "\u001b[0;32m/usr/local/lib/python3.10/dist-packages/tensorflow/python/eager/polymorphic_function/atomic_function.py\u001b[0m in \u001b[0;36mcall_flat\u001b[0;34m(self, *args)\u001b[0m\n\u001b[1;32m    249\u001b[0m         \u001b[0;32mwith\u001b[0m \u001b[0mrecord\u001b[0m\u001b[0;34m.\u001b[0m\u001b[0mstop_recording\u001b[0m\u001b[0;34m(\u001b[0m\u001b[0;34m)\u001b[0m\u001b[0;34m:\u001b[0m\u001b[0;34m\u001b[0m\u001b[0;34m\u001b[0m\u001b[0m\n\u001b[1;32m    250\u001b[0m           \u001b[0;32mif\u001b[0m \u001b[0mself\u001b[0m\u001b[0;34m.\u001b[0m\u001b[0m_bound_context\u001b[0m\u001b[0;34m.\u001b[0m\u001b[0mexecuting_eagerly\u001b[0m\u001b[0;34m(\u001b[0m\u001b[0;34m)\u001b[0m\u001b[0;34m:\u001b[0m\u001b[0;34m\u001b[0m\u001b[0;34m\u001b[0m\u001b[0m\n\u001b[0;32m--> 251\u001b[0;31m             outputs = self._bound_context.call_function(\n\u001b[0m\u001b[1;32m    252\u001b[0m                 \u001b[0mself\u001b[0m\u001b[0;34m.\u001b[0m\u001b[0mname\u001b[0m\u001b[0;34m,\u001b[0m\u001b[0;34m\u001b[0m\u001b[0;34m\u001b[0m\u001b[0m\n\u001b[1;32m    253\u001b[0m                 \u001b[0mlist\u001b[0m\u001b[0;34m(\u001b[0m\u001b[0margs\u001b[0m\u001b[0;34m)\u001b[0m\u001b[0;34m,\u001b[0m\u001b[0;34m\u001b[0m\u001b[0;34m\u001b[0m\u001b[0m\n",
            "\u001b[0;32m/usr/local/lib/python3.10/dist-packages/tensorflow/python/eager/context.py\u001b[0m in \u001b[0;36mcall_function\u001b[0;34m(self, name, tensor_inputs, num_outputs)\u001b[0m\n\u001b[1;32m   1550\u001b[0m     \u001b[0mcancellation_context\u001b[0m \u001b[0;34m=\u001b[0m \u001b[0mcancellation\u001b[0m\u001b[0;34m.\u001b[0m\u001b[0mcontext\u001b[0m\u001b[0;34m(\u001b[0m\u001b[0;34m)\u001b[0m\u001b[0;34m\u001b[0m\u001b[0;34m\u001b[0m\u001b[0m\n\u001b[1;32m   1551\u001b[0m     \u001b[0;32mif\u001b[0m \u001b[0mcancellation_context\u001b[0m \u001b[0;32mis\u001b[0m \u001b[0;32mNone\u001b[0m\u001b[0;34m:\u001b[0m\u001b[0;34m\u001b[0m\u001b[0;34m\u001b[0m\u001b[0m\n\u001b[0;32m-> 1552\u001b[0;31m       outputs = execute.execute(\n\u001b[0m\u001b[1;32m   1553\u001b[0m           \u001b[0mname\u001b[0m\u001b[0;34m.\u001b[0m\u001b[0mdecode\u001b[0m\u001b[0;34m(\u001b[0m\u001b[0;34m\"utf-8\"\u001b[0m\u001b[0;34m)\u001b[0m\u001b[0;34m,\u001b[0m\u001b[0;34m\u001b[0m\u001b[0;34m\u001b[0m\u001b[0m\n\u001b[1;32m   1554\u001b[0m           \u001b[0mnum_outputs\u001b[0m\u001b[0;34m=\u001b[0m\u001b[0mnum_outputs\u001b[0m\u001b[0;34m,\u001b[0m\u001b[0;34m\u001b[0m\u001b[0;34m\u001b[0m\u001b[0m\n",
            "\u001b[0;32m/usr/local/lib/python3.10/dist-packages/tensorflow/python/eager/execute.py\u001b[0m in \u001b[0;36mquick_execute\u001b[0;34m(op_name, num_outputs, inputs, attrs, ctx, name)\u001b[0m\n\u001b[1;32m     51\u001b[0m   \u001b[0;32mtry\u001b[0m\u001b[0;34m:\u001b[0m\u001b[0;34m\u001b[0m\u001b[0;34m\u001b[0m\u001b[0m\n\u001b[1;32m     52\u001b[0m     \u001b[0mctx\u001b[0m\u001b[0;34m.\u001b[0m\u001b[0mensure_initialized\u001b[0m\u001b[0;34m(\u001b[0m\u001b[0;34m)\u001b[0m\u001b[0;34m\u001b[0m\u001b[0;34m\u001b[0m\u001b[0m\n\u001b[0;32m---> 53\u001b[0;31m     tensors = pywrap_tfe.TFE_Py_Execute(ctx._handle, device_name, op_name,\n\u001b[0m\u001b[1;32m     54\u001b[0m                                         inputs, attrs, num_outputs)\n\u001b[1;32m     55\u001b[0m   \u001b[0;32mexcept\u001b[0m \u001b[0mcore\u001b[0m\u001b[0;34m.\u001b[0m\u001b[0m_NotOkStatusException\u001b[0m \u001b[0;32mas\u001b[0m \u001b[0me\u001b[0m\u001b[0;34m:\u001b[0m\u001b[0;34m\u001b[0m\u001b[0;34m\u001b[0m\u001b[0m\n",
            "\u001b[0;31mKeyboardInterrupt\u001b[0m: "
          ]
        }
      ]
    },
    {
      "cell_type": "code",
      "source": [
        "loss,accuracy = model2.evaluate(X_test, y_test)\n",
        "print(f\"Accuracy: {accuracy * 100:.2f}%\")"
      ],
      "metadata": {
        "colab": {
          "base_uri": "https://localhost:8080/"
        },
        "id": "MpdMA7r57Ve1",
        "outputId": "b358207e-4064-4f59-f029-d6e0d48e2550"
      },
      "execution_count": 12,
      "outputs": [
        {
          "output_type": "stream",
          "name": "stdout",
          "text": [
            "\u001b[1m478/478\u001b[0m \u001b[32m━━━━━━━━━━━━━━━━━━━━\u001b[0m\u001b[37m\u001b[0m \u001b[1m70s\u001b[0m 146ms/step - accuracy: 0.9157 - loss: 0.2428\n",
            "Accuracy: 91.65%\n"
          ]
        }
      ]
    }
  ],
  "metadata": {
    "accelerator": "GPU",
    "colab": {
      "gpuType": "T4",
      "provenance": []
    },
    "kernelspec": {
      "display_name": "Python 3",
      "name": "python3"
    },
    "language_info": {
      "name": "python"
    }
  },
  "nbformat": 4,
  "nbformat_minor": 0
}