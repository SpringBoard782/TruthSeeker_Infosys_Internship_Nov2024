{
  "nbformat": 4,
  "nbformat_minor": 0,
  "metadata": {
    "colab": {
      "provenance": []
    },
    "kernelspec": {
      "name": "python3",
      "display_name": "Python 3"
    },
    "language_info": {
      "name": "python"
    }
  },
  "cells": [
    {
      "cell_type": "code",
      "source": [
        "from google.colab import drive\n",
        "drive.mount('/content/drive')"
      ],
      "metadata": {
        "colab": {
          "base_uri": "https://localhost:8080/"
        },
        "id": "VI5bunyMfEor",
        "outputId": "74a5610f-ce6b-4199-8cd7-efa0c451c911"
      },
      "execution_count": 6,
      "outputs": [
        {
          "output_type": "stream",
          "name": "stdout",
          "text": [
            "Drive already mounted at /content/drive; to attempt to forcibly remount, call drive.mount(\"/content/drive\", force_remount=True).\n"
          ]
        }
      ]
    },
    {
      "cell_type": "code",
      "execution_count": 7,
      "metadata": {
        "colab": {
          "base_uri": "https://localhost:8080/"
        },
        "id": "ILMYbpAqceIV",
        "outputId": "5e8fe35a-8d28-4f27-ebd7-858ad3f39b23"
      },
      "outputs": [
        {
          "output_type": "stream",
          "name": "stdout",
          "text": [
            "LemmatizedFake Dataset:\n",
            "                                               title  \\\n",
            "0  lol! when your client, hillary clinton is unde...   \n",
            "1  this is great! anti-hillary street art pops up...   \n",
            "2  88-yr old democrat congressman and accused sex...   \n",
            "\n",
            "                                                text          subject  \\\n",
            "0                                                            politics   \n",
            "1  hillary clinton s supporters were calling cert...  government news   \n",
            "2  john conyers, the 88-year old democrat congres...         politics   \n",
            "\n",
            "           date                                       cleaned_text  \\\n",
            "0   nov 2, 2016                                                NaN   \n",
            "1  apr 12, 2015  hillary clinton s supporters were calling cert...   \n",
            "2  nov 26, 2017  john conyers the year old democrat congressman...   \n",
            "\n",
            "                                   text_no_stopwords  \\\n",
            "0                                                NaN   \n",
            "1  hillary clinton supporters calling certain wor...   \n",
            "2  john conyers year old democrat congressman bla...   \n",
            "\n",
            "                                              tokens  \\\n",
            "0                                                 []   \n",
            "1  ['hillary', 'clinton', 'supporters', 'calling'...   \n",
            "2  ['john', 'conyers', 'year', 'old', 'democrat',...   \n",
            "\n",
            "                                  reconstructed_text  \\\n",
            "0                                                NaN   \n",
            "1  hillary clinton supporters calling certain wor...   \n",
            "2  john conyers year old democrat congressman bla...   \n",
            "\n",
            "                                            pos_tags  \n",
            "0                                   [(' ', 'SPACE')]  \n",
            "1  [('hillary', 'PROPN'), ('clinton', 'PROPN'), (...  \n",
            "2  [('john', 'PROPN'), ('conyers', 'PROPN'), (','...  \n",
            "\n",
            "LemmatizedTrue Dataset:\n",
            "                                               title  \\\n",
            "0  factbox: top agricultural exports vulnerable t...   \n",
            "1  maltese journalist's son says she was murdered...   \n",
            "2  malaysia identifies victims of religious schoo...   \n",
            "\n",
            "                                                text    subject  \\\n",
            "0  (reuters) - the following are the top five agr...  worldnews   \n",
            "1  valletta (reuters) - the son of malta s best-k...  worldnews   \n",
            "2  kuala lumpur (reuters) - malaysia has identifi...  worldnews   \n",
            "\n",
            "                  date                                       cleaned_text  \\\n",
            "0   september 8, 2017   reuters the following are the top five agricul...   \n",
            "1    october 17, 2017   valletta reuters the son of malta s bestknown ...   \n",
            "2  september 15, 2017   kuala lumpur reuters malaysia has identified a...   \n",
            "\n",
            "                                   text_no_stopwords  \\\n",
            "0  reuters following top five agricultural export...   \n",
            "1  valletta reuters son malta bestknown investiga...   \n",
            "2  kuala lumpur reuters malaysia identified peopl...   \n",
            "\n",
            "                                              tokens  \\\n",
            "0  ['reuters', 'following', 'top', 'five', 'agric...   \n",
            "1  ['valletta', 'reuters', 'son', 'malta', 'bestk...   \n",
            "2  ['kuala', 'lumpur', 'reuters', 'malaysia', 'id...   \n",
            "\n",
            "                                  reconstructed_text  \\\n",
            "0  reuters following top five agricultural export...   \n",
            "1  valletta reuters son malta bestknown investiga...   \n",
            "2  kuala lumpur reuters malaysia identified peopl...   \n",
            "\n",
            "                                            pos_tags  \n",
            "0  [('(', 'PUNCT'), ('reuters', 'NOUN'), (')', 'P...  \n",
            "1  [('valletta', 'NOUN'), ('(', 'PUNCT'), ('reute...  \n",
            "2  [('kuala', 'PROPN'), ('lumpur', 'PROPN'), ('('...  \n"
          ]
        }
      ],
      "source": [
        "import pandas as pd\n",
        "fake_path = '/content/processed_fake_sample.csv'\n",
        "true_path = '/content/processed_true_sample.csv'\n",
        "fake_df = pd.read_csv(fake_path)\n",
        "true_df = pd.read_csv(true_path)\n",
        "print(\"LemmatizedFake Dataset:\")\n",
        "print(fake_df.head(3))\n",
        "print(\"\\nLemmatizedTrue Dataset:\")\n",
        "print(true_df.head(3))"
      ]
    },
    {
      "cell_type": "code",
      "source": [
        "total_rows = fake_df.shape[0] + true_df.shape[0]\n",
        "print(f\"Total rows across both datasets: {total_rows}\")"
      ],
      "metadata": {
        "colab": {
          "base_uri": "https://localhost:8080/"
        },
        "id": "tR724yA6f2iZ",
        "outputId": "30da1f55-8b02-405c-a103-025871f4322f"
      },
      "execution_count": 8,
      "outputs": [
        {
          "output_type": "stream",
          "name": "stdout",
          "text": [
            "Total rows across both datasets: 10000\n"
          ]
        }
      ]
    },
    {
      "cell_type": "code",
      "source": [
        "import nltk\n",
        "nltk.download('punkt')\n",
        "nltk.download('averaged_perceptron_tagger')\n",
        "nltk.download('averaged_perceptron_tagger_eng') # Download the required data package"
      ],
      "metadata": {
        "colab": {
          "base_uri": "https://localhost:8080/"
        },
        "id": "C5lfIaTif2yx",
        "outputId": "3ada22fe-218e-4c48-9854-bec019d893db"
      },
      "execution_count": 9,
      "outputs": [
        {
          "output_type": "stream",
          "name": "stderr",
          "text": [
            "[nltk_data] Downloading package punkt to /root/nltk_data...\n",
            "[nltk_data]   Package punkt is already up-to-date!\n",
            "[nltk_data] Downloading package averaged_perceptron_tagger to\n",
            "[nltk_data]     /root/nltk_data...\n",
            "[nltk_data]   Package averaged_perceptron_tagger is already up-to-\n",
            "[nltk_data]       date!\n",
            "[nltk_data] Downloading package averaged_perceptron_tagger_eng to\n",
            "[nltk_data]     /root/nltk_data...\n",
            "[nltk_data]   Package averaged_perceptron_tagger_eng is already up-to-\n",
            "[nltk_data]       date!\n"
          ]
        },
        {
          "output_type": "execute_result",
          "data": {
            "text/plain": [
              "True"
            ]
          },
          "metadata": {},
          "execution_count": 9
        }
      ]
    },
    {
      "cell_type": "code",
      "source": [
        "from nltk.tokenize import wordpunct_tokenize\n",
        "import pandas as pd\n",
        "fake_path = '/content/processed_fake_sample.csv'\n",
        "true_path = '/content/processed_true_sample.csv'\n",
        "fake_df = pd.read_csv(fake_path)\n",
        "true_df = pd.read_csv(true_path)\n",
        "print(\"LemmatizedFake Dataset:\")\n",
        "print(fake_df.head(3))\n",
        "print(\"\\nLemmatizedTrue Dataset:\")\n",
        "print(true_df.head(3))\n",
        "\n"
      ],
      "metadata": {
        "colab": {
          "base_uri": "https://localhost:8080/"
        },
        "id": "16_G6fArqI_y",
        "outputId": "2fca6f6c-4720-4d2d-b0f4-35ededa2acef"
      },
      "execution_count": 74,
      "outputs": [
        {
          "output_type": "stream",
          "name": "stdout",
          "text": [
            "LemmatizedFake Dataset:\n",
            "                                               title  \\\n",
            "0  desperation or stupidity? german state recruit...   \n",
            "1  low flush toilets, delta smelt, payoffs, neigh...   \n",
            "2  grifter bill clinton pockets millions from pro...   \n",
            "\n",
            "                                                text          subject  \\\n",
            "0  it s too late for these countries who ve been ...        left-news   \n",
            "1  dr. gina loudon is hands down one of our favor...        left-news   \n",
            "2  the clinton grifters will take money from just...  government news   \n",
            "\n",
            "           date                                       cleaned_text  \\\n",
            "0  may 25, 2016  it s too late for these countries who ve been ...   \n",
            "1  apr 17, 2015  dr gina loudon is hands down one of our favori...   \n",
            "2   aug 4, 2016  the clinton grifters will take money from just...   \n",
            "\n",
            "                                   text_no_stopwords  \\\n",
            "0  late countries invaded mostly young muslim mal...   \n",
            "1  dr gina loudon hands one favorite conservative...   \n",
            "2  clinton grifters take money anyone even promot...   \n",
            "\n",
            "                                              tokens  \\\n",
            "0  ['late', 'countries', 'invaded', 'mostly', 'yo...   \n",
            "1  ['dr', 'gina', 'loudon', 'hands', 'one', 'favo...   \n",
            "2  ['clinton', 'grifters', 'take', 'money', 'anyo...   \n",
            "\n",
            "                                  reconstructed_text  \\\n",
            "0  late countries invaded mostly young muslim mal...   \n",
            "1  dr gina loudon hands one favorite conservative...   \n",
            "2  clinton grifters take money anyone even promot...   \n",
            "\n",
            "                                            pos_tags  \n",
            "0  [('it', 'PRON'), ('s', 'VERB'), ('too', 'ADV')...  \n",
            "1  [('dr', 'PROPN'), ('.', 'PROPN'), ('gina', 'PR...  \n",
            "2  [('the', 'DET'), ('clinton', 'PROPN'), ('grift...  \n",
            "\n",
            "LemmatizedTrue Dataset:\n",
            "                                               title  \\\n",
            "0  putin complains russian media abroad face unac...   \n",
            "1  france's hollande congratulates trump, warns o...   \n",
            "2  trump-backed candidate for senate heads to ala...   \n",
            "\n",
            "                                                text       subject  \\\n",
            "0  moscow (reuters) - president vladimir putin to...     worldnews   \n",
            "1  paris (reuters) - french president francois ho...  politicsnews   \n",
            "2  (reuters) - a republican candidate backed by p...  politicsnews   \n",
            "\n",
            "                  date                                       cleaned_text  \\\n",
            "0  september 29, 2017   moscow reuters president vladimir putin told a...   \n",
            "1    november 9, 2016   paris reuters french president francois hollan...   \n",
            "2     august 15, 2017   reuters a republican candidate backed by presi...   \n",
            "\n",
            "                                   text_no_stopwords  \\\n",
            "0  moscow reuters president vladimir putin told m...   \n",
            "1  paris reuters french president francois hollan...   \n",
            "2  reuters republican candidate backed president ...   \n",
            "\n",
            "                                              tokens  \\\n",
            "0  ['moscow', 'reuters', 'president', 'vladimir',...   \n",
            "1  ['paris', 'reuters', 'french', 'president', 'f...   \n",
            "2  ['reuters', 'republican', 'candidate', 'backed...   \n",
            "\n",
            "                                  reconstructed_text  \\\n",
            "0  moscow reuters president vladimir putin told m...   \n",
            "1  paris reuters french president francois hollan...   \n",
            "2  reuters republican candidate backed president ...   \n",
            "\n",
            "                                            pos_tags  \n",
            "0  [('moscow', 'PROPN'), ('(', 'PUNCT'), ('reuter...  \n",
            "1  [('paris', 'PROPN'), ('(', 'PUNCT'), ('reuters...  \n",
            "2  [('(', 'PUNCT'), ('reuters', 'NOUN'), (')', 'P...  \n"
          ]
        }
      ]
    },
    {
      "cell_type": "code",
      "source": [
        "fake_path = '/content/processed_fake_sample.csv'\n",
        "fake_df = pd.read_csv(fake_path)\n",
        "\n",
        "# Iterate through the 'text' column of the first 3 rows\n",
        "for text in fake_df['text'].head(3):  # Assuming 'text' is the column name\n",
        "    tokens = wordpunct_tokenize(text)\n",
        "    print(tokens)"
      ],
      "metadata": {
        "colab": {
          "base_uri": "https://localhost:8080/"
        },
        "id": "dLj7rgo5qJDy",
        "outputId": "aa9fe708-ebf2-4cb0-b919-988deb82a41e"
      },
      "execution_count": 75,
      "outputs": [
        {
          "output_type": "stream",
          "name": "stdout",
          "text": [
            "['it', 's', 'too', 'late', 'for', 'these', 'countries', 'who', 've', 'been', 'invaded', 'by', 'mostly', 'young', 'muslim', 'male', 'refugees', 'to', 'turn', 'back', 'the', 'clock', '.', 'bavaria', 'is', 'now', 'being', 'forced', 'to', 'do', 'whatever', 'they', 'can', 'to', 'fight', 'back', 'against', 'terrorism', 'in', 'their', 'own', 'backyards', '.', 'you', 'can', 't', 'allow', 'millions', 'of', 'unchecked', 'muslim', 'men', 'to', 'invade', 'your', 'sovereignty', 'without', 'paying', 'an', 'enormous', 'price', '.', 'asking', 'refugees', 'to', 'police', 'refugees', 'is', 'like', 'asking', 'prisoners', 'in', 'a', 'jail', 'to', 'police', 'themselves', '.', 'when', 'mostly', 'muslim', 'men', 'have', 'invaded', 'a', 'majority', 'catholic', 'state', ',', 'and', 'are', 'now', 'being', 'asked', 'to', 'police', 'its', 'citizens', ',', 'what', 'could', 'possible', 'go', 'wrong', '?', 'migrants', 'will', 'be', 'increasingly', 'recruited', 'as', 'police', 'officers', 'those', 'with', 'and', 'without', 'german', 'passports', '.', 'interior', 'minister', 'herrmann', 'hopes', 'this', 'will', 'produce', 'a', 'greater', 'clear', '-', 'up', 'rate', 'and', 'a', 'de', '-', 'escalation', 'of', 'violence', '.', 'the', 'failures', 'in', 'the', 'investigations', 'of', 'the', 'nsu', 'terror', 'group', 'have', 'increased', 'these', 'efforts', '.', 'bavaria', 'will', 'increasingly', 'employ', 'police', 'officers', 'with', 'foreign', 'roots', '.', 'experience', 'has', 'shown', 'that', 'they', 'have', 'a', 'more', 'direct', 'line', 'to', 'people', 'of', 'immigrant', 'origin', ',', 'as', 'they', 'speak', 'their', 'language', 'and', 'know', 'their', 'mentality', 'better', ',', 'said', 'interior', 'minister', 'joachim', 'herrmann', '(', 'csu', ')', 'on', 'monday', 'in', 'nuremberg', '.', 'i', 'hope', 'this', 'will', 'help', 'police', 'achieve', 'better', 'clear', '-', 'up', 'rates', 'and', 'conflict', 'resolution', '.', 'via', ':', 'merkur', '.', 'dethis', 'is', 'insane', '.', 'i', 'can', 'see', 'many', 'europeans', 'rightly', 'refusing', 'to', 'acknowledge', 'the', 'authority', 'of', 'police', 'officers', 'who', 'are', 'foreigners', 'and', 'don', 't', 'even', 'have', 'citizenship', '.', 'rt', 'in', 'october', ',', '2015', ',', 'bavarian', 'interior', 'minister', 'threatened', 'to', 'file', 'a', 'constitutional', 'complaint', 'against', 'the', 'federal', 'government', 'unless', 'it', 'would', 'implement', 'efficient', 'measures', 'to', 'curb', 'the', 'influx', 'of', 'refugees', '.', 'the', 'bavarian', 'government', 'stepped', 'up', 'pressure', 'on', 'angela', 'merkel', 's', 'cabinet', ',', 'demanding', 'that', 'the', 'german', 'government', 'drop', 'its', 'policy', 'of', 'welcoming', 'an', 'unlimited', 'number', 'of', 'refugees', '.', 'if', 'effective', 'measures', 'are', 'not', 'taken', 'to', 'deal', 'with', 'the', 'crisis', ',', 'bavaria', 'will', 'take', 'the', 'matter', 'to', 'the', 'constitutional', 'court', 'and', 'charge', 'the', 'german', 'government', 'with', 'endangering', 'the', 'legal', 'capacity', 'of', 'the', 'german', 'states', 'to', 'act', 'independently', ',', 'bavarian', 'interior', 'minister', 'joachim', 'herrmann', 'announced', 'after', 'an', 'emergency', 'meeting', 'of', 'the', 'bavarian', 'government', 'on', 'friday', '.', 'one', '[', 'the', 'german', 'government', ']', 'does', 'not', 'comply', 'with', 'the', 'law', 'and', 'the', 'other', '[', 'bavaria', ']', 'wants', 'the', 'law', 'to', 'be', 'complied', 'with', ',', 'bavarian', 'prime', 'minister', 'horst', 'seehofer', 'said', ',', 'commenting', 'on', 'the', 'decision', 'at', 'the', 'press', 'conference', 'following', 'the', 'meeting', '.', 'listen', 'here', ':']\n",
            "['dr', '.', 'gina', 'loudon', 'is', 'hands', 'down', 'one', 'of', 'our', 'favorite', 'conservative', 'writers', '.', 'she', 'nails', 'it', 'with', 'this', 'piece', 'about', 'the', 'truth', 'behind', 'the', 'lies', 'of', 'the', 'california', 'drought', 'i', 'found', 'it', 'supremely', 'ironic', 'this', 'week', 'that', 'two', 'of', 'the', 'big', 'stories', 'were', 'about', 'a', 'man', '-', 'made', 'lack', 'of', 'water', 'in', 'california', ',', 'and', 'a', 'man', 'lost', 'in', 'a', 'vast', 'sea', 'off', 'of', 'florida', '.', 'gov', '.', 'jerry', 'moonbeam', 'brown', 'announced', 'the', 'dire', 'circumstances', ',', 'not', 'from', 'the', 'capitol', 'in', 'sacramento', ',', 'but', 'from', 'the', 'dramatic', 'backdrop', 'of', 'a', 'mountaintop', '.', 'his', 'narrative', 'held', 'that', 'there', 'should', 'be', 'five', 'feet', 'of', 'snow', 'pack', ',', 'but', 'alas', ',', 'there', 'was', 'none', '.', 'brown', ',', 'and', 'the', 'radical', 'marxists', ',', 'couched', 'as', 'environmentalists', 'he', 'represents', ',', 'have', 'convinced', 'most', 'americans', 'to', 'hold', 'two', 'radically', 'opposing', 'views', 'simultaneously', '.', 'ostensibly', ',', 'california', 'is', 'in', 'danger', 'of', 'being', 'flooded', 'by', 'rising', 'sea', 'levels', 'caused', 'by', 'global', 'warming', 'and', 'melting', 'polar', 'ice', 'caps', ',', 'and', 'it', 'is', 'also', 'utterly', 'out', 'of', 'water', '.', 'there', 'is', 'no', 'shortage', 'of', 'water', '.', 'this', 'is', 'an', 'environmentalist', '-', 'created', 'drought', 'that', 'is', 'costing', 'billions', '.', 'i', 'waver', 'between', 'utter', 'disgust', 'and', 'admiration', 'when', 'i', 'watch', 'how', 'the', 'leftists', 'sell', 'these', 'things', ',', 'always', 'with', 'straight', 'faces', '.', 'every', 'major', 'news', 'outlet', 'in', 'america', 'and', 'many', 'around', 'the', 'world', 'swallowed', 'the', 'narrative', 'like', 'fish', 'on', 'a', 'baited', 'hook', '.', 'they', 'tell', 'us', 'there', 'is', 'no', 'water', ',', 'no', 'snow', 'to', 'provide', 'water', 'for', 'the', 'summer', ',', 'and', 'the', 'farmers', 'are', 'taking', 'too', 'much', 'so', 'people', 'must', 'suffer', '.', 'there', 'is', 'an', 'all', '-', 'out', 'war', 'on', 'grass', ',', 'and', 'no', 'one', 'is', 'safe', '.', 'sorry', ',', 'shaggy', ',', 'your', 'grass', 'is', 'to', 'blame', 'as', 'well', '.', 'there', 'is', 'hand', 'wringing', 'in', 'every', 'club', 'house', 'as', 'the', 'boards', 'are', 'told', 'they', 'are', 'coming', 'for', 'the', 'rough', 'grass', ',', 'your', 'fairways', 'and', 'greens', 'are', 'safe', ',', 'for', 'now', '.', 'evil', 'rich', 'guys', 'in', 'colorful', 'knickers', 'and', 'almond', 'farmers', 'in', 'overalls', 'are', 'the', 'scourge', 'of', 'california', '.', 'off', 'with', 'their', 'heads', '!', 'oh', ',', 'and', 'you', 'can', 'forget', 'about', 'the', 'luxury', 'of', 'children', 'playing', 'on', 'the', 'lawn', '.', 'if', 'you', 'want', 'that', ',', 'you', 'breeders', 'should', 'move', 'to', 'flyover', 'land', '!', 'don', 't', 'you', 'dare', 'sneak', 'and', 'water', 'the', 'backyard', 'after', 'dark', ';', 'brown', 'makes', 'it', 'easy', 'for', 'your', 'neighbors', 'to', 'snitch', 'on', 'you', '.', 'i', 'm', 'not', 'making', 'this', 'up', '.', 'they', 'really', 'have', 'a', 'state', 'hotline', 'for', 'that', '.', 'those', 'of', 'us', 'who', 'pay', 'attention', 'know', 'well', 'the', 'proverb', ',', 'where', 'there', 'is', 'no', 'vision', ',', 'the', 'people', 'perish', '.', 'the', 'people', 'who', 'built', 'california', 'into', 'the', 'greatest', 'agricultural', 'producer', 'in', 'america', 'gave', 'us', 'dams', ',', 'canals', ',', 'reservoirs', 'and', 'all', 'kinds', 'of', 'conveyance', 'of', 'water', '.', 'they', 'harnessed', 'the', 'rivers', 'that', 'reach', 'from', 'the', 'pacific', 'northwest', 'down', 'well', 'into', 'northern', 'california', 'and', 'even', 'draw', 'water', 'to', 'the', 'golden', 'state', 'from', 'the', 'colorado', 'river', '.', 'that', 'was', 'then', '.', 'nothing', 'has', 'changed', 'since', 'then', ',', 'except', 'political', 'power', '.', 'for', 'the', 'last', 'several', 'decades', ',', 'the', 'radical', 'fringe', 'has', 'taken', 'full', 'control', 'of', 'california', ',', 'and', 'it', 'hates', 'people', '.', 'dennis', 'prager', 'observed', 'that', 'statists', 'love', 'humanity', 'but', 'hate', 'humans', '.', 'watch', 'how', 'they', 'latch', 'onto', 'dreams', 'of', 'egalitarian', 'states', 'but', 'begin', 'the', 'execution', 'of', 'their', 'plans', 'by', 'marginalizing', ',', 'isolating', 'and', 'then', 'executing', 'anyone', 'who', 'disagrees', 'with', 'them', '.', 'they', 'dine', 'in', 'the', 'finest', 'restaurants', 'in', 'san', 'francisco', ',', 'the', 'likes', 'of', 'brown', ',', 'pelosi', ',', 'boxer', 'and', 'feinstein', ',', 'planning', 'lawsuits', 'to', 'cut', 'the', 'flow', 'of', 'water', 'to', 'the', 'farms', 'of', 'central', 'california', 'and', 'the', 'people', 'in', 'southern', 'california', ',', 'caring', 'not', 'a', 'wit', 'that', '40', ',', '000', 'agricultural', 'workers', ',', 'mostly', 'hispanic', ',', 'are', 'unemployed', '.', 'just', 'this', 'week', ',', 'in', 'the', 'middle', 'of', 'a', 'human', 'crisis', ',', 'federal', 'fish', 'agents', 'ordered', 'the', 'release', 'of', 'billions', 'of', 'gallons', 'of', 'water', 'purportedly', 'to', 'save', 'six', 'fish', '.', 'you', 'read', 'that', 'right', '.', 'not', 'to', 'save', 'six', 'species', 'of', 'fish', ',', 'but', 'literally', ',', 'six', 'fish', '.', 'apparently', ',', 'these', 'special', 'six', 'stood', 'their', ',', 'err', 'ground', ',', 'and', 'when', '29', 'of', 'their', 'compadres', 'rode', 'the', '10', 'billion', 'gallon', 'man', '-', 'made', 'wave', 'to', 'the', 'ocean', 'in', 'march', ',', 'they', 'refused', 'to', 'go', 'with', 'the', 'flow', '(', 'sorry', ').', 'you', 'can', 't', 'make', 'this', 'stuff', 'up', '.', 'but', 'when', 'you', 'do', ',', 'people', 'actually', 'believe', 'it', '.', 'so', 'obama', 'administration', 'agents', 'want', 'a', 'second', 'toilet', 'flush', 'to', 'give', 'these', 'hard', '-', 'headed', 'steelheads', 'a', 'second', 'nudge', '.', 'the', 'idea', 'that', 'nature', 'itself', 'may', 'be', 'holding', 'the', 'fish', 'where', 'they', 'are', 'is', 'of', 'no', 'concern', 'to', 'statists', 'who', 'love', 'telling', 'both', 'man', 'and', 'beast', 'what', 'they', 'think', 'is', 'good', 'for', 'them', '.', 'sadly', ',', 'this', 'latest', 'mind', '-', 'boggling', 'atrocity', 'is', 'getting', 'very', 'little', 'media', 'coverage', '.', 'i', 'found', 'excellent', 'coverage', 'in', 'the', 'manteca', 'bulletin', '.', 'why', 'hasn', 't', 'the', 'los', 'angeles', 'times', 'reported', 'on', 'this', '?', 'the', 'current', 'shortage', 'is', 'based', 'primarily', 'on', 'the', 'release', 'of', 'billions', 'of', 'gallons', 'daily', 'into', 'the', 'san', 'francisco', 'bay', 'to', 'sustain', 'the', 'bait', 'fish', 'known', 'as', 'the', 'delta', 'smelt', '.', 'this', 'is', 'a', 'simple', 'distribution', 'issue', ';', 'there', 'is', 'plenty', 'of', 'water', '.', 'prior', 'to', 'the', 'statists', 'taking', 'over', 'california', ',', 'massive', 'pumps', 'were', 'diverting', 'water', 'from', 'rivers', 'into', 'the', 'canal', 'system', '(', 'built', 'before', 'brown', 'and', 'his', 'ilk', 'took', 'control', 'of', 'the', 'state', ').', 'they', 'have', 'all', 'but', 'turned', 'these', 'pumps', 'off', 'to', 'protect', 'the', 'fish', 'from', 'their', 'darwinian', 'demise', ',', 'and', 'billions', 'upon', 'billions', 'of', 'gallons', 'of', 'fresh', 'water', 'is', 'continuously', 'dumped', 'into', 'the', 'ocean', '.', 'for', 'the', 'people', '-', 'hating', 'san', 'francisco', 'cabal', ',', 'cutting', 'off', 'water', 'from', 'the', 'people', 'is', 'the', 'real', 'goal', '.', 'they', 'want', 'fewer', 'people', 'to', 'begin', 'with', ',', 'but', 'the', 'ultimate', 'goal', 'is', 'control', '.', 'few', 'environmentalists', 'admit', 'it', 'publicly', ',', 'but', 'they', 'want', 'zero', 'farming', 'in', 'the', 'central', 'valley', ',', 'preferring', 'to', 'allow', 'land', 'to', 'return', 'to', 'its', 'prehistoric', 'state', '.', 'the', 'cabal', 'wants', 'to', 'control', 'water', 'so', 'they', 'can', 'control', 'people', '.', 'brown', 'is', 'just', 'the', 'messenger', 'today', '.', 'he', 'is', 'telling', 'america', 'that', 'water', 'access', 'is', 'a', 'privilege', ',', 'he', 'has', 'the', 'power', 'to', 'pick', 'winners', 'and', 'losers', ',', 'and', 'we', 'have', 'to', 'just', 'take', 'it', '.', 'if', 'brown', 'decides', 'tomorrow', 'that', 'he', 'wants', 'to', 'withhold', 'water', 'from', 'almond', 'farmers', ',', 'americans', 'will', 'just', 'have', 'to', 'accept', 'it', '.', 'have', 'you', 'ever', 'wondered', 'why', 'any', 'business', 'owner', 'would', 'give', 'campaign', 'donations', 'to', 'marxist', ',', 'business', '-', 'hating', 'politicians', '?', 'now', 'you', 'know', 'why', '.', 'they', 'must', 'give', 'to', 'buy', 'protection', '.', 'business', 'owners', 'do', 'not', 'donate', 'to', 'brown', ',', 'pelosi', 'or', 'harry', 'reid', 'because', 'those', 'politicians', 'are', 'good', 'for', 'business', ';', 'they', 'give', 'to', 'be', 'sure', 'they', 'are', 'not', 'the', 'next', 'targets', '.', 'the', 'problem', 'with', 'all', 'of', 'this', 'is', 'that', 'water', 'is', 'a', 'limitless', 'natural', 'resource', '.', 'just', 'ask', 'the', 'sailor', 'who', 'faced', 'drowning', 'daily', 'or', 'the', 'people', 'in', 'the', 'midwest', 'who', 'were', 'deluged', 'this', 'week', '.', 'it', 'is', 'one', 'thing', 'to', 'argue', 'for', 'conservation', 'of', 'animals', ',', 'or', 'even', 'trees', ',', 'or', 'green', 'space', ',', 'but', 'water', '?', 'water', 'is', 'a', 'limitless', 'natural', 'resource', '.', 'not', 'even', 'the', 'most', 'self', '-', 'important', 'leftist', 'believes', 'he', 'could', 'make', 'water', 'go', 'away', ',', 'no', 'matter', 'how', 'hard', 'he', 'tried', '.', 'how', 'did', 'they', 'convince', 'us', 'to', 'accept', 'this', 'lie', '?', 'they', 'got', 'us', 'to', 'buy', 'the', 'lie', 'that', 'water', 'is', 'scarce', 'by', 'telling', 'it', 'often', 'enough', 'and', 'pounding', 'it', 'into', 'generations', 'of', 'schoolchildren', '.', 'using', 'federal', 'law', 'and', 'acts', 'of', 'congress', ',', 'they', 'forced', 'people', 'from', 'water', '-', 'soaked', 'regions', 'to', 'accept', 'low', 'flush', 'or', 'what', 'some', 'call', 'two', 'flush', 'toilets', 'the', 'same', 'as', 'desert', '-', 'dwelling', 'californians', '.', 'and', 'we', 'fell', 'for', 'it', '.', 'at', 'least', 'the', 'democrats', 'among', 'us', 'fell', 'for', 'it', '.', 'thus', 'it', 'is', 'that', 'brown', 'got', 'to', 'have', 'his', 'cake', 'and', 'eat', 'it', ',', 'too', '.', 'he', 'told', 'californians', ',', 'and', 'really', 'all', 'americans', 'and', 'the', 'world', ',', 'that', 'lack', 'of', 'water', 'was', 'not', 'his', 'fault', 'for', 'lacking', 'the', 'vision', 'to', 'feed', 'the', 'distribution', 'system', 'created', 'by', 'the', 'real', 'men', 'who', 'built', 'california', '.', 'he', 'repeats', 'that', 'it', 'is', 'not', 'the', 'fault', 'of', 'the', 'marxists', 'endangered', 'species', 'act', 'that', 'prefers', 'hard', '-', 'headed', 'fish', 'over', 'people', '.', 'the', 'lack', 'of', 'water', 'is', 'the', 'result', 'of', 'the', 'lack', 'of', 'snow', 'pack', ',', 'which', 'is', 'the', 'result', 'of', 'climate', 'change', ',', 'which', 'is', 'the', 'result', 'of', 'greedy', 'people', 'being', 'well', ',', 'people', '.', 'the', 'delta', 'smelt', 'and', 'steelhead', 'trout', 'must', 'live', 'and', 'we', 'mere', 'humans', 'should', 'all', 'just', 'die', '.', 'meanwhile', ',', 'jerry', 'brown', 'is', 'committed', 'to', 'spending', '$', '100', 'billion', 'for', 'trains', ',', 'but', 'he', 'has', 'made', 'zero', 'commitment', 'to', 'allowing', 'water', 'to', 'flow', 'to', 'people', 'instead', 'of', 'fish', ',', 'and', 'zero', 'commitment', 'to', 'finding', 'funding', 'for', 'his', 'twin', 'tunnels', 'alternate', 'solution', '.', 'and', 'why', 'would', 'he', '?', 'we', 'are', 'cutting', 'back', 'our', 'water', 'use', ',', 'ratting', 'on', 'our', 'neighbors', 'and', 'accepting', 'higher', 'produce', 'prices', 'across', 'america', '.', 'the', 'marxists', 'in', 'san', 'francisco', 'are', 'toasting', 'total', 'victory', '.', 'the', 'farmers', 'and', 'country', 'club', 'board', 'members', 'are', 'suing', 'for', 'peace', '.', 'lord', 'help', 'usvia', ':', 'wnd']\n",
            "['the', 'clinton', 'grifters', 'will', 'take', 'money', 'from', 'just', 'about', 'anyone', 'even', 'promoters', 'of', 'terror', '.', 'the', 'report', 'below', 'should', 'tell', 'you', 'all', 'you', 'need', 'to', 'know', 'about', 'the', 'influence', 'peddlers', 'that', 'really', 'have', 'sold', 'out', 'the', 'american', 'people', '.', 'do', 'you', 'want', 'these', 'two', 'in', 'the', 'white', 'house', 'again', '?', 'former', 'president', 'bill', 'clinton', 'collected', '$', '5', '.', '6', 'million', 'in', 'fees', 'from', 'gems', 'education', ',', 'a', 'dubai', '-', 'based', 'company', 'that', 'teaches', 'sharia', 'law', 'through', 'its', 'network', 'of', 'more', 'than', '100', 'schools', 'in', 'the', 'middle', 'east', ',', 'asia', 'and', 'africa', ',', 'according', 'to', 'a', 'daily', 'caller', 'news', 'foundation', 'investigation', '.', 'the', 'company', 's', 'finances', 'strictly', 'adhere', 'to', 'sharia', 'finance', ',', 'which', 'includes', 'giving', 'zakat', ',', 'a', 'religious', 'tax', 'of', 'which', 'one', '-', 'eighth', 'of', 'the', 'proceeds', 'is', 'dedicated', 'to', 'funding', 'islamic', 'jihad', '.', 'the', 'company', 'also', 'contributed', 'millions', 'of', 'dollars', 'to', 'the', 'clinton', 'foundation', '.', 'the', 'former', 'president', 'served', 'as', 'honorary', 'chairman', 'for', 'gems', 'education', 'from', '2011', 'to', '2014', ',', 'according', 'to', 'federal', 'tax', 'returns', 'he', 'filed', 'with', 'his', 'wife', ',', '2016', 'democratic', 'presidential', 'nominee', 'hillary', 'clinton', '.', 'his', 'biggest', 'paycheck', 'from', 'the', 'closely', '-', 'held', 'company', 'which', 'is', 'incorporated', 'in', 'the', 'cayman', 'islands', 'was', 'in', '2014', 'when', 'he', 'pocketed', '$', '2', '.', '1', 'million', '.', 'it', 'is', 'unclear', 'if', 'bill', 'received', 'income', 'from', 'the', 'middle', 'eastern', 'firm', 'in', '2015', ',', 'since', 'hillary', 'has', 'not', 'yet', 'released', 'her', 'tax', 'return', 'for', 'that', 'year', '.', 'read', 'more', ':', 'daily', 'caller']\n"
          ]
        }
      ]
    },
    {
      "cell_type": "code",
      "source": [],
      "metadata": {
        "id": "4oAD5S_N3PXA"
      },
      "execution_count": null,
      "outputs": []
    },
    {
      "cell_type": "code",
      "source": [
        "!pip install spacy\n",
        "import spacy\n",
        "\n",
        "# Download the English language model if you haven't already\n",
        "!python -m spacy download en_core_web_sm"
      ],
      "metadata": {
        "colab": {
          "base_uri": "https://localhost:8080/"
        },
        "id": "bgJzVEelgBNj",
        "outputId": "cc7937a0-b62d-43ed-e3af-3928f9cfb2d6"
      },
      "execution_count": 10,
      "outputs": [
        {
          "output_type": "stream",
          "name": "stdout",
          "text": [
            "Requirement already satisfied: spacy in /usr/local/lib/python3.10/dist-packages (3.7.5)\n",
            "Requirement already satisfied: spacy-legacy<3.1.0,>=3.0.11 in /usr/local/lib/python3.10/dist-packages (from spacy) (3.0.12)\n",
            "Requirement already satisfied: spacy-loggers<2.0.0,>=1.0.0 in /usr/local/lib/python3.10/dist-packages (from spacy) (1.0.5)\n",
            "Requirement already satisfied: murmurhash<1.1.0,>=0.28.0 in /usr/local/lib/python3.10/dist-packages (from spacy) (1.0.11)\n",
            "Requirement already satisfied: cymem<2.1.0,>=2.0.2 in /usr/local/lib/python3.10/dist-packages (from spacy) (2.0.10)\n",
            "Requirement already satisfied: preshed<3.1.0,>=3.0.2 in /usr/local/lib/python3.10/dist-packages (from spacy) (3.0.9)\n",
            "Requirement already satisfied: thinc<8.3.0,>=8.2.2 in /usr/local/lib/python3.10/dist-packages (from spacy) (8.2.5)\n",
            "Requirement already satisfied: wasabi<1.2.0,>=0.9.1 in /usr/local/lib/python3.10/dist-packages (from spacy) (1.1.3)\n",
            "Requirement already satisfied: srsly<3.0.0,>=2.4.3 in /usr/local/lib/python3.10/dist-packages (from spacy) (2.5.0)\n",
            "Requirement already satisfied: catalogue<2.1.0,>=2.0.6 in /usr/local/lib/python3.10/dist-packages (from spacy) (2.0.10)\n",
            "Requirement already satisfied: weasel<0.5.0,>=0.1.0 in /usr/local/lib/python3.10/dist-packages (from spacy) (0.4.1)\n",
            "Requirement already satisfied: typer<1.0.0,>=0.3.0 in /usr/local/lib/python3.10/dist-packages (from spacy) (0.15.1)\n",
            "Requirement already satisfied: tqdm<5.0.0,>=4.38.0 in /usr/local/lib/python3.10/dist-packages (from spacy) (4.67.1)\n",
            "Requirement already satisfied: requests<3.0.0,>=2.13.0 in /usr/local/lib/python3.10/dist-packages (from spacy) (2.32.3)\n",
            "Requirement already satisfied: pydantic!=1.8,!=1.8.1,<3.0.0,>=1.7.4 in /usr/local/lib/python3.10/dist-packages (from spacy) (2.10.3)\n",
            "Requirement already satisfied: jinja2 in /usr/local/lib/python3.10/dist-packages (from spacy) (3.1.4)\n",
            "Requirement already satisfied: setuptools in /usr/local/lib/python3.10/dist-packages (from spacy) (75.1.0)\n",
            "Requirement already satisfied: packaging>=20.0 in /usr/local/lib/python3.10/dist-packages (from spacy) (24.2)\n",
            "Requirement already satisfied: langcodes<4.0.0,>=3.2.0 in /usr/local/lib/python3.10/dist-packages (from spacy) (3.5.0)\n",
            "Requirement already satisfied: numpy>=1.19.0 in /usr/local/lib/python3.10/dist-packages (from spacy) (1.26.4)\n",
            "Requirement already satisfied: language-data>=1.2 in /usr/local/lib/python3.10/dist-packages (from langcodes<4.0.0,>=3.2.0->spacy) (1.3.0)\n",
            "Requirement already satisfied: annotated-types>=0.6.0 in /usr/local/lib/python3.10/dist-packages (from pydantic!=1.8,!=1.8.1,<3.0.0,>=1.7.4->spacy) (0.7.0)\n",
            "Requirement already satisfied: pydantic-core==2.27.1 in /usr/local/lib/python3.10/dist-packages (from pydantic!=1.8,!=1.8.1,<3.0.0,>=1.7.4->spacy) (2.27.1)\n",
            "Requirement already satisfied: typing-extensions>=4.12.2 in /usr/local/lib/python3.10/dist-packages (from pydantic!=1.8,!=1.8.1,<3.0.0,>=1.7.4->spacy) (4.12.2)\n",
            "Requirement already satisfied: charset-normalizer<4,>=2 in /usr/local/lib/python3.10/dist-packages (from requests<3.0.0,>=2.13.0->spacy) (3.4.0)\n",
            "Requirement already satisfied: idna<4,>=2.5 in /usr/local/lib/python3.10/dist-packages (from requests<3.0.0,>=2.13.0->spacy) (3.10)\n",
            "Requirement already satisfied: urllib3<3,>=1.21.1 in /usr/local/lib/python3.10/dist-packages (from requests<3.0.0,>=2.13.0->spacy) (2.2.3)\n",
            "Requirement already satisfied: certifi>=2017.4.17 in /usr/local/lib/python3.10/dist-packages (from requests<3.0.0,>=2.13.0->spacy) (2024.12.14)\n",
            "Requirement already satisfied: blis<0.8.0,>=0.7.8 in /usr/local/lib/python3.10/dist-packages (from thinc<8.3.0,>=8.2.2->spacy) (0.7.11)\n",
            "Requirement already satisfied: confection<1.0.0,>=0.0.1 in /usr/local/lib/python3.10/dist-packages (from thinc<8.3.0,>=8.2.2->spacy) (0.1.5)\n",
            "Requirement already satisfied: click>=8.0.0 in /usr/local/lib/python3.10/dist-packages (from typer<1.0.0,>=0.3.0->spacy) (8.1.7)\n",
            "Requirement already satisfied: shellingham>=1.3.0 in /usr/local/lib/python3.10/dist-packages (from typer<1.0.0,>=0.3.0->spacy) (1.5.4)\n",
            "Requirement already satisfied: rich>=10.11.0 in /usr/local/lib/python3.10/dist-packages (from typer<1.0.0,>=0.3.0->spacy) (13.9.4)\n",
            "Requirement already satisfied: cloudpathlib<1.0.0,>=0.7.0 in /usr/local/lib/python3.10/dist-packages (from weasel<0.5.0,>=0.1.0->spacy) (0.20.0)\n",
            "Requirement already satisfied: smart-open<8.0.0,>=5.2.1 in /usr/local/lib/python3.10/dist-packages (from weasel<0.5.0,>=0.1.0->spacy) (7.1.0)\n",
            "Requirement already satisfied: MarkupSafe>=2.0 in /usr/local/lib/python3.10/dist-packages (from jinja2->spacy) (3.0.2)\n",
            "Requirement already satisfied: marisa-trie>=1.1.0 in /usr/local/lib/python3.10/dist-packages (from language-data>=1.2->langcodes<4.0.0,>=3.2.0->spacy) (1.2.1)\n",
            "Requirement already satisfied: markdown-it-py>=2.2.0 in /usr/local/lib/python3.10/dist-packages (from rich>=10.11.0->typer<1.0.0,>=0.3.0->spacy) (3.0.0)\n",
            "Requirement already satisfied: pygments<3.0.0,>=2.13.0 in /usr/local/lib/python3.10/dist-packages (from rich>=10.11.0->typer<1.0.0,>=0.3.0->spacy) (2.18.0)\n",
            "Requirement already satisfied: wrapt in /usr/local/lib/python3.10/dist-packages (from smart-open<8.0.0,>=5.2.1->weasel<0.5.0,>=0.1.0->spacy) (1.17.0)\n",
            "Requirement already satisfied: mdurl~=0.1 in /usr/local/lib/python3.10/dist-packages (from markdown-it-py>=2.2.0->rich>=10.11.0->typer<1.0.0,>=0.3.0->spacy) (0.1.2)\n",
            "Collecting en-core-web-sm==3.7.1\n",
            "  Downloading https://github.com/explosion/spacy-models/releases/download/en_core_web_sm-3.7.1/en_core_web_sm-3.7.1-py3-none-any.whl (12.8 MB)\n",
            "\u001b[2K     \u001b[90m━━━━━━━━━━━━━━━━━━━━━━━━━━━━━━━━━━━━━━━━\u001b[0m \u001b[32m12.8/12.8 MB\u001b[0m \u001b[31m37.1 MB/s\u001b[0m eta \u001b[36m0:00:00\u001b[0m\n",
            "\u001b[?25hRequirement already satisfied: spacy<3.8.0,>=3.7.2 in /usr/local/lib/python3.10/dist-packages (from en-core-web-sm==3.7.1) (3.7.5)\n",
            "Requirement already satisfied: spacy-legacy<3.1.0,>=3.0.11 in /usr/local/lib/python3.10/dist-packages (from spacy<3.8.0,>=3.7.2->en-core-web-sm==3.7.1) (3.0.12)\n",
            "Requirement already satisfied: spacy-loggers<2.0.0,>=1.0.0 in /usr/local/lib/python3.10/dist-packages (from spacy<3.8.0,>=3.7.2->en-core-web-sm==3.7.1) (1.0.5)\n",
            "Requirement already satisfied: murmurhash<1.1.0,>=0.28.0 in /usr/local/lib/python3.10/dist-packages (from spacy<3.8.0,>=3.7.2->en-core-web-sm==3.7.1) (1.0.11)\n",
            "Requirement already satisfied: cymem<2.1.0,>=2.0.2 in /usr/local/lib/python3.10/dist-packages (from spacy<3.8.0,>=3.7.2->en-core-web-sm==3.7.1) (2.0.10)\n",
            "Requirement already satisfied: preshed<3.1.0,>=3.0.2 in /usr/local/lib/python3.10/dist-packages (from spacy<3.8.0,>=3.7.2->en-core-web-sm==3.7.1) (3.0.9)\n",
            "Requirement already satisfied: thinc<8.3.0,>=8.2.2 in /usr/local/lib/python3.10/dist-packages (from spacy<3.8.0,>=3.7.2->en-core-web-sm==3.7.1) (8.2.5)\n",
            "Requirement already satisfied: wasabi<1.2.0,>=0.9.1 in /usr/local/lib/python3.10/dist-packages (from spacy<3.8.0,>=3.7.2->en-core-web-sm==3.7.1) (1.1.3)\n",
            "Requirement already satisfied: srsly<3.0.0,>=2.4.3 in /usr/local/lib/python3.10/dist-packages (from spacy<3.8.0,>=3.7.2->en-core-web-sm==3.7.1) (2.5.0)\n",
            "Requirement already satisfied: catalogue<2.1.0,>=2.0.6 in /usr/local/lib/python3.10/dist-packages (from spacy<3.8.0,>=3.7.2->en-core-web-sm==3.7.1) (2.0.10)\n",
            "Requirement already satisfied: weasel<0.5.0,>=0.1.0 in /usr/local/lib/python3.10/dist-packages (from spacy<3.8.0,>=3.7.2->en-core-web-sm==3.7.1) (0.4.1)\n",
            "Requirement already satisfied: typer<1.0.0,>=0.3.0 in /usr/local/lib/python3.10/dist-packages (from spacy<3.8.0,>=3.7.2->en-core-web-sm==3.7.1) (0.15.1)\n",
            "Requirement already satisfied: tqdm<5.0.0,>=4.38.0 in /usr/local/lib/python3.10/dist-packages (from spacy<3.8.0,>=3.7.2->en-core-web-sm==3.7.1) (4.67.1)\n",
            "Requirement already satisfied: requests<3.0.0,>=2.13.0 in /usr/local/lib/python3.10/dist-packages (from spacy<3.8.0,>=3.7.2->en-core-web-sm==3.7.1) (2.32.3)\n",
            "Requirement already satisfied: pydantic!=1.8,!=1.8.1,<3.0.0,>=1.7.4 in /usr/local/lib/python3.10/dist-packages (from spacy<3.8.0,>=3.7.2->en-core-web-sm==3.7.1) (2.10.3)\n",
            "Requirement already satisfied: jinja2 in /usr/local/lib/python3.10/dist-packages (from spacy<3.8.0,>=3.7.2->en-core-web-sm==3.7.1) (3.1.4)\n",
            "Requirement already satisfied: setuptools in /usr/local/lib/python3.10/dist-packages (from spacy<3.8.0,>=3.7.2->en-core-web-sm==3.7.1) (75.1.0)\n",
            "Requirement already satisfied: packaging>=20.0 in /usr/local/lib/python3.10/dist-packages (from spacy<3.8.0,>=3.7.2->en-core-web-sm==3.7.1) (24.2)\n",
            "Requirement already satisfied: langcodes<4.0.0,>=3.2.0 in /usr/local/lib/python3.10/dist-packages (from spacy<3.8.0,>=3.7.2->en-core-web-sm==3.7.1) (3.5.0)\n",
            "Requirement already satisfied: numpy>=1.19.0 in /usr/local/lib/python3.10/dist-packages (from spacy<3.8.0,>=3.7.2->en-core-web-sm==3.7.1) (1.26.4)\n",
            "Requirement already satisfied: language-data>=1.2 in /usr/local/lib/python3.10/dist-packages (from langcodes<4.0.0,>=3.2.0->spacy<3.8.0,>=3.7.2->en-core-web-sm==3.7.1) (1.3.0)\n",
            "Requirement already satisfied: annotated-types>=0.6.0 in /usr/local/lib/python3.10/dist-packages (from pydantic!=1.8,!=1.8.1,<3.0.0,>=1.7.4->spacy<3.8.0,>=3.7.2->en-core-web-sm==3.7.1) (0.7.0)\n",
            "Requirement already satisfied: pydantic-core==2.27.1 in /usr/local/lib/python3.10/dist-packages (from pydantic!=1.8,!=1.8.1,<3.0.0,>=1.7.4->spacy<3.8.0,>=3.7.2->en-core-web-sm==3.7.1) (2.27.1)\n",
            "Requirement already satisfied: typing-extensions>=4.12.2 in /usr/local/lib/python3.10/dist-packages (from pydantic!=1.8,!=1.8.1,<3.0.0,>=1.7.4->spacy<3.8.0,>=3.7.2->en-core-web-sm==3.7.1) (4.12.2)\n",
            "Requirement already satisfied: charset-normalizer<4,>=2 in /usr/local/lib/python3.10/dist-packages (from requests<3.0.0,>=2.13.0->spacy<3.8.0,>=3.7.2->en-core-web-sm==3.7.1) (3.4.0)\n",
            "Requirement already satisfied: idna<4,>=2.5 in /usr/local/lib/python3.10/dist-packages (from requests<3.0.0,>=2.13.0->spacy<3.8.0,>=3.7.2->en-core-web-sm==3.7.1) (3.10)\n",
            "Requirement already satisfied: urllib3<3,>=1.21.1 in /usr/local/lib/python3.10/dist-packages (from requests<3.0.0,>=2.13.0->spacy<3.8.0,>=3.7.2->en-core-web-sm==3.7.1) (2.2.3)\n",
            "Requirement already satisfied: certifi>=2017.4.17 in /usr/local/lib/python3.10/dist-packages (from requests<3.0.0,>=2.13.0->spacy<3.8.0,>=3.7.2->en-core-web-sm==3.7.1) (2024.12.14)\n",
            "Requirement already satisfied: blis<0.8.0,>=0.7.8 in /usr/local/lib/python3.10/dist-packages (from thinc<8.3.0,>=8.2.2->spacy<3.8.0,>=3.7.2->en-core-web-sm==3.7.1) (0.7.11)\n",
            "Requirement already satisfied: confection<1.0.0,>=0.0.1 in /usr/local/lib/python3.10/dist-packages (from thinc<8.3.0,>=8.2.2->spacy<3.8.0,>=3.7.2->en-core-web-sm==3.7.1) (0.1.5)\n",
            "Requirement already satisfied: click>=8.0.0 in /usr/local/lib/python3.10/dist-packages (from typer<1.0.0,>=0.3.0->spacy<3.8.0,>=3.7.2->en-core-web-sm==3.7.1) (8.1.7)\n",
            "Requirement already satisfied: shellingham>=1.3.0 in /usr/local/lib/python3.10/dist-packages (from typer<1.0.0,>=0.3.0->spacy<3.8.0,>=3.7.2->en-core-web-sm==3.7.1) (1.5.4)\n",
            "Requirement already satisfied: rich>=10.11.0 in /usr/local/lib/python3.10/dist-packages (from typer<1.0.0,>=0.3.0->spacy<3.8.0,>=3.7.2->en-core-web-sm==3.7.1) (13.9.4)\n",
            "Requirement already satisfied: cloudpathlib<1.0.0,>=0.7.0 in /usr/local/lib/python3.10/dist-packages (from weasel<0.5.0,>=0.1.0->spacy<3.8.0,>=3.7.2->en-core-web-sm==3.7.1) (0.20.0)\n",
            "Requirement already satisfied: smart-open<8.0.0,>=5.2.1 in /usr/local/lib/python3.10/dist-packages (from weasel<0.5.0,>=0.1.0->spacy<3.8.0,>=3.7.2->en-core-web-sm==3.7.1) (7.1.0)\n",
            "Requirement already satisfied: MarkupSafe>=2.0 in /usr/local/lib/python3.10/dist-packages (from jinja2->spacy<3.8.0,>=3.7.2->en-core-web-sm==3.7.1) (3.0.2)\n",
            "Requirement already satisfied: marisa-trie>=1.1.0 in /usr/local/lib/python3.10/dist-packages (from language-data>=1.2->langcodes<4.0.0,>=3.2.0->spacy<3.8.0,>=3.7.2->en-core-web-sm==3.7.1) (1.2.1)\n",
            "Requirement already satisfied: markdown-it-py>=2.2.0 in /usr/local/lib/python3.10/dist-packages (from rich>=10.11.0->typer<1.0.0,>=0.3.0->spacy<3.8.0,>=3.7.2->en-core-web-sm==3.7.1) (3.0.0)\n",
            "Requirement already satisfied: pygments<3.0.0,>=2.13.0 in /usr/local/lib/python3.10/dist-packages (from rich>=10.11.0->typer<1.0.0,>=0.3.0->spacy<3.8.0,>=3.7.2->en-core-web-sm==3.7.1) (2.18.0)\n",
            "Requirement already satisfied: wrapt in /usr/local/lib/python3.10/dist-packages (from smart-open<8.0.0,>=5.2.1->weasel<0.5.0,>=0.1.0->spacy<3.8.0,>=3.7.2->en-core-web-sm==3.7.1) (1.17.0)\n",
            "Requirement already satisfied: mdurl~=0.1 in /usr/local/lib/python3.10/dist-packages (from markdown-it-py>=2.2.0->rich>=10.11.0->typer<1.0.0,>=0.3.0->spacy<3.8.0,>=3.7.2->en-core-web-sm==3.7.1) (0.1.2)\n",
            "\u001b[38;5;2m✔ Download and installation successful\u001b[0m\n",
            "You can now load the package via spacy.load('en_core_web_sm')\n",
            "\u001b[38;5;3m⚠ Restart to reload dependencies\u001b[0m\n",
            "If you are in a Jupyter or Colab notebook, you may need to restart Python in\n",
            "order to load all the package's dependencies. You can do this by selecting the\n",
            "'Restart kernel' or 'Restart runtime' option.\n"
          ]
        }
      ]
    },
    {
      "cell_type": "code",
      "execution_count": 15,
      "metadata": {
        "id": "fUCRpn5tceTs"
      },
      "outputs": [],
      "source": [
        "import spacy\n",
        "\n",
        "# Load the spaCy model\n",
        "nlp = spacy.load(\"en_core_web_sm\")\n",
        "\n",
        "def spacy_pos_tagging_batch(texts):\n",
        "    \"\"\"Performs POS tagging on a batch of texts using spaCy.\"\"\"\n",
        "    pos_tags = []\n",
        "    for doc in nlp.pipe(texts):\n",
        "        pos_tags.append([(token.text, token.pos_) for token in doc])\n",
        "    return pos_tags\n",
        "\n",
        "fake_df_sample = fake_df.sample(5000)  # Use 5,000 rows\n",
        "true_df_sample = true_df.sample(5000)\n",
        "\n",
        "fake_df_sample['pos_tags'] = spacy_pos_tagging_batch(fake_df_sample['text'])\n",
        "true_df_sample['pos_tags'] = spacy_pos_tagging_batch(true_df_sample['text'])"
      ]
    },
    {
      "cell_type": "code",
      "source": [
        "print(\"Fake Dataset Sample with POS Tags:\")\n",
        "print(fake_df_sample[['text', 'pos_tags']].head(6))\n",
        "print(fake_df_sample[['text', 'pos_tags']].tail(6))\n",
        "\n",
        "print(\"\\nTrue Dataset Sample with POS Tags:\")\n",
        "print(true_df_sample[['text', 'pos_tags']].head())"
      ],
      "metadata": {
        "colab": {
          "base_uri": "https://localhost:8080/"
        },
        "id": "rqgqnezZqVIa",
        "outputId": "f9db7fd1-b13a-4f57-b74b-51863a28fbb5"
      },
      "execution_count": 16,
      "outputs": [
        {
          "output_type": "stream",
          "name": "stdout",
          "text": [
            "Fake Dataset Sample with POS Tags:\n",
            "                                                   text  \\\n",
            "4834  it s too late for these countries who ve been ...   \n",
            "2445  dr. gina loudon is hands down one of our favor...   \n",
            "2182  the clinton grifters will take money from just...   \n",
            "3195  dr ben carson gives his take on loretta lynch ...   \n",
            "2137  you can thank the racist black lives matter pa...   \n",
            "3865  donald trump has been crucified by the leftist...   \n",
            "\n",
            "                                               pos_tags  \n",
            "4834  [(it, PRON), (s, VERB), (too, ADV), (late, ADJ...  \n",
            "2445  [(dr, PROPN), (., PROPN), (gina, PROPN), (loud...  \n",
            "2182  [(the, DET), (clinton, PROPN), (grifters, NOUN...  \n",
            "3195  [(dr, PROPN), (ben, PROPN), (carson, PROPN), (...  \n",
            "2137  [(you, PRON), (can, AUX), (thank, VERB), (the,...  \n",
            "3865  [(donald, PROPN), (trump, PROPN), (has, AUX), ...  \n",
            "                                                   text  \\\n",
            "4662  .@rosadelauro:  what does the gop stand for?  ...   \n",
            "467   dinesh d souza appeared on fox news  hannity s...   \n",
            "4452  if ever there was a reminder that sen. ted cru...   \n",
            "3892  don t think for a minute this union-style blac...   \n",
            "62                       watch the hypocrisy in action:   \n",
            "2589        https://www.youtube.com/watch?v=cjzfepsvxzm   \n",
            "\n",
            "                                               pos_tags  \n",
            "4662  [(.@rosadelauro, X), (:, PUNCT), ( , SPACE), (...  \n",
            "467   [(dinesh, INTJ), (d, PROPN), (souza, NOUN), (a...  \n",
            "4452  [(if, SCONJ), (ever, ADV), (there, PRON), (was...  \n",
            "3892  [(don, PROPN), (t, PROPN), (think, VERB), (for...  \n",
            "62    [(watch, VERB), (the, DET), (hypocrisy, NOUN),...  \n",
            "2589  [(https://www.youtube.com/watch?v=cjzfepsvxzm,...  \n",
            "\n",
            "True Dataset Sample with POS Tags:\n",
            "                                                   text  \\\n",
            "3192  moscow (reuters) - president vladimir putin to...   \n",
            "3237  paris (reuters) - french president francois ho...   \n",
            "3481  (reuters) - a republican candidate backed by p...   \n",
            "195   washington (reuters) - u.s. president donald t...   \n",
            "2059  xiamen, china (reuters) - china will give $80 ...   \n",
            "\n",
            "                                               pos_tags  \n",
            "3192  [(moscow, PROPN), ((, PUNCT), (reuters, PROPN)...  \n",
            "3237  [(paris, PROPN), ((, PUNCT), (reuters, PROPN),...  \n",
            "3481  [((, PUNCT), (reuters, NOUN), (), PUNCT), (-, ...  \n",
            "195   [(washington, PROPN), ((, PUNCT), (reuters, PR...  \n",
            "2059  [(xiamen, PROPN), (,, PUNCT), (china, PROPN), ...  \n"
          ]
        }
      ]
    },
    {
      "cell_type": "code",
      "source": [
        "fake_df_sample.to_csv('/content/processed_fake_sample.csv', index=False)\n",
        "true_df_sample.to_csv('/content/processed_true_sample.csv', index=False)"
      ],
      "metadata": {
        "id": "ERafiiiKqVEA"
      },
      "execution_count": 17,
      "outputs": []
    },
    {
      "cell_type": "code",
      "source": [
        "from collections import Counter\n",
        "\n",
        "def pos_frequency(pos_tags):\n",
        "    # Modified to handle potential variations in pos_tags structure\n",
        "    pos_list = []\n",
        "    for item in pos_tags:  # Iterate through elements of pos_tags\n",
        "        if isinstance(item, tuple) and len(item) >= 2:  # Check if item is a tuple with at least 2 elements\n",
        "            pos_list.append(item[1])  # Append the second element (POS tag)\n",
        "        elif isinstance(item, str):  # Check if item is a string (possibly just the POS tag)\n",
        "            pos_list.append(item)\n",
        "    return Counter(pos_list)  # Return the frequency count\n",
        "\n",
        "fake_sample_pos_freq = fake_df_sample['pos_tags'].apply(pos_frequency)\n",
        "true_sample_pos_freq = true_df_sample['pos_tags'].apply(pos_frequency)\n",
        "\n",
        "print(\"POS Frequency in Fake Dataset Sample:\")\n",
        "print(fake_sample_pos_freq.head())\n",
        "\n",
        "print(\"\\nPOS Frequency in True Dataset Sample:\")\n",
        "print(true_sample_pos_freq.head())"
      ],
      "metadata": {
        "colab": {
          "base_uri": "https://localhost:8080/"
        },
        "id": "u1eCoZ4kk3Vx",
        "outputId": "135ef472-e1de-4442-84b8-2ba086040a78"
      },
      "execution_count": 18,
      "outputs": [
        {
          "output_type": "stream",
          "name": "stdout",
          "text": [
            "POS Frequency in Fake Dataset Sample:\n",
            "4834    {'PRON': 23, 'VERB': 54, 'ADV': 15, 'ADJ': 38,...\n",
            "2445    {'PROPN': 67, 'AUX': 77, 'NOUN': 313, 'ADV': 5...\n",
            "2182    {'DET': 19, 'PROPN': 18, 'NOUN': 45, 'AUX': 9,...\n",
            "3195    {'PROPN': 11, 'VERB': 9, 'PRON': 8, 'NOUN': 15...\n",
            "2137    {'PRON': 18, 'AUX': 11, 'VERB': 21, 'DET': 10,...\n",
            "Name: pos_tags, dtype: object\n",
            "\n",
            "POS Frequency in True Dataset Sample:\n",
            "3192    {'PROPN': 23, 'PUNCT': 17, 'VERB': 19, 'DET': ...\n",
            "3237    {'PROPN': 14, 'PUNCT': 16, 'ADJ': 12, 'VERB': ...\n",
            "3481    {'PUNCT': 39, 'NOUN': 73, 'DET': 39, 'ADJ': 31...\n",
            "195     {'PROPN': 18, 'PUNCT': 11, 'VERB': 8, 'ADP': 1...\n",
            "2059    {'PROPN': 78, 'PUNCT': 68, 'AUX': 24, 'VERB': ...\n",
            "Name: pos_tags, dtype: object\n"
          ]
        }
      ]
    },
    {
      "cell_type": "code",
      "source": [
        "from nltk.tokenize import word_tokenize"
      ],
      "metadata": {
        "id": "qi7E-t3RhlDJ"
      },
      "execution_count": 19,
      "outputs": []
    },
    {
      "cell_type": "code",
      "source": [
        "!pip install nltk\n",
        "import nltk\n",
        "nltk.download('punkt_tab')"
      ],
      "metadata": {
        "colab": {
          "base_uri": "https://localhost:8080/"
        },
        "id": "4PcEqDk8nu7k",
        "outputId": "2099d5b4-c068-42f6-b3ee-b42a5b848fdc"
      },
      "execution_count": 20,
      "outputs": [
        {
          "output_type": "stream",
          "name": "stdout",
          "text": [
            "Requirement already satisfied: nltk in /usr/local/lib/python3.10/dist-packages (3.9.1)\n",
            "Requirement already satisfied: click in /usr/local/lib/python3.10/dist-packages (from nltk) (8.1.7)\n",
            "Requirement already satisfied: joblib in /usr/local/lib/python3.10/dist-packages (from nltk) (1.4.2)\n",
            "Requirement already satisfied: regex>=2021.8.3 in /usr/local/lib/python3.10/dist-packages (from nltk) (2024.11.6)\n",
            "Requirement already satisfied: tqdm in /usr/local/lib/python3.10/dist-packages (from nltk) (4.67.1)\n"
          ]
        },
        {
          "output_type": "stream",
          "name": "stderr",
          "text": [
            "[nltk_data] Downloading package punkt_tab to /root/nltk_data...\n",
            "[nltk_data]   Package punkt_tab is already up-to-date!\n"
          ]
        },
        {
          "output_type": "execute_result",
          "data": {
            "text/plain": [
              "True"
            ]
          },
          "metadata": {},
          "execution_count": 20
        }
      ]
    },
    {
      "cell_type": "code",
      "source": [
        "\n",
        "from nltk.tokenize import word_tokenize\n",
        "\n",
        "# Correct way to call head() and apply word_tokenize\n",
        "for text in fake_df_sample['text'].head(6):  # Get the first 2 texts\n",
        "    tokens = word_tokenize(text)\n",
        "    print(tokens)\n"
      ],
      "metadata": {
        "colab": {
          "base_uri": "https://localhost:8080/"
        },
        "id": "TcW0PE_dnu0K",
        "outputId": "16d57677-77f4-4196-922d-666f0d958822"
      },
      "execution_count": 21,
      "outputs": [
        {
          "output_type": "stream",
          "name": "stdout",
          "text": [
            "['it', 's', 'too', 'late', 'for', 'these', 'countries', 'who', 've', 'been', 'invaded', 'by', 'mostly', 'young', 'muslim', 'male', 'refugees', 'to', 'turn', 'back', 'the', 'clock', '.', 'bavaria', 'is', 'now', 'being', 'forced', 'to', 'do', 'whatever', 'they', 'can', 'to', 'fight', 'back', 'against', 'terrorism', 'in', 'their', 'own', 'backyards', '.', 'you', 'can', 't', 'allow', 'millions', 'of', 'unchecked', 'muslim', 'men', 'to', 'invade', 'your', 'sovereignty', 'without', 'paying', 'an', 'enormous', 'price', '.', 'asking', 'refugees', 'to', 'police', 'refugees', 'is', 'like', 'asking', 'prisoners', 'in', 'a', 'jail', 'to', 'police', 'themselves', '.', 'when', 'mostly', 'muslim', 'men', 'have', 'invaded', 'a', 'majority', 'catholic', 'state', ',', 'and', 'are', 'now', 'being', 'asked', 'to', 'police', 'its', 'citizens', ',', 'what', 'could', 'possible', 'go', 'wrong', '?', 'migrants', 'will', 'be', 'increasingly', 'recruited', 'as', 'police', 'officers', 'those', 'with', 'and', 'without', 'german', 'passports', '.', 'interior', 'minister', 'herrmann', 'hopes', 'this', 'will', 'produce', 'a', 'greater', 'clear-up', 'rate', 'and', 'a', 'de-escalation', 'of', 'violence', '.', 'the', 'failures', 'in', 'the', 'investigations', 'of', 'the', 'nsu', 'terror', 'group', 'have', 'increased', 'these', 'efforts.bavaria', 'will', 'increasingly', 'employ', 'police', 'officers', 'with', 'foreign', 'roots', '.', 'experience', 'has', 'shown', 'that', 'they', 'have', 'a', 'more', 'direct', 'line', 'to', 'people', 'of', 'immigrant', 'origin', ',', 'as', 'they', 'speak', 'their', 'language', 'and', 'know', 'their', 'mentality', 'better', ',', 'said', 'interior', 'minister', 'joachim', 'herrmann', '(', 'csu', ')', 'on', 'monday', 'in', 'nuremberg', '.', 'i', 'hope', 'this', 'will', 'help', 'police', 'achieve', 'better', 'clear-up', 'rates', 'and', 'conflict', 'resolution', '.', 'via', ':', 'merkur.dethis', 'is', 'insane', '.', 'i', 'can', 'see', 'many', 'europeans', 'rightly', 'refusing', 'to', 'acknowledge', 'the', 'authority', 'of', 'police', 'officers', 'who', 'are', 'foreigners', 'and', 'don', 't', 'even', 'have', 'citizenship.rt', 'in', 'october', ',', '2015', ',', 'bavarian', 'interior', 'minister', 'threatened', 'to', 'file', 'a', 'constitutional', 'complaint', 'against', 'the', 'federal', 'government', 'unless', 'it', 'would', 'implement', 'efficient', 'measures', 'to', 'curb', 'the', 'influx', 'of', 'refugees.the', 'bavarian', 'government', 'stepped', 'up', 'pressure', 'on', 'angela', 'merkel', 's', 'cabinet', ',', 'demanding', 'that', 'the', 'german', 'government', 'drop', 'its', 'policy', 'of', 'welcoming', 'an', 'unlimited', 'number', 'of', 'refugees.if', 'effective', 'measures', 'are', 'not', 'taken', 'to', 'deal', 'with', 'the', 'crisis', ',', 'bavaria', 'will', 'take', 'the', 'matter', 'to', 'the', 'constitutional', 'court', 'and', 'charge', 'the', 'german', 'government', 'with', 'endangering', 'the', 'legal', 'capacity', 'of', 'the', 'german', 'states', 'to', 'act', 'independently', ',', 'bavarian', 'interior', 'minister', 'joachim', 'herrmann', 'announced', 'after', 'an', 'emergency', 'meeting', 'of', 'the', 'bavarian', 'government', 'on', 'friday', '.', 'one', '[', 'the', 'german', 'government', ']', 'does', 'not', 'comply', 'with', 'the', 'law', 'and', 'the', 'other', '[', 'bavaria', ']', 'wants', 'the', 'law', 'to', 'be', 'complied', 'with', ',', 'bavarian', 'prime', 'minister', 'horst', 'seehofer', 'said', ',', 'commenting', 'on', 'the', 'decision', 'at', 'the', 'press', 'conference', 'following', 'the', 'meeting.listen', 'here', ':']\n",
            "['dr.', 'gina', 'loudon', 'is', 'hands', 'down', 'one', 'of', 'our', 'favorite', 'conservative', 'writers', '.', 'she', 'nails', 'it', 'with', 'this', 'piece', 'about', 'the', 'truth', 'behind', 'the', 'lies', 'of', 'the', 'california', 'drought', 'i', 'found', 'it', 'supremely', 'ironic', 'this', 'week', 'that', 'two', 'of', 'the', 'big', 'stories', 'were', 'about', 'a', 'man-made', 'lack', 'of', 'water', 'in', 'california', ',', 'and', 'a', 'man', 'lost', 'in', 'a', 'vast', 'sea', 'off', 'of', 'florida.gov', '.', 'jerry', 'moonbeam', 'brown', 'announced', 'the', 'dire', 'circumstances', ',', 'not', 'from', 'the', 'capitol', 'in', 'sacramento', ',', 'but', 'from', 'the', 'dramatic', 'backdrop', 'of', 'a', 'mountaintop', '.', 'his', 'narrative', 'held', 'that', 'there', 'should', 'be', 'five', 'feet', 'of', 'snow', 'pack', ',', 'but', 'alas', ',', 'there', 'was', 'none', '.', 'brown', ',', 'and', 'the', 'radical', 'marxists', ',', 'couched', 'as', 'environmentalists', 'he', 'represents', ',', 'have', 'convinced', 'most', 'americans', 'to', 'hold', 'two', 'radically', 'opposing', 'views', 'simultaneously', '.', 'ostensibly', ',', 'california', 'is', 'in', 'danger', 'of', 'being', 'flooded', 'by', 'rising', 'sea', 'levels', 'caused', 'by', 'global', 'warming', 'and', 'melting', 'polar', 'ice', 'caps', ',', 'and', 'it', 'is', 'also', 'utterly', 'out', 'of', 'water.there', 'is', 'no', 'shortage', 'of', 'water', '.', 'this', 'is', 'an', 'environmentalist-created', 'drought', 'that', 'is', 'costing', 'billions.i', 'waver', 'between', 'utter', 'disgust', 'and', 'admiration', 'when', 'i', 'watch', 'how', 'the', 'leftists', 'sell', 'these', 'things', ',', 'always', 'with', 'straight', 'faces', '.', 'every', 'major', 'news', 'outlet', 'in', 'america', 'and', 'many', 'around', 'the', 'world', 'swallowed', 'the', 'narrative', 'like', 'fish', 'on', 'a', 'baited', 'hook', '.', 'they', 'tell', 'us', 'there', 'is', 'no', 'water', ',', 'no', 'snow', 'to', 'provide', 'water', 'for', 'the', 'summer', ',', 'and', 'the', 'farmers', 'are', 'taking', 'too', 'much', 'so', 'people', 'must', 'suffer', '.', 'there', 'is', 'an', 'all-out', 'war', 'on', 'grass', ',', 'and', 'no', 'one', 'is', 'safe', '.', 'sorry', ',', 'shaggy', ',', 'your', 'grass', 'is', 'to', 'blame', 'as', 'well.there', 'is', 'hand', 'wringing', 'in', 'every', 'club', 'house', 'as', 'the', 'boards', 'are', 'told', 'they', 'are', 'coming', 'for', 'the', 'rough', 'grass', ',', 'your', 'fairways', 'and', 'greens', 'are', 'safe', ',', 'for', 'now', '.', 'evil', 'rich', 'guys', 'in', 'colorful', 'knickers', 'and', 'almond', 'farmers', 'in', 'overalls', 'are', 'the', 'scourge', 'of', 'california', '.', 'off', 'with', 'their', 'heads', '!', 'oh', ',', 'and', 'you', 'can', 'forget', 'about', 'the', 'luxury', 'of', 'children', 'playing', 'on', 'the', 'lawn', '.', 'if', 'you', 'want', 'that', ',', 'you', 'breeders', 'should', 'move', 'to', 'flyover', 'land', '!', 'don', 't', 'you', 'dare', 'sneak', 'and', 'water', 'the', 'backyard', 'after', 'dark', ';', 'brown', 'makes', 'it', 'easy', 'for', 'your', 'neighbors', 'to', 'snitch', 'on', 'you', '.', 'i', 'm', 'not', 'making', 'this', 'up', '.', 'they', 'really', 'have', 'a', 'state', 'hotline', 'for', 'that.those', 'of', 'us', 'who', 'pay', 'attention', 'know', 'well', 'the', 'proverb', ',', 'where', 'there', 'is', 'no', 'vision', ',', 'the', 'people', 'perish', '.', 'the', 'people', 'who', 'built', 'california', 'into', 'the', 'greatest', 'agricultural', 'producer', 'in', 'america', 'gave', 'us', 'dams', ',', 'canals', ',', 'reservoirs', 'and', 'all', 'kinds', 'of', 'conveyance', 'of', 'water', '.', 'they', 'harnessed', 'the', 'rivers', 'that', 'reach', 'from', 'the', 'pacific', 'northwest', 'down', 'well', 'into', 'northern', 'california', 'and', 'even', 'draw', 'water', 'to', 'the', 'golden', 'state', 'from', 'the', 'colorado', 'river', '.', 'that', 'was', 'then', '.', 'nothing', 'has', 'changed', 'since', 'then', ',', 'except', 'political', 'power.for', 'the', 'last', 'several', 'decades', ',', 'the', 'radical', 'fringe', 'has', 'taken', 'full', 'control', 'of', 'california', ',', 'and', 'it', 'hates', 'people', '.', 'dennis', 'prager', 'observed', 'that', 'statists', 'love', 'humanity', 'but', 'hate', 'humans', '.', 'watch', 'how', 'they', 'latch', 'onto', 'dreams', 'of', 'egalitarian', 'states', 'but', 'begin', 'the', 'execution', 'of', 'their', 'plans', 'by', 'marginalizing', ',', 'isolating', 'and', 'then', 'executing', 'anyone', 'who', 'disagrees', 'with', 'them', '.', 'they', 'dine', 'in', 'the', 'finest', 'restaurants', 'in', 'san', 'francisco', ',', 'the', 'likes', 'of', 'brown', ',', 'pelosi', ',', 'boxer', 'and', 'feinstein', ',', 'planning', 'lawsuits', 'to', 'cut', 'the', 'flow', 'of', 'water', 'to', 'the', 'farms', 'of', 'central', 'california', 'and', 'the', 'people', 'in', 'southern', 'california', ',', 'caring', 'not', 'a', 'wit', 'that', '40,000', 'agricultural', 'workers', ',', 'mostly', 'hispanic', ',', 'are', 'unemployed.just', 'this', 'week', ',', 'in', 'the', 'middle', 'of', 'a', 'human', 'crisis', ',', 'federal', 'fish', 'agents', 'ordered', 'the', 'release', 'of', 'billions', 'of', 'gallons', 'of', 'water', 'purportedly', 'to', 'save', 'six', 'fish', '.', 'you', 'read', 'that', 'right', '.', 'not', 'to', 'save', 'six', 'species', 'of', 'fish', ',', 'but', 'literally', ',', 'six', 'fish', '.', 'apparently', ',', 'these', 'special', 'six', 'stood', 'their', ',', 'err', 'ground', ',', 'and', 'when', '29', 'of', 'their', 'compadres', 'rode', 'the', '10', 'billion', 'gallon', 'man-made', 'wave', 'to', 'the', 'ocean', 'in', 'march', ',', 'they', 'refused', 'to', 'go', 'with', 'the', 'flow', '(', 'sorry', ')', '.you', 'can', 't', 'make', 'this', 'stuff', 'up', '.', 'but', 'when', 'you', 'do', ',', 'people', 'actually', 'believe', 'it.so', 'obama', 'administration', 'agents', 'want', 'a', 'second', 'toilet', 'flush', 'to', 'give', 'these', 'hard-headed', 'steelheads', 'a', 'second', 'nudge', '.', 'the', 'idea', 'that', 'nature', 'itself', 'may', 'be', 'holding', 'the', 'fish', 'where', 'they', 'are', 'is', 'of', 'no', 'concern', 'to', 'statists', 'who', 'love', 'telling', 'both', 'man', 'and', 'beast', 'what', 'they', 'think', 'is', 'good', 'for', 'them', '.', 'sadly', ',', 'this', 'latest', 'mind-boggling', 'atrocity', 'is', 'getting', 'very', 'little', 'media', 'coverage', '.', 'i', 'found', 'excellent', 'coverage', 'in', 'the', 'manteca', 'bulletin', '.', 'why', 'hasn', 't', 'the', 'los', 'angeles', 'times', 'reported', 'on', 'this', '?', 'the', 'current', 'shortage', 'is', 'based', 'primarily', 'on', 'the', 'release', 'of', 'billions', 'of', 'gallons', 'daily', 'into', 'the', 'san', 'francisco', 'bay', 'to', 'sustain', 'the', 'bait', 'fish', 'known', 'as', 'the', 'delta', 'smelt', '.', 'this', 'is', 'a', 'simple', 'distribution', 'issue', ';', 'there', 'is', 'plenty', 'of', 'water.prior', 'to', 'the', 'statists', 'taking', 'over', 'california', ',', 'massive', 'pumps', 'were', 'diverting', 'water', 'from', 'rivers', 'into', 'the', 'canal', 'system', '(', 'built', 'before', 'brown', 'and', 'his', 'ilk', 'took', 'control', 'of', 'the', 'state', ')', '.', 'they', 'have', 'all', 'but', 'turned', 'these', 'pumps', 'off', 'to', 'protect', 'the', 'fish', 'from', 'their', 'darwinian', 'demise', ',', 'and', 'billions', 'upon', 'billions', 'of', 'gallons', 'of', 'fresh', 'water', 'is', 'continuously', 'dumped', 'into', 'the', 'ocean.for', 'the', 'people-hating', 'san', 'francisco', 'cabal', ',', 'cutting', 'off', 'water', 'from', 'the', 'people', 'is', 'the', 'real', 'goal', '.', 'they', 'want', 'fewer', 'people', 'to', 'begin', 'with', ',', 'but', 'the', 'ultimate', 'goal', 'is', 'control', '.', 'few', 'environmentalists', 'admit', 'it', 'publicly', ',', 'but', 'they', 'want', 'zero', 'farming', 'in', 'the', 'central', 'valley', ',', 'preferring', 'to', 'allow', 'land', 'to', 'return', 'to', 'its', 'prehistoric', 'state', '.', 'the', 'cabal', 'wants', 'to', 'control', 'water', 'so', 'they', 'can', 'control', 'people', '.', 'brown', 'is', 'just', 'the', 'messenger', 'today', '.', 'he', 'is', 'telling', 'america', 'that', 'water', 'access', 'is', 'a', 'privilege', ',', 'he', 'has', 'the', 'power', 'to', 'pick', 'winners', 'and', 'losers', ',', 'and', 'we', 'have', 'to', 'just', 'take', 'it.if', 'brown', 'decides', 'tomorrow', 'that', 'he', 'wants', 'to', 'withhold', 'water', 'from', 'almond', 'farmers', ',', 'americans', 'will', 'just', 'have', 'to', 'accept', 'it', '.', 'have', 'you', 'ever', 'wondered', 'why', 'any', 'business', 'owner', 'would', 'give', 'campaign', 'donations', 'to', 'marxist', ',', 'business-hating', 'politicians', '?', 'now', 'you', 'know', 'why', '.', 'they', 'must', 'give', 'to', 'buy', 'protection', '.', 'business', 'owners', 'do', 'not', 'donate', 'to', 'brown', ',', 'pelosi', 'or', 'harry', 'reid', 'because', 'those', 'politicians', 'are', 'good', 'for', 'business', ';', 'they', 'give', 'to', 'be', 'sure', 'they', 'are', 'not', 'the', 'next', 'targets.the', 'problem', 'with', 'all', 'of', 'this', 'is', 'that', 'water', 'is', 'a', 'limitless', 'natural', 'resource', '.', 'just', 'ask', 'the', 'sailor', 'who', 'faced', 'drowning', 'daily', 'or', 'the', 'people', 'in', 'the', 'midwest', 'who', 'were', 'deluged', 'this', 'week', '.', 'it', 'is', 'one', 'thing', 'to', 'argue', 'for', 'conservation', 'of', 'animals', ',', 'or', 'even', 'trees', ',', 'or', 'green', 'space', ',', 'but', 'water', '?', 'water', 'is', 'a', 'limitless', 'natural', 'resource', '.', 'not', 'even', 'the', 'most', 'self-important', 'leftist', 'believes', 'he', 'could', 'make', 'water', 'go', 'away', ',', 'no', 'matter', 'how', 'hard', 'he', 'tried', '.', 'how', 'did', 'they', 'convince', 'us', 'to', 'accept', 'this', 'lie', '?', 'they', 'got', 'us', 'to', 'buy', 'the', 'lie', 'that', 'water', 'is', 'scarce', 'by', 'telling', 'it', 'often', 'enough', 'and', 'pounding', 'it', 'into', 'generations', 'of', 'schoolchildren', '.', 'using', 'federal', 'law', 'and', 'acts', 'of', 'congress', ',', 'they', 'forced', 'people', 'from', 'water-soaked', 'regions', 'to', 'accept', 'low', 'flush', 'or', 'what', 'some', 'call', 'two', 'flush', 'toilets', 'the', 'same', 'as', 'desert-dwelling', 'californians', '.', 'and', 'we', 'fell', 'for', 'it', '.', 'at', 'least', 'the', 'democrats', 'among', 'us', 'fell', 'for', 'it.thus', 'it', 'is', 'that', 'brown', 'got', 'to', 'have', 'his', 'cake', 'and', 'eat', 'it', ',', 'too', '.', 'he', 'told', 'californians', ',', 'and', 'really', 'all', 'americans', 'and', 'the', 'world', ',', 'that', 'lack', 'of', 'water', 'was', 'not', 'his', 'fault', 'for', 'lacking', 'the', 'vision', 'to', 'feed', 'the', 'distribution', 'system', 'created', 'by', 'the', 'real', 'men', 'who', 'built', 'california', '.', 'he', 'repeats', 'that', 'it', 'is', 'not', 'the', 'fault', 'of', 'the', 'marxists', 'endangered', 'species', 'act', 'that', 'prefers', 'hard-headed', 'fish', 'over', 'people', '.', 'the', 'lack', 'of', 'water', 'is', 'the', 'result', 'of', 'the', 'lack', 'of', 'snow', 'pack', ',', 'which', 'is', 'the', 'result', 'of', 'climate', 'change', ',', 'which', 'is', 'the', 'result', 'of', 'greedy', 'people', 'being', 'well', ',', 'people', '.', 'the', 'delta', 'smelt', 'and', 'steelhead', 'trout', 'must', 'live', 'and', 'we', 'mere', 'humans', 'should', 'all', 'just', 'die.meanwhile', ',', 'jerry', 'brown', 'is', 'committed', 'to', 'spending', '$', '100', 'billion', 'for', 'trains', ',', 'but', 'he', 'has', 'made', 'zero', 'commitment', 'to', 'allowing', 'water', 'to', 'flow', 'to', 'people', 'instead', 'of', 'fish', ',', 'and', 'zero', 'commitment', 'to', 'finding', 'funding', 'for', 'his', 'twin', 'tunnels', 'alternate', 'solution', '.', 'and', 'why', 'would', 'he', '?', 'we', 'are', 'cutting', 'back', 'our', 'water', 'use', ',', 'ratting', 'on', 'our', 'neighbors', 'and', 'accepting', 'higher', 'produce', 'prices', 'across', 'america', '.', 'the', 'marxists', 'in', 'san', 'francisco', 'are', 'toasting', 'total', 'victory', '.', 'the', 'farmers', 'and', 'country', 'club', 'board', 'members', 'are', 'suing', 'for', 'peace', '.', 'lord', 'help', 'usvia', ':', 'wnd']\n",
            "['the', 'clinton', 'grifters', 'will', 'take', 'money', 'from', 'just', 'about', 'anyone', 'even', 'promoters', 'of', 'terror', '.', 'the', 'report', 'below', 'should', 'tell', 'you', 'all', 'you', 'need', 'to', 'know', 'about', 'the', 'influence', 'peddlers', 'that', 'really', 'have', 'sold', 'out', 'the', 'american', 'people', '.', 'do', 'you', 'want', 'these', 'two', 'in', 'the', 'white', 'house', 'again', '?', 'former', 'president', 'bill', 'clinton', 'collected', '$', '5.6', 'million', 'in', 'fees', 'from', 'gems', 'education', ',', 'a', 'dubai-based', 'company', 'that', 'teaches', 'sharia', 'law', 'through', 'its', 'network', 'of', 'more', 'than', '100', 'schools', 'in', 'the', 'middle', 'east', ',', 'asia', 'and', 'africa', ',', 'according', 'to', 'a', 'daily', 'caller', 'news', 'foundation', 'investigation.the', 'company', 's', 'finances', 'strictly', 'adhere', 'to', 'sharia', 'finance', ',', 'which', 'includes', 'giving', 'zakat', ',', 'a', 'religious', 'tax', 'of', 'which', 'one-eighth', 'of', 'the', 'proceeds', 'is', 'dedicated', 'to', 'funding', 'islamic', 'jihad.the', 'company', 'also', 'contributed', 'millions', 'of', 'dollars', 'to', 'the', 'clinton', 'foundation.the', 'former', 'president', 'served', 'as', 'honorary', 'chairman', 'for', 'gems', 'education', 'from', '2011', 'to', '2014', ',', 'according', 'to', 'federal', 'tax', 'returns', 'he', 'filed', 'with', 'his', 'wife', ',', '2016', 'democratic', 'presidential', 'nominee', 'hillary', 'clinton.his', 'biggest', 'paycheck', 'from', 'the', 'closely-held', 'company', 'which', 'is', 'incorporated', 'in', 'the', 'cayman', 'islands', 'was', 'in', '2014', 'when', 'he', 'pocketed', '$', '2.1', 'million', '.', 'it', 'is', 'unclear', 'if', 'bill', 'received', 'income', 'from', 'the', 'middle', 'eastern', 'firm', 'in', '2015', ',', 'since', 'hillary', 'has', 'not', 'yet', 'released', 'her', 'tax', 'return', 'for', 'that', 'year.read', 'more', ':', 'daily', 'caller']\n",
            "['dr', 'ben', 'carson', 'gives', 'his', 'take', 'on', 'loretta', 'lynch', 'calling', 'the', 'north', 'carolina', 'bathroom', 'law', 'controversy', 'like', 'jim', 'crow', ':', 'everything', 'is', 'like', 'jim', 'crow', '.', 'everything', 'is', 'like', 'racism', 'and', 'segregation', 'and', 'slavery', '.', 'what', 'a', 'bunch', 'of', 'crap', '.', 'you', 'know', ',', 'they', 'want', 'to', 'do', 'that', 'so', 'that', 'they', 'can', 'always', 'gain', 'the', 'sympathy', ',', 'but', 'thinking', 'people', 'know', 'better', '.', 'loretta', 'lynch', 'announces', 'a', 'lawsuit', 'against', 'nc', ':']\n",
            "['you', 'can', 'thank', 'the', 'racist', 'black', 'lives', 'matter', 'paid', 'protesters', 'for', 'this', 'mayhem', '.', 'they', 're', 'trying', 'to', 'make', 'it', 'appear', 'as', 'though', 'the', 'people', 'who', 'support', 'trump', 'are', 'violent', 'racists', '.', 'the', 'police', 'should', 'use', 'their', 'full', 'force', 'to', 'stop', 'this', 'now', 'because', 'it', 'll', 'set', 'an', 'example', 'for', 'future', 'attempts', 'to', 'rally', '.', 'law', 'and', 'order', 'comes', 'first', '!', 'you', 'can', 'blame', 'obama', 's', 'buddy', 'george', 'soros', 'for', 'stirring', 'up', 'this', 'chaos', '.', 'btw-trump', 'has', 'done', 'nothing', 'racist', '!', 'he', 'wants', 'our', 'border', 'closed', 'to', 'illegals', 'for', 'the', 'safety', 'of', 'americans', '.', 'he', 'also', 'wants', 'a', 'moratorium', 'on', 'muslim', 'refugees', 'which', 'is', 'exactly', 'what', 'our', 'fbi', 'and', 'dhs', 'would', 'recommend', 'because', 'they', 've', 'said', 'we', 'can', 'not', 'vet', 'these', 'refugees', '.', 'so', 'what', 's', 'the', 'beef', '?']\n",
            "['donald', 'trump', 'has', 'been', 'crucified', 'by', 'the', 'leftist', 'mainstream', 'media', ',', 'gop', 'rino', 's', 'and', 'democrat', 'leaders', 'non-stop', 'for', 'his', 'brash', 'outspoken', 'ways', '.', 'but', 'after', '54', 'years', 'of', 'voting', 'for', 'democrats', ',', 'and', 'getting', 'absolutely', 'nothing', 'but', 'a', 'permanent', 'ticket', 'to', 'their', 'inner', 'city', 'plantation', ',', 'his', 'tough', 'talk', 'is', 'starting', 'to', 'resonate', 'with', 'minorities', 'who', 'want', 'to', 'make', 'a', 'better', 'life', 'for', 'themselves', '.', 'they', 'want', 'to', 'see', 'a', 'president', 'who', 'truly', 'cares', 'about', 'seeing', 'them', 'succeed', 'and', 'isn', 't', 'just', 'in', 'this', 'race', 'as', 'the', 'next', 'step', 'in', 'his', 'political', 'career', 'this', 'is', 'not', 'going', 'to', 'set', 'well', 'with', 'pandering', 'hillary', 'quanell', 'x', ',', 'leader', 'of', 'the', 'new', 'black', 'panther', 'party', 'in', 'houston', ',', 'texas', ',', 'said', 'this', 'week', 'on', 'a', 'local', 'news', 'program', 'that', 'black', 'americans', 'should', 'truly', 'examine', 'donald', 'trump', 's', 'outreach', 'to', 'the', 'black', 'community', 'and', 'reexamine', 'the', 'relationship', 'that', 'black', 'voters', 'have', 'with', 'the', 'democratic', 'party.america', 's', 'in', 'trouble', '.', 'and', 'i', 'want', 'to', 'say', 'to', 'black', 'and', 'white', 'people', ',', 'only', 'a', 'fool', 'fights', 'in', 'a', 'burning', 'house', '.', 'this', 'house', 'is', 'on', 'fire.read', 'the', 'transcript', 'of', 'quanell', 'x', 's', 'remarks', ':', 'donald', 'trump', 'last', 'week', 'went', 'to', 'milwaukee', 'because', 'of', 'the', 'rioting', 'behind', 'the', 'police', 'shooting', 'of', 'a', 'young', 'african-american', 'male', 'by', 'a', 'black', 'officer', 'and', 'the', 'city', 'was', 'being', 'burned', 'down', 'in', 'certain', 'parts', 'of', 'the', 'black', 'community', 'by', 'protesters', 'so', 'donald', 'trump', 'decided', 'to', 'go', 'to', 'milwaukee', 'and', 'speak', 'about', 'the', 'conditions', 'of', 'america', 'and', 'why', 'he', 'felt', 'black', 'people', 'should', 'vote', 'for', 'him', '.', 'he', 'even', 'went', 'on', 'to', 'lay', 'out', 'reasons', 'why', 'he', 'felt', 'we', 'should.let', 'me', 'say', 'this', 'to', 'the', 'brothers', 'and', 'sisters', 'who', 'listened', 'and', 'watched', 'that', 'speech', '.', 'we', 'may', 'not', 'like', 'the', 'vessel', 'that', 'said', 'what', 'he', 'said', ',', 'but', 'i', 'ask', 'us', 'to', 'truly', 'examine', 'what', 'he', 'said', ',', 'because', 'it', 'is', 'a', 'fact', 'that', 'for', '54', 'years', ',', 'we', 'have', 'been', 'voting', 'for', 'the', 'democratic', 'party', 'like', 'no', 'other', 'race', 'in', 'america', '.', 'and', 'they', 'have', 'not', 'given', 'us', 'the', 'same', 'loyalty', 'and', 'love', 'that', 'we', 'have', 'given', 'them', '.', 'we', 'as', 'black', 'people', 'have', 'to', 'reexamine', 'the', 'relationship', 'where', 'we', 'are', 'being', 'pimped', 'like', 'prostitutes', ',', 'and', 'they', 're', 'the', 'big', 'pimps', 'pimping', 'us', 'politically', ',', 'promising', 'us', 'everything', 'and', 'we', 'get', 'nothing', 'in', 'return.we', 'got', 'ta', 'step', 'back', 'now', 'as', 'black', 'people', 'and', 'say', ',', 'we', 've', 'got', 'ta', 'look', 'at', 'all', 'the', 'parties', 'and', 'vote', 'our', 'best', 'interests.he', 'spoke', 'directly', 'to', 'black', 'people', '.', 'and', 'i', 'want', 'to', 'say', 'and', 'encourage', 'the', 'brothers', 'and', 'sisters', '.', 'barack', 'obama', ',', 'our', 'president', ',', 'served', 'two', 'terms', '.', 'the', 'first', 'black', 'president', 'ever', '.', 'but', 'did', 'our', 'condition', 'get', 'better', '?', 'did', 'financially', ',', 'politically', ',', 'academically', ',', 'with', 'education', 'in', 'our', 'community', ',', 'did', 'things', 'get', 'better', '?', 'are', 'our', 'young', 'people', 'working', 'more', 'than', 'what', 'is', 'was', 'before', 'he', 'came', 'into', 'office', '?', 'the', 'condition', 'got', 'worse', '.', 'so', 'now', 'we', 'as', 'black', 'people', 'have', 'to', 'do', 'and', 'remember', 'what', 'the', 'honorable', 'elijah', 'mohammed', 'said', '.', 'no', 'politician', 'can', 'save', 'the', 'black', 'community', ';', 'we', 've', 'got', 'ta', 'do', 'it', 'ourselves.via', ':', 'breitbart', 'news']\n"
          ]
        }
      ]
    },
    {
      "cell_type": "code",
      "source": [
        "print(fake_df_sample['text'].head(6))"
      ],
      "metadata": {
        "colab": {
          "base_uri": "https://localhost:8080/"
        },
        "id": "DgJ9ufzUoCOz",
        "outputId": "17473722-7861-4a40-c8c2-66e6465e76a1"
      },
      "execution_count": 22,
      "outputs": [
        {
          "output_type": "stream",
          "name": "stdout",
          "text": [
            "4834    it s too late for these countries who ve been ...\n",
            "2445    dr. gina loudon is hands down one of our favor...\n",
            "2182    the clinton grifters will take money from just...\n",
            "3195    dr ben carson gives his take on loretta lynch ...\n",
            "2137    you can thank the racist black lives matter pa...\n",
            "3865    donald trump has been crucified by the leftist...\n",
            "Name: text, dtype: object\n"
          ]
        }
      ]
    },
    {
      "cell_type": "markdown",
      "source": [
        "NER Named Entity Recognition"
      ],
      "metadata": {
        "id": "NOK8NpZNgJaF"
      }
    },
    {
      "cell_type": "code",
      "execution_count": 23,
      "metadata": {
        "id": "Nyv5BqCfq16o"
      },
      "outputs": [],
      "source": [
        "import spacy\n",
        "import pandas as pd\n",
        "from spacy import displacy  # Import displacy\n",
        "\n",
        "# Load the spaCy model\n",
        "nlp = spacy.load(\"en_core_web_sm\")\n",
        "\n",
        "# Load the datasets\n",
        "fake_df_sample = pd.read_csv(\"/content/processed_fake_sample.csv\")\n",
        "true_df_sample = pd.read_csv(\"/content/processed_true_sample.csv\")"
      ]
    },
    {
      "cell_type": "code",
      "source": [
        "total_rows = fake_df_sample.shape[0] + true_df_sample.shape[0]\n",
        "print(f\"Total rows across both datasets: {total_rows}\")"
      ],
      "metadata": {
        "colab": {
          "base_uri": "https://localhost:8080/"
        },
        "id": "yKgdSG4xfj3c",
        "outputId": "ee492181-689a-4957-dad0-79d9ff2bf578"
      },
      "execution_count": 24,
      "outputs": [
        {
          "output_type": "stream",
          "name": "stdout",
          "text": [
            "Total rows across both datasets: 10000\n"
          ]
        }
      ]
    },
    {
      "cell_type": "code",
      "source": [
        "# Example function to print NER from a given text column in the dataset\n",
        "def print_ner(df, column_name):\n",
        "    # Iterate over each row in the specified column\n",
        "    for text in df[column_name]:\n",
        "        doc = nlp(text)  # Process the text with spaCy\n",
        "        print(f\"Text: {text}\")\n",
        "        print(\"Entities:\")\n",
        "        for ent in doc.ents:  # Iterate over recognized entities\n",
        "            print(f\"- {ent.text} ({ent.label_})\")\n",
        "        print(\"\\n\" + \"-\"*50 + \"\\n\")"
      ],
      "metadata": {
        "id": "blxRvx2ufj89"
      },
      "execution_count": 25,
      "outputs": []
    },
    {
      "cell_type": "code",
      "source": [
        "# Assuming the text data is in a column called 'text' for both datasets\n",
        "print(\"Named Entities in Fake Sample Data:\")\n",
        "\n",
        "# Apply nlp to the 'text' column of the DataFrame, not the entire DataFrame\n",
        "for text in fake_df_sample['text'].head(6):  # Process only the first 2 rows for demonstration\n",
        "    doc = nlp(text)\n",
        "    displacy.render(doc, style=\"ent\", jupyter=True)\n",
        "\n",
        "print_ner(fake_df_sample.head(2), 'text')  # Replace 'text' with your actual column name"
      ],
      "metadata": {
        "colab": {
          "base_uri": "https://localhost:8080/",
          "height": 1000
        },
        "id": "JbDhVkubfj_8",
        "outputId": "a3f0520d-6ed4-4528-a39a-b470b5a3fdc1"
      },
      "execution_count": 26,
      "outputs": [
        {
          "output_type": "stream",
          "name": "stdout",
          "text": [
            "Named Entities in Fake Sample Data:\n"
          ]
        },
        {
          "output_type": "display_data",
          "data": {
            "text/plain": [
              "<IPython.core.display.HTML object>"
            ],
            "text/html": [
              "<span class=\"tex2jax_ignore\"><div class=\"entities\" style=\"line-height: 2.5; direction: ltr\">it s too late for these countries who ve been invaded by mostly young \n",
              "<mark class=\"entity\" style=\"background: #c887fb; padding: 0.45em 0.6em; margin: 0 0.25em; line-height: 1; border-radius: 0.35em;\">\n",
              "    muslim\n",
              "    <span style=\"font-size: 0.8em; font-weight: bold; line-height: 1; border-radius: 0.35em; vertical-align: middle; margin-left: 0.5rem\">NORP</span>\n",
              "</mark>\n",
              " male refugees to turn back the clock. \n",
              "<mark class=\"entity\" style=\"background: #aa9cfc; padding: 0.45em 0.6em; margin: 0 0.25em; line-height: 1; border-radius: 0.35em;\">\n",
              "    bavaria\n",
              "    <span style=\"font-size: 0.8em; font-weight: bold; line-height: 1; border-radius: 0.35em; vertical-align: middle; margin-left: 0.5rem\">PERSON</span>\n",
              "</mark>\n",
              " is now being forced to do whatever they can to fight back against terrorism in their own backyards. you can t allow \n",
              "<mark class=\"entity\" style=\"background: #e4e7d2; padding: 0.45em 0.6em; margin: 0 0.25em; line-height: 1; border-radius: 0.35em;\">\n",
              "    millions\n",
              "    <span style=\"font-size: 0.8em; font-weight: bold; line-height: 1; border-radius: 0.35em; vertical-align: middle; margin-left: 0.5rem\">CARDINAL</span>\n",
              "</mark>\n",
              " of unchecked \n",
              "<mark class=\"entity\" style=\"background: #c887fb; padding: 0.45em 0.6em; margin: 0 0.25em; line-height: 1; border-radius: 0.35em;\">\n",
              "    muslim\n",
              "    <span style=\"font-size: 0.8em; font-weight: bold; line-height: 1; border-radius: 0.35em; vertical-align: middle; margin-left: 0.5rem\">NORP</span>\n",
              "</mark>\n",
              " men to invade your sovereignty without paying an enormous price. asking refugees to police refugees is like asking prisoners in a jail to police themselves. when mostly \n",
              "<mark class=\"entity\" style=\"background: #c887fb; padding: 0.45em 0.6em; margin: 0 0.25em; line-height: 1; border-radius: 0.35em;\">\n",
              "    muslim\n",
              "    <span style=\"font-size: 0.8em; font-weight: bold; line-height: 1; border-radius: 0.35em; vertical-align: middle; margin-left: 0.5rem\">NORP</span>\n",
              "</mark>\n",
              " men have invaded a majority catholic state, and are now being asked to police its citizens, what could possible go wrong?migrants will be increasingly recruited as police officers   those with and without \n",
              "<mark class=\"entity\" style=\"background: #c887fb; padding: 0.45em 0.6em; margin: 0 0.25em; line-height: 1; border-radius: 0.35em;\">\n",
              "    german\n",
              "    <span style=\"font-size: 0.8em; font-weight: bold; line-height: 1; border-radius: 0.35em; vertical-align: middle; margin-left: 0.5rem\">NORP</span>\n",
              "</mark>\n",
              " passports. \n",
              "<mark class=\"entity\" style=\"background: #7aecec; padding: 0.45em 0.6em; margin: 0 0.25em; line-height: 1; border-radius: 0.35em;\">\n",
              "    interior\n",
              "    <span style=\"font-size: 0.8em; font-weight: bold; line-height: 1; border-radius: 0.35em; vertical-align: middle; margin-left: 0.5rem\">ORG</span>\n",
              "</mark>\n",
              " minister \n",
              "<mark class=\"entity\" style=\"background: #aa9cfc; padding: 0.45em 0.6em; margin: 0 0.25em; line-height: 1; border-radius: 0.35em;\">\n",
              "    herrmann\n",
              "    <span style=\"font-size: 0.8em; font-weight: bold; line-height: 1; border-radius: 0.35em; vertical-align: middle; margin-left: 0.5rem\">PERSON</span>\n",
              "</mark>\n",
              " hopes this will produce a greater clear-up rate and a de-escalation of violence. the failures in the investigations of the nsu terror group have increased these efforts.bavaria will increasingly employ police officers with foreign roots. experience has shown that they have a  more direct line  to people of immigrant origin, as they speak their language and know their mentality better, said interior minister \n",
              "<mark class=\"entity\" style=\"background: #aa9cfc; padding: 0.45em 0.6em; margin: 0 0.25em; line-height: 1; border-radius: 0.35em;\">\n",
              "    joachim herrmann\n",
              "    <span style=\"font-size: 0.8em; font-weight: bold; line-height: 1; border-radius: 0.35em; vertical-align: middle; margin-left: 0.5rem\">PERSON</span>\n",
              "</mark>\n",
              " (csu) on \n",
              "<mark class=\"entity\" style=\"background: #bfe1d9; padding: 0.45em 0.6em; margin: 0 0.25em; line-height: 1; border-radius: 0.35em;\">\n",
              "    monday\n",
              "    <span style=\"font-size: 0.8em; font-weight: bold; line-height: 1; border-radius: 0.35em; vertical-align: middle; margin-left: 0.5rem\">DATE</span>\n",
              "</mark>\n",
              " in \n",
              "<mark class=\"entity\" style=\"background: #feca74; padding: 0.45em 0.6em; margin: 0 0.25em; line-height: 1; border-radius: 0.35em;\">\n",
              "    nuremberg\n",
              "    <span style=\"font-size: 0.8em; font-weight: bold; line-height: 1; border-radius: 0.35em; vertical-align: middle; margin-left: 0.5rem\">GPE</span>\n",
              "</mark>\n",
              ".  i hope this will help police achieve better clear-up rates and conflict resolution.  via: merkur.dethis is insane. i can see many \n",
              "<mark class=\"entity\" style=\"background: #c887fb; padding: 0.45em 0.6em; margin: 0 0.25em; line-height: 1; border-radius: 0.35em;\">\n",
              "    europeans\n",
              "    <span style=\"font-size: 0.8em; font-weight: bold; line-height: 1; border-radius: 0.35em; vertical-align: middle; margin-left: 0.5rem\">NORP</span>\n",
              "</mark>\n",
              " rightly refusing to acknowledge the authority of police officers who are foreigners and don t even have citizenship.rt  in \n",
              "<mark class=\"entity\" style=\"background: #bfe1d9; padding: 0.45em 0.6em; margin: 0 0.25em; line-height: 1; border-radius: 0.35em;\">\n",
              "    october, 2015\n",
              "    <span style=\"font-size: 0.8em; font-weight: bold; line-height: 1; border-radius: 0.35em; vertical-align: middle; margin-left: 0.5rem\">DATE</span>\n",
              "</mark>\n",
              ", \n",
              "<mark class=\"entity\" style=\"background: #c887fb; padding: 0.45em 0.6em; margin: 0 0.25em; line-height: 1; border-radius: 0.35em;\">\n",
              "    bavarian\n",
              "    <span style=\"font-size: 0.8em; font-weight: bold; line-height: 1; border-radius: 0.35em; vertical-align: middle; margin-left: 0.5rem\">NORP</span>\n",
              "</mark>\n",
              " interior minister threatened to file a constitutional complaint against the federal government unless it would implement efficient measures to curb the influx of refugees.the \n",
              "<mark class=\"entity\" style=\"background: #c887fb; padding: 0.45em 0.6em; margin: 0 0.25em; line-height: 1; border-radius: 0.35em;\">\n",
              "    bavarian\n",
              "    <span style=\"font-size: 0.8em; font-weight: bold; line-height: 1; border-radius: 0.35em; vertical-align: middle; margin-left: 0.5rem\">NORP</span>\n",
              "</mark>\n",
              " government stepped up pressure on \n",
              "<mark class=\"entity\" style=\"background: #aa9cfc; padding: 0.45em 0.6em; margin: 0 0.25em; line-height: 1; border-radius: 0.35em;\">\n",
              "    angela merkel s  cabinet\n",
              "    <span style=\"font-size: 0.8em; font-weight: bold; line-height: 1; border-radius: 0.35em; vertical-align: middle; margin-left: 0.5rem\">PERSON</span>\n",
              "</mark>\n",
              ", demanding that the \n",
              "<mark class=\"entity\" style=\"background: #c887fb; padding: 0.45em 0.6em; margin: 0 0.25em; line-height: 1; border-radius: 0.35em;\">\n",
              "    german\n",
              "    <span style=\"font-size: 0.8em; font-weight: bold; line-height: 1; border-radius: 0.35em; vertical-align: middle; margin-left: 0.5rem\">NORP</span>\n",
              "</mark>\n",
              " government drop its policy of welcoming an unlimited number of refugees.if  effective measures  are not taken to deal with the crisis, \n",
              "<mark class=\"entity\" style=\"background: #feca74; padding: 0.45em 0.6em; margin: 0 0.25em; line-height: 1; border-radius: 0.35em;\">\n",
              "    bavaria\n",
              "    <span style=\"font-size: 0.8em; font-weight: bold; line-height: 1; border-radius: 0.35em; vertical-align: middle; margin-left: 0.5rem\">GPE</span>\n",
              "</mark>\n",
              " will take the matter to the constitutional court and charge the \n",
              "<mark class=\"entity\" style=\"background: #c887fb; padding: 0.45em 0.6em; margin: 0 0.25em; line-height: 1; border-radius: 0.35em;\">\n",
              "    german\n",
              "    <span style=\"font-size: 0.8em; font-weight: bold; line-height: 1; border-radius: 0.35em; vertical-align: middle; margin-left: 0.5rem\">NORP</span>\n",
              "</mark>\n",
              " government with endangering  the legal capacity of the \n",
              "<mark class=\"entity\" style=\"background: #c887fb; padding: 0.45em 0.6em; margin: 0 0.25em; line-height: 1; border-radius: 0.35em;\">\n",
              "    german\n",
              "    <span style=\"font-size: 0.8em; font-weight: bold; line-height: 1; border-radius: 0.35em; vertical-align: middle; margin-left: 0.5rem\">NORP</span>\n",
              "</mark>\n",
              " states to act independently,  \n",
              "<mark class=\"entity\" style=\"background: #c887fb; padding: 0.45em 0.6em; margin: 0 0.25em; line-height: 1; border-radius: 0.35em;\">\n",
              "    bavarian\n",
              "    <span style=\"font-size: 0.8em; font-weight: bold; line-height: 1; border-radius: 0.35em; vertical-align: middle; margin-left: 0.5rem\">NORP</span>\n",
              "</mark>\n",
              " interior minister \n",
              "<mark class=\"entity\" style=\"background: #aa9cfc; padding: 0.45em 0.6em; margin: 0 0.25em; line-height: 1; border-radius: 0.35em;\">\n",
              "    joachim herrmann\n",
              "    <span style=\"font-size: 0.8em; font-weight: bold; line-height: 1; border-radius: 0.35em; vertical-align: middle; margin-left: 0.5rem\">PERSON</span>\n",
              "</mark>\n",
              " announced after an emergency meeting of the \n",
              "<mark class=\"entity\" style=\"background: #c887fb; padding: 0.45em 0.6em; margin: 0 0.25em; line-height: 1; border-radius: 0.35em;\">\n",
              "    bavarian\n",
              "    <span style=\"font-size: 0.8em; font-weight: bold; line-height: 1; border-radius: 0.35em; vertical-align: middle; margin-left: 0.5rem\">NORP</span>\n",
              "</mark>\n",
              " government on \n",
              "<mark class=\"entity\" style=\"background: #bfe1d9; padding: 0.45em 0.6em; margin: 0 0.25em; line-height: 1; border-radius: 0.35em;\">\n",
              "    friday\n",
              "    <span style=\"font-size: 0.8em; font-weight: bold; line-height: 1; border-radius: 0.35em; vertical-align: middle; margin-left: 0.5rem\">DATE</span>\n",
              "</mark>\n",
              ". \n",
              "<mark class=\"entity\" style=\"background: #e4e7d2; padding: 0.45em 0.6em; margin: 0 0.25em; line-height: 1; border-radius: 0.35em;\">\n",
              "    one\n",
              "    <span style=\"font-size: 0.8em; font-weight: bold; line-height: 1; border-radius: 0.35em; vertical-align: middle; margin-left: 0.5rem\">CARDINAL</span>\n",
              "</mark>\n",
              " [the \n",
              "<mark class=\"entity\" style=\"background: #c887fb; padding: 0.45em 0.6em; margin: 0 0.25em; line-height: 1; border-radius: 0.35em;\">\n",
              "    german\n",
              "    <span style=\"font-size: 0.8em; font-weight: bold; line-height: 1; border-radius: 0.35em; vertical-align: middle; margin-left: 0.5rem\">NORP</span>\n",
              "</mark>\n",
              " government] does not comply with the law and the other [bavaria] wants the law to be complied with,  \n",
              "<mark class=\"entity\" style=\"background: #c887fb; padding: 0.45em 0.6em; margin: 0 0.25em; line-height: 1; border-radius: 0.35em;\">\n",
              "    bavarian\n",
              "    <span style=\"font-size: 0.8em; font-weight: bold; line-height: 1; border-radius: 0.35em; vertical-align: middle; margin-left: 0.5rem\">NORP</span>\n",
              "</mark>\n",
              " prime minister \n",
              "<mark class=\"entity\" style=\"background: #aa9cfc; padding: 0.45em 0.6em; margin: 0 0.25em; line-height: 1; border-radius: 0.35em;\">\n",
              "    horst seehofer\n",
              "    <span style=\"font-size: 0.8em; font-weight: bold; line-height: 1; border-radius: 0.35em; vertical-align: middle; margin-left: 0.5rem\">PERSON</span>\n",
              "</mark>\n",
              " said, commenting on the decision at the press conference following the meeting.listen here:</div></span>"
            ]
          },
          "metadata": {}
        },
        {
          "output_type": "display_data",
          "data": {
            "text/plain": [
              "<IPython.core.display.HTML object>"
            ],
            "text/html": [
              "<span class=\"tex2jax_ignore\"><div class=\"entities\" style=\"line-height: 2.5; direction: ltr\">\n",
              "<mark class=\"entity\" style=\"background: #aa9cfc; padding: 0.45em 0.6em; margin: 0 0.25em; line-height: 1; border-radius: 0.35em;\">\n",
              "    dr.\n",
              "    <span style=\"font-size: 0.8em; font-weight: bold; line-height: 1; border-radius: 0.35em; vertical-align: middle; margin-left: 0.5rem\">PERSON</span>\n",
              "</mark>\n",
              " \n",
              "<mark class=\"entity\" style=\"background: #aa9cfc; padding: 0.45em 0.6em; margin: 0 0.25em; line-height: 1; border-radius: 0.35em;\">\n",
              "    gina loudon\n",
              "    <span style=\"font-size: 0.8em; font-weight: bold; line-height: 1; border-radius: 0.35em; vertical-align: middle; margin-left: 0.5rem\">PERSON</span>\n",
              "</mark>\n",
              " is hands down \n",
              "<mark class=\"entity\" style=\"background: #e4e7d2; padding: 0.45em 0.6em; margin: 0 0.25em; line-height: 1; border-radius: 0.35em;\">\n",
              "    one\n",
              "    <span style=\"font-size: 0.8em; font-weight: bold; line-height: 1; border-radius: 0.35em; vertical-align: middle; margin-left: 0.5rem\">CARDINAL</span>\n",
              "</mark>\n",
              " of our favorite conservative writers. she nails it with this piece about the truth behind the lies of the \n",
              "<mark class=\"entity\" style=\"background: #feca74; padding: 0.45em 0.6em; margin: 0 0.25em; line-height: 1; border-radius: 0.35em;\">\n",
              "    california\n",
              "    <span style=\"font-size: 0.8em; font-weight: bold; line-height: 1; border-radius: 0.35em; vertical-align: middle; margin-left: 0.5rem\">GPE</span>\n",
              "</mark>\n",
              " drought i found it supremely ironic \n",
              "<mark class=\"entity\" style=\"background: #bfe1d9; padding: 0.45em 0.6em; margin: 0 0.25em; line-height: 1; border-radius: 0.35em;\">\n",
              "    this week\n",
              "    <span style=\"font-size: 0.8em; font-weight: bold; line-height: 1; border-radius: 0.35em; vertical-align: middle; margin-left: 0.5rem\">DATE</span>\n",
              "</mark>\n",
              " that \n",
              "<mark class=\"entity\" style=\"background: #e4e7d2; padding: 0.45em 0.6em; margin: 0 0.25em; line-height: 1; border-radius: 0.35em;\">\n",
              "    two\n",
              "    <span style=\"font-size: 0.8em; font-weight: bold; line-height: 1; border-radius: 0.35em; vertical-align: middle; margin-left: 0.5rem\">CARDINAL</span>\n",
              "</mark>\n",
              " of the big stories were about a man-made lack of water in \n",
              "<mark class=\"entity\" style=\"background: #feca74; padding: 0.45em 0.6em; margin: 0 0.25em; line-height: 1; border-radius: 0.35em;\">\n",
              "    california\n",
              "    <span style=\"font-size: 0.8em; font-weight: bold; line-height: 1; border-radius: 0.35em; vertical-align: middle; margin-left: 0.5rem\">GPE</span>\n",
              "</mark>\n",
              ", and a man lost in a vast sea off of florida.gov. \n",
              "<mark class=\"entity\" style=\"background: #aa9cfc; padding: 0.45em 0.6em; margin: 0 0.25em; line-height: 1; border-radius: 0.35em;\">\n",
              "    jerry\n",
              "    <span style=\"font-size: 0.8em; font-weight: bold; line-height: 1; border-radius: 0.35em; vertical-align: middle; margin-left: 0.5rem\">PERSON</span>\n",
              "</mark>\n",
              "  moonbeam  brown announced the dire circumstances, not from the capitol in \n",
              "<mark class=\"entity\" style=\"background: #feca74; padding: 0.45em 0.6em; margin: 0 0.25em; line-height: 1; border-radius: 0.35em;\">\n",
              "    sacramento\n",
              "    <span style=\"font-size: 0.8em; font-weight: bold; line-height: 1; border-radius: 0.35em; vertical-align: middle; margin-left: 0.5rem\">GPE</span>\n",
              "</mark>\n",
              ", but from the dramatic backdrop of a mountaintop. his narrative held that there should be \n",
              "<mark class=\"entity\" style=\"background: #e4e7d2; padding: 0.45em 0.6em; margin: 0 0.25em; line-height: 1; border-radius: 0.35em;\">\n",
              "    five feet\n",
              "    <span style=\"font-size: 0.8em; font-weight: bold; line-height: 1; border-radius: 0.35em; vertical-align: middle; margin-left: 0.5rem\">QUANTITY</span>\n",
              "</mark>\n",
              " of  snow pack,  but alas, there was none. brown, and the radical marxists, couched as  environmentalists  he represents, have convinced most \n",
              "<mark class=\"entity\" style=\"background: #c887fb; padding: 0.45em 0.6em; margin: 0 0.25em; line-height: 1; border-radius: 0.35em;\">\n",
              "    americans\n",
              "    <span style=\"font-size: 0.8em; font-weight: bold; line-height: 1; border-radius: 0.35em; vertical-align: middle; margin-left: 0.5rem\">NORP</span>\n",
              "</mark>\n",
              " to hold \n",
              "<mark class=\"entity\" style=\"background: #e4e7d2; padding: 0.45em 0.6em; margin: 0 0.25em; line-height: 1; border-radius: 0.35em;\">\n",
              "    two\n",
              "    <span style=\"font-size: 0.8em; font-weight: bold; line-height: 1; border-radius: 0.35em; vertical-align: middle; margin-left: 0.5rem\">CARDINAL</span>\n",
              "</mark>\n",
              " radically opposing views simultaneously. ostensibly, \n",
              "<mark class=\"entity\" style=\"background: #feca74; padding: 0.45em 0.6em; margin: 0 0.25em; line-height: 1; border-radius: 0.35em;\">\n",
              "    california\n",
              "    <span style=\"font-size: 0.8em; font-weight: bold; line-height: 1; border-radius: 0.35em; vertical-align: middle; margin-left: 0.5rem\">GPE</span>\n",
              "</mark>\n",
              " is in danger of being flooded by rising sea levels caused by global warming and melting polar ice caps, and it is also utterly out of water.there is no shortage of water. this is an environmentalist-created drought that is costing billions.i waver between utter disgust and admiration when i watch how the leftists sell these things, always with straight faces. every major news outlet in \n",
              "<mark class=\"entity\" style=\"background: #feca74; padding: 0.45em 0.6em; margin: 0 0.25em; line-height: 1; border-radius: 0.35em;\">\n",
              "    america\n",
              "    <span style=\"font-size: 0.8em; font-weight: bold; line-height: 1; border-radius: 0.35em; vertical-align: middle; margin-left: 0.5rem\">GPE</span>\n",
              "</mark>\n",
              " and many around the world swallowed the narrative like fish on a baited hook. they tell us there is no water, no snow to provide water for \n",
              "<mark class=\"entity\" style=\"background: #bfe1d9; padding: 0.45em 0.6em; margin: 0 0.25em; line-height: 1; border-radius: 0.35em;\">\n",
              "    the summer\n",
              "    <span style=\"font-size: 0.8em; font-weight: bold; line-height: 1; border-radius: 0.35em; vertical-align: middle; margin-left: 0.5rem\">DATE</span>\n",
              "</mark>\n",
              ", and the farmers are taking too much so people must suffer. there is an all-out war on grass, and no one is safe. sorry, shaggy, your  grass  is to blame as well.there is hand wringing in every club house as the boards are told they are coming for the rough grass, your fairways and greens are safe, for now. evil rich guys in colorful knickers and almond farmers in overalls are the scourge of \n",
              "<mark class=\"entity\" style=\"background: #feca74; padding: 0.45em 0.6em; margin: 0 0.25em; line-height: 1; border-radius: 0.35em;\">\n",
              "    california\n",
              "    <span style=\"font-size: 0.8em; font-weight: bold; line-height: 1; border-radius: 0.35em; vertical-align: middle; margin-left: 0.5rem\">GPE</span>\n",
              "</mark>\n",
              ". off with their heads! oh, and you can forget about the luxury of children playing on the lawn. if you want that, you breeders should move to flyover land! don t you dare sneak and water the backyard after dark; brown makes it easy for your neighbors to snitch on you. i m not making this up. they really have a state hotline for \n",
              "<mark class=\"entity\" style=\"background: #e4e7d2; padding: 0.45em 0.6em; margin: 0 0.25em; line-height: 1; border-radius: 0.35em;\">\n",
              "    that.those\n",
              "    <span style=\"font-size: 0.8em; font-weight: bold; line-height: 1; border-radius: 0.35em; vertical-align: middle; margin-left: 0.5rem\">CARDINAL</span>\n",
              "</mark>\n",
              " of us who pay attention know well the proverb,  where there is no vision, the people perish.  the people who built \n",
              "<mark class=\"entity\" style=\"background: #feca74; padding: 0.45em 0.6em; margin: 0 0.25em; line-height: 1; border-radius: 0.35em;\">\n",
              "    california\n",
              "    <span style=\"font-size: 0.8em; font-weight: bold; line-height: 1; border-radius: 0.35em; vertical-align: middle; margin-left: 0.5rem\">GPE</span>\n",
              "</mark>\n",
              " into the greatest agricultural producer in \n",
              "<mark class=\"entity\" style=\"background: #feca74; padding: 0.45em 0.6em; margin: 0 0.25em; line-height: 1; border-radius: 0.35em;\">\n",
              "    america\n",
              "    <span style=\"font-size: 0.8em; font-weight: bold; line-height: 1; border-radius: 0.35em; vertical-align: middle; margin-left: 0.5rem\">GPE</span>\n",
              "</mark>\n",
              " gave us dams, canals, reservoirs and all kinds of conveyance of water. they harnessed the rivers that reach from the \n",
              "<mark class=\"entity\" style=\"background: #ff9561; padding: 0.45em 0.6em; margin: 0 0.25em; line-height: 1; border-radius: 0.35em;\">\n",
              "    pacific\n",
              "    <span style=\"font-size: 0.8em; font-weight: bold; line-height: 1; border-radius: 0.35em; vertical-align: middle; margin-left: 0.5rem\">LOC</span>\n",
              "</mark>\n",
              " northwest down well into northern \n",
              "<mark class=\"entity\" style=\"background: #feca74; padding: 0.45em 0.6em; margin: 0 0.25em; line-height: 1; border-radius: 0.35em;\">\n",
              "    california\n",
              "    <span style=\"font-size: 0.8em; font-weight: bold; line-height: 1; border-radius: 0.35em; vertical-align: middle; margin-left: 0.5rem\">GPE</span>\n",
              "</mark>\n",
              " and even draw water to the golden state from the colorado river. that was then. nothing has changed since then, except political power.for \n",
              "<mark class=\"entity\" style=\"background: #bfe1d9; padding: 0.45em 0.6em; margin: 0 0.25em; line-height: 1; border-radius: 0.35em;\">\n",
              "    the last several decades\n",
              "    <span style=\"font-size: 0.8em; font-weight: bold; line-height: 1; border-radius: 0.35em; vertical-align: middle; margin-left: 0.5rem\">DATE</span>\n",
              "</mark>\n",
              ", the radical fringe has taken full control of \n",
              "<mark class=\"entity\" style=\"background: #feca74; padding: 0.45em 0.6em; margin: 0 0.25em; line-height: 1; border-radius: 0.35em;\">\n",
              "    california\n",
              "    <span style=\"font-size: 0.8em; font-weight: bold; line-height: 1; border-radius: 0.35em; vertical-align: middle; margin-left: 0.5rem\">GPE</span>\n",
              "</mark>\n",
              ", and it hates people. \n",
              "<mark class=\"entity\" style=\"background: #aa9cfc; padding: 0.45em 0.6em; margin: 0 0.25em; line-height: 1; border-radius: 0.35em;\">\n",
              "    dennis prager\n",
              "    <span style=\"font-size: 0.8em; font-weight: bold; line-height: 1; border-radius: 0.35em; vertical-align: middle; margin-left: 0.5rem\">PERSON</span>\n",
              "</mark>\n",
              " observed that statists love humanity but hate humans. watch how they latch onto dreams of \n",
              "<mark class=\"entity\" style=\"background: #c887fb; padding: 0.45em 0.6em; margin: 0 0.25em; line-height: 1; border-radius: 0.35em;\">\n",
              "    egalitarian\n",
              "    <span style=\"font-size: 0.8em; font-weight: bold; line-height: 1; border-radius: 0.35em; vertical-align: middle; margin-left: 0.5rem\">NORP</span>\n",
              "</mark>\n",
              " states but begin the execution of their plans by marginalizing, isolating and then executing anyone who disagrees with them. they dine in the finest restaurants in \n",
              "<mark class=\"entity\" style=\"background: #feca74; padding: 0.45em 0.6em; margin: 0 0.25em; line-height: 1; border-radius: 0.35em;\">\n",
              "    san francisco\n",
              "    <span style=\"font-size: 0.8em; font-weight: bold; line-height: 1; border-radius: 0.35em; vertical-align: middle; margin-left: 0.5rem\">GPE</span>\n",
              "</mark>\n",
              ", the likes of brown, pelosi, boxer and feinstein, planning lawsuits to cut the flow of water to the farms of central \n",
              "<mark class=\"entity\" style=\"background: #feca74; padding: 0.45em 0.6em; margin: 0 0.25em; line-height: 1; border-radius: 0.35em;\">\n",
              "    california\n",
              "    <span style=\"font-size: 0.8em; font-weight: bold; line-height: 1; border-radius: 0.35em; vertical-align: middle; margin-left: 0.5rem\">GPE</span>\n",
              "</mark>\n",
              " and the people in southern \n",
              "<mark class=\"entity\" style=\"background: #feca74; padding: 0.45em 0.6em; margin: 0 0.25em; line-height: 1; border-radius: 0.35em;\">\n",
              "    california\n",
              "    <span style=\"font-size: 0.8em; font-weight: bold; line-height: 1; border-radius: 0.35em; vertical-align: middle; margin-left: 0.5rem\">GPE</span>\n",
              "</mark>\n",
              ", caring not a wit that \n",
              "<mark class=\"entity\" style=\"background: #e4e7d2; padding: 0.45em 0.6em; margin: 0 0.25em; line-height: 1; border-radius: 0.35em;\">\n",
              "    40,000\n",
              "    <span style=\"font-size: 0.8em; font-weight: bold; line-height: 1; border-radius: 0.35em; vertical-align: middle; margin-left: 0.5rem\">CARDINAL</span>\n",
              "</mark>\n",
              " agricultural workers, mostly \n",
              "<mark class=\"entity\" style=\"background: #c887fb; padding: 0.45em 0.6em; margin: 0 0.25em; line-height: 1; border-radius: 0.35em;\">\n",
              "    hispanic\n",
              "    <span style=\"font-size: 0.8em; font-weight: bold; line-height: 1; border-radius: 0.35em; vertical-align: middle; margin-left: 0.5rem\">NORP</span>\n",
              "</mark>\n",
              ", are unemployed.just \n",
              "<mark class=\"entity\" style=\"background: #bfe1d9; padding: 0.45em 0.6em; margin: 0 0.25em; line-height: 1; border-radius: 0.35em;\">\n",
              "    this week\n",
              "    <span style=\"font-size: 0.8em; font-weight: bold; line-height: 1; border-radius: 0.35em; vertical-align: middle; margin-left: 0.5rem\">DATE</span>\n",
              "</mark>\n",
              ", in the middle of a human crisis, federal fish agents ordered the release of \n",
              "<mark class=\"entity\" style=\"background: #e4e7d2; padding: 0.45em 0.6em; margin: 0 0.25em; line-height: 1; border-radius: 0.35em;\">\n",
              "    billions of gallons\n",
              "    <span style=\"font-size: 0.8em; font-weight: bold; line-height: 1; border-radius: 0.35em; vertical-align: middle; margin-left: 0.5rem\">QUANTITY</span>\n",
              "</mark>\n",
              " of water purportedly to save \n",
              "<mark class=\"entity\" style=\"background: #e4e7d2; padding: 0.45em 0.6em; margin: 0 0.25em; line-height: 1; border-radius: 0.35em;\">\n",
              "    six\n",
              "    <span style=\"font-size: 0.8em; font-weight: bold; line-height: 1; border-radius: 0.35em; vertical-align: middle; margin-left: 0.5rem\">CARDINAL</span>\n",
              "</mark>\n",
              " fish. you read that right. not to save \n",
              "<mark class=\"entity\" style=\"background: #e4e7d2; padding: 0.45em 0.6em; margin: 0 0.25em; line-height: 1; border-radius: 0.35em;\">\n",
              "    six\n",
              "    <span style=\"font-size: 0.8em; font-weight: bold; line-height: 1; border-radius: 0.35em; vertical-align: middle; margin-left: 0.5rem\">CARDINAL</span>\n",
              "</mark>\n",
              " species of fish, but literally, \n",
              "<mark class=\"entity\" style=\"background: #e4e7d2; padding: 0.45em 0.6em; margin: 0 0.25em; line-height: 1; border-radius: 0.35em;\">\n",
              "    six\n",
              "    <span style=\"font-size: 0.8em; font-weight: bold; line-height: 1; border-radius: 0.35em; vertical-align: middle; margin-left: 0.5rem\">CARDINAL</span>\n",
              "</mark>\n",
              " fish. apparently, these special \n",
              "<mark class=\"entity\" style=\"background: #e4e7d2; padding: 0.45em 0.6em; margin: 0 0.25em; line-height: 1; border-radius: 0.35em;\">\n",
              "    six\n",
              "    <span style=\"font-size: 0.8em; font-weight: bold; line-height: 1; border-radius: 0.35em; vertical-align: middle; margin-left: 0.5rem\">CARDINAL</span>\n",
              "</mark>\n",
              " stood their, err ground, and when \n",
              "<mark class=\"entity\" style=\"background: #e4e7d2; padding: 0.45em 0.6em; margin: 0 0.25em; line-height: 1; border-radius: 0.35em;\">\n",
              "    29\n",
              "    <span style=\"font-size: 0.8em; font-weight: bold; line-height: 1; border-radius: 0.35em; vertical-align: middle; margin-left: 0.5rem\">CARDINAL</span>\n",
              "</mark>\n",
              " of their compadres rode the \n",
              "<mark class=\"entity\" style=\"background: #e4e7d2; padding: 0.45em 0.6em; margin: 0 0.25em; line-height: 1; border-radius: 0.35em;\">\n",
              "    10 billion gallon\n",
              "    <span style=\"font-size: 0.8em; font-weight: bold; line-height: 1; border-radius: 0.35em; vertical-align: middle; margin-left: 0.5rem\">MONEY</span>\n",
              "</mark>\n",
              " man-made wave to the ocean in \n",
              "<mark class=\"entity\" style=\"background: #bfe1d9; padding: 0.45em 0.6em; margin: 0 0.25em; line-height: 1; border-radius: 0.35em;\">\n",
              "    march\n",
              "    <span style=\"font-size: 0.8em; font-weight: bold; line-height: 1; border-radius: 0.35em; vertical-align: middle; margin-left: 0.5rem\">DATE</span>\n",
              "</mark>\n",
              ", they refused to go with the flow (sorry).you can t make this stuff up. but when you do, people actually believe it.so obama administration agents want a \n",
              "<mark class=\"entity\" style=\"background: #e4e7d2; padding: 0.45em 0.6em; margin: 0 0.25em; line-height: 1; border-radius: 0.35em;\">\n",
              "    second\n",
              "    <span style=\"font-size: 0.8em; font-weight: bold; line-height: 1; border-radius: 0.35em; vertical-align: middle; margin-left: 0.5rem\">ORDINAL</span>\n",
              "</mark>\n",
              " toilet flush to give these hard-headed steelheads a \n",
              "<mark class=\"entity\" style=\"background: #e4e7d2; padding: 0.45em 0.6em; margin: 0 0.25em; line-height: 1; border-radius: 0.35em;\">\n",
              "    second\n",
              "    <span style=\"font-size: 0.8em; font-weight: bold; line-height: 1; border-radius: 0.35em; vertical-align: middle; margin-left: 0.5rem\">ORDINAL</span>\n",
              "</mark>\n",
              " nudge. the idea that nature itself may be holding the fish where they are is of no concern to statists who love telling both man and beast what they think is good for them. sadly, this latest mind-boggling atrocity is getting very little media coverage. i found excellent coverage in the manteca bulletin. why hasn t \n",
              "<mark class=\"entity\" style=\"background: #7aecec; padding: 0.45em 0.6em; margin: 0 0.25em; line-height: 1; border-radius: 0.35em;\">\n",
              "    the los angeles times\n",
              "    <span style=\"font-size: 0.8em; font-weight: bold; line-height: 1; border-radius: 0.35em; vertical-align: middle; margin-left: 0.5rem\">ORG</span>\n",
              "</mark>\n",
              " reported on this?the current shortage is based primarily on the release of \n",
              "<mark class=\"entity\" style=\"background: #e4e7d2; padding: 0.45em 0.6em; margin: 0 0.25em; line-height: 1; border-radius: 0.35em;\">\n",
              "    billions of gallons\n",
              "    <span style=\"font-size: 0.8em; font-weight: bold; line-height: 1; border-radius: 0.35em; vertical-align: middle; margin-left: 0.5rem\">QUANTITY</span>\n",
              "</mark>\n",
              " \n",
              "<mark class=\"entity\" style=\"background: #bfe1d9; padding: 0.45em 0.6em; margin: 0 0.25em; line-height: 1; border-radius: 0.35em;\">\n",
              "    daily\n",
              "    <span style=\"font-size: 0.8em; font-weight: bold; line-height: 1; border-radius: 0.35em; vertical-align: middle; margin-left: 0.5rem\">DATE</span>\n",
              "</mark>\n",
              " into the \n",
              "<mark class=\"entity\" style=\"background: #ff9561; padding: 0.45em 0.6em; margin: 0 0.25em; line-height: 1; border-radius: 0.35em;\">\n",
              "    san francisco bay\n",
              "    <span style=\"font-size: 0.8em; font-weight: bold; line-height: 1; border-radius: 0.35em; vertical-align: middle; margin-left: 0.5rem\">LOC</span>\n",
              "</mark>\n",
              " to sustain the bait fish known as the delta smelt. this is a simple distribution issue; there is plenty of water.prior to the statists taking over \n",
              "<mark class=\"entity\" style=\"background: #feca74; padding: 0.45em 0.6em; margin: 0 0.25em; line-height: 1; border-radius: 0.35em;\">\n",
              "    california\n",
              "    <span style=\"font-size: 0.8em; font-weight: bold; line-height: 1; border-radius: 0.35em; vertical-align: middle; margin-left: 0.5rem\">GPE</span>\n",
              "</mark>\n",
              ", massive pumps were diverting water from rivers into the canal system (built before brown and his ilk took control of the state). they have all but turned these pumps off to protect the fish from their \n",
              "<mark class=\"entity\" style=\"background: #c887fb; padding: 0.45em 0.6em; margin: 0 0.25em; line-height: 1; border-radius: 0.35em;\">\n",
              "    darwinian\n",
              "    <span style=\"font-size: 0.8em; font-weight: bold; line-height: 1; border-radius: 0.35em; vertical-align: middle; margin-left: 0.5rem\">NORP</span>\n",
              "</mark>\n",
              " demise, and \n",
              "<mark class=\"entity\" style=\"background: #e4e7d2; padding: 0.45em 0.6em; margin: 0 0.25em; line-height: 1; border-radius: 0.35em;\">\n",
              "    billions upon billions of gallons\n",
              "    <span style=\"font-size: 0.8em; font-weight: bold; line-height: 1; border-radius: 0.35em; vertical-align: middle; margin-left: 0.5rem\">MONEY</span>\n",
              "</mark>\n",
              " of fresh water is continuously dumped into the ocean.for the people-hating \n",
              "<mark class=\"entity\" style=\"background: #feca74; padding: 0.45em 0.6em; margin: 0 0.25em; line-height: 1; border-radius: 0.35em;\">\n",
              "    san francisco cabal\n",
              "    <span style=\"font-size: 0.8em; font-weight: bold; line-height: 1; border-radius: 0.35em; vertical-align: middle; margin-left: 0.5rem\">GPE</span>\n",
              "</mark>\n",
              ", cutting off water from the people is the real goal. they want fewer people to begin with, but the ultimate goal is control. few environmentalists admit it publicly, but they want \n",
              "<mark class=\"entity\" style=\"background: #e4e7d2; padding: 0.45em 0.6em; margin: 0 0.25em; line-height: 1; border-radius: 0.35em;\">\n",
              "    zero\n",
              "    <span style=\"font-size: 0.8em; font-weight: bold; line-height: 1; border-radius: 0.35em; vertical-align: middle; margin-left: 0.5rem\">CARDINAL</span>\n",
              "</mark>\n",
              " farming in the central valley, preferring to  allow  land to return to its prehistoric state. the cabal wants to control water so they can control people. \n",
              "<mark class=\"entity\" style=\"background: #aa9cfc; padding: 0.45em 0.6em; margin: 0 0.25em; line-height: 1; border-radius: 0.35em;\">\n",
              "    brown\n",
              "    <span style=\"font-size: 0.8em; font-weight: bold; line-height: 1; border-radius: 0.35em; vertical-align: middle; margin-left: 0.5rem\">PERSON</span>\n",
              "</mark>\n",
              " is just the messenger \n",
              "<mark class=\"entity\" style=\"background: #bfe1d9; padding: 0.45em 0.6em; margin: 0 0.25em; line-height: 1; border-radius: 0.35em;\">\n",
              "    today\n",
              "    <span style=\"font-size: 0.8em; font-weight: bold; line-height: 1; border-radius: 0.35em; vertical-align: middle; margin-left: 0.5rem\">DATE</span>\n",
              "</mark>\n",
              ". he is telling \n",
              "<mark class=\"entity\" style=\"background: #feca74; padding: 0.45em 0.6em; margin: 0 0.25em; line-height: 1; border-radius: 0.35em;\">\n",
              "    america\n",
              "    <span style=\"font-size: 0.8em; font-weight: bold; line-height: 1; border-radius: 0.35em; vertical-align: middle; margin-left: 0.5rem\">GPE</span>\n",
              "</mark>\n",
              " that water access is a privilege, he has the power to pick winners and losers, and we have to just take it.if brown decides \n",
              "<mark class=\"entity\" style=\"background: #bfe1d9; padding: 0.45em 0.6em; margin: 0 0.25em; line-height: 1; border-radius: 0.35em;\">\n",
              "    tomorrow\n",
              "    <span style=\"font-size: 0.8em; font-weight: bold; line-height: 1; border-radius: 0.35em; vertical-align: middle; margin-left: 0.5rem\">DATE</span>\n",
              "</mark>\n",
              " that he wants to withhold water from almond farmers, \n",
              "<mark class=\"entity\" style=\"background: #c887fb; padding: 0.45em 0.6em; margin: 0 0.25em; line-height: 1; border-radius: 0.35em;\">\n",
              "    americans\n",
              "    <span style=\"font-size: 0.8em; font-weight: bold; line-height: 1; border-radius: 0.35em; vertical-align: middle; margin-left: 0.5rem\">NORP</span>\n",
              "</mark>\n",
              " will just have to accept it. have you ever wondered why any business owner would give campaign donations to \n",
              "<mark class=\"entity\" style=\"background: #c887fb; padding: 0.45em 0.6em; margin: 0 0.25em; line-height: 1; border-radius: 0.35em;\">\n",
              "    marxist\n",
              "    <span style=\"font-size: 0.8em; font-weight: bold; line-height: 1; border-radius: 0.35em; vertical-align: middle; margin-left: 0.5rem\">NORP</span>\n",
              "</mark>\n",
              ", business-hating politicians? now you know why. they must give to buy protection. business owners do not donate to brown, pelosi or \n",
              "<mark class=\"entity\" style=\"background: #aa9cfc; padding: 0.45em 0.6em; margin: 0 0.25em; line-height: 1; border-radius: 0.35em;\">\n",
              "    harry reid\n",
              "    <span style=\"font-size: 0.8em; font-weight: bold; line-height: 1; border-radius: 0.35em; vertical-align: middle; margin-left: 0.5rem\">PERSON</span>\n",
              "</mark>\n",
              " because those politicians are good for business; they give to be sure they are not the next targets.the problem with all of this is that water is a limitless natural resource. just ask the sailor who faced drowning \n",
              "<mark class=\"entity\" style=\"background: #bfe1d9; padding: 0.45em 0.6em; margin: 0 0.25em; line-height: 1; border-radius: 0.35em;\">\n",
              "    daily\n",
              "    <span style=\"font-size: 0.8em; font-weight: bold; line-height: 1; border-radius: 0.35em; vertical-align: middle; margin-left: 0.5rem\">DATE</span>\n",
              "</mark>\n",
              " or the people in the \n",
              "<mark class=\"entity\" style=\"background: #ff9561; padding: 0.45em 0.6em; margin: 0 0.25em; line-height: 1; border-radius: 0.35em;\">\n",
              "    midwest\n",
              "    <span style=\"font-size: 0.8em; font-weight: bold; line-height: 1; border-radius: 0.35em; vertical-align: middle; margin-left: 0.5rem\">LOC</span>\n",
              "</mark>\n",
              " who were deluged \n",
              "<mark class=\"entity\" style=\"background: #bfe1d9; padding: 0.45em 0.6em; margin: 0 0.25em; line-height: 1; border-radius: 0.35em;\">\n",
              "    this week\n",
              "    <span style=\"font-size: 0.8em; font-weight: bold; line-height: 1; border-radius: 0.35em; vertical-align: middle; margin-left: 0.5rem\">DATE</span>\n",
              "</mark>\n",
              ". it is one thing to argue for conservation of animals, or even trees, or  green space,  but water? water is a limitless natural resource. not even the most self-important leftist believes he could make water go away, no matter how hard he tried. how did they convince us to accept this lie?they got us to buy the lie that water is scarce by telling it often enough and pounding it into generations of schoolchildren. using federal law and acts of \n",
              "<mark class=\"entity\" style=\"background: #7aecec; padding: 0.45em 0.6em; margin: 0 0.25em; line-height: 1; border-radius: 0.35em;\">\n",
              "    congress\n",
              "    <span style=\"font-size: 0.8em; font-weight: bold; line-height: 1; border-radius: 0.35em; vertical-align: middle; margin-left: 0.5rem\">ORG</span>\n",
              "</mark>\n",
              ", they forced people from water-soaked regions to accept low flush or what some call  \n",
              "<mark class=\"entity\" style=\"background: #e4e7d2; padding: 0.45em 0.6em; margin: 0 0.25em; line-height: 1; border-radius: 0.35em;\">\n",
              "    two\n",
              "    <span style=\"font-size: 0.8em; font-weight: bold; line-height: 1; border-radius: 0.35em; vertical-align: middle; margin-left: 0.5rem\">CARDINAL</span>\n",
              "</mark>\n",
              " flush  toilets the same as desert-dwelling californians. and we fell for it. at least the \n",
              "<mark class=\"entity\" style=\"background: #c887fb; padding: 0.45em 0.6em; margin: 0 0.25em; line-height: 1; border-radius: 0.35em;\">\n",
              "    democrats\n",
              "    <span style=\"font-size: 0.8em; font-weight: bold; line-height: 1; border-radius: 0.35em; vertical-align: middle; margin-left: 0.5rem\">NORP</span>\n",
              "</mark>\n",
              " among us fell for it.thus it is that brown got to have his cake and eat it, too. he told \n",
              "<mark class=\"entity\" style=\"background: #c887fb; padding: 0.45em 0.6em; margin: 0 0.25em; line-height: 1; border-radius: 0.35em;\">\n",
              "    californians\n",
              "    <span style=\"font-size: 0.8em; font-weight: bold; line-height: 1; border-radius: 0.35em; vertical-align: middle; margin-left: 0.5rem\">NORP</span>\n",
              "</mark>\n",
              ", and really all \n",
              "<mark class=\"entity\" style=\"background: #c887fb; padding: 0.45em 0.6em; margin: 0 0.25em; line-height: 1; border-radius: 0.35em;\">\n",
              "    americans\n",
              "    <span style=\"font-size: 0.8em; font-weight: bold; line-height: 1; border-radius: 0.35em; vertical-align: middle; margin-left: 0.5rem\">NORP</span>\n",
              "</mark>\n",
              " and the world, that lack of water was not his fault for lacking the vision to feed the distribution system created by the real men who built \n",
              "<mark class=\"entity\" style=\"background: #feca74; padding: 0.45em 0.6em; margin: 0 0.25em; line-height: 1; border-radius: 0.35em;\">\n",
              "    california\n",
              "    <span style=\"font-size: 0.8em; font-weight: bold; line-height: 1; border-radius: 0.35em; vertical-align: middle; margin-left: 0.5rem\">GPE</span>\n",
              "</mark>\n",
              ". he repeats that it is not the fault of the marxists  endangered species act that prefers hard-headed fish over people. the lack of water is the result of the lack of  snow pack,  which is the result of  climate change,  which is the result of greedy people being well, people. the delta smelt and steelhead trout must live and we mere humans should all just die.meanwhile, \n",
              "<mark class=\"entity\" style=\"background: #aa9cfc; padding: 0.45em 0.6em; margin: 0 0.25em; line-height: 1; border-radius: 0.35em;\">\n",
              "    jerry brown\n",
              "    <span style=\"font-size: 0.8em; font-weight: bold; line-height: 1; border-radius: 0.35em; vertical-align: middle; margin-left: 0.5rem\">PERSON</span>\n",
              "</mark>\n",
              " is committed to spending \n",
              "<mark class=\"entity\" style=\"background: #e4e7d2; padding: 0.45em 0.6em; margin: 0 0.25em; line-height: 1; border-radius: 0.35em;\">\n",
              "    $100 billion\n",
              "    <span style=\"font-size: 0.8em; font-weight: bold; line-height: 1; border-radius: 0.35em; vertical-align: middle; margin-left: 0.5rem\">MONEY</span>\n",
              "</mark>\n",
              " for trains, but he has made \n",
              "<mark class=\"entity\" style=\"background: #e4e7d2; padding: 0.45em 0.6em; margin: 0 0.25em; line-height: 1; border-radius: 0.35em;\">\n",
              "    zero\n",
              "    <span style=\"font-size: 0.8em; font-weight: bold; line-height: 1; border-radius: 0.35em; vertical-align: middle; margin-left: 0.5rem\">CARDINAL</span>\n",
              "</mark>\n",
              " commitment to allowing water to flow to people instead of fish, and \n",
              "<mark class=\"entity\" style=\"background: #e4e7d2; padding: 0.45em 0.6em; margin: 0 0.25em; line-height: 1; border-radius: 0.35em;\">\n",
              "    zero\n",
              "    <span style=\"font-size: 0.8em; font-weight: bold; line-height: 1; border-radius: 0.35em; vertical-align: middle; margin-left: 0.5rem\">CARDINAL</span>\n",
              "</mark>\n",
              " commitment to finding funding for his  twin tunnels  alternate solution. and why would he? we are cutting back our water use, ratting on our neighbors and accepting higher produce prices across \n",
              "<mark class=\"entity\" style=\"background: #feca74; padding: 0.45em 0.6em; margin: 0 0.25em; line-height: 1; border-radius: 0.35em;\">\n",
              "    america\n",
              "    <span style=\"font-size: 0.8em; font-weight: bold; line-height: 1; border-radius: 0.35em; vertical-align: middle; margin-left: 0.5rem\">GPE</span>\n",
              "</mark>\n",
              ". the marxists in \n",
              "<mark class=\"entity\" style=\"background: #feca74; padding: 0.45em 0.6em; margin: 0 0.25em; line-height: 1; border-radius: 0.35em;\">\n",
              "    san francisco\n",
              "    <span style=\"font-size: 0.8em; font-weight: bold; line-height: 1; border-radius: 0.35em; vertical-align: middle; margin-left: 0.5rem\">GPE</span>\n",
              "</mark>\n",
              " are toasting total victory. the farmers and country club board members are suing for peace. lord help usvia: wnd</div></span>"
            ]
          },
          "metadata": {}
        },
        {
          "output_type": "display_data",
          "data": {
            "text/plain": [
              "<IPython.core.display.HTML object>"
            ],
            "text/html": [
              "<span class=\"tex2jax_ignore\"><div class=\"entities\" style=\"line-height: 2.5; direction: ltr\">the \n",
              "<mark class=\"entity\" style=\"background: #aa9cfc; padding: 0.45em 0.6em; margin: 0 0.25em; line-height: 1; border-radius: 0.35em;\">\n",
              "    clinton\n",
              "    <span style=\"font-size: 0.8em; font-weight: bold; line-height: 1; border-radius: 0.35em; vertical-align: middle; margin-left: 0.5rem\">PERSON</span>\n",
              "</mark>\n",
              " grifters will take money from just about anyone   even promoters of terror. the report below should tell you all you need to know about the influence peddlers that really have sold out the \n",
              "<mark class=\"entity\" style=\"background: #c887fb; padding: 0.45em 0.6em; margin: 0 0.25em; line-height: 1; border-radius: 0.35em;\">\n",
              "    american\n",
              "    <span style=\"font-size: 0.8em; font-weight: bold; line-height: 1; border-radius: 0.35em; vertical-align: middle; margin-left: 0.5rem\">NORP</span>\n",
              "</mark>\n",
              " people. do you want these \n",
              "<mark class=\"entity\" style=\"background: #e4e7d2; padding: 0.45em 0.6em; margin: 0 0.25em; line-height: 1; border-radius: 0.35em;\">\n",
              "    two\n",
              "    <span style=\"font-size: 0.8em; font-weight: bold; line-height: 1; border-radius: 0.35em; vertical-align: middle; margin-left: 0.5rem\">CARDINAL</span>\n",
              "</mark>\n",
              " in \n",
              "<mark class=\"entity\" style=\"background: #7aecec; padding: 0.45em 0.6em; margin: 0 0.25em; line-height: 1; border-radius: 0.35em;\">\n",
              "    the white house\n",
              "    <span style=\"font-size: 0.8em; font-weight: bold; line-height: 1; border-radius: 0.35em; vertical-align: middle; margin-left: 0.5rem\">ORG</span>\n",
              "</mark>\n",
              " again? former president \n",
              "<mark class=\"entity\" style=\"background: #aa9cfc; padding: 0.45em 0.6em; margin: 0 0.25em; line-height: 1; border-radius: 0.35em;\">\n",
              "    bill clinton\n",
              "    <span style=\"font-size: 0.8em; font-weight: bold; line-height: 1; border-radius: 0.35em; vertical-align: middle; margin-left: 0.5rem\">PERSON</span>\n",
              "</mark>\n",
              " collected \n",
              "<mark class=\"entity\" style=\"background: #e4e7d2; padding: 0.45em 0.6em; margin: 0 0.25em; line-height: 1; border-radius: 0.35em;\">\n",
              "    $5.6 million\n",
              "    <span style=\"font-size: 0.8em; font-weight: bold; line-height: 1; border-radius: 0.35em; vertical-align: middle; margin-left: 0.5rem\">MONEY</span>\n",
              "</mark>\n",
              " in fees from gems education, a \n",
              "<mark class=\"entity\" style=\"background: #feca74; padding: 0.45em 0.6em; margin: 0 0.25em; line-height: 1; border-radius: 0.35em;\">\n",
              "    dubai\n",
              "    <span style=\"font-size: 0.8em; font-weight: bold; line-height: 1; border-radius: 0.35em; vertical-align: middle; margin-left: 0.5rem\">GPE</span>\n",
              "</mark>\n",
              "-based company that teaches sharia law through its network of \n",
              "<mark class=\"entity\" style=\"background: #e4e7d2; padding: 0.45em 0.6em; margin: 0 0.25em; line-height: 1; border-radius: 0.35em;\">\n",
              "    more than 100\n",
              "    <span style=\"font-size: 0.8em; font-weight: bold; line-height: 1; border-radius: 0.35em; vertical-align: middle; margin-left: 0.5rem\">CARDINAL</span>\n",
              "</mark>\n",
              " schools in \n",
              "<mark class=\"entity\" style=\"background: #ff9561; padding: 0.45em 0.6em; margin: 0 0.25em; line-height: 1; border-radius: 0.35em;\">\n",
              "    the middle east\n",
              "    <span style=\"font-size: 0.8em; font-weight: bold; line-height: 1; border-radius: 0.35em; vertical-align: middle; margin-left: 0.5rem\">LOC</span>\n",
              "</mark>\n",
              ", \n",
              "<mark class=\"entity\" style=\"background: #ff9561; padding: 0.45em 0.6em; margin: 0 0.25em; line-height: 1; border-radius: 0.35em;\">\n",
              "    asia\n",
              "    <span style=\"font-size: 0.8em; font-weight: bold; line-height: 1; border-radius: 0.35em; vertical-align: middle; margin-left: 0.5rem\">LOC</span>\n",
              "</mark>\n",
              " and \n",
              "<mark class=\"entity\" style=\"background: #ff9561; padding: 0.45em 0.6em; margin: 0 0.25em; line-height: 1; border-radius: 0.35em;\">\n",
              "    africa\n",
              "    <span style=\"font-size: 0.8em; font-weight: bold; line-height: 1; border-radius: 0.35em; vertical-align: middle; margin-left: 0.5rem\">LOC</span>\n",
              "</mark>\n",
              ", according to a \n",
              "<mark class=\"entity\" style=\"background: #bfe1d9; padding: 0.45em 0.6em; margin: 0 0.25em; line-height: 1; border-radius: 0.35em;\">\n",
              "    daily\n",
              "    <span style=\"font-size: 0.8em; font-weight: bold; line-height: 1; border-radius: 0.35em; vertical-align: middle; margin-left: 0.5rem\">DATE</span>\n",
              "</mark>\n",
              " caller news foundation investigation.the company s finances strictly adhere to  sharia finance,  which includes giving  zakat,  a religious tax of which \n",
              "<mark class=\"entity\" style=\"background: #e4e7d2; padding: 0.45em 0.6em; margin: 0 0.25em; line-height: 1; border-radius: 0.35em;\">\n",
              "    one-eighth\n",
              "    <span style=\"font-size: 0.8em; font-weight: bold; line-height: 1; border-radius: 0.35em; vertical-align: middle; margin-left: 0.5rem\">CARDINAL</span>\n",
              "</mark>\n",
              " of the proceeds is dedicated to funding \n",
              "<mark class=\"entity\" style=\"background: #c887fb; padding: 0.45em 0.6em; margin: 0 0.25em; line-height: 1; border-radius: 0.35em;\">\n",
              "    islamic\n",
              "    <span style=\"font-size: 0.8em; font-weight: bold; line-height: 1; border-radius: 0.35em; vertical-align: middle; margin-left: 0.5rem\">NORP</span>\n",
              "</mark>\n",
              " jihad.the company also contributed \n",
              "<mark class=\"entity\" style=\"background: #e4e7d2; padding: 0.45em 0.6em; margin: 0 0.25em; line-height: 1; border-radius: 0.35em;\">\n",
              "    millions of dollars\n",
              "    <span style=\"font-size: 0.8em; font-weight: bold; line-height: 1; border-radius: 0.35em; vertical-align: middle; margin-left: 0.5rem\">MONEY</span>\n",
              "</mark>\n",
              " to the \n",
              "<mark class=\"entity\" style=\"background: #aa9cfc; padding: 0.45em 0.6em; margin: 0 0.25em; line-height: 1; border-radius: 0.35em;\">\n",
              "    clinton\n",
              "    <span style=\"font-size: 0.8em; font-weight: bold; line-height: 1; border-radius: 0.35em; vertical-align: middle; margin-left: 0.5rem\">PERSON</span>\n",
              "</mark>\n",
              " foundation.the former president served as honorary chairman for gems education from \n",
              "<mark class=\"entity\" style=\"background: #bfe1d9; padding: 0.45em 0.6em; margin: 0 0.25em; line-height: 1; border-radius: 0.35em;\">\n",
              "    2011 to 2014\n",
              "    <span style=\"font-size: 0.8em; font-weight: bold; line-height: 1; border-radius: 0.35em; vertical-align: middle; margin-left: 0.5rem\">DATE</span>\n",
              "</mark>\n",
              ", according to federal tax returns he filed with his wife, \n",
              "<mark class=\"entity\" style=\"background: #e4e7d2; padding: 0.45em 0.6em; margin: 0 0.25em; line-height: 1; border-radius: 0.35em;\">\n",
              "    2016\n",
              "    <span style=\"font-size: 0.8em; font-weight: bold; line-height: 1; border-radius: 0.35em; vertical-align: middle; margin-left: 0.5rem\">CARDINAL</span>\n",
              "</mark>\n",
              " democratic presidential nominee hillary clinton.his biggest paycheck from the closely-held company   which is incorporated in the cayman islands   was in \n",
              "<mark class=\"entity\" style=\"background: #bfe1d9; padding: 0.45em 0.6em; margin: 0 0.25em; line-height: 1; border-radius: 0.35em;\">\n",
              "    2014\n",
              "    <span style=\"font-size: 0.8em; font-weight: bold; line-height: 1; border-radius: 0.35em; vertical-align: middle; margin-left: 0.5rem\">DATE</span>\n",
              "</mark>\n",
              " when he pocketed \n",
              "<mark class=\"entity\" style=\"background: #e4e7d2; padding: 0.45em 0.6em; margin: 0 0.25em; line-height: 1; border-radius: 0.35em;\">\n",
              "    $2.1 million\n",
              "    <span style=\"font-size: 0.8em; font-weight: bold; line-height: 1; border-radius: 0.35em; vertical-align: middle; margin-left: 0.5rem\">MONEY</span>\n",
              "</mark>\n",
              ". it is unclear if bill received income from the middle eastern firm in \n",
              "<mark class=\"entity\" style=\"background: #bfe1d9; padding: 0.45em 0.6em; margin: 0 0.25em; line-height: 1; border-radius: 0.35em;\">\n",
              "    2015\n",
              "    <span style=\"font-size: 0.8em; font-weight: bold; line-height: 1; border-radius: 0.35em; vertical-align: middle; margin-left: 0.5rem\">DATE</span>\n",
              "</mark>\n",
              ", since hillary has not yet released her tax return for that year.read more: \n",
              "<mark class=\"entity\" style=\"background: #bfe1d9; padding: 0.45em 0.6em; margin: 0 0.25em; line-height: 1; border-radius: 0.35em;\">\n",
              "    daily\n",
              "    <span style=\"font-size: 0.8em; font-weight: bold; line-height: 1; border-radius: 0.35em; vertical-align: middle; margin-left: 0.5rem\">DATE</span>\n",
              "</mark>\n",
              " caller</div></span>"
            ]
          },
          "metadata": {}
        },
        {
          "output_type": "display_data",
          "data": {
            "text/plain": [
              "<IPython.core.display.HTML object>"
            ],
            "text/html": [
              "<span class=\"tex2jax_ignore\"><div class=\"entities\" style=\"line-height: 2.5; direction: ltr\">\n",
              "<mark class=\"entity\" style=\"background: #aa9cfc; padding: 0.45em 0.6em; margin: 0 0.25em; line-height: 1; border-radius: 0.35em;\">\n",
              "    dr ben carson\n",
              "    <span style=\"font-size: 0.8em; font-weight: bold; line-height: 1; border-radius: 0.35em; vertical-align: middle; margin-left: 0.5rem\">PERSON</span>\n",
              "</mark>\n",
              " gives his take on \n",
              "<mark class=\"entity\" style=\"background: #aa9cfc; padding: 0.45em 0.6em; margin: 0 0.25em; line-height: 1; border-radius: 0.35em;\">\n",
              "    loretta lynch\n",
              "    <span style=\"font-size: 0.8em; font-weight: bold; line-height: 1; border-radius: 0.35em; vertical-align: middle; margin-left: 0.5rem\">PERSON</span>\n",
              "</mark>\n",
              " calling the \n",
              "<mark class=\"entity\" style=\"background: #feca74; padding: 0.45em 0.6em; margin: 0 0.25em; line-height: 1; border-radius: 0.35em;\">\n",
              "    north carolina\n",
              "    <span style=\"font-size: 0.8em; font-weight: bold; line-height: 1; border-radius: 0.35em; vertical-align: middle; margin-left: 0.5rem\">GPE</span>\n",
              "</mark>\n",
              " bathroom law controversy like \n",
              "<mark class=\"entity\" style=\"background: #aa9cfc; padding: 0.45em 0.6em; margin: 0 0.25em; line-height: 1; border-radius: 0.35em;\">\n",
              "    jim crow\n",
              "    <span style=\"font-size: 0.8em; font-weight: bold; line-height: 1; border-radius: 0.35em; vertical-align: middle; margin-left: 0.5rem\">PERSON</span>\n",
              "</mark>\n",
              ":  everything is like \n",
              "<mark class=\"entity\" style=\"background: #aa9cfc; padding: 0.45em 0.6em; margin: 0 0.25em; line-height: 1; border-radius: 0.35em;\">\n",
              "    jim crow\n",
              "    <span style=\"font-size: 0.8em; font-weight: bold; line-height: 1; border-radius: 0.35em; vertical-align: middle; margin-left: 0.5rem\">PERSON</span>\n",
              "</mark>\n",
              ". everything is like racism and segregation and slavery. what a bunch of crap. you know, they want to do that so that they can always gain the sympathy, but thinking people know better. \n",
              "<mark class=\"entity\" style=\"background: #aa9cfc; padding: 0.45em 0.6em; margin: 0 0.25em; line-height: 1; border-radius: 0.35em;\">\n",
              "    loretta lynch\n",
              "    <span style=\"font-size: 0.8em; font-weight: bold; line-height: 1; border-radius: 0.35em; vertical-align: middle; margin-left: 0.5rem\">PERSON</span>\n",
              "</mark>\n",
              " announces a lawsuit against nc: </div></span>"
            ]
          },
          "metadata": {}
        },
        {
          "output_type": "display_data",
          "data": {
            "text/plain": [
              "<IPython.core.display.HTML object>"
            ],
            "text/html": [
              "<span class=\"tex2jax_ignore\"><div class=\"entities\" style=\"line-height: 2.5; direction: ltr\">you can thank the racist black lives matter paid protesters for this mayhem. they re trying to make it appear as though the people who support trump are violent racists. the police should use their full force to stop this now because it ll set an example for future attempts to rally. law and order comes \n",
              "<mark class=\"entity\" style=\"background: #e4e7d2; padding: 0.45em 0.6em; margin: 0 0.25em; line-height: 1; border-radius: 0.35em;\">\n",
              "    first\n",
              "    <span style=\"font-size: 0.8em; font-weight: bold; line-height: 1; border-radius: 0.35em; vertical-align: middle; margin-left: 0.5rem\">ORDINAL</span>\n",
              "</mark>\n",
              "! you can blame obama s buddy \n",
              "<mark class=\"entity\" style=\"background: #aa9cfc; padding: 0.45em 0.6em; margin: 0 0.25em; line-height: 1; border-radius: 0.35em;\">\n",
              "    george soros\n",
              "    <span style=\"font-size: 0.8em; font-weight: bold; line-height: 1; border-radius: 0.35em; vertical-align: middle; margin-left: 0.5rem\">PERSON</span>\n",
              "</mark>\n",
              " for stirring up this chaos. btw-trump has done nothing racist! he wants our border closed to illegals for the safety of \n",
              "<mark class=\"entity\" style=\"background: #c887fb; padding: 0.45em 0.6em; margin: 0 0.25em; line-height: 1; border-radius: 0.35em;\">\n",
              "    americans\n",
              "    <span style=\"font-size: 0.8em; font-weight: bold; line-height: 1; border-radius: 0.35em; vertical-align: middle; margin-left: 0.5rem\">NORP</span>\n",
              "</mark>\n",
              ". he also wants a moratorium on \n",
              "<mark class=\"entity\" style=\"background: #c887fb; padding: 0.45em 0.6em; margin: 0 0.25em; line-height: 1; border-radius: 0.35em;\">\n",
              "    muslim\n",
              "    <span style=\"font-size: 0.8em; font-weight: bold; line-height: 1; border-radius: 0.35em; vertical-align: middle; margin-left: 0.5rem\">NORP</span>\n",
              "</mark>\n",
              " refugees which is exactly what our \n",
              "<mark class=\"entity\" style=\"background: #7aecec; padding: 0.45em 0.6em; margin: 0 0.25em; line-height: 1; border-radius: 0.35em;\">\n",
              "    fbi\n",
              "    <span style=\"font-size: 0.8em; font-weight: bold; line-height: 1; border-radius: 0.35em; vertical-align: middle; margin-left: 0.5rem\">ORG</span>\n",
              "</mark>\n",
              " and dhs would recommend because they ve said we cannot vet these refugees. so what s the beef? </div></span>"
            ]
          },
          "metadata": {}
        },
        {
          "output_type": "display_data",
          "data": {
            "text/plain": [
              "<IPython.core.display.HTML object>"
            ],
            "text/html": [
              "<span class=\"tex2jax_ignore\"><div class=\"entities\" style=\"line-height: 2.5; direction: ltr\">\n",
              "<mark class=\"entity\" style=\"background: #aa9cfc; padding: 0.45em 0.6em; margin: 0 0.25em; line-height: 1; border-radius: 0.35em;\">\n",
              "    donald trump\n",
              "    <span style=\"font-size: 0.8em; font-weight: bold; line-height: 1; border-radius: 0.35em; vertical-align: middle; margin-left: 0.5rem\">PERSON</span>\n",
              "</mark>\n",
              " has been crucified by the leftist mainstream media, \n",
              "<mark class=\"entity\" style=\"background: #7aecec; padding: 0.45em 0.6em; margin: 0 0.25em; line-height: 1; border-radius: 0.35em;\">\n",
              "    gop\n",
              "    <span style=\"font-size: 0.8em; font-weight: bold; line-height: 1; border-radius: 0.35em; vertical-align: middle; margin-left: 0.5rem\">ORG</span>\n",
              "</mark>\n",
              " rino s and \n",
              "<mark class=\"entity\" style=\"background: #c887fb; padding: 0.45em 0.6em; margin: 0 0.25em; line-height: 1; border-radius: 0.35em;\">\n",
              "    democrat\n",
              "    <span style=\"font-size: 0.8em; font-weight: bold; line-height: 1; border-radius: 0.35em; vertical-align: middle; margin-left: 0.5rem\">NORP</span>\n",
              "</mark>\n",
              " leaders non-stop for his brash outspoken ways. but after \n",
              "<mark class=\"entity\" style=\"background: #bfe1d9; padding: 0.45em 0.6em; margin: 0 0.25em; line-height: 1; border-radius: 0.35em;\">\n",
              "    54 years\n",
              "    <span style=\"font-size: 0.8em; font-weight: bold; line-height: 1; border-radius: 0.35em; vertical-align: middle; margin-left: 0.5rem\">DATE</span>\n",
              "</mark>\n",
              " of voting for \n",
              "<mark class=\"entity\" style=\"background: #c887fb; padding: 0.45em 0.6em; margin: 0 0.25em; line-height: 1; border-radius: 0.35em;\">\n",
              "    democrats\n",
              "    <span style=\"font-size: 0.8em; font-weight: bold; line-height: 1; border-radius: 0.35em; vertical-align: middle; margin-left: 0.5rem\">NORP</span>\n",
              "</mark>\n",
              ", and getting absolutely nothing but a permanent ticket to their inner city plantation, his tough talk is starting to resonate with minorities who want to make a better life for themselves. they want to see a president who truly cares about seeing them succeed and isn t just in this race as the next step in his political career this is not going to set well with pandering hillary quanell x, leader of the new black panther party in \n",
              "<mark class=\"entity\" style=\"background: #feca74; padding: 0.45em 0.6em; margin: 0 0.25em; line-height: 1; border-radius: 0.35em;\">\n",
              "    houston\n",
              "    <span style=\"font-size: 0.8em; font-weight: bold; line-height: 1; border-radius: 0.35em; vertical-align: middle; margin-left: 0.5rem\">GPE</span>\n",
              "</mark>\n",
              ", \n",
              "<mark class=\"entity\" style=\"background: #feca74; padding: 0.45em 0.6em; margin: 0 0.25em; line-height: 1; border-radius: 0.35em;\">\n",
              "    texas\n",
              "    <span style=\"font-size: 0.8em; font-weight: bold; line-height: 1; border-radius: 0.35em; vertical-align: middle; margin-left: 0.5rem\">GPE</span>\n",
              "</mark>\n",
              ", said \n",
              "<mark class=\"entity\" style=\"background: #bfe1d9; padding: 0.45em 0.6em; margin: 0 0.25em; line-height: 1; border-radius: 0.35em;\">\n",
              "    this week\n",
              "    <span style=\"font-size: 0.8em; font-weight: bold; line-height: 1; border-radius: 0.35em; vertical-align: middle; margin-left: 0.5rem\">DATE</span>\n",
              "</mark>\n",
              " on a local news program that black \n",
              "<mark class=\"entity\" style=\"background: #c887fb; padding: 0.45em 0.6em; margin: 0 0.25em; line-height: 1; border-radius: 0.35em;\">\n",
              "    americans\n",
              "    <span style=\"font-size: 0.8em; font-weight: bold; line-height: 1; border-radius: 0.35em; vertical-align: middle; margin-left: 0.5rem\">NORP</span>\n",
              "</mark>\n",
              " should  truly examine  \n",
              "<mark class=\"entity\" style=\"background: #aa9cfc; padding: 0.45em 0.6em; margin: 0 0.25em; line-height: 1; border-radius: 0.35em;\">\n",
              "    donald trump s outreach\n",
              "    <span style=\"font-size: 0.8em; font-weight: bold; line-height: 1; border-radius: 0.35em; vertical-align: middle; margin-left: 0.5rem\">PERSON</span>\n",
              "</mark>\n",
              " to the black community and  reexamine the relationship  that black voters have with the democratic party.america s in trouble. and i want to say to black and white people, only a fool fights in a burning house. this house is on fire.read the transcript of \n",
              "<mark class=\"entity\" style=\"background: #7aecec; padding: 0.45em 0.6em; margin: 0 0.25em; line-height: 1; border-radius: 0.35em;\">\n",
              "    quanell\n",
              "    <span style=\"font-size: 0.8em; font-weight: bold; line-height: 1; border-radius: 0.35em; vertical-align: middle; margin-left: 0.5rem\">ORG</span>\n",
              "</mark>\n",
              " x s remarks:\n",
              "<mark class=\"entity\" style=\"background: #aa9cfc; padding: 0.45em 0.6em; margin: 0 0.25em; line-height: 1; border-radius: 0.35em;\">\n",
              "    donald trump\n",
              "    <span style=\"font-size: 0.8em; font-weight: bold; line-height: 1; border-radius: 0.35em; vertical-align: middle; margin-left: 0.5rem\">PERSON</span>\n",
              "</mark>\n",
              " \n",
              "<mark class=\"entity\" style=\"background: #bfe1d9; padding: 0.45em 0.6em; margin: 0 0.25em; line-height: 1; border-radius: 0.35em;\">\n",
              "    last week\n",
              "    <span style=\"font-size: 0.8em; font-weight: bold; line-height: 1; border-radius: 0.35em; vertical-align: middle; margin-left: 0.5rem\">DATE</span>\n",
              "</mark>\n",
              " went to \n",
              "<mark class=\"entity\" style=\"background: #feca74; padding: 0.45em 0.6em; margin: 0 0.25em; line-height: 1; border-radius: 0.35em;\">\n",
              "    milwaukee\n",
              "    <span style=\"font-size: 0.8em; font-weight: bold; line-height: 1; border-radius: 0.35em; vertical-align: middle; margin-left: 0.5rem\">GPE</span>\n",
              "</mark>\n",
              " because of the rioting behind the police shooting of a young \n",
              "<mark class=\"entity\" style=\"background: #c887fb; padding: 0.45em 0.6em; margin: 0 0.25em; line-height: 1; border-radius: 0.35em;\">\n",
              "    african-american\n",
              "    <span style=\"font-size: 0.8em; font-weight: bold; line-height: 1; border-radius: 0.35em; vertical-align: middle; margin-left: 0.5rem\">NORP</span>\n",
              "</mark>\n",
              " male by a black officer and the city was being burned down in certain parts of the black community by protesters so \n",
              "<mark class=\"entity\" style=\"background: #aa9cfc; padding: 0.45em 0.6em; margin: 0 0.25em; line-height: 1; border-radius: 0.35em;\">\n",
              "    donald trump\n",
              "    <span style=\"font-size: 0.8em; font-weight: bold; line-height: 1; border-radius: 0.35em; vertical-align: middle; margin-left: 0.5rem\">PERSON</span>\n",
              "</mark>\n",
              " decided to go to \n",
              "<mark class=\"entity\" style=\"background: #feca74; padding: 0.45em 0.6em; margin: 0 0.25em; line-height: 1; border-radius: 0.35em;\">\n",
              "    milwaukee\n",
              "    <span style=\"font-size: 0.8em; font-weight: bold; line-height: 1; border-radius: 0.35em; vertical-align: middle; margin-left: 0.5rem\">GPE</span>\n",
              "</mark>\n",
              " and speak about the conditions of \n",
              "<mark class=\"entity\" style=\"background: #feca74; padding: 0.45em 0.6em; margin: 0 0.25em; line-height: 1; border-radius: 0.35em;\">\n",
              "    america\n",
              "    <span style=\"font-size: 0.8em; font-weight: bold; line-height: 1; border-radius: 0.35em; vertical-align: middle; margin-left: 0.5rem\">GPE</span>\n",
              "</mark>\n",
              " and why he felt black people should vote for him. he even went on to lay out reasons why he felt we should.let me say this to the brothers and sisters who listened and watched that speech. we may not like the vessel that said what he said, but i ask us to truly examine what he said, because it is a fact that for \n",
              "<mark class=\"entity\" style=\"background: #bfe1d9; padding: 0.45em 0.6em; margin: 0 0.25em; line-height: 1; border-radius: 0.35em;\">\n",
              "    54 years\n",
              "    <span style=\"font-size: 0.8em; font-weight: bold; line-height: 1; border-radius: 0.35em; vertical-align: middle; margin-left: 0.5rem\">DATE</span>\n",
              "</mark>\n",
              ", we have been voting for \n",
              "<mark class=\"entity\" style=\"background: #7aecec; padding: 0.45em 0.6em; margin: 0 0.25em; line-height: 1; border-radius: 0.35em;\">\n",
              "    the democratic party\n",
              "    <span style=\"font-size: 0.8em; font-weight: bold; line-height: 1; border-radius: 0.35em; vertical-align: middle; margin-left: 0.5rem\">ORG</span>\n",
              "</mark>\n",
              " like no other race in \n",
              "<mark class=\"entity\" style=\"background: #feca74; padding: 0.45em 0.6em; margin: 0 0.25em; line-height: 1; border-radius: 0.35em;\">\n",
              "    america\n",
              "    <span style=\"font-size: 0.8em; font-weight: bold; line-height: 1; border-radius: 0.35em; vertical-align: middle; margin-left: 0.5rem\">GPE</span>\n",
              "</mark>\n",
              ". and they have not given us the same loyalty and love that we have given them. we as black people have to reexamine the relationship   where we are being pimped like prostitutes, and they re the big pimps pimping us politically, promising us everything and we get nothing in \n",
              "<mark class=\"entity\" style=\"background: #7aecec; padding: 0.45em 0.6em; margin: 0 0.25em; line-height: 1; border-radius: 0.35em;\">\n",
              "    return.we\n",
              "    <span style=\"font-size: 0.8em; font-weight: bold; line-height: 1; border-radius: 0.35em; vertical-align: middle; margin-left: 0.5rem\">ORG</span>\n",
              "</mark>\n",
              " gotta step back now as black people and say, we ve gotta look at all the parties and vote our best interests.he spoke directly to black people. and i want to say and encourage the brothers and sisters. barack obama, our president, served \n",
              "<mark class=\"entity\" style=\"background: #e4e7d2; padding: 0.45em 0.6em; margin: 0 0.25em; line-height: 1; border-radius: 0.35em;\">\n",
              "    two\n",
              "    <span style=\"font-size: 0.8em; font-weight: bold; line-height: 1; border-radius: 0.35em; vertical-align: middle; margin-left: 0.5rem\">CARDINAL</span>\n",
              "</mark>\n",
              " terms. the \n",
              "<mark class=\"entity\" style=\"background: #e4e7d2; padding: 0.45em 0.6em; margin: 0 0.25em; line-height: 1; border-radius: 0.35em;\">\n",
              "    first\n",
              "    <span style=\"font-size: 0.8em; font-weight: bold; line-height: 1; border-radius: 0.35em; vertical-align: middle; margin-left: 0.5rem\">ORDINAL</span>\n",
              "</mark>\n",
              " black president ever. but did our condition get better? did financially, politically, academically, with education in our community, did things get better? are our young people working more than what is was before he came into office? the condition got worse. so now we as black people have to do and remember what the honorable elijah mohammed said. no politician can save the black community; we ve gotta do it ourselves.via: \n",
              "<mark class=\"entity\" style=\"background: #7aecec; padding: 0.45em 0.6em; margin: 0 0.25em; line-height: 1; border-radius: 0.35em;\">\n",
              "    breitbart news\n",
              "    <span style=\"font-size: 0.8em; font-weight: bold; line-height: 1; border-radius: 0.35em; vertical-align: middle; margin-left: 0.5rem\">ORG</span>\n",
              "</mark>\n",
              " </div></span>"
            ]
          },
          "metadata": {}
        },
        {
          "output_type": "stream",
          "name": "stdout",
          "text": [
            "Text: it s too late for these countries who ve been invaded by mostly young muslim male refugees to turn back the clock. bavaria is now being forced to do whatever they can to fight back against terrorism in their own backyards. you can t allow millions of unchecked muslim men to invade your sovereignty without paying an enormous price. asking refugees to police refugees is like asking prisoners in a jail to police themselves. when mostly muslim men have invaded a majority catholic state, and are now being asked to police its citizens, what could possible go wrong?migrants will be increasingly recruited as police officers   those with and without german passports. interior minister herrmann hopes this will produce a greater clear-up rate and a de-escalation of violence. the failures in the investigations of the nsu terror group have increased these efforts.bavaria will increasingly employ police officers with foreign roots. experience has shown that they have a  more direct line  to people of immigrant origin, as they speak their language and know their mentality better, said interior minister joachim herrmann (csu) on monday in nuremberg.  i hope this will help police achieve better clear-up rates and conflict resolution.  via: merkur.dethis is insane. i can see many europeans rightly refusing to acknowledge the authority of police officers who are foreigners and don t even have citizenship.rt  in october, 2015, bavarian interior minister threatened to file a constitutional complaint against the federal government unless it would implement efficient measures to curb the influx of refugees.the bavarian government stepped up pressure on angela merkel s  cabinet, demanding that the german government drop its policy of welcoming an unlimited number of refugees.if  effective measures  are not taken to deal with the crisis, bavaria will take the matter to the constitutional court and charge the german government with endangering  the legal capacity of the german states to act independently,  bavarian interior minister joachim herrmann announced after an emergency meeting of the bavarian government on friday. one [the german government] does not comply with the law and the other [bavaria] wants the law to be complied with,  bavarian prime minister horst seehofer said, commenting on the decision at the press conference following the meeting.listen here:\n",
            "Entities:\n",
            "- muslim (NORP)\n",
            "- bavaria (PERSON)\n",
            "- millions (CARDINAL)\n",
            "- muslim (NORP)\n",
            "- muslim (NORP)\n",
            "- german (NORP)\n",
            "- interior (ORG)\n",
            "- herrmann (PERSON)\n",
            "- joachim herrmann (PERSON)\n",
            "- monday (DATE)\n",
            "- nuremberg (GPE)\n",
            "- europeans (NORP)\n",
            "- october, 2015 (DATE)\n",
            "- bavarian (NORP)\n",
            "- bavarian (NORP)\n",
            "- angela merkel s  cabinet (PERSON)\n",
            "- german (NORP)\n",
            "- bavaria (GPE)\n",
            "- german (NORP)\n",
            "- german (NORP)\n",
            "- bavarian (NORP)\n",
            "- joachim herrmann (PERSON)\n",
            "- bavarian (NORP)\n",
            "- friday (DATE)\n",
            "- one (CARDINAL)\n",
            "- german (NORP)\n",
            "- bavarian (NORP)\n",
            "- horst seehofer (PERSON)\n",
            "\n",
            "--------------------------------------------------\n",
            "\n",
            "Text: dr. gina loudon is hands down one of our favorite conservative writers. she nails it with this piece about the truth behind the lies of the california drought i found it supremely ironic this week that two of the big stories were about a man-made lack of water in california, and a man lost in a vast sea off of florida.gov. jerry  moonbeam  brown announced the dire circumstances, not from the capitol in sacramento, but from the dramatic backdrop of a mountaintop. his narrative held that there should be five feet of  snow pack,  but alas, there was none. brown, and the radical marxists, couched as  environmentalists  he represents, have convinced most americans to hold two radically opposing views simultaneously. ostensibly, california is in danger of being flooded by rising sea levels caused by global warming and melting polar ice caps, and it is also utterly out of water.there is no shortage of water. this is an environmentalist-created drought that is costing billions.i waver between utter disgust and admiration when i watch how the leftists sell these things, always with straight faces. every major news outlet in america and many around the world swallowed the narrative like fish on a baited hook. they tell us there is no water, no snow to provide water for the summer, and the farmers are taking too much so people must suffer. there is an all-out war on grass, and no one is safe. sorry, shaggy, your  grass  is to blame as well.there is hand wringing in every club house as the boards are told they are coming for the rough grass, your fairways and greens are safe, for now. evil rich guys in colorful knickers and almond farmers in overalls are the scourge of california. off with their heads! oh, and you can forget about the luxury of children playing on the lawn. if you want that, you breeders should move to flyover land! don t you dare sneak and water the backyard after dark; brown makes it easy for your neighbors to snitch on you. i m not making this up. they really have a state hotline for that.those of us who pay attention know well the proverb,  where there is no vision, the people perish.  the people who built california into the greatest agricultural producer in america gave us dams, canals, reservoirs and all kinds of conveyance of water. they harnessed the rivers that reach from the pacific northwest down well into northern california and even draw water to the golden state from the colorado river. that was then. nothing has changed since then, except political power.for the last several decades, the radical fringe has taken full control of california, and it hates people. dennis prager observed that statists love humanity but hate humans. watch how they latch onto dreams of egalitarian states but begin the execution of their plans by marginalizing, isolating and then executing anyone who disagrees with them. they dine in the finest restaurants in san francisco, the likes of brown, pelosi, boxer and feinstein, planning lawsuits to cut the flow of water to the farms of central california and the people in southern california, caring not a wit that 40,000 agricultural workers, mostly hispanic, are unemployed.just this week, in the middle of a human crisis, federal fish agents ordered the release of billions of gallons of water purportedly to save six fish. you read that right. not to save six species of fish, but literally, six fish. apparently, these special six stood their, err ground, and when 29 of their compadres rode the 10 billion gallon man-made wave to the ocean in march, they refused to go with the flow (sorry).you can t make this stuff up. but when you do, people actually believe it.so obama administration agents want a second toilet flush to give these hard-headed steelheads a second nudge. the idea that nature itself may be holding the fish where they are is of no concern to statists who love telling both man and beast what they think is good for them. sadly, this latest mind-boggling atrocity is getting very little media coverage. i found excellent coverage in the manteca bulletin. why hasn t the los angeles times reported on this?the current shortage is based primarily on the release of billions of gallons daily into the san francisco bay to sustain the bait fish known as the delta smelt. this is a simple distribution issue; there is plenty of water.prior to the statists taking over california, massive pumps were diverting water from rivers into the canal system (built before brown and his ilk took control of the state). they have all but turned these pumps off to protect the fish from their darwinian demise, and billions upon billions of gallons of fresh water is continuously dumped into the ocean.for the people-hating san francisco cabal, cutting off water from the people is the real goal. they want fewer people to begin with, but the ultimate goal is control. few environmentalists admit it publicly, but they want zero farming in the central valley, preferring to  allow  land to return to its prehistoric state. the cabal wants to control water so they can control people. brown is just the messenger today. he is telling america that water access is a privilege, he has the power to pick winners and losers, and we have to just take it.if brown decides tomorrow that he wants to withhold water from almond farmers, americans will just have to accept it. have you ever wondered why any business owner would give campaign donations to marxist, business-hating politicians? now you know why. they must give to buy protection. business owners do not donate to brown, pelosi or harry reid because those politicians are good for business; they give to be sure they are not the next targets.the problem with all of this is that water is a limitless natural resource. just ask the sailor who faced drowning daily or the people in the midwest who were deluged this week. it is one thing to argue for conservation of animals, or even trees, or  green space,  but water? water is a limitless natural resource. not even the most self-important leftist believes he could make water go away, no matter how hard he tried. how did they convince us to accept this lie?they got us to buy the lie that water is scarce by telling it often enough and pounding it into generations of schoolchildren. using federal law and acts of congress, they forced people from water-soaked regions to accept low flush or what some call  two flush  toilets the same as desert-dwelling californians. and we fell for it. at least the democrats among us fell for it.thus it is that brown got to have his cake and eat it, too. he told californians, and really all americans and the world, that lack of water was not his fault for lacking the vision to feed the distribution system created by the real men who built california. he repeats that it is not the fault of the marxists  endangered species act that prefers hard-headed fish over people. the lack of water is the result of the lack of  snow pack,  which is the result of  climate change,  which is the result of greedy people being well, people. the delta smelt and steelhead trout must live and we mere humans should all just die.meanwhile, jerry brown is committed to spending $100 billion for trains, but he has made zero commitment to allowing water to flow to people instead of fish, and zero commitment to finding funding for his  twin tunnels  alternate solution. and why would he? we are cutting back our water use, ratting on our neighbors and accepting higher produce prices across america. the marxists in san francisco are toasting total victory. the farmers and country club board members are suing for peace. lord help usvia: wnd\n",
            "Entities:\n",
            "- dr. (PERSON)\n",
            "- gina loudon (PERSON)\n",
            "- one (CARDINAL)\n",
            "- california (GPE)\n",
            "- this week (DATE)\n",
            "- two (CARDINAL)\n",
            "- california (GPE)\n",
            "- jerry (PERSON)\n",
            "- sacramento (GPE)\n",
            "- five feet (QUANTITY)\n",
            "- americans (NORP)\n",
            "- two (CARDINAL)\n",
            "- california (GPE)\n",
            "- america (GPE)\n",
            "- the summer (DATE)\n",
            "- california (GPE)\n",
            "- that.those (CARDINAL)\n",
            "- california (GPE)\n",
            "- america (GPE)\n",
            "- pacific (LOC)\n",
            "- california (GPE)\n",
            "- the last several decades (DATE)\n",
            "- california (GPE)\n",
            "- dennis prager (PERSON)\n",
            "- egalitarian (NORP)\n",
            "- san francisco (GPE)\n",
            "- california (GPE)\n",
            "- california (GPE)\n",
            "- 40,000 (CARDINAL)\n",
            "- hispanic (NORP)\n",
            "- this week (DATE)\n",
            "- billions of gallons (QUANTITY)\n",
            "- six (CARDINAL)\n",
            "- six (CARDINAL)\n",
            "- six (CARDINAL)\n",
            "- six (CARDINAL)\n",
            "- 29 (CARDINAL)\n",
            "- 10 billion gallon (MONEY)\n",
            "- march (DATE)\n",
            "- second (ORDINAL)\n",
            "- second (ORDINAL)\n",
            "- the los angeles times (ORG)\n",
            "- billions of gallons (QUANTITY)\n",
            "- daily (DATE)\n",
            "- san francisco bay (LOC)\n",
            "- california (GPE)\n",
            "- darwinian (NORP)\n",
            "- billions upon billions of gallons (MONEY)\n",
            "- san francisco cabal (GPE)\n",
            "- zero (CARDINAL)\n",
            "- brown (PERSON)\n",
            "- today (DATE)\n",
            "- america (GPE)\n",
            "- tomorrow (DATE)\n",
            "- americans (NORP)\n",
            "- marxist (NORP)\n",
            "- harry reid (PERSON)\n",
            "- daily (DATE)\n",
            "- midwest (LOC)\n",
            "- this week (DATE)\n",
            "- congress (ORG)\n",
            "- two (CARDINAL)\n",
            "- democrats (NORP)\n",
            "- californians (NORP)\n",
            "- americans (NORP)\n",
            "- california (GPE)\n",
            "- jerry brown (PERSON)\n",
            "- $100 billion (MONEY)\n",
            "- zero (CARDINAL)\n",
            "- zero (CARDINAL)\n",
            "- america (GPE)\n",
            "- san francisco (GPE)\n",
            "\n",
            "--------------------------------------------------\n",
            "\n"
          ]
        }
      ]
    },
    {
      "cell_type": "code",
      "source": [
        "print(\"Named Entities in True Sample Data:\")\n",
        "# Apply nlp to the 'text' column of the DataFrame, not the entire DataFrame\n",
        "for text in true_df_sample['text'].head(6):  # Process only the first 2 rows for demonstration\n",
        "    doc = nlp(text)\n",
        "    displacy.render(doc, style=\"ent\", jupyter=True)\n",
        "print_ner(true_df_sample.head(2), 'text')  # Replace 'text' with your actual column name"
      ],
      "metadata": {
        "colab": {
          "base_uri": "https://localhost:8080/",
          "height": 1000
        },
        "id": "Q8FVMGrEfkDB",
        "outputId": "7c1e9843-5602-42ef-be84-711b60f96850"
      },
      "execution_count": 27,
      "outputs": [
        {
          "output_type": "stream",
          "name": "stdout",
          "text": [
            "Named Entities in True Sample Data:\n"
          ]
        },
        {
          "output_type": "display_data",
          "data": {
            "text/plain": [
              "<IPython.core.display.HTML object>"
            ],
            "text/html": [
              "<span class=\"tex2jax_ignore\"><div class=\"entities\" style=\"line-height: 2.5; direction: ltr\">\n",
              "<mark class=\"entity\" style=\"background: #feca74; padding: 0.45em 0.6em; margin: 0 0.25em; line-height: 1; border-radius: 0.35em;\">\n",
              "    moscow\n",
              "    <span style=\"font-size: 0.8em; font-weight: bold; line-height: 1; border-radius: 0.35em; vertical-align: middle; margin-left: 0.5rem\">GPE</span>\n",
              "</mark>\n",
              " (\n",
              "<mark class=\"entity\" style=\"background: #7aecec; padding: 0.45em 0.6em; margin: 0 0.25em; line-height: 1; border-radius: 0.35em;\">\n",
              "    reuters\n",
              "    <span style=\"font-size: 0.8em; font-weight: bold; line-height: 1; border-radius: 0.35em; vertical-align: middle; margin-left: 0.5rem\">ORG</span>\n",
              "</mark>\n",
              ") - president \n",
              "<mark class=\"entity\" style=\"background: #aa9cfc; padding: 0.45em 0.6em; margin: 0 0.25em; line-height: 1; border-radius: 0.35em;\">\n",
              "    vladimir putin\n",
              "    <span style=\"font-size: 0.8em; font-weight: bold; line-height: 1; border-radius: 0.35em; vertical-align: middle; margin-left: 0.5rem\">PERSON</span>\n",
              "</mark>\n",
              " told a meeting of \n",
              "<mark class=\"entity\" style=\"background: #feca74; padding: 0.45em 0.6em; margin: 0 0.25em; line-height: 1; border-radius: 0.35em;\">\n",
              "    russia\n",
              "    <span style=\"font-size: 0.8em; font-weight: bold; line-height: 1; border-radius: 0.35em; vertical-align: middle; margin-left: 0.5rem\">GPE</span>\n",
              "</mark>\n",
              " s security council on \n",
              "<mark class=\"entity\" style=\"background: #bfe1d9; padding: 0.45em 0.6em; margin: 0 0.25em; line-height: 1; border-radius: 0.35em;\">\n",
              "    friday\n",
              "    <span style=\"font-size: 0.8em; font-weight: bold; line-height: 1; border-radius: 0.35em; vertical-align: middle; margin-left: 0.5rem\">DATE</span>\n",
              "</mark>\n",
              " that \n",
              "<mark class=\"entity\" style=\"background: #c887fb; padding: 0.45em 0.6em; margin: 0 0.25em; line-height: 1; border-radius: 0.35em;\">\n",
              "    russian\n",
              "    <span style=\"font-size: 0.8em; font-weight: bold; line-height: 1; border-radius: 0.35em; vertical-align: middle; margin-left: 0.5rem\">NORP</span>\n",
              "</mark>\n",
              " media outlets working abroad were facing growing and unacceptable pressure, dmitry peskov, his spokesman, said.  it was stressed that such pressure on \n",
              "<mark class=\"entity\" style=\"background: #c887fb; padding: 0.45em 0.6em; margin: 0 0.25em; line-height: 1; border-radius: 0.35em;\">\n",
              "    russian\n",
              "    <span style=\"font-size: 0.8em; font-weight: bold; line-height: 1; border-radius: 0.35em; vertical-align: middle; margin-left: 0.5rem\">NORP</span>\n",
              "</mark>\n",
              " media is unacceptable,  peskov told a conference call with reporters. he did not name the countries where the \n",
              "<mark class=\"entity\" style=\"background: #7aecec; padding: 0.45em 0.6em; margin: 0 0.25em; line-height: 1; border-radius: 0.35em;\">\n",
              "    kremlin\n",
              "    <span style=\"font-size: 0.8em; font-weight: bold; line-height: 1; border-radius: 0.35em; vertical-align: middle; margin-left: 0.5rem\">ORG</span>\n",
              "</mark>\n",
              " was concerned \n",
              "<mark class=\"entity\" style=\"background: #c887fb; padding: 0.45em 0.6em; margin: 0 0.25em; line-height: 1; border-radius: 0.35em;\">\n",
              "    russian\n",
              "    <span style=\"font-size: 0.8em; font-weight: bold; line-height: 1; border-radius: 0.35em; vertical-align: middle; margin-left: 0.5rem\">NORP</span>\n",
              "</mark>\n",
              " media were coming under pressure. \n",
              "<mark class=\"entity\" style=\"background: #bfe1d9; padding: 0.45em 0.6em; margin: 0 0.25em; line-height: 1; border-radius: 0.35em;\">\n",
              "    earlier this week\n",
              "    <span style=\"font-size: 0.8em; font-weight: bold; line-height: 1; border-radius: 0.35em; vertical-align: middle; margin-left: 0.5rem\">DATE</span>\n",
              "</mark>\n",
              ", the \n",
              "<mark class=\"entity\" style=\"background: #c887fb; padding: 0.45em 0.6em; margin: 0 0.25em; line-height: 1; border-radius: 0.35em;\">\n",
              "    russian\n",
              "    <span style=\"font-size: 0.8em; font-weight: bold; line-height: 1; border-radius: 0.35em; vertical-align: middle; margin-left: 0.5rem\">NORP</span>\n",
              "</mark>\n",
              " foreign ministry accused \n",
              "<mark class=\"entity\" style=\"background: #feca74; padding: 0.45em 0.6em; margin: 0 0.25em; line-height: 1; border-radius: 0.35em;\">\n",
              "    washington\n",
              "    <span style=\"font-size: 0.8em; font-weight: bold; line-height: 1; border-radius: 0.35em; vertical-align: middle; margin-left: 0.5rem\">GPE</span>\n",
              "</mark>\n",
              " of putting unwarranted pressure on the u.s operations of \n",
              "<mark class=\"entity\" style=\"background: #7aecec; padding: 0.45em 0.6em; margin: 0 0.25em; line-height: 1; border-radius: 0.35em;\">\n",
              "    kremlin\n",
              "    <span style=\"font-size: 0.8em; font-weight: bold; line-height: 1; border-radius: 0.35em; vertical-align: middle; margin-left: 0.5rem\">ORG</span>\n",
              "</mark>\n",
              "-backed media outlet rt, and warned that \n",
              "<mark class=\"entity\" style=\"background: #feca74; padding: 0.45em 0.6em; margin: 0 0.25em; line-height: 1; border-radius: 0.35em;\">\n",
              "    moscow\n",
              "    <span style=\"font-size: 0.8em; font-weight: bold; line-height: 1; border-radius: 0.35em; vertical-align: middle; margin-left: 0.5rem\">GPE</span>\n",
              "</mark>\n",
              " could take tit-for-tat measures. \n",
              "<mark class=\"entity\" style=\"background: #feca74; padding: 0.45em 0.6em; margin: 0 0.25em; line-height: 1; border-radius: 0.35em;\">\n",
              "    russia\n",
              "    <span style=\"font-size: 0.8em; font-weight: bold; line-height: 1; border-radius: 0.35em; vertical-align: middle; margin-left: 0.5rem\">GPE</span>\n",
              "</mark>\n",
              " s communications regulator accused \n",
              "<mark class=\"entity\" style=\"background: #feca74; padding: 0.45em 0.6em; margin: 0 0.25em; line-height: 1; border-radius: 0.35em;\">\n",
              "    u.s.\n",
              "    <span style=\"font-size: 0.8em; font-weight: bold; line-height: 1; border-radius: 0.35em; vertical-align: middle; margin-left: 0.5rem\">GPE</span>\n",
              "</mark>\n",
              " tv channel \n",
              "<mark class=\"entity\" style=\"background: #7aecec; padding: 0.45em 0.6em; margin: 0 0.25em; line-height: 1; border-radius: 0.35em;\">\n",
              "    cnn\n",
              "    <span style=\"font-size: 0.8em; font-weight: bold; line-height: 1; border-radius: 0.35em; vertical-align: middle; margin-left: 0.5rem\">ORG</span>\n",
              "</mark>\n",
              " international of violating \n",
              "<mark class=\"entity\" style=\"background: #c887fb; padding: 0.45em 0.6em; margin: 0 0.25em; line-height: 1; border-radius: 0.35em;\">\n",
              "    russian\n",
              "    <span style=\"font-size: 0.8em; font-weight: bold; line-height: 1; border-radius: 0.35em; vertical-align: middle; margin-left: 0.5rem\">NORP</span>\n",
              "</mark>\n",
              " media law earlier on \n",
              "<mark class=\"entity\" style=\"background: #bfe1d9; padding: 0.45em 0.6em; margin: 0 0.25em; line-height: 1; border-radius: 0.35em;\">\n",
              "    friday\n",
              "    <span style=\"font-size: 0.8em; font-weight: bold; line-height: 1; border-radius: 0.35em; vertical-align: middle; margin-left: 0.5rem\">DATE</span>\n",
              "</mark>\n",
              " and said it had summoned the broadcaster s representatives in connection with the matter. </div></span>"
            ]
          },
          "metadata": {}
        },
        {
          "output_type": "display_data",
          "data": {
            "text/plain": [
              "<IPython.core.display.HTML object>"
            ],
            "text/html": [
              "<span class=\"tex2jax_ignore\"><div class=\"entities\" style=\"line-height: 2.5; direction: ltr\">\n",
              "<mark class=\"entity\" style=\"background: #feca74; padding: 0.45em 0.6em; margin: 0 0.25em; line-height: 1; border-radius: 0.35em;\">\n",
              "    paris\n",
              "    <span style=\"font-size: 0.8em; font-weight: bold; line-height: 1; border-radius: 0.35em; vertical-align: middle; margin-left: 0.5rem\">GPE</span>\n",
              "</mark>\n",
              " (\n",
              "<mark class=\"entity\" style=\"background: #7aecec; padding: 0.45em 0.6em; margin: 0 0.25em; line-height: 1; border-radius: 0.35em;\">\n",
              "    reuters\n",
              "    <span style=\"font-size: 0.8em; font-weight: bold; line-height: 1; border-radius: 0.35em; vertical-align: middle; margin-left: 0.5rem\">ORG</span>\n",
              "</mark>\n",
              ") - \n",
              "<mark class=\"entity\" style=\"background: #c887fb; padding: 0.45em 0.6em; margin: 0 0.25em; line-height: 1; border-radius: 0.35em;\">\n",
              "    french\n",
              "    <span style=\"font-size: 0.8em; font-weight: bold; line-height: 1; border-radius: 0.35em; vertical-align: middle; margin-left: 0.5rem\">NORP</span>\n",
              "</mark>\n",
              " president francois hollande on \n",
              "<mark class=\"entity\" style=\"background: #bfe1d9; padding: 0.45em 0.6em; margin: 0 0.25em; line-height: 1; border-radius: 0.35em;\">\n",
              "    wednesday\n",
              "    <span style=\"font-size: 0.8em; font-weight: bold; line-height: 1; border-radius: 0.35em; vertical-align: middle; margin-left: 0.5rem\">DATE</span>\n",
              "</mark>\n",
              " congratulated \n",
              "<mark class=\"entity\" style=\"background: #aa9cfc; padding: 0.45em 0.6em; margin: 0 0.25em; line-height: 1; border-radius: 0.35em;\">\n",
              "    donald trump\n",
              "    <span style=\"font-size: 0.8em; font-weight: bold; line-height: 1; border-radius: 0.35em; vertical-align: middle; margin-left: 0.5rem\">PERSON</span>\n",
              "</mark>\n",
              " on his shock victory in the u.s presidential election, but warned the result would open up a period of uncertainty. “i congratulate him as is natural between \n",
              "<mark class=\"entity\" style=\"background: #e4e7d2; padding: 0.45em 0.6em; margin: 0 0.25em; line-height: 1; border-radius: 0.35em;\">\n",
              "    two\n",
              "    <span style=\"font-size: 0.8em; font-weight: bold; line-height: 1; border-radius: 0.35em; vertical-align: middle; margin-left: 0.5rem\">CARDINAL</span>\n",
              "</mark>\n",
              " democratic heads of state,” said hollande. “this \n",
              "<mark class=\"entity\" style=\"background: #c887fb; padding: 0.45em 0.6em; margin: 0 0.25em; line-height: 1; border-radius: 0.35em;\">\n",
              "    american\n",
              "    <span style=\"font-size: 0.8em; font-weight: bold; line-height: 1; border-radius: 0.35em; vertical-align: middle; margin-left: 0.5rem\">NORP</span>\n",
              "</mark>\n",
              " election opens a period of uncertainty.” \n",
              "<mark class=\"entity\" style=\"background: #feca74; padding: 0.45em 0.6em; margin: 0 0.25em; line-height: 1; border-radius: 0.35em;\">\n",
              "    france\n",
              "    <span style=\"font-size: 0.8em; font-weight: bold; line-height: 1; border-radius: 0.35em; vertical-align: middle; margin-left: 0.5rem\">GPE</span>\n",
              "</mark>\n",
              " would be vigilant and frank in its talks with the new administration on international issues, he said, adding that trump’s victory showed that \n",
              "<mark class=\"entity\" style=\"background: #feca74; padding: 0.45em 0.6em; margin: 0 0.25em; line-height: 1; border-radius: 0.35em;\">\n",
              "    france\n",
              "    <span style=\"font-size: 0.8em; font-weight: bold; line-height: 1; border-radius: 0.35em; vertical-align: middle; margin-left: 0.5rem\">GPE</span>\n",
              "</mark>\n",
              " needed to be stronger and that \n",
              "<mark class=\"entity\" style=\"background: #ff9561; padding: 0.45em 0.6em; margin: 0 0.25em; line-height: 1; border-radius: 0.35em;\">\n",
              "    europe\n",
              "    <span style=\"font-size: 0.8em; font-weight: bold; line-height: 1; border-radius: 0.35em; vertical-align: middle; margin-left: 0.5rem\">LOC</span>\n",
              "</mark>\n",
              " needed to be united. a presidential official said hollande had spoken to \n",
              "<mark class=\"entity\" style=\"background: #c887fb; padding: 0.45em 0.6em; margin: 0 0.25em; line-height: 1; border-radius: 0.35em;\">\n",
              "    german\n",
              "    <span style=\"font-size: 0.8em; font-weight: bold; line-height: 1; border-radius: 0.35em; vertical-align: middle; margin-left: 0.5rem\">NORP</span>\n",
              "</mark>\n",
              " chancellor \n",
              "<mark class=\"entity\" style=\"background: #aa9cfc; padding: 0.45em 0.6em; margin: 0 0.25em; line-height: 1; border-radius: 0.35em;\">\n",
              "    angela merkel\n",
              "    <span style=\"font-size: 0.8em; font-weight: bold; line-height: 1; border-radius: 0.35em; vertical-align: middle; margin-left: 0.5rem\">PERSON</span>\n",
              "</mark>\n",
              " before making his declaration. </div></span>"
            ]
          },
          "metadata": {}
        },
        {
          "output_type": "display_data",
          "data": {
            "text/plain": [
              "<IPython.core.display.HTML object>"
            ],
            "text/html": [
              "<span class=\"tex2jax_ignore\"><div class=\"entities\" style=\"line-height: 2.5; direction: ltr\">(\n",
              "<mark class=\"entity\" style=\"background: #7aecec; padding: 0.45em 0.6em; margin: 0 0.25em; line-height: 1; border-radius: 0.35em;\">\n",
              "    reuters\n",
              "    <span style=\"font-size: 0.8em; font-weight: bold; line-height: 1; border-radius: 0.35em; vertical-align: middle; margin-left: 0.5rem\">ORG</span>\n",
              "</mark>\n",
              ") - a \n",
              "<mark class=\"entity\" style=\"background: #c887fb; padding: 0.45em 0.6em; margin: 0 0.25em; line-height: 1; border-radius: 0.35em;\">\n",
              "    republican\n",
              "    <span style=\"font-size: 0.8em; font-weight: bold; line-height: 1; border-radius: 0.35em; vertical-align: middle; margin-left: 0.5rem\">NORP</span>\n",
              "</mark>\n",
              " candidate backed by president \n",
              "<mark class=\"entity\" style=\"background: #aa9cfc; padding: 0.45em 0.6em; margin: 0 0.25em; line-height: 1; border-radius: 0.35em;\">\n",
              "    donald trump\n",
              "    <span style=\"font-size: 0.8em; font-weight: bold; line-height: 1; border-radius: 0.35em; vertical-align: middle; margin-left: 0.5rem\">PERSON</span>\n",
              "</mark>\n",
              " for a \n",
              "<mark class=\"entity\" style=\"background: #feca74; padding: 0.45em 0.6em; margin: 0 0.25em; line-height: 1; border-radius: 0.35em;\">\n",
              "    u.s.\n",
              "    <span style=\"font-size: 0.8em; font-weight: bold; line-height: 1; border-radius: 0.35em; vertical-align: middle; margin-left: 0.5rem\">GPE</span>\n",
              "</mark>\n",
              " \n",
              "<mark class=\"entity\" style=\"background: #7aecec; padding: 0.45em 0.6em; margin: 0 0.25em; line-height: 1; border-radius: 0.35em;\">\n",
              "    senate\n",
              "    <span style=\"font-size: 0.8em; font-weight: bold; line-height: 1; border-radius: 0.35em; vertical-align: middle; margin-left: 0.5rem\">ORG</span>\n",
              "</mark>\n",
              " seat from \n",
              "<mark class=\"entity\" style=\"background: #feca74; padding: 0.45em 0.6em; margin: 0 0.25em; line-height: 1; border-radius: 0.35em;\">\n",
              "    alabama\n",
              "    <span style=\"font-size: 0.8em; font-weight: bold; line-height: 1; border-radius: 0.35em; vertical-align: middle; margin-left: 0.5rem\">GPE</span>\n",
              "</mark>\n",
              " is expected to finish a distant \n",
              "<mark class=\"entity\" style=\"background: #e4e7d2; padding: 0.45em 0.6em; margin: 0 0.25em; line-height: 1; border-radius: 0.35em;\">\n",
              "    second\n",
              "    <span style=\"font-size: 0.8em; font-weight: bold; line-height: 1; border-radius: 0.35em; vertical-align: middle; margin-left: 0.5rem\">ORDINAL</span>\n",
              "</mark>\n",
              " in a primary election on \n",
              "<mark class=\"entity\" style=\"background: #bfe1d9; padding: 0.45em 0.6em; margin: 0 0.25em; line-height: 1; border-radius: 0.35em;\">\n",
              "    tuesday\n",
              "    <span style=\"font-size: 0.8em; font-weight: bold; line-height: 1; border-radius: 0.35em; vertical-align: middle; margin-left: 0.5rem\">DATE</span>\n",
              "</mark>\n",
              ", but will still have enough votes to advance to a run-off, local news projected. in the election for the seat vacated by \n",
              "<mark class=\"entity\" style=\"background: #c887fb; padding: 0.45em 0.6em; margin: 0 0.25em; line-height: 1; border-radius: 0.35em;\">\n",
              "    republican\n",
              "    <span style=\"font-size: 0.8em; font-weight: bold; line-height: 1; border-radius: 0.35em; vertical-align: middle; margin-left: 0.5rem\">NORP</span>\n",
              "</mark>\n",
              " \n",
              "<mark class=\"entity\" style=\"background: #aa9cfc; padding: 0.45em 0.6em; margin: 0 0.25em; line-height: 1; border-radius: 0.35em;\">\n",
              "    jeff\n",
              "    <span style=\"font-size: 0.8em; font-weight: bold; line-height: 1; border-radius: 0.35em; vertical-align: middle; margin-left: 0.5rem\">PERSON</span>\n",
              "</mark>\n",
              " sessions when he became \n",
              "<mark class=\"entity\" style=\"background: #feca74; padding: 0.45em 0.6em; margin: 0 0.25em; line-height: 1; border-radius: 0.35em;\">\n",
              "    u.s.\n",
              "    <span style=\"font-size: 0.8em; font-weight: bold; line-height: 1; border-radius: 0.35em; vertical-align: middle; margin-left: 0.5rem\">GPE</span>\n",
              "</mark>\n",
              " attorney general, luther strange, who was appointed to the seat and was backed by trump, will move to the \n",
              "<mark class=\"entity\" style=\"background: #c887fb; padding: 0.45em 0.6em; margin: 0 0.25em; line-height: 1; border-radius: 0.35em;\">\n",
              "    republican\n",
              "    <span style=\"font-size: 0.8em; font-weight: bold; line-height: 1; border-radius: 0.35em; vertical-align: middle; margin-left: 0.5rem\">NORP</span>\n",
              "</mark>\n",
              " primary along with former \n",
              "<mark class=\"entity\" style=\"background: #7aecec; padding: 0.45em 0.6em; margin: 0 0.25em; line-height: 1; border-radius: 0.35em;\">\n",
              "    alabama supreme court\n",
              "    <span style=\"font-size: 0.8em; font-weight: bold; line-height: 1; border-radius: 0.35em; vertical-align: middle; margin-left: 0.5rem\">ORG</span>\n",
              "</mark>\n",
              " chief justice \n",
              "<mark class=\"entity\" style=\"background: #aa9cfc; padding: 0.45em 0.6em; margin: 0 0.25em; line-height: 1; border-radius: 0.35em;\">\n",
              "    roy moore\n",
              "    <span style=\"font-size: 0.8em; font-weight: bold; line-height: 1; border-radius: 0.35em; vertical-align: middle; margin-left: 0.5rem\">PERSON</span>\n",
              "</mark>\n",
              ", the projections said. neither candidate captured \n",
              "<mark class=\"entity\" style=\"background: #e4e7d2; padding: 0.45em 0.6em; margin: 0 0.25em; line-height: 1; border-radius: 0.35em;\">\n",
              "    more than 50 percent\n",
              "    <span style=\"font-size: 0.8em; font-weight: bold; line-height: 1; border-radius: 0.35em; vertical-align: middle; margin-left: 0.5rem\">PERCENT</span>\n",
              "</mark>\n",
              " of the vote required for an outright victory. with \n",
              "<mark class=\"entity\" style=\"background: #e4e7d2; padding: 0.45em 0.6em; margin: 0 0.25em; line-height: 1; border-radius: 0.35em;\">\n",
              "    60\n",
              "    <span style=\"font-size: 0.8em; font-weight: bold; line-height: 1; border-radius: 0.35em; vertical-align: middle; margin-left: 0.5rem\">CARDINAL</span>\n",
              "</mark>\n",
              " of the state’s \n",
              "<mark class=\"entity\" style=\"background: #e4e7d2; padding: 0.45em 0.6em; margin: 0 0.25em; line-height: 1; border-radius: 0.35em;\">\n",
              "    67\n",
              "    <span style=\"font-size: 0.8em; font-weight: bold; line-height: 1; border-radius: 0.35em; vertical-align: middle; margin-left: 0.5rem\">CARDINAL</span>\n",
              "</mark>\n",
              " counties reporting, moore had \n",
              "<mark class=\"entity\" style=\"background: #e4e7d2; padding: 0.45em 0.6em; margin: 0 0.25em; line-height: 1; border-radius: 0.35em;\">\n",
              "    43.8 percent\n",
              "    <span style=\"font-size: 0.8em; font-weight: bold; line-height: 1; border-radius: 0.35em; vertical-align: middle; margin-left: 0.5rem\">PERCENT</span>\n",
              "</mark>\n",
              " of the vote while strange had \n",
              "<mark class=\"entity\" style=\"background: #e4e7d2; padding: 0.45em 0.6em; margin: 0 0.25em; line-height: 1; border-radius: 0.35em;\">\n",
              "    31.7 percent\n",
              "    <span style=\"font-size: 0.8em; font-weight: bold; line-height: 1; border-radius: 0.35em; vertical-align: middle; margin-left: 0.5rem\">PERCENT</span>\n",
              "</mark>\n",
              ", official results showed. strange, a former \n",
              "<mark class=\"entity\" style=\"background: #feca74; padding: 0.45em 0.6em; margin: 0 0.25em; line-height: 1; border-radius: 0.35em;\">\n",
              "    alabama\n",
              "    <span style=\"font-size: 0.8em; font-weight: bold; line-height: 1; border-radius: 0.35em; vertical-align: middle; margin-left: 0.5rem\">GPE</span>\n",
              "</mark>\n",
              " attorney general, has close ties to \n",
              "<mark class=\"entity\" style=\"background: #7aecec; padding: 0.45em 0.6em; margin: 0 0.25em; line-height: 1; border-radius: 0.35em;\">\n",
              "    senate\n",
              "    <span style=\"font-size: 0.8em; font-weight: bold; line-height: 1; border-radius: 0.35em; vertical-align: middle; margin-left: 0.5rem\">ORG</span>\n",
              "</mark>\n",
              " majority leader \n",
              "<mark class=\"entity\" style=\"background: #aa9cfc; padding: 0.45em 0.6em; margin: 0 0.25em; line-height: 1; border-radius: 0.35em;\">\n",
              "    mitch mcconnell\n",
              "    <span style=\"font-size: 0.8em; font-weight: bold; line-height: 1; border-radius: 0.35em; vertical-align: middle; margin-left: 0.5rem\">PERSON</span>\n",
              "</mark>\n",
              ", who has been feuding with trump lately over stalled effort to pass health care reform. strange scored the president’s surprise endorsement \n",
              "<mark class=\"entity\" style=\"background: #bfe1d9; padding: 0.45em 0.6em; margin: 0 0.25em; line-height: 1; border-radius: 0.35em;\">\n",
              "    last week\n",
              "    <span style=\"font-size: 0.8em; font-weight: bold; line-height: 1; border-radius: 0.35em; vertical-align: middle; margin-left: 0.5rem\">DATE</span>\n",
              "</mark>\n",
              " and trump reiterated his support for strange in an automated phone call to voters on \n",
              "<mark class=\"entity\" style=\"background: #bfe1d9; padding: 0.45em 0.6em; margin: 0 0.25em; line-height: 1; border-radius: 0.35em;\">\n",
              "    monday\n",
              "    <span style=\"font-size: 0.8em; font-weight: bold; line-height: 1; border-radius: 0.35em; vertical-align: middle; margin-left: 0.5rem\">DATE</span>\n",
              "</mark>\n",
              ". “he’s helping me in the \n",
              "<mark class=\"entity\" style=\"background: #7aecec; padding: 0.45em 0.6em; margin: 0 0.25em; line-height: 1; border-radius: 0.35em;\">\n",
              "    senate\n",
              "    <span style=\"font-size: 0.8em; font-weight: bold; line-height: 1; border-radius: 0.35em; vertical-align: middle; margin-left: 0.5rem\">ORG</span>\n",
              "</mark>\n",
              ",” \n",
              "<mark class=\"entity\" style=\"background: #aa9cfc; padding: 0.45em 0.6em; margin: 0 0.25em; line-height: 1; border-radius: 0.35em;\">\n",
              "    trump\n",
              "    <span style=\"font-size: 0.8em; font-weight: bold; line-height: 1; border-radius: 0.35em; vertical-align: middle; margin-left: 0.5rem\">PERSON</span>\n",
              "</mark>\n",
              " said. “he’s going to get the tax cuts for us. he’s doing a lot of things for the people of \n",
              "<mark class=\"entity\" style=\"background: #feca74; padding: 0.45em 0.6em; margin: 0 0.25em; line-height: 1; border-radius: 0.35em;\">\n",
              "    alabama\n",
              "    <span style=\"font-size: 0.8em; font-weight: bold; line-height: 1; border-radius: 0.35em; vertical-align: middle; margin-left: 0.5rem\">GPE</span>\n",
              "</mark>\n",
              ".” moore was effectively ousted as \n",
              "<mark class=\"entity\" style=\"background: #feca74; padding: 0.45em 0.6em; margin: 0 0.25em; line-height: 1; border-radius: 0.35em;\">\n",
              "    alabama\n",
              "    <span style=\"font-size: 0.8em; font-weight: bold; line-height: 1; border-radius: 0.35em; vertical-align: middle; margin-left: 0.5rem\">GPE</span>\n",
              "</mark>\n",
              "’s chief justice in \n",
              "<mark class=\"entity\" style=\"background: #bfe1d9; padding: 0.45em 0.6em; margin: 0 0.25em; line-height: 1; border-radius: 0.35em;\">\n",
              "    2016\n",
              "    <span style=\"font-size: 0.8em; font-weight: bold; line-height: 1; border-radius: 0.35em; vertical-align: middle; margin-left: 0.5rem\">DATE</span>\n",
              "</mark>\n",
              " for defying \n",
              "<mark class=\"entity\" style=\"background: #7aecec; padding: 0.45em 0.6em; margin: 0 0.25em; line-height: 1; border-radius: 0.35em;\">\n",
              "    the u.s. supreme court’s\n",
              "    <span style=\"font-size: 0.8em; font-weight: bold; line-height: 1; border-radius: 0.35em; vertical-align: middle; margin-left: 0.5rem\">ORG</span>\n",
              "</mark>\n",
              " ruling legalizing gay marriage. it was the \n",
              "<mark class=\"entity\" style=\"background: #e4e7d2; padding: 0.45em 0.6em; margin: 0 0.25em; line-height: 1; border-radius: 0.35em;\">\n",
              "    second\n",
              "    <span style=\"font-size: 0.8em; font-weight: bold; line-height: 1; border-radius: 0.35em; vertical-align: middle; margin-left: 0.5rem\">ORDINAL</span>\n",
              "</mark>\n",
              " time that he was suspended from the bench. the \n",
              "<mark class=\"entity\" style=\"background: #e4e7d2; padding: 0.45em 0.6em; margin: 0 0.25em; line-height: 1; border-radius: 0.35em;\">\n",
              "    first\n",
              "    <span style=\"font-size: 0.8em; font-weight: bold; line-height: 1; border-radius: 0.35em; vertical-align: middle; margin-left: 0.5rem\">ORDINAL</span>\n",
              "</mark>\n",
              " was in \n",
              "<mark class=\"entity\" style=\"background: #bfe1d9; padding: 0.45em 0.6em; margin: 0 0.25em; line-height: 1; border-radius: 0.35em;\">\n",
              "    2003\n",
              "    <span style=\"font-size: 0.8em; font-weight: bold; line-height: 1; border-radius: 0.35em; vertical-align: middle; margin-left: 0.5rem\">DATE</span>\n",
              "</mark>\n",
              " after refusing a federal court order to remove a monument of the \n",
              "<mark class=\"entity\" style=\"background: #e4e7d2; padding: 0.45em 0.6em; margin: 0 0.25em; line-height: 1; border-radius: 0.35em;\">\n",
              "    ten\n",
              "    <span style=\"font-size: 0.8em; font-weight: bold; line-height: 1; border-radius: 0.35em; vertical-align: middle; margin-left: 0.5rem\">CARDINAL</span>\n",
              "</mark>\n",
              " commandments from the courthouse.  \n",
              "<mark class=\"entity\" style=\"background: #feca74; padding: 0.45em 0.6em; margin: 0 0.25em; line-height: 1; border-radius: 0.35em;\">\n",
              "    u.s.\n",
              "    <span style=\"font-size: 0.8em; font-weight: bold; line-height: 1; border-radius: 0.35em; vertical-align: middle; margin-left: 0.5rem\">GPE</span>\n",
              "</mark>\n",
              " representative mo \n",
              "<mark class=\"entity\" style=\"background: #7aecec; padding: 0.45em 0.6em; margin: 0 0.25em; line-height: 1; border-radius: 0.35em;\">\n",
              "    brooks\n",
              "    <span style=\"font-size: 0.8em; font-weight: bold; line-height: 1; border-radius: 0.35em; vertical-align: middle; margin-left: 0.5rem\">ORG</span>\n",
              "</mark>\n",
              " came in \n",
              "<mark class=\"entity\" style=\"background: #e4e7d2; padding: 0.45em 0.6em; margin: 0 0.25em; line-height: 1; border-radius: 0.35em;\">\n",
              "    third\n",
              "    <span style=\"font-size: 0.8em; font-weight: bold; line-height: 1; border-radius: 0.35em; vertical-align: middle; margin-left: 0.5rem\">ORDINAL</span>\n",
              "</mark>\n",
              " in the \n",
              "<mark class=\"entity\" style=\"background: #c887fb; padding: 0.45em 0.6em; margin: 0 0.25em; line-height: 1; border-radius: 0.35em;\">\n",
              "    republican\n",
              "    <span style=\"font-size: 0.8em; font-weight: bold; line-height: 1; border-radius: 0.35em; vertical-align: middle; margin-left: 0.5rem\">NORP</span>\n",
              "</mark>\n",
              " primary and will not advance to the \n",
              "<mark class=\"entity\" style=\"background: #bfe1d9; padding: 0.45em 0.6em; margin: 0 0.25em; line-height: 1; border-radius: 0.35em;\">\n",
              "    sept. 26\n",
              "    <span style=\"font-size: 0.8em; font-weight: bold; line-height: 1; border-radius: 0.35em; vertical-align: middle; margin-left: 0.5rem\">DATE</span>\n",
              "</mark>\n",
              " runoff. the top candidates have battled for \n",
              "<mark class=\"entity\" style=\"background: #bfe1d9; padding: 0.45em 0.6em; margin: 0 0.25em; line-height: 1; border-radius: 0.35em;\">\n",
              "    weeks\n",
              "    <span style=\"font-size: 0.8em; font-weight: bold; line-height: 1; border-radius: 0.35em; vertical-align: middle; margin-left: 0.5rem\">DATE</span>\n",
              "</mark>\n",
              " over which of them is most supportive of trump’s legislative agenda. in the democratic primary, \n",
              "<mark class=\"entity\" style=\"background: #aa9cfc; padding: 0.45em 0.6em; margin: 0 0.25em; line-height: 1; border-radius: 0.35em;\">\n",
              "    doug jones\n",
              "    <span style=\"font-size: 0.8em; font-weight: bold; line-height: 1; border-radius: 0.35em; vertical-align: middle; margin-left: 0.5rem\">PERSON</span>\n",
              "</mark>\n",
              ", a former \n",
              "<mark class=\"entity\" style=\"background: #feca74; padding: 0.45em 0.6em; margin: 0 0.25em; line-height: 1; border-radius: 0.35em;\">\n",
              "    u.s.\n",
              "    <span style=\"font-size: 0.8em; font-weight: bold; line-height: 1; border-radius: 0.35em; vertical-align: middle; margin-left: 0.5rem\">GPE</span>\n",
              "</mark>\n",
              " attorney backed by former vice president \n",
              "<mark class=\"entity\" style=\"background: #aa9cfc; padding: 0.45em 0.6em; margin: 0 0.25em; line-height: 1; border-radius: 0.35em;\">\n",
              "    joe biden\n",
              "    <span style=\"font-size: 0.8em; font-weight: bold; line-height: 1; border-radius: 0.35em; vertical-align: middle; margin-left: 0.5rem\">PERSON</span>\n",
              "</mark>\n",
              ", is projected to be the outright winner and a long shot to win the seat in the \n",
              "<mark class=\"entity\" style=\"background: #c887fb; padding: 0.45em 0.6em; margin: 0 0.25em; line-height: 1; border-radius: 0.35em;\">\n",
              "    republican\n",
              "    <span style=\"font-size: 0.8em; font-weight: bold; line-height: 1; border-radius: 0.35em; vertical-align: middle; margin-left: 0.5rem\">NORP</span>\n",
              "</mark>\n",
              "-dominated state. </div></span>"
            ]
          },
          "metadata": {}
        },
        {
          "output_type": "display_data",
          "data": {
            "text/plain": [
              "<IPython.core.display.HTML object>"
            ],
            "text/html": [
              "<span class=\"tex2jax_ignore\"><div class=\"entities\" style=\"line-height: 2.5; direction: ltr\">\n",
              "<mark class=\"entity\" style=\"background: #feca74; padding: 0.45em 0.6em; margin: 0 0.25em; line-height: 1; border-radius: 0.35em;\">\n",
              "    washington\n",
              "    <span style=\"font-size: 0.8em; font-weight: bold; line-height: 1; border-radius: 0.35em; vertical-align: middle; margin-left: 0.5rem\">GPE</span>\n",
              "</mark>\n",
              " (\n",
              "<mark class=\"entity\" style=\"background: #7aecec; padding: 0.45em 0.6em; margin: 0 0.25em; line-height: 1; border-radius: 0.35em;\">\n",
              "    reuters\n",
              "    <span style=\"font-size: 0.8em; font-weight: bold; line-height: 1; border-radius: 0.35em; vertical-align: middle; margin-left: 0.5rem\">ORG</span>\n",
              "</mark>\n",
              ") - \n",
              "<mark class=\"entity\" style=\"background: #feca74; padding: 0.45em 0.6em; margin: 0 0.25em; line-height: 1; border-radius: 0.35em;\">\n",
              "    u.s.\n",
              "    <span style=\"font-size: 0.8em; font-weight: bold; line-height: 1; border-radius: 0.35em; vertical-align: middle; margin-left: 0.5rem\">GPE</span>\n",
              "</mark>\n",
              " president \n",
              "<mark class=\"entity\" style=\"background: #aa9cfc; padding: 0.45em 0.6em; margin: 0 0.25em; line-height: 1; border-radius: 0.35em;\">\n",
              "    donald trump\n",
              "    <span style=\"font-size: 0.8em; font-weight: bold; line-height: 1; border-radius: 0.35em; vertical-align: middle; margin-left: 0.5rem\">PERSON</span>\n",
              "</mark>\n",
              " said on \n",
              "<mark class=\"entity\" style=\"background: #bfe1d9; padding: 0.45em 0.6em; margin: 0 0.25em; line-height: 1; border-radius: 0.35em;\">\n",
              "    saturday\n",
              "    <span style=\"font-size: 0.8em; font-weight: bold; line-height: 1; border-radius: 0.35em; vertical-align: middle; margin-left: 0.5rem\">DATE</span>\n",
              "</mark>\n",
              " he would release all documents related to the \n",
              "<mark class=\"entity\" style=\"background: #bfe1d9; padding: 0.45em 0.6em; margin: 0 0.25em; line-height: 1; border-radius: 0.35em;\">\n",
              "    1963\n",
              "    <span style=\"font-size: 0.8em; font-weight: bold; line-height: 1; border-radius: 0.35em; vertical-align: middle; margin-left: 0.5rem\">DATE</span>\n",
              "</mark>\n",
              " assassination of president \n",
              "<mark class=\"entity\" style=\"background: #aa9cfc; padding: 0.45em 0.6em; margin: 0 0.25em; line-height: 1; border-radius: 0.35em;\">\n",
              "    john f. kennedy\n",
              "    <span style=\"font-size: 0.8em; font-weight: bold; line-height: 1; border-radius: 0.35em; vertical-align: middle; margin-left: 0.5rem\">PERSON</span>\n",
              "</mark>\n",
              " except those with the names and addresses of people who are still alive. “after strict consultation with general \n",
              "<mark class=\"entity\" style=\"background: #aa9cfc; padding: 0.45em 0.6em; margin: 0 0.25em; line-height: 1; border-radius: 0.35em;\">\n",
              "    kelly\n",
              "    <span style=\"font-size: 0.8em; font-weight: bold; line-height: 1; border-radius: 0.35em; vertical-align: middle; margin-left: 0.5rem\">PERSON</span>\n",
              "</mark>\n",
              ", the \n",
              "<mark class=\"entity\" style=\"background: #7aecec; padding: 0.45em 0.6em; margin: 0 0.25em; line-height: 1; border-radius: 0.35em;\">\n",
              "    cia\n",
              "    <span style=\"font-size: 0.8em; font-weight: bold; line-height: 1; border-radius: 0.35em; vertical-align: middle; margin-left: 0.5rem\">ORG</span>\n",
              "</mark>\n",
              " and other agencies, i will be releasing all \n",
              "<mark class=\"entity\" style=\"background: #e4e7d2; padding: 0.45em 0.6em; margin: 0 0.25em; line-height: 1; border-radius: 0.35em;\">\n",
              "    #\n",
              "    <span style=\"font-size: 0.8em; font-weight: bold; line-height: 1; border-radius: 0.35em; vertical-align: middle; margin-left: 0.5rem\">CARDINAL</span>\n",
              "</mark>\n",
              "jfkfiles other than the names and addresses of any mentioned person who is still living,” trump wrote in a series of tweets, referring to his chief of staff \n",
              "<mark class=\"entity\" style=\"background: #aa9cfc; padding: 0.45em 0.6em; margin: 0 0.25em; line-height: 1; border-radius: 0.35em;\">\n",
              "    john kelly\n",
              "    <span style=\"font-size: 0.8em; font-weight: bold; line-height: 1; border-radius: 0.35em; vertical-align: middle; margin-left: 0.5rem\">PERSON</span>\n",
              "</mark>\n",
              ".  </div></span>"
            ]
          },
          "metadata": {}
        },
        {
          "output_type": "display_data",
          "data": {
            "text/plain": [
              "<IPython.core.display.HTML object>"
            ],
            "text/html": [
              "<span class=\"tex2jax_ignore\"><div class=\"entities\" style=\"line-height: 2.5; direction: ltr\">\n",
              "<mark class=\"entity\" style=\"background: #feca74; padding: 0.45em 0.6em; margin: 0 0.25em; line-height: 1; border-radius: 0.35em;\">\n",
              "    xiamen\n",
              "    <span style=\"font-size: 0.8em; font-weight: bold; line-height: 1; border-radius: 0.35em; vertical-align: middle; margin-left: 0.5rem\">GPE</span>\n",
              "</mark>\n",
              ", \n",
              "<mark class=\"entity\" style=\"background: #feca74; padding: 0.45em 0.6em; margin: 0 0.25em; line-height: 1; border-radius: 0.35em;\">\n",
              "    china\n",
              "    <span style=\"font-size: 0.8em; font-weight: bold; line-height: 1; border-radius: 0.35em; vertical-align: middle; margin-left: 0.5rem\">GPE</span>\n",
              "</mark>\n",
              " (\n",
              "<mark class=\"entity\" style=\"background: #7aecec; padding: 0.45em 0.6em; margin: 0 0.25em; line-height: 1; border-radius: 0.35em;\">\n",
              "    reuters\n",
              "    <span style=\"font-size: 0.8em; font-weight: bold; line-height: 1; border-radius: 0.35em; vertical-align: middle; margin-left: 0.5rem\">ORG</span>\n",
              "</mark>\n",
              ") - china will give \n",
              "<mark class=\"entity\" style=\"background: #e4e7d2; padding: 0.45em 0.6em; margin: 0 0.25em; line-height: 1; border-radius: 0.35em;\">\n",
              "    $80 million\n",
              "    <span style=\"font-size: 0.8em; font-weight: bold; line-height: 1; border-radius: 0.35em; vertical-align: middle; margin-left: 0.5rem\">MONEY</span>\n",
              "</mark>\n",
              " in funding for brics cooperation plans, \n",
              "<mark class=\"entity\" style=\"background: #c887fb; padding: 0.45em 0.6em; margin: 0 0.25em; line-height: 1; border-radius: 0.35em;\">\n",
              "    chinese\n",
              "    <span style=\"font-size: 0.8em; font-weight: bold; line-height: 1; border-radius: 0.35em; vertical-align: middle; margin-left: 0.5rem\">NORP</span>\n",
              "</mark>\n",
              " president \n",
              "<mark class=\"entity\" style=\"background: #aa9cfc; padding: 0.45em 0.6em; margin: 0 0.25em; line-height: 1; border-radius: 0.35em;\">\n",
              "    xi jinping\n",
              "    <span style=\"font-size: 0.8em; font-weight: bold; line-height: 1; border-radius: 0.35em; vertical-align: middle; margin-left: 0.5rem\">PERSON</span>\n",
              "</mark>\n",
              " said on \n",
              "<mark class=\"entity\" style=\"background: #bfe1d9; padding: 0.45em 0.6em; margin: 0 0.25em; line-height: 1; border-radius: 0.35em;\">\n",
              "    monday\n",
              "    <span style=\"font-size: 0.8em; font-weight: bold; line-height: 1; border-radius: 0.35em; vertical-align: middle; margin-left: 0.5rem\">DATE</span>\n",
              "</mark>\n",
              ", while the bloc of \n",
              "<mark class=\"entity\" style=\"background: #e4e7d2; padding: 0.45em 0.6em; margin: 0 0.25em; line-height: 1; border-radius: 0.35em;\">\n",
              "    five\n",
              "    <span style=\"font-size: 0.8em; font-weight: bold; line-height: 1; border-radius: 0.35em; vertical-align: middle; margin-left: 0.5rem\">CARDINAL</span>\n",
              "</mark>\n",
              " emerging countries pledged to oppose protectionism. xi offered \n",
              "<mark class=\"entity\" style=\"background: #e4e7d2; padding: 0.45em 0.6em; margin: 0 0.25em; line-height: 1; border-radius: 0.35em;\">\n",
              "    500 million yuan\n",
              "    <span style=\"font-size: 0.8em; font-weight: bold; line-height: 1; border-radius: 0.35em; vertical-align: middle; margin-left: 0.5rem\">MONEY</span>\n",
              "</mark>\n",
              " (\n",
              "<mark class=\"entity\" style=\"background: #e4e7d2; padding: 0.45em 0.6em; margin: 0 0.25em; line-height: 1; border-radius: 0.35em;\">\n",
              "    $76.4 million\n",
              "    <span style=\"font-size: 0.8em; font-weight: bold; line-height: 1; border-radius: 0.35em; vertical-align: middle; margin-left: 0.5rem\">MONEY</span>\n",
              "</mark>\n",
              ") for a brics economic and technology cooperation plan, and another \n",
              "<mark class=\"entity\" style=\"background: #e4e7d2; padding: 0.45em 0.6em; margin: 0 0.25em; line-height: 1; border-radius: 0.35em;\">\n",
              "    $4 million\n",
              "    <span style=\"font-size: 0.8em; font-weight: bold; line-height: 1; border-radius: 0.35em; vertical-align: middle; margin-left: 0.5rem\">MONEY</span>\n",
              "</mark>\n",
              " for projects at the group \n",
              "<mark class=\"entity\" style=\"background: #7aecec; padding: 0.45em 0.6em; margin: 0 0.25em; line-height: 1; border-radius: 0.35em;\">\n",
              "    s new development bank\n",
              "    <span style=\"font-size: 0.8em; font-weight: bold; line-height: 1; border-radius: 0.35em; vertical-align: middle; margin-left: 0.5rem\">ORG</span>\n",
              "</mark>\n",
              " (ndb) during a \n",
              "<mark class=\"entity\" style=\"background: #bfe1d9; padding: 0.45em 0.6em; margin: 0 0.25em; line-height: 1; border-radius: 0.35em;\">\n",
              "    three-day\n",
              "    <span style=\"font-size: 0.8em; font-weight: bold; line-height: 1; border-radius: 0.35em; vertical-align: middle; margin-left: 0.5rem\">DATE</span>\n",
              "</mark>\n",
              " leaders summit in the southeastern city of \n",
              "<mark class=\"entity\" style=\"background: #feca74; padding: 0.45em 0.6em; margin: 0 0.25em; line-height: 1; border-radius: 0.35em;\">\n",
              "    xiamen\n",
              "    <span style=\"font-size: 0.8em; font-weight: bold; line-height: 1; border-radius: 0.35em; vertical-align: middle; margin-left: 0.5rem\">GPE</span>\n",
              "</mark>\n",
              ".  \n",
              "<mark class=\"entity\" style=\"background: #feca74; padding: 0.45em 0.6em; margin: 0 0.25em; line-height: 1; border-radius: 0.35em;\">\n",
              "    china\n",
              "    <span style=\"font-size: 0.8em; font-weight: bold; line-height: 1; border-radius: 0.35em; vertical-align: middle; margin-left: 0.5rem\">GPE</span>\n",
              "</mark>\n",
              " s new contributions to brics pale in comparison to its \n",
              "<mark class=\"entity\" style=\"background: #e4e7d2; padding: 0.45em 0.6em; margin: 0 0.25em; line-height: 1; border-radius: 0.35em;\">\n",
              "    $124 billion\n",
              "    <span style=\"font-size: 0.8em; font-weight: bold; line-height: 1; border-radius: 0.35em; vertical-align: middle; margin-left: 0.5rem\">MONEY</span>\n",
              "</mark>\n",
              " pledge earlier in may for xi s own belt and road initiative, which aims to expand links between \n",
              "<mark class=\"entity\" style=\"background: #ff9561; padding: 0.45em 0.6em; margin: 0 0.25em; line-height: 1; border-radius: 0.35em;\">\n",
              "    asia\n",
              "    <span style=\"font-size: 0.8em; font-weight: bold; line-height: 1; border-radius: 0.35em; vertical-align: middle; margin-left: 0.5rem\">LOC</span>\n",
              "</mark>\n",
              ", \n",
              "<mark class=\"entity\" style=\"background: #ff9561; padding: 0.45em 0.6em; margin: 0 0.25em; line-height: 1; border-radius: 0.35em;\">\n",
              "    africa\n",
              "    <span style=\"font-size: 0.8em; font-weight: bold; line-height: 1; border-radius: 0.35em; vertical-align: middle; margin-left: 0.5rem\">LOC</span>\n",
              "</mark>\n",
              ", \n",
              "<mark class=\"entity\" style=\"background: #ff9561; padding: 0.45em 0.6em; margin: 0 0.25em; line-height: 1; border-radius: 0.35em;\">\n",
              "    europe\n",
              "    <span style=\"font-size: 0.8em; font-weight: bold; line-height: 1; border-radius: 0.35em; vertical-align: middle; margin-left: 0.5rem\">LOC</span>\n",
              "</mark>\n",
              " and beyond as a new way to boost global development. the announcement came amid questions over the relevance of brics and \n",
              "<mark class=\"entity\" style=\"background: #feca74; padding: 0.45em 0.6em; margin: 0 0.25em; line-height: 1; border-radius: 0.35em;\">\n",
              "    china\n",
              "    <span style=\"font-size: 0.8em; font-weight: bold; line-height: 1; border-radius: 0.35em; vertical-align: middle; margin-left: 0.5rem\">GPE</span>\n",
              "</mark>\n",
              " s commitment to the ndb in light of the belt and road initiative and the \n",
              "<mark class=\"entity\" style=\"background: #feca74; padding: 0.45em 0.6em; margin: 0 0.25em; line-height: 1; border-radius: 0.35em;\">\n",
              "    china\n",
              "    <span style=\"font-size: 0.8em; font-weight: bold; line-height: 1; border-radius: 0.35em; vertical-align: middle; margin-left: 0.5rem\">GPE</span>\n",
              "</mark>\n",
              "-led \n",
              "<mark class=\"entity\" style=\"background: #c887fb; padding: 0.45em 0.6em; margin: 0 0.25em; line-height: 1; border-radius: 0.35em;\">\n",
              "    asian\n",
              "    <span style=\"font-size: 0.8em; font-weight: bold; line-height: 1; border-radius: 0.35em; vertical-align: middle; margin-left: 0.5rem\">NORP</span>\n",
              "</mark>\n",
              " infrastructure investment bank, both key efforts by \n",
              "<mark class=\"entity\" style=\"background: #feca74; padding: 0.45em 0.6em; margin: 0 0.25em; line-height: 1; border-radius: 0.35em;\">\n",
              "    beijing\n",
              "    <span style=\"font-size: 0.8em; font-weight: bold; line-height: 1; border-radius: 0.35em; vertical-align: middle; margin-left: 0.5rem\">GPE</span>\n",
              "</mark>\n",
              " to bolster its global influence. xi said during a plenary session at the brics leaders  summit that the \n",
              "<mark class=\"entity\" style=\"background: #e4e7d2; padding: 0.45em 0.6em; margin: 0 0.25em; line-height: 1; border-radius: 0.35em;\">\n",
              "    five\n",
              "    <span style=\"font-size: 0.8em; font-weight: bold; line-height: 1; border-radius: 0.35em; vertical-align: middle; margin-left: 0.5rem\">CARDINAL</span>\n",
              "</mark>\n",
              " emerging economies - \n",
              "<mark class=\"entity\" style=\"background: #feca74; padding: 0.45em 0.6em; margin: 0 0.25em; line-height: 1; border-radius: 0.35em;\">\n",
              "    brazil\n",
              "    <span style=\"font-size: 0.8em; font-weight: bold; line-height: 1; border-radius: 0.35em; vertical-align: middle; margin-left: 0.5rem\">GPE</span>\n",
              "</mark>\n",
              ", \n",
              "<mark class=\"entity\" style=\"background: #feca74; padding: 0.45em 0.6em; margin: 0 0.25em; line-height: 1; border-radius: 0.35em;\">\n",
              "    russia\n",
              "    <span style=\"font-size: 0.8em; font-weight: bold; line-height: 1; border-radius: 0.35em; vertical-align: middle; margin-left: 0.5rem\">GPE</span>\n",
              "</mark>\n",
              ", \n",
              "<mark class=\"entity\" style=\"background: #feca74; padding: 0.45em 0.6em; margin: 0 0.25em; line-height: 1; border-radius: 0.35em;\">\n",
              "    india\n",
              "    <span style=\"font-size: 0.8em; font-weight: bold; line-height: 1; border-radius: 0.35em; vertical-align: middle; margin-left: 0.5rem\">GPE</span>\n",
              "</mark>\n",
              ", \n",
              "<mark class=\"entity\" style=\"background: #feca74; padding: 0.45em 0.6em; margin: 0 0.25em; line-height: 1; border-radius: 0.35em;\">\n",
              "    china\n",
              "    <span style=\"font-size: 0.8em; font-weight: bold; line-height: 1; border-radius: 0.35em; vertical-align: middle; margin-left: 0.5rem\">GPE</span>\n",
              "</mark>\n",
              " and \n",
              "<mark class=\"entity\" style=\"background: #feca74; padding: 0.45em 0.6em; margin: 0 0.25em; line-height: 1; border-radius: 0.35em;\">\n",
              "    south africa\n",
              "    <span style=\"font-size: 0.8em; font-weight: bold; line-height: 1; border-radius: 0.35em; vertical-align: middle; margin-left: 0.5rem\">GPE</span>\n",
              "</mark>\n",
              " - should increase cooperation in sectors such as trade and investment, monetary policy and finance, and sustainable development.  we should redouble our efforts to comprehensively deepen brics partnerships and open brics cooperation,  he said. set up in \n",
              "<mark class=\"entity\" style=\"background: #e4e7d2; padding: 0.45em 0.6em; margin: 0 0.25em; line-height: 1; border-radius: 0.35em;\">\n",
              "    20l5\n",
              "    <span style=\"font-size: 0.8em; font-weight: bold; line-height: 1; border-radius: 0.35em; vertical-align: middle; margin-left: 0.5rem\">CARDINAL</span>\n",
              "</mark>\n",
              " as an alternative to \n",
              "<mark class=\"entity\" style=\"background: #7aecec; padding: 0.45em 0.6em; margin: 0 0.25em; line-height: 1; border-radius: 0.35em;\">\n",
              "    the world bank\n",
              "    <span style=\"font-size: 0.8em; font-weight: bold; line-height: 1; border-radius: 0.35em; vertical-align: middle; margin-left: 0.5rem\">ORG</span>\n",
              "</mark>\n",
              ", the \n",
              "<mark class=\"entity\" style=\"background: #feca74; padding: 0.45em 0.6em; margin: 0 0.25em; line-height: 1; border-radius: 0.35em;\">\n",
              "    shanghai\n",
              "    <span style=\"font-size: 0.8em; font-weight: bold; line-height: 1; border-radius: 0.35em; vertical-align: middle; margin-left: 0.5rem\">GPE</span>\n",
              "</mark>\n",
              "-headquartered ndb was seen as the \n",
              "<mark class=\"entity\" style=\"background: #e4e7d2; padding: 0.45em 0.6em; margin: 0 0.25em; line-height: 1; border-radius: 0.35em;\">\n",
              "    first\n",
              "    <span style=\"font-size: 0.8em; font-weight: bold; line-height: 1; border-radius: 0.35em; vertical-align: middle; margin-left: 0.5rem\">ORDINAL</span>\n",
              "</mark>\n",
              " major brics achievement after the group came together in \n",
              "<mark class=\"entity\" style=\"background: #bfe1d9; padding: 0.45em 0.6em; margin: 0 0.25em; line-height: 1; border-radius: 0.35em;\">\n",
              "    2009\n",
              "    <span style=\"font-size: 0.8em; font-weight: bold; line-height: 1; border-radius: 0.35em; vertical-align: middle; margin-left: 0.5rem\">DATE</span>\n",
              "</mark>\n",
              " to press for a bigger say in the post-world war \n",
              "<mark class=\"entity\" style=\"background: #e4e7d2; padding: 0.45em 0.6em; margin: 0 0.25em; line-height: 1; border-radius: 0.35em;\">\n",
              "    two\n",
              "    <span style=\"font-size: 0.8em; font-weight: bold; line-height: 1; border-radius: 0.35em; vertical-align: middle; margin-left: 0.5rem\">CARDINAL</span>\n",
              "</mark>\n",
              " financial order created by western powers. the brics leaders will gather in \n",
              "<mark class=\"entity\" style=\"background: #feca74; padding: 0.45em 0.6em; margin: 0 0.25em; line-height: 1; border-radius: 0.35em;\">\n",
              "    xiamen\n",
              "    <span style=\"font-size: 0.8em; font-weight: bold; line-height: 1; border-radius: 0.35em; vertical-align: middle; margin-left: 0.5rem\">GPE</span>\n",
              "</mark>\n",
              " through \n",
              "<mark class=\"entity\" style=\"background: #bfe1d9; padding: 0.45em 0.6em; margin: 0 0.25em; line-height: 1; border-radius: 0.35em;\">\n",
              "    tuesday\n",
              "    <span style=\"font-size: 0.8em; font-weight: bold; line-height: 1; border-radius: 0.35em; vertical-align: middle; margin-left: 0.5rem\">DATE</span>\n",
              "</mark>\n",
              ", giving host \n",
              "<mark class=\"entity\" style=\"background: #feca74; padding: 0.45em 0.6em; margin: 0 0.25em; line-height: 1; border-radius: 0.35em;\">\n",
              "    china\n",
              "    <span style=\"font-size: 0.8em; font-weight: bold; line-height: 1; border-radius: 0.35em; vertical-align: middle; margin-left: 0.5rem\">GPE</span>\n",
              "</mark>\n",
              " its latest chance to position itself as a bulwark of globalization in the face of \n",
              "<mark class=\"entity\" style=\"background: #feca74; padding: 0.45em 0.6em; margin: 0 0.25em; line-height: 1; border-radius: 0.35em;\">\n",
              "    u.s.\n",
              "    <span style=\"font-size: 0.8em; font-weight: bold; line-height: 1; border-radius: 0.35em; vertical-align: middle; margin-left: 0.5rem\">GPE</span>\n",
              "</mark>\n",
              " president \n",
              "<mark class=\"entity\" style=\"background: #aa9cfc; padding: 0.45em 0.6em; margin: 0 0.25em; line-height: 1; border-radius: 0.35em;\">\n",
              "    donald trump s  \n",
              "    <span style=\"font-size: 0.8em; font-weight: bold; line-height: 1; border-radius: 0.35em; vertical-align: middle; margin-left: 0.5rem\">PERSON</span>\n",
              "</mark>\n",
              "america \n",
              "<mark class=\"entity\" style=\"background: #e4e7d2; padding: 0.45em 0.6em; margin: 0 0.25em; line-height: 1; border-radius: 0.35em;\">\n",
              "    first\n",
              "    <span style=\"font-size: 0.8em; font-weight: bold; line-height: 1; border-radius: 0.35em; vertical-align: middle; margin-left: 0.5rem\">ORDINAL</span>\n",
              "</mark>\n",
              "  agenda. a draft  xiamen declaration  seen by reuters, a formal version of which is expected to be issued later, said brics countries will continue to firmly oppose protectionism as they are committed to an  open and inclusive  multilateral trading system. the communique emphasized the need to be vigilant in guarding against  inward-looking policies  that could hurt global market confidence, and called upon all countries to fully implement the \n",
              "<mark class=\"entity\" style=\"background: #feca74; padding: 0.45em 0.6em; margin: 0 0.25em; line-height: 1; border-radius: 0.35em;\">\n",
              "    paris\n",
              "    <span style=\"font-size: 0.8em; font-weight: bold; line-height: 1; border-radius: 0.35em; vertical-align: middle; margin-left: 0.5rem\">GPE</span>\n",
              "</mark>\n",
              " climate agreement. the summit has been overshadowed by \n",
              "<mark class=\"entity\" style=\"background: #feca74; padding: 0.45em 0.6em; margin: 0 0.25em; line-height: 1; border-radius: 0.35em;\">\n",
              "    north korea\n",
              "    <span style=\"font-size: 0.8em; font-weight: bold; line-height: 1; border-radius: 0.35em; vertical-align: middle; margin-left: 0.5rem\">GPE</span>\n",
              "</mark>\n",
              " s \n",
              "<mark class=\"entity\" style=\"background: #e4e7d2; padding: 0.45em 0.6em; margin: 0 0.25em; line-height: 1; border-radius: 0.35em;\">\n",
              "    sixth\n",
              "    <span style=\"font-size: 0.8em; font-weight: bold; line-height: 1; border-radius: 0.35em; vertical-align: middle; margin-left: 0.5rem\">ORDINAL</span>\n",
              "</mark>\n",
              " and most powerful nuclear test, which came on \n",
              "<mark class=\"entity\" style=\"background: #bfe1d9; padding: 0.45em 0.6em; margin: 0 0.25em; line-height: 1; border-radius: 0.35em;\">\n",
              "    sunday just hours\n",
              "    <span style=\"font-size: 0.8em; font-weight: bold; line-height: 1; border-radius: 0.35em; vertical-align: middle; margin-left: 0.5rem\">TIME</span>\n",
              "</mark>\n",
              " before \n",
              "<mark class=\"entity\" style=\"background: #7aecec; padding: 0.45em 0.6em; margin: 0 0.25em; line-height: 1; border-radius: 0.35em;\">\n",
              "    xi\n",
              "    <span style=\"font-size: 0.8em; font-weight: bold; line-height: 1; border-radius: 0.35em; vertical-align: middle; margin-left: 0.5rem\">ORG</span>\n",
              "</mark>\n",
              " opened the meeting with a keynote speech, and prompted a vow of a  massive  military response from \n",
              "<mark class=\"entity\" style=\"background: #feca74; padding: 0.45em 0.6em; margin: 0 0.25em; line-height: 1; border-radius: 0.35em;\">\n",
              "    the united states\n",
              "    <span style=\"font-size: 0.8em; font-weight: bold; line-height: 1; border-radius: 0.35em; vertical-align: middle; margin-left: 0.5rem\">GPE</span>\n",
              "</mark>\n",
              " if it or its allies were threatened. though \n",
              "<mark class=\"entity\" style=\"background: #feca74; padding: 0.45em 0.6em; margin: 0 0.25em; line-height: 1; border-radius: 0.35em;\">\n",
              "    china\n",
              "    <span style=\"font-size: 0.8em; font-weight: bold; line-height: 1; border-radius: 0.35em; vertical-align: middle; margin-left: 0.5rem\">GPE</span>\n",
              "</mark>\n",
              " s foreign ministry has condemned the test, xi did not mention \n",
              "<mark class=\"entity\" style=\"background: #feca74; padding: 0.45em 0.6em; margin: 0 0.25em; line-height: 1; border-radius: 0.35em;\">\n",
              "    north korea\n",
              "    <span style=\"font-size: 0.8em; font-weight: bold; line-height: 1; border-radius: 0.35em; vertical-align: middle; margin-left: 0.5rem\">GPE</span>\n",
              "</mark>\n",
              " during that \n",
              "<mark class=\"entity\" style=\"background: #bfe1d9; padding: 0.45em 0.6em; margin: 0 0.25em; line-height: 1; border-radius: 0.35em;\">\n",
              "    45-minute\n",
              "    <span style=\"font-size: 0.8em; font-weight: bold; line-height: 1; border-radius: 0.35em; vertical-align: middle; margin-left: 0.5rem\">TIME</span>\n",
              "</mark>\n",
              " address or in  his televised remarks during \n",
              "<mark class=\"entity\" style=\"background: #bfe1d9; padding: 0.45em 0.6em; margin: 0 0.25em; line-height: 1; border-radius: 0.35em;\">\n",
              "    monday\n",
              "    <span style=\"font-size: 0.8em; font-weight: bold; line-height: 1; border-radius: 0.35em; vertical-align: middle; margin-left: 0.5rem\">DATE</span>\n",
              "</mark>\n",
              " s plenary session. the brics grouping said in its draft communique that it strongly deplored pyongyang s test, but that the problem over its nuclear program should only be settled through peaceful means and dialogue.  we express deep concern over the ongoing tension and prolonged nuclear issue on the \n",
              "<mark class=\"entity\" style=\"background: #c887fb; padding: 0.45em 0.6em; margin: 0 0.25em; line-height: 1; border-radius: 0.35em;\">\n",
              "    korean\n",
              "    <span style=\"font-size: 0.8em; font-weight: bold; line-height: 1; border-radius: 0.35em; vertical-align: middle; margin-left: 0.5rem\">NORP</span>\n",
              "</mark>\n",
              " peninsula,  it said. \n",
              "<mark class=\"entity\" style=\"background: #feca74; padding: 0.45em 0.6em; margin: 0 0.25em; line-height: 1; border-radius: 0.35em;\">\n",
              "    north korea\n",
              "    <span style=\"font-size: 0.8em; font-weight: bold; line-height: 1; border-radius: 0.35em; vertical-align: middle; margin-left: 0.5rem\">GPE</span>\n",
              "</mark>\n",
              " tested \n",
              "<mark class=\"entity\" style=\"background: #e4e7d2; padding: 0.45em 0.6em; margin: 0 0.25em; line-height: 1; border-radius: 0.35em;\">\n",
              "    two\n",
              "    <span style=\"font-size: 0.8em; font-weight: bold; line-height: 1; border-radius: 0.35em; vertical-align: middle; margin-left: 0.5rem\">CARDINAL</span>\n",
              "</mark>\n",
              " icbms in \n",
              "<mark class=\"entity\" style=\"background: #bfe1d9; padding: 0.45em 0.6em; margin: 0 0.25em; line-height: 1; border-radius: 0.35em;\">\n",
              "    july\n",
              "    <span style=\"font-size: 0.8em; font-weight: bold; line-height: 1; border-radius: 0.35em; vertical-align: middle; margin-left: 0.5rem\">DATE</span>\n",
              "</mark>\n",
              " that could fly \n",
              "<mark class=\"entity\" style=\"background: #e4e7d2; padding: 0.45em 0.6em; margin: 0 0.25em; line-height: 1; border-radius: 0.35em;\">\n",
              "    about 10,000 km\n",
              "    <span style=\"font-size: 0.8em; font-weight: bold; line-height: 1; border-radius: 0.35em; vertical-align: middle; margin-left: 0.5rem\">QUANTITY</span>\n",
              "</mark>\n",
              " (\n",
              "<mark class=\"entity\" style=\"background: #e4e7d2; padding: 0.45em 0.6em; margin: 0 0.25em; line-height: 1; border-radius: 0.35em;\">\n",
              "    6,200 miles\n",
              "    <span style=\"font-size: 0.8em; font-weight: bold; line-height: 1; border-radius: 0.35em; vertical-align: middle; margin-left: 0.5rem\">QUANTITY</span>\n",
              "</mark>\n",
              "), putting many parts of the \n",
              "<mark class=\"entity\" style=\"background: #feca74; padding: 0.45em 0.6em; margin: 0 0.25em; line-height: 1; border-radius: 0.35em;\">\n",
              "    u.s.\n",
              "    <span style=\"font-size: 0.8em; font-weight: bold; line-height: 1; border-radius: 0.35em; vertical-align: middle; margin-left: 0.5rem\">GPE</span>\n",
              "</mark>\n",
              " mainland within range and prompting a new round of tough international sanctions. though angered over the tests, \n",
              "<mark class=\"entity\" style=\"background: #feca74; padding: 0.45em 0.6em; margin: 0 0.25em; line-height: 1; border-radius: 0.35em;\">\n",
              "    china\n",
              "    <span style=\"font-size: 0.8em; font-weight: bold; line-height: 1; border-radius: 0.35em; vertical-align: middle; margin-left: 0.5rem\">GPE</span>\n",
              "</mark>\n",
              " - \n",
              "<mark class=\"entity\" style=\"background: #feca74; padding: 0.45em 0.6em; margin: 0 0.25em; line-height: 1; border-radius: 0.35em;\">\n",
              "    north korea\n",
              "    <span style=\"font-size: 0.8em; font-weight: bold; line-height: 1; border-radius: 0.35em; vertical-align: middle; margin-left: 0.5rem\">GPE</span>\n",
              "</mark>\n",
              " s closest ally - has lambasted the west and its allies over \n",
              "<mark class=\"entity\" style=\"background: #bfe1d9; padding: 0.45em 0.6em; margin: 0 0.25em; line-height: 1; border-radius: 0.35em;\">\n",
              "    recent weeks\n",
              "    <span style=\"font-size: 0.8em; font-weight: bold; line-height: 1; border-radius: 0.35em; vertical-align: middle; margin-left: 0.5rem\">DATE</span>\n",
              "</mark>\n",
              " for promoting the  \n",
              "<mark class=\"entity\" style=\"background: #feca74; padding: 0.45em 0.6em; margin: 0 0.25em; line-height: 1; border-radius: 0.35em;\">\n",
              "    china\n",
              "    <span style=\"font-size: 0.8em; font-weight: bold; line-height: 1; border-radius: 0.35em; vertical-align: middle; margin-left: 0.5rem\">GPE</span>\n",
              "</mark>\n",
              " responsibility theory  for \n",
              "<mark class=\"entity\" style=\"background: #feca74; padding: 0.45em 0.6em; margin: 0 0.25em; line-height: 1; border-radius: 0.35em;\">\n",
              "    north korea\n",
              "    <span style=\"font-size: 0.8em; font-weight: bold; line-height: 1; border-radius: 0.35em; vertical-align: middle; margin-left: 0.5rem\">GPE</span>\n",
              "</mark>\n",
              ". the \n",
              "<mark class=\"entity\" style=\"background: #7aecec; padding: 0.45em 0.6em; margin: 0 0.25em; line-height: 1; border-radius: 0.35em;\">\n",
              "    u.n. security council\n",
              "    <span style=\"font-size: 0.8em; font-weight: bold; line-height: 1; border-radius: 0.35em; vertical-align: middle; margin-left: 0.5rem\">ORG</span>\n",
              "</mark>\n",
              " was set to meet later on \n",
              "<mark class=\"entity\" style=\"background: #bfe1d9; padding: 0.45em 0.6em; margin: 0 0.25em; line-height: 1; border-radius: 0.35em;\">\n",
              "    monday\n",
              "    <span style=\"font-size: 0.8em; font-weight: bold; line-height: 1; border-radius: 0.35em; vertical-align: middle; margin-left: 0.5rem\">DATE</span>\n",
              "</mark>\n",
              " to discuss new sanctions against the isolated regime.  \n",
              "<mark class=\"entity\" style=\"background: #aa9cfc; padding: 0.45em 0.6em; margin: 0 0.25em; line-height: 1; border-radius: 0.35em;\">\n",
              "    chen\n",
              "    <span style=\"font-size: 0.8em; font-weight: bold; line-height: 1; border-radius: 0.35em; vertical-align: middle; margin-left: 0.5rem\">PERSON</span>\n",
              "</mark>\n",
              " fengying, an economics expert at the state-backed \n",
              "<mark class=\"entity\" style=\"background: #feca74; padding: 0.45em 0.6em; margin: 0 0.25em; line-height: 1; border-radius: 0.35em;\">\n",
              "    china\n",
              "    <span style=\"font-size: 0.8em; font-weight: bold; line-height: 1; border-radius: 0.35em; vertical-align: middle; margin-left: 0.5rem\">GPE</span>\n",
              "</mark>\n",
              " institutes of contemporary international relations, said on the sidelines of the brics meeting that at the most brics countries will take note of the \n",
              "<mark class=\"entity\" style=\"background: #c887fb; padding: 0.45em 0.6em; margin: 0 0.25em; line-height: 1; border-radius: 0.35em;\">\n",
              "    north korean\n",
              "    <span style=\"font-size: 0.8em; font-weight: bold; line-height: 1; border-radius: 0.35em; vertical-align: middle; margin-left: 0.5rem\">NORP</span>\n",
              "</mark>\n",
              " problem.   intervention is rather difficult. our cooperation is mainly on global governance,  she said. </div></span>"
            ]
          },
          "metadata": {}
        },
        {
          "output_type": "display_data",
          "data": {
            "text/plain": [
              "<IPython.core.display.HTML object>"
            ],
            "text/html": [
              "<span class=\"tex2jax_ignore\"><div class=\"entities\" style=\"line-height: 2.5; direction: ltr\">\n",
              "<mark class=\"entity\" style=\"background: #7aecec; padding: 0.45em 0.6em; margin: 0 0.25em; line-height: 1; border-radius: 0.35em;\">\n",
              "    erbil\n",
              "    <span style=\"font-size: 0.8em; font-weight: bold; line-height: 1; border-radius: 0.35em; vertical-align: middle; margin-left: 0.5rem\">ORG</span>\n",
              "</mark>\n",
              ", \n",
              "<mark class=\"entity\" style=\"background: #feca74; padding: 0.45em 0.6em; margin: 0 0.25em; line-height: 1; border-radius: 0.35em;\">\n",
              "    iraq\n",
              "    <span style=\"font-size: 0.8em; font-weight: bold; line-height: 1; border-radius: 0.35em; vertical-align: middle; margin-left: 0.5rem\">GPE</span>\n",
              "</mark>\n",
              " (\n",
              "<mark class=\"entity\" style=\"background: #7aecec; padding: 0.45em 0.6em; margin: 0 0.25em; line-height: 1; border-radius: 0.35em;\">\n",
              "    reuters\n",
              "    <span style=\"font-size: 0.8em; font-weight: bold; line-height: 1; border-radius: 0.35em; vertical-align: middle; margin-left: 0.5rem\">ORG</span>\n",
              "</mark>\n",
              ") - \n",
              "<mark class=\"entity\" style=\"background: #feca74; padding: 0.45em 0.6em; margin: 0 0.25em; line-height: 1; border-radius: 0.35em;\">\n",
              "    iraq\n",
              "    <span style=\"font-size: 0.8em; font-weight: bold; line-height: 1; border-radius: 0.35em; vertical-align: middle; margin-left: 0.5rem\">GPE</span>\n",
              "</mark>\n",
              " s autonomous \n",
              "<mark class=\"entity\" style=\"background: #feca74; padding: 0.45em 0.6em; margin: 0 0.25em; line-height: 1; border-radius: 0.35em;\">\n",
              "    kurdistan\n",
              "    <span style=\"font-size: 0.8em; font-weight: bold; line-height: 1; border-radius: 0.35em; vertical-align: middle; margin-left: 0.5rem\">GPE</span>\n",
              "</mark>\n",
              " region announced on \n",
              "<mark class=\"entity\" style=\"background: #bfe1d9; padding: 0.45em 0.6em; margin: 0 0.25em; line-height: 1; border-radius: 0.35em;\">\n",
              "    tuesday\n",
              "    <span style=\"font-size: 0.8em; font-weight: bold; line-height: 1; border-radius: 0.35em; vertical-align: middle; margin-left: 0.5rem\">DATE</span>\n",
              "</mark>\n",
              " it was calling presidential and parliamentary elections for \n",
              "<mark class=\"entity\" style=\"background: #bfe1d9; padding: 0.45em 0.6em; margin: 0 0.25em; line-height: 1; border-radius: 0.35em;\">\n",
              "    nov. 1\n",
              "    <span style=\"font-size: 0.8em; font-weight: bold; line-height: 1; border-radius: 0.35em; vertical-align: middle; margin-left: 0.5rem\">DATE</span>\n",
              "</mark>\n",
              " as the \n",
              "<mark class=\"entity\" style=\"background: #c887fb; padding: 0.45em 0.6em; margin: 0 0.25em; line-height: 1; border-radius: 0.35em;\">\n",
              "    kurdish\n",
              "    <span style=\"font-size: 0.8em; font-weight: bold; line-height: 1; border-radius: 0.35em; vertical-align: middle; margin-left: 0.5rem\">NORP</span>\n",
              "</mark>\n",
              " leadership moved to capitalize on a referendum that delivered huge support for independence. the central government in \n",
              "<mark class=\"entity\" style=\"background: #feca74; padding: 0.45em 0.6em; margin: 0 0.25em; line-height: 1; border-radius: 0.35em;\">\n",
              "    baghdad\n",
              "    <span style=\"font-size: 0.8em; font-weight: bold; line-height: 1; border-radius: 0.35em; vertical-align: middle; margin-left: 0.5rem\">GPE</span>\n",
              "</mark>\n",
              " imposed further punitive measures in retaliation for the independence vote \n",
              "<mark class=\"entity\" style=\"background: #bfe1d9; padding: 0.45em 0.6em; margin: 0 0.25em; line-height: 1; border-radius: 0.35em;\">\n",
              "    last month\n",
              "    <span style=\"font-size: 0.8em; font-weight: bold; line-height: 1; border-radius: 0.35em; vertical-align: middle; margin-left: 0.5rem\">DATE</span>\n",
              "</mark>\n",
              " by slapping sanctions on \n",
              "<mark class=\"entity\" style=\"background: #c887fb; padding: 0.45em 0.6em; margin: 0 0.25em; line-height: 1; border-radius: 0.35em;\">\n",
              "    kurdish\n",
              "    <span style=\"font-size: 0.8em; font-weight: bold; line-height: 1; border-radius: 0.35em; vertical-align: middle; margin-left: 0.5rem\">NORP</span>\n",
              "</mark>\n",
              " banks and halting foreign currency transfers to the \n",
              "<mark class=\"entity\" style=\"background: #c887fb; padding: 0.45em 0.6em; margin: 0 0.25em; line-height: 1; border-radius: 0.35em;\">\n",
              "    kurdish\n",
              "    <span style=\"font-size: 0.8em; font-weight: bold; line-height: 1; border-radius: 0.35em; vertical-align: middle; margin-left: 0.5rem\">NORP</span>\n",
              "</mark>\n",
              " region.  the referendum in the country s \n",
              "<mark class=\"entity\" style=\"background: #c887fb; padding: 0.45em 0.6em; margin: 0 0.25em; line-height: 1; border-radius: 0.35em;\">\n",
              "    kurdish\n",
              "    <span style=\"font-size: 0.8em; font-weight: bold; line-height: 1; border-radius: 0.35em; vertical-align: middle; margin-left: 0.5rem\">NORP</span>\n",
              "</mark>\n",
              "-held northern regions raised fears in \n",
              "<mark class=\"entity\" style=\"background: #feca74; padding: 0.45em 0.6em; margin: 0 0.25em; line-height: 1; border-radius: 0.35em;\">\n",
              "    iraq\n",
              "    <span style=\"font-size: 0.8em; font-weight: bold; line-height: 1; border-radius: 0.35em; vertical-align: middle; margin-left: 0.5rem\">GPE</span>\n",
              "</mark>\n",
              " and abroad of ethnic strains and a weakening of a u.s.-backed campaign against \n",
              "<mark class=\"entity\" style=\"background: #c887fb; padding: 0.45em 0.6em; margin: 0 0.25em; line-height: 1; border-radius: 0.35em;\">\n",
              "    islamic\n",
              "    <span style=\"font-size: 0.8em; font-weight: bold; line-height: 1; border-radius: 0.35em; vertical-align: middle; margin-left: 0.5rem\">NORP</span>\n",
              "</mark>\n",
              " state. the elections would be calculated to reinforce the legitimacy of the \n",
              "<mark class=\"entity\" style=\"background: #c887fb; padding: 0.45em 0.6em; margin: 0 0.25em; line-height: 1; border-radius: 0.35em;\">\n",
              "    kurdish\n",
              "    <span style=\"font-size: 0.8em; font-weight: bold; line-height: 1; border-radius: 0.35em; vertical-align: middle; margin-left: 0.5rem\">NORP</span>\n",
              "</mark>\n",
              " leadership before a drive for outright independence and any negotiations that might involve. \n",
              "<mark class=\"entity\" style=\"background: #c887fb; padding: 0.45em 0.6em; margin: 0 0.25em; line-height: 1; border-radius: 0.35em;\">\n",
              "    turkish\n",
              "    <span style=\"font-size: 0.8em; font-weight: bold; line-height: 1; border-radius: 0.35em; vertical-align: middle; margin-left: 0.5rem\">NORP</span>\n",
              "</mark>\n",
              " president \n",
              "<mark class=\"entity\" style=\"background: #aa9cfc; padding: 0.45em 0.6em; margin: 0 0.25em; line-height: 1; border-radius: 0.35em;\">\n",
              "    tayyip erdogan\n",
              "    <span style=\"font-size: 0.8em; font-weight: bold; line-height: 1; border-radius: 0.35em; vertical-align: middle; margin-left: 0.5rem\">PERSON</span>\n",
              "</mark>\n",
              " said on \n",
              "<mark class=\"entity\" style=\"background: #bfe1d9; padding: 0.45em 0.6em; margin: 0 0.25em; line-height: 1; border-radius: 0.35em;\">\n",
              "    tuesday\n",
              "    <span style=\"font-size: 0.8em; font-weight: bold; line-height: 1; border-radius: 0.35em; vertical-align: middle; margin-left: 0.5rem\">DATE</span>\n",
              "</mark>\n",
              " that his country would impose further sanctions on northern \n",
              "<mark class=\"entity\" style=\"background: #feca74; padding: 0.45em 0.6em; margin: 0 0.25em; line-height: 1; border-radius: 0.35em;\">\n",
              "    iraq\n",
              "    <span style=\"font-size: 0.8em; font-weight: bold; line-height: 1; border-radius: 0.35em; vertical-align: middle; margin-left: 0.5rem\">GPE</span>\n",
              "</mark>\n",
              " over the referendum. powerful neighbors ankara and tehran fear it could fuel \n",
              "<mark class=\"entity\" style=\"background: #c887fb; padding: 0.45em 0.6em; margin: 0 0.25em; line-height: 1; border-radius: 0.35em;\">\n",
              "    kurdish\n",
              "    <span style=\"font-size: 0.8em; font-weight: bold; line-height: 1; border-radius: 0.35em; vertical-align: middle; margin-left: 0.5rem\">NORP</span>\n",
              "</mark>\n",
              " separatism within their own borders. the kurdistan regional government (krg) has not declared independence. the \n",
              "<mark class=\"entity\" style=\"background: #bfe1d9; padding: 0.45em 0.6em; margin: 0 0.25em; line-height: 1; border-radius: 0.35em;\">\n",
              "    november\n",
              "    <span style=\"font-size: 0.8em; font-weight: bold; line-height: 1; border-radius: 0.35em; vertical-align: middle; margin-left: 0.5rem\">DATE</span>\n",
              "</mark>\n",
              " polls are for the parliament and presidency of the region, not for an independent state. \n",
              "<mark class=\"entity\" style=\"background: #feca74; padding: 0.45em 0.6em; margin: 0 0.25em; line-height: 1; border-radius: 0.35em;\">\n",
              "    baghdad\n",
              "    <span style=\"font-size: 0.8em; font-weight: bold; line-height: 1; border-radius: 0.35em; vertical-align: middle; margin-left: 0.5rem\">GPE</span>\n",
              "</mark>\n",
              " retaliated against the referendum with an international flights ban on \n",
              "<mark class=\"entity\" style=\"background: #c887fb; padding: 0.45em 0.6em; margin: 0 0.25em; line-height: 1; border-radius: 0.35em;\">\n",
              "    kurdish\n",
              "    <span style=\"font-size: 0.8em; font-weight: bold; line-height: 1; border-radius: 0.35em; vertical-align: middle; margin-left: 0.5rem\">NORP</span>\n",
              "</mark>\n",
              " airports, while \n",
              "<mark class=\"entity\" style=\"background: #feca74; padding: 0.45em 0.6em; margin: 0 0.25em; line-height: 1; border-radius: 0.35em;\">\n",
              "    iran\n",
              "    <span style=\"font-size: 0.8em; font-weight: bold; line-height: 1; border-radius: 0.35em; vertical-align: middle; margin-left: 0.5rem\">GPE</span>\n",
              "</mark>\n",
              " and \n",
              "<mark class=\"entity\" style=\"background: #feca74; padding: 0.45em 0.6em; margin: 0 0.25em; line-height: 1; border-radius: 0.35em;\">\n",
              "    turkey\n",
              "    <span style=\"font-size: 0.8em; font-weight: bold; line-height: 1; border-radius: 0.35em; vertical-align: middle; margin-left: 0.5rem\">GPE</span>\n",
              "</mark>\n",
              " launched joint military exercises with \n",
              "<mark class=\"entity\" style=\"background: #c887fb; padding: 0.45em 0.6em; margin: 0 0.25em; line-height: 1; border-radius: 0.35em;\">\n",
              "    iraqi\n",
              "    <span style=\"font-size: 0.8em; font-weight: bold; line-height: 1; border-radius: 0.35em; vertical-align: middle; margin-left: 0.5rem\">NORP</span>\n",
              "</mark>\n",
              " troops at their borders with \n",
              "<mark class=\"entity\" style=\"background: #c887fb; padding: 0.45em 0.6em; margin: 0 0.25em; line-height: 1; border-radius: 0.35em;\">\n",
              "    iraqi\n",
              "    <span style=\"font-size: 0.8em; font-weight: bold; line-height: 1; border-radius: 0.35em; vertical-align: middle; margin-left: 0.5rem\">NORP</span>\n",
              "</mark>\n",
              " \n",
              "<mark class=\"entity\" style=\"background: #feca74; padding: 0.45em 0.6em; margin: 0 0.25em; line-height: 1; border-radius: 0.35em;\">\n",
              "    kurdistan\n",
              "    <span style=\"font-size: 0.8em; font-weight: bold; line-height: 1; border-radius: 0.35em; vertical-align: middle; margin-left: 0.5rem\">GPE</span>\n",
              "</mark>\n",
              ". the shi ite \n",
              "<mark class=\"entity\" style=\"background: #c887fb; padding: 0.45em 0.6em; margin: 0 0.25em; line-height: 1; border-radius: 0.35em;\">\n",
              "    arab\n",
              "    <span style=\"font-size: 0.8em; font-weight: bold; line-height: 1; border-radius: 0.35em; vertical-align: middle; margin-left: 0.5rem\">NORP</span>\n",
              "</mark>\n",
              "-led \n",
              "<mark class=\"entity\" style=\"background: #c887fb; padding: 0.45em 0.6em; margin: 0 0.25em; line-height: 1; border-radius: 0.35em;\">\n",
              "    iraqi\n",
              "    <span style=\"font-size: 0.8em; font-weight: bold; line-height: 1; border-radius: 0.35em; vertical-align: middle; margin-left: 0.5rem\">NORP</span>\n",
              "</mark>\n",
              " government has rejected a krg offer to discuss independence. it demanded \n",
              "<mark class=\"entity\" style=\"background: #c887fb; padding: 0.45em 0.6em; margin: 0 0.25em; line-height: 1; border-radius: 0.35em;\">\n",
              "    kurdish\n",
              "    <span style=\"font-size: 0.8em; font-weight: bold; line-height: 1; border-radius: 0.35em; vertical-align: middle; margin-left: 0.5rem\">NORP</span>\n",
              "</mark>\n",
              " leaders cancel the result of the referendum or face continued sanctions, international isolation and possible military intervention. on \n",
              "<mark class=\"entity\" style=\"background: #bfe1d9; padding: 0.45em 0.6em; margin: 0 0.25em; line-height: 1; border-radius: 0.35em;\">\n",
              "    tuesday\n",
              "    <span style=\"font-size: 0.8em; font-weight: bold; line-height: 1; border-radius: 0.35em; vertical-align: middle; margin-left: 0.5rem\">DATE</span>\n",
              "</mark>\n",
              ", \n",
              "<mark class=\"entity\" style=\"background: #feca74; padding: 0.45em 0.6em; margin: 0 0.25em; line-height: 1; border-radius: 0.35em;\">\n",
              "    iraq\n",
              "    <span style=\"font-size: 0.8em; font-weight: bold; line-height: 1; border-radius: 0.35em; vertical-align: middle; margin-left: 0.5rem\">GPE</span>\n",
              "</mark>\n",
              " s central bank told the krg that it would no longer sell dollars to \n",
              "<mark class=\"entity\" style=\"background: #e4e7d2; padding: 0.45em 0.6em; margin: 0 0.25em; line-height: 1; border-radius: 0.35em;\">\n",
              "    four\n",
              "    <span style=\"font-size: 0.8em; font-weight: bold; line-height: 1; border-radius: 0.35em; vertical-align: middle; margin-left: 0.5rem\">CARDINAL</span>\n",
              "</mark>\n",
              " leading \n",
              "<mark class=\"entity\" style=\"background: #c887fb; padding: 0.45em 0.6em; margin: 0 0.25em; line-height: 1; border-radius: 0.35em;\">\n",
              "    kurdish\n",
              "    <span style=\"font-size: 0.8em; font-weight: bold; line-height: 1; border-radius: 0.35em; vertical-align: middle; margin-left: 0.5rem\">NORP</span>\n",
              "</mark>\n",
              " banks and would stop all foreign currency transfers to the region, banking and government sources told \n",
              "<mark class=\"entity\" style=\"background: #7aecec; padding: 0.45em 0.6em; margin: 0 0.25em; line-height: 1; border-radius: 0.35em;\">\n",
              "    reuters\n",
              "    <span style=\"font-size: 0.8em; font-weight: bold; line-height: 1; border-radius: 0.35em; vertical-align: middle; margin-left: 0.5rem\">ORG</span>\n",
              "</mark>\n",
              ". businesses in need of foreign currency and foreign workers, whose salaries are usually paid in dollars, will be hardest hit by the measure. the \n",
              "<mark class=\"entity\" style=\"background: #c887fb; padding: 0.45em 0.6em; margin: 0 0.25em; line-height: 1; border-radius: 0.35em;\">\n",
              "    iraqi\n",
              "    <span style=\"font-size: 0.8em; font-weight: bold; line-height: 1; border-radius: 0.35em; vertical-align: middle; margin-left: 0.5rem\">NORP</span>\n",
              "</mark>\n",
              " dinar is not accepted outside the country.  in a further attempt to assert \n",
              "<mark class=\"entity\" style=\"background: #feca74; padding: 0.45em 0.6em; margin: 0 0.25em; line-height: 1; border-radius: 0.35em;\">\n",
              "    baghdad\n",
              "    <span style=\"font-size: 0.8em; font-weight: bold; line-height: 1; border-radius: 0.35em; vertical-align: middle; margin-left: 0.5rem\">GPE</span>\n",
              "</mark>\n",
              " s authority, \n",
              "<mark class=\"entity\" style=\"background: #c887fb; padding: 0.45em 0.6em; margin: 0 0.25em; line-height: 1; border-radius: 0.35em;\">\n",
              "    iraqi\n",
              "    <span style=\"font-size: 0.8em; font-weight: bold; line-height: 1; border-radius: 0.35em; vertical-align: middle; margin-left: 0.5rem\">NORP</span>\n",
              "</mark>\n",
              " prime minister \n",
              "<mark class=\"entity\" style=\"background: #aa9cfc; padding: 0.45em 0.6em; margin: 0 0.25em; line-height: 1; border-radius: 0.35em;\">\n",
              "    haider al-abadi\n",
              "    <span style=\"font-size: 0.8em; font-weight: bold; line-height: 1; border-radius: 0.35em; vertical-align: middle; margin-left: 0.5rem\">PERSON</span>\n",
              "</mark>\n",
              " called for a  joint administration  in the multi-ethnic northern city of kirkuk and other areas claimed by his both his government and the krg, provided that \n",
              "<mark class=\"entity\" style=\"background: #feca74; padding: 0.45em 0.6em; margin: 0 0.25em; line-height: 1; border-radius: 0.35em;\">\n",
              "    baghdad\n",
              "    <span style=\"font-size: 0.8em; font-weight: bold; line-height: 1; border-radius: 0.35em; vertical-align: middle; margin-left: 0.5rem\">GPE</span>\n",
              "</mark>\n",
              " held the top role in such an arrangement.         earlier, the federal parliament in \n",
              "<mark class=\"entity\" style=\"background: #feca74; padding: 0.45em 0.6em; margin: 0 0.25em; line-height: 1; border-radius: 0.35em;\">\n",
              "    baghdad\n",
              "    <span style=\"font-size: 0.8em; font-weight: bold; line-height: 1; border-radius: 0.35em; vertical-align: middle; margin-left: 0.5rem\">GPE</span>\n",
              "</mark>\n",
              " raised the threat of excluding \n",
              "<mark class=\"entity\" style=\"background: #c887fb; padding: 0.45em 0.6em; margin: 0 0.25em; line-height: 1; border-radius: 0.35em;\">\n",
              "    kurdish\n",
              "    <span style=\"font-size: 0.8em; font-weight: bold; line-height: 1; border-radius: 0.35em; vertical-align: middle; margin-left: 0.5rem\">NORP</span>\n",
              "</mark>\n",
              " members who took part in the referendum, on the basis that it was unconstitutional.  the parliament decided to collect the names of those who voted in the referendum as a step towards their impeachment by the higher federal court, speaker \n",
              "<mark class=\"entity\" style=\"background: #aa9cfc; padding: 0.45em 0.6em; margin: 0 0.25em; line-height: 1; border-radius: 0.35em;\">\n",
              "    salim al-jabouri\n",
              "    <span style=\"font-size: 0.8em; font-weight: bold; line-height: 1; border-radius: 0.35em; vertical-align: middle; margin-left: 0.5rem\">PERSON</span>\n",
              "</mark>\n",
              " told a news conference after the session, boycotted by most \n",
              "<mark class=\"entity\" style=\"background: #c887fb; padding: 0.45em 0.6em; margin: 0 0.25em; line-height: 1; border-radius: 0.35em;\">\n",
              "    kurdish\n",
              "    <span style=\"font-size: 0.8em; font-weight: bold; line-height: 1; border-radius: 0.35em; vertical-align: middle; margin-left: 0.5rem\">NORP</span>\n",
              "</mark>\n",
              " mps. \n",
              "<mark class=\"entity\" style=\"background: #7aecec; padding: 0.45em 0.6em; margin: 0 0.25em; line-height: 1; border-radius: 0.35em;\">\n",
              "    jabouri\n",
              "    <span style=\"font-size: 0.8em; font-weight: bold; line-height: 1; border-radius: 0.35em; vertical-align: middle; margin-left: 0.5rem\">ORG</span>\n",
              "</mark>\n",
              " said he was willing to open a dialogue with the krg to resolve disputes but ruled out talks on independence. \n",
              "<mark class=\"entity\" style=\"background: #aa9cfc; padding: 0.45em 0.6em; margin: 0 0.25em; line-height: 1; border-radius: 0.35em;\">\n",
              "    masoud barzani\n",
              "    <span style=\"font-size: 0.8em; font-weight: bold; line-height: 1; border-radius: 0.35em; vertical-align: middle; margin-left: 0.5rem\">PERSON</span>\n",
              "</mark>\n",
              ", the heir of a dynasty which has led a \n",
              "<mark class=\"entity\" style=\"background: #c887fb; padding: 0.45em 0.6em; margin: 0 0.25em; line-height: 1; border-radius: 0.35em;\">\n",
              "    kurdish\n",
              "    <span style=\"font-size: 0.8em; font-weight: bold; line-height: 1; border-radius: 0.35em; vertical-align: middle; margin-left: 0.5rem\">NORP</span>\n",
              "</mark>\n",
              " struggle for independence for \n",
              "<mark class=\"entity\" style=\"background: #bfe1d9; padding: 0.45em 0.6em; margin: 0 0.25em; line-height: 1; border-radius: 0.35em;\">\n",
              "    over a century\n",
              "    <span style=\"font-size: 0.8em; font-weight: bold; line-height: 1; border-radius: 0.35em; vertical-align: middle; margin-left: 0.5rem\">DATE</span>\n",
              "</mark>\n",
              ", has held the krg presidency since its establishment in \n",
              "<mark class=\"entity\" style=\"background: #bfe1d9; padding: 0.45em 0.6em; margin: 0 0.25em; line-height: 1; border-radius: 0.35em;\">\n",
              "    2005\n",
              "    <span style=\"font-size: 0.8em; font-weight: bold; line-height: 1; border-radius: 0.35em; vertical-align: middle; margin-left: 0.5rem\">DATE</span>\n",
              "</mark>\n",
              ", \n",
              "<mark class=\"entity\" style=\"background: #bfe1d9; padding: 0.45em 0.6em; margin: 0 0.25em; line-height: 1; border-radius: 0.35em;\">\n",
              "    two years\n",
              "    <span style=\"font-size: 0.8em; font-weight: bold; line-height: 1; border-radius: 0.35em; vertical-align: middle; margin-left: 0.5rem\">DATE</span>\n",
              "</mark>\n",
              " after a u.s.-led invasion toppled \n",
              "<mark class=\"entity\" style=\"background: #c887fb; padding: 0.45em 0.6em; margin: 0 0.25em; line-height: 1; border-radius: 0.35em;\">\n",
              "    iraqi\n",
              "    <span style=\"font-size: 0.8em; font-weight: bold; line-height: 1; border-radius: 0.35em; vertical-align: middle; margin-left: 0.5rem\">NORP</span>\n",
              "</mark>\n",
              " dictator \n",
              "<mark class=\"entity\" style=\"background: #aa9cfc; padding: 0.45em 0.6em; margin: 0 0.25em; line-height: 1; border-radius: 0.35em;\">\n",
              "    saddam hussein\n",
              "    <span style=\"font-size: 0.8em; font-weight: bold; line-height: 1; border-radius: 0.35em; vertical-align: middle; margin-left: 0.5rem\">PERSON</span>\n",
              "</mark>\n",
              ".  \n",
              "<mark class=\"entity\" style=\"background: #aa9cfc; padding: 0.45em 0.6em; margin: 0 0.25em; line-height: 1; border-radius: 0.35em;\">\n",
              "    barzani s\n",
              "    <span style=\"font-size: 0.8em; font-weight: bold; line-height: 1; border-radius: 0.35em; vertical-align: middle; margin-left: 0.5rem\">PERSON</span>\n",
              "</mark>\n",
              " tenure was extended beyond his \n",
              "<mark class=\"entity\" style=\"background: #e4e7d2; padding: 0.45em 0.6em; margin: 0 0.25em; line-height: 1; border-radius: 0.35em;\">\n",
              "    second\n",
              "    <span style=\"font-size: 0.8em; font-weight: bold; line-height: 1; border-radius: 0.35em; vertical-align: middle; margin-left: 0.5rem\">ORDINAL</span>\n",
              "</mark>\n",
              " term in \n",
              "<mark class=\"entity\" style=\"background: #bfe1d9; padding: 0.45em 0.6em; margin: 0 0.25em; line-height: 1; border-radius: 0.35em;\">\n",
              "    2013\n",
              "    <span style=\"font-size: 0.8em; font-weight: bold; line-height: 1; border-radius: 0.35em; vertical-align: middle; margin-left: 0.5rem\">DATE</span>\n",
              "</mark>\n",
              " as fresh turmoil engulfed the region and \n",
              "<mark class=\"entity\" style=\"background: #c887fb; padding: 0.45em 0.6em; margin: 0 0.25em; line-height: 1; border-radius: 0.35em;\">\n",
              "    islamic\n",
              "    <span style=\"font-size: 0.8em; font-weight: bold; line-height: 1; border-radius: 0.35em; vertical-align: middle; margin-left: 0.5rem\">NORP</span>\n",
              "</mark>\n",
              " state overran \n",
              "<mark class=\"entity\" style=\"background: #e4e7d2; padding: 0.45em 0.6em; margin: 0 0.25em; line-height: 1; border-radius: 0.35em;\">\n",
              "    about a third\n",
              "    <span style=\"font-size: 0.8em; font-weight: bold; line-height: 1; border-radius: 0.35em; vertical-align: middle; margin-left: 0.5rem\">CARDINAL</span>\n",
              "</mark>\n",
              " of \n",
              "<mark class=\"entity\" style=\"background: #feca74; padding: 0.45em 0.6em; margin: 0 0.25em; line-height: 1; border-radius: 0.35em;\">\n",
              "    iraq\n",
              "    <span style=\"font-size: 0.8em; font-weight: bold; line-height: 1; border-radius: 0.35em; vertical-align: middle; margin-left: 0.5rem\">GPE</span>\n",
              "</mark>\n",
              " \n",
              "<mark class=\"entity\" style=\"background: #bfe1d9; padding: 0.45em 0.6em; margin: 0 0.25em; line-height: 1; border-radius: 0.35em;\">\n",
              "    the following year\n",
              "    <span style=\"font-size: 0.8em; font-weight: bold; line-height: 1; border-radius: 0.35em; vertical-align: middle; margin-left: 0.5rem\">DATE</span>\n",
              "</mark>\n",
              ", threatening the \n",
              "<mark class=\"entity\" style=\"background: #c887fb; padding: 0.45em 0.6em; margin: 0 0.25em; line-height: 1; border-radius: 0.35em;\">\n",
              "    kurdish\n",
              "    <span style=\"font-size: 0.8em; font-weight: bold; line-height: 1; border-radius: 0.35em; vertical-align: middle; margin-left: 0.5rem\">NORP</span>\n",
              "</mark>\n",
              " region. it was unclear whether barzani would or could stand in the \n",
              "<mark class=\"entity\" style=\"background: #bfe1d9; padding: 0.45em 0.6em; margin: 0 0.25em; line-height: 1; border-radius: 0.35em;\">\n",
              "    november\n",
              "    <span style=\"font-size: 0.8em; font-weight: bold; line-height: 1; border-radius: 0.35em; vertical-align: middle; margin-left: 0.5rem\">DATE</span>\n",
              "</mark>\n",
              " poll as \n",
              "<mark class=\"entity\" style=\"background: #c887fb; padding: 0.45em 0.6em; margin: 0 0.25em; line-height: 1; border-radius: 0.35em;\">\n",
              "    kurdish\n",
              "    <span style=\"font-size: 0.8em; font-weight: bold; line-height: 1; border-radius: 0.35em; vertical-align: middle; margin-left: 0.5rem\">NORP</span>\n",
              "</mark>\n",
              " law says a president cannot stay in office for \n",
              "<mark class=\"entity\" style=\"background: #e4e7d2; padding: 0.45em 0.6em; margin: 0 0.25em; line-height: 1; border-radius: 0.35em;\">\n",
              "    more than two\n",
              "    <span style=\"font-size: 0.8em; font-weight: bold; line-height: 1; border-radius: 0.35em; vertical-align: middle; margin-left: 0.5rem\">CARDINAL</span>\n",
              "</mark>\n",
              " terms. campaigning for the \n",
              "<mark class=\"entity\" style=\"background: #e4e7d2; padding: 0.45em 0.6em; margin: 0 0.25em; line-height: 1; border-radius: 0.35em;\">\n",
              "    two\n",
              "    <span style=\"font-size: 0.8em; font-weight: bold; line-height: 1; border-radius: 0.35em; vertical-align: middle; margin-left: 0.5rem\">CARDINAL</span>\n",
              "</mark>\n",
              " elections will start on \n",
              "<mark class=\"entity\" style=\"background: #bfe1d9; padding: 0.45em 0.6em; margin: 0 0.25em; line-height: 1; border-radius: 0.35em;\">\n",
              "    oct. 15\n",
              "    <span style=\"font-size: 0.8em; font-weight: bold; line-height: 1; border-radius: 0.35em; vertical-align: middle; margin-left: 0.5rem\">DATE</span>\n",
              "</mark>\n",
              ", the \n",
              "<mark class=\"entity\" style=\"background: #c887fb; padding: 0.45em 0.6em; margin: 0 0.25em; line-height: 1; border-radius: 0.35em;\">\n",
              "    kurdish\n",
              "    <span style=\"font-size: 0.8em; font-weight: bold; line-height: 1; border-radius: 0.35em; vertical-align: middle; margin-left: 0.5rem\">NORP</span>\n",
              "</mark>\n",
              " rudaw tv channel quoted the high elections and referendum commission chief \n",
              "<mark class=\"entity\" style=\"background: #aa9cfc; padding: 0.45em 0.6em; margin: 0 0.25em; line-height: 1; border-radius: 0.35em;\">\n",
              "    hendrean mohammed as\n",
              "    <span style=\"font-size: 0.8em; font-weight: bold; line-height: 1; border-radius: 0.35em; vertical-align: middle; margin-left: 0.5rem\">PERSON</span>\n",
              "</mark>\n",
              " saying. \n",
              "<mark class=\"entity\" style=\"background: #c887fb; padding: 0.45em 0.6em; margin: 0 0.25em; line-height: 1; border-radius: 0.35em;\">\n",
              "    islamic\n",
              "    <span style=\"font-size: 0.8em; font-weight: bold; line-height: 1; border-radius: 0.35em; vertical-align: middle; margin-left: 0.5rem\">NORP</span>\n",
              "</mark>\n",
              " state s self-declared  caliphate  effectively collapsed in \n",
              "<mark class=\"entity\" style=\"background: #bfe1d9; padding: 0.45em 0.6em; margin: 0 0.25em; line-height: 1; border-radius: 0.35em;\">\n",
              "    july\n",
              "    <span style=\"font-size: 0.8em; font-weight: bold; line-height: 1; border-radius: 0.35em; vertical-align: middle; margin-left: 0.5rem\">DATE</span>\n",
              "</mark>\n",
              ", when the group s stronghold in \n",
              "<mark class=\"entity\" style=\"background: #feca74; padding: 0.45em 0.6em; margin: 0 0.25em; line-height: 1; border-radius: 0.35em;\">\n",
              "    mosul\n",
              "    <span style=\"font-size: 0.8em; font-weight: bold; line-height: 1; border-radius: 0.35em; vertical-align: middle; margin-left: 0.5rem\">GPE</span>\n",
              "</mark>\n",
              ", west of the krg capital erbil, fell to a u.s.-backed \n",
              "<mark class=\"entity\" style=\"background: #c887fb; padding: 0.45em 0.6em; margin: 0 0.25em; line-height: 1; border-radius: 0.35em;\">\n",
              "    iraqi\n",
              "    <span style=\"font-size: 0.8em; font-weight: bold; line-height: 1; border-radius: 0.35em; vertical-align: middle; margin-left: 0.5rem\">NORP</span>\n",
              "</mark>\n",
              " offensive with the participation of \n",
              "<mark class=\"entity\" style=\"background: #c887fb; padding: 0.45em 0.6em; margin: 0 0.25em; line-height: 1; border-radius: 0.35em;\">\n",
              "    kurdish\n",
              "    <span style=\"font-size: 0.8em; font-weight: bold; line-height: 1; border-radius: 0.35em; vertical-align: middle; margin-left: 0.5rem\">NORP</span>\n",
              "</mark>\n",
              " peshmerga fighters.the \n",
              "<mark class=\"entity\" style=\"background: #c887fb; padding: 0.45em 0.6em; margin: 0 0.25em; line-height: 1; border-radius: 0.35em;\">\n",
              "    kurds\n",
              "    <span style=\"font-size: 0.8em; font-weight: bold; line-height: 1; border-radius: 0.35em; vertical-align: middle; margin-left: 0.5rem\">NORP</span>\n",
              "</mark>\n",
              "  push for independence is meant to capitalize on their contribution to the war on \n",
              "<mark class=\"entity\" style=\"background: #c887fb; padding: 0.45em 0.6em; margin: 0 0.25em; line-height: 1; border-radius: 0.35em;\">\n",
              "    islamic\n",
              "    <span style=\"font-size: 0.8em; font-weight: bold; line-height: 1; border-radius: 0.35em; vertical-align: middle; margin-left: 0.5rem\">NORP</span>\n",
              "</mark>\n",
              " state.  \n",
              "<mark class=\"entity\" style=\"background: #7aecec; padding: 0.45em 0.6em; margin: 0 0.25em; line-height: 1; border-radius: 0.35em;\">\n",
              "    the u.s. administration\n",
              "    <span style=\"font-size: 0.8em; font-weight: bold; line-height: 1; border-radius: 0.35em; vertical-align: middle; margin-left: 0.5rem\">ORG</span>\n",
              "</mark>\n",
              ", which had strengthened its alliance with \n",
              "<mark class=\"entity\" style=\"background: #feca74; padding: 0.45em 0.6em; margin: 0 0.25em; line-height: 1; border-radius: 0.35em;\">\n",
              "    iraq\n",
              "    <span style=\"font-size: 0.8em; font-weight: bold; line-height: 1; border-radius: 0.35em; vertical-align: middle; margin-left: 0.5rem\">GPE</span>\n",
              "</mark>\n",
              " s \n",
              "<mark class=\"entity\" style=\"background: #c887fb; padding: 0.45em 0.6em; margin: 0 0.25em; line-height: 1; border-radius: 0.35em;\">\n",
              "    kurds\n",
              "    <span style=\"font-size: 0.8em; font-weight: bold; line-height: 1; border-radius: 0.35em; vertical-align: middle; margin-left: 0.5rem\">NORP</span>\n",
              "</mark>\n",
              ", is taking \n",
              "<mark class=\"entity\" style=\"background: #feca74; padding: 0.45em 0.6em; margin: 0 0.25em; line-height: 1; border-radius: 0.35em;\">\n",
              "    baghdad\n",
              "    <span style=\"font-size: 0.8em; font-weight: bold; line-height: 1; border-radius: 0.35em; vertical-align: middle; margin-left: 0.5rem\">GPE</span>\n",
              "</mark>\n",
              " s side in the crisis by refusing to recognize the outcome of the referendum.  \n",
              "<mark class=\"entity\" style=\"background: #c887fb; padding: 0.45em 0.6em; margin: 0 0.25em; line-height: 1; border-radius: 0.35em;\">\n",
              "    iraqi\n",
              "    <span style=\"font-size: 0.8em; font-weight: bold; line-height: 1; border-radius: 0.35em; vertical-align: middle; margin-left: 0.5rem\">NORP</span>\n",
              "</mark>\n",
              " and \n",
              "<mark class=\"entity\" style=\"background: #c887fb; padding: 0.45em 0.6em; margin: 0 0.25em; line-height: 1; border-radius: 0.35em;\">\n",
              "    kurdish\n",
              "    <span style=\"font-size: 0.8em; font-weight: bold; line-height: 1; border-radius: 0.35em; vertical-align: middle; margin-left: 0.5rem\">NORP</span>\n",
              "</mark>\n",
              " media announced that former \n",
              "<mark class=\"entity\" style=\"background: #c887fb; padding: 0.45em 0.6em; margin: 0 0.25em; line-height: 1; border-radius: 0.35em;\">\n",
              "    iraqi\n",
              "    <span style=\"font-size: 0.8em; font-weight: bold; line-height: 1; border-radius: 0.35em; vertical-align: middle; margin-left: 0.5rem\">NORP</span>\n",
              "</mark>\n",
              " president \n",
              "<mark class=\"entity\" style=\"background: #aa9cfc; padding: 0.45em 0.6em; margin: 0 0.25em; line-height: 1; border-radius: 0.35em;\">\n",
              "    jalal talabani\n",
              "    <span style=\"font-size: 0.8em; font-weight: bold; line-height: 1; border-radius: 0.35em; vertical-align: middle; margin-left: 0.5rem\">PERSON</span>\n",
              "</mark>\n",
              ", a kurd, had died on \n",
              "<mark class=\"entity\" style=\"background: #bfe1d9; padding: 0.45em 0.6em; margin: 0 0.25em; line-height: 1; border-radius: 0.35em;\">\n",
              "    tuesday\n",
              "    <span style=\"font-size: 0.8em; font-weight: bold; line-height: 1; border-radius: 0.35em; vertical-align: middle; margin-left: 0.5rem\">DATE</span>\n",
              "</mark>\n",
              " in \n",
              "<mark class=\"entity\" style=\"background: #feca74; padding: 0.45em 0.6em; margin: 0 0.25em; line-height: 1; border-radius: 0.35em;\">\n",
              "    germany\n",
              "    <span style=\"font-size: 0.8em; font-weight: bold; line-height: 1; border-radius: 0.35em; vertical-align: middle; margin-left: 0.5rem\">GPE</span>\n",
              "</mark>\n",
              " at \n",
              "<mark class=\"entity\" style=\"background: #bfe1d9; padding: 0.45em 0.6em; margin: 0 0.25em; line-height: 1; border-radius: 0.35em;\">\n",
              "    the age of 83\n",
              "    <span style=\"font-size: 0.8em; font-weight: bold; line-height: 1; border-radius: 0.35em; vertical-align: middle; margin-left: 0.5rem\">DATE</span>\n",
              "</mark>\n",
              ". \n",
              "<mark class=\"entity\" style=\"background: #aa9cfc; padding: 0.45em 0.6em; margin: 0 0.25em; line-height: 1; border-radius: 0.35em;\">\n",
              "    talabani\n",
              "    <span style=\"font-size: 0.8em; font-weight: bold; line-height: 1; border-radius: 0.35em; vertical-align: middle; margin-left: 0.5rem\">PERSON</span>\n",
              "</mark>\n",
              ", a veteran leader of the \n",
              "<mark class=\"entity\" style=\"background: #c887fb; padding: 0.45em 0.6em; margin: 0 0.25em; line-height: 1; border-radius: 0.35em;\">\n",
              "    kurdish\n",
              "    <span style=\"font-size: 0.8em; font-weight: bold; line-height: 1; border-radius: 0.35em; vertical-align: middle; margin-left: 0.5rem\">NORP</span>\n",
              "</mark>\n",
              " struggle for self-determination, stepped down as president in \n",
              "<mark class=\"entity\" style=\"background: #bfe1d9; padding: 0.45em 0.6em; margin: 0 0.25em; line-height: 1; border-radius: 0.35em;\">\n",
              "    2014\n",
              "    <span style=\"font-size: 0.8em; font-weight: bold; line-height: 1; border-radius: 0.35em; vertical-align: middle; margin-left: 0.5rem\">DATE</span>\n",
              "</mark>\n",
              ", after a long period of treatment following a stroke in \n",
              "<mark class=\"entity\" style=\"background: #bfe1d9; padding: 0.45em 0.6em; margin: 0 0.25em; line-height: 1; border-radius: 0.35em;\">\n",
              "    2012\n",
              "    <span style=\"font-size: 0.8em; font-weight: bold; line-height: 1; border-radius: 0.35em; vertical-align: middle; margin-left: 0.5rem\">DATE</span>\n",
              "</mark>\n",
              ". his wife and companion in political struggle, hero, and his patriotic union of \n",
              "<mark class=\"entity\" style=\"background: #7aecec; padding: 0.45em 0.6em; margin: 0 0.25em; line-height: 1; border-radius: 0.35em;\">\n",
              "    kurdistan (puk) party\n",
              "    <span style=\"font-size: 0.8em; font-weight: bold; line-height: 1; border-radius: 0.35em; vertical-align: middle; margin-left: 0.5rem\">ORG</span>\n",
              "</mark>\n",
              " had voiced only lukewarm support for the referendum. </div></span>"
            ]
          },
          "metadata": {}
        },
        {
          "output_type": "stream",
          "name": "stdout",
          "text": [
            "Text: moscow (reuters) - president vladimir putin told a meeting of russia s security council on friday that russian media outlets working abroad were facing growing and unacceptable pressure, dmitry peskov, his spokesman, said.  it was stressed that such pressure on russian media is unacceptable,  peskov told a conference call with reporters. he did not name the countries where the kremlin was concerned russian media were coming under pressure. earlier this week, the russian foreign ministry accused washington of putting unwarranted pressure on the u.s operations of kremlin-backed media outlet rt, and warned that moscow could take tit-for-tat measures. russia s communications regulator accused u.s. tv channel cnn international of violating russian media law earlier on friday and said it had summoned the broadcaster s representatives in connection with the matter. \n",
            "Entities:\n",
            "- moscow (GPE)\n",
            "- reuters (ORG)\n",
            "- vladimir putin (PERSON)\n",
            "- russia (GPE)\n",
            "- friday (DATE)\n",
            "- russian (NORP)\n",
            "- russian (NORP)\n",
            "- kremlin (ORG)\n",
            "- russian (NORP)\n",
            "- earlier this week (DATE)\n",
            "- russian (NORP)\n",
            "- washington (GPE)\n",
            "- kremlin (ORG)\n",
            "- moscow (GPE)\n",
            "- russia (GPE)\n",
            "- u.s. (GPE)\n",
            "- cnn (ORG)\n",
            "- russian (NORP)\n",
            "- friday (DATE)\n",
            "\n",
            "--------------------------------------------------\n",
            "\n",
            "Text: paris (reuters) - french president francois hollande on wednesday congratulated donald trump on his shock victory in the u.s presidential election, but warned the result would open up a period of uncertainty. “i congratulate him as is natural between two democratic heads of state,” said hollande. “this american election opens a period of uncertainty.” france would be vigilant and frank in its talks with the new administration on international issues, he said, adding that trump’s victory showed that france needed to be stronger and that europe needed to be united. a presidential official said hollande had spoken to german chancellor angela merkel before making his declaration. \n",
            "Entities:\n",
            "- paris (GPE)\n",
            "- reuters (ORG)\n",
            "- french (NORP)\n",
            "- wednesday (DATE)\n",
            "- donald trump (PERSON)\n",
            "- two (CARDINAL)\n",
            "- american (NORP)\n",
            "- france (GPE)\n",
            "- france (GPE)\n",
            "- europe (LOC)\n",
            "- german (NORP)\n",
            "- angela merkel (PERSON)\n",
            "\n",
            "--------------------------------------------------\n",
            "\n"
          ]
        }
      ]
    },
    {
      "cell_type": "markdown",
      "source": [
        "## Create bag of Words"
      ],
      "metadata": {
        "id": "dE24u8ucgxoN"
      }
    },
    {
      "cell_type": "code",
      "source": [
        "from sklearn.feature_extraction.text import CountVectorizer"
      ],
      "metadata": {
        "id": "qNdRICitghT0"
      },
      "execution_count": 28,
      "outputs": []
    },
    {
      "cell_type": "code",
      "source": [
        "cv=CountVectorizer(max_features=100,binary=True)"
      ],
      "metadata": {
        "id": "8wHHByPkghWt"
      },
      "execution_count": 29,
      "outputs": []
    },
    {
      "cell_type": "code",
      "source": [
        "X=cv.fit_transform(true_df_sample).toarray()\n",
        "Y=cv.fit_transform(fake_df_sample).toarray()"
      ],
      "metadata": {
        "id": "wfEu4BNCghZW"
      },
      "execution_count": 30,
      "outputs": []
    },
    {
      "cell_type": "code",
      "source": [
        "fake_df_sample=fake_df_sample[:2]\n"
      ],
      "metadata": {
        "id": "lYStv6Y4ghb1"
      },
      "execution_count": 31,
      "outputs": []
    },
    {
      "cell_type": "code",
      "source": [
        "Y"
      ],
      "metadata": {
        "colab": {
          "base_uri": "https://localhost:8080/"
        },
        "id": "5HGGyUtgghd9",
        "outputId": "6c80ad32-1a9b-4c04-a28b-6bd7763e2ad9"
      },
      "execution_count": 32,
      "outputs": [
        {
          "output_type": "execute_result",
          "data": {
            "text/plain": [
              "array([[0, 0, 0, 0, 0, 0, 0, 1, 0],\n",
              "       [0, 0, 0, 0, 0, 1, 0, 0, 0],\n",
              "       [0, 0, 0, 0, 1, 0, 0, 0, 0],\n",
              "       [0, 1, 0, 0, 0, 0, 0, 0, 0],\n",
              "       [1, 0, 0, 0, 0, 0, 0, 0, 0],\n",
              "       [0, 0, 0, 0, 0, 0, 1, 0, 0],\n",
              "       [0, 0, 0, 0, 0, 0, 0, 0, 1],\n",
              "       [0, 0, 0, 1, 0, 0, 0, 0, 0],\n",
              "       [0, 0, 1, 0, 0, 0, 0, 0, 0]])"
            ]
          },
          "metadata": {},
          "execution_count": 32
        }
      ]
    },
    {
      "cell_type": "code",
      "source": [
        "true_df_sample=true_df_sample[:2]"
      ],
      "metadata": {
        "id": "4g3rLfHFghgl"
      },
      "execution_count": 34,
      "outputs": []
    },
    {
      "cell_type": "code",
      "source": [
        "X"
      ],
      "metadata": {
        "colab": {
          "base_uri": "https://localhost:8080/"
        },
        "id": "jPNOoLteghi1",
        "outputId": "cfd99cde-0708-4a13-ff8d-afa7cf798cf5"
      },
      "execution_count": 35,
      "outputs": [
        {
          "output_type": "execute_result",
          "data": {
            "text/plain": [
              "array([[0, 0, 0, 0, 0, 0, 0, 1, 0],\n",
              "       [0, 0, 0, 0, 0, 1, 0, 0, 0],\n",
              "       [0, 0, 0, 0, 1, 0, 0, 0, 0],\n",
              "       [0, 1, 0, 0, 0, 0, 0, 0, 0],\n",
              "       [1, 0, 0, 0, 0, 0, 0, 0, 0],\n",
              "       [0, 0, 0, 0, 0, 0, 1, 0, 0],\n",
              "       [0, 0, 0, 0, 0, 0, 0, 0, 1],\n",
              "       [0, 0, 0, 1, 0, 0, 0, 0, 0],\n",
              "       [0, 0, 1, 0, 0, 0, 0, 0, 0]])"
            ]
          },
          "metadata": {},
          "execution_count": 35
        }
      ]
    },
    {
      "cell_type": "code",
      "source": [
        "cv.get_feature_names_out()"
      ],
      "metadata": {
        "colab": {
          "base_uri": "https://localhost:8080/"
        },
        "id": "9nER6wKKikY_",
        "outputId": "7706b95d-aa75-4eb2-cc20-54c9fa286c86"
      },
      "execution_count": 36,
      "outputs": [
        {
          "output_type": "execute_result",
          "data": {
            "text/plain": [
              "array(['cleaned_text', 'date', 'pos_tags', 'reconstructed_text',\n",
              "       'subject', 'text', 'text_no_stopwords', 'title', 'tokens'],\n",
              "      dtype=object)"
            ]
          },
          "metadata": {},
          "execution_count": 36
        }
      ]
    },
    {
      "cell_type": "code",
      "source": [
        "cv.vocabulary_"
      ],
      "metadata": {
        "colab": {
          "base_uri": "https://localhost:8080/"
        },
        "id": "skzK22a9ikcm",
        "outputId": "7cc2601e-067d-4b8c-bf21-6d56a031d3c8"
      },
      "execution_count": 37,
      "outputs": [
        {
          "output_type": "execute_result",
          "data": {
            "text/plain": [
              "{'title': 7,\n",
              " 'text': 5,\n",
              " 'subject': 4,\n",
              " 'date': 1,\n",
              " 'cleaned_text': 0,\n",
              " 'text_no_stopwords': 6,\n",
              " 'tokens': 8,\n",
              " 'reconstructed_text': 3,\n",
              " 'pos_tags': 2}"
            ]
          },
          "metadata": {},
          "execution_count": 37
        }
      ]
    },
    {
      "cell_type": "markdown",
      "source": [
        "# TF-IDF"
      ],
      "metadata": {
        "id": "Osyn8RJvkhMr"
      }
    },
    {
      "cell_type": "code",
      "source": [
        "\n",
        "true_df_sample=true_df_sample[:3]\n",
        "fake_df_sample=fake_df_sample[:3]"
      ],
      "metadata": {
        "id": "Xaa5Hcmei5tF"
      },
      "execution_count": 38,
      "outputs": []
    },
    {
      "cell_type": "code",
      "source": [
        "from sklearn.feature_extraction.text import TfidfVectorizer"
      ],
      "metadata": {
        "id": "siAKPKDPk0KN"
      },
      "execution_count": 39,
      "outputs": []
    },
    {
      "cell_type": "code",
      "source": [
        "tfidfX=TfidfVectorizer(max_features=100)\n",
        "# Fit the TfidfVectorizer to your data\n",
        "X=tfidfX.fit_transform(true_df_sample).toarray()\n",
        "# Now you should be able to access tfidfX.vocabulary_\n"
      ],
      "metadata": {
        "id": "7N9PSWUok0RN"
      },
      "execution_count": 40,
      "outputs": []
    },
    {
      "cell_type": "code",
      "source": [
        "X"
      ],
      "metadata": {
        "colab": {
          "base_uri": "https://localhost:8080/"
        },
        "id": "RWKHn3ndlGbH",
        "outputId": "e7082b7e-ea5b-4063-ea41-9d9aed092ec4"
      },
      "execution_count": 42,
      "outputs": [
        {
          "output_type": "execute_result",
          "data": {
            "text/plain": [
              "array([[0., 0., 0., 0., 0., 0., 0., 1., 0.],\n",
              "       [0., 0., 0., 0., 0., 1., 0., 0., 0.],\n",
              "       [0., 0., 0., 0., 1., 0., 0., 0., 0.],\n",
              "       [0., 1., 0., 0., 0., 0., 0., 0., 0.],\n",
              "       [1., 0., 0., 0., 0., 0., 0., 0., 0.],\n",
              "       [0., 0., 0., 0., 0., 0., 1., 0., 0.],\n",
              "       [0., 0., 0., 0., 0., 0., 0., 0., 1.],\n",
              "       [0., 0., 0., 1., 0., 0., 0., 0., 0.],\n",
              "       [0., 0., 1., 0., 0., 0., 0., 0., 0.]])"
            ]
          },
          "metadata": {},
          "execution_count": 42
        }
      ]
    },
    {
      "cell_type": "code",
      "source": [
        "tfidfX.vocabulary_"
      ],
      "metadata": {
        "colab": {
          "base_uri": "https://localhost:8080/"
        },
        "id": "ZzuXTGMTlGeN",
        "outputId": "25e51d02-45c9-454a-9e00-26bd2d103e0e"
      },
      "execution_count": 43,
      "outputs": [
        {
          "output_type": "execute_result",
          "data": {
            "text/plain": [
              "{'title': 7,\n",
              " 'text': 5,\n",
              " 'subject': 4,\n",
              " 'date': 1,\n",
              " 'cleaned_text': 0,\n",
              " 'text_no_stopwords': 6,\n",
              " 'tokens': 8,\n",
              " 'reconstructed_text': 3,\n",
              " 'pos_tags': 2}"
            ]
          },
          "metadata": {},
          "execution_count": 43
        }
      ]
    },
    {
      "cell_type": "code",
      "source": [
        "tfidfY=TfidfVectorizer(max_features=100)\n",
        "# Fit the TfidfVectorizer to your data using tfidfY instead of tfidf\n",
        "Y=tfidfY.fit_transform(fake_df_sample).toarray()\n",
        "# Now you should be able to access tfidfY.vocabulary_"
      ],
      "metadata": {
        "id": "wPYhM93ik9tF"
      },
      "execution_count": 44,
      "outputs": []
    },
    {
      "cell_type": "code",
      "source": [
        "Y"
      ],
      "metadata": {
        "colab": {
          "base_uri": "https://localhost:8080/"
        },
        "id": "I7FswKhelGhE",
        "outputId": "48cb62f5-6d48-4795-ea81-176c1c95dca5"
      },
      "execution_count": 45,
      "outputs": [
        {
          "output_type": "execute_result",
          "data": {
            "text/plain": [
              "array([[0., 0., 0., 0., 0., 0., 0., 1., 0.],\n",
              "       [0., 0., 0., 0., 0., 1., 0., 0., 0.],\n",
              "       [0., 0., 0., 0., 1., 0., 0., 0., 0.],\n",
              "       [0., 1., 0., 0., 0., 0., 0., 0., 0.],\n",
              "       [1., 0., 0., 0., 0., 0., 0., 0., 0.],\n",
              "       [0., 0., 0., 0., 0., 0., 1., 0., 0.],\n",
              "       [0., 0., 0., 0., 0., 0., 0., 0., 1.],\n",
              "       [0., 0., 0., 1., 0., 0., 0., 0., 0.],\n",
              "       [0., 0., 1., 0., 0., 0., 0., 0., 0.]])"
            ]
          },
          "metadata": {},
          "execution_count": 45
        }
      ]
    },
    {
      "cell_type": "code",
      "source": [
        "tfidfY.vocabulary_"
      ],
      "metadata": {
        "colab": {
          "base_uri": "https://localhost:8080/"
        },
        "id": "Z7nPsodXlGjV",
        "outputId": "1405ac56-9e65-42ba-e237-2a66ce84425b"
      },
      "execution_count": 46,
      "outputs": [
        {
          "output_type": "execute_result",
          "data": {
            "text/plain": [
              "{'title': 7,\n",
              " 'text': 5,\n",
              " 'subject': 4,\n",
              " 'date': 1,\n",
              " 'cleaned_text': 0,\n",
              " 'text_no_stopwords': 6,\n",
              " 'tokens': 8,\n",
              " 'reconstructed_text': 3,\n",
              " 'pos_tags': 2}"
            ]
          },
          "metadata": {},
          "execution_count": 46
        }
      ]
    },
    {
      "cell_type": "markdown",
      "source": [
        "# Word2Vec"
      ],
      "metadata": {
        "id": "5SUmnJBkmI5U"
      }
    },
    {
      "cell_type": "code",
      "source": [
        "!pip install gensim"
      ],
      "metadata": {
        "colab": {
          "base_uri": "https://localhost:8080/"
        },
        "id": "-mtIUKW_mFxc",
        "outputId": "557af498-be01-47f7-96f7-3f77797d6cf2"
      },
      "execution_count": 47,
      "outputs": [
        {
          "output_type": "stream",
          "name": "stdout",
          "text": [
            "Requirement already satisfied: gensim in /usr/local/lib/python3.10/dist-packages (4.3.3)\n",
            "Requirement already satisfied: numpy<2.0,>=1.18.5 in /usr/local/lib/python3.10/dist-packages (from gensim) (1.26.4)\n",
            "Requirement already satisfied: scipy<1.14.0,>=1.7.0 in /usr/local/lib/python3.10/dist-packages (from gensim) (1.13.1)\n",
            "Requirement already satisfied: smart-open>=1.8.1 in /usr/local/lib/python3.10/dist-packages (from gensim) (7.1.0)\n",
            "Requirement already satisfied: wrapt in /usr/local/lib/python3.10/dist-packages (from smart-open>=1.8.1->gensim) (1.17.0)\n"
          ]
        }
      ]
    },
    {
      "cell_type": "code",
      "source": [
        "from gensim.models import Word2Vec, KeyedVectors"
      ],
      "metadata": {
        "id": "WB7wo5G3mF02"
      },
      "execution_count": 48,
      "outputs": []
    },
    {
      "cell_type": "code",
      "source": [
        "import gensim.downloader as api\n",
        "wv=api.load(\"word2vec-google-news-300\")"
      ],
      "metadata": {
        "id": "6XSHaf9mmF31"
      },
      "execution_count": 49,
      "outputs": []
    },
    {
      "cell_type": "code",
      "source": [
        "vec_LANGUAGE=wv['LANGUAGE']"
      ],
      "metadata": {
        "id": "8HJWBo7zmF6o"
      },
      "execution_count": 50,
      "outputs": []
    },
    {
      "cell_type": "code",
      "source": [
        "vec_LANGUAGE"
      ],
      "metadata": {
        "colab": {
          "base_uri": "https://localhost:8080/"
        },
        "id": "vzCFWPKRmvUt",
        "outputId": "7cf35341-dad2-4545-c574-00c585ea1cf7"
      },
      "execution_count": 51,
      "outputs": [
        {
          "output_type": "execute_result",
          "data": {
            "text/plain": [
              "array([-0.06542969, -0.3984375 ,  0.05810547,  0.16894531,  0.14550781,\n",
              "        0.13867188, -0.25585938,  0.10498047, -0.20605469,  0.12109375,\n",
              "        0.03466797, -0.10400391, -0.41210938,  0.3984375 , -0.24023438,\n",
              "        0.20019531, -0.03466797,  0.25976562, -0.26953125, -0.17382812,\n",
              "       -0.29882812,  0.32226562,  0.36914062, -0.16210938, -0.34960938,\n",
              "       -0.25      ,  0.15625   ,  0.22753906,  0.10546875,  0.09228516,\n",
              "        0.15820312, -0.03613281, -0.24316406, -0.296875  ,  0.03930664,\n",
              "       -0.19335938, -0.05297852,  0.18652344, -0.05688477, -0.1484375 ,\n",
              "       -0.19335938, -0.40625   , -0.11328125,  0.24414062,  0.05639648,\n",
              "        0.09472656, -0.36914062,  0.15332031, -0.17382812,  0.1171875 ,\n",
              "       -0.36914062,  0.24707031, -0.06347656,  0.00457764,  0.06884766,\n",
              "        0.36328125, -0.14160156, -0.08691406,  0.03100586,  0.05712891,\n",
              "       -0.07617188,  0.06298828, -0.16308594, -0.27148438, -0.13378906,\n",
              "       -0.26171875, -0.00119019,  0.19238281,  0.00146484, -0.14355469,\n",
              "        0.07275391,  0.015625  , -0.16601562, -0.04785156, -0.26171875,\n",
              "       -0.09423828,  0.22949219, -0.00372314, -0.01977539,  0.07763672,\n",
              "       -0.05444336,  0.01196289, -0.00524902, -0.12255859,  0.19921875,\n",
              "        0.23828125, -0.21972656,  0.25390625,  0.17285156,  0.234375  ,\n",
              "       -0.38476562, -0.22265625,  0.07080078, -0.265625  ,  0.14648438,\n",
              "       -0.01611328,  0.13867188, -0.0612793 ,  0.34375   , -0.03735352,\n",
              "        0.11474609,  0.34179688,  0.23535156, -0.07666016,  0.08007812,\n",
              "        0.20214844, -0.15820312,  0.15039062, -0.05419922, -0.33007812,\n",
              "       -0.1640625 ,  0.01745605, -0.17675781, -0.19726562, -0.140625  ,\n",
              "        0.20117188, -0.07519531, -0.21777344,  0.17578125, -0.16796875,\n",
              "       -0.18066406,  0.06347656, -0.00823975, -0.00744629, -0.03466797,\n",
              "        0.34765625, -0.69140625,  0.15820312,  0.375     , -0.20898438,\n",
              "       -0.20117188, -0.36328125, -0.31054688, -0.16699219,  0.05078125,\n",
              "        0.24902344, -0.24316406, -0.06982422, -0.05493164, -0.37890625,\n",
              "        0.17089844, -0.15136719,  0.0390625 , -0.08105469, -0.34765625,\n",
              "       -0.06079102, -0.07421875,  0.51171875,  0.09619141, -0.31835938,\n",
              "        0.26757812, -0.17578125,  0.15039062, -0.19140625, -0.01953125,\n",
              "       -0.00418091, -0.08935547,  0.06933594,  0.19140625, -0.39453125,\n",
              "       -0.16699219,  0.32226562,  0.13476562, -0.44140625,  0.05419922,\n",
              "        0.25      ,  0.21386719, -0.20019531, -0.296875  ,  0.23535156,\n",
              "       -0.00674438,  0.1484375 , -0.4296875 ,  0.15429688, -0.09326172,\n",
              "       -0.11083984, -0.06030273,  0.15429688,  0.09082031, -0.2578125 ,\n",
              "       -0.19238281,  0.23925781,  0.33984375, -0.12890625,  0.21582031,\n",
              "        0.44921875,  0.08203125, -0.35742188,  0.30078125,  0.1953125 ,\n",
              "       -0.19238281, -0.00469971, -0.5625    , -0.02502441, -0.04223633,\n",
              "        0.10302734, -0.11181641,  0.10644531, -0.18261719, -0.07275391,\n",
              "       -0.07128906,  0.0378418 , -0.0480957 ,  0.00674438, -0.66796875,\n",
              "       -0.12988281,  0.15429688,  0.15625   , -0.17480469, -0.19238281,\n",
              "        0.30664062, -0.203125  ,  0.23339844, -0.12011719,  0.05126953,\n",
              "        0.33984375,  0.13671875, -0.26367188, -0.00460815, -0.2109375 ,\n",
              "       -0.16601562, -0.31054688,  0.12402344,  0.07373047, -0.04199219,\n",
              "       -0.04858398,  0.11523438, -0.10595703,  0.12792969,  0.01623535,\n",
              "        0.27734375,  0.16601562, -0.02575684,  0.21191406,  0.05029297,\n",
              "       -0.06347656,  0.42382812,  0.03613281,  0.20996094, -0.16699219,\n",
              "       -0.09765625, -0.02416992,  0.11767578,  0.31640625,  0.05737305,\n",
              "       -0.29296875,  0.265625  ,  0.51171875, -0.59375   , -0.06152344,\n",
              "       -0.02416992,  0.19140625,  0.24511719,  0.25      ,  0.09667969,\n",
              "       -0.18359375,  0.13574219, -0.04663086,  0.07617188,  0.16015625,\n",
              "        0.05981445,  0.22851562,  0.33984375, -0.16796875, -0.17480469,\n",
              "        0.26367188,  0.21289062,  0.11035156, -0.24609375, -0.37109375,\n",
              "       -0.00704956,  0.18261719, -0.33203125,  0.18261719,  0.18261719,\n",
              "        0.03686523, -0.140625  , -0.14160156, -0.25195312,  0.22460938,\n",
              "       -0.4140625 ,  0.265625  , -0.12353516,  0.11132812,  0.28515625,\n",
              "       -0.08935547,  0.31835938, -0.05834961, -0.05981445,  0.11962891,\n",
              "        0.11621094, -0.04907227,  0.01550293, -0.06787109, -0.12011719,\n",
              "       -0.29296875, -0.39648438,  0.08007812,  0.08105469,  0.16308594],\n",
              "      dtype=float32)"
            ]
          },
          "metadata": {},
          "execution_count": 51
        }
      ]
    },
    {
      "cell_type": "code",
      "source": [
        "wv.most_similar(\"LANGUAGE\")"
      ],
      "metadata": {
        "colab": {
          "base_uri": "https://localhost:8080/"
        },
        "id": "Bxlm1gqZ0th9",
        "outputId": "8590eac6-b3da-419c-e479-07741941c6bd"
      },
      "execution_count": 52,
      "outputs": [
        {
          "output_type": "execute_result",
          "data": {
            "text/plain": [
              "[('MATTER_OF', 0.6990817189216614),\n",
              " ('BILINGUAL', 0.6988829374313354),\n",
              " ('THE_LANGUAGE', 0.6917159557342529),\n",
              " ('EVERYONE_SHOULD', 0.6891354918479919),\n",
              " ('RULE_ON', 0.688280463218689),\n",
              " ('SPELLING', 0.6868935227394104),\n",
              " ('LANGUAGES', 0.6865940093994141),\n",
              " ('THERE_ARE_NO', 0.6843549609184265),\n",
              " ('IN_ENGLISH', 0.684076726436615),\n",
              " ('GREEKS', 0.6831997036933899)]"
            ]
          },
          "metadata": {},
          "execution_count": 52
        }
      ]
    },
    {
      "cell_type": "code",
      "source": [
        "vec_LANGUAGE.shape"
      ],
      "metadata": {
        "colab": {
          "base_uri": "https://localhost:8080/"
        },
        "id": "5VhjVL3BmfPl",
        "outputId": "2aa56988-dc7b-40aa-e3cf-ddabcc275bdc"
      },
      "execution_count": 53,
      "outputs": [
        {
          "output_type": "execute_result",
          "data": {
            "text/plain": [
              "(300,)"
            ]
          },
          "metadata": {},
          "execution_count": 53
        }
      ]
    },
    {
      "cell_type": "code",
      "source": [
        "vec_COUNTRY=wv['COUNTRY']"
      ],
      "metadata": {
        "id": "kZlZf8BwmF9f"
      },
      "execution_count": 54,
      "outputs": []
    },
    {
      "cell_type": "code",
      "source": [
        "vec_COUNTRY"
      ],
      "metadata": {
        "colab": {
          "base_uri": "https://localhost:8080/"
        },
        "id": "8Sxfpi0_mGA9",
        "outputId": "b6ba9255-02e0-4e11-c8b9-ce0bea89e352"
      },
      "execution_count": 55,
      "outputs": [
        {
          "output_type": "execute_result",
          "data": {
            "text/plain": [
              "array([ 6.64062500e-02, -1.96289062e-01,  1.22070312e-02,  2.10937500e-01,\n",
              "       -5.12695312e-03,  1.29882812e-01, -3.78906250e-01,  1.18164062e-01,\n",
              "       -2.15820312e-01,  1.61132812e-01,  3.90625000e-02, -1.54296875e-01,\n",
              "       -8.05664062e-02,  4.39453125e-01, -2.32421875e-01,  1.16699219e-01,\n",
              "       -8.83789062e-02,  3.73046875e-01, -4.45312500e-01, -2.23632812e-01,\n",
              "       -6.44531250e-02,  2.16064453e-02, -1.07910156e-01, -1.53350830e-03,\n",
              "       -2.16796875e-01,  2.71484375e-01, -2.63671875e-01,  4.64843750e-01,\n",
              "        8.20312500e-02,  1.69921875e-01, -9.66796875e-02,  3.67187500e-01,\n",
              "       -3.63281250e-01,  1.16210938e-01, -9.66796875e-02, -7.51953125e-02,\n",
              "       -8.44726562e-02,  1.39648438e-01,  4.80957031e-02, -1.68945312e-01,\n",
              "       -4.33593750e-01, -1.32812500e-01, -1.03515625e-01,  1.60156250e-01,\n",
              "        3.34472656e-02,  2.39257812e-01,  8.64257812e-02,  6.17675781e-02,\n",
              "        2.08007812e-01,  1.05468750e-01, -2.75390625e-01,  3.78906250e-01,\n",
              "        3.06396484e-02,  2.44140625e-01,  2.55859375e-01,  3.53515625e-01,\n",
              "       -5.07812500e-01,  1.07421875e-01, -1.33789062e-01,  2.59765625e-01,\n",
              "        2.97851562e-02, -3.68652344e-02,  5.15136719e-02,  2.19726562e-01,\n",
              "        1.26647949e-03, -1.72851562e-01,  6.39648438e-02, -2.07031250e-01,\n",
              "        2.57812500e-01, -1.19140625e-01,  2.87109375e-01, -1.84570312e-01,\n",
              "       -9.47265625e-02, -1.15722656e-01, -4.45312500e-01, -1.15966797e-02,\n",
              "        8.42285156e-03, -1.67968750e-01, -2.33398438e-01,  2.08007812e-01,\n",
              "       -4.41406250e-01, -2.10937500e-01,  2.50000000e-01,  9.33837891e-03,\n",
              "       -3.12500000e-02,  2.02148438e-01, -5.66406250e-01, -1.16699219e-01,\n",
              "       -4.88281250e-02,  2.04101562e-01, -4.60937500e-01, -2.75390625e-01,\n",
              "        2.27539062e-01, -2.77343750e-01,  1.65039062e-01,  8.00781250e-02,\n",
              "        5.93261719e-02, -9.61914062e-02,  3.86718750e-01, -4.47265625e-01,\n",
              "        9.71679688e-02,  5.11718750e-01,  4.53125000e-01,  2.67578125e-01,\n",
              "       -3.19824219e-02,  6.88476562e-02, -1.04003906e-01,  6.15234375e-02,\n",
              "       -4.49218750e-01, -1.98242188e-01,  3.61328125e-01, -1.86523438e-01,\n",
              "       -1.76757812e-01, -6.39648438e-02, -1.93359375e-01,  1.25000000e-01,\n",
              "       -1.27929688e-01, -1.31835938e-01,  2.63671875e-01, -8.64257812e-02,\n",
              "       -1.98242188e-01, -1.20117188e-01, -1.99218750e-01, -4.27246094e-02,\n",
              "        9.52148438e-02,  1.88476562e-01, -2.67578125e-01,  2.43164062e-01,\n",
              "        1.49414062e-01, -1.69677734e-02, -1.66015625e-01, -2.02636719e-02,\n",
              "        3.08593750e-01, -1.91406250e-01, -1.01074219e-01, -2.16064453e-02,\n",
              "       -7.37304688e-02, -7.51953125e-02, -1.52587891e-02,  1.04492188e-01,\n",
              "       -4.70703125e-01, -1.76757812e-01,  2.73437500e-01, -1.51367188e-01,\n",
              "       -1.81640625e-01,  3.54003906e-02, -1.71875000e-01,  3.53515625e-01,\n",
              "        6.59179688e-02,  1.64062500e-01, -5.90820312e-02, -1.63085938e-01,\n",
              "        3.00781250e-01,  3.10058594e-02, -2.19726562e-01,  4.51660156e-02,\n",
              "       -1.99218750e-01, -1.21582031e-01, -1.72851562e-01, -2.75390625e-01,\n",
              "       -5.11718750e-01,  3.28125000e-01,  2.65625000e-01, -1.89453125e-01,\n",
              "       -3.58886719e-02,  5.02929688e-02,  1.38671875e-01, -1.34887695e-02,\n",
              "       -5.12695312e-02,  2.89062500e-01, -2.23632812e-01,  1.40625000e-01,\n",
              "       -5.54687500e-01, -2.65625000e-01, -1.55639648e-02,  2.29492188e-02,\n",
              "        5.44433594e-02,  3.96484375e-01, -3.02734375e-01, -2.28515625e-01,\n",
              "       -1.41601562e-01,  4.67300415e-04,  4.94140625e-01,  4.22363281e-02,\n",
              "       -2.71484375e-01, -1.01562500e-01,  4.39453125e-02,  1.08398438e-01,\n",
              "        9.42382812e-02,  1.41601562e-01,  1.67968750e-01, -2.03125000e-01,\n",
              "       -1.90429688e-01, -2.73437500e-01,  7.47070312e-02,  5.46875000e-02,\n",
              "       -7.03125000e-02,  1.01562500e-01, -1.74804688e-01, -3.53515625e-01,\n",
              "       -1.81640625e-01, -1.52343750e-01,  8.98437500e-02,  1.88476562e-01,\n",
              "       -1.15722656e-01,  2.21679688e-01, -2.49023438e-02, -3.75366211e-03,\n",
              "        6.39648438e-02,  1.48437500e-01,  3.55468750e-01,  1.50390625e-01,\n",
              "        3.71093750e-01, -1.19140625e-01,  2.19726562e-01,  3.45703125e-01,\n",
              "        1.85546875e-01, -2.86865234e-02, -2.24609375e-01, -7.17773438e-02,\n",
              "       -2.18505859e-02,  1.52343750e-01,  2.19726562e-01, -1.39648438e-01,\n",
              "       -1.07421875e-01, -6.05468750e-02,  2.73437500e-01,  1.85546875e-01,\n",
              "        4.98046875e-02, -7.71484375e-02, -1.78710938e-01,  2.00195312e-02,\n",
              "        1.17187500e-01,  7.32421875e-02,  2.01171875e-01,  1.98242188e-01,\n",
              "        1.42578125e-01, -1.81640625e-01, -9.86328125e-02, -4.57031250e-01,\n",
              "       -1.68945312e-01, -1.42578125e-01,  3.20312500e-01,  4.08203125e-01,\n",
              "        3.32031250e-02, -4.10156250e-01,  1.82617188e-01,  1.86523438e-01,\n",
              "       -5.93750000e-01, -1.63085938e-01,  1.76757812e-01,  3.28125000e-01,\n",
              "        5.39062500e-01,  9.42382812e-02,  2.14843750e-01,  8.15429688e-02,\n",
              "        4.16015625e-01,  1.10351562e-01,  1.93359375e-01, -1.54296875e-01,\n",
              "       -1.32812500e-01, -1.73828125e-01,  1.27929688e-01,  8.17871094e-03,\n",
              "        6.73828125e-02,  2.71484375e-01, -3.47656250e-01,  3.30078125e-01,\n",
              "        1.97265625e-01, -1.80664062e-01, -2.97851562e-02,  2.43164062e-01,\n",
              "       -2.50000000e-01, -5.37109375e-02,  1.61132812e-01,  1.02539062e-01,\n",
              "       -8.39843750e-02,  2.14843750e-01, -2.48046875e-01,  5.68847656e-02,\n",
              "       -5.15625000e-01,  3.00781250e-01, -1.27929688e-01, -4.58984375e-02,\n",
              "       -9.22851562e-02, -4.63867188e-02,  8.48770142e-05, -1.11816406e-01,\n",
              "        1.78710938e-01,  8.11767578e-03,  8.05664062e-02,  1.39648438e-01,\n",
              "       -4.02832031e-02,  3.61328125e-02, -3.49609375e-01, -2.51953125e-01,\n",
              "       -2.47070312e-01, -3.80859375e-02, -2.74658203e-03, -2.40478516e-02],\n",
              "      dtype=float32)"
            ]
          },
          "metadata": {},
          "execution_count": 55
        }
      ]
    },
    {
      "cell_type": "code",
      "source": [
        "vec_COUNTRY.shape"
      ],
      "metadata": {
        "colab": {
          "base_uri": "https://localhost:8080/"
        },
        "id": "ilPkoCglmGFU",
        "outputId": "83b1dac5-3b7e-4787-a793-1e55a6002051"
      },
      "execution_count": 56,
      "outputs": [
        {
          "output_type": "execute_result",
          "data": {
            "text/plain": [
              "(300,)"
            ]
          },
          "metadata": {},
          "execution_count": 56
        }
      ]
    },
    {
      "cell_type": "code",
      "source": [
        "wv.most_similar(\"COUNTRY\")"
      ],
      "metadata": {
        "colab": {
          "base_uri": "https://localhost:8080/"
        },
        "id": "ISPM68yy1JxF",
        "outputId": "50f2f70f-6ba1-4d72-ad3b-7d07b8d66db6"
      },
      "execution_count": 57,
      "outputs": [
        {
          "output_type": "execute_result",
          "data": {
            "text/plain": [
              "[('TOWN_AND', 0.6378329396247864),\n",
              " ('IN_OUR_OWN', 0.6206589341163635),\n",
              " ('IN_THEIR_OWN', 0.6121924519538879),\n",
              " ('PROTECTING_THE', 0.5994446873664856),\n",
              " ('AMERICAN', 0.5871702432632446),\n",
              " ('SURVIVAL', 0.5854952931404114),\n",
              " ('GOOD_OLE', 0.5814331769943237),\n",
              " ('BLACK', 0.5799936056137085),\n",
              " ('AROUND_THE_BIG', 0.5799298286437988),\n",
              " ('SURPRISES', 0.5793653130531311)]"
            ]
          },
          "metadata": {},
          "execution_count": 57
        }
      ]
    },
    {
      "cell_type": "markdown",
      "source": [
        "# Naive Bayes classifier"
      ],
      "metadata": {
        "id": "OlBrIPQc3gHs"
      }
    },
    {
      "cell_type": "code",
      "source": [
        "import pandas as pd\n",
        "from sklearn.feature_extraction.text import CountVectorizer\n",
        "from sklearn.model_selection import train_test_split\n",
        "from sklearn.naive_bayes import MultinomialNB\n",
        "from sklearn.metrics import accuracy_score, classification_report\n",
        "\n",
        "# Load datasets\n",
        "fake_data = pd.read_csv('/content/processed_fake_sample.csv')\n",
        "true_data = pd.read_csv('/content/processed_true_sample.csv')\n",
        "\n",
        "# Add labels\n",
        "fake_data['label'] = 'fake'\n",
        "true_data['label'] = 'real'\n",
        "\n"
      ],
      "metadata": {
        "id": "vGDCjq721RPc"
      },
      "execution_count": 58,
      "outputs": []
    },
    {
      "cell_type": "code",
      "source": [
        "# Combine datasets\n",
        "data = pd.concat([fake_data, true_data], ignore_index=True)\n",
        "\n",
        "# Shuffle the dataset\n",
        "data = data.sample(frac=1, random_state=42).reset_index(drop=True)\n",
        "\n",
        "# Split features and labels\n",
        "X = data['text']  # Features (the text data)\n",
        "y = data['label']  # Labels ('fake' or 'real')\n",
        "\n",
        "# Split into training and testing sets\n",
        "X_train, X_test, y_train, y_test = train_test_split(X, y, test_size=0.2, random_state=42)\n",
        "\n",
        "# Convert text to numerical data using CountVectorizer\n",
        "vectorizer = CountVectorizer()\n",
        "X_train_vec = vectorizer.fit_transform(X_train)\n",
        "X_test_vec = vectorizer.transform(X_test)\n",
        "\n",
        "# Train a Naive Bayes classifier\n",
        "classifier = MultinomialNB()\n",
        "classifier.fit(X_train_vec, y_train)\n",
        "\n",
        "# Make predictions\n",
        "y_pred = classifier.predict(X_test_vec)\n",
        "\n",
        "# Evaluate the model\n",
        "accuracy = accuracy_score(y_test, y_pred)\n",
        "print(f\"Accuracy: {accuracy * 100:.2f}%\\n\")\n",
        "print(\"Classification Report:\")\n",
        "print(classification_report(y_test, y_pred))"
      ],
      "metadata": {
        "colab": {
          "base_uri": "https://localhost:8080/"
        },
        "id": "9QUKiunV1RXd",
        "outputId": "5f92a37f-fabf-4650-9e10-615d4e735abb"
      },
      "execution_count": 45,
      "outputs": [
        {
          "output_type": "stream",
          "name": "stdout",
          "text": [
            "Accuracy: 93.60%\n",
            "\n",
            "Classification Report:\n",
            "              precision    recall  f1-score   support\n",
            "\n",
            "        fake       0.95      0.92      0.94      3043\n",
            "        real       0.92      0.95      0.94      2957\n",
            "\n",
            "    accuracy                           0.94      6000\n",
            "   macro avg       0.94      0.94      0.94      6000\n",
            "weighted avg       0.94      0.94      0.94      6000\n",
            "\n"
          ]
        }
      ]
    },
    {
      "cell_type": "markdown",
      "source": [
        "# SVM"
      ],
      "metadata": {
        "id": "3Ll52WQn_CHL"
      }
    },
    {
      "cell_type": "code",
      "source": [
        "from sklearn.svm import LinearSVC\n",
        "from sklearn.metrics import accuracy_score, classification_report\n",
        "\n",
        "# Train an SVM classifier\n",
        "svm_classifier = LinearSVC(random_state=42)\n",
        "svm_classifier.fit(X_train_vec, y_train)\n",
        "\n",
        "# Make predictions\n",
        "y_pred = svm_classifier.predict(X_test_vec)\n",
        "\n",
        "# Evaluate the model\n",
        "accuracy = accuracy_score(y_test, y_pred)\n",
        "print(f\"Accuracy: {accuracy * 100:.2f}%\\n\")\n",
        "print(\"Classification Report:\")\n",
        "print(classification_report(y_test, y_pred))\n"
      ],
      "metadata": {
        "colab": {
          "base_uri": "https://localhost:8080/"
        },
        "id": "fIwzWPyP-9-V",
        "outputId": "c6732051-9370-435c-d251-45cfa3b48540"
      },
      "execution_count": 43,
      "outputs": [
        {
          "output_type": "stream",
          "name": "stdout",
          "text": [
            "Accuracy: 99.45%\n",
            "\n",
            "Classification Report:\n",
            "              precision    recall  f1-score   support\n",
            "\n",
            "        fake       0.99      0.99      0.99      3043\n",
            "        real       0.99      0.99      0.99      2957\n",
            "\n",
            "    accuracy                           0.99      6000\n",
            "   macro avg       0.99      0.99      0.99      6000\n",
            "weighted avg       0.99      0.99      0.99      6000\n",
            "\n"
          ]
        },
        {
          "output_type": "stream",
          "name": "stderr",
          "text": [
            "/usr/local/lib/python3.10/dist-packages/sklearn/svm/_base.py:1243: ConvergenceWarning: Liblinear failed to converge, increase the number of iterations.\n",
            "  warnings.warn(\n"
          ]
        }
      ]
    },
    {
      "cell_type": "markdown",
      "source": [
        "# Hyperparameter Tunning svm"
      ],
      "metadata": {
        "id": "DOM7ssVTEm0l"
      }
    },
    {
      "cell_type": "code",
      "source": [
        "param_grid = {\n",
        "    'C': [1, 10],  # Test fewer values for 'C'\n",
        "    'max_iter': [15000],  # Use one iteration value\n",
        "    'penalty': ['l2'],\n",
        "    'dual': [False],  # Reduce the options for dual\n",
        "}\n"
      ],
      "metadata": {
        "id": "ebuA0yPDDkxe"
      },
      "execution_count": 46,
      "outputs": []
    },
    {
      "cell_type": "code",
      "source": [
        "from sklearn.model_selection import RandomizedSearchCV\n",
        "from sklearn.svm import LinearSVC\n",
        "from scipy.stats import uniform\n",
        "\n",
        "# Define the parameter distribution for RandomizedSearchCV\n",
        "param_dist = {\n",
        "    'C': uniform(0.1, 100),  # Uniform distribution for C\n",
        "    'max_iter': [1000, 2000],  # Limited options for max_iter\n",
        "    'penalty': ['l2'],\n",
        "    'dual': [False],\n",
        "}\n",
        "\n",
        "# Create an SVM classifier\n",
        "svm_classifier = LinearSVC(random_state=42)\n",
        "\n",
        "# Set up RandomizedSearchCV with n_iter=10 for 10 random combinations\n",
        "random_search = RandomizedSearchCV(estimator=svm_classifier, param_distributions=param_dist,\n",
        "                                   n_iter=10, cv=3, scoring='accuracy', n_jobs=-1, random_state=42)\n",
        "\n",
        "# Fit RandomizedSearchCV with training data\n",
        "random_search.fit(X_train_vec, y_train)\n",
        "\n",
        "# Get the best parameters and the best score\n",
        "print(\"Best Hyperparameters:\", random_search.best_params_)\n",
        "print(\"Best Cross-Validation Accuracy:\", random_search.best_score_)\n",
        "\n",
        "# Make predictions with the best model\n",
        "y_pred = random_search.best_estimator_.predict(X_test_vec)\n",
        "\n",
        "# Evaluate the best model\n",
        "accuracy = accuracy_score(y_test, y_pred)\n",
        "print(f\"Accuracy: {accuracy * 100:.2f}%\\n\")\n",
        "print(\"Classification Report:\")\n",
        "print(classification_report(y_test, y_pred))\n"
      ],
      "metadata": {
        "colab": {
          "base_uri": "https://localhost:8080/"
        },
        "id": "6gLLzF0sCUtL",
        "outputId": "20a572db-298c-4f14-a10e-e64541cdd927"
      },
      "execution_count": 48,
      "outputs": [
        {
          "output_type": "stream",
          "name": "stdout",
          "text": [
            "Best Hyperparameters: {'C': 18.44347898661638, 'dual': False, 'max_iter': 2000, 'penalty': 'l2'}\n",
            "Best Cross-Validation Accuracy: 0.9942916666666667\n",
            "Accuracy: 99.62%\n",
            "\n",
            "Classification Report:\n",
            "              precision    recall  f1-score   support\n",
            "\n",
            "        fake       1.00      1.00      1.00      3043\n",
            "        real       1.00      1.00      1.00      2957\n",
            "\n",
            "    accuracy                           1.00      6000\n",
            "   macro avg       1.00      1.00      1.00      6000\n",
            "weighted avg       1.00      1.00      1.00      6000\n",
            "\n"
          ]
        }
      ]
    },
    {
      "cell_type": "markdown",
      "source": [
        "# LSTM"
      ],
      "metadata": {
        "id": "PGSBXVKMbwoJ"
      }
    },
    {
      "cell_type": "code",
      "source": [
        "!pip install tensorflow\n"
      ],
      "metadata": {
        "colab": {
          "base_uri": "https://localhost:8080/"
        },
        "id": "BzUn21wkCGNj",
        "outputId": "62d14fa5-85bc-40d8-89e9-4f6cb5f08f0c"
      },
      "execution_count": 49,
      "outputs": [
        {
          "output_type": "stream",
          "name": "stdout",
          "text": [
            "Requirement already satisfied: tensorflow in /usr/local/lib/python3.10/dist-packages (2.17.1)\n",
            "Requirement already satisfied: absl-py>=1.0.0 in /usr/local/lib/python3.10/dist-packages (from tensorflow) (1.4.0)\n",
            "Requirement already satisfied: astunparse>=1.6.0 in /usr/local/lib/python3.10/dist-packages (from tensorflow) (1.6.3)\n",
            "Requirement already satisfied: flatbuffers>=24.3.25 in /usr/local/lib/python3.10/dist-packages (from tensorflow) (24.3.25)\n",
            "Requirement already satisfied: gast!=0.5.0,!=0.5.1,!=0.5.2,>=0.2.1 in /usr/local/lib/python3.10/dist-packages (from tensorflow) (0.6.0)\n",
            "Requirement already satisfied: google-pasta>=0.1.1 in /usr/local/lib/python3.10/dist-packages (from tensorflow) (0.2.0)\n",
            "Requirement already satisfied: h5py>=3.10.0 in /usr/local/lib/python3.10/dist-packages (from tensorflow) (3.12.1)\n",
            "Requirement already satisfied: libclang>=13.0.0 in /usr/local/lib/python3.10/dist-packages (from tensorflow) (18.1.1)\n",
            "Requirement already satisfied: ml-dtypes<0.5.0,>=0.3.1 in /usr/local/lib/python3.10/dist-packages (from tensorflow) (0.4.1)\n",
            "Requirement already satisfied: opt-einsum>=2.3.2 in /usr/local/lib/python3.10/dist-packages (from tensorflow) (3.4.0)\n",
            "Requirement already satisfied: packaging in /usr/local/lib/python3.10/dist-packages (from tensorflow) (24.2)\n",
            "Requirement already satisfied: protobuf!=4.21.0,!=4.21.1,!=4.21.2,!=4.21.3,!=4.21.4,!=4.21.5,<5.0.0dev,>=3.20.3 in /usr/local/lib/python3.10/dist-packages (from tensorflow) (4.25.5)\n",
            "Requirement already satisfied: requests<3,>=2.21.0 in /usr/local/lib/python3.10/dist-packages (from tensorflow) (2.32.3)\n",
            "Requirement already satisfied: setuptools in /usr/local/lib/python3.10/dist-packages (from tensorflow) (75.1.0)\n",
            "Requirement already satisfied: six>=1.12.0 in /usr/local/lib/python3.10/dist-packages (from tensorflow) (1.17.0)\n",
            "Requirement already satisfied: termcolor>=1.1.0 in /usr/local/lib/python3.10/dist-packages (from tensorflow) (2.5.0)\n",
            "Requirement already satisfied: typing-extensions>=3.6.6 in /usr/local/lib/python3.10/dist-packages (from tensorflow) (4.12.2)\n",
            "Requirement already satisfied: wrapt>=1.11.0 in /usr/local/lib/python3.10/dist-packages (from tensorflow) (1.17.0)\n",
            "Requirement already satisfied: grpcio<2.0,>=1.24.3 in /usr/local/lib/python3.10/dist-packages (from tensorflow) (1.68.1)\n",
            "Requirement already satisfied: tensorboard<2.18,>=2.17 in /usr/local/lib/python3.10/dist-packages (from tensorflow) (2.17.1)\n",
            "Requirement already satisfied: keras>=3.2.0 in /usr/local/lib/python3.10/dist-packages (from tensorflow) (3.5.0)\n",
            "Requirement already satisfied: tensorflow-io-gcs-filesystem>=0.23.1 in /usr/local/lib/python3.10/dist-packages (from tensorflow) (0.37.1)\n",
            "Requirement already satisfied: numpy<2.0.0,>=1.23.5 in /usr/local/lib/python3.10/dist-packages (from tensorflow) (1.26.4)\n",
            "Requirement already satisfied: wheel<1.0,>=0.23.0 in /usr/local/lib/python3.10/dist-packages (from astunparse>=1.6.0->tensorflow) (0.45.1)\n",
            "Requirement already satisfied: rich in /usr/local/lib/python3.10/dist-packages (from keras>=3.2.0->tensorflow) (13.9.4)\n",
            "Requirement already satisfied: namex in /usr/local/lib/python3.10/dist-packages (from keras>=3.2.0->tensorflow) (0.0.8)\n",
            "Requirement already satisfied: optree in /usr/local/lib/python3.10/dist-packages (from keras>=3.2.0->tensorflow) (0.13.1)\n",
            "Requirement already satisfied: charset-normalizer<4,>=2 in /usr/local/lib/python3.10/dist-packages (from requests<3,>=2.21.0->tensorflow) (3.4.0)\n",
            "Requirement already satisfied: idna<4,>=2.5 in /usr/local/lib/python3.10/dist-packages (from requests<3,>=2.21.0->tensorflow) (3.10)\n",
            "Requirement already satisfied: urllib3<3,>=1.21.1 in /usr/local/lib/python3.10/dist-packages (from requests<3,>=2.21.0->tensorflow) (2.2.3)\n",
            "Requirement already satisfied: certifi>=2017.4.17 in /usr/local/lib/python3.10/dist-packages (from requests<3,>=2.21.0->tensorflow) (2024.12.14)\n",
            "Requirement already satisfied: markdown>=2.6.8 in /usr/local/lib/python3.10/dist-packages (from tensorboard<2.18,>=2.17->tensorflow) (3.7)\n",
            "Requirement already satisfied: tensorboard-data-server<0.8.0,>=0.7.0 in /usr/local/lib/python3.10/dist-packages (from tensorboard<2.18,>=2.17->tensorflow) (0.7.2)\n",
            "Requirement already satisfied: werkzeug>=1.0.1 in /usr/local/lib/python3.10/dist-packages (from tensorboard<2.18,>=2.17->tensorflow) (3.1.3)\n",
            "Requirement already satisfied: MarkupSafe>=2.1.1 in /usr/local/lib/python3.10/dist-packages (from werkzeug>=1.0.1->tensorboard<2.18,>=2.17->tensorflow) (3.0.2)\n",
            "Requirement already satisfied: markdown-it-py>=2.2.0 in /usr/local/lib/python3.10/dist-packages (from rich->keras>=3.2.0->tensorflow) (3.0.0)\n",
            "Requirement already satisfied: pygments<3.0.0,>=2.13.0 in /usr/local/lib/python3.10/dist-packages (from rich->keras>=3.2.0->tensorflow) (2.18.0)\n",
            "Requirement already satisfied: mdurl~=0.1 in /usr/local/lib/python3.10/dist-packages (from markdown-it-py>=2.2.0->rich->keras>=3.2.0->tensorflow) (0.1.2)\n"
          ]
        }
      ]
    },
    {
      "cell_type": "code",
      "source": [
        "import pandas as pd\n",
        "import numpy as np\n",
        "import tensorflow as tf\n",
        "from tensorflow.keras.models import Sequential\n",
        "from tensorflow.keras.layers import LSTM, Dense, Embedding, Dropout, Bidirectional\n",
        "from tensorflow.keras.preprocessing.text import Tokenizer\n",
        "from tensorflow.keras.preprocessing.sequence import pad_sequences\n",
        "from sklearn.model_selection import train_test_split\n",
        "\n",
        "# Load the datasets\n",
        "fake_df_sample = pd.read_csv(\"/content/processed_fake_sample.csv\")\n",
        "true_df_sample = pd.read_csv(\"/content/processed_true_sample.csv\")\n",
        "\n",
        "# Combine and label the data\n",
        "fake_df_sample['label'] = 0\n",
        "true_df_sample['label'] = 1\n",
        "\n",
        "data = pd.concat([fake_df_sample, true_df_sample], ignore_index=True)\n",
        "\n"
      ],
      "metadata": {
        "id": "hP3FSuHIV3OJ"
      },
      "execution_count": 52,
      "outputs": []
    },
    {
      "cell_type": "code",
      "source": [
        "# Preprocessing\n",
        "texts = data['text']  # Replace 'text' with the actual column containing text\n",
        "target = data['label']\n",
        "\n",
        "# Tokenization and Padding\n",
        "tokenizer = Tokenizer(num_words=10000, oov_token=\"<OOV>\")\n",
        "tokenizer.fit_on_texts(texts)\n",
        "sequences = tokenizer.texts_to_sequences(texts)\n",
        "padded_sequences = pad_sequences(sequences, maxlen=100, padding='post', truncating='post')\n",
        "\n",
        "# Train-Test Split\n",
        "X_train, X_test, y_train, y_test = train_test_split(padded_sequences, target, test_size=0.2, random_state=42)\n",
        "\n",
        "# Model Definition\n",
        "model = Sequential([\n",
        "    Embedding(input_dim=10000, output_dim=128, input_length=100),\n",
        "    Bidirectional(LSTM(64, return_sequences=True)),\n",
        "    Dropout(0.2),\n",
        "    Bidirectional(LSTM(32)),\n",
        "    Dense(32, activation='relu'),\n",
        "    Dropout(0.2),\n",
        "    Dense(1, activation='sigmoid')\n",
        "])\n",
        "\n",
        "# Compile the model\n",
        "model.compile(optimizer='adam', loss='binary_crossentropy', metrics=['accuracy'])\n",
        "\n",
        "# Train the model\n",
        "batch_size = 64\n",
        "epochs = 5\n",
        "\n",
        "model.fit(X_train, y_train, batch_size=batch_size, epochs=epochs, validation_data=(X_test, y_test))\n",
        "\n",
        "# Evaluate the model\n",
        "loss, accuracy = model.evaluate(X_test, y_test)\n",
        "print(f\"Test Loss: {loss}, Test Accuracy: {accuracy}\")"
      ],
      "metadata": {
        "colab": {
          "base_uri": "https://localhost:8080/"
        },
        "id": "Rdt9yLMiV3SD",
        "outputId": "f1f9eff9-4b93-4f8e-cf80-3e8117d1826f"
      },
      "execution_count": 53,
      "outputs": [
        {
          "output_type": "stream",
          "name": "stderr",
          "text": [
            "/usr/local/lib/python3.10/dist-packages/keras/src/layers/core/embedding.py:90: UserWarning: Argument `input_length` is deprecated. Just remove it.\n",
            "  warnings.warn(\n"
          ]
        },
        {
          "output_type": "stream",
          "name": "stdout",
          "text": [
            "Epoch 1/5\n",
            "\u001b[1m375/375\u001b[0m \u001b[32m━━━━━━━━━━━━━━━━━━━━\u001b[0m\u001b[37m\u001b[0m \u001b[1m186s\u001b[0m 472ms/step - accuracy: 0.9390 - loss: 0.1551 - val_accuracy: 0.9980 - val_loss: 0.0097\n",
            "Epoch 2/5\n",
            "\u001b[1m375/375\u001b[0m \u001b[32m━━━━━━━━━━━━━━━━━━━━\u001b[0m\u001b[37m\u001b[0m \u001b[1m204s\u001b[0m 477ms/step - accuracy: 0.9995 - loss: 0.0033 - val_accuracy: 0.9982 - val_loss: 0.0103\n",
            "Epoch 3/5\n",
            "\u001b[1m375/375\u001b[0m \u001b[32m━━━━━━━━━━━━━━━━━━━━\u001b[0m\u001b[37m\u001b[0m \u001b[1m167s\u001b[0m 446ms/step - accuracy: 0.9995 - loss: 0.0035 - val_accuracy: 0.9983 - val_loss: 0.0104\n",
            "Epoch 4/5\n",
            "\u001b[1m375/375\u001b[0m \u001b[32m━━━━━━━━━━━━━━━━━━━━\u001b[0m\u001b[37m\u001b[0m \u001b[1m210s\u001b[0m 468ms/step - accuracy: 0.9996 - loss: 0.0019 - val_accuracy: 0.9983 - val_loss: 0.0093\n",
            "Epoch 5/5\n",
            "\u001b[1m375/375\u001b[0m \u001b[32m━━━━━━━━━━━━━━━━━━━━\u001b[0m\u001b[37m\u001b[0m \u001b[1m202s\u001b[0m 538ms/step - accuracy: 0.9999 - loss: 5.9887e-04 - val_accuracy: 0.9952 - val_loss: 0.0269\n",
            "\u001b[1m188/188\u001b[0m \u001b[32m━━━━━━━━━━━━━━━━━━━━\u001b[0m\u001b[37m\u001b[0m \u001b[1m13s\u001b[0m 69ms/step - accuracy: 0.9944 - loss: 0.0334\n",
            "Test Loss: 0.026919767260551453, Test Accuracy: 0.9951666593551636\n"
          ]
        }
      ]
    },
    {
      "cell_type": "code",
      "source": [
        "model.save(\"lstm_model.h5\")\n"
      ],
      "metadata": {
        "colab": {
          "base_uri": "https://localhost:8080/"
        },
        "id": "vnf0GRptZS0D",
        "outputId": "fbfce1bf-2332-4180-8d2a-c3eca0ea044f"
      },
      "execution_count": 54,
      "outputs": [
        {
          "output_type": "stream",
          "name": "stderr",
          "text": [
            "WARNING:absl:You are saving your model as an HDF5 file via `model.save()` or `keras.saving.save_model(model)`. This file format is considered legacy. We recommend using instead the native Keras format, e.g. `model.save('my_model.keras')` or `keras.saving.save_model(model, 'my_model.keras')`. \n"
          ]
        }
      ]
    },
    {
      "cell_type": "code",
      "source": [
        "new_texts = [\"This is a sample text for testing.\", \"Another test sample.\"]\n",
        "new_sequences = tokenizer.texts_to_sequences(new_texts)\n",
        "new_padded = pad_sequences(new_sequences, maxlen=100, padding='post', truncating='post')\n",
        "\n",
        "predictions = model.predict(new_padded)\n",
        "print(predictions)  # Outputs probabilities\n"
      ],
      "metadata": {
        "colab": {
          "base_uri": "https://localhost:8080/"
        },
        "id": "OqT2b7FvZS_y",
        "outputId": "bef61a0c-b77d-4f7e-a0f8-d2e5d89a4940"
      },
      "execution_count": 56,
      "outputs": [
        {
          "output_type": "stream",
          "name": "stdout",
          "text": [
            "\u001b[1m1/1\u001b[0m \u001b[32m━━━━━━━━━━━━━━━━━━━━\u001b[0m\u001b[37m\u001b[0m \u001b[1m1s\u001b[0m 762ms/step\n",
            "[[2.0803114e-05]\n",
            " [1.7708937e-05]]\n"
          ]
        }
      ]
    },
    {
      "cell_type": "code",
      "source": [
        "binary_predictions = [1 if p > 0.5 else 0 for p in predictions]\n",
        "print(binary_predictions)\n"
      ],
      "metadata": {
        "colab": {
          "base_uri": "https://localhost:8080/"
        },
        "id": "msZW_CtMZTCv",
        "outputId": "42e66f3e-f116-417c-c9d3-64f1a5533eda"
      },
      "execution_count": 57,
      "outputs": [
        {
          "output_type": "stream",
          "name": "stdout",
          "text": [
            "[0, 0]\n"
          ]
        }
      ]
    },
    {
      "cell_type": "markdown",
      "source": [
        "# Bidirectional LSTM"
      ],
      "metadata": {
        "id": "1k6U73PvbJRn"
      }
    },
    {
      "cell_type": "code",
      "source": [
        "import pandas as pd\n",
        "import numpy as np\n",
        "import tensorflow as tf\n",
        "from tensorflow.keras.models import Sequential\n",
        "from tensorflow.keras.layers import LSTM, Dense, Embedding, Dropout, Bidirectional\n",
        "from tensorflow.keras.preprocessing.text import Tokenizer\n",
        "from tensorflow.keras.preprocessing.sequence import pad_sequences\n",
        "from sklearn.model_selection import train_test_split\n",
        "\n",
        "# Load the datasets\n",
        "fake_df_sample = pd.read_csv(\"/content/processed_fake_sample.csv\")\n",
        "true_df_sample = pd.read_csv(\"/content/processed_true_sample.csv\")\n",
        "\n",
        "# Combine and label the data\n",
        "fake_df_sample['label'] = 0\n",
        "true_df_sample['label'] = 1\n",
        "\n",
        "data = pd.concat([fake_df_sample, true_df_sample], ignore_index=True)\n",
        "\n",
        "# Preprocessing\n",
        "texts = data['text']  # Replace 'text' with the actual column containing text\n",
        "target = data['label']\n"
      ],
      "metadata": {
        "id": "IuzYNIsiZqsj"
      },
      "execution_count": 61,
      "outputs": []
    },
    {
      "cell_type": "code",
      "source": [
        "# Tokenization and Padding\n",
        "tokenizer = Tokenizer(num_words=10000, oov_token=\"<OOV>\")\n",
        "tokenizer.fit_on_texts(texts)\n",
        "sequences = tokenizer.texts_to_sequences(texts)\n",
        "padded_sequences = pad_sequences(sequences, maxlen=100, padding='post', truncating='post')\n",
        "\n",
        "# Train-Test Split\n",
        "X_train, X_test, y_train, y_test = train_test_split(padded_sequences, target, test_size=0.2, random_state=42)\n",
        "\n",
        "# Model Definition\n",
        "model = Sequential([\n",
        "    Embedding(input_dim=10000, output_dim=128, input_length=100),\n",
        "    Bidirectional(LSTM(64, return_sequences=True)),\n",
        "    Dropout(0.2),\n",
        "    Bidirectional(LSTM(32)),\n",
        "    Dense(32, activation='relu'),\n",
        "    Dropout(0.2),\n",
        "    Dense(1, activation='sigmoid')\n",
        "])\n",
        "\n",
        "# Compile the model\n",
        "model.compile(optimizer='adam', loss='binary_crossentropy', metrics=['accuracy'])\n",
        "\n",
        "# Train the model\n",
        "batch_size = 64\n",
        "epochs = 5\n",
        "\n",
        "model.fit(X_train, y_train, batch_size=batch_size, epochs=epochs, validation_data=(X_test, y_test))\n"
      ],
      "metadata": {
        "colab": {
          "base_uri": "https://localhost:8080/"
        },
        "id": "AwbjGQqZbDiy",
        "outputId": "34c298d0-4a91-4f58-9c84-45c90444830a"
      },
      "execution_count": 62,
      "outputs": [
        {
          "output_type": "stream",
          "name": "stderr",
          "text": [
            "/usr/local/lib/python3.10/dist-packages/keras/src/layers/core/embedding.py:90: UserWarning: Argument `input_length` is deprecated. Just remove it.\n",
            "  warnings.warn(\n"
          ]
        },
        {
          "output_type": "stream",
          "name": "stdout",
          "text": [
            "Epoch 1/5\n",
            "\u001b[1m375/375\u001b[0m \u001b[32m━━━━━━━━━━━━━━━━━━━━\u001b[0m\u001b[37m\u001b[0m \u001b[1m213s\u001b[0m 513ms/step - accuracy: 0.9163 - loss: 0.1663 - val_accuracy: 0.9988 - val_loss: 0.0079\n",
            "Epoch 2/5\n",
            "\u001b[1m375/375\u001b[0m \u001b[32m━━━━━━━━━━━━━━━━━━━━\u001b[0m\u001b[37m\u001b[0m \u001b[1m179s\u001b[0m 451ms/step - accuracy: 0.9993 - loss: 0.0046 - val_accuracy: 0.9985 - val_loss: 0.0070\n",
            "Epoch 3/5\n",
            "\u001b[1m375/375\u001b[0m \u001b[32m━━━━━━━━━━━━━━━━━━━━\u001b[0m\u001b[37m\u001b[0m \u001b[1m213s\u001b[0m 480ms/step - accuracy: 0.9998 - loss: 0.0013 - val_accuracy: 0.9987 - val_loss: 0.0086\n",
            "Epoch 4/5\n",
            "\u001b[1m375/375\u001b[0m \u001b[32m━━━━━━━━━━━━━━━━━━━━\u001b[0m\u001b[37m\u001b[0m \u001b[1m185s\u001b[0m 493ms/step - accuracy: 0.9997 - loss: 0.0017 - val_accuracy: 0.9983 - val_loss: 0.0118\n",
            "Epoch 5/5\n",
            "\u001b[1m375/375\u001b[0m \u001b[32m━━━━━━━━━━━━━━━━━━━━\u001b[0m\u001b[37m\u001b[0m \u001b[1m226s\u001b[0m 558ms/step - accuracy: 0.9997 - loss: 0.0019 - val_accuracy: 0.9983 - val_loss: 0.0104\n"
          ]
        },
        {
          "output_type": "execute_result",
          "data": {
            "text/plain": [
              "<keras.src.callbacks.history.History at 0x7ac2699e1c00>"
            ]
          },
          "metadata": {},
          "execution_count": 62
        }
      ]
    },
    {
      "cell_type": "code",
      "source": [
        "# Evaluate the model\n",
        "loss, accuracy = model.evaluate(X_test, y_test)\n",
        "print(f\"Test Loss: {loss}, Test Accuracy: {accuracy}\")\n",
        "\n",
        "# Code for Bidirectional LSTM Prediction\n",
        "new_texts = [\"This is a test sentence.\", \"Another test for the model.\"]\n",
        "new_sequences = tokenizer.texts_to_sequences(new_texts)\n",
        "new_padded = pad_sequences(new_sequences, maxlen=100, padding='post', truncating='post')\n",
        "\n",
        "predictions = model.predict(new_padded)\n",
        "print(\"Predictions:\", predictions)\n",
        "\n",
        "# Convert predictions to binary labels\n",
        "binary_predictions = [1 if p > 0.5 else 0 for p in predictions]\n",
        "print(\"Binary Predictions:\", binary_predictions)"
      ],
      "metadata": {
        "colab": {
          "base_uri": "https://localhost:8080/"
        },
        "id": "5A8YnUKhbDly",
        "outputId": "73f33145-a564-4eb0-c611-717a06259bfd"
      },
      "execution_count": 63,
      "outputs": [
        {
          "output_type": "stream",
          "name": "stdout",
          "text": [
            "\u001b[1m188/188\u001b[0m \u001b[32m━━━━━━━━━━━━━━━━━━━━\u001b[0m\u001b[37m\u001b[0m \u001b[1m15s\u001b[0m 77ms/step - accuracy: 0.9983 - loss: 0.0099\n",
            "Test Loss: 0.01035792101174593, Test Accuracy: 0.9983333349227905\n",
            "\u001b[1m1/1\u001b[0m \u001b[32m━━━━━━━━━━━━━━━━━━━━\u001b[0m\u001b[37m\u001b[0m \u001b[1m1s\u001b[0m 628ms/step\n",
            "Predictions: [[3.203767e-05]\n",
            " [3.460982e-05]]\n",
            "Binary Predictions: [0, 0]\n"
          ]
        }
      ]
    },
    {
      "cell_type": "markdown",
      "source": [
        "Stacked LSTM"
      ],
      "metadata": {
        "id": "O-zWuHALxj8f"
      }
    },
    {
      "cell_type": "code",
      "source": [
        "import pandas as pd\n",
        "import numpy as np\n",
        "import tensorflow as tf\n",
        "from tensorflow.keras.models import Sequential\n",
        "from tensorflow.keras.layers import LSTM, Dense, Embedding, Dropout, Bidirectional\n",
        "from tensorflow.keras.preprocessing.text import Tokenizer\n",
        "from tensorflow.keras.preprocessing.sequence import pad_sequences\n",
        "from sklearn.model_selection import train_test_split"
      ],
      "metadata": {
        "id": "m_lj-UqDbDpA"
      },
      "execution_count": 59,
      "outputs": []
    },
    {
      "cell_type": "code",
      "source": [
        "# Load the datasets\n",
        "fake_df_sample = pd.read_csv(\"/content/processed_fake_sample.csv\")\n",
        "true_df_sample = pd.read_csv(\"/content/processed_true_sample.csv\")\n",
        "\n",
        "# Combine and label the data\n",
        "fake_df_sample['label'] = 0\n",
        "true_df_sample['label'] = 1\n",
        "\n",
        "data = pd.concat([fake_df_sample, true_df_sample], ignore_index=True)\n",
        "\n",
        "# Preprocessing\n",
        "texts = data['text']  # Replace 'text' with the actual column containing text\n",
        "target = data['label']\n"
      ],
      "metadata": {
        "id": "H7Fy8ixJu9mm"
      },
      "execution_count": 60,
      "outputs": []
    },
    {
      "cell_type": "code",
      "source": [
        "\n",
        "\n",
        "# Tokenization and Padding\n",
        "tokenizer = Tokenizer(num_words=10000, oov_token=\"<OOV>\")\n",
        "tokenizer.fit_on_texts(texts)\n",
        "sequences = tokenizer.texts_to_sequences(texts)\n",
        "padded_sequences = pad_sequences(sequences, maxlen=100, padding='post', truncating='post')\n",
        "\n",
        "# Train-Test Split\n",
        "X_train, X_test, y_train, y_test = train_test_split(padded_sequences, target, test_size=0.2, random_state=42)\n",
        "\n",
        "# Stacked LSTM Model Definition\n",
        "model = Sequential([\n",
        "    Embedding(input_dim=10000, output_dim=128, input_length=100),\n",
        "    LSTM(128, return_sequences=True),\n",
        "    Dropout(0.2),\n",
        "    LSTM(64, return_sequences=True),\n",
        "    Dropout(0.2),\n",
        "    LSTM(32),\n",
        "    Dense(32, activation='relu'),\n",
        "    Dropout(0.2),\n",
        "    Dense(1, activation='sigmoid')\n",
        "])\n",
        "\n",
        "# Compile the model\n",
        "model.compile(optimizer='adam', loss='binary_crossentropy', metrics=['accuracy'])\n",
        "\n",
        "# Train the model\n",
        "batch_size = 64\n",
        "epochs = 5\n",
        "\n",
        "model.fit(X_train, y_train, batch_size=batch_size, epochs=epochs, validation_data=(X_test, y_test))\n",
        "\n",
        "\n"
      ],
      "metadata": {
        "colab": {
          "base_uri": "https://localhost:8080/"
        },
        "id": "LvINwhmtfdkx",
        "outputId": "9e862d76-68f9-4d3e-d300-4af76d576342"
      },
      "execution_count": 61,
      "outputs": [
        {
          "output_type": "stream",
          "name": "stdout",
          "text": [
            "Epoch 1/5\n"
          ]
        },
        {
          "output_type": "stream",
          "name": "stderr",
          "text": [
            "/usr/local/lib/python3.10/dist-packages/keras/src/layers/core/embedding.py:90: UserWarning: Argument `input_length` is deprecated. Just remove it.\n",
            "  warnings.warn(\n"
          ]
        },
        {
          "output_type": "stream",
          "name": "stdout",
          "text": [
            "\u001b[1m125/125\u001b[0m \u001b[32m━━━━━━━━━━━━━━━━━━━━\u001b[0m\u001b[37m\u001b[0m \u001b[1m68s\u001b[0m 491ms/step - accuracy: 0.7029 - loss: 0.5410 - val_accuracy: 0.7690 - val_loss: 0.4630\n",
            "Epoch 2/5\n",
            "\u001b[1m125/125\u001b[0m \u001b[32m━━━━━━━━━━━━━━━━━━━━\u001b[0m\u001b[37m\u001b[0m \u001b[1m82s\u001b[0m 493ms/step - accuracy: 0.7831 - loss: 0.4548 - val_accuracy: 0.7755 - val_loss: 0.4557\n",
            "Epoch 3/5\n",
            "\u001b[1m125/125\u001b[0m \u001b[32m━━━━━━━━━━━━━━━━━━━━\u001b[0m\u001b[37m\u001b[0m \u001b[1m86s\u001b[0m 523ms/step - accuracy: 0.7880 - loss: 0.4428 - val_accuracy: 0.6470 - val_loss: 0.5800\n",
            "Epoch 4/5\n",
            "\u001b[1m125/125\u001b[0m \u001b[32m━━━━━━━━━━━━━━━━━━━━\u001b[0m\u001b[37m\u001b[0m \u001b[1m77s\u001b[0m 480ms/step - accuracy: 0.6639 - loss: 0.5766 - val_accuracy: 0.6455 - val_loss: 0.5827\n",
            "Epoch 5/5\n",
            "\u001b[1m125/125\u001b[0m \u001b[32m━━━━━━━━━━━━━━━━━━━━\u001b[0m\u001b[37m\u001b[0m \u001b[1m83s\u001b[0m 486ms/step - accuracy: 0.7088 - loss: 0.5329 - val_accuracy: 0.8350 - val_loss: 0.4326\n"
          ]
        },
        {
          "output_type": "execute_result",
          "data": {
            "text/plain": [
              "<keras.src.callbacks.history.History at 0x797808923730>"
            ]
          },
          "metadata": {},
          "execution_count": 61
        }
      ]
    },
    {
      "cell_type": "code",
      "source": [
        "# Evaluate the model\n",
        "loss, accuracy = model.evaluate(X_test, y_test)\n",
        "print(f\"Test Loss: {loss}, Test Accuracy: {accuracy}\")\n",
        "\n",
        "# Code for Stacked LSTM Prediction\n",
        "new_texts = [\"This is a test sentence.\", \"Another test for the model.\"]\n",
        "new_sequences = tokenizer.texts_to_sequences(new_texts)\n",
        "new_padded = pad_sequences(new_sequences, maxlen=100, padding='post', truncating='post')\n",
        "\n",
        "predictions = model.predict(new_padded)\n",
        "print(\"Predictions:\", predictions)\n",
        "\n",
        "# Convert predictions to binary labels\n",
        "binary_predictions = [1 if p > 0.5 else 0 for p in predictions]\n",
        "print(\"Binary Predictions:\", binary_predictions)"
      ],
      "metadata": {
        "colab": {
          "base_uri": "https://localhost:8080/"
        },
        "id": "SMod7k4VfdoY",
        "outputId": "19d007cf-fa6d-43bd-edba-d92bcb169ad0"
      },
      "execution_count": 62,
      "outputs": [
        {
          "output_type": "stream",
          "name": "stdout",
          "text": [
            "\u001b[1m63/63\u001b[0m \u001b[32m━━━━━━━━━━━━━━━━━━━━\u001b[0m\u001b[37m\u001b[0m \u001b[1m7s\u001b[0m 107ms/step - accuracy: 0.8368 - loss: 0.4283\n",
            "Test Loss: 0.43264299631118774, Test Accuracy: 0.8349999785423279\n",
            "\u001b[1m1/1\u001b[0m \u001b[32m━━━━━━━━━━━━━━━━━━━━\u001b[0m\u001b[37m\u001b[0m \u001b[1m0s\u001b[0m 468ms/step\n",
            "Predictions: [[0.7644936 ]\n",
            " [0.76449454]]\n",
            "Binary Predictions: [1, 1]\n"
          ]
        }
      ]
    },
    {
      "cell_type": "markdown",
      "source": [],
      "metadata": {
        "id": "JSfkLqMLxwOg"
      }
    },
    {
      "cell_type": "code",
      "source": [
        "# Train-Test Split\n",
        "X_train, X_test, y_train, y_test = train_test_split(padded_sequences, target, test_size=0.2, random_state=42)\n",
        "\n",
        "# Model Definition\n",
        "model = Sequential([\n",
        "    Embedding(input_dim=10000, output_dim=128, input_length=100),\n",
        "    Bidirectional(LSTM(64, return_sequences=True, dropout=0.2, recurrent_dropout=0.2)),\n",
        "    Dropout(0.2),\n",
        "    Bidirectional(LSTM(32, dropout=0.2, recurrent_dropout=0.2)),\n",
        "    Dense(32, activation='relu'),\n",
        "    Dropout(0.2),\n",
        "    Dense(1, activation='sigmoid')\n",
        "])\n",
        "\n",
        "# Compile the model\n",
        "model.compile(optimizer='adam', loss='binary_crossentropy', metrics=['accuracy'])\n",
        "\n",
        "# Train the model\n",
        "batch_size = 64\n",
        "epochs = 5\n",
        "\n",
        "model.fit(X_train, y_train, batch_size=batch_size, epochs=epochs, validation_data=(X_test, y_test))\n"
      ],
      "metadata": {
        "colab": {
          "base_uri": "https://localhost:8080/"
        },
        "id": "vUnqEum3fdrd",
        "outputId": "e7e141be-4269-4282-892b-b26cf8fd9720"
      },
      "execution_count": 63,
      "outputs": [
        {
          "output_type": "stream",
          "name": "stdout",
          "text": [
            "Epoch 1/5\n",
            "\u001b[1m125/125\u001b[0m \u001b[32m━━━━━━━━━━━━━━━━━━━━\u001b[0m\u001b[37m\u001b[0m \u001b[1m92s\u001b[0m 645ms/step - accuracy: 0.8983 - loss: 0.3300 - val_accuracy: 0.9985 - val_loss: 0.0114\n",
            "Epoch 2/5\n",
            "\u001b[1m125/125\u001b[0m \u001b[32m━━━━━━━━━━━━━━━━━━━━\u001b[0m\u001b[37m\u001b[0m \u001b[1m56s\u001b[0m 436ms/step - accuracy: 0.9989 - loss: 0.0082 - val_accuracy: 0.9985 - val_loss: 0.0089\n",
            "Epoch 3/5\n",
            "\u001b[1m125/125\u001b[0m \u001b[32m━━━━━━━━━━━━━━━━━━━━\u001b[0m\u001b[37m\u001b[0m \u001b[1m63s\u001b[0m 504ms/step - accuracy: 0.9984 - loss: 0.0100 - val_accuracy: 0.9985 - val_loss: 0.0105\n",
            "Epoch 4/5\n",
            "\u001b[1m125/125\u001b[0m \u001b[32m━━━━━━━━━━━━━━━━━━━━\u001b[0m\u001b[37m\u001b[0m \u001b[1m75s\u001b[0m 450ms/step - accuracy: 0.9991 - loss: 0.0072 - val_accuracy: 0.9985 - val_loss: 0.0104\n",
            "Epoch 5/5\n",
            "\u001b[1m125/125\u001b[0m \u001b[32m━━━━━━━━━━━━━━━━━━━━\u001b[0m\u001b[37m\u001b[0m \u001b[1m55s\u001b[0m 438ms/step - accuracy: 0.9997 - loss: 0.0015 - val_accuracy: 0.9990 - val_loss: 0.0093\n",
            "\u001b[1m63/63\u001b[0m \u001b[32m━━━━━━━━━━━━━━━━━━━━\u001b[0m\u001b[37m\u001b[0m \u001b[1m4s\u001b[0m 58ms/step - accuracy: 0.9989 - loss: 0.0099\n",
            "Test Loss: 0.009272175841033459, Test Accuracy: 0.9990000128746033\n",
            "\u001b[1m1/1\u001b[0m \u001b[32m━━━━━━━━━━━━━━━━━━━━\u001b[0m\u001b[37m\u001b[0m \u001b[1m1s\u001b[0m 1s/step\n",
            "Predictions: [[4.6530055e-05]\n",
            " [4.1190982e-05]]\n",
            "Binary Predictions: [0, 0]\n"
          ]
        }
      ]
    },
    {
      "cell_type": "code",
      "source": [
        "# Evaluate the model\n",
        "loss, accuracy = model.evaluate(X_test, y_test)\n",
        "print(f\"Test Loss: {loss}, Test Accuracy: {accuracy}\")\n",
        "\n",
        "# Code for Bidirectional LSTM Prediction\n",
        "new_texts = [\"This is a test sentence.\", \"Another test for the model.\"]\n",
        "new_sequences = tokenizer.texts_to_sequences(new_texts)\n",
        "new_padded = pad_sequences(new_sequences, maxlen=100, padding='post', truncating='post')\n",
        "\n",
        "predictions = model.predict(new_padded)\n",
        "print(\"Predictions:\", predictions)\n",
        "\n",
        "# Convert predictions to binary labels\n",
        "binary_predictions = [1 if p > 0.5 else 0 for p in predictions]\n",
        "print(\"Binary Predictions:\", binary_predictions)"
      ],
      "metadata": {
        "colab": {
          "base_uri": "https://localhost:8080/"
        },
        "id": "sFiU_9PkyIzN",
        "outputId": "4a8387d1-ad9c-427d-f379-fc40cacc3384"
      },
      "execution_count": 64,
      "outputs": [
        {
          "output_type": "stream",
          "name": "stdout",
          "text": [
            "\u001b[1m63/63\u001b[0m \u001b[32m━━━━━━━━━━━━━━━━━━━━\u001b[0m\u001b[37m\u001b[0m \u001b[1m4s\u001b[0m 55ms/step - accuracy: 0.9989 - loss: 0.0099\n",
            "Test Loss: 0.009272175841033459, Test Accuracy: 0.9990000128746033\n",
            "\u001b[1m1/1\u001b[0m \u001b[32m━━━━━━━━━━━━━━━━━━━━\u001b[0m\u001b[37m\u001b[0m \u001b[1m0s\u001b[0m 56ms/step\n",
            "Predictions: [[4.6530055e-05]\n",
            " [4.1190982e-05]]\n",
            "Binary Predictions: [0, 0]\n"
          ]
        }
      ]
    },
    {
      "cell_type": "code",
      "source": [
        "from tensorflow.keras.models import Sequential\n",
        "from tensorflow.keras.layers import GRU, Dense, Embedding, Dropout, Bidirectional\n",
        "from tensorflow.keras.preprocessing.text import Tokenizer\n",
        "from tensorflow.keras.preprocessing.sequence import pad_sequences\n",
        "from sklearn.model_selection import train_test_split\n"
      ],
      "metadata": {
        "id": "QRgXaUNzy_pH"
      },
      "execution_count": 65,
      "outputs": []
    },
    {
      "cell_type": "code",
      "source": [
        "# Load the datasets\n",
        "fake_df_sample = pd.read_csv(\"/content/processed_fake_sample.csv\")\n",
        "true_df_sample = pd.read_csv(\"/content/processed_true_sample.csv\")\n",
        "\n",
        "# Combine and label the data\n",
        "fake_df_sample['label'] = 0\n",
        "true_df_sample['label'] = 1\n",
        "\n",
        "data = pd.concat([fake_df_sample, true_df_sample], ignore_index=True)\n",
        "\n",
        "# Preprocessing\n",
        "texts = data['text']  # Replace 'text' with the actual column containing text\n",
        "target = data['label']\n",
        "\n",
        "# Tokenization and Padding\n",
        "tokenizer = Tokenizer(num_words=10000, oov_token=\"<OOV>\")\n",
        "tokenizer.fit_on_texts(texts)\n",
        "sequences = tokenizer.texts_to_sequences(texts)\n",
        "padded_sequences = pad_sequences(sequences, maxlen=100, padding='post', truncating='post')"
      ],
      "metadata": {
        "id": "52ms4hWIzlKo"
      },
      "execution_count": 66,
      "outputs": []
    },
    {
      "cell_type": "code",
      "source": [
        "# Train-Test Split\n",
        "X_train, X_test, y_train, y_test = train_test_split(padded_sequences, target, test_size=0.2, random_state=42)\n",
        "\n",
        "# Model Definition\n",
        "model = Sequential([\n",
        "    Embedding(input_dim=10000, output_dim=128, input_length=100),\n",
        "    Bidirectional(GRU(64, return_sequences=True)),\n",
        "    Dropout(0.2),\n",
        "    Bidirectional(GRU(32)),\n",
        "    Dense(32, activation='relu'),\n",
        "    Dropout(0.2),\n",
        "    Dense(1, activation='sigmoid')\n",
        "])\n",
        "\n",
        "# Compile the model\n",
        "model.compile(optimizer='adam', loss='binary_crossentropy', metrics=['accuracy'])\n",
        "\n",
        "# Train the model\n",
        "batch_size = 64\n",
        "epochs = 5\n",
        "\n",
        "model.fit(X_train, y_train, batch_size=batch_size, epochs=epochs, validation_data=(X_test, y_test))"
      ],
      "metadata": {
        "colab": {
          "base_uri": "https://localhost:8080/"
        },
        "id": "mOmU5O_ty_gP",
        "outputId": "4e64349d-3c77-4f12-e250-1f0cc0d8b494"
      },
      "execution_count": 67,
      "outputs": [
        {
          "output_type": "stream",
          "name": "stdout",
          "text": [
            "Epoch 1/5\n"
          ]
        },
        {
          "output_type": "stream",
          "name": "stderr",
          "text": [
            "/usr/local/lib/python3.10/dist-packages/keras/src/layers/core/embedding.py:90: UserWarning: Argument `input_length` is deprecated. Just remove it.\n",
            "  warnings.warn(\n"
          ]
        },
        {
          "output_type": "stream",
          "name": "stdout",
          "text": [
            "\u001b[1m125/125\u001b[0m \u001b[32m━━━━━━━━━━━━━━━━━━━━\u001b[0m\u001b[37m\u001b[0m \u001b[1m65s\u001b[0m 461ms/step - accuracy: 0.9016 - loss: 0.2946 - val_accuracy: 0.9975 - val_loss: 0.0156\n",
            "Epoch 2/5\n",
            "\u001b[1m125/125\u001b[0m \u001b[32m━━━━━━━━━━━━━━━━━━━━\u001b[0m\u001b[37m\u001b[0m \u001b[1m60s\u001b[0m 477ms/step - accuracy: 0.9981 - loss: 0.0097 - val_accuracy: 0.9990 - val_loss: 0.0095\n",
            "Epoch 3/5\n",
            "\u001b[1m125/125\u001b[0m \u001b[32m━━━━━━━━━━━━━━━━━━━━\u001b[0m\u001b[37m\u001b[0m \u001b[1m77s\u001b[0m 440ms/step - accuracy: 0.9992 - loss: 0.0032 - val_accuracy: 0.9990 - val_loss: 0.0096\n",
            "Epoch 4/5\n",
            "\u001b[1m125/125\u001b[0m \u001b[32m━━━━━━━━━━━━━━━━━━━━\u001b[0m\u001b[37m\u001b[0m \u001b[1m84s\u001b[0m 458ms/step - accuracy: 0.9993 - loss: 0.0042 - val_accuracy: 0.9980 - val_loss: 0.0127\n",
            "Epoch 5/5\n",
            "\u001b[1m125/125\u001b[0m \u001b[32m━━━━━━━━━━━━━━━━━━━━\u001b[0m\u001b[37m\u001b[0m \u001b[1m84s\u001b[0m 473ms/step - accuracy: 1.0000 - loss: 4.1918e-04 - val_accuracy: 0.9985 - val_loss: 0.0137\n"
          ]
        },
        {
          "output_type": "execute_result",
          "data": {
            "text/plain": [
              "<keras.src.callbacks.history.History at 0x797808ca5f30>"
            ]
          },
          "metadata": {},
          "execution_count": 67
        }
      ]
    },
    {
      "cell_type": "code",
      "source": [
        "# Evaluate the model\n",
        "loss, accuracy = model.evaluate(X_test, y_test)\n",
        "print(f\"Test Loss: {loss}, Test Accuracy: {accuracy}\")\n",
        "\n",
        "# Code for Bidirectional GRU Prediction\n",
        "new_texts = [\"This is a test sentence.\", \"Another test for the model.\"]\n",
        "new_sequences = tokenizer.texts_to_sequences(new_texts)\n",
        "new_padded = pad_sequences(new_sequences, maxlen=100, padding='post', truncating='post')\n",
        "\n",
        "predictions = model.predict(new_padded)\n",
        "print(\"Predictions:\", predictions)\n",
        "\n",
        "# Convert predictions to binary labels\n",
        "binary_predictions = [1 if p > 0.5 else 0 for p in predictions]\n",
        "print(\"Binary Predictions:\", binary_predictions)"
      ],
      "metadata": {
        "colab": {
          "base_uri": "https://localhost:8080/"
        },
        "id": "DvwCAJkOzulj",
        "outputId": "76611e15-ddd4-412d-8df5-5b48ec80c84b"
      },
      "execution_count": 68,
      "outputs": [
        {
          "output_type": "stream",
          "name": "stdout",
          "text": [
            "\u001b[1m63/63\u001b[0m \u001b[32m━━━━━━━━━━━━━━━━━━━━\u001b[0m\u001b[37m\u001b[0m \u001b[1m3s\u001b[0m 50ms/step - accuracy: 0.9982 - loss: 0.0151\n",
            "Test Loss: 0.013694636523723602, Test Accuracy: 0.9984999895095825\n",
            "\u001b[1m1/1\u001b[0m \u001b[32m━━━━━━━━━━━━━━━━━━━━\u001b[0m\u001b[37m\u001b[0m \u001b[1m1s\u001b[0m 1s/step\n",
            "Predictions: [[2.4200713e-06]\n",
            " [2.1731523e-06]]\n",
            "Binary Predictions: [0, 0]\n"
          ]
        }
      ]
    },
    {
      "cell_type": "code",
      "source": [
        "from nltk.tokenize import wordpunct_tokenize\n",
        "import pandas as pd\n",
        "fake_path = '/content/processed_fake_sample.csv'\n",
        "true_path = '/content/processed_true_sample.csv'\n",
        "fake_df = pd.read_csv(fake_path)\n",
        "true_df = pd.read_csv(true_path)\n",
        "print(\"LemmatizedFake Dataset:\")\n",
        "print(fake_df.head(3))\n",
        "print(\"\\nLemmatizedTrue Dataset:\")\n",
        "print(true_df.head(3))\n",
        "import pandas as pd\n",
        "from nltk.tokenize import wordpunct_tokenize\n",
        "\n",
        "fake_path = '/content/processed_fake_sample.csv'\n",
        "fake_df = pd.read_csv(fake_path)\n",
        "\n",
        "# Iterate through the 'text' column of the first 3 rows\n",
        "for text in fake_df['text'].head(3):  # Assuming 'text' is the column name\n",
        "    tokens = wordpunct_tokenize(text)\n",
        "    print(tokens)\n",
        "\n",
        "\n"
      ],
      "metadata": {
        "id": "x5PeoQbC1Z3y"
      },
      "execution_count": 70,
      "outputs": []
    },
    {
      "source": [
        "import pandas as pd\n",
        "from nltk.tokenize import wordpunct_tokenize\n",
        "\n",
        "fake_path = '/content/processed_fake_sample.csv'\n",
        "fake_df = pd.read_csv(fake_path)\n",
        "\n",
        "# Iterate through the 'text' column of the first 3 rows\n",
        "for text in fake_df['text'].head(3):  # Assuming 'text' is the column name\n",
        "    tokens = wordpunct_tokenize(text)\n",
        "    print(tokens)"
      ],
      "cell_type": "code",
      "metadata": {
        "colab": {
          "base_uri": "https://localhost:8080/"
        },
        "id": "q0OpEMa519YJ",
        "outputId": "d1992ddb-eaab-4340-bd7c-954bb3c09b66"
      },
      "execution_count": 73,
      "outputs": [
        {
          "output_type": "stream",
          "name": "stdout",
          "text": [
            "['it', 's', 'too', 'late', 'for', 'these', 'countries', 'who', 've', 'been', 'invaded', 'by', 'mostly', 'young', 'muslim', 'male', 'refugees', 'to', 'turn', 'back', 'the', 'clock', '.', 'bavaria', 'is', 'now', 'being', 'forced', 'to', 'do', 'whatever', 'they', 'can', 'to', 'fight', 'back', 'against', 'terrorism', 'in', 'their', 'own', 'backyards', '.', 'you', 'can', 't', 'allow', 'millions', 'of', 'unchecked', 'muslim', 'men', 'to', 'invade', 'your', 'sovereignty', 'without', 'paying', 'an', 'enormous', 'price', '.', 'asking', 'refugees', 'to', 'police', 'refugees', 'is', 'like', 'asking', 'prisoners', 'in', 'a', 'jail', 'to', 'police', 'themselves', '.', 'when', 'mostly', 'muslim', 'men', 'have', 'invaded', 'a', 'majority', 'catholic', 'state', ',', 'and', 'are', 'now', 'being', 'asked', 'to', 'police', 'its', 'citizens', ',', 'what', 'could', 'possible', 'go', 'wrong', '?', 'migrants', 'will', 'be', 'increasingly', 'recruited', 'as', 'police', 'officers', 'those', 'with', 'and', 'without', 'german', 'passports', '.', 'interior', 'minister', 'herrmann', 'hopes', 'this', 'will', 'produce', 'a', 'greater', 'clear', '-', 'up', 'rate', 'and', 'a', 'de', '-', 'escalation', 'of', 'violence', '.', 'the', 'failures', 'in', 'the', 'investigations', 'of', 'the', 'nsu', 'terror', 'group', 'have', 'increased', 'these', 'efforts', '.', 'bavaria', 'will', 'increasingly', 'employ', 'police', 'officers', 'with', 'foreign', 'roots', '.', 'experience', 'has', 'shown', 'that', 'they', 'have', 'a', 'more', 'direct', 'line', 'to', 'people', 'of', 'immigrant', 'origin', ',', 'as', 'they', 'speak', 'their', 'language', 'and', 'know', 'their', 'mentality', 'better', ',', 'said', 'interior', 'minister', 'joachim', 'herrmann', '(', 'csu', ')', 'on', 'monday', 'in', 'nuremberg', '.', 'i', 'hope', 'this', 'will', 'help', 'police', 'achieve', 'better', 'clear', '-', 'up', 'rates', 'and', 'conflict', 'resolution', '.', 'via', ':', 'merkur', '.', 'dethis', 'is', 'insane', '.', 'i', 'can', 'see', 'many', 'europeans', 'rightly', 'refusing', 'to', 'acknowledge', 'the', 'authority', 'of', 'police', 'officers', 'who', 'are', 'foreigners', 'and', 'don', 't', 'even', 'have', 'citizenship', '.', 'rt', 'in', 'october', ',', '2015', ',', 'bavarian', 'interior', 'minister', 'threatened', 'to', 'file', 'a', 'constitutional', 'complaint', 'against', 'the', 'federal', 'government', 'unless', 'it', 'would', 'implement', 'efficient', 'measures', 'to', 'curb', 'the', 'influx', 'of', 'refugees', '.', 'the', 'bavarian', 'government', 'stepped', 'up', 'pressure', 'on', 'angela', 'merkel', 's', 'cabinet', ',', 'demanding', 'that', 'the', 'german', 'government', 'drop', 'its', 'policy', 'of', 'welcoming', 'an', 'unlimited', 'number', 'of', 'refugees', '.', 'if', 'effective', 'measures', 'are', 'not', 'taken', 'to', 'deal', 'with', 'the', 'crisis', ',', 'bavaria', 'will', 'take', 'the', 'matter', 'to', 'the', 'constitutional', 'court', 'and', 'charge', 'the', 'german', 'government', 'with', 'endangering', 'the', 'legal', 'capacity', 'of', 'the', 'german', 'states', 'to', 'act', 'independently', ',', 'bavarian', 'interior', 'minister', 'joachim', 'herrmann', 'announced', 'after', 'an', 'emergency', 'meeting', 'of', 'the', 'bavarian', 'government', 'on', 'friday', '.', 'one', '[', 'the', 'german', 'government', ']', 'does', 'not', 'comply', 'with', 'the', 'law', 'and', 'the', 'other', '[', 'bavaria', ']', 'wants', 'the', 'law', 'to', 'be', 'complied', 'with', ',', 'bavarian', 'prime', 'minister', 'horst', 'seehofer', 'said', ',', 'commenting', 'on', 'the', 'decision', 'at', 'the', 'press', 'conference', 'following', 'the', 'meeting', '.', 'listen', 'here', ':']\n",
            "['dr', '.', 'gina', 'loudon', 'is', 'hands', 'down', 'one', 'of', 'our', 'favorite', 'conservative', 'writers', '.', 'she', 'nails', 'it', 'with', 'this', 'piece', 'about', 'the', 'truth', 'behind', 'the', 'lies', 'of', 'the', 'california', 'drought', 'i', 'found', 'it', 'supremely', 'ironic', 'this', 'week', 'that', 'two', 'of', 'the', 'big', 'stories', 'were', 'about', 'a', 'man', '-', 'made', 'lack', 'of', 'water', 'in', 'california', ',', 'and', 'a', 'man', 'lost', 'in', 'a', 'vast', 'sea', 'off', 'of', 'florida', '.', 'gov', '.', 'jerry', 'moonbeam', 'brown', 'announced', 'the', 'dire', 'circumstances', ',', 'not', 'from', 'the', 'capitol', 'in', 'sacramento', ',', 'but', 'from', 'the', 'dramatic', 'backdrop', 'of', 'a', 'mountaintop', '.', 'his', 'narrative', 'held', 'that', 'there', 'should', 'be', 'five', 'feet', 'of', 'snow', 'pack', ',', 'but', 'alas', ',', 'there', 'was', 'none', '.', 'brown', ',', 'and', 'the', 'radical', 'marxists', ',', 'couched', 'as', 'environmentalists', 'he', 'represents', ',', 'have', 'convinced', 'most', 'americans', 'to', 'hold', 'two', 'radically', 'opposing', 'views', 'simultaneously', '.', 'ostensibly', ',', 'california', 'is', 'in', 'danger', 'of', 'being', 'flooded', 'by', 'rising', 'sea', 'levels', 'caused', 'by', 'global', 'warming', 'and', 'melting', 'polar', 'ice', 'caps', ',', 'and', 'it', 'is', 'also', 'utterly', 'out', 'of', 'water', '.', 'there', 'is', 'no', 'shortage', 'of', 'water', '.', 'this', 'is', 'an', 'environmentalist', '-', 'created', 'drought', 'that', 'is', 'costing', 'billions', '.', 'i', 'waver', 'between', 'utter', 'disgust', 'and', 'admiration', 'when', 'i', 'watch', 'how', 'the', 'leftists', 'sell', 'these', 'things', ',', 'always', 'with', 'straight', 'faces', '.', 'every', 'major', 'news', 'outlet', 'in', 'america', 'and', 'many', 'around', 'the', 'world', 'swallowed', 'the', 'narrative', 'like', 'fish', 'on', 'a', 'baited', 'hook', '.', 'they', 'tell', 'us', 'there', 'is', 'no', 'water', ',', 'no', 'snow', 'to', 'provide', 'water', 'for', 'the', 'summer', ',', 'and', 'the', 'farmers', 'are', 'taking', 'too', 'much', 'so', 'people', 'must', 'suffer', '.', 'there', 'is', 'an', 'all', '-', 'out', 'war', 'on', 'grass', ',', 'and', 'no', 'one', 'is', 'safe', '.', 'sorry', ',', 'shaggy', ',', 'your', 'grass', 'is', 'to', 'blame', 'as', 'well', '.', 'there', 'is', 'hand', 'wringing', 'in', 'every', 'club', 'house', 'as', 'the', 'boards', 'are', 'told', 'they', 'are', 'coming', 'for', 'the', 'rough', 'grass', ',', 'your', 'fairways', 'and', 'greens', 'are', 'safe', ',', 'for', 'now', '.', 'evil', 'rich', 'guys', 'in', 'colorful', 'knickers', 'and', 'almond', 'farmers', 'in', 'overalls', 'are', 'the', 'scourge', 'of', 'california', '.', 'off', 'with', 'their', 'heads', '!', 'oh', ',', 'and', 'you', 'can', 'forget', 'about', 'the', 'luxury', 'of', 'children', 'playing', 'on', 'the', 'lawn', '.', 'if', 'you', 'want', 'that', ',', 'you', 'breeders', 'should', 'move', 'to', 'flyover', 'land', '!', 'don', 't', 'you', 'dare', 'sneak', 'and', 'water', 'the', 'backyard', 'after', 'dark', ';', 'brown', 'makes', 'it', 'easy', 'for', 'your', 'neighbors', 'to', 'snitch', 'on', 'you', '.', 'i', 'm', 'not', 'making', 'this', 'up', '.', 'they', 'really', 'have', 'a', 'state', 'hotline', 'for', 'that', '.', 'those', 'of', 'us', 'who', 'pay', 'attention', 'know', 'well', 'the', 'proverb', ',', 'where', 'there', 'is', 'no', 'vision', ',', 'the', 'people', 'perish', '.', 'the', 'people', 'who', 'built', 'california', 'into', 'the', 'greatest', 'agricultural', 'producer', 'in', 'america', 'gave', 'us', 'dams', ',', 'canals', ',', 'reservoirs', 'and', 'all', 'kinds', 'of', 'conveyance', 'of', 'water', '.', 'they', 'harnessed', 'the', 'rivers', 'that', 'reach', 'from', 'the', 'pacific', 'northwest', 'down', 'well', 'into', 'northern', 'california', 'and', 'even', 'draw', 'water', 'to', 'the', 'golden', 'state', 'from', 'the', 'colorado', 'river', '.', 'that', 'was', 'then', '.', 'nothing', 'has', 'changed', 'since', 'then', ',', 'except', 'political', 'power', '.', 'for', 'the', 'last', 'several', 'decades', ',', 'the', 'radical', 'fringe', 'has', 'taken', 'full', 'control', 'of', 'california', ',', 'and', 'it', 'hates', 'people', '.', 'dennis', 'prager', 'observed', 'that', 'statists', 'love', 'humanity', 'but', 'hate', 'humans', '.', 'watch', 'how', 'they', 'latch', 'onto', 'dreams', 'of', 'egalitarian', 'states', 'but', 'begin', 'the', 'execution', 'of', 'their', 'plans', 'by', 'marginalizing', ',', 'isolating', 'and', 'then', 'executing', 'anyone', 'who', 'disagrees', 'with', 'them', '.', 'they', 'dine', 'in', 'the', 'finest', 'restaurants', 'in', 'san', 'francisco', ',', 'the', 'likes', 'of', 'brown', ',', 'pelosi', ',', 'boxer', 'and', 'feinstein', ',', 'planning', 'lawsuits', 'to', 'cut', 'the', 'flow', 'of', 'water', 'to', 'the', 'farms', 'of', 'central', 'california', 'and', 'the', 'people', 'in', 'southern', 'california', ',', 'caring', 'not', 'a', 'wit', 'that', '40', ',', '000', 'agricultural', 'workers', ',', 'mostly', 'hispanic', ',', 'are', 'unemployed', '.', 'just', 'this', 'week', ',', 'in', 'the', 'middle', 'of', 'a', 'human', 'crisis', ',', 'federal', 'fish', 'agents', 'ordered', 'the', 'release', 'of', 'billions', 'of', 'gallons', 'of', 'water', 'purportedly', 'to', 'save', 'six', 'fish', '.', 'you', 'read', 'that', 'right', '.', 'not', 'to', 'save', 'six', 'species', 'of', 'fish', ',', 'but', 'literally', ',', 'six', 'fish', '.', 'apparently', ',', 'these', 'special', 'six', 'stood', 'their', ',', 'err', 'ground', ',', 'and', 'when', '29', 'of', 'their', 'compadres', 'rode', 'the', '10', 'billion', 'gallon', 'man', '-', 'made', 'wave', 'to', 'the', 'ocean', 'in', 'march', ',', 'they', 'refused', 'to', 'go', 'with', 'the', 'flow', '(', 'sorry', ').', 'you', 'can', 't', 'make', 'this', 'stuff', 'up', '.', 'but', 'when', 'you', 'do', ',', 'people', 'actually', 'believe', 'it', '.', 'so', 'obama', 'administration', 'agents', 'want', 'a', 'second', 'toilet', 'flush', 'to', 'give', 'these', 'hard', '-', 'headed', 'steelheads', 'a', 'second', 'nudge', '.', 'the', 'idea', 'that', 'nature', 'itself', 'may', 'be', 'holding', 'the', 'fish', 'where', 'they', 'are', 'is', 'of', 'no', 'concern', 'to', 'statists', 'who', 'love', 'telling', 'both', 'man', 'and', 'beast', 'what', 'they', 'think', 'is', 'good', 'for', 'them', '.', 'sadly', ',', 'this', 'latest', 'mind', '-', 'boggling', 'atrocity', 'is', 'getting', 'very', 'little', 'media', 'coverage', '.', 'i', 'found', 'excellent', 'coverage', 'in', 'the', 'manteca', 'bulletin', '.', 'why', 'hasn', 't', 'the', 'los', 'angeles', 'times', 'reported', 'on', 'this', '?', 'the', 'current', 'shortage', 'is', 'based', 'primarily', 'on', 'the', 'release', 'of', 'billions', 'of', 'gallons', 'daily', 'into', 'the', 'san', 'francisco', 'bay', 'to', 'sustain', 'the', 'bait', 'fish', 'known', 'as', 'the', 'delta', 'smelt', '.', 'this', 'is', 'a', 'simple', 'distribution', 'issue', ';', 'there', 'is', 'plenty', 'of', 'water', '.', 'prior', 'to', 'the', 'statists', 'taking', 'over', 'california', ',', 'massive', 'pumps', 'were', 'diverting', 'water', 'from', 'rivers', 'into', 'the', 'canal', 'system', '(', 'built', 'before', 'brown', 'and', 'his', 'ilk', 'took', 'control', 'of', 'the', 'state', ').', 'they', 'have', 'all', 'but', 'turned', 'these', 'pumps', 'off', 'to', 'protect', 'the', 'fish', 'from', 'their', 'darwinian', 'demise', ',', 'and', 'billions', 'upon', 'billions', 'of', 'gallons', 'of', 'fresh', 'water', 'is', 'continuously', 'dumped', 'into', 'the', 'ocean', '.', 'for', 'the', 'people', '-', 'hating', 'san', 'francisco', 'cabal', ',', 'cutting', 'off', 'water', 'from', 'the', 'people', 'is', 'the', 'real', 'goal', '.', 'they', 'want', 'fewer', 'people', 'to', 'begin', 'with', ',', 'but', 'the', 'ultimate', 'goal', 'is', 'control', '.', 'few', 'environmentalists', 'admit', 'it', 'publicly', ',', 'but', 'they', 'want', 'zero', 'farming', 'in', 'the', 'central', 'valley', ',', 'preferring', 'to', 'allow', 'land', 'to', 'return', 'to', 'its', 'prehistoric', 'state', '.', 'the', 'cabal', 'wants', 'to', 'control', 'water', 'so', 'they', 'can', 'control', 'people', '.', 'brown', 'is', 'just', 'the', 'messenger', 'today', '.', 'he', 'is', 'telling', 'america', 'that', 'water', 'access', 'is', 'a', 'privilege', ',', 'he', 'has', 'the', 'power', 'to', 'pick', 'winners', 'and', 'losers', ',', 'and', 'we', 'have', 'to', 'just', 'take', 'it', '.', 'if', 'brown', 'decides', 'tomorrow', 'that', 'he', 'wants', 'to', 'withhold', 'water', 'from', 'almond', 'farmers', ',', 'americans', 'will', 'just', 'have', 'to', 'accept', 'it', '.', 'have', 'you', 'ever', 'wondered', 'why', 'any', 'business', 'owner', 'would', 'give', 'campaign', 'donations', 'to', 'marxist', ',', 'business', '-', 'hating', 'politicians', '?', 'now', 'you', 'know', 'why', '.', 'they', 'must', 'give', 'to', 'buy', 'protection', '.', 'business', 'owners', 'do', 'not', 'donate', 'to', 'brown', ',', 'pelosi', 'or', 'harry', 'reid', 'because', 'those', 'politicians', 'are', 'good', 'for', 'business', ';', 'they', 'give', 'to', 'be', 'sure', 'they', 'are', 'not', 'the', 'next', 'targets', '.', 'the', 'problem', 'with', 'all', 'of', 'this', 'is', 'that', 'water', 'is', 'a', 'limitless', 'natural', 'resource', '.', 'just', 'ask', 'the', 'sailor', 'who', 'faced', 'drowning', 'daily', 'or', 'the', 'people', 'in', 'the', 'midwest', 'who', 'were', 'deluged', 'this', 'week', '.', 'it', 'is', 'one', 'thing', 'to', 'argue', 'for', 'conservation', 'of', 'animals', ',', 'or', 'even', 'trees', ',', 'or', 'green', 'space', ',', 'but', 'water', '?', 'water', 'is', 'a', 'limitless', 'natural', 'resource', '.', 'not', 'even', 'the', 'most', 'self', '-', 'important', 'leftist', 'believes', 'he', 'could', 'make', 'water', 'go', 'away', ',', 'no', 'matter', 'how', 'hard', 'he', 'tried', '.', 'how', 'did', 'they', 'convince', 'us', 'to', 'accept', 'this', 'lie', '?', 'they', 'got', 'us', 'to', 'buy', 'the', 'lie', 'that', 'water', 'is', 'scarce', 'by', 'telling', 'it', 'often', 'enough', 'and', 'pounding', 'it', 'into', 'generations', 'of', 'schoolchildren', '.', 'using', 'federal', 'law', 'and', 'acts', 'of', 'congress', ',', 'they', 'forced', 'people', 'from', 'water', '-', 'soaked', 'regions', 'to', 'accept', 'low', 'flush', 'or', 'what', 'some', 'call', 'two', 'flush', 'toilets', 'the', 'same', 'as', 'desert', '-', 'dwelling', 'californians', '.', 'and', 'we', 'fell', 'for', 'it', '.', 'at', 'least', 'the', 'democrats', 'among', 'us', 'fell', 'for', 'it', '.', 'thus', 'it', 'is', 'that', 'brown', 'got', 'to', 'have', 'his', 'cake', 'and', 'eat', 'it', ',', 'too', '.', 'he', 'told', 'californians', ',', 'and', 'really', 'all', 'americans', 'and', 'the', 'world', ',', 'that', 'lack', 'of', 'water', 'was', 'not', 'his', 'fault', 'for', 'lacking', 'the', 'vision', 'to', 'feed', 'the', 'distribution', 'system', 'created', 'by', 'the', 'real', 'men', 'who', 'built', 'california', '.', 'he', 'repeats', 'that', 'it', 'is', 'not', 'the', 'fault', 'of', 'the', 'marxists', 'endangered', 'species', 'act', 'that', 'prefers', 'hard', '-', 'headed', 'fish', 'over', 'people', '.', 'the', 'lack', 'of', 'water', 'is', 'the', 'result', 'of', 'the', 'lack', 'of', 'snow', 'pack', ',', 'which', 'is', 'the', 'result', 'of', 'climate', 'change', ',', 'which', 'is', 'the', 'result', 'of', 'greedy', 'people', 'being', 'well', ',', 'people', '.', 'the', 'delta', 'smelt', 'and', 'steelhead', 'trout', 'must', 'live', 'and', 'we', 'mere', 'humans', 'should', 'all', 'just', 'die', '.', 'meanwhile', ',', 'jerry', 'brown', 'is', 'committed', 'to', 'spending', '$', '100', 'billion', 'for', 'trains', ',', 'but', 'he', 'has', 'made', 'zero', 'commitment', 'to', 'allowing', 'water', 'to', 'flow', 'to', 'people', 'instead', 'of', 'fish', ',', 'and', 'zero', 'commitment', 'to', 'finding', 'funding', 'for', 'his', 'twin', 'tunnels', 'alternate', 'solution', '.', 'and', 'why', 'would', 'he', '?', 'we', 'are', 'cutting', 'back', 'our', 'water', 'use', ',', 'ratting', 'on', 'our', 'neighbors', 'and', 'accepting', 'higher', 'produce', 'prices', 'across', 'america', '.', 'the', 'marxists', 'in', 'san', 'francisco', 'are', 'toasting', 'total', 'victory', '.', 'the', 'farmers', 'and', 'country', 'club', 'board', 'members', 'are', 'suing', 'for', 'peace', '.', 'lord', 'help', 'usvia', ':', 'wnd']\n",
            "['the', 'clinton', 'grifters', 'will', 'take', 'money', 'from', 'just', 'about', 'anyone', 'even', 'promoters', 'of', 'terror', '.', 'the', 'report', 'below', 'should', 'tell', 'you', 'all', 'you', 'need', 'to', 'know', 'about', 'the', 'influence', 'peddlers', 'that', 'really', 'have', 'sold', 'out', 'the', 'american', 'people', '.', 'do', 'you', 'want', 'these', 'two', 'in', 'the', 'white', 'house', 'again', '?', 'former', 'president', 'bill', 'clinton', 'collected', '$', '5', '.', '6', 'million', 'in', 'fees', 'from', 'gems', 'education', ',', 'a', 'dubai', '-', 'based', 'company', 'that', 'teaches', 'sharia', 'law', 'through', 'its', 'network', 'of', 'more', 'than', '100', 'schools', 'in', 'the', 'middle', 'east', ',', 'asia', 'and', 'africa', ',', 'according', 'to', 'a', 'daily', 'caller', 'news', 'foundation', 'investigation', '.', 'the', 'company', 's', 'finances', 'strictly', 'adhere', 'to', 'sharia', 'finance', ',', 'which', 'includes', 'giving', 'zakat', ',', 'a', 'religious', 'tax', 'of', 'which', 'one', '-', 'eighth', 'of', 'the', 'proceeds', 'is', 'dedicated', 'to', 'funding', 'islamic', 'jihad', '.', 'the', 'company', 'also', 'contributed', 'millions', 'of', 'dollars', 'to', 'the', 'clinton', 'foundation', '.', 'the', 'former', 'president', 'served', 'as', 'honorary', 'chairman', 'for', 'gems', 'education', 'from', '2011', 'to', '2014', ',', 'according', 'to', 'federal', 'tax', 'returns', 'he', 'filed', 'with', 'his', 'wife', ',', '2016', 'democratic', 'presidential', 'nominee', 'hillary', 'clinton', '.', 'his', 'biggest', 'paycheck', 'from', 'the', 'closely', '-', 'held', 'company', 'which', 'is', 'incorporated', 'in', 'the', 'cayman', 'islands', 'was', 'in', '2014', 'when', 'he', 'pocketed', '$', '2', '.', '1', 'million', '.', 'it', 'is', 'unclear', 'if', 'bill', 'received', 'income', 'from', 'the', 'middle', 'eastern', 'firm', 'in', '2015', ',', 'since', 'hillary', 'has', 'not', 'yet', 'released', 'her', 'tax', 'return', 'for', 'that', 'year', '.', 'read', 'more', ':', 'daily', 'caller']\n"
          ]
        }
      ]
    }
  ]
}