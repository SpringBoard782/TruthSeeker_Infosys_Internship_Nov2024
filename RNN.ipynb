{
  "nbformat": 4,
  "nbformat_minor": 0,
  "metadata": {
    "colab": {
      "provenance": []
    },
    "kernelspec": {
      "name": "python3",
      "display_name": "Python 3"
    },
    "language_info": {
      "name": "python"
    }
  },
  "cells": [
    {
      "cell_type": "markdown",
      "source": [
        "#Data Preprocessing"
      ],
      "metadata": {
        "id": "bOBkMMrpNYH0"
      }
    },
    {
      "cell_type": "code",
      "execution_count": null,
      "metadata": {
        "id": "lA93PuC2q0QP"
      },
      "outputs": [],
      "source": [
        "import pandas as pd"
      ]
    },
    {
      "cell_type": "code",
      "source": [
        "df = pd.read_csv('/content/drive/MyDrive/Truth_Seeker/cleaned_master_data.csv')\n",
        "df"
      ],
      "metadata": {
        "colab": {
          "base_uri": "https://localhost:8080/",
          "height": 444
        },
        "id": "kNmMBkMMyXAa",
        "outputId": "fb3f0b88-983a-4241-9d47-c6ee2835ef6a"
      },
      "execution_count": null,
      "outputs": [
        {
          "output_type": "execute_result",
          "data": {
            "text/plain": [
              "                                                   title  \\\n",
              "0      \\r\\r\\r\\r\\r\\r\\r\\nDonald Trump Gets His A Handed...   \n",
              "1      \\r\\r\\r\\r\\r\\r\\r\\nExGOP Congressman Shreds Fello...   \n",
              "2      \\r\\r\\r\\r\\r\\r\\r\\nTrump Gets STOMPED For Whining...   \n",
              "3      \\r\\r\\r\\r\\r\\r\\r\\nWATCH Democratic Rep Delivers ...   \n",
              "4       AfterTrumpImplodes Hashtag Hilariously Imagin...   \n",
              "...                                                  ...   \n",
              "76456                                            Unknown   \n",
              "76457                                            Unknown   \n",
              "76458                                            Unknown   \n",
              "76459                                            Unknown   \n",
              "76460                                            Unknown   \n",
              "\n",
              "                                                    text  label  subject  \\\n",
              "0      A 10yearold girl smacked down Donald Trump and...      0     News   \n",
              "1      At this point every Republican who refuses to ...      0     News   \n",
              "2      Donald Trump has been attacking President Obam...      0     News   \n",
              "3      Massachusetts Rep Jim McGovern brought the Hou...      0     News   \n",
              "4      What will the world be like postDonald Trump A...      0     News   \n",
              "...                                                  ...    ...      ...   \n",
              "76456       you shouldve been swallowed you inbred swine      0  Unknown   \n",
              "76457  Do I know the risk involved in reporting on su...      0  Unknown   \n",
              "76458  If conservative Christians are about Jesus Chr...      0  Unknown   \n",
              "76459  Jesus will save his soul not his body Ignorant...      0  Unknown   \n",
              "76460                                  Leach Say no more      0  Unknown   \n",
              "\n",
              "       text_length                                    lemmatized_text  \n",
              "0             2566  yearold girl smacked donald trump amazingon sa...  \n",
              "1             1925  point every republican refuse spine stand dona...  \n",
              "2             3389  donald trump attacking president obama campaig...  \n",
              "3             3358  massachusetts rep jim mcgovern brought house s...  \n",
              "4             3092  world like postdonald trump new hashtag aftert...  \n",
              "...            ...                                                ...  \n",
              "76456           44                    shouldve swallowed inbred swine  \n",
              "76457          127  know risk involved reporting thing reporting t...  \n",
              "76458         2556  conservative christian jesus christ always see...  \n",
              "76459           60           jesus save soul body ignorant piece shit  \n",
              "76460           17                                          leach say  \n",
              "\n",
              "[76461 rows x 6 columns]"
            ],
            "text/html": [
              "\n",
              "  <div id=\"df-519599ae-6082-4a64-aa7c-bb5a80be9aa5\" class=\"colab-df-container\">\n",
              "    <div>\n",
              "<style scoped>\n",
              "    .dataframe tbody tr th:only-of-type {\n",
              "        vertical-align: middle;\n",
              "    }\n",
              "\n",
              "    .dataframe tbody tr th {\n",
              "        vertical-align: top;\n",
              "    }\n",
              "\n",
              "    .dataframe thead th {\n",
              "        text-align: right;\n",
              "    }\n",
              "</style>\n",
              "<table border=\"1\" class=\"dataframe\">\n",
              "  <thead>\n",
              "    <tr style=\"text-align: right;\">\n",
              "      <th></th>\n",
              "      <th>title</th>\n",
              "      <th>text</th>\n",
              "      <th>label</th>\n",
              "      <th>subject</th>\n",
              "      <th>text_length</th>\n",
              "      <th>lemmatized_text</th>\n",
              "    </tr>\n",
              "  </thead>\n",
              "  <tbody>\n",
              "    <tr>\n",
              "      <th>0</th>\n",
              "      <td>\\r\\r\\r\\r\\r\\r\\r\\nDonald Trump Gets His A Handed...</td>\n",
              "      <td>A 10yearold girl smacked down Donald Trump and...</td>\n",
              "      <td>0</td>\n",
              "      <td>News</td>\n",
              "      <td>2566</td>\n",
              "      <td>yearold girl smacked donald trump amazingon sa...</td>\n",
              "    </tr>\n",
              "    <tr>\n",
              "      <th>1</th>\n",
              "      <td>\\r\\r\\r\\r\\r\\r\\r\\nExGOP Congressman Shreds Fello...</td>\n",
              "      <td>At this point every Republican who refuses to ...</td>\n",
              "      <td>0</td>\n",
              "      <td>News</td>\n",
              "      <td>1925</td>\n",
              "      <td>point every republican refuse spine stand dona...</td>\n",
              "    </tr>\n",
              "    <tr>\n",
              "      <th>2</th>\n",
              "      <td>\\r\\r\\r\\r\\r\\r\\r\\nTrump Gets STOMPED For Whining...</td>\n",
              "      <td>Donald Trump has been attacking President Obam...</td>\n",
              "      <td>0</td>\n",
              "      <td>News</td>\n",
              "      <td>3389</td>\n",
              "      <td>donald trump attacking president obama campaig...</td>\n",
              "    </tr>\n",
              "    <tr>\n",
              "      <th>3</th>\n",
              "      <td>\\r\\r\\r\\r\\r\\r\\r\\nWATCH Democratic Rep Delivers ...</td>\n",
              "      <td>Massachusetts Rep Jim McGovern brought the Hou...</td>\n",
              "      <td>0</td>\n",
              "      <td>News</td>\n",
              "      <td>3358</td>\n",
              "      <td>massachusetts rep jim mcgovern brought house s...</td>\n",
              "    </tr>\n",
              "    <tr>\n",
              "      <th>4</th>\n",
              "      <td>AfterTrumpImplodes Hashtag Hilariously Imagin...</td>\n",
              "      <td>What will the world be like postDonald Trump A...</td>\n",
              "      <td>0</td>\n",
              "      <td>News</td>\n",
              "      <td>3092</td>\n",
              "      <td>world like postdonald trump new hashtag aftert...</td>\n",
              "    </tr>\n",
              "    <tr>\n",
              "      <th>...</th>\n",
              "      <td>...</td>\n",
              "      <td>...</td>\n",
              "      <td>...</td>\n",
              "      <td>...</td>\n",
              "      <td>...</td>\n",
              "      <td>...</td>\n",
              "    </tr>\n",
              "    <tr>\n",
              "      <th>76456</th>\n",
              "      <td>Unknown</td>\n",
              "      <td>you shouldve been swallowed you inbred swine</td>\n",
              "      <td>0</td>\n",
              "      <td>Unknown</td>\n",
              "      <td>44</td>\n",
              "      <td>shouldve swallowed inbred swine</td>\n",
              "    </tr>\n",
              "    <tr>\n",
              "      <th>76457</th>\n",
              "      <td>Unknown</td>\n",
              "      <td>Do I know the risk involved in reporting on su...</td>\n",
              "      <td>0</td>\n",
              "      <td>Unknown</td>\n",
              "      <td>127</td>\n",
              "      <td>know risk involved reporting thing reporting t...</td>\n",
              "    </tr>\n",
              "    <tr>\n",
              "      <th>76458</th>\n",
              "      <td>Unknown</td>\n",
              "      <td>If conservative Christians are about Jesus Chr...</td>\n",
              "      <td>0</td>\n",
              "      <td>Unknown</td>\n",
              "      <td>2556</td>\n",
              "      <td>conservative christian jesus christ always see...</td>\n",
              "    </tr>\n",
              "    <tr>\n",
              "      <th>76459</th>\n",
              "      <td>Unknown</td>\n",
              "      <td>Jesus will save his soul not his body Ignorant...</td>\n",
              "      <td>0</td>\n",
              "      <td>Unknown</td>\n",
              "      <td>60</td>\n",
              "      <td>jesus save soul body ignorant piece shit</td>\n",
              "    </tr>\n",
              "    <tr>\n",
              "      <th>76460</th>\n",
              "      <td>Unknown</td>\n",
              "      <td>Leach Say no more</td>\n",
              "      <td>0</td>\n",
              "      <td>Unknown</td>\n",
              "      <td>17</td>\n",
              "      <td>leach say</td>\n",
              "    </tr>\n",
              "  </tbody>\n",
              "</table>\n",
              "<p>76461 rows × 6 columns</p>\n",
              "</div>\n",
              "    <div class=\"colab-df-buttons\">\n",
              "\n",
              "  <div class=\"colab-df-container\">\n",
              "    <button class=\"colab-df-convert\" onclick=\"convertToInteractive('df-519599ae-6082-4a64-aa7c-bb5a80be9aa5')\"\n",
              "            title=\"Convert this dataframe to an interactive table.\"\n",
              "            style=\"display:none;\">\n",
              "\n",
              "  <svg xmlns=\"http://www.w3.org/2000/svg\" height=\"24px\" viewBox=\"0 -960 960 960\">\n",
              "    <path d=\"M120-120v-720h720v720H120Zm60-500h600v-160H180v160Zm220 220h160v-160H400v160Zm0 220h160v-160H400v160ZM180-400h160v-160H180v160Zm440 0h160v-160H620v160ZM180-180h160v-160H180v160Zm440 0h160v-160H620v160Z\"/>\n",
              "  </svg>\n",
              "    </button>\n",
              "\n",
              "  <style>\n",
              "    .colab-df-container {\n",
              "      display:flex;\n",
              "      gap: 12px;\n",
              "    }\n",
              "\n",
              "    .colab-df-convert {\n",
              "      background-color: #E8F0FE;\n",
              "      border: none;\n",
              "      border-radius: 50%;\n",
              "      cursor: pointer;\n",
              "      display: none;\n",
              "      fill: #1967D2;\n",
              "      height: 32px;\n",
              "      padding: 0 0 0 0;\n",
              "      width: 32px;\n",
              "    }\n",
              "\n",
              "    .colab-df-convert:hover {\n",
              "      background-color: #E2EBFA;\n",
              "      box-shadow: 0px 1px 2px rgba(60, 64, 67, 0.3), 0px 1px 3px 1px rgba(60, 64, 67, 0.15);\n",
              "      fill: #174EA6;\n",
              "    }\n",
              "\n",
              "    .colab-df-buttons div {\n",
              "      margin-bottom: 4px;\n",
              "    }\n",
              "\n",
              "    [theme=dark] .colab-df-convert {\n",
              "      background-color: #3B4455;\n",
              "      fill: #D2E3FC;\n",
              "    }\n",
              "\n",
              "    [theme=dark] .colab-df-convert:hover {\n",
              "      background-color: #434B5C;\n",
              "      box-shadow: 0px 1px 3px 1px rgba(0, 0, 0, 0.15);\n",
              "      filter: drop-shadow(0px 1px 2px rgba(0, 0, 0, 0.3));\n",
              "      fill: #FFFFFF;\n",
              "    }\n",
              "  </style>\n",
              "\n",
              "    <script>\n",
              "      const buttonEl =\n",
              "        document.querySelector('#df-519599ae-6082-4a64-aa7c-bb5a80be9aa5 button.colab-df-convert');\n",
              "      buttonEl.style.display =\n",
              "        google.colab.kernel.accessAllowed ? 'block' : 'none';\n",
              "\n",
              "      async function convertToInteractive(key) {\n",
              "        const element = document.querySelector('#df-519599ae-6082-4a64-aa7c-bb5a80be9aa5');\n",
              "        const dataTable =\n",
              "          await google.colab.kernel.invokeFunction('convertToInteractive',\n",
              "                                                    [key], {});\n",
              "        if (!dataTable) return;\n",
              "\n",
              "        const docLinkHtml = 'Like what you see? Visit the ' +\n",
              "          '<a target=\"_blank\" href=https://colab.research.google.com/notebooks/data_table.ipynb>data table notebook</a>'\n",
              "          + ' to learn more about interactive tables.';\n",
              "        element.innerHTML = '';\n",
              "        dataTable['output_type'] = 'display_data';\n",
              "        await google.colab.output.renderOutput(dataTable, element);\n",
              "        const docLink = document.createElement('div');\n",
              "        docLink.innerHTML = docLinkHtml;\n",
              "        element.appendChild(docLink);\n",
              "      }\n",
              "    </script>\n",
              "  </div>\n",
              "\n",
              "\n",
              "<div id=\"df-b638c4db-3a15-4831-94b4-513746c0fabb\">\n",
              "  <button class=\"colab-df-quickchart\" onclick=\"quickchart('df-b638c4db-3a15-4831-94b4-513746c0fabb')\"\n",
              "            title=\"Suggest charts\"\n",
              "            style=\"display:none;\">\n",
              "\n",
              "<svg xmlns=\"http://www.w3.org/2000/svg\" height=\"24px\"viewBox=\"0 0 24 24\"\n",
              "     width=\"24px\">\n",
              "    <g>\n",
              "        <path d=\"M19 3H5c-1.1 0-2 .9-2 2v14c0 1.1.9 2 2 2h14c1.1 0 2-.9 2-2V5c0-1.1-.9-2-2-2zM9 17H7v-7h2v7zm4 0h-2V7h2v10zm4 0h-2v-4h2v4z\"/>\n",
              "    </g>\n",
              "</svg>\n",
              "  </button>\n",
              "\n",
              "<style>\n",
              "  .colab-df-quickchart {\n",
              "      --bg-color: #E8F0FE;\n",
              "      --fill-color: #1967D2;\n",
              "      --hover-bg-color: #E2EBFA;\n",
              "      --hover-fill-color: #174EA6;\n",
              "      --disabled-fill-color: #AAA;\n",
              "      --disabled-bg-color: #DDD;\n",
              "  }\n",
              "\n",
              "  [theme=dark] .colab-df-quickchart {\n",
              "      --bg-color: #3B4455;\n",
              "      --fill-color: #D2E3FC;\n",
              "      --hover-bg-color: #434B5C;\n",
              "      --hover-fill-color: #FFFFFF;\n",
              "      --disabled-bg-color: #3B4455;\n",
              "      --disabled-fill-color: #666;\n",
              "  }\n",
              "\n",
              "  .colab-df-quickchart {\n",
              "    background-color: var(--bg-color);\n",
              "    border: none;\n",
              "    border-radius: 50%;\n",
              "    cursor: pointer;\n",
              "    display: none;\n",
              "    fill: var(--fill-color);\n",
              "    height: 32px;\n",
              "    padding: 0;\n",
              "    width: 32px;\n",
              "  }\n",
              "\n",
              "  .colab-df-quickchart:hover {\n",
              "    background-color: var(--hover-bg-color);\n",
              "    box-shadow: 0 1px 2px rgba(60, 64, 67, 0.3), 0 1px 3px 1px rgba(60, 64, 67, 0.15);\n",
              "    fill: var(--button-hover-fill-color);\n",
              "  }\n",
              "\n",
              "  .colab-df-quickchart-complete:disabled,\n",
              "  .colab-df-quickchart-complete:disabled:hover {\n",
              "    background-color: var(--disabled-bg-color);\n",
              "    fill: var(--disabled-fill-color);\n",
              "    box-shadow: none;\n",
              "  }\n",
              "\n",
              "  .colab-df-spinner {\n",
              "    border: 2px solid var(--fill-color);\n",
              "    border-color: transparent;\n",
              "    border-bottom-color: var(--fill-color);\n",
              "    animation:\n",
              "      spin 1s steps(1) infinite;\n",
              "  }\n",
              "\n",
              "  @keyframes spin {\n",
              "    0% {\n",
              "      border-color: transparent;\n",
              "      border-bottom-color: var(--fill-color);\n",
              "      border-left-color: var(--fill-color);\n",
              "    }\n",
              "    20% {\n",
              "      border-color: transparent;\n",
              "      border-left-color: var(--fill-color);\n",
              "      border-top-color: var(--fill-color);\n",
              "    }\n",
              "    30% {\n",
              "      border-color: transparent;\n",
              "      border-left-color: var(--fill-color);\n",
              "      border-top-color: var(--fill-color);\n",
              "      border-right-color: var(--fill-color);\n",
              "    }\n",
              "    40% {\n",
              "      border-color: transparent;\n",
              "      border-right-color: var(--fill-color);\n",
              "      border-top-color: var(--fill-color);\n",
              "    }\n",
              "    60% {\n",
              "      border-color: transparent;\n",
              "      border-right-color: var(--fill-color);\n",
              "    }\n",
              "    80% {\n",
              "      border-color: transparent;\n",
              "      border-right-color: var(--fill-color);\n",
              "      border-bottom-color: var(--fill-color);\n",
              "    }\n",
              "    90% {\n",
              "      border-color: transparent;\n",
              "      border-bottom-color: var(--fill-color);\n",
              "    }\n",
              "  }\n",
              "</style>\n",
              "\n",
              "  <script>\n",
              "    async function quickchart(key) {\n",
              "      const quickchartButtonEl =\n",
              "        document.querySelector('#' + key + ' button');\n",
              "      quickchartButtonEl.disabled = true;  // To prevent multiple clicks.\n",
              "      quickchartButtonEl.classList.add('colab-df-spinner');\n",
              "      try {\n",
              "        const charts = await google.colab.kernel.invokeFunction(\n",
              "            'suggestCharts', [key], {});\n",
              "      } catch (error) {\n",
              "        console.error('Error during call to suggestCharts:', error);\n",
              "      }\n",
              "      quickchartButtonEl.classList.remove('colab-df-spinner');\n",
              "      quickchartButtonEl.classList.add('colab-df-quickchart-complete');\n",
              "    }\n",
              "    (() => {\n",
              "      let quickchartButtonEl =\n",
              "        document.querySelector('#df-b638c4db-3a15-4831-94b4-513746c0fabb button');\n",
              "      quickchartButtonEl.style.display =\n",
              "        google.colab.kernel.accessAllowed ? 'block' : 'none';\n",
              "    })();\n",
              "  </script>\n",
              "</div>\n",
              "\n",
              "  <div id=\"id_86219bd3-93fd-4285-8f07-ad9899653a63\">\n",
              "    <style>\n",
              "      .colab-df-generate {\n",
              "        background-color: #E8F0FE;\n",
              "        border: none;\n",
              "        border-radius: 50%;\n",
              "        cursor: pointer;\n",
              "        display: none;\n",
              "        fill: #1967D2;\n",
              "        height: 32px;\n",
              "        padding: 0 0 0 0;\n",
              "        width: 32px;\n",
              "      }\n",
              "\n",
              "      .colab-df-generate:hover {\n",
              "        background-color: #E2EBFA;\n",
              "        box-shadow: 0px 1px 2px rgba(60, 64, 67, 0.3), 0px 1px 3px 1px rgba(60, 64, 67, 0.15);\n",
              "        fill: #174EA6;\n",
              "      }\n",
              "\n",
              "      [theme=dark] .colab-df-generate {\n",
              "        background-color: #3B4455;\n",
              "        fill: #D2E3FC;\n",
              "      }\n",
              "\n",
              "      [theme=dark] .colab-df-generate:hover {\n",
              "        background-color: #434B5C;\n",
              "        box-shadow: 0px 1px 3px 1px rgba(0, 0, 0, 0.15);\n",
              "        filter: drop-shadow(0px 1px 2px rgba(0, 0, 0, 0.3));\n",
              "        fill: #FFFFFF;\n",
              "      }\n",
              "    </style>\n",
              "    <button class=\"colab-df-generate\" onclick=\"generateWithVariable('df')\"\n",
              "            title=\"Generate code using this dataframe.\"\n",
              "            style=\"display:none;\">\n",
              "\n",
              "  <svg xmlns=\"http://www.w3.org/2000/svg\" height=\"24px\"viewBox=\"0 0 24 24\"\n",
              "       width=\"24px\">\n",
              "    <path d=\"M7,19H8.4L18.45,9,17,7.55,7,17.6ZM5,21V16.75L18.45,3.32a2,2,0,0,1,2.83,0l1.4,1.43a1.91,1.91,0,0,1,.58,1.4,1.91,1.91,0,0,1-.58,1.4L9.25,21ZM18.45,9,17,7.55Zm-12,3A5.31,5.31,0,0,0,4.9,8.1,5.31,5.31,0,0,0,1,6.5,5.31,5.31,0,0,0,4.9,4.9,5.31,5.31,0,0,0,6.5,1,5.31,5.31,0,0,0,8.1,4.9,5.31,5.31,0,0,0,12,6.5,5.46,5.46,0,0,0,6.5,12Z\"/>\n",
              "  </svg>\n",
              "    </button>\n",
              "    <script>\n",
              "      (() => {\n",
              "      const buttonEl =\n",
              "        document.querySelector('#id_86219bd3-93fd-4285-8f07-ad9899653a63 button.colab-df-generate');\n",
              "      buttonEl.style.display =\n",
              "        google.colab.kernel.accessAllowed ? 'block' : 'none';\n",
              "\n",
              "      buttonEl.onclick = () => {\n",
              "        google.colab.notebook.generateWithVariable('df');\n",
              "      }\n",
              "      })();\n",
              "    </script>\n",
              "  </div>\n",
              "\n",
              "    </div>\n",
              "  </div>\n"
            ],
            "application/vnd.google.colaboratory.intrinsic+json": {
              "type": "dataframe",
              "variable_name": "df",
              "summary": "{\n  \"name\": \"df\",\n  \"rows\": 76461,\n  \"fields\": [\n    {\n      \"column\": \"title\",\n      \"properties\": {\n        \"dtype\": \"string\",\n        \"num_unique_values\": 74894,\n        \"samples\": [\n          \"India eyes airport in Sri Lanka near Chinese Belt and Road outpost\",\n          \"A peek behind the nrcc fundraising curtain\",\n          \" Trump HUMILIATED As WH Walks Back His Attack After Soldiers Mom Confirms His Insensitive Phone Call\"\n        ],\n        \"semantic_type\": \"\",\n        \"description\": \"\"\n      }\n    },\n    {\n      \"column\": \"text\",\n      \"properties\": {\n        \"dtype\": \"string\",\n        \"num_unique_values\": 76460,\n        \"samples\": [\n          \"If the way Donald Trump reportedly ran the MaraLago resort in Palm Beach is any indication if he wins he will be taking full advantage of every spy agency in his charge just for his own agendaAccording to six former employees at the resort Trump had a telephone console in his room that allowed him to tap into every single phone in the place He often listened in on staff calls but he could also listen in on guest calls although the GOP frontrunner s spokeswoman denies itAccording to Buzzfeed who spoke to six former employees four of whom spoke under the condition of anonymity because of nondisclosure agreements this is indeed true Those four said he listened in from the private room he keeps during the mid2000sThey said he listened in on calls between club employees or in some cases between staff and guests None of them knew of Trump eavesdropping on guests or members talking on private calls with people who were not employees of MaraLago They also said that Trump could eavesdrop only on calls made on the club s landlines and not on calls made from guests  cell phonesEach of these four sources said they personally saw the telephone console which some referred to as a switchboard in Trump s bedroomNone of the four supports Trump s bid for president All said they enjoyed their time working at MaraLagoThe two other employees did not wish to remain anonymous They are Trump s former butler the one who wants Obama killed and Trump s former security director both of whom support Trump s run for president said that the console was only to make phone callsTrump the presumptive Republican nominee is running at a time when Americans are increasingly concerned about surveillance   both by the government and by their employers Some of his own campaign staff feared that their offices in Trump Tower in New York might be bugged the New York Times reported last month Trump has backed the NSA s bulk collection of metadata telling conservative radio host Hugh Hewitt that  I tend to err on the side of security  Trump added  I assume when I pick up my telephone people are listening to my conversations anyway if you want to know the truth If Trump was listening in on guests  calls that was certainly a violation of Florida law The law is less clear on calls involving employees but since both parties in Florida need to be notified if the second party is not an employee that is legally murky at bestThis accusation is frightening I have always been of the opinion that Trump is running for the job of dictator hence his admiration of Putin and Kim Jong Un This does not bode well All I can say is I hope Hillary Clinton s offices are locked down tight or we ll have another Watergate on our handsFeatured image via John Moore at Getty Images\",\n          \"Cbc toronto  november 20 2020 this is not going to end These lockdowns are going to go on forever until these tyrants imposing these measures are held accountable for their crimes What they are doing is criminal I find it impossible to believe that these people cant look at the available data and understand that the coronavirus is no more deadly than the flu All of these socalled health ministers and officials who have been pushing these lockdowns and other freedomdestroying measures need to be arrested put on trial and executed They are guilty of massive crimes against the people of the world\",\n          \"WASHINGTON Reuters  US President Donald Trump said on Friday he wants to see action to fix the flaws he sees in the Iran nuclear deal in a short period of time adding that he could end the deal instantaneously  We ll see what happens over the next short period of time and I can do that instantaneously  Trump told reporters when asked why he did not choose to scrap the deal now  I like a twostep process much better  said Trump who was speaking shortly after he announced he would not certify the 2015 deal aimed at preventing Iran from developing a nuclear bomb in a major shift in US policy \"\n        ],\n        \"semantic_type\": \"\",\n        \"description\": \"\"\n      }\n    },\n    {\n      \"column\": \"label\",\n      \"properties\": {\n        \"dtype\": \"number\",\n        \"std\": 0,\n        \"min\": 0,\n        \"max\": 1,\n        \"num_unique_values\": 2,\n        \"samples\": [\n          1,\n          0\n        ],\n        \"semantic_type\": \"\",\n        \"description\": \"\"\n      }\n    },\n    {\n      \"column\": \"subject\",\n      \"properties\": {\n        \"dtype\": \"category\",\n        \"num_unique_values\": 8,\n        \"samples\": [\n          \"Unknown\",\n          \"left-news\"\n        ],\n        \"semantic_type\": \"\",\n        \"description\": \"\"\n      }\n    },\n    {\n      \"column\": \"text_length\",\n      \"properties\": {\n        \"dtype\": \"number\",\n        \"std\": 3843,\n        \"min\": 2,\n        \"max\": 130309,\n        \"num_unique_values\": 11842,\n        \"samples\": [\n          4603,\n          2804\n        ],\n        \"semantic_type\": \"\",\n        \"description\": \"\"\n      }\n    },\n    {\n      \"column\": \"lemmatized_text\",\n      \"properties\": {\n        \"dtype\": \"string\",\n        \"num_unique_values\": 76246,\n        \"samples\": [\n          \"diplomatic recognition muchneeded infrastructure economic assistance said brahma chellaney professor strategic study centre policy research new delhi opportunistic china certain exploit new opening make strategic inroad mineralrich afghanistan deepen penetration pakistan iran central asia said bitter memory much cheering pakistan india discomfiture turn event said raza ahmad rumi political commentator teach ithaca college new york two country fought three war since became independent nation subcontinent divided jubilation pakistan witnessed social medium tv screen largely linked undoing indian influence conventional policy circle viewed ghanis close link india threat rumi said india bitter memory previous taliban stint power group link pakistan indian airline plane hijacked ultimately landed kandahar southern afghanistan new delhi freed three senior pakistani militant jail exchange return passenger taliban allowed hijacker released prisoner go pakistan position today one adjusting reality play long game afghanistan dont contiguous border stake said jayant prasad former indian ambassador kabul past year taliban emerged dominant force u brokered negotiation began doha indian diplomat opened line group diplomatic source new delhi said talking stakeholder one said want get specific discussion criticism home india put egg basket ghani government united state begun talk taliban new delhi left late rerun still india major economic player attractive taliban looking avoid overdependence china source said india development project every one afghanistan province small big including parliament building kabul built overrun guntoting taliban men sweeping city last week myra macdonald author three book south asia former reuters journalist said taliban takeover setback india game new delhi rerun past everyone going much careful time letting islamist terrorism afghanistan explode pre day plus relative term india much economically stronger pakistan time around senior member taliban told reuters impoverished afghanistan need help country region including iran well united state russia expect help u support people especially health sector especially business sector mining sector said waheedullah hashimi access group decisionmaking job convince accept u\",\n          \"philadelphia cnn grill democratic convention unofficial clubhouse striving medium type see seen nobody expecting see megyn kelly midnight cameo wednesday m kelly star fox news anchor center harassment scandal roiling network caught even jaded journalist nobody spotted m kelly outside secure fox compound week made clear open changing network contract run next year conspicuous sight m kelly hobnobbing cnn honcho like anderson cooper jeff zucker network president seemed calculated set certain class tongue wagging twitter m kelly accompanied burly bodyguard laughed donlemon dared u fox newsers swing cnn grill wrote posting selfie mr lemon cnn anchor thx way appearance m kelly joined fellow fox host dana perino signaled much changed fox since chairman roger ailes deposed fox personality rarely fraternized rival network greta van susteren spotted grill week perhaps new era hand know mr zucker chatting m kelly passed group reporter pretending notice get rumor started mr zucker said laughing walked\"\n        ],\n        \"semantic_type\": \"\",\n        \"description\": \"\"\n      }\n    }\n  ]\n}"
            }
          },
          "metadata": {},
          "execution_count": 2
        }
      ]
    },
    {
      "cell_type": "code",
      "source": [
        "df.info()"
      ],
      "metadata": {
        "colab": {
          "base_uri": "https://localhost:8080/"
        },
        "id": "VFSU3vo8yeSS",
        "outputId": "8fc66983-cbd1-47e6-f02d-c01c904837ac"
      },
      "execution_count": null,
      "outputs": [
        {
          "output_type": "stream",
          "name": "stdout",
          "text": [
            "<class 'pandas.core.frame.DataFrame'>\n",
            "RangeIndex: 76461 entries, 0 to 76460\n",
            "Data columns (total 6 columns):\n",
            " #   Column           Non-Null Count  Dtype \n",
            "---  ------           --------------  ----- \n",
            " 0   title            76460 non-null  object\n",
            " 1   text             76461 non-null  object\n",
            " 2   label            76461 non-null  int64 \n",
            " 3   subject          76461 non-null  object\n",
            " 4   text_length      76461 non-null  int64 \n",
            " 5   lemmatized_text  76459 non-null  object\n",
            "dtypes: int64(2), object(4)\n",
            "memory usage: 3.5+ MB\n"
          ]
        }
      ]
    },
    {
      "cell_type": "code",
      "source": [
        "import numpy as np\n",
        "import tensorflow as tf\n",
        "from tensorflow.keras.preprocessing.text import Tokenizer"
      ],
      "metadata": {
        "id": "1_dsjswfyxdI"
      },
      "execution_count": null,
      "outputs": []
    },
    {
      "cell_type": "code",
      "source": [
        "X = df['lemmatized_text'].astype(str)\n",
        "y = df['label']"
      ],
      "metadata": {
        "id": "HPjfoehz6ZIc"
      },
      "execution_count": null,
      "outputs": []
    },
    {
      "cell_type": "code",
      "source": [
        "tokenizer = Tokenizer(num_words=10000)\n",
        "tokenizer.fit_on_texts(X)"
      ],
      "metadata": {
        "id": "3CdQzOaFL-S0"
      },
      "execution_count": null,
      "outputs": []
    },
    {
      "cell_type": "code",
      "source": [
        "X = tokenizer.texts_to_sequences(X)"
      ],
      "metadata": {
        "id": "RONMtCBkMBB2"
      },
      "execution_count": null,
      "outputs": []
    },
    {
      "cell_type": "code",
      "source": [
        "from tensorflow.keras.preprocessing.sequence import pad_sequences\n",
        "max_sequence_length = 500\n",
        "truncated_sequences = [seq[:max_sequence_length] for seq in X]\n",
        "X = pad_sequences(truncated_sequences, maxlen=max_sequence_length)"
      ],
      "metadata": {
        "id": "1CD8jbVimLAE"
      },
      "execution_count": null,
      "outputs": []
    },
    {
      "cell_type": "code",
      "source": [
        "y = np.array(y)"
      ],
      "metadata": {
        "id": "_eREMoNzM5yy"
      },
      "execution_count": null,
      "outputs": []
    },
    {
      "cell_type": "code",
      "source": [
        "from sklearn.model_selection import train_test_split\n",
        "X_train, X_test, y_train, y_test = train_test_split(X, y, test_size=0.2, random_state=42)"
      ],
      "metadata": {
        "id": "8ZaIJ8ucM85a"
      },
      "execution_count": null,
      "outputs": []
    },
    {
      "cell_type": "markdown",
      "source": [
        "#Building RNN"
      ],
      "metadata": {
        "id": "Hj3B_d-cNbN4"
      }
    },
    {
      "cell_type": "code",
      "source": [
        "from tensorflow.keras.models import Sequential\n",
        "from tensorflow.keras.layers import Embedding, SimpleRNN, Dense"
      ],
      "metadata": {
        "id": "oc141OSoNdp7"
      },
      "execution_count": null,
      "outputs": []
    },
    {
      "cell_type": "code",
      "source": [
        "model = Sequential()\n",
        "model.add(Embedding(input_dim=10000, output_dim=128, input_length=X.shape[1]))"
      ],
      "metadata": {
        "colab": {
          "base_uri": "https://localhost:8080/"
        },
        "id": "fWVNl9eoNRTF",
        "outputId": "cae25798-5af7-4fa8-ecbc-fbf23bd4ba24"
      },
      "execution_count": null,
      "outputs": [
        {
          "output_type": "stream",
          "name": "stderr",
          "text": [
            "/usr/local/lib/python3.10/dist-packages/keras/src/layers/core/embedding.py:90: UserWarning: Argument `input_length` is deprecated. Just remove it.\n",
            "  warnings.warn(\n"
          ]
        }
      ]
    },
    {
      "cell_type": "code",
      "source": [
        "model.add(SimpleRNN(units=64))\n",
        "model.add(Dense(1, activation='sigmoid'))"
      ],
      "metadata": {
        "id": "BmCoeyspO96j"
      },
      "execution_count": null,
      "outputs": []
    },
    {
      "cell_type": "code",
      "source": [
        "model.compile(optimizer='adam', loss='binary_crossentropy', metrics=['accuracy'])"
      ],
      "metadata": {
        "id": "jcowEcRZPDpP"
      },
      "execution_count": null,
      "outputs": []
    },
    {
      "cell_type": "code",
      "source": [
        "from keras.callbacks import EarlyStopping\n",
        "\n",
        "early_stop = EarlyStopping(monitor='val_loss', patience=3, restore_best_weights=True)\n",
        "model.fit(X_train, y_train, validation_data=(X_test, y_test), epochs=10, batch_size=64, callbacks=[early_stop])"
      ],
      "metadata": {
        "id": "Q3ektRN-PGPG",
        "colab": {
          "base_uri": "https://localhost:8080/"
        },
        "outputId": "5a3daf39-22d5-4093-f859-c85f01928101"
      },
      "execution_count": null,
      "outputs": [
        {
          "output_type": "stream",
          "name": "stdout",
          "text": [
            "Epoch 1/10\n",
            "\u001b[1m956/956\u001b[0m \u001b[32m━━━━━━━━━━━━━━━━━━━━\u001b[0m\u001b[37m\u001b[0m \u001b[1m220s\u001b[0m 229ms/step - accuracy: 0.8385 - loss: 0.3633 - val_accuracy: 0.7902 - val_loss: 0.4600\n",
            "Epoch 2/10\n",
            "\u001b[1m956/956\u001b[0m \u001b[32m━━━━━━━━━━━━━━━━━━━━\u001b[0m\u001b[37m\u001b[0m \u001b[1m215s\u001b[0m 225ms/step - accuracy: 0.8374 - loss: 0.3651 - val_accuracy: 0.7904 - val_loss: 0.4590\n",
            "Epoch 3/10\n",
            "\u001b[1m956/956\u001b[0m \u001b[32m━━━━━━━━━━━━━━━━━━━━\u001b[0m\u001b[37m\u001b[0m \u001b[1m218s\u001b[0m 228ms/step - accuracy: 0.8386 - loss: 0.3603 - val_accuracy: 0.8173 - val_loss: 0.4208\n",
            "Epoch 4/10\n",
            "\u001b[1m956/956\u001b[0m \u001b[32m━━━━━━━━━━━━━━━━━━━━\u001b[0m\u001b[37m\u001b[0m \u001b[1m262s\u001b[0m 228ms/step - accuracy: 0.8642 - loss: 0.3170 - val_accuracy: 0.8176 - val_loss: 0.4155\n",
            "Epoch 5/10\n",
            "\u001b[1m956/956\u001b[0m \u001b[32m━━━━━━━━━━━━━━━━━━━━\u001b[0m\u001b[37m\u001b[0m \u001b[1m263s\u001b[0m 228ms/step - accuracy: 0.8827 - loss: 0.2848 - val_accuracy: 0.8346 - val_loss: 0.4001\n",
            "Epoch 6/10\n",
            "\u001b[1m956/956\u001b[0m \u001b[32m━━━━━━━━━━━━━━━━━━━━\u001b[0m\u001b[37m\u001b[0m \u001b[1m256s\u001b[0m 222ms/step - accuracy: 0.8937 - loss: 0.2635 - val_accuracy: 0.8333 - val_loss: 0.4029\n",
            "Epoch 7/10\n",
            "\u001b[1m956/956\u001b[0m \u001b[32m━━━━━━━━━━━━━━━━━━━━\u001b[0m\u001b[37m\u001b[0m \u001b[1m262s\u001b[0m 222ms/step - accuracy: 0.8946 - loss: 0.2624 - val_accuracy: 0.8433 - val_loss: 0.3911\n",
            "Epoch 8/10\n",
            "\u001b[1m956/956\u001b[0m \u001b[32m━━━━━━━━━━━━━━━━━━━━\u001b[0m\u001b[37m\u001b[0m \u001b[1m262s\u001b[0m 222ms/step - accuracy: 0.9081 - loss: 0.2355 - val_accuracy: 0.8499 - val_loss: 0.3831\n",
            "Epoch 9/10\n",
            "\u001b[1m956/956\u001b[0m \u001b[32m━━━━━━━━━━━━━━━━━━━━\u001b[0m\u001b[37m\u001b[0m \u001b[1m261s\u001b[0m 221ms/step - accuracy: 0.9151 - loss: 0.2195 - val_accuracy: 0.8455 - val_loss: 0.3889\n",
            "Epoch 10/10\n",
            "\u001b[1m956/956\u001b[0m \u001b[32m━━━━━━━━━━━━━━━━━━━━\u001b[0m\u001b[37m\u001b[0m \u001b[1m224s\u001b[0m 234ms/step - accuracy: 0.8749 - loss: 0.2957 - val_accuracy: 0.8077 - val_loss: 0.4418\n"
          ]
        },
        {
          "output_type": "execute_result",
          "data": {
            "text/plain": [
              "<keras.src.callbacks.history.History at 0x7e9092c3ef80>"
            ]
          },
          "metadata": {},
          "execution_count": 18
        }
      ]
    },
    {
      "cell_type": "code",
      "source": [
        "loss, accuracy = model.evaluate(X_test, y_test)\n",
        "print(f\"Test Accuracy: {accuracy * 100:.2f}%\")"
      ],
      "metadata": {
        "id": "dEHemf7WPIv1",
        "colab": {
          "base_uri": "https://localhost:8080/"
        },
        "outputId": "4317a6bf-022b-4851-c18b-108821cd79de"
      },
      "execution_count": null,
      "outputs": [
        {
          "output_type": "stream",
          "name": "stdout",
          "text": [
            "\u001b[1m478/478\u001b[0m \u001b[32m━━━━━━━━━━━━━━━━━━━━\u001b[0m\u001b[37m\u001b[0m \u001b[1m24s\u001b[0m 50ms/step - accuracy: 0.8490 - loss: 0.3793\n",
            "Test Accuracy: 84.99%\n"
          ]
        }
      ]
    },
    {
      "cell_type": "code",
      "source": [
        "model.save(r\"/content/drive/MyDrive/Truth_Seeker/model1.h5\")"
      ],
      "metadata": {
        "colab": {
          "base_uri": "https://localhost:8080/"
        },
        "id": "3B4eG2Dg97Mk",
        "outputId": "54413013-e65c-4418-a4b6-d03b8377a402"
      },
      "execution_count": null,
      "outputs": [
        {
          "output_type": "stream",
          "name": "stderr",
          "text": [
            "WARNING:absl:You are saving your model as an HDF5 file via `model.save()` or `keras.saving.save_model(model)`. This file format is considered legacy. We recommend using instead the native Keras format, e.g. `model.save('my_model.keras')` or `keras.saving.save_model(model, 'my_model.keras')`. \n"
          ]
        }
      ]
    },
    {
      "cell_type": "markdown",
      "source": [
        "# LSTM"
      ],
      "metadata": {
        "id": "o4PgOBeRhVso"
      }
    },
    {
      "cell_type": "code",
      "source": [
        "from tensorflow.keras.models import Sequential\n",
        "from tensorflow.keras.layers import Embedding, LSTM, Dense, BatchNormalization, Dropout\n",
        "from tensorflow.keras.preprocessing.text import Tokenizer\n",
        "import pandas as pd\n",
        "\n",
        "model = Sequential()"
      ],
      "metadata": {
        "id": "4PNMdSdpkPf_"
      },
      "execution_count": null,
      "outputs": []
    },
    {
      "cell_type": "code",
      "source": [
        "from google.colab import drive\n",
        "drive.mount('/content/drive')"
      ],
      "metadata": {
        "colab": {
          "base_uri": "https://localhost:8080/"
        },
        "id": "OJ6c7SDUG1o3",
        "outputId": "74ed9ea2-5500-4279-9620-0179599059c3"
      },
      "execution_count": null,
      "outputs": [
        {
          "output_type": "stream",
          "name": "stdout",
          "text": [
            "Mounted at /content/drive\n"
          ]
        }
      ]
    },
    {
      "cell_type": "code",
      "source": [
        "df = pd.read_csv('/content/drive/MyDrive/Truth_Seeker/cleaned_master_data.csv')\n",
        "df"
      ],
      "metadata": {
        "colab": {
          "base_uri": "https://localhost:8080/",
          "height": 444
        },
        "id": "3MjZ1DzSGf2N",
        "outputId": "eaed03e9-6dc8-406c-846e-48214c4dae93"
      },
      "execution_count": null,
      "outputs": [
        {
          "output_type": "execute_result",
          "data": {
            "text/plain": [
              "                                                   title  \\\n",
              "0      \\r\\r\\r\\r\\r\\r\\r\\nDonald Trump Gets His A Handed...   \n",
              "1      \\r\\r\\r\\r\\r\\r\\r\\nExGOP Congressman Shreds Fello...   \n",
              "2      \\r\\r\\r\\r\\r\\r\\r\\nTrump Gets STOMPED For Whining...   \n",
              "3      \\r\\r\\r\\r\\r\\r\\r\\nWATCH Democratic Rep Delivers ...   \n",
              "4       AfterTrumpImplodes Hashtag Hilariously Imagin...   \n",
              "...                                                  ...   \n",
              "76456                                            Unknown   \n",
              "76457                                            Unknown   \n",
              "76458                                            Unknown   \n",
              "76459                                            Unknown   \n",
              "76460                                            Unknown   \n",
              "\n",
              "                                                    text  label  subject  \\\n",
              "0      A 10yearold girl smacked down Donald Trump and...      0     News   \n",
              "1      At this point every Republican who refuses to ...      0     News   \n",
              "2      Donald Trump has been attacking President Obam...      0     News   \n",
              "3      Massachusetts Rep Jim McGovern brought the Hou...      0     News   \n",
              "4      What will the world be like postDonald Trump A...      0     News   \n",
              "...                                                  ...    ...      ...   \n",
              "76456       you shouldve been swallowed you inbred swine      0  Unknown   \n",
              "76457  Do I know the risk involved in reporting on su...      0  Unknown   \n",
              "76458  If conservative Christians are about Jesus Chr...      0  Unknown   \n",
              "76459  Jesus will save his soul not his body Ignorant...      0  Unknown   \n",
              "76460                                  Leach Say no more      0  Unknown   \n",
              "\n",
              "       text_length                                    lemmatized_text  \n",
              "0             2566  yearold girl smacked donald trump amazingon sa...  \n",
              "1             1925  point every republican refuse spine stand dona...  \n",
              "2             3389  donald trump attacking president obama campaig...  \n",
              "3             3358  massachusetts rep jim mcgovern brought house s...  \n",
              "4             3092  world like postdonald trump new hashtag aftert...  \n",
              "...            ...                                                ...  \n",
              "76456           44                    shouldve swallowed inbred swine  \n",
              "76457          127  know risk involved reporting thing reporting t...  \n",
              "76458         2556  conservative christian jesus christ always see...  \n",
              "76459           60           jesus save soul body ignorant piece shit  \n",
              "76460           17                                          leach say  \n",
              "\n",
              "[76461 rows x 6 columns]"
            ],
            "text/html": [
              "\n",
              "  <div id=\"df-cac5ad48-0a16-4c4e-8272-be903c7da452\" class=\"colab-df-container\">\n",
              "    <div>\n",
              "<style scoped>\n",
              "    .dataframe tbody tr th:only-of-type {\n",
              "        vertical-align: middle;\n",
              "    }\n",
              "\n",
              "    .dataframe tbody tr th {\n",
              "        vertical-align: top;\n",
              "    }\n",
              "\n",
              "    .dataframe thead th {\n",
              "        text-align: right;\n",
              "    }\n",
              "</style>\n",
              "<table border=\"1\" class=\"dataframe\">\n",
              "  <thead>\n",
              "    <tr style=\"text-align: right;\">\n",
              "      <th></th>\n",
              "      <th>title</th>\n",
              "      <th>text</th>\n",
              "      <th>label</th>\n",
              "      <th>subject</th>\n",
              "      <th>text_length</th>\n",
              "      <th>lemmatized_text</th>\n",
              "    </tr>\n",
              "  </thead>\n",
              "  <tbody>\n",
              "    <tr>\n",
              "      <th>0</th>\n",
              "      <td>\\r\\r\\r\\r\\r\\r\\r\\nDonald Trump Gets His A Handed...</td>\n",
              "      <td>A 10yearold girl smacked down Donald Trump and...</td>\n",
              "      <td>0</td>\n",
              "      <td>News</td>\n",
              "      <td>2566</td>\n",
              "      <td>yearold girl smacked donald trump amazingon sa...</td>\n",
              "    </tr>\n",
              "    <tr>\n",
              "      <th>1</th>\n",
              "      <td>\\r\\r\\r\\r\\r\\r\\r\\nExGOP Congressman Shreds Fello...</td>\n",
              "      <td>At this point every Republican who refuses to ...</td>\n",
              "      <td>0</td>\n",
              "      <td>News</td>\n",
              "      <td>1925</td>\n",
              "      <td>point every republican refuse spine stand dona...</td>\n",
              "    </tr>\n",
              "    <tr>\n",
              "      <th>2</th>\n",
              "      <td>\\r\\r\\r\\r\\r\\r\\r\\nTrump Gets STOMPED For Whining...</td>\n",
              "      <td>Donald Trump has been attacking President Obam...</td>\n",
              "      <td>0</td>\n",
              "      <td>News</td>\n",
              "      <td>3389</td>\n",
              "      <td>donald trump attacking president obama campaig...</td>\n",
              "    </tr>\n",
              "    <tr>\n",
              "      <th>3</th>\n",
              "      <td>\\r\\r\\r\\r\\r\\r\\r\\nWATCH Democratic Rep Delivers ...</td>\n",
              "      <td>Massachusetts Rep Jim McGovern brought the Hou...</td>\n",
              "      <td>0</td>\n",
              "      <td>News</td>\n",
              "      <td>3358</td>\n",
              "      <td>massachusetts rep jim mcgovern brought house s...</td>\n",
              "    </tr>\n",
              "    <tr>\n",
              "      <th>4</th>\n",
              "      <td>AfterTrumpImplodes Hashtag Hilariously Imagin...</td>\n",
              "      <td>What will the world be like postDonald Trump A...</td>\n",
              "      <td>0</td>\n",
              "      <td>News</td>\n",
              "      <td>3092</td>\n",
              "      <td>world like postdonald trump new hashtag aftert...</td>\n",
              "    </tr>\n",
              "    <tr>\n",
              "      <th>...</th>\n",
              "      <td>...</td>\n",
              "      <td>...</td>\n",
              "      <td>...</td>\n",
              "      <td>...</td>\n",
              "      <td>...</td>\n",
              "      <td>...</td>\n",
              "    </tr>\n",
              "    <tr>\n",
              "      <th>76456</th>\n",
              "      <td>Unknown</td>\n",
              "      <td>you shouldve been swallowed you inbred swine</td>\n",
              "      <td>0</td>\n",
              "      <td>Unknown</td>\n",
              "      <td>44</td>\n",
              "      <td>shouldve swallowed inbred swine</td>\n",
              "    </tr>\n",
              "    <tr>\n",
              "      <th>76457</th>\n",
              "      <td>Unknown</td>\n",
              "      <td>Do I know the risk involved in reporting on su...</td>\n",
              "      <td>0</td>\n",
              "      <td>Unknown</td>\n",
              "      <td>127</td>\n",
              "      <td>know risk involved reporting thing reporting t...</td>\n",
              "    </tr>\n",
              "    <tr>\n",
              "      <th>76458</th>\n",
              "      <td>Unknown</td>\n",
              "      <td>If conservative Christians are about Jesus Chr...</td>\n",
              "      <td>0</td>\n",
              "      <td>Unknown</td>\n",
              "      <td>2556</td>\n",
              "      <td>conservative christian jesus christ always see...</td>\n",
              "    </tr>\n",
              "    <tr>\n",
              "      <th>76459</th>\n",
              "      <td>Unknown</td>\n",
              "      <td>Jesus will save his soul not his body Ignorant...</td>\n",
              "      <td>0</td>\n",
              "      <td>Unknown</td>\n",
              "      <td>60</td>\n",
              "      <td>jesus save soul body ignorant piece shit</td>\n",
              "    </tr>\n",
              "    <tr>\n",
              "      <th>76460</th>\n",
              "      <td>Unknown</td>\n",
              "      <td>Leach Say no more</td>\n",
              "      <td>0</td>\n",
              "      <td>Unknown</td>\n",
              "      <td>17</td>\n",
              "      <td>leach say</td>\n",
              "    </tr>\n",
              "  </tbody>\n",
              "</table>\n",
              "<p>76461 rows × 6 columns</p>\n",
              "</div>\n",
              "    <div class=\"colab-df-buttons\">\n",
              "\n",
              "  <div class=\"colab-df-container\">\n",
              "    <button class=\"colab-df-convert\" onclick=\"convertToInteractive('df-cac5ad48-0a16-4c4e-8272-be903c7da452')\"\n",
              "            title=\"Convert this dataframe to an interactive table.\"\n",
              "            style=\"display:none;\">\n",
              "\n",
              "  <svg xmlns=\"http://www.w3.org/2000/svg\" height=\"24px\" viewBox=\"0 -960 960 960\">\n",
              "    <path d=\"M120-120v-720h720v720H120Zm60-500h600v-160H180v160Zm220 220h160v-160H400v160Zm0 220h160v-160H400v160ZM180-400h160v-160H180v160Zm440 0h160v-160H620v160ZM180-180h160v-160H180v160Zm440 0h160v-160H620v160Z\"/>\n",
              "  </svg>\n",
              "    </button>\n",
              "\n",
              "  <style>\n",
              "    .colab-df-container {\n",
              "      display:flex;\n",
              "      gap: 12px;\n",
              "    }\n",
              "\n",
              "    .colab-df-convert {\n",
              "      background-color: #E8F0FE;\n",
              "      border: none;\n",
              "      border-radius: 50%;\n",
              "      cursor: pointer;\n",
              "      display: none;\n",
              "      fill: #1967D2;\n",
              "      height: 32px;\n",
              "      padding: 0 0 0 0;\n",
              "      width: 32px;\n",
              "    }\n",
              "\n",
              "    .colab-df-convert:hover {\n",
              "      background-color: #E2EBFA;\n",
              "      box-shadow: 0px 1px 2px rgba(60, 64, 67, 0.3), 0px 1px 3px 1px rgba(60, 64, 67, 0.15);\n",
              "      fill: #174EA6;\n",
              "    }\n",
              "\n",
              "    .colab-df-buttons div {\n",
              "      margin-bottom: 4px;\n",
              "    }\n",
              "\n",
              "    [theme=dark] .colab-df-convert {\n",
              "      background-color: #3B4455;\n",
              "      fill: #D2E3FC;\n",
              "    }\n",
              "\n",
              "    [theme=dark] .colab-df-convert:hover {\n",
              "      background-color: #434B5C;\n",
              "      box-shadow: 0px 1px 3px 1px rgba(0, 0, 0, 0.15);\n",
              "      filter: drop-shadow(0px 1px 2px rgba(0, 0, 0, 0.3));\n",
              "      fill: #FFFFFF;\n",
              "    }\n",
              "  </style>\n",
              "\n",
              "    <script>\n",
              "      const buttonEl =\n",
              "        document.querySelector('#df-cac5ad48-0a16-4c4e-8272-be903c7da452 button.colab-df-convert');\n",
              "      buttonEl.style.display =\n",
              "        google.colab.kernel.accessAllowed ? 'block' : 'none';\n",
              "\n",
              "      async function convertToInteractive(key) {\n",
              "        const element = document.querySelector('#df-cac5ad48-0a16-4c4e-8272-be903c7da452');\n",
              "        const dataTable =\n",
              "          await google.colab.kernel.invokeFunction('convertToInteractive',\n",
              "                                                    [key], {});\n",
              "        if (!dataTable) return;\n",
              "\n",
              "        const docLinkHtml = 'Like what you see? Visit the ' +\n",
              "          '<a target=\"_blank\" href=https://colab.research.google.com/notebooks/data_table.ipynb>data table notebook</a>'\n",
              "          + ' to learn more about interactive tables.';\n",
              "        element.innerHTML = '';\n",
              "        dataTable['output_type'] = 'display_data';\n",
              "        await google.colab.output.renderOutput(dataTable, element);\n",
              "        const docLink = document.createElement('div');\n",
              "        docLink.innerHTML = docLinkHtml;\n",
              "        element.appendChild(docLink);\n",
              "      }\n",
              "    </script>\n",
              "  </div>\n",
              "\n",
              "\n",
              "<div id=\"df-401992a6-a70a-4993-a639-b3950190b35e\">\n",
              "  <button class=\"colab-df-quickchart\" onclick=\"quickchart('df-401992a6-a70a-4993-a639-b3950190b35e')\"\n",
              "            title=\"Suggest charts\"\n",
              "            style=\"display:none;\">\n",
              "\n",
              "<svg xmlns=\"http://www.w3.org/2000/svg\" height=\"24px\"viewBox=\"0 0 24 24\"\n",
              "     width=\"24px\">\n",
              "    <g>\n",
              "        <path d=\"M19 3H5c-1.1 0-2 .9-2 2v14c0 1.1.9 2 2 2h14c1.1 0 2-.9 2-2V5c0-1.1-.9-2-2-2zM9 17H7v-7h2v7zm4 0h-2V7h2v10zm4 0h-2v-4h2v4z\"/>\n",
              "    </g>\n",
              "</svg>\n",
              "  </button>\n",
              "\n",
              "<style>\n",
              "  .colab-df-quickchart {\n",
              "      --bg-color: #E8F0FE;\n",
              "      --fill-color: #1967D2;\n",
              "      --hover-bg-color: #E2EBFA;\n",
              "      --hover-fill-color: #174EA6;\n",
              "      --disabled-fill-color: #AAA;\n",
              "      --disabled-bg-color: #DDD;\n",
              "  }\n",
              "\n",
              "  [theme=dark] .colab-df-quickchart {\n",
              "      --bg-color: #3B4455;\n",
              "      --fill-color: #D2E3FC;\n",
              "      --hover-bg-color: #434B5C;\n",
              "      --hover-fill-color: #FFFFFF;\n",
              "      --disabled-bg-color: #3B4455;\n",
              "      --disabled-fill-color: #666;\n",
              "  }\n",
              "\n",
              "  .colab-df-quickchart {\n",
              "    background-color: var(--bg-color);\n",
              "    border: none;\n",
              "    border-radius: 50%;\n",
              "    cursor: pointer;\n",
              "    display: none;\n",
              "    fill: var(--fill-color);\n",
              "    height: 32px;\n",
              "    padding: 0;\n",
              "    width: 32px;\n",
              "  }\n",
              "\n",
              "  .colab-df-quickchart:hover {\n",
              "    background-color: var(--hover-bg-color);\n",
              "    box-shadow: 0 1px 2px rgba(60, 64, 67, 0.3), 0 1px 3px 1px rgba(60, 64, 67, 0.15);\n",
              "    fill: var(--button-hover-fill-color);\n",
              "  }\n",
              "\n",
              "  .colab-df-quickchart-complete:disabled,\n",
              "  .colab-df-quickchart-complete:disabled:hover {\n",
              "    background-color: var(--disabled-bg-color);\n",
              "    fill: var(--disabled-fill-color);\n",
              "    box-shadow: none;\n",
              "  }\n",
              "\n",
              "  .colab-df-spinner {\n",
              "    border: 2px solid var(--fill-color);\n",
              "    border-color: transparent;\n",
              "    border-bottom-color: var(--fill-color);\n",
              "    animation:\n",
              "      spin 1s steps(1) infinite;\n",
              "  }\n",
              "\n",
              "  @keyframes spin {\n",
              "    0% {\n",
              "      border-color: transparent;\n",
              "      border-bottom-color: var(--fill-color);\n",
              "      border-left-color: var(--fill-color);\n",
              "    }\n",
              "    20% {\n",
              "      border-color: transparent;\n",
              "      border-left-color: var(--fill-color);\n",
              "      border-top-color: var(--fill-color);\n",
              "    }\n",
              "    30% {\n",
              "      border-color: transparent;\n",
              "      border-left-color: var(--fill-color);\n",
              "      border-top-color: var(--fill-color);\n",
              "      border-right-color: var(--fill-color);\n",
              "    }\n",
              "    40% {\n",
              "      border-color: transparent;\n",
              "      border-right-color: var(--fill-color);\n",
              "      border-top-color: var(--fill-color);\n",
              "    }\n",
              "    60% {\n",
              "      border-color: transparent;\n",
              "      border-right-color: var(--fill-color);\n",
              "    }\n",
              "    80% {\n",
              "      border-color: transparent;\n",
              "      border-right-color: var(--fill-color);\n",
              "      border-bottom-color: var(--fill-color);\n",
              "    }\n",
              "    90% {\n",
              "      border-color: transparent;\n",
              "      border-bottom-color: var(--fill-color);\n",
              "    }\n",
              "  }\n",
              "</style>\n",
              "\n",
              "  <script>\n",
              "    async function quickchart(key) {\n",
              "      const quickchartButtonEl =\n",
              "        document.querySelector('#' + key + ' button');\n",
              "      quickchartButtonEl.disabled = true;  // To prevent multiple clicks.\n",
              "      quickchartButtonEl.classList.add('colab-df-spinner');\n",
              "      try {\n",
              "        const charts = await google.colab.kernel.invokeFunction(\n",
              "            'suggestCharts', [key], {});\n",
              "      } catch (error) {\n",
              "        console.error('Error during call to suggestCharts:', error);\n",
              "      }\n",
              "      quickchartButtonEl.classList.remove('colab-df-spinner');\n",
              "      quickchartButtonEl.classList.add('colab-df-quickchart-complete');\n",
              "    }\n",
              "    (() => {\n",
              "      let quickchartButtonEl =\n",
              "        document.querySelector('#df-401992a6-a70a-4993-a639-b3950190b35e button');\n",
              "      quickchartButtonEl.style.display =\n",
              "        google.colab.kernel.accessAllowed ? 'block' : 'none';\n",
              "    })();\n",
              "  </script>\n",
              "</div>\n",
              "\n",
              "  <div id=\"id_5a1645bb-e75f-490b-b4bc-b7f88b5ad059\">\n",
              "    <style>\n",
              "      .colab-df-generate {\n",
              "        background-color: #E8F0FE;\n",
              "        border: none;\n",
              "        border-radius: 50%;\n",
              "        cursor: pointer;\n",
              "        display: none;\n",
              "        fill: #1967D2;\n",
              "        height: 32px;\n",
              "        padding: 0 0 0 0;\n",
              "        width: 32px;\n",
              "      }\n",
              "\n",
              "      .colab-df-generate:hover {\n",
              "        background-color: #E2EBFA;\n",
              "        box-shadow: 0px 1px 2px rgba(60, 64, 67, 0.3), 0px 1px 3px 1px rgba(60, 64, 67, 0.15);\n",
              "        fill: #174EA6;\n",
              "      }\n",
              "\n",
              "      [theme=dark] .colab-df-generate {\n",
              "        background-color: #3B4455;\n",
              "        fill: #D2E3FC;\n",
              "      }\n",
              "\n",
              "      [theme=dark] .colab-df-generate:hover {\n",
              "        background-color: #434B5C;\n",
              "        box-shadow: 0px 1px 3px 1px rgba(0, 0, 0, 0.15);\n",
              "        filter: drop-shadow(0px 1px 2px rgba(0, 0, 0, 0.3));\n",
              "        fill: #FFFFFF;\n",
              "      }\n",
              "    </style>\n",
              "    <button class=\"colab-df-generate\" onclick=\"generateWithVariable('df')\"\n",
              "            title=\"Generate code using this dataframe.\"\n",
              "            style=\"display:none;\">\n",
              "\n",
              "  <svg xmlns=\"http://www.w3.org/2000/svg\" height=\"24px\"viewBox=\"0 0 24 24\"\n",
              "       width=\"24px\">\n",
              "    <path d=\"M7,19H8.4L18.45,9,17,7.55,7,17.6ZM5,21V16.75L18.45,3.32a2,2,0,0,1,2.83,0l1.4,1.43a1.91,1.91,0,0,1,.58,1.4,1.91,1.91,0,0,1-.58,1.4L9.25,21ZM18.45,9,17,7.55Zm-12,3A5.31,5.31,0,0,0,4.9,8.1,5.31,5.31,0,0,0,1,6.5,5.31,5.31,0,0,0,4.9,4.9,5.31,5.31,0,0,0,6.5,1,5.31,5.31,0,0,0,8.1,4.9,5.31,5.31,0,0,0,12,6.5,5.46,5.46,0,0,0,6.5,12Z\"/>\n",
              "  </svg>\n",
              "    </button>\n",
              "    <script>\n",
              "      (() => {\n",
              "      const buttonEl =\n",
              "        document.querySelector('#id_5a1645bb-e75f-490b-b4bc-b7f88b5ad059 button.colab-df-generate');\n",
              "      buttonEl.style.display =\n",
              "        google.colab.kernel.accessAllowed ? 'block' : 'none';\n",
              "\n",
              "      buttonEl.onclick = () => {\n",
              "        google.colab.notebook.generateWithVariable('df');\n",
              "      }\n",
              "      })();\n",
              "    </script>\n",
              "  </div>\n",
              "\n",
              "    </div>\n",
              "  </div>\n"
            ],
            "application/vnd.google.colaboratory.intrinsic+json": {
              "type": "dataframe",
              "variable_name": "df",
              "summary": "{\n  \"name\": \"df\",\n  \"rows\": 76461,\n  \"fields\": [\n    {\n      \"column\": \"title\",\n      \"properties\": {\n        \"dtype\": \"string\",\n        \"num_unique_values\": 74894,\n        \"samples\": [\n          \"India eyes airport in Sri Lanka near Chinese Belt and Road outpost\",\n          \"A peek behind the nrcc fundraising curtain\",\n          \" Trump HUMILIATED As WH Walks Back His Attack After Soldiers Mom Confirms His Insensitive Phone Call\"\n        ],\n        \"semantic_type\": \"\",\n        \"description\": \"\"\n      }\n    },\n    {\n      \"column\": \"text\",\n      \"properties\": {\n        \"dtype\": \"string\",\n        \"num_unique_values\": 76460,\n        \"samples\": [\n          \"If the way Donald Trump reportedly ran the MaraLago resort in Palm Beach is any indication if he wins he will be taking full advantage of every spy agency in his charge just for his own agendaAccording to six former employees at the resort Trump had a telephone console in his room that allowed him to tap into every single phone in the place He often listened in on staff calls but he could also listen in on guest calls although the GOP frontrunner s spokeswoman denies itAccording to Buzzfeed who spoke to six former employees four of whom spoke under the condition of anonymity because of nondisclosure agreements this is indeed true Those four said he listened in from the private room he keeps during the mid2000sThey said he listened in on calls between club employees or in some cases between staff and guests None of them knew of Trump eavesdropping on guests or members talking on private calls with people who were not employees of MaraLago They also said that Trump could eavesdrop only on calls made on the club s landlines and not on calls made from guests  cell phonesEach of these four sources said they personally saw the telephone console which some referred to as a switchboard in Trump s bedroomNone of the four supports Trump s bid for president All said they enjoyed their time working at MaraLagoThe two other employees did not wish to remain anonymous They are Trump s former butler the one who wants Obama killed and Trump s former security director both of whom support Trump s run for president said that the console was only to make phone callsTrump the presumptive Republican nominee is running at a time when Americans are increasingly concerned about surveillance   both by the government and by their employers Some of his own campaign staff feared that their offices in Trump Tower in New York might be bugged the New York Times reported last month Trump has backed the NSA s bulk collection of metadata telling conservative radio host Hugh Hewitt that  I tend to err on the side of security  Trump added  I assume when I pick up my telephone people are listening to my conversations anyway if you want to know the truth If Trump was listening in on guests  calls that was certainly a violation of Florida law The law is less clear on calls involving employees but since both parties in Florida need to be notified if the second party is not an employee that is legally murky at bestThis accusation is frightening I have always been of the opinion that Trump is running for the job of dictator hence his admiration of Putin and Kim Jong Un This does not bode well All I can say is I hope Hillary Clinton s offices are locked down tight or we ll have another Watergate on our handsFeatured image via John Moore at Getty Images\",\n          \"Cbc toronto  november 20 2020 this is not going to end These lockdowns are going to go on forever until these tyrants imposing these measures are held accountable for their crimes What they are doing is criminal I find it impossible to believe that these people cant look at the available data and understand that the coronavirus is no more deadly than the flu All of these socalled health ministers and officials who have been pushing these lockdowns and other freedomdestroying measures need to be arrested put on trial and executed They are guilty of massive crimes against the people of the world\",\n          \"WASHINGTON Reuters  US President Donald Trump said on Friday he wants to see action to fix the flaws he sees in the Iran nuclear deal in a short period of time adding that he could end the deal instantaneously  We ll see what happens over the next short period of time and I can do that instantaneously  Trump told reporters when asked why he did not choose to scrap the deal now  I like a twostep process much better  said Trump who was speaking shortly after he announced he would not certify the 2015 deal aimed at preventing Iran from developing a nuclear bomb in a major shift in US policy \"\n        ],\n        \"semantic_type\": \"\",\n        \"description\": \"\"\n      }\n    },\n    {\n      \"column\": \"label\",\n      \"properties\": {\n        \"dtype\": \"number\",\n        \"std\": 0,\n        \"min\": 0,\n        \"max\": 1,\n        \"num_unique_values\": 2,\n        \"samples\": [\n          1,\n          0\n        ],\n        \"semantic_type\": \"\",\n        \"description\": \"\"\n      }\n    },\n    {\n      \"column\": \"subject\",\n      \"properties\": {\n        \"dtype\": \"category\",\n        \"num_unique_values\": 8,\n        \"samples\": [\n          \"Unknown\",\n          \"left-news\"\n        ],\n        \"semantic_type\": \"\",\n        \"description\": \"\"\n      }\n    },\n    {\n      \"column\": \"text_length\",\n      \"properties\": {\n        \"dtype\": \"number\",\n        \"std\": 3843,\n        \"min\": 2,\n        \"max\": 130309,\n        \"num_unique_values\": 11842,\n        \"samples\": [\n          4603,\n          2804\n        ],\n        \"semantic_type\": \"\",\n        \"description\": \"\"\n      }\n    },\n    {\n      \"column\": \"lemmatized_text\",\n      \"properties\": {\n        \"dtype\": \"string\",\n        \"num_unique_values\": 76246,\n        \"samples\": [\n          \"diplomatic recognition muchneeded infrastructure economic assistance said brahma chellaney professor strategic study centre policy research new delhi opportunistic china certain exploit new opening make strategic inroad mineralrich afghanistan deepen penetration pakistan iran central asia said bitter memory much cheering pakistan india discomfiture turn event said raza ahmad rumi political commentator teach ithaca college new york two country fought three war since became independent nation subcontinent divided jubilation pakistan witnessed social medium tv screen largely linked undoing indian influence conventional policy circle viewed ghanis close link india threat rumi said india bitter memory previous taliban stint power group link pakistan indian airline plane hijacked ultimately landed kandahar southern afghanistan new delhi freed three senior pakistani militant jail exchange return passenger taliban allowed hijacker released prisoner go pakistan position today one adjusting reality play long game afghanistan dont contiguous border stake said jayant prasad former indian ambassador kabul past year taliban emerged dominant force u brokered negotiation began doha indian diplomat opened line group diplomatic source new delhi said talking stakeholder one said want get specific discussion criticism home india put egg basket ghani government united state begun talk taliban new delhi left late rerun still india major economic player attractive taliban looking avoid overdependence china source said india development project every one afghanistan province small big including parliament building kabul built overrun guntoting taliban men sweeping city last week myra macdonald author three book south asia former reuters journalist said taliban takeover setback india game new delhi rerun past everyone going much careful time letting islamist terrorism afghanistan explode pre day plus relative term india much economically stronger pakistan time around senior member taliban told reuters impoverished afghanistan need help country region including iran well united state russia expect help u support people especially health sector especially business sector mining sector said waheedullah hashimi access group decisionmaking job convince accept u\",\n          \"philadelphia cnn grill democratic convention unofficial clubhouse striving medium type see seen nobody expecting see megyn kelly midnight cameo wednesday m kelly star fox news anchor center harassment scandal roiling network caught even jaded journalist nobody spotted m kelly outside secure fox compound week made clear open changing network contract run next year conspicuous sight m kelly hobnobbing cnn honcho like anderson cooper jeff zucker network president seemed calculated set certain class tongue wagging twitter m kelly accompanied burly bodyguard laughed donlemon dared u fox newsers swing cnn grill wrote posting selfie mr lemon cnn anchor thx way appearance m kelly joined fellow fox host dana perino signaled much changed fox since chairman roger ailes deposed fox personality rarely fraternized rival network greta van susteren spotted grill week perhaps new era hand know mr zucker chatting m kelly passed group reporter pretending notice get rumor started mr zucker said laughing walked\"\n        ],\n        \"semantic_type\": \"\",\n        \"description\": \"\"\n      }\n    }\n  ]\n}"
            }
          },
          "metadata": {},
          "execution_count": 4
        }
      ]
    },
    {
      "cell_type": "code",
      "source": [
        "X = df['lemmatized_text'].astype(str)\n",
        "y = df['label']"
      ],
      "metadata": {
        "id": "SwPQC_m5GMrz"
      },
      "execution_count": null,
      "outputs": []
    },
    {
      "cell_type": "code",
      "source": [
        "tokenizer = Tokenizer(num_words=10000)\n",
        "tokenizer.fit_on_texts(X)\n",
        "X = tokenizer.texts_to_sequences(X)"
      ],
      "metadata": {
        "id": "2uATC5MsGTMG"
      },
      "execution_count": null,
      "outputs": []
    },
    {
      "cell_type": "code",
      "source": [
        "import numpy as np\n",
        "y = np.array(y)"
      ],
      "metadata": {
        "id": "azGaQ6_LGda2"
      },
      "execution_count": null,
      "outputs": []
    },
    {
      "cell_type": "code",
      "source": [
        "from tensorflow.keras.preprocessing.sequence import pad_sequences\n",
        "max_sequence_length = 500\n",
        "truncated_sequences = [seq[:max_sequence_length] for seq in X]\n",
        "X = pad_sequences(truncated_sequences, maxlen=max_sequence_length)"
      ],
      "metadata": {
        "id": "iPV6dFXEGYwE"
      },
      "execution_count": null,
      "outputs": []
    },
    {
      "cell_type": "code",
      "source": [
        "model.add(Embedding(input_dim=10000, output_dim=128, input_length=X.shape[1]))"
      ],
      "metadata": {
        "colab": {
          "base_uri": "https://localhost:8080/"
        },
        "id": "wInSSN1qFpLx",
        "outputId": "e42108b2-2d91-4f2f-bdd1-9f8060a3f10f"
      },
      "execution_count": null,
      "outputs": [
        {
          "output_type": "stream",
          "name": "stderr",
          "text": [
            "/usr/local/lib/python3.10/dist-packages/keras/src/layers/core/embedding.py:90: UserWarning: Argument `input_length` is deprecated. Just remove it.\n",
            "  warnings.warn(\n"
          ]
        }
      ]
    },
    {
      "cell_type": "code",
      "source": [
        "model.add(LSTM(units=64, return_sequences=True))\n",
        "model.add(BatchNormalization())\n",
        "model.add(Dropout(0.3))"
      ],
      "metadata": {
        "id": "ymeKNyQWLnfA"
      },
      "execution_count": null,
      "outputs": []
    },
    {
      "cell_type": "code",
      "source": [
        "model.add(LSTM(units=32))\n",
        "model.add(BatchNormalization())\n",
        "model.add(Dropout(0.3))"
      ],
      "metadata": {
        "id": "NVuNT_6ALzsX"
      },
      "execution_count": null,
      "outputs": []
    },
    {
      "cell_type": "code",
      "source": [
        "model.add(Dense(1, activation='sigmoid'))"
      ],
      "metadata": {
        "id": "Jp0lHgDgL3M3"
      },
      "execution_count": null,
      "outputs": []
    },
    {
      "cell_type": "code",
      "source": [
        "model.compile(optimizer='adam', loss='binary_crossentropy', metrics=['accuracy'])"
      ],
      "metadata": {
        "id": "EWxAaMYTL6bv"
      },
      "execution_count": null,
      "outputs": []
    },
    {
      "cell_type": "code",
      "source": [
        "from sklearn.model_selection import train_test_split\n",
        "X_train, X_test, y_train, y_test = train_test_split(X, y, test_size=0.2, random_state=42)"
      ],
      "metadata": {
        "id": "NZrQiJK9MPHI"
      },
      "execution_count": null,
      "outputs": []
    },
    {
      "cell_type": "code",
      "source": [
        "from keras.callbacks import EarlyStopping\n",
        "early_stop = EarlyStopping(monitor='val_loss', patience=3, restore_best_weights=True)"
      ],
      "metadata": {
        "id": "2HA5fQtVL81A"
      },
      "execution_count": null,
      "outputs": []
    },
    {
      "cell_type": "code",
      "source": [
        "model.fit(X_train, y_train, validation_data=(X_test, y_test), epochs=10, batch_size=64, callbacks=[early_stop])"
      ],
      "metadata": {
        "colab": {
          "base_uri": "https://localhost:8080/"
        },
        "id": "628ofLUlL_O5",
        "outputId": "652d4522-e63e-434e-b743-304eb461db0a"
      },
      "execution_count": null,
      "outputs": [
        {
          "output_type": "stream",
          "name": "stdout",
          "text": [
            "Epoch 1/10\n",
            "\u001b[1m956/956\u001b[0m \u001b[32m━━━━━━━━━━━━━━━━━━━━\u001b[0m\u001b[37m\u001b[0m \u001b[1m1101s\u001b[0m 1s/step - accuracy: 0.8171 - loss: 0.4090 - val_accuracy: 0.8990 - val_loss: 0.2406\n",
            "Epoch 2/10\n",
            "\u001b[1m956/956\u001b[0m \u001b[32m━━━━━━━━━━━━━━━━━━━━\u001b[0m\u001b[37m\u001b[0m \u001b[1m1104s\u001b[0m 1s/step - accuracy: 0.9160 - loss: 0.2088 - val_accuracy: 0.9210 - val_loss: 0.1957\n",
            "Epoch 3/10\n",
            "\u001b[1m956/956\u001b[0m \u001b[32m━━━━━━━━━━━━━━━━━━━━\u001b[0m\u001b[37m\u001b[0m \u001b[1m1110s\u001b[0m 1s/step - accuracy: 0.9434 - loss: 0.1503 - val_accuracy: 0.9113 - val_loss: 0.2181\n",
            "Epoch 4/10\n",
            "\u001b[1m956/956\u001b[0m \u001b[32m━━━━━━━━━━━━━━━━━━━━\u001b[0m\u001b[37m\u001b[0m \u001b[1m1123s\u001b[0m 1s/step - accuracy: 0.9629 - loss: 0.1050 - val_accuracy: 0.9176 - val_loss: 0.2242\n",
            "Epoch 5/10\n",
            "\u001b[1m956/956\u001b[0m \u001b[32m━━━━━━━━━━━━━━━━━━━━\u001b[0m\u001b[37m\u001b[0m \u001b[1m1160s\u001b[0m 1s/step - accuracy: 0.9714 - loss: 0.0805 - val_accuracy: 0.9187 - val_loss: 0.2681\n"
          ]
        },
        {
          "output_type": "execute_result",
          "data": {
            "text/plain": [
              "<keras.src.callbacks.history.History at 0x79f2cae5f190>"
            ]
          },
          "metadata": {},
          "execution_count": 23
        }
      ]
    },
    {
      "cell_type": "code",
      "source": [
        "loss, accuracy = model.evaluate(X_test, y_test)\n",
        "print(f\"Test Accuracy: {accuracy * 100:.2f}%\")"
      ],
      "metadata": {
        "colab": {
          "base_uri": "https://localhost:8080/"
        },
        "id": "skshnyoaMA0s",
        "outputId": "d9842543-a953-4104-82b2-e0c94165ad88"
      },
      "execution_count": null,
      "outputs": [
        {
          "output_type": "stream",
          "name": "stdout",
          "text": [
            "\u001b[1m478/478\u001b[0m \u001b[32m━━━━━━━━━━━━━━━━━━━━\u001b[0m\u001b[37m\u001b[0m \u001b[1m71s\u001b[0m 149ms/step - accuracy: 0.9201 - loss: 0.1988\n",
            "Test Accuracy: 92.10%\n"
          ]
        }
      ]
    },
    {
      "cell_type": "code",
      "source": [
        "model.save(r\"/content/drive/MyDrive/Truth_Seeker/lstm_model.h5\")"
      ],
      "metadata": {
        "colab": {
          "base_uri": "https://localhost:8080/"
        },
        "id": "Wisq3o2GMCDp",
        "outputId": "db3fd1f4-9b3f-4a8c-802c-de30076612dc"
      },
      "execution_count": null,
      "outputs": [
        {
          "output_type": "stream",
          "name": "stderr",
          "text": [
            "WARNING:absl:You are saving your model as an HDF5 file via `model.save()` or `keras.saving.save_model(model)`. This file format is considered legacy. We recommend using instead the native Keras format, e.g. `model.save('my_model.keras')` or `keras.saving.save_model(model, 'my_model.keras')`. \n"
          ]
        }
      ]
    }
  ]
}