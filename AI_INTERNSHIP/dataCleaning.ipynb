{
  "nbformat": 4,
  "nbformat_minor": 0,
  "metadata": {
    "colab": {
      "provenance": [],
      "toc_visible": true
    },
    "kernelspec": {
      "name": "python3",
      "display_name": "Python 3"
    },
    "language_info": {
      "name": "python"
    }
  },
  "cells": [
    {
      "cell_type": "code",
      "source": [
        "# Import necessary libraries\n",
        "import pandas as pd\n",
        "\n",
        "# Load datasets\n",
        "fake_data = pd.read_csv('/content/Fake.csv')\n",
        "true_data = pd.read_csv('/content/True.csv')\n",
        "print(\"Fake Data:\")\n",
        "print(fake_data.head())\n",
        "print(\"\\nTrue Data:\")\n",
        "print(true_data.head())"
      ],
      "metadata": {
        "colab": {
          "base_uri": "https://localhost:8080/"
        },
        "id": "0RD8GLEIgznq",
        "outputId": "6108e66b-3982-4a6a-de87-e52de8e9bb54"
      },
      "execution_count": 4,
      "outputs": [
        {
          "output_type": "stream",
          "name": "stdout",
          "text": [
            "Fake Data:\n",
            "                                               title  \\\n",
            "0   Donald Trump Sends Out Embarrassing New Year’...   \n",
            "1   Drunk Bragging Trump Staffer Started Russian ...   \n",
            "2   Sheriff David Clarke Becomes An Internet Joke...   \n",
            "3   Trump Is So Obsessed He Even Has Obama’s Name...   \n",
            "4   Pope Francis Just Called Out Donald Trump Dur...   \n",
            "\n",
            "                                                text subject  \\\n",
            "0  Donald Trump just couldn t wish all Americans ...    News   \n",
            "1  House Intelligence Committee Chairman Devin Nu...    News   \n",
            "2  On Friday, it was revealed that former Milwauk...    News   \n",
            "3  On Christmas day, Donald Trump announced that ...    News   \n",
            "4  Pope Francis used his annual Christmas Day mes...    News   \n",
            "\n",
            "                date  \n",
            "0  December 31, 2017  \n",
            "1  December 31, 2017  \n",
            "2  December 30, 2017  \n",
            "3  December 29, 2017  \n",
            "4  December 25, 2017  \n",
            "\n",
            "True Data:\n",
            "                                               title  \\\n",
            "0  As U.S. budget fight looms, Republicans flip t...   \n",
            "1  U.S. military to accept transgender recruits o...   \n",
            "2  Senior U.S. Republican senator: 'Let Mr. Muell...   \n",
            "3  FBI Russia probe helped by Australian diplomat...   \n",
            "4  Trump wants Postal Service to charge 'much mor...   \n",
            "\n",
            "                                                text       subject  \\\n",
            "0  WASHINGTON (Reuters) - The head of a conservat...  politicsNews   \n",
            "1  WASHINGTON (Reuters) - Transgender people will...  politicsNews   \n",
            "2  WASHINGTON (Reuters) - The special counsel inv...  politicsNews   \n",
            "3  WASHINGTON (Reuters) - Trump campaign adviser ...  politicsNews   \n",
            "4  SEATTLE/WASHINGTON (Reuters) - President Donal...  politicsNews   \n",
            "\n",
            "                 date  \n",
            "0  December 31, 2017   \n",
            "1  December 29, 2017   \n",
            "2  December 31, 2017   \n",
            "3  December 30, 2017   \n",
            "4  December 29, 2017   \n"
          ]
        }
      ]
    },
    {
      "cell_type": "markdown",
      "source": [
        "# Text cleanining into lower case"
      ],
      "metadata": {
        "id": "C4O3ullAmaiB"
      }
    },
    {
      "cell_type": "code",
      "source": [
        "# Import necessary libraries\n",
        "import pandas as pd\n",
        "\n",
        "# Load datasets\n",
        "fake_data = pd.read_csv('/content/Fake.csv')\n",
        "true_data = pd.read_csv('/content/True.csv')\n",
        "\n",
        "# Function to convert all text columns to lowercase\n",
        "def lowercase_text_columns(df):\n",
        "    for column in df.select_dtypes(include='object').columns:\n",
        "        df[column] = df[column].str.lower()\n",
        "    return df\n",
        "\n",
        "# Apply the function to both datasets\n",
        "fake_data_lower = lowercase_text_columns(fake_data)\n",
        "true_data_lower = lowercase_text_columns(true_data)\n",
        "\n",
        "# Save the preprocessed files\n",
        "fake_data_lower.to_csv('Fake_Lowercase.csv', index=False)\n",
        "true_data_lower.to_csv('True_Lowercase.csv', index=False)\n",
        "\n",
        "# Print confirmation\n",
        "print(\"Lowercase conversion complete. Files saved as Fake_Lowercase.csv and True_Lowercase.csv\")\n"
      ],
      "metadata": {
        "colab": {
          "base_uri": "https://localhost:8080/"
        },
        "id": "ZclqcMyPgz0a",
        "outputId": "a7a16ebb-9955-4ddd-c963-7afa3e918692"
      },
      "execution_count": 5,
      "outputs": [
        {
          "output_type": "stream",
          "name": "stdout",
          "text": [
            "Lowercase conversion complete. Files saved as Fake_Lowercase.csv and True_Lowercase.csv\n"
          ]
        }
      ]
    },
    {
      "cell_type": "code",
      "source": [
        "# Import necessary libraries\n",
        "import pandas as pd\n",
        "\n",
        "# Load the preprocessed lowercase dataset\n",
        "fake_data_lower = pd.read_csv('Fake_Lowercase.csv')\n",
        "\n",
        "# Display the first 5 rows\n",
        "print(fake_data_lower.head())\n"
      ],
      "metadata": {
        "colab": {
          "base_uri": "https://localhost:8080/"
        },
        "id": "Jv-dUmG4gzvC",
        "outputId": "10173d3d-dfd2-485c-bf75-0174719ec34c"
      },
      "execution_count": 6,
      "outputs": [
        {
          "output_type": "stream",
          "name": "stdout",
          "text": [
            "                                               title  \\\n",
            "0   donald trump sends out embarrassing new year’...   \n",
            "1   drunk bragging trump staffer started russian ...   \n",
            "2   sheriff david clarke becomes an internet joke...   \n",
            "3   trump is so obsessed he even has obama’s name...   \n",
            "4   pope francis just called out donald trump dur...   \n",
            "\n",
            "                                                text subject  \\\n",
            "0  donald trump just couldn t wish all americans ...    news   \n",
            "1  house intelligence committee chairman devin nu...    news   \n",
            "2  on friday, it was revealed that former milwauk...    news   \n",
            "3  on christmas day, donald trump announced that ...    news   \n",
            "4  pope francis used his annual christmas day mes...    news   \n",
            "\n",
            "                date  \n",
            "0  december 31, 2017  \n",
            "1  december 31, 2017  \n",
            "2  december 30, 2017  \n",
            "3  december 29, 2017  \n",
            "4  december 25, 2017  \n"
          ]
        }
      ]
    },
    {
      "cell_type": "code",
      "source": [
        "# Import necessary libraries\n",
        "import pandas as pd\n",
        "\n",
        "# Load the preprocessed lowercase dataset\n",
        "true_data_lower = pd.read_csv('True_Lowercase.csv')\n",
        "\n",
        "# Display the first 5 rows\n",
        "print(true_data_lower.head())"
      ],
      "metadata": {
        "colab": {
          "base_uri": "https://localhost:8080/"
        },
        "id": "TQDVe9j7ij-6",
        "outputId": "cd035e03-7441-4ecd-f367-7acdd0ba542f"
      },
      "execution_count": 7,
      "outputs": [
        {
          "output_type": "stream",
          "name": "stdout",
          "text": [
            "                                               title  \\\n",
            "0  as u.s. budget fight looms, republicans flip t...   \n",
            "1  u.s. military to accept transgender recruits o...   \n",
            "2  senior u.s. republican senator: 'let mr. muell...   \n",
            "3  fbi russia probe helped by australian diplomat...   \n",
            "4  trump wants postal service to charge 'much mor...   \n",
            "\n",
            "                                                text       subject  \\\n",
            "0  washington (reuters) - the head of a conservat...  politicsnews   \n",
            "1  washington (reuters) - transgender people will...  politicsnews   \n",
            "2  washington (reuters) - the special counsel inv...  politicsnews   \n",
            "3  washington (reuters) - trump campaign adviser ...  politicsnews   \n",
            "4  seattle/washington (reuters) - president donal...  politicsnews   \n",
            "\n",
            "                 date  \n",
            "0  december 31, 2017   \n",
            "1  december 29, 2017   \n",
            "2  december 31, 2017   \n",
            "3  december 30, 2017   \n",
            "4  december 29, 2017   \n"
          ]
        }
      ]
    },
    {
      "cell_type": "markdown",
      "source": [
        "# Text cleaning using re module"
      ],
      "metadata": {
        "id": "RGVxiTylmx5L"
      }
    },
    {
      "cell_type": "code",
      "source": [
        "# Import necessary libraries\n",
        "import pandas as pd\n",
        "import re\n",
        "\n",
        "# Load the datasets\n",
        "true_news = pd.read_csv('/content/True_Lowercase.csv')\n",
        "fake_news = pd.read_csv('/content/Fake_Lowercase.csv')\n",
        "\n",
        "# Define a function to clean text using re module\n",
        "def clean_text(text):\n",
        "    # Remove non-alphabetic characters and numbers\n",
        "    text = re.sub(r'[^a-zA-Z\\s]', '', text)\n",
        "    # Remove extra whitespaces\n",
        "    text = re.sub(r'\\s+', ' ', text).strip()\n",
        "    return text\n",
        "\n",
        "# Apply the function to clean the text column in both datasets\n",
        "true_news['cleaned_text'] = true_news['text'].apply(clean_text)\n",
        "fake_news['cleaned_text'] = fake_news['text'].apply(clean_text)"
      ],
      "metadata": {
        "id": "Hi8a5cWckeQ7"
      },
      "execution_count": 8,
      "outputs": []
    },
    {
      "cell_type": "code",
      "source": [
        "\n",
        "# Display samples of the cleaned data\n",
        "print(\"Cleaned_True_Lowercase:\")\n",
        "print(true_news[['text', 'cleaned_text']].head())\n",
        "\n",
        "print(\"\\nCleaned_Fake_Lowercase.csv:\")\n",
        "print(fake_news[['text', 'cleaned_text']].head())\n",
        "\n",
        "# Save the cleaned datasets for further use\n",
        "true_news.to_csv('Cleaned_True_Lowercase.csv', index=False)\n",
        "fake_news.to_csv('Cleaned_Fake_Lowercase.csv', index=False)\n",
        "\n",
        "# Provide download links for the cleaned files in Colab\n",
        "from google.colab import files\n",
        "files.download('Cleaned_True_Lowercase.csv')\n",
        "files.download('Cleaned_Fake_Lowercase.csv')\n"
      ],
      "metadata": {
        "colab": {
          "base_uri": "https://localhost:8080/",
          "height": 520
        },
        "id": "aeiln61HikLi",
        "outputId": "8ddff0a5-279f-4207-a0f2-e763b406bce2"
      },
      "execution_count": 9,
      "outputs": [
        {
          "output_type": "stream",
          "name": "stdout",
          "text": [
            "Cleaned_True_Lowercase:\n",
            "                                                text  \\\n",
            "0  washington (reuters) - the head of a conservat...   \n",
            "1  washington (reuters) - transgender people will...   \n",
            "2  washington (reuters) - the special counsel inv...   \n",
            "3  washington (reuters) - trump campaign adviser ...   \n",
            "4  seattle/washington (reuters) - president donal...   \n",
            "\n",
            "                                        cleaned_text  \n",
            "0  washington reuters the head of a conservative ...  \n",
            "1  washington reuters transgender people will be ...  \n",
            "2  washington reuters the special counsel investi...  \n",
            "3  washington reuters trump campaign adviser geor...  \n",
            "4  seattlewashington reuters president donald tru...  \n",
            "\n",
            "Cleaned_Fake_Lowercase.csv:\n",
            "                                                text  \\\n",
            "0  donald trump just couldn t wish all americans ...   \n",
            "1  house intelligence committee chairman devin nu...   \n",
            "2  on friday, it was revealed that former milwauk...   \n",
            "3  on christmas day, donald trump announced that ...   \n",
            "4  pope francis used his annual christmas day mes...   \n",
            "\n",
            "                                        cleaned_text  \n",
            "0  donald trump just couldn t wish all americans ...  \n",
            "1  house intelligence committee chairman devin nu...  \n",
            "2  on friday it was revealed that former milwauke...  \n",
            "3  on christmas day donald trump announced that h...  \n",
            "4  pope francis used his annual christmas day mes...  \n"
          ]
        },
        {
          "output_type": "display_data",
          "data": {
            "text/plain": [
              "<IPython.core.display.Javascript object>"
            ],
            "application/javascript": [
              "\n",
              "    async function download(id, filename, size) {\n",
              "      if (!google.colab.kernel.accessAllowed) {\n",
              "        return;\n",
              "      }\n",
              "      const div = document.createElement('div');\n",
              "      const label = document.createElement('label');\n",
              "      label.textContent = `Downloading \"${filename}\": `;\n",
              "      div.appendChild(label);\n",
              "      const progress = document.createElement('progress');\n",
              "      progress.max = size;\n",
              "      div.appendChild(progress);\n",
              "      document.body.appendChild(div);\n",
              "\n",
              "      const buffers = [];\n",
              "      let downloaded = 0;\n",
              "\n",
              "      const channel = await google.colab.kernel.comms.open(id);\n",
              "      // Send a message to notify the kernel that we're ready.\n",
              "      channel.send({})\n",
              "\n",
              "      for await (const message of channel.messages) {\n",
              "        // Send a message to notify the kernel that we're ready.\n",
              "        channel.send({})\n",
              "        if (message.buffers) {\n",
              "          for (const buffer of message.buffers) {\n",
              "            buffers.push(buffer);\n",
              "            downloaded += buffer.byteLength;\n",
              "            progress.value = downloaded;\n",
              "          }\n",
              "        }\n",
              "      }\n",
              "      const blob = new Blob(buffers, {type: 'application/binary'});\n",
              "      const a = document.createElement('a');\n",
              "      a.href = window.URL.createObjectURL(blob);\n",
              "      a.download = filename;\n",
              "      div.appendChild(a);\n",
              "      a.click();\n",
              "      div.remove();\n",
              "    }\n",
              "  "
            ]
          },
          "metadata": {}
        },
        {
          "output_type": "display_data",
          "data": {
            "text/plain": [
              "<IPython.core.display.Javascript object>"
            ],
            "application/javascript": [
              "download(\"download_557a2ba8-fe4f-4497-b19c-e5e30ddef58e\", \"Cleaned_True_Lowercase.csv\", 102718155)"
            ]
          },
          "metadata": {}
        },
        {
          "output_type": "display_data",
          "data": {
            "text/plain": [
              "<IPython.core.display.Javascript object>"
            ],
            "application/javascript": [
              "\n",
              "    async function download(id, filename, size) {\n",
              "      if (!google.colab.kernel.accessAllowed) {\n",
              "        return;\n",
              "      }\n",
              "      const div = document.createElement('div');\n",
              "      const label = document.createElement('label');\n",
              "      label.textContent = `Downloading \"${filename}\": `;\n",
              "      div.appendChild(label);\n",
              "      const progress = document.createElement('progress');\n",
              "      progress.max = size;\n",
              "      div.appendChild(progress);\n",
              "      document.body.appendChild(div);\n",
              "\n",
              "      const buffers = [];\n",
              "      let downloaded = 0;\n",
              "\n",
              "      const channel = await google.colab.kernel.comms.open(id);\n",
              "      // Send a message to notify the kernel that we're ready.\n",
              "      channel.send({})\n",
              "\n",
              "      for await (const message of channel.messages) {\n",
              "        // Send a message to notify the kernel that we're ready.\n",
              "        channel.send({})\n",
              "        if (message.buffers) {\n",
              "          for (const buffer of message.buffers) {\n",
              "            buffers.push(buffer);\n",
              "            downloaded += buffer.byteLength;\n",
              "            progress.value = downloaded;\n",
              "          }\n",
              "        }\n",
              "      }\n",
              "      const blob = new Blob(buffers, {type: 'application/binary'});\n",
              "      const a = document.createElement('a');\n",
              "      a.href = window.URL.createObjectURL(blob);\n",
              "      a.download = filename;\n",
              "      div.appendChild(a);\n",
              "      a.click();\n",
              "      div.remove();\n",
              "    }\n",
              "  "
            ]
          },
          "metadata": {}
        },
        {
          "output_type": "display_data",
          "data": {
            "text/plain": [
              "<IPython.core.display.Javascript object>"
            ],
            "application/javascript": [
              "download(\"download_b170a760-a07c-4940-9adc-bef05100abe3\", \"Cleaned_Fake_Lowercase.csv\", 120408157)"
            ]
          },
          "metadata": {}
        }
      ]
    },
    {
      "cell_type": "markdown",
      "source": [
        "# Text cleaning using stopwords"
      ],
      "metadata": {
        "id": "hyMPW5YOm_IC"
      }
    },
    {
      "cell_type": "code",
      "source": [
        "# Install NLTK if not already installed\n",
        "!pip install nltk\n",
        "\n",
        "# Import necessary libraries\n",
        "import pandas as pd\n",
        "import nltk\n",
        "from nltk.corpus import stopwords\n",
        "import re\n",
        "\n",
        "# Download stopwords\n",
        "nltk.download('stopwords')\n",
        "stop_words = set(stopwords.words('english'))\n",
        "\n",
        "# Define a function to remove stopwords\n",
        "def remove_stopwords(text):\n",
        "    # Check if text is a string before splitting\n",
        "    if isinstance(text, str):\n",
        "        words = text.split()  # Split text into words\n",
        "        filtered_words = [word for word in words if word not in stop_words]  # Remove stopwords\n",
        "        return ' '.join(filtered_words)  # Join words back into text\n",
        "    else:\n",
        "        # Handle non-string values (e.g., return as is or replace with empty string)\n",
        "        return text  # or return \"\"\n",
        "\n",
        "# Load datasets\n",
        "true_news = pd.read_csv('/content/Cleaned_True_Lowercase.csv')\n",
        "fake_news = pd.read_csv('/content/Cleaned_Fake_Lowercase.csv')\n",
        "\n",
        "# Apply stopwords removal\n",
        "true_news['text_no_stopwords'] = true_news['cleaned_text'].apply(remove_stopwords)\n",
        "fake_news['text_no_stopwords'] = fake_news['cleaned_text'].apply(remove_stopwords)"
      ],
      "metadata": {
        "colab": {
          "base_uri": "https://localhost:8080/"
        },
        "id": "gqehOsc8mA3Z",
        "outputId": "4c59d6dc-18f9-4450-a2fa-3d24f9f13aef"
      },
      "execution_count": 10,
      "outputs": [
        {
          "output_type": "stream",
          "name": "stdout",
          "text": [
            "Requirement already satisfied: nltk in /usr/local/lib/python3.10/dist-packages (3.9.1)\n",
            "Requirement already satisfied: click in /usr/local/lib/python3.10/dist-packages (from nltk) (8.1.7)\n",
            "Requirement already satisfied: joblib in /usr/local/lib/python3.10/dist-packages (from nltk) (1.4.2)\n",
            "Requirement already satisfied: regex>=2021.8.3 in /usr/local/lib/python3.10/dist-packages (from nltk) (2024.9.11)\n",
            "Requirement already satisfied: tqdm in /usr/local/lib/python3.10/dist-packages (from nltk) (4.66.6)\n"
          ]
        },
        {
          "output_type": "stream",
          "name": "stderr",
          "text": [
            "[nltk_data] Downloading package stopwords to /root/nltk_data...\n",
            "[nltk_data]   Package stopwords is already up-to-date!\n"
          ]
        }
      ]
    },
    {
      "cell_type": "code",
      "source": [
        "# Display some cleaned data\n",
        "print(\"Sample from True News after Stopwords Removal:\")\n",
        "print(true_news[['cleaned_text', 'text_no_stopwords']].head())\n",
        "\n",
        "print(\"\\nSample from Fake News after Stopwords Removal:\")\n",
        "print(fake_news[['cleaned_text', 'text_no_stopwords']].head())\n",
        "\n",
        "# Save the cleaned data for further use\n",
        "true_news.to_csv('Stopwords_True.csv', index=False)\n",
        "fake_news.to_csv('Stopwords_Fake.csv', index=False)\n",
        "\n",
        "# Download files in Colab\n",
        "from google.colab import files\n",
        "# Download the files that were actually created\n",
        "files.download('Stopwords_True.csv')  # Changed from 'Stopwords_True.csv'\n",
        "files.download('Stopwords_Fake.csv')  # Changed from 'Stopwords_Fake.csv'"
      ],
      "metadata": {
        "colab": {
          "base_uri": "https://localhost:8080/",
          "height": 520
        },
        "id": "ksQ4T1bjmA8q",
        "outputId": "09f8d25b-5458-4364-be24-a20b9d60525c"
      },
      "execution_count": 11,
      "outputs": [
        {
          "output_type": "stream",
          "name": "stdout",
          "text": [
            "Sample from True News after Stopwords Removal:\n",
            "                                        cleaned_text  \\\n",
            "0  washington reuters the head of a conservative ...   \n",
            "1  washington reuters transgender people will be ...   \n",
            "2  washington reuters the special counsel investi...   \n",
            "3  washington reuters trump campaign adviser geor...   \n",
            "4  seattlewashington reuters president donald tru...   \n",
            "\n",
            "                                   text_no_stopwords  \n",
            "0  washington reuters head conservative republica...  \n",
            "1  washington reuters transgender people allowed ...  \n",
            "2  washington reuters special counsel investigati...  \n",
            "3  washington reuters trump campaign adviser geor...  \n",
            "4  seattlewashington reuters president donald tru...  \n",
            "\n",
            "Sample from Fake News after Stopwords Removal:\n",
            "                                        cleaned_text  \\\n",
            "0  donald trump just couldn t wish all americans ...   \n",
            "1  house intelligence committee chairman devin nu...   \n",
            "2  on friday it was revealed that former milwauke...   \n",
            "3  on christmas day donald trump announced that h...   \n",
            "4  pope francis used his annual christmas day mes...   \n",
            "\n",
            "                                   text_no_stopwords  \n",
            "0  donald trump wish americans happy new year lea...  \n",
            "1  house intelligence committee chairman devin nu...  \n",
            "2  friday revealed former milwaukee sheriff david...  \n",
            "3  christmas day donald trump announced would bac...  \n",
            "4  pope francis used annual christmas day message...  \n"
          ]
        },
        {
          "output_type": "display_data",
          "data": {
            "text/plain": [
              "<IPython.core.display.Javascript object>"
            ],
            "application/javascript": [
              "\n",
              "    async function download(id, filename, size) {\n",
              "      if (!google.colab.kernel.accessAllowed) {\n",
              "        return;\n",
              "      }\n",
              "      const div = document.createElement('div');\n",
              "      const label = document.createElement('label');\n",
              "      label.textContent = `Downloading \"${filename}\": `;\n",
              "      div.appendChild(label);\n",
              "      const progress = document.createElement('progress');\n",
              "      progress.max = size;\n",
              "      div.appendChild(progress);\n",
              "      document.body.appendChild(div);\n",
              "\n",
              "      const buffers = [];\n",
              "      let downloaded = 0;\n",
              "\n",
              "      const channel = await google.colab.kernel.comms.open(id);\n",
              "      // Send a message to notify the kernel that we're ready.\n",
              "      channel.send({})\n",
              "\n",
              "      for await (const message of channel.messages) {\n",
              "        // Send a message to notify the kernel that we're ready.\n",
              "        channel.send({})\n",
              "        if (message.buffers) {\n",
              "          for (const buffer of message.buffers) {\n",
              "            buffers.push(buffer);\n",
              "            downloaded += buffer.byteLength;\n",
              "            progress.value = downloaded;\n",
              "          }\n",
              "        }\n",
              "      }\n",
              "      const blob = new Blob(buffers, {type: 'application/binary'});\n",
              "      const a = document.createElement('a');\n",
              "      a.href = window.URL.createObjectURL(blob);\n",
              "      a.download = filename;\n",
              "      div.appendChild(a);\n",
              "      a.click();\n",
              "      div.remove();\n",
              "    }\n",
              "  "
            ]
          },
          "metadata": {}
        },
        {
          "output_type": "display_data",
          "data": {
            "text/plain": [
              "<IPython.core.display.Javascript object>"
            ],
            "application/javascript": [
              "download(\"download_de76717d-b989-4ea6-a195-a32eb1dee13a\", \"Stopwords_True.csv\", 139558906)"
            ]
          },
          "metadata": {}
        },
        {
          "output_type": "display_data",
          "data": {
            "text/plain": [
              "<IPython.core.display.Javascript object>"
            ],
            "application/javascript": [
              "\n",
              "    async function download(id, filename, size) {\n",
              "      if (!google.colab.kernel.accessAllowed) {\n",
              "        return;\n",
              "      }\n",
              "      const div = document.createElement('div');\n",
              "      const label = document.createElement('label');\n",
              "      label.textContent = `Downloading \"${filename}\": `;\n",
              "      div.appendChild(label);\n",
              "      const progress = document.createElement('progress');\n",
              "      progress.max = size;\n",
              "      div.appendChild(progress);\n",
              "      document.body.appendChild(div);\n",
              "\n",
              "      const buffers = [];\n",
              "      let downloaded = 0;\n",
              "\n",
              "      const channel = await google.colab.kernel.comms.open(id);\n",
              "      // Send a message to notify the kernel that we're ready.\n",
              "      channel.send({})\n",
              "\n",
              "      for await (const message of channel.messages) {\n",
              "        // Send a message to notify the kernel that we're ready.\n",
              "        channel.send({})\n",
              "        if (message.buffers) {\n",
              "          for (const buffer of message.buffers) {\n",
              "            buffers.push(buffer);\n",
              "            downloaded += buffer.byteLength;\n",
              "            progress.value = downloaded;\n",
              "          }\n",
              "        }\n",
              "      }\n",
              "      const blob = new Blob(buffers, {type: 'application/binary'});\n",
              "      const a = document.createElement('a');\n",
              "      a.href = window.URL.createObjectURL(blob);\n",
              "      a.download = filename;\n",
              "      div.appendChild(a);\n",
              "      a.click();\n",
              "      div.remove();\n",
              "    }\n",
              "  "
            ]
          },
          "metadata": {}
        },
        {
          "output_type": "display_data",
          "data": {
            "text/plain": [
              "<IPython.core.display.Javascript object>"
            ],
            "application/javascript": [
              "download(\"download_20ee1114-a883-49b1-b22a-a9125df348db\", \"Stopwords_Fake.csv\", 161308895)"
            ]
          },
          "metadata": {}
        }
      ]
    },
    {
      "cell_type": "markdown",
      "source": [
        "# **Tokenization**"
      ],
      "metadata": {
        "id": "4nHrIdhQLXwj"
      }
    },
    {
      "source": [
        "# Import necessary libraries\n",
        "from nltk.tokenize import word_tokenize\n",
        "\n",
        "# Download the punkt tokenizer model, and make sure to also download 'punkt_tab'\n",
        "import nltk\n",
        "nltk.download('punkt')\n",
        "nltk.download('punkt_tab')\n",
        "\n",
        "# Load the cleaned datasets with stopwords removed\n",
        "true_news_cleaned = pd.read_csv('/content/Stopwords_True.csv')\n",
        "fake_news_cleaned = pd.read_csv('/content/Stopwords_Fake.csv')\n",
        "\n",
        "# Define a function to tokenize text\n",
        "def tokenize_text(text):\n",
        "    if isinstance(text, str):\n",
        "        return word_tokenize(text)  # Tokenize text into words\n",
        "    else:\n",
        "        return []  # Return an empty list for non-string values\n",
        "\n",
        "# Apply tokenization to the stopword-removed text\n",
        "true_news_cleaned['tokens'] = true_news_cleaned['text_no_stopwords'].apply(tokenize_text)\n",
        "fake_news_cleaned['tokens'] = fake_news_cleaned['text_no_stopwords'].apply(tokenize_text)\n",
        "\n",
        "# Display tokenized samples\n",
        "print(\"\\nSample Tokens from True News:\")\n",
        "print(true_news_cleaned[['text_no_stopwords', 'tokens']].head())\n",
        "\n",
        "print(\"\\nSample Tokens from Fake News:\")\n",
        "print(fake_news_cleaned[['text_no_stopwords', 'tokens']].head())\n",
        "\n",
        "# Save the tokenized data\n",
        "true_news_cleaned.to_csv('Tokenized_True.csv', index=False)\n",
        "fake_news_cleaned.to_csv('Tokenized_Fake.csv', index=False)\n",
        "\n",
        "# Download the tokenized files in Colab\n",
        "from google.colab import files  # Make sure to import files if it's not already imported\n",
        "# Download the files that were actually created\n",
        "files.download('Tokenized_True.csv')  # Changed from 'True_Tokenized.csv' to 'Tokenized_True.csv'\n",
        "files.download('Tokenized_Fake.csv')  # Changed from 'Fake_Tokenized.csv' to 'Tokenized_Fake.csv'"
      ],
      "cell_type": "code",
      "metadata": {
        "colab": {
          "base_uri": "https://localhost:8080/",
          "height": 607
        },
        "collapsed": true,
        "id": "DQK8D3bsKlw_",
        "outputId": "5e53f992-0e28-44aa-a534-32bc77087e8b"
      },
      "execution_count": 19,
      "outputs": [
        {
          "output_type": "stream",
          "name": "stderr",
          "text": [
            "[nltk_data] Downloading package punkt to /root/nltk_data...\n",
            "[nltk_data]   Package punkt is already up-to-date!\n",
            "[nltk_data] Downloading package punkt_tab to /root/nltk_data...\n",
            "[nltk_data]   Package punkt_tab is already up-to-date!\n"
          ]
        },
        {
          "output_type": "stream",
          "name": "stdout",
          "text": [
            "\n",
            "Sample Tokens from True News:\n",
            "                                   text_no_stopwords  \\\n",
            "0  washington reuters head conservative republica...   \n",
            "1  washington reuters transgender people allowed ...   \n",
            "2  washington reuters special counsel investigati...   \n",
            "3  washington reuters trump campaign adviser geor...   \n",
            "4  seattlewashington reuters president donald tru...   \n",
            "\n",
            "                                              tokens  \n",
            "0  [washington, reuters, head, conservative, repu...  \n",
            "1  [washington, reuters, transgender, people, all...  \n",
            "2  [washington, reuters, special, counsel, invest...  \n",
            "3  [washington, reuters, trump, campaign, adviser...  \n",
            "4  [seattlewashington, reuters, president, donald...  \n",
            "\n",
            "Sample Tokens from Fake News:\n",
            "                                   text_no_stopwords  \\\n",
            "0  donald trump wish americans happy new year lea...   \n",
            "1  house intelligence committee chairman devin nu...   \n",
            "2  friday revealed former milwaukee sheriff david...   \n",
            "3  christmas day donald trump announced would bac...   \n",
            "4  pope francis used annual christmas day message...   \n",
            "\n",
            "                                              tokens  \n",
            "0  [donald, trump, wish, americans, happy, new, y...  \n",
            "1  [house, intelligence, committee, chairman, dev...  \n",
            "2  [friday, revealed, former, milwaukee, sheriff,...  \n",
            "3  [christmas, day, donald, trump, announced, wou...  \n",
            "4  [pope, francis, used, annual, christmas, day, ...  \n"
          ]
        },
        {
          "output_type": "display_data",
          "data": {
            "text/plain": [
              "<IPython.core.display.Javascript object>"
            ],
            "application/javascript": [
              "\n",
              "    async function download(id, filename, size) {\n",
              "      if (!google.colab.kernel.accessAllowed) {\n",
              "        return;\n",
              "      }\n",
              "      const div = document.createElement('div');\n",
              "      const label = document.createElement('label');\n",
              "      label.textContent = `Downloading \"${filename}\": `;\n",
              "      div.appendChild(label);\n",
              "      const progress = document.createElement('progress');\n",
              "      progress.max = size;\n",
              "      div.appendChild(progress);\n",
              "      document.body.appendChild(div);\n",
              "\n",
              "      const buffers = [];\n",
              "      let downloaded = 0;\n",
              "\n",
              "      const channel = await google.colab.kernel.comms.open(id);\n",
              "      // Send a message to notify the kernel that we're ready.\n",
              "      channel.send({})\n",
              "\n",
              "      for await (const message of channel.messages) {\n",
              "        // Send a message to notify the kernel that we're ready.\n",
              "        channel.send({})\n",
              "        if (message.buffers) {\n",
              "          for (const buffer of message.buffers) {\n",
              "            buffers.push(buffer);\n",
              "            downloaded += buffer.byteLength;\n",
              "            progress.value = downloaded;\n",
              "          }\n",
              "        }\n",
              "      }\n",
              "      const blob = new Blob(buffers, {type: 'application/binary'});\n",
              "      const a = document.createElement('a');\n",
              "      a.href = window.URL.createObjectURL(blob);\n",
              "      a.download = filename;\n",
              "      div.appendChild(a);\n",
              "      a.click();\n",
              "      div.remove();\n",
              "    }\n",
              "  "
            ]
          },
          "metadata": {}
        },
        {
          "output_type": "display_data",
          "data": {
            "text/plain": [
              "<IPython.core.display.Javascript object>"
            ],
            "application/javascript": [
              "download(\"download_e6a3ad3d-f828-44f2-8f5f-0a48ac984737\", \"Tokenized_True.csv\", 191033133)"
            ]
          },
          "metadata": {}
        },
        {
          "output_type": "display_data",
          "data": {
            "text/plain": [
              "<IPython.core.display.Javascript object>"
            ],
            "application/javascript": [
              "\n",
              "    async function download(id, filename, size) {\n",
              "      if (!google.colab.kernel.accessAllowed) {\n",
              "        return;\n",
              "      }\n",
              "      const div = document.createElement('div');\n",
              "      const label = document.createElement('label');\n",
              "      label.textContent = `Downloading \"${filename}\": `;\n",
              "      div.appendChild(label);\n",
              "      const progress = document.createElement('progress');\n",
              "      progress.max = size;\n",
              "      div.appendChild(progress);\n",
              "      document.body.appendChild(div);\n",
              "\n",
              "      const buffers = [];\n",
              "      let downloaded = 0;\n",
              "\n",
              "      const channel = await google.colab.kernel.comms.open(id);\n",
              "      // Send a message to notify the kernel that we're ready.\n",
              "      channel.send({})\n",
              "\n",
              "      for await (const message of channel.messages) {\n",
              "        // Send a message to notify the kernel that we're ready.\n",
              "        channel.send({})\n",
              "        if (message.buffers) {\n",
              "          for (const buffer of message.buffers) {\n",
              "            buffers.push(buffer);\n",
              "            downloaded += buffer.byteLength;\n",
              "            progress.value = downloaded;\n",
              "          }\n",
              "        }\n",
              "      }\n",
              "      const blob = new Blob(buffers, {type: 'application/binary'});\n",
              "      const a = document.createElement('a');\n",
              "      a.href = window.URL.createObjectURL(blob);\n",
              "      a.download = filename;\n",
              "      div.appendChild(a);\n",
              "      a.click();\n",
              "      div.remove();\n",
              "    }\n",
              "  "
            ]
          },
          "metadata": {}
        },
        {
          "output_type": "display_data",
          "data": {
            "text/plain": [
              "<IPython.core.display.Javascript object>"
            ],
            "application/javascript": [
              "download(\"download_90298a98-3cd9-4a82-bb97-bb269d9d3ebf\", \"Tokenized_Fake.csv\", 218544723)"
            ]
          },
          "metadata": {}
        }
      ]
    },
    {
      "cell_type": "markdown",
      "source": [
        "**Stemming**"
      ],
      "metadata": {
        "id": "HkXHNCRcLV14"
      }
    },
    {
      "cell_type": "code",
      "source": [
        "# Import necessary libraries\n",
        "import pandas as pd\n",
        "\n",
        "# Load the tokenized datasets\n",
        "true_news_tokenized = pd.read_csv('/content/Tokenized_True.csv')\n",
        "fake_news_tokenized = pd.read_csv('/content/Tokenized_Fake.csv')\n",
        "\n",
        "# Define a function to reconstruct text from tokens\n",
        "def add_punctuation(tokens):\n",
        "    if isinstance(tokens, str):\n",
        "        # Convert string representation of list back to Python list\n",
        "        tokens = eval(tokens)  # Ensure the input is properly formatted as a list\n",
        "        return ' '.join(tokens)  # Join tokens with spaces to reconstruct text\n",
        "    else:\n",
        "        return \"\"  # Handle non-string cases\n",
        "\n",
        "# Apply the punctuation-adding function to the tokenized data\n",
        "true_news_tokenized['reconstructed_text'] = true_news_tokenized['tokens'].apply(add_punctuation)\n",
        "fake_news_tokenized['reconstructed_text'] = fake_news_tokenized['tokens'].apply(add_punctuation)\n",
        "\n",
        "# Display samples to verify results\n",
        "print(\"Sample Reconstructed Text from True News:\")\n",
        "print(true_news_tokenized[['tokens', 'reconstructed_text']].head())\n",
        "\n",
        "print(\"\\nSample Reconstructed Text from Fake News:\")\n",
        "print(fake_news_tokenized[['tokens', 'reconstructed_text']].head())\n",
        "\n",
        "# Save the datasets with reconstructed text\n",
        "true_news_tokenized.to_csv('Reconstructed_True.csv', index=False)\n",
        "fake_news_tokenized.to_csv('Reconstructed_Fake.csv', index=False)\n",
        "\n",
        "# Download the files in Colab\n",
        "from google.colab import files\n",
        "files.download('Reconstructed_True.csv')\n",
        "files.download('Reconstructed_Fake.csv')\n"
      ],
      "metadata": {
        "colab": {
          "base_uri": "https://localhost:8080/",
          "height": 520
        },
        "id": "9O0-4QUFMPix",
        "outputId": "a4c2721e-4a7d-4dd9-9aad-17d85d186025"
      },
      "execution_count": 24,
      "outputs": [
        {
          "output_type": "stream",
          "name": "stdout",
          "text": [
            "Sample Reconstructed Text from True News:\n",
            "                                              tokens  \\\n",
            "0  ['washington', 'reuters', 'head', 'conservativ...   \n",
            "1  ['washington', 'reuters', 'transgender', 'peop...   \n",
            "2  ['washington', 'reuters', 'special', 'counsel'...   \n",
            "3  ['washington', 'reuters', 'trump', 'campaign',...   \n",
            "4  ['seattlewashington', 'reuters', 'president', ...   \n",
            "\n",
            "                                  reconstructed_text  \n",
            "0  washington reuters head conservative republica...  \n",
            "1  washington reuters transgender people allowed ...  \n",
            "2  washington reuters special counsel investigati...  \n",
            "3  washington reuters trump campaign adviser geor...  \n",
            "4  seattlewashington reuters president donald tru...  \n",
            "\n",
            "Sample Reconstructed Text from Fake News:\n",
            "                                              tokens  \\\n",
            "0  ['donald', 'trump', 'wish', 'americans', 'happ...   \n",
            "1  ['house', 'intelligence', 'committee', 'chairm...   \n",
            "2  ['friday', 'revealed', 'former', 'milwaukee', ...   \n",
            "3  ['christmas', 'day', 'donald', 'trump', 'annou...   \n",
            "4  ['pope', 'francis', 'used', 'annual', 'christm...   \n",
            "\n",
            "                                  reconstructed_text  \n",
            "0  donald trump wish americans happy new year lea...  \n",
            "1  house intelligence committee chairman devin nu...  \n",
            "2  friday revealed former milwaukee sheriff david...  \n",
            "3  christmas day donald trump announced would bac...  \n",
            "4  pope francis used annual christmas day message...  \n"
          ]
        },
        {
          "output_type": "display_data",
          "data": {
            "text/plain": [
              "<IPython.core.display.Javascript object>"
            ],
            "application/javascript": [
              "\n",
              "    async function download(id, filename, size) {\n",
              "      if (!google.colab.kernel.accessAllowed) {\n",
              "        return;\n",
              "      }\n",
              "      const div = document.createElement('div');\n",
              "      const label = document.createElement('label');\n",
              "      label.textContent = `Downloading \"${filename}\": `;\n",
              "      div.appendChild(label);\n",
              "      const progress = document.createElement('progress');\n",
              "      progress.max = size;\n",
              "      div.appendChild(progress);\n",
              "      document.body.appendChild(div);\n",
              "\n",
              "      const buffers = [];\n",
              "      let downloaded = 0;\n",
              "\n",
              "      const channel = await google.colab.kernel.comms.open(id);\n",
              "      // Send a message to notify the kernel that we're ready.\n",
              "      channel.send({})\n",
              "\n",
              "      for await (const message of channel.messages) {\n",
              "        // Send a message to notify the kernel that we're ready.\n",
              "        channel.send({})\n",
              "        if (message.buffers) {\n",
              "          for (const buffer of message.buffers) {\n",
              "            buffers.push(buffer);\n",
              "            downloaded += buffer.byteLength;\n",
              "            progress.value = downloaded;\n",
              "          }\n",
              "        }\n",
              "      }\n",
              "      const blob = new Blob(buffers, {type: 'application/binary'});\n",
              "      const a = document.createElement('a');\n",
              "      a.href = window.URL.createObjectURL(blob);\n",
              "      a.download = filename;\n",
              "      div.appendChild(a);\n",
              "      a.click();\n",
              "      div.remove();\n",
              "    }\n",
              "  "
            ]
          },
          "metadata": {}
        },
        {
          "output_type": "display_data",
          "data": {
            "text/plain": [
              "<IPython.core.display.Javascript object>"
            ],
            "application/javascript": [
              "download(\"download_cb813136-2013-4fb5-9e43-55eeb3f4d2b5\", \"Reconstructed_True.csv\", 227875377)"
            ]
          },
          "metadata": {}
        },
        {
          "output_type": "display_data",
          "data": {
            "text/plain": [
              "<IPython.core.display.Javascript object>"
            ],
            "application/javascript": [
              "\n",
              "    async function download(id, filename, size) {\n",
              "      if (!google.colab.kernel.accessAllowed) {\n",
              "        return;\n",
              "      }\n",
              "      const div = document.createElement('div');\n",
              "      const label = document.createElement('label');\n",
              "      label.textContent = `Downloading \"${filename}\": `;\n",
              "      div.appendChild(label);\n",
              "      const progress = document.createElement('progress');\n",
              "      progress.max = size;\n",
              "      div.appendChild(progress);\n",
              "      document.body.appendChild(div);\n",
              "\n",
              "      const buffers = [];\n",
              "      let downloaded = 0;\n",
              "\n",
              "      const channel = await google.colab.kernel.comms.open(id);\n",
              "      // Send a message to notify the kernel that we're ready.\n",
              "      channel.send({})\n",
              "\n",
              "      for await (const message of channel.messages) {\n",
              "        // Send a message to notify the kernel that we're ready.\n",
              "        channel.send({})\n",
              "        if (message.buffers) {\n",
              "          for (const buffer of message.buffers) {\n",
              "            buffers.push(buffer);\n",
              "            downloaded += buffer.byteLength;\n",
              "            progress.value = downloaded;\n",
              "          }\n",
              "        }\n",
              "      }\n",
              "      const blob = new Blob(buffers, {type: 'application/binary'});\n",
              "      const a = document.createElement('a');\n",
              "      a.href = window.URL.createObjectURL(blob);\n",
              "      a.download = filename;\n",
              "      div.appendChild(a);\n",
              "      a.click();\n",
              "      div.remove();\n",
              "    }\n",
              "  "
            ]
          },
          "metadata": {}
        },
        {
          "output_type": "display_data",
          "data": {
            "text/plain": [
              "<IPython.core.display.Javascript object>"
            ],
            "application/javascript": [
              "download(\"download_b1314618-d493-4fe8-bc76-7f95f5ec8029\", \"Reconstructed_Fake.csv\", 259448346)"
            ]
          },
          "metadata": {}
        }
      ]
    }
  ]
}